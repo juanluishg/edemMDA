{
 "cells": [
  {
   "cell_type": "markdown",
   "metadata": {
    "id": "brrwYDeY8r1q"
   },
   "source": [
    "# Imports"
   ]
  },
  {
   "cell_type": "code",
   "execution_count": 1,
   "metadata": {
    "id": "Imp5u9o58r1y"
   },
   "outputs": [
    {
     "name": "stderr",
     "output_type": "stream",
     "text": [
      "c:\\users\\juanl\\appdata\\local\\programs\\python\\python38\\lib\\site-packages\\numpy\\_distributor_init.py:30: UserWarning: loaded more than 1 DLL from .libs:\n",
      "c:\\users\\juanl\\appdata\\local\\programs\\python\\python38\\lib\\site-packages\\numpy\\.libs\\libopenblas.JPIJNSWNNAN3CE6LLI5FWSPHUT2VXMTH.gfortran-win_amd64.dll\n",
      "c:\\users\\juanl\\appdata\\local\\programs\\python\\python38\\lib\\site-packages\\numpy\\.libs\\libopenblas.WCDJNK7YVMPZQ2ME2ZZHJJRJ3JIKNDB7.gfortran-win_amd64.dll\n",
      "  warnings.warn(\"loaded more than 1 DLL from .libs:\"\n"
     ]
    }
   ],
   "source": [
    "%matplotlib inline\n",
    "import matplotlib.pyplot as plt\n",
    "import keras\n",
    "from keras.datasets import mnist\n",
    "from keras.models import Sequential\n",
    "from keras.layers import Dense, Dropout\n",
    "from keras.optimizers import RMSprop\n",
    "from keras.layers.advanced_activations import LeakyReLU"
   ]
  },
  {
   "cell_type": "markdown",
   "metadata": {
    "collapsed": true,
    "id": "V8s6T3dV8r1z"
   },
   "source": [
    "# Load the data\n"
   ]
  },
  {
   "cell_type": "code",
   "execution_count": 2,
   "metadata": {
    "id": "AcahXhQe8r1z"
   },
   "outputs": [
    {
     "name": "stdout",
     "output_type": "stream",
     "text": [
      "Downloading data from https://storage.googleapis.com/tensorflow/tf-keras-datasets/mnist.npz\n",
      "11493376/11490434 [==============================] - 19s 2us/step\n",
      "Train size: 60000\n",
      "Test size: 10000\n"
     ]
    }
   ],
   "source": [
    "(x_train, y_train), (x_test, y_test) = mnist.load_data()\n",
    "\n",
    "num_classes = 10\n",
    "x_train = x_train.reshape(60000, 784)\n",
    "x_test = x_test.reshape(10000, 784)\n",
    "x_train = x_train.astype('float32')\n",
    "x_test = x_test.astype('float32')\n",
    "x_train /= 255\n",
    "x_test /= 255\n",
    "y_train = keras.utils.to_categorical(y_train, num_classes)\n",
    "y_test = keras.utils.to_categorical(y_test, num_classes)\n",
    "\n",
    "\n",
    "print('Train size:', x_train.shape[0])\n",
    "print('Test size:', x_test.shape[0])"
   ]
  },
  {
   "cell_type": "markdown",
   "metadata": {
    "collapsed": true,
    "id": "YtrLcJVM8r10"
   },
   "source": [
    "# Build the network "
   ]
  },
  {
   "cell_type": "code",
   "execution_count": 3,
   "metadata": {
    "id": "Hc3DJiMW8r11"
   },
   "outputs": [
    {
     "name": "stdout",
     "output_type": "stream",
     "text": [
      "dense (None, 784) ==> (None, 512)\n",
      "dense_1 (None, 512) ==> (None, 10)\n",
      "Model: \"sequential\"\n",
      "_________________________________________________________________\n",
      "Layer (type)                 Output Shape              Param #   \n",
      "=================================================================\n",
      "dense (Dense)                (None, 512)               401920    \n",
      "_________________________________________________________________\n",
      "dense_1 (Dense)              (None, 10)                5130      \n",
      "=================================================================\n",
      "Total params: 407,050\n",
      "Trainable params: 407,050\n",
      "Non-trainable params: 0\n",
      "_________________________________________________________________\n",
      "None\n"
     ]
    }
   ],
   "source": [
    "model = Sequential()\n",
    "model.add(Dense(512, activation='relu', input_shape=(784,)))\n",
    "model.add(Dense(num_classes, activation='softmax'))\n",
    "\n",
    "for l in model.layers:\n",
    "    print(l.name, l.input_shape,'==>', l.output_shape)\n",
    "\n",
    "print(model.summary())"
   ]
  },
  {
   "cell_type": "markdown",
   "metadata": {
    "id": "fwF6MSk_8r11"
   },
   "source": [
    "# Train the network"
   ]
  },
  {
   "cell_type": "code",
   "execution_count": 5,
   "metadata": {
    "id": "wD2484rY8r12"
   },
   "outputs": [
    {
     "name": "stdout",
     "output_type": "stream",
     "text": [
      "Epoch 1/5\n",
      "469/469 [==============================] - 5s 10ms/step - loss: 0.4290 - accuracy: 0.8758 - val_loss: 0.1317 - val_accuracy: 0.9620\n",
      "Epoch 2/5\n",
      "469/469 [==============================] - 3s 7ms/step - loss: 0.1140 - accuracy: 0.9667 - val_loss: 0.0908 - val_accuracy: 0.9722\n",
      "Epoch 3/5\n",
      "469/469 [==============================] - 3s 7ms/step - loss: 0.0706 - accuracy: 0.9796 - val_loss: 0.0752 - val_accuracy: 0.9774\n",
      "Epoch 4/5\n",
      "469/469 [==============================] - 3s 7ms/step - loss: 0.0486 - accuracy: 0.9859 - val_loss: 0.0667 - val_accuracy: 0.9796\n",
      "Epoch 5/5\n",
      "469/469 [==============================] - 4s 8ms/step - loss: 0.0357 - accuracy: 0.9898 - val_loss: 0.0624 - val_accuracy: 0.9816\n",
      "Test loss: 0.062\n",
      "Test accuracy: 0.982\n"
     ]
    },
    {
     "data": {
      "text/plain": [
       "<matplotlib.legend.Legend at 0x210be8797c0>"
      ]
     },
     "execution_count": 5,
     "metadata": {},
     "output_type": "execute_result"
    },
    {
     "data": {
      "image/png": "[encoded data removed]",
      "text/plain": [
       "<Figure size 432x288 with 1 Axes>"
      ]
     },
     "metadata": {
      "needs_background": "light"
     },
     "output_type": "display_data"
    }
   ],
   "source": [
    "batch_size = 128\n",
    "epochs = 5\n",
    "\n",
    "model.compile(loss='categorical_crossentropy',\n",
    "              optimizer=RMSprop(),\n",
    "              metrics=['accuracy'])\n",
    "    \n",
    "history = model.fit(x_train, y_train,\n",
    "                    batch_size=batch_size,\n",
    "                    epochs=epochs,\n",
    "                    verbose=1,\n",
    "                    validation_data=(x_test, y_test))\n",
    "\n",
    "score = model.evaluate(x_test, y_test, verbose=100)\n",
    "\n",
    "print('Test loss:', round(score[0], 3))\n",
    "print('Test accuracy:', round(score[1], 3))\n",
    "plt.plot(history.history['loss'])\n",
    "plt.plot(history.history['val_loss'])\n",
    "plt.title('model loss')\n",
    "plt.ylabel('loss')\n",
    "plt.xlabel('epoch')\n",
    "plt.legend(['train', 'test'], loc='upper left')"
   ]
  },
  {
   "cell_type": "markdown",
   "metadata": {
    "id": "KPOmpuBl8r12"
   },
   "source": [
    "# Build networks using all activations"
   ]
  },
  {
   "cell_type": "code",
   "execution_count": 6,
   "metadata": {
    "id": "l1ScOnZp8r13",
    "scrolled": true
   },
   "outputs": [
    {
     "name": "stdout",
     "output_type": "stream",
     "text": [
      "Epoch 1/20\n",
      "469/469 [==============================] - 4s 7ms/step - loss: 0.5042 - acc: 0.8480 - val_loss: 0.3072 - val_acc: 0.9148\n",
      "Epoch 2/20\n",
      "469/469 [==============================] - 3s 7ms/step - loss: 0.3078 - acc: 0.9134 - val_loss: 0.3311 - val_acc: 0.9055\n",
      "Epoch 3/20\n",
      "469/469 [==============================] - 3s 7ms/step - loss: 0.2982 - acc: 0.9180 - val_loss: 0.2908 - val_acc: 0.9181\n",
      "Epoch 4/20\n",
      "469/469 [==============================] - 4s 8ms/step - loss: 0.2795 - acc: 0.9203 - val_loss: 0.2816 - val_acc: 0.9228\n",
      "Epoch 5/20\n",
      "469/469 [==============================] - 3s 7ms/step - loss: 0.2793 - acc: 0.9208 - val_loss: 0.2832 - val_acc: 0.9217\n",
      "Epoch 6/20\n",
      "469/469 [==============================] - 3s 7ms/step - loss: 0.2785 - acc: 0.9209 - val_loss: 0.2982 - val_acc: 0.9161\n",
      "Epoch 7/20\n",
      "469/469 [==============================] - 3s 7ms/step - loss: 0.2733 - acc: 0.9243 - val_loss: 0.2965 - val_acc: 0.9203\n",
      "Epoch 8/20\n",
      "469/469 [==============================] - 3s 7ms/step - loss: 0.2721 - acc: 0.9240 - val_loss: 0.3005 - val_acc: 0.9160\n",
      "Epoch 9/20\n",
      "469/469 [==============================] - 3s 7ms/step - loss: 0.2629 - acc: 0.9262 - val_loss: 0.3004 - val_acc: 0.9113\n",
      "Epoch 10/20\n",
      "469/469 [==============================] - 3s 7ms/step - loss: 0.2591 - acc: 0.9261 - val_loss: 0.2957 - val_acc: 0.9176\n",
      "Epoch 11/20\n",
      "469/469 [==============================] - 3s 7ms/step - loss: 0.2636 - acc: 0.9254 - val_loss: 0.2824 - val_acc: 0.9243\n",
      "Epoch 12/20\n",
      "469/469 [==============================] - 3s 7ms/step - loss: 0.2683 - acc: 0.9256 - val_loss: 0.2886 - val_acc: 0.9198\n",
      "Epoch 13/20\n",
      "469/469 [==============================] - 3s 7ms/step - loss: 0.2583 - acc: 0.9283 - val_loss: 0.2871 - val_acc: 0.9248\n",
      "Epoch 14/20\n",
      "469/469 [==============================] - 3s 7ms/step - loss: 0.2597 - acc: 0.9289 - val_loss: 0.2857 - val_acc: 0.9189\n",
      "Epoch 15/20\n",
      "469/469 [==============================] - 3s 7ms/step - loss: 0.2601 - acc: 0.9260 - val_loss: 0.2854 - val_acc: 0.9219\n",
      "Epoch 16/20\n",
      "469/469 [==============================] - 3s 7ms/step - loss: 0.2665 - acc: 0.9250 - val_loss: 0.2918 - val_acc: 0.9221\n",
      "Epoch 17/20\n",
      "469/469 [==============================] - 3s 7ms/step - loss: 0.2617 - acc: 0.9259 - val_loss: 0.2954 - val_acc: 0.9223\n",
      "Epoch 18/20\n",
      "469/469 [==============================] - 3s 7ms/step - loss: 0.2533 - acc: 0.9309 - val_loss: 0.3014 - val_acc: 0.9193\n",
      "Epoch 19/20\n",
      "469/469 [==============================] - 3s 6ms/step - loss: 0.2535 - acc: 0.9300 - val_loss: 0.3193 - val_acc: 0.9086\n",
      "Epoch 20/20\n",
      "469/469 [==============================] - 3s 7ms/step - loss: 0.2528 - acc: 0.9301 - val_loss: 0.2868 - val_acc: 0.9232\n",
      "Epoch 1/20\n",
      "469/469 [==============================] - 4s 7ms/step - loss: 0.6722 - acc: 0.8260 - val_loss: 0.2644 - val_acc: 0.9235\n",
      "Epoch 2/20\n",
      "469/469 [==============================] - 3s 6ms/step - loss: 0.2541 - acc: 0.9277 - val_loss: 0.1966 - val_acc: 0.9420\n",
      "Epoch 3/20\n",
      "469/469 [==============================] - 4s 8ms/step - loss: 0.1922 - acc: 0.9450 - val_loss: 0.1615 - val_acc: 0.9511\n",
      "Epoch 4/20\n",
      "469/469 [==============================] - 4s 7ms/step - loss: 0.1409 - acc: 0.9594 - val_loss: 0.1270 - val_acc: 0.9623\n",
      "Epoch 5/20\n",
      "469/469 [==============================] - 3s 7ms/step - loss: 0.1157 - acc: 0.9664 - val_loss: 0.1175 - val_acc: 0.9628\n",
      "Epoch 6/20\n",
      "469/469 [==============================] - 5s 10ms/step - loss: 0.0960 - acc: 0.9716 - val_loss: 0.0968 - val_acc: 0.9700\n",
      "Epoch 7/20\n",
      "469/469 [==============================] - 4s 8ms/step - loss: 0.0807 - acc: 0.9772 - val_loss: 0.0919 - val_acc: 0.9713\n",
      "Epoch 8/20\n",
      "469/469 [==============================] - 3s 7ms/step - loss: 0.0648 - acc: 0.9814 - val_loss: 0.0828 - val_acc: 0.9747\n",
      "Epoch 9/20\n",
      "469/469 [==============================] - 3s 7ms/step - loss: 0.0574 - acc: 0.9833 - val_loss: 0.0821 - val_acc: 0.9748\n",
      "Epoch 10/20\n",
      "469/469 [==============================] - 3s 6ms/step - loss: 0.0484 - acc: 0.9857 - val_loss: 0.0750 - val_acc: 0.9770\n",
      "Epoch 11/20\n",
      "469/469 [==============================] - 3s 6ms/step - loss: 0.0407 - acc: 0.9881 - val_loss: 0.0781 - val_acc: 0.9766\n",
      "Epoch 12/20\n",
      "469/469 [==============================] - 3s 6ms/step - loss: 0.0379 - acc: 0.9889 - val_loss: 0.0702 - val_acc: 0.9793\n",
      "Epoch 13/20\n",
      "469/469 [==============================] - 3s 7ms/step - loss: 0.0333 - acc: 0.9909 - val_loss: 0.0691 - val_acc: 0.9803\n",
      "Epoch 14/20\n",
      "469/469 [==============================] - 4s 8ms/step - loss: 0.0293 - acc: 0.9924 - val_loss: 0.0671 - val_acc: 0.9813\n",
      "Epoch 15/20\n",
      "469/469 [==============================] - 3s 7ms/step - loss: 0.0241 - acc: 0.9936 - val_loss: 0.0695 - val_acc: 0.9788\n",
      "Epoch 16/20\n",
      "469/469 [==============================] - 3s 7ms/step - loss: 0.0221 - acc: 0.9949 - val_loss: 0.0676 - val_acc: 0.9808\n",
      "Epoch 17/20\n",
      "469/469 [==============================] - 3s 7ms/step - loss: 0.0175 - acc: 0.9960 - val_loss: 0.0693 - val_acc: 0.9807\n",
      "Epoch 18/20\n",
      "469/469 [==============================] - 3s 7ms/step - loss: 0.0164 - acc: 0.9962 - val_loss: 0.0674 - val_acc: 0.9806\n",
      "Epoch 19/20\n",
      "469/469 [==============================] - 3s 7ms/step - loss: 0.0135 - acc: 0.9969 - val_loss: 0.0672 - val_acc: 0.9794\n",
      "Epoch 20/20\n",
      "469/469 [==============================] - 3s 7ms/step - loss: 0.0114 - acc: 0.9976 - val_loss: 0.0636 - val_acc: 0.9810\n",
      "Epoch 1/20\n",
      "469/469 [==============================] - 4s 8ms/step - loss: 0.4920 - acc: 0.8553 - val_loss: 0.2171 - val_acc: 0.9373\n",
      "Epoch 2/20\n",
      "469/469 [==============================] - 3s 7ms/step - loss: 0.1990 - acc: 0.9408 - val_loss: 0.1472 - val_acc: 0.9566\n",
      "Epoch 3/20\n",
      "469/469 [==============================] - 3s 6ms/step - loss: 0.1211 - acc: 0.9638 - val_loss: 0.1102 - val_acc: 0.9654\n",
      "Epoch 4/20\n",
      "469/469 [==============================] - 3s 6ms/step - loss: 0.0892 - acc: 0.9745 - val_loss: 0.0925 - val_acc: 0.9726\n",
      "Epoch 5/20\n",
      "469/469 [==============================] - 3s 6ms/step - loss: 0.0657 - acc: 0.9808 - val_loss: 0.0860 - val_acc: 0.9732\n",
      "Epoch 6/20\n",
      "469/469 [==============================] - 3s 6ms/step - loss: 0.0493 - acc: 0.9854 - val_loss: 0.0709 - val_acc: 0.9784\n",
      "Epoch 7/20\n",
      "469/469 [==============================] - 3s 7ms/step - loss: 0.0393 - acc: 0.9881 - val_loss: 0.0789 - val_acc: 0.9763\n",
      "Epoch 8/20\n",
      "469/469 [==============================] - 3s 6ms/step - loss: 0.0302 - acc: 0.9910 - val_loss: 0.0683 - val_acc: 0.9795\n",
      "Epoch 9/20\n",
      "469/469 [==============================] - 3s 7ms/step - loss: 0.0239 - acc: 0.9937 - val_loss: 0.0816 - val_acc: 0.9741\n",
      "Epoch 10/20\n",
      "469/469 [==============================] - 3s 7ms/step - loss: 0.0193 - acc: 0.9952 - val_loss: 0.0601 - val_acc: 0.9816\n",
      "Epoch 11/20\n",
      "469/469 [==============================] - 3s 7ms/step - loss: 0.0151 - acc: 0.9962 - val_loss: 0.0668 - val_acc: 0.9795\n",
      "Epoch 12/20\n",
      "469/469 [==============================] - 3s 7ms/step - loss: 0.0117 - acc: 0.9967 - val_loss: 0.0657 - val_acc: 0.9805\n",
      "Epoch 13/20\n",
      "469/469 [==============================] - 3s 6ms/step - loss: 0.0086 - acc: 0.9978 - val_loss: 0.0596 - val_acc: 0.9824\n",
      "Epoch 14/20\n",
      "469/469 [==============================] - 3s 6ms/step - loss: 0.0061 - acc: 0.9986 - val_loss: 0.0634 - val_acc: 0.9816\n",
      "Epoch 15/20\n",
      "469/469 [==============================] - 3s 6ms/step - loss: 0.0050 - acc: 0.9992 - val_loss: 0.0652 - val_acc: 0.9823\n",
      "Epoch 16/20\n",
      "469/469 [==============================] - 3s 7ms/step - loss: 0.0041 - acc: 0.9992 - val_loss: 0.0715 - val_acc: 0.9811\n",
      "Epoch 17/20\n",
      "469/469 [==============================] - 3s 7ms/step - loss: 0.0032 - acc: 0.9994 - val_loss: 0.0690 - val_acc: 0.9818\n",
      "Epoch 18/20\n",
      "469/469 [==============================] - 3s 7ms/step - loss: 0.0023 - acc: 0.9995 - val_loss: 0.0650 - val_acc: 0.9837\n",
      "Epoch 19/20\n",
      "469/469 [==============================] - 3s 7ms/step - loss: 0.0019 - acc: 0.9996 - val_loss: 0.0710 - val_acc: 0.9825\n",
      "Epoch 20/20\n",
      "469/469 [==============================] - 3s 7ms/step - loss: 0.0015 - acc: 0.9997 - val_loss: 0.0711 - val_acc: 0.9834\n",
      "Epoch 1/20\n",
      "469/469 [==============================] - 4s 7ms/step - loss: 0.4388 - acc: 0.8729 - val_loss: 0.1280 - val_acc: 0.9622\n",
      "Epoch 2/20\n",
      "469/469 [==============================] - 3s 7ms/step - loss: 0.1115 - acc: 0.9676 - val_loss: 0.0867 - val_acc: 0.9739\n"
     ]
    },
    {
     "name": "stdout",
     "output_type": "stream",
     "text": [
      "Epoch 3/20\n",
      "469/469 [==============================] - 3s 7ms/step - loss: 0.0715 - acc: 0.9787 - val_loss: 0.0765 - val_acc: 0.9773\n",
      "Epoch 4/20\n",
      "469/469 [==============================] - 3s 7ms/step - loss: 0.0478 - acc: 0.9859 - val_loss: 0.0716 - val_acc: 0.9775\n",
      "Epoch 5/20\n",
      "469/469 [==============================] - 3s 7ms/step - loss: 0.0382 - acc: 0.9890 - val_loss: 0.0783 - val_acc: 0.9773\n",
      "Epoch 6/20\n",
      "469/469 [==============================] - 3s 7ms/step - loss: 0.0290 - acc: 0.9915 - val_loss: 0.0793 - val_acc: 0.9770\n",
      "Epoch 7/20\n",
      "469/469 [==============================] - 3s 7ms/step - loss: 0.0205 - acc: 0.9940 - val_loss: 0.0746 - val_acc: 0.9785\n",
      "Epoch 8/20\n",
      "469/469 [==============================] - 3s 7ms/step - loss: 0.0148 - acc: 0.9956 - val_loss: 0.0699 - val_acc: 0.9812\n",
      "Epoch 9/20\n",
      "469/469 [==============================] - 3s 7ms/step - loss: 0.0130 - acc: 0.9962 - val_loss: 0.0700 - val_acc: 0.9822\n",
      "Epoch 10/20\n",
      "469/469 [==============================] - 3s 7ms/step - loss: 0.0095 - acc: 0.9972 - val_loss: 0.0738 - val_acc: 0.9807\n",
      "Epoch 11/20\n",
      "469/469 [==============================] - 3s 7ms/step - loss: 0.0071 - acc: 0.9982 - val_loss: 0.0799 - val_acc: 0.9808\n",
      "Epoch 12/20\n",
      "469/469 [==============================] - 4s 8ms/step - loss: 0.0060 - acc: 0.9984 - val_loss: 0.0808 - val_acc: 0.9803\n",
      "Epoch 13/20\n",
      "469/469 [==============================] - 3s 7ms/step - loss: 0.0041 - acc: 0.9989 - val_loss: 0.0765 - val_acc: 0.9839\n",
      "Epoch 14/20\n",
      "469/469 [==============================] - 3s 7ms/step - loss: 0.0033 - acc: 0.9991 - val_loss: 0.0865 - val_acc: 0.9809\n",
      "Epoch 15/20\n",
      "469/469 [==============================] - 3s 7ms/step - loss: 0.0033 - acc: 0.9991 - val_loss: 0.0838 - val_acc: 0.9824\n",
      "Epoch 16/20\n",
      "469/469 [==============================] - 3s 7ms/step - loss: 0.0019 - acc: 0.9995 - val_loss: 0.0775 - val_acc: 0.9833\n",
      "Epoch 17/20\n",
      "469/469 [==============================] - 3s 7ms/step - loss: 0.0014 - acc: 0.9996 - val_loss: 0.0952 - val_acc: 0.9813\n",
      "Epoch 18/20\n",
      "469/469 [==============================] - 3s 7ms/step - loss: 0.0012 - acc: 0.9996 - val_loss: 0.0923 - val_acc: 0.9823\n",
      "Epoch 19/20\n",
      "469/469 [==============================] - 3s 7ms/step - loss: 0.0013 - acc: 0.9995 - val_loss: 0.1013 - val_acc: 0.9825\n",
      "Epoch 20/20\n",
      "469/469 [==============================] - 3s 7ms/step - loss: 8.1280e-04 - acc: 0.9997 - val_loss: 0.0966 - val_acc: 0.9828\n"
     ]
    },
    {
     "data": {
      "text/plain": [
       "<matplotlib.legend.Legend at 0x210be94eb20>"
      ]
     },
     "execution_count": 6,
     "metadata": {},
     "output_type": "execute_result"
    },
    {
     "data": {
      "image/png": "[encoded data removed]",
      "text/plain": [
       "<Figure size 432x288 with 1 Axes>"
      ]
     },
     "metadata": {
      "needs_background": "light"
     },
     "output_type": "display_data"
    }
   ],
   "source": [
    "epochs = 20\n",
    "\n",
    "for activation in [None, 'sigmoid', 'tanh', 'relu']:\n",
    "    model = Sequential()\n",
    "    model.add(Dense(512, activation=activation, input_shape=(784,)))\n",
    "    model.add(Dense(num_classes, activation='softmax'))\n",
    "    model.compile(loss='categorical_crossentropy',\n",
    "              optimizer=RMSprop(),\n",
    "              metrics=['acc'])\n",
    "    history = model.fit(x_train, y_train,\n",
    "                    batch_size=batch_size,\n",
    "                    epochs=epochs,\n",
    "                    verbose=1,\n",
    "                    validation_data=(x_test, y_test))\n",
    "    \n",
    "    plt.plot(history.history['val_acc'])\n",
    "    \n",
    "plt.title('model accuracy')\n",
    "plt.ylabel('accuracy')\n",
    "plt.xlabel('epoch')\n",
    "plt.legend(['None', 'sigmoid', 'tanh', 'relu'], loc='upper left')"
   ]
  },
  {
   "cell_type": "code",
   "execution_count": null,
   "metadata": {
    "collapsed": true,
    "id": "8VeUjokM8r13"
   },
   "outputs": [],
   "source": []
  }
 ],
 "metadata": {
  "accelerator": "GPU",
  "colab": {
   "collapsed_sections": [],
   "name": "Activation Functions.ipynb",
   "provenance": []
  },
  "kernelspec": {
   "display_name": "Python 3",
   "language": "python",
   "name": "python3"
  },
  "language_info": {
   "codemirror_mode": {
    "name": "ipython",
    "version": 3
   },
   "file_extension": ".py",
   "mimetype": "text/x-python",
   "name": "python",
   "nbconvert_exporter": "python",
   "pygments_lexer": "ipython3",
   "version": "3.8.8"
  }
 },
 "nbformat": 4,
 "nbformat_minor": 1
}
