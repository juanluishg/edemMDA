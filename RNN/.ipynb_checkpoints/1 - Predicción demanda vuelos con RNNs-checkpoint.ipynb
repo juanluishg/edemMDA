{
 "cells": [
  {
   "cell_type": "markdown",
   "metadata": {
    "id": "UB-UyzRyNBTa"
   },
   "source": [
    "# Redes Neuronales Recurrentes\n",
    "\n",
    "A lo largo de este notebook de prácticas haremos varios ejemplos, tanto con RNNs básicas como con LSTMs, y veremos las diferencias.\n",
    "\n",
    "También trabajaremos con problemas con una única variable y con problemas multivariantes."
   ]
  },
  {
   "cell_type": "markdown",
   "metadata": {
    "id": "85ruHxMMNWza"
   },
   "source": [
    "# 1. Predicción de demanda de vuelos en una aerolinea\n",
    "\n",
    "El primer problema que abordaremos es el de tratar de predecir los viajeros de una determinada aerolinea. Para ello, carguaremos los datos y los transformaremos de forma que podamos utilizarlos con nuestros modelos."
   ]
  },
  {
   "cell_type": "code",
   "execution_count": null,
   "metadata": {
    "id": "zfpw7wlAZ7JS"
   },
   "outputs": [],
   "source": [
    "# Nos descargamos los datos\n",
    "!wget https://raw.githubusercontent.com/jbrownlee/Datasets/master/airline-passengers.csv"
   ]
  },
  {
   "cell_type": "code",
   "execution_count": 1,
   "metadata": {
    "id": "BU2ANamgZ92g"
   },
   "outputs": [
    {
     "data": {
      "image/png": "[encoded data removed]",
      "text/plain": [
       "<Figure size 432x288 with 1 Axes>"
      ]
     },
     "metadata": {
      "needs_background": "light"
     },
     "output_type": "display_data"
    }
   ],
   "source": [
    "# Y los visualizamos\n",
    "import pandas\n",
    "import matplotlib.pyplot as plt\n",
    "dataset_raw = pandas.read_csv('airline-passengers.csv', usecols=[1], engine='python')\n",
    "plt.plot(dataset_raw)\n",
    "plt.show()"
   ]
  },
  {
   "cell_type": "markdown",
   "metadata": {
    "id": "hUok1ze6rVo0"
   },
   "source": [
    "### **Transformación de los datos**"
   ]
  },
  {
   "cell_type": "markdown",
   "metadata": {
    "id": "WFSX7bxX52Zz"
   },
   "source": [
    "Ahora necesitamos convertir los datos de forma que la RNN pueda usarlos. Daos cuenta de que por el momento tenemos únicamente un conjunto de valores secuenciales, pero vamos a querer aplicar un algoritmo supervisado (las RNNs lo son).\n",
    "\n",
    "Así que... ¿Dónde están las etiquetas?\n",
    "\n",
    "¡En los propios datos!\n",
    "\n",
    "Nosotros tenemos esto:\n",
    "\n",
    "<img src=\"https://miro.medium.com/max/1400/1*nhffHtudbkqG0yYIF3oeBA.png\">\n",
    "\n",
    "Donde la etiqueta para una determinada secuencia de longitud N será la muestra N+1:\n",
    "\n",
    "<img src=\"https://miro.medium.com/max/1400/1*murkc0tNsvgdQDVgKqSdfQ.png\">"
   ]
  },
  {
   "cell_type": "markdown",
   "metadata": {
    "id": "h3tuK7EUJI9H"
   },
   "source": [
    "Y esta transformación de datos es muy sencilla con Python:"
   ]
  },
  {
   "cell_type": "code",
   "execution_count": 2,
   "metadata": {
    "id": "JvgBL7vyN2Fa"
   },
   "outputs": [],
   "source": [
    "# convertimos los datos a un formato entendible por la RNN\n",
    "import numpy as np\n",
    "\n",
    "def create_dataset(dataset, look_back_memory=1):\n",
    "    dataX, dataY = [], []\n",
    "    for i in range(len(dataset)-look_back_memory-1):\n",
    "        dataX.append(dataset[i:i+look_back_memory, 0])\n",
    "        dataY.append(dataset[i+look_back_memory, 0])\n",
    "    return np.array(dataX), np.array(dataY)"
   ]
  },
  {
   "cell_type": "markdown",
   "metadata": {
    "id": "Ni0ihwHYO1TW"
   },
   "source": [
    "Imaginémonos que queremos, a partir de un valor, predecir el siguiente. Es decir, tendríamos un \"ventana\" de un único elemento. Para ello, tendríamos que hacer lo siguiente:"
   ]
  },
  {
   "cell_type": "code",
   "execution_count": 3,
   "metadata": {
    "id": "RG_UE9yTOv7R"
   },
   "outputs": [
    {
     "name": "stdout",
     "output_type": "stream",
     "text": [
      "(142, 1)\n",
      "(142,)\n"
     ]
    }
   ],
   "source": [
    "dataX, dataY = create_dataset(dataset_raw.values, look_back_memory=1)\n",
    "print(dataX.shape)\n",
    "print(dataY.shape)"
   ]
  },
  {
   "cell_type": "markdown",
   "metadata": {
    "id": "CJIyh0ahPHGb"
   },
   "source": [
    "¡Atención! Esto no significa que nuestra memoria sea de un elemento. Recordad que las RNNs tienen una \"cinta transportadora\" (estado) en la que acumulan información. Por lo tanto, lo único que indica esta ventana, es la cantidad de muestras en la que se basará para hacer la predicción en cada instante temporal.\n",
    "\n",
    "Pero luego, la RNN, podrá almacenar información de varias de esas predicciones."
   ]
  },
  {
   "cell_type": "markdown",
   "metadata": {
    "id": "CfSv17grQz22"
   },
   "source": [
    "Si quisieramos que nuestra RNN utilizara más de una muestra para cada predicción, tendríamos que aumentar el tamaño de la ventana de 1 a N. Esto podríamos hacerlo modificando el valor de `loop_back_memory`."
   ]
  },
  {
   "cell_type": "code",
   "execution_count": 4,
   "metadata": {
    "id": "zIeHYm_5Q_RU"
   },
   "outputs": [
    {
     "name": "stdout",
     "output_type": "stream",
     "text": [
      "(133, 10)\n",
      "(133,)\n"
     ]
    }
   ],
   "source": [
    "# Por ejemplo, para una ventana de 10 elementos:\n",
    "dataX, dataY = create_dataset(dataset_raw.values, look_back_memory=10)\n",
    "print(dataX.shape)\n",
    "print(dataY.shape)"
   ]
  },
  {
   "cell_type": "markdown",
   "metadata": {
    "id": "eFetOdf6Th10"
   },
   "source": [
    "### **Predicción con una RNN básica**"
   ]
  },
  {
   "cell_type": "markdown",
   "metadata": {
    "id": "OF7tcd5lrZYv"
   },
   "source": [
    "Ahora que ya sabemos como transformar los datos al formato pertinente, podemos comenzar a implementar el modelo. En este caso, utilizaremos una red recurrente con una celda y 10 neuronas, seguida de una capa densa con activación lineal (recordad que estamos haciendo regresión)."
   ]
  },
  {
   "cell_type": "code",
   "execution_count": 5,
   "metadata": {
    "id": "_oTS7vDus0Uu"
   },
   "outputs": [],
   "source": [
    "import numpy\n",
    "\n",
    "def create_dataset(dataset, look_back_memory=1):\n",
    "    dataX, dataY = [], []\n",
    "    for i in range(len(dataset)-look_back_memory-1):\n",
    "        dataX.append(dataset[i:i+look_back_memory, 0])\n",
    "        dataY.append(dataset[i+look_back_memory, 0])\n",
    "    return numpy.array(dataX), numpy.array(dataY)"
   ]
  },
  {
   "cell_type": "code",
   "execution_count": 6,
   "metadata": {
    "id": "Ol_zv-xcPwz8"
   },
   "outputs": [],
   "source": [
    "# hacemos el import de todo lo que utilizaremos\n",
    "import numpy\n",
    "import matplotlib.pyplot as plt\n",
    "from pandas import read_csv\n",
    "import math\n",
    "from keras.models import Sequential\n",
    "from keras.layers import Dense, SimpleRNN\n",
    "from sklearn.preprocessing import MinMaxScaler\n",
    "from sklearn.metrics import mean_squared_error"
   ]
  },
  {
   "cell_type": "code",
   "execution_count": null,
   "metadata": {
    "id": "qIe8l5dyPw0B"
   },
   "outputs": [],
   "source": [
    "# fijamos la semilla para obtener resultados reproducibles\n",
    "numpy.random.seed(42)"
   ]
  },
  {
   "cell_type": "code",
   "execution_count": null,
   "metadata": {
    "id": "LYWTLa8IPw0D"
   },
   "outputs": [],
   "source": [
    "# cargamos los datos\n",
    "dataframe = read_csv('airline-passengers.csv', usecols=[1], engine='python')\n",
    "dataset = dataframe.values\n",
    "dataset = dataset.astype('float32')"
   ]
  },
  {
   "cell_type": "code",
   "execution_count": null,
   "metadata": {
    "id": "C6yK9XKiPw0D"
   },
   "outputs": [],
   "source": [
    "# normalizamos el dataset\n",
    "scaler = MinMaxScaler(feature_range=(0, 1))\n",
    "dataset = scaler.fit_transform(dataset)"
   ]
  },
  {
   "cell_type": "code",
   "execution_count": null,
   "metadata": {
    "id": "jGl7PvtuPw0D"
   },
   "outputs": [],
   "source": [
    "# dividimos en train y test\n",
    "train_size = int(len(dataset) * 0.67)\n",
    "test_size = len(dataset) - train_size\n",
    "train, test = dataset[0:train_size,:], dataset[train_size:len(dataset),:]"
   ]
  },
  {
   "cell_type": "code",
   "execution_count": null,
   "metadata": {
    "id": "Q-IZzy5MPw0D"
   },
   "outputs": [],
   "source": [
    "# transformamos los datos para crearnos N registros con T timestamps cada uno \n",
    "# (uno por cada instante temporal hasta completar el tamaño de la ventana) y \n",
    "# las V variables de las que disponga nuestro dataset. En este caso, vamos a \n",
    "# escoger una ventana con un único timestamp T=1 y solo tendremos una variable,\n",
    "# con lo que V=1 (número de pasajeros).\n",
    "look_back_memory = 1\n",
    "trainX, trainY = create_dataset(train, look_back_memory)\n",
    "testX, testY = create_dataset(test, look_back_memory)\n",
    "print(trainX.shape, trainY.shape)\n",
    "print(testX.shape, testY.shape)"
   ]
  },
  {
   "cell_type": "code",
   "execution_count": null,
   "metadata": {
    "id": "PlpNZfUQPw0D"
   },
   "outputs": [],
   "source": [
    "# Nos aseguramos de que las dimensiones de las entradas son las correctas:\n",
    "# (número de ventanas de T elementos, los T elementos de cada ventana, las V variables de cada timestamp)\n",
    "variables = 1 # (trainX.shape[1])\n",
    "trainX = numpy.reshape(trainX, (trainX.shape[0], look_back_memory, variables))\n",
    "testX = numpy.reshape(testX, (testX.shape[0], look_back_memory, variables))\n",
    "print(trainX.shape)\n",
    "print(testX.shape)"
   ]
  },
  {
   "cell_type": "code",
   "execution_count": null,
   "metadata": {
    "id": "z0oDiDFIPw0E"
   },
   "outputs": [],
   "source": [
    "# creamos el modelo y lo entrenamos\n",
    "model = Sequential() #initialize model\n",
    "model.add(SimpleRNN(10, input_shape=(1, look_back_memory)))\n",
    "model.add(Dense(1, activation='linear'))\n",
    "model.compile(loss='mean_squared_error', optimizer='adam')\n",
    "model.fit(trainX, trainY, epochs=100, batch_size=1, verbose=1)"
   ]
  },
  {
   "cell_type": "code",
   "execution_count": null,
   "metadata": {
    "id": "FnQGGyKxPw0E"
   },
   "outputs": [],
   "source": [
    "# vamos a ver qué tal funciona nuestro modelo\n",
    "trainPredict = model.predict(trainX)\n",
    "testPredict = model.predict(testX)"
   ]
  },
  {
   "cell_type": "code",
   "execution_count": null,
   "metadata": {
    "id": "QIdbx_aNTICW"
   },
   "outputs": [],
   "source": [
    "trainPredict.shape"
   ]
  },
  {
   "cell_type": "code",
   "execution_count": null,
   "metadata": {
    "id": "M6XsV4wQSynh"
   },
   "outputs": [],
   "source": [
    "trainY.shape"
   ]
  },
  {
   "cell_type": "code",
   "execution_count": null,
   "metadata": {
    "id": "Te3GNJgwPw0E"
   },
   "outputs": [],
   "source": [
    "# una vez hechas las predicciones, tenemos que des-normalizarlas\n",
    "trainPredict = scaler.inverse_transform(trainPredict)\n",
    "trainY_orig = scaler.inverse_transform([trainY])\n",
    "testPredict = scaler.inverse_transform(testPredict)\n",
    "testY_orig = scaler.inverse_transform([testY])"
   ]
  },
  {
   "cell_type": "code",
   "execution_count": null,
   "metadata": {
    "id": "lB2fCP0yPw0E"
   },
   "outputs": [],
   "source": [
    "# y ahora calculamos el error cometido en train y en test\n",
    "trainScore = math.sqrt(mean_squared_error(trainY_orig[0], trainPredict[:,0]))\n",
    "print('Train Score: %.2f RMSE' % (trainScore))\n",
    "testScore = math.sqrt(mean_squared_error(testY_orig[0], testPredict[:,0]))\n",
    "print('Test Score: %.2f RMSE' % (testScore))"
   ]
  },
  {
   "cell_type": "code",
   "execution_count": null,
   "metadata": {
    "id": "kOXlpMbjPw0F"
   },
   "outputs": [],
   "source": [
    "# por como creamos el dataset de entrenamiento, ahora tenemos que desplazar\n",
    "# nuestras predicciones para que \"cuadren\" con el eje x de los datos originales\n",
    "trainPredictPlot = numpy.empty_like(dataset)\n",
    "trainPredictPlot[:, :] = numpy.nan\n",
    "trainPredictPlot[look_back_memory:len(trainPredict)+look_back_memory, :] = trainPredict"
   ]
  },
  {
   "cell_type": "code",
   "execution_count": null,
   "metadata": {
    "id": "pYKX6C-OPw0F"
   },
   "outputs": [],
   "source": [
    "# y lo mismo para el test\n",
    "testPredictPlot = numpy.empty_like(dataset)\n",
    "testPredictPlot[:, :] = numpy.nan\n",
    "testPredictPlot[len(trainPredict)+(look_back_memory*2)+1:len(dataset)-1, :] = testPredict"
   ]
  },
  {
   "cell_type": "code",
   "execution_count": null,
   "metadata": {
    "id": "eoHkr4Y5Pw0F"
   },
   "outputs": [],
   "source": [
    "# y mostramos los datos originales, la predicción en training y la predicción en test\n",
    "plt.plot(scaler.inverse_transform(dataset))\n",
    "plt.plot(trainPredictPlot)\n",
    "plt.plot(testPredictPlot)\n",
    "plt.show()"
   ]
  },
  {
   "cell_type": "markdown",
   "metadata": {
    "id": "G6GKw8JwZxWd"
   },
   "source": [
    "Estos resultados son los que hemos conseguido con una RNN básica. ¿Os animáis a probar con una LSTM?"
   ]
  },
  {
   "cell_type": "markdown",
   "metadata": {
    "id": "T3T4BpjXqAGx"
   },
   "source": [
    "###**Ejercicio 1**\n",
    "\n",
    "Acabamos de entrenar un modelo RNN para predecir la demanda de vuelos por día. Ahora os toca a vosotros: en vez de utilizar la celda RNN, utilizad la LSTM con exactamente la misma configuración."
   ]
  },
  {
   "cell_type": "markdown",
   "metadata": {
    "id": "CLmOllcMZPWN"
   },
   "source": [
    "###**Ejercicio 2** \n",
    "\n",
    "Entrena un modelo RNN básico igual al primero, pero con una ventana de 10 timestamps."
   ]
  },
  {
   "cell_type": "markdown",
   "metadata": {
    "id": "9ck4gmTyp9aJ"
   },
   "source": [
    "### **Ejercicio 3**\n",
    "\n",
    "Hemos visto que con la RNN y una ventana de 10 timestamps podemos mejorar los resultados obtenidos con una ventana de 1 timestamp. ¿Se os ocurre como intentar mejorar estos resultados?\n",
    "\n",
    "Sabemos que las RNN básicas sufren problemas de memoria, y que las LSTM son capaces de mitigarlos. Además, hemos comprobado de forma práctica que las LSTMs consiguen un mejor ajuste.\n",
    "\n",
    "Entrena una LSTM (https://keras.io/api/layers/recurrent_layers/lstm/) con los datos anteriores, una ventana de 10 timestamps y sin rellenar los T timestamps iniciales con 0's."
   ]
  }
 ],
 "metadata": {
  "accelerator": "TPU",
  "colab": {
   "authorship_tag": "ABX9TyMyp6krCfSqI7d6tHLJYCmm",
   "collapsed_sections": [],
   "name": "1 - Predicción demanda vuelos con RNNs.ipynb",
   "provenance": []
  },
  "kernelspec": {
   "display_name": "Python 3",
   "language": "python",
   "name": "python3"
  },
  "language_info": {
   "codemirror_mode": {
    "name": "ipython",
    "version": 3
   },
   "file_extension": ".py",
   "mimetype": "text/x-python",
   "name": "python",
   "nbconvert_exporter": "python",
   "pygments_lexer": "ipython3",
   "version": "3.8.8"
  }
 },
 "nbformat": 4,
 "nbformat_minor": 1
}
