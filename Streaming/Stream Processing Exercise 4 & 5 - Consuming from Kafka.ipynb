{
 "cells": [
  {
   "cell_type": "markdown",
   "metadata": {},
   "source": [
    "## Stream Processing Exercise 4 - Consuming from Kafka"
   ]
  },
  {
   "cell_type": "markdown",
   "metadata": {},
   "source": [
    "Goals:\n",
    "\n",
    "* Perform different computations on a input stream: read, aggregation, windowed aggregation\n",
    "* Additional references\n",
    "    * [Spark Streaming](https://spark.apache.org/streaming/)\n",
    "    * [Structured Spark Streaming documentation](https://spark.apache.org/docs/latest/structured-streaming-programming-guide.html)\n",
    "    * [Spark and Kafka integration guide](https://spark.apache.org/docs/latest/structured-streaming-kafka-integration.html)\n"
   ]
  },
  {
   "cell_type": "markdown",
   "metadata": {},
   "source": [
    "Let’s inspect content of Pageviews topic, showing it every 5 seconds:"
   ]
  },
  {
   "cell_type": "code",
   "execution_count": null,
   "metadata": {
    "scrolled": true
   },
   "outputs": [],
   "source": [
    "import sys\n",
    "import os \n",
    "from pyspark import SparkContext\n",
    "from pyspark.streaming import StreamingContext\n",
    "\n",
    "from pyspark.streaming.kafka import KafkaUtils\n",
    "\n",
    "\n",
    "sc = SparkContext(appName=\"PageViewsConsumer\")\n",
    "\n",
    "ssc = StreamingContext(sc, 5)\n",
    "\n",
    "\n",
    "topics = ['pageviews']\n",
    "\n",
    "kafkaParams = {'bootstrap.servers': 'broker:29092', \n",
    "               'group.id' : 'test'}\n",
    "\n",
    "stream = KafkaUtils.createDirectStream(ssc, topics, kafkaParams)\n",
    "\n",
    "stream.map(lambda record : (record[0], record[1])).pprint()\n",
    "\n",
    "\n",
    "ssc.start()\n",
    "ssc.awaitTermination()"
   ]
  },
  {
   "cell_type": "markdown",
   "metadata": {},
   "source": [
    "Now, inspect also the content of Users topic"
   ]
  },
  {
   "cell_type": "code",
   "execution_count": null,
   "metadata": {
    "scrolled": true
   },
   "outputs": [],
   "source": [
    "import sys\n",
    "import os \n",
    "from pyspark import SparkContext\n",
    "from pyspark.streaming import StreamingContext\n",
    "\n",
    "from pyspark.streaming.kafka import KafkaUtils\n",
    "\n",
    "\n",
    "sc = SparkContext(appName=\"UsersConsumer\")\n",
    "\n",
    "ssc = StreamingContext(sc, 5)\n",
    "\n",
    "\n",
    "topics = ['users']\n",
    "\n",
    "kafkaParams = {'bootstrap.servers': 'broker:29092', \n",
    "               'group.id' : 'test'}\n",
    "\n",
    "stream = KafkaUtils.createDirectStream(ssc, topics, kafkaParams)\n",
    "\n",
    "stream.map(lambda record : (record[0], record[1])).pprint()\n",
    "\n",
    "\n",
    "ssc.start()\n",
    "ssc.awaitTermination()"
   ]
  },
  {
   "cell_type": "markdown",
   "metadata": {},
   "source": [
    "Here we will consume streaming data from pageviews kafka topic to count numer of visits per page.\n",
    "First we are going to define input Stream"
   ]
  },
  {
   "cell_type": "code",
   "execution_count": null,
   "metadata": {},
   "outputs": [],
   "source": [
    "from pyspark import sql\n",
    "from pyspark.sql import SparkSession\n",
    "from pyspark.sql.functions import *\n",
    "from pyspark.sql.types import *\n",
    "\n",
    "spark = SparkSession \\\n",
    "    .builder \\\n",
    "    .appName(\"PageViewsConsumer\") \\\n",
    "    .getOrCreate()\n",
    "\n",
    "\n",
    "dfPageViewsStream = (\n",
    "    spark\n",
    "    .readStream\n",
    "    .format(\"kafka\")\n",
    "    .option(\"kafka.bootstrap.servers\", \"broker:29092\")\n",
    "    .option(\"subscribe\", \"pageviews\")\n",
    "    .load()\n",
    ")\n",
    "\n",
    "dfPageViews = (\n",
    "    dfPageViewsStream\n",
    "    .selectExpr(\"CAST(key AS STRING)\", \"CAST(value AS STRING)\", \"timestamp\")\n",
    "    .withColumn(\"_tmp\", split(col(\"value\"), \"\\\\,\"))\n",
    "    .select((col(\"_tmp\").getItem(0).cast(\"long\") / lit(1000)).cast(\"timestamp\").alias(\"viewtime\"),\n",
    "            col(\"_tmp\").getItem(1).alias(\"userid\"),\n",
    "            col(\"_tmp\").getItem(2).alias(\"pageid\"),\n",
    "            col(\"timestamp\"))\n",
    ")\n",
    "\n",
    "dfPageViews.printSchema()\n"
   ]
  },
  {
   "cell_type": "markdown",
   "metadata": {},
   "source": [
    "Now let's create a table to store query output on memory\n",
    "\n"
   ]
  },
  {
   "cell_type": "code",
   "execution_count": null,
   "metadata": {},
   "outputs": [],
   "source": [
    "dfPageViews.writeStream.format(\"memory\").outputMode(\"append\").queryName(\"PageViews\").start()"
   ]
  },
  {
   "cell_type": "markdown",
   "metadata": {},
   "source": [
    "Here you can see table structure"
   ]
  },
  {
   "cell_type": "code",
   "execution_count": null,
   "metadata": {},
   "outputs": [],
   "source": [
    "spark.sql(\"describe pageviews\").show()"
   ]
  },
  {
   "cell_type": "markdown",
   "metadata": {},
   "source": [
    "Now, select those events happening in odd minutes."
   ]
  },
  {
   "cell_type": "markdown",
   "metadata": {},
   "source": [
    "Profe:"
   ]
  },
  {
   "cell_type": "code",
   "execution_count": null,
   "metadata": {},
   "outputs": [],
   "source": [
    "spark.sql(\"select * from PageViews where (minute(viewtime)%2) !=0\").show()"
   ]
  },
  {
   "cell_type": "markdown",
   "metadata": {},
   "source": [
    "Yo:"
   ]
  },
  {
   "cell_type": "code",
   "execution_count": null,
   "metadata": {},
   "outputs": [],
   "source": [
    "import sys\n",
    "import os \n",
    "from pyspark import SparkContext\n",
    "from pyspark.streaming import StreamingContext\n",
    "\n",
    "from pyspark.streaming.kafka import KafkaUtils\n",
    "\n",
    "from datetime import datetime\n",
    "\n",
    "sc = SparkContext(appName=\"PageViewsConsumer\")\n",
    "\n",
    "ssc = StreamingContext(sc, 5)\n",
    "\n",
    "\n",
    "topics = ['pageviews']\n",
    "\n",
    "kafkaParams = {'bootstrap.servers': 'broker:29092', \n",
    "               'group.id' : 'test'}\n",
    "\n",
    "stream = KafkaUtils.createDirectStream(ssc, topics, kafkaParams)\n",
    "\n",
    "time = stream.map(lambda r: (int(r[1].split(\",\")[0]), r[1].split(\",\")[1]))\n",
    "odd = time.filter(lambda r: (datetime.fromtimestamp(r[0]/1000).minute%2)!= 0)\n",
    "odd.pprint()\n",
    "\n",
    "ssc.start()\n",
    "ssc.awaitTermination()"
   ]
  },
  {
   "cell_type": "markdown",
   "metadata": {},
   "source": [
    "Try with an order over userid."
   ]
  },
  {
   "cell_type": "markdown",
   "metadata": {},
   "source": [
    "Profe:"
   ]
  },
  {
   "cell_type": "code",
   "execution_count": null,
   "metadata": {},
   "outputs": [],
   "source": [
    "spark.sql(\"select * from PageViews where (minute(viewtime)%2) !=0  order by userid\").show()"
   ]
  },
  {
   "cell_type": "markdown",
   "metadata": {},
   "source": [
    "Yo:"
   ]
  },
  {
   "cell_type": "code",
   "execution_count": null,
   "metadata": {},
   "outputs": [],
   "source": [
    "import sys\n",
    "import os \n",
    "from pyspark import SparkContext\n",
    "from pyspark.streaming import StreamingContext\n",
    "\n",
    "from pyspark.streaming.kafka import KafkaUtils\n",
    "\n",
    "from datetime import datetime\n",
    "\n",
    "sc = SparkContext(appName=\"PageViewsConsumer\")\n",
    "\n",
    "ssc = StreamingContext(sc, 5)\n",
    "\n",
    "\n",
    "topics = ['pageviews']\n",
    "\n",
    "kafkaParams = {'bootstrap.servers': 'broker:29092', \n",
    "               'group.id' : 'test'}\n",
    "\n",
    "stream = KafkaUtils.createDirectStream(ssc, topics, kafkaParams)\n",
    "\n",
    "time = stream.map(lambda r: (int(r[1].split(\",\")[0]), r[1].split(\",\")[1]))\n",
    "odd = time.filter(lambda r: (datetime.fromtimestamp(r[0]/1000).minute%2)!= 0)\n",
    "odd.transform(lambda rdd: rdd.sortBy(lambda x: x[1])).pprint()\n",
    "\n",
    "ssc.start()\n",
    "ssc.awaitTermination()"
   ]
  },
  {
   "cell_type": "markdown",
   "metadata": {},
   "source": [
    "\n",
    "Now count number of visits of each page:\n",
    "\n",
    "* from the source stream: dfPageViews\n",
    "* by page means group by pageid \n",
    "* count as the aggregation operation\n",
    "* store the output stream as an in-memory table: CountsByPage.\n",
    "\n",
    "Describe its content and show part of the content"
   ]
  },
  {
   "cell_type": "markdown",
   "metadata": {},
   "source": [
    "Profe:"
   ]
  },
  {
   "cell_type": "code",
   "execution_count": null,
   "metadata": {},
   "outputs": [],
   "source": [
    "dfCountByPage = dfPageViews.groupBy(\"pageid\").count()\n",
    "dfCountByPage.printSchema()"
   ]
  },
  {
   "cell_type": "code",
   "execution_count": null,
   "metadata": {},
   "outputs": [],
   "source": [
    "dfCountByPage.writeStream.format(\"memory\").outputMode(\"complete\").queryName(\"CountByPage\").start()"
   ]
  },
  {
   "cell_type": "code",
   "execution_count": null,
   "metadata": {},
   "outputs": [],
   "source": [
    "spark.sql(\"describe CountByPage\").show()"
   ]
  },
  {
   "cell_type": "code",
   "execution_count": null,
   "metadata": {},
   "outputs": [],
   "source": [
    "spark.sql(\"select * from CountByPage\").show()"
   ]
  },
  {
   "cell_type": "markdown",
   "metadata": {},
   "source": [
    "Yo:"
   ]
  },
  {
   "cell_type": "code",
   "execution_count": null,
   "metadata": {},
   "outputs": [],
   "source": [
    "from pyspark import sql\n",
    "from pyspark.sql import SparkSession\n",
    "from pyspark.sql.functions import *\n",
    "from pyspark.sql.types import *\n",
    "\n",
    "spark = SparkSession \\\n",
    "    .builder \\\n",
    "    .appName(\"PageViewsConsumer\") \\\n",
    "    .getOrCreate()\n",
    "\n",
    "\n",
    "dfPageViewsStream = (\n",
    "    spark\n",
    "    .readStream\n",
    "    .format(\"kafka\")\n",
    "    .option(\"kafka.bootstrap.servers\", \"broker:29092\")\n",
    "    .option(\"subscribe\", \"pageviews\")\n",
    "    .load()\n",
    ")\n",
    "\n",
    "dfPageViews = (\n",
    "    dfPageViewsStream\n",
    "    .selectExpr(\"CAST(key AS STRING)\", \"CAST(value AS STRING)\", \"timestamp\")\n",
    "    .withColumn(\"_tmp\", split(col(\"value\"), \"\\\\,\"))\n",
    "    .select((col(\"_tmp\").getItem(0).cast(\"long\") / lit(1000)).cast(\"timestamp\").alias(\"viewtime\"),\n",
    "            col(\"_tmp\").getItem(1).alias(\"userid\"),\n",
    "            col(\"_tmp\").getItem(2).alias(\"pageid\"),\n",
    "            col(\"timestamp\"))\n",
    "    .groupBy(col(\"pageid\"))\n",
    "    .count()\n",
    ")\n",
    "\n",
    "dfPageViews.writeStream.format(\"memory\").outputMode(\"complete\").queryName(\"CountsByPage\").start()"
   ]
  },
  {
   "cell_type": "code",
   "execution_count": null,
   "metadata": {},
   "outputs": [],
   "source": [
    "spark.sql(\"select * from CountsByPage order by count desc\").show()"
   ]
  },
  {
   "cell_type": "markdown",
   "metadata": {},
   "source": [
    "Now we want to get number of visits every 5 minutes over last 10 minutes:\n",
    "\n",
    "* 5 minutes is the window duration\n",
    "* 2 minutes is the slide duration\n",
    "\n",
    "Additional references for windowing in Spark can be found [here](https://spark.apache.org/docs/latest/structured-streaming-programming-guide.html#window-operations-on-event-time)."
   ]
  },
  {
   "cell_type": "code",
   "execution_count": null,
   "metadata": {
    "scrolled": true
   },
   "outputs": [],
   "source": [
    "dfCountByPageWindows = dfPageViews.withWatermark(\"timestamp\", \"10 minutes\") \\\n",
    "                                .groupBy(window(col(\"viewtime\"), \"10 minutes\", \"5 minutes\"),col(\"pageid\")) \\\n",
    "                                .count()\n",
    "dfCountByPageWindows.printSchema()"
   ]
  },
  {
   "cell_type": "code",
   "execution_count": null,
   "metadata": {},
   "outputs": [],
   "source": [
    "dfCountByPageWindows.writeStream.format(\"memory\").outputMode(\"complete\").queryName(\"CountsByPageWindows\").start()"
   ]
  },
  {
   "cell_type": "code",
   "execution_count": null,
   "metadata": {},
   "outputs": [],
   "source": [
    "spark.sql(\"select * from CountsByPageWindows order by count desc\").show()"
   ]
  },
  {
   "cell_type": "markdown",
   "metadata": {},
   "source": [
    "# Exercise 5"
   ]
  },
  {
   "cell_type": "markdown",
   "metadata": {},
   "source": [
    "Purpose of this exercise is to analyze the data that is populated on Users topic following same approach than Exercise 4.\n",
    "\n",
    "Finally we want to obtain how many times a user has accessed every 2 minutes over last 5 minutes.\n"
   ]
  },
  {
   "cell_type": "markdown",
   "metadata": {},
   "source": [
    "Yo:"
   ]
  },
  {
   "cell_type": "code",
   "execution_count": 1,
   "metadata": {},
   "outputs": [
    {
     "data": {
      "text/plain": [
       "<pyspark.sql.streaming.StreamingQuery at 0x7f1ef03d44d0>"
      ]
     },
     "execution_count": 1,
     "metadata": {},
     "output_type": "execute_result"
    }
   ],
   "source": [
    "from pyspark import sql\n",
    "from pyspark.sql import SparkSession\n",
    "from pyspark.sql.functions import *\n",
    "from pyspark.sql.types import *\n",
    "\n",
    "spark = SparkSession \\\n",
    "    .builder \\\n",
    "    .appName(\"PageViewsConsumer\") \\\n",
    "    .getOrCreate()\n",
    "\n",
    "\n",
    "dfPageViewsStream = (\n",
    "    spark\n",
    "    .readStream\n",
    "    .format(\"kafka\")\n",
    "    .option(\"kafka.bootstrap.servers\", \"broker:29092\")\n",
    "    .option(\"subscribe\", \"pageviews\")\n",
    "    .load()\n",
    ")\n",
    "\n",
    "dfPageViews = (\n",
    "    dfPageViewsStream\n",
    "    .selectExpr(\"CAST(key AS STRING)\", \"CAST(value AS STRING)\", \"timestamp\")\n",
    "    .withColumn(\"_tmp\", split(col(\"value\"), \"\\\\,\"))\n",
    "    .select((col(\"_tmp\").getItem(0).cast(\"long\") / lit(1000)).cast(\"timestamp\").alias(\"viewtime\"),\n",
    "            col(\"_tmp\").getItem(1).alias(\"userid\"),\n",
    "            col(\"_tmp\").getItem(2).alias(\"pageid\"),\n",
    "            col(\"timestamp\"))\n",
    "    .groupBy(\n",
    "        window(col(\"viewtime\"), \"5 minutes\", \"2 minutes\"),col(\"userid\"))\n",
    "    .count()\n",
    ")\n",
    "\n",
    "dfPageViews.writeStream.format(\"memory\").outputMode(\"complete\").queryName(\"CountsByUser\").start()"
   ]
  },
  {
   "cell_type": "code",
   "execution_count": 4,
   "metadata": {},
   "outputs": [
    {
     "name": "stdout",
     "output_type": "stream",
     "text": [
      "+--------------------+------+-----+\n",
      "|              window|userid|count|\n",
      "+--------------------+------+-----+\n",
      "|[2021-01-28 19:14...|User_9|   11|\n",
      "|[2021-01-28 19:16...|User_9|   11|\n",
      "|[2021-01-28 19:16...|User_8|    8|\n",
      "|[2021-01-28 19:14...|User_8|    8|\n",
      "|[2021-01-28 19:16...|User_3|    8|\n",
      "|[2021-01-28 19:14...|User_3|    8|\n",
      "|[2021-01-28 19:16...|User_5|    7|\n",
      "|[2021-01-28 19:14...|User_5|    7|\n",
      "|[2021-01-28 19:14...|User_7|    6|\n",
      "|[2021-01-28 19:16...|User_4|    6|\n",
      "|[2021-01-28 19:16...|User_7|    6|\n",
      "|[2021-01-28 19:14...|User_1|    6|\n",
      "|[2021-01-28 19:16...|User_1|    6|\n",
      "|[2021-01-28 19:14...|User_4|    6|\n",
      "|[2021-01-28 19:16...|User_6|    4|\n",
      "|[2021-01-28 19:16...|User_2|    4|\n",
      "|[2021-01-28 19:14...|User_6|    4|\n",
      "|[2021-01-28 19:14...|User_2|    4|\n",
      "+--------------------+------+-----+\n",
      "\n"
     ]
    }
   ],
   "source": [
    "spark.sql(\"select * from CountsByUser order by count desc\").show()"
   ]
  },
  {
   "cell_type": "markdown",
   "metadata": {},
   "source": [
    "Profe: igual"
   ]
  },
  {
   "cell_type": "code",
   "execution_count": null,
   "metadata": {},
   "outputs": [],
   "source": []
  }
 ],
 "metadata": {
  "kernelspec": {
   "display_name": "Python 3",
   "language": "python",
   "name": "python3"
  },
  "language_info": {
   "codemirror_mode": {
    "name": "ipython",
    "version": 3
   },
   "file_extension": ".py",
   "mimetype": "text/x-python",
   "name": "python",
   "nbconvert_exporter": "python",
   "pygments_lexer": "ipython3",
   "version": "3.7.6"
  }
 },
 "nbformat": 4,
 "nbformat_minor": 4
}
