{
 "cells": [
  {
   "cell_type": "markdown",
   "metadata": {
    "id": "UDT1fR0qFdsC"
   },
   "source": [
    "# EJEMPLO DE FINE-TUNING DE BERT PARA CLASIFICACIÓN DE TEXTOS"
   ]
  },
  {
   "cell_type": "code",
   "execution_count": null,
   "metadata": {
    "colab": {
     "base_uri": "https://localhost:8080/"
    },
    "executionInfo": {
     "elapsed": 30940,
     "status": "ok",
     "timestamp": 1618301750165,
     "user": {
      "displayName": "Rafael Berlanga Llavori",
      "photoUrl": "https://lh3.googleusercontent.com/a-/AOh14Gij7a_x7hln_mccXdSKtg2BpPtMu66FEoe7m3u32g=s64",
      "userId": "05947012679519155640"
     },
     "user_tz": -120
    },
    "id": "kF-9pHSERuW8",
    "outputId": "7c4ebe95-6499-4dd0-a78f-e128df801cee"
   },
   "outputs": [
    {
     "name": "stdout",
     "output_type": "stream",
     "text": [
      "Mounted at /content/drive\n"
     ]
    }
   ],
   "source": [
    "from google.colab import drive\n",
    "\n",
    "drive.mount('/content/drive')\n"
   ]
  },
  {
   "cell_type": "code",
   "execution_count": null,
   "metadata": {
    "id": "k2er5eludYUa"
   },
   "outputs": [],
   "source": [
    "path = '/content/drive/My Drive/Colab Notebooks/NLP-course/Toxicity/Data/'"
   ]
  },
  {
   "cell_type": "code",
   "execution_count": 1,
   "metadata": {},
   "outputs": [],
   "source": [
    "path = 'data/'"
   ]
  },
  {
   "cell_type": "markdown",
   "metadata": {
    "id": "25s1TUwfU6EY"
   },
   "source": [
    "Estos datos los puedes descargar de:\n",
    "\n",
    "https://krono.act.uji.es/NLP-course/jigsaw-toxic-comment-classification-challenge.zip"
   ]
  },
  {
   "cell_type": "markdown",
   "metadata": {
    "id": "aeyfWTiHySMg"
   },
   "source": [
    "# Inicio"
   ]
  },
  {
   "cell_type": "code",
   "execution_count": 3,
   "metadata": {},
   "outputs": [
    {
     "name": "stdout",
     "output_type": "stream",
     "text": [
      "Collecting tensorflow_hub\n",
      "  Downloading tensorflow_hub-0.12.0-py2.py3-none-any.whl (108 kB)\n",
      "Requirement already satisfied: numpy>=1.12.0 in c:\\users\\juanl\\appdata\\local\\programs\\python\\python38\\lib\\site-packages (from tensorflow_hub) (1.19.2)\n",
      "Requirement already satisfied: protobuf>=3.8.0 in c:\\users\\juanl\\appdata\\local\\programs\\python\\python38\\lib\\site-packages (from tensorflow_hub) (3.15.1)\n",
      "Requirement already satisfied: six>=1.9 in c:\\users\\juanl\\appdata\\local\\programs\\python\\python38\\lib\\site-packages (from protobuf>=3.8.0->tensorflow_hub) (1.15.0)\n",
      "Installing collected packages: tensorflow-hub\n",
      "Successfully installed tensorflow-hub-0.12.0\n"
     ]
    }
   ],
   "source": [
    "!pip install tensorflow_hub"
   ]
  },
  {
   "cell_type": "code",
   "execution_count": 2,
   "metadata": {
    "id": "Dnor9_NkncAq"
   },
   "outputs": [],
   "source": [
    "import pandas as pd\n",
    "import numpy as np\n",
    "\n",
    "import tensorflow as tf\n",
    "\n",
    "import os\n",
    "import sys\n",
    "\n",
    "import tensorflow_hub as hub\n",
    "from tensorflow.keras.models import Model \n"
   ]
  },
  {
   "cell_type": "markdown",
   "metadata": {
    "id": "k1nKHTpelRoj"
   },
   "source": [
    "# Cargamos el Conjunto de Datos"
   ]
  },
  {
   "cell_type": "code",
   "execution_count": 3,
   "metadata": {
    "colab": {
     "base_uri": "https://localhost:8080/",
     "height": 78
    },
    "executionInfo": {
     "elapsed": 6153,
     "status": "ok",
     "timestamp": 1618301779955,
     "user": {
      "displayName": "Rafael Berlanga Llavori",
      "photoUrl": "https://lh3.googleusercontent.com/a-/AOh14Gij7a_x7hln_mccXdSKtg2BpPtMu66FEoe7m3u32g=s64",
      "userId": "05947012679519155640"
     },
     "user_tz": -120
    },
    "id": "n5_S0loEiui_",
    "outputId": "8abe6317-7989-4282-97eb-4c55714f52dd"
   },
   "outputs": [
    {
     "data": {
      "text/html": [
       "<div>\n",
       "<style scoped>\n",
       "    .dataframe tbody tr th:only-of-type {\n",
       "        vertical-align: middle;\n",
       "    }\n",
       "\n",
       "    .dataframe tbody tr th {\n",
       "        vertical-align: top;\n",
       "    }\n",
       "\n",
       "    .dataframe thead th {\n",
       "        text-align: right;\n",
       "    }\n",
       "</style>\n",
       "<table border=\"1\" class=\"dataframe\">\n",
       "  <thead>\n",
       "    <tr style=\"text-align: right;\">\n",
       "      <th></th>\n",
       "      <th>id</th>\n",
       "      <th>comment_text</th>\n",
       "      <th>toxic</th>\n",
       "      <th>severe_toxic</th>\n",
       "      <th>obscene</th>\n",
       "      <th>threat</th>\n",
       "      <th>insult</th>\n",
       "      <th>identity_hate</th>\n",
       "    </tr>\n",
       "  </thead>\n",
       "  <tbody>\n",
       "    <tr>\n",
       "      <th>0</th>\n",
       "      <td>0000997932d777bf</td>\n",
       "      <td>Explanation\\nWhy the edits made under my usern...</td>\n",
       "      <td>0</td>\n",
       "      <td>0</td>\n",
       "      <td>0</td>\n",
       "      <td>0</td>\n",
       "      <td>0</td>\n",
       "      <td>0</td>\n",
       "    </tr>\n",
       "  </tbody>\n",
       "</table>\n",
       "</div>"
      ],
      "text/plain": [
       "                 id                                       comment_text  toxic  \\\n",
       "0  0000997932d777bf  Explanation\\nWhy the edits made under my usern...      0   \n",
       "\n",
       "   severe_toxic  obscene  threat  insult  identity_hate  \n",
       "0             0        0       0       0              0  "
      ]
     },
     "execution_count": 3,
     "metadata": {},
     "output_type": "execute_result"
    }
   ],
   "source": [
    "df =  pd.read_csv(path + 'train.csv') \n",
    "df.head(1)"
   ]
  },
  {
   "cell_type": "code",
   "execution_count": 4,
   "metadata": {
    "colab": {
     "base_uri": "https://localhost:8080/",
     "height": 288
    },
    "executionInfo": {
     "elapsed": 1187,
     "status": "ok",
     "timestamp": 1618301788046,
     "user": {
      "displayName": "Rafael Berlanga Llavori",
      "photoUrl": "https://lh3.googleusercontent.com/a-/AOh14Gij7a_x7hln_mccXdSKtg2BpPtMu66FEoe7m3u32g=s64",
      "userId": "05947012679519155640"
     },
     "user_tz": -120
    },
    "id": "NmU-r0JMqSFX",
    "outputId": "657caa02-cf9b-4d03-b0e1-563d32476ecb"
   },
   "outputs": [
    {
     "data": {
      "text/html": [
       "<div>\n",
       "<style scoped>\n",
       "    .dataframe tbody tr th:only-of-type {\n",
       "        vertical-align: middle;\n",
       "    }\n",
       "\n",
       "    .dataframe tbody tr th {\n",
       "        vertical-align: top;\n",
       "    }\n",
       "\n",
       "    .dataframe thead th {\n",
       "        text-align: right;\n",
       "    }\n",
       "</style>\n",
       "<table border=\"1\" class=\"dataframe\">\n",
       "  <thead>\n",
       "    <tr style=\"text-align: right;\">\n",
       "      <th></th>\n",
       "      <th>toxic</th>\n",
       "      <th>severe_toxic</th>\n",
       "      <th>obscene</th>\n",
       "      <th>threat</th>\n",
       "      <th>insult</th>\n",
       "      <th>identity_hate</th>\n",
       "    </tr>\n",
       "  </thead>\n",
       "  <tbody>\n",
       "    <tr>\n",
       "      <th>count</th>\n",
       "      <td>159571.000000</td>\n",
       "      <td>159571.000000</td>\n",
       "      <td>159571.000000</td>\n",
       "      <td>159571.000000</td>\n",
       "      <td>159571.000000</td>\n",
       "      <td>159571.000000</td>\n",
       "    </tr>\n",
       "    <tr>\n",
       "      <th>mean</th>\n",
       "      <td>0.095844</td>\n",
       "      <td>0.009996</td>\n",
       "      <td>0.052948</td>\n",
       "      <td>0.002996</td>\n",
       "      <td>0.049364</td>\n",
       "      <td>0.008805</td>\n",
       "    </tr>\n",
       "    <tr>\n",
       "      <th>std</th>\n",
       "      <td>0.294379</td>\n",
       "      <td>0.099477</td>\n",
       "      <td>0.223931</td>\n",
       "      <td>0.054650</td>\n",
       "      <td>0.216627</td>\n",
       "      <td>0.093420</td>\n",
       "    </tr>\n",
       "    <tr>\n",
       "      <th>min</th>\n",
       "      <td>0.000000</td>\n",
       "      <td>0.000000</td>\n",
       "      <td>0.000000</td>\n",
       "      <td>0.000000</td>\n",
       "      <td>0.000000</td>\n",
       "      <td>0.000000</td>\n",
       "    </tr>\n",
       "    <tr>\n",
       "      <th>25%</th>\n",
       "      <td>0.000000</td>\n",
       "      <td>0.000000</td>\n",
       "      <td>0.000000</td>\n",
       "      <td>0.000000</td>\n",
       "      <td>0.000000</td>\n",
       "      <td>0.000000</td>\n",
       "    </tr>\n",
       "    <tr>\n",
       "      <th>50%</th>\n",
       "      <td>0.000000</td>\n",
       "      <td>0.000000</td>\n",
       "      <td>0.000000</td>\n",
       "      <td>0.000000</td>\n",
       "      <td>0.000000</td>\n",
       "      <td>0.000000</td>\n",
       "    </tr>\n",
       "    <tr>\n",
       "      <th>75%</th>\n",
       "      <td>0.000000</td>\n",
       "      <td>0.000000</td>\n",
       "      <td>0.000000</td>\n",
       "      <td>0.000000</td>\n",
       "      <td>0.000000</td>\n",
       "      <td>0.000000</td>\n",
       "    </tr>\n",
       "    <tr>\n",
       "      <th>max</th>\n",
       "      <td>1.000000</td>\n",
       "      <td>1.000000</td>\n",
       "      <td>1.000000</td>\n",
       "      <td>1.000000</td>\n",
       "      <td>1.000000</td>\n",
       "      <td>1.000000</td>\n",
       "    </tr>\n",
       "  </tbody>\n",
       "</table>\n",
       "</div>"
      ],
      "text/plain": [
       "               toxic   severe_toxic        obscene         threat  \\\n",
       "count  159571.000000  159571.000000  159571.000000  159571.000000   \n",
       "mean        0.095844       0.009996       0.052948       0.002996   \n",
       "std         0.294379       0.099477       0.223931       0.054650   \n",
       "min         0.000000       0.000000       0.000000       0.000000   \n",
       "25%         0.000000       0.000000       0.000000       0.000000   \n",
       "50%         0.000000       0.000000       0.000000       0.000000   \n",
       "75%         0.000000       0.000000       0.000000       0.000000   \n",
       "max         1.000000       1.000000       1.000000       1.000000   \n",
       "\n",
       "              insult  identity_hate  \n",
       "count  159571.000000  159571.000000  \n",
       "mean        0.049364       0.008805  \n",
       "std         0.216627       0.093420  \n",
       "min         0.000000       0.000000  \n",
       "25%         0.000000       0.000000  \n",
       "50%         0.000000       0.000000  \n",
       "75%         0.000000       0.000000  \n",
       "max         1.000000       1.000000  "
      ]
     },
     "execution_count": 4,
     "metadata": {},
     "output_type": "execute_result"
    }
   ],
   "source": [
    "df.describe()"
   ]
  },
  {
   "cell_type": "markdown",
   "metadata": {
    "id": "79nD21uoE__o"
   },
   "source": [
    "# Cosas de BERT"
   ]
  },
  {
   "cell_type": "code",
   "execution_count": 5,
   "metadata": {
    "id": "FTM7CukthLe5"
   },
   "outputs": [],
   "source": [
    "from keras.utils import plot_model"
   ]
  },
  {
   "cell_type": "code",
   "execution_count": 8,
   "metadata": {
    "colab": {
     "base_uri": "https://localhost:8080/"
    },
    "executionInfo": {
     "elapsed": 31001,
     "status": "ok",
     "timestamp": 1618301839070,
     "user": {
      "displayName": "Rafael Berlanga Llavori",
      "photoUrl": "https://lh3.googleusercontent.com/a-/AOh14Gij7a_x7hln_mccXdSKtg2BpPtMu66FEoe7m3u32g=s64",
      "userId": "05947012679519155640"
     },
     "user_tz": -120
    },
    "id": "SYVvwQsAFb08",
    "outputId": "f4529f37-7361-492f-f7fb-58d481c1992b"
   },
   "outputs": [
    {
     "name": "stdout",
     "output_type": "stream",
     "text": [
      "^C\n"
     ]
    }
   ],
   "source": [
    "!test -d models || git clone https://github.com/tensorflow/models models"
   ]
  },
  {
   "cell_type": "code",
   "execution_count": 9,
   "metadata": {
    "id": "ADBmPobAICOm"
   },
   "outputs": [],
   "source": [
    "if not '/content/models/official/nlp/bert' in sys.path:\n",
    "  sys.path += ['/content/models/official/nlp/bert']"
   ]
  },
  {
   "cell_type": "code",
   "execution_count": 6,
   "metadata": {
    "colab": {
     "base_uri": "https://localhost:8080/"
    },
    "executionInfo": {
     "elapsed": 5313,
     "status": "ok",
     "timestamp": 1618301851573,
     "user": {
      "displayName": "Rafael Berlanga Llavori",
      "photoUrl": "https://lh3.googleusercontent.com/a-/AOh14Gij7a_x7hln_mccXdSKtg2BpPtMu66FEoe7m3u32g=s64",
      "userId": "05947012679519155640"
     },
     "user_tz": -120
    },
    "id": "jxLAk0q4VcZ8",
    "outputId": "2971da92-1e98-4962-a260-b0f62986b1eb"
   },
   "outputs": [
    {
     "name": "stdout",
     "output_type": "stream",
     "text": [
      "Collecting sentencepiece\n",
      "  Downloading sentencepiece-0.1.95-cp38-cp38-win_amd64.whl (1.2 MB)\n",
      "Installing collected packages: sentencepiece\n",
      "Successfully installed sentencepiece-0.1.95\n"
     ]
    }
   ],
   "source": [
    "!pip install sentencepiece"
   ]
  },
  {
   "cell_type": "code",
   "execution_count": 23,
   "metadata": {},
   "outputs": [
    {
     "name": "stdout",
     "output_type": "stream",
     "text": [
      "Collecting bert-tensorflow==1.0.1\n",
      "  Downloading bert_tensorflow-1.0.1-py2.py3-none-any.whl (67 kB)\n",
      "Requirement already satisfied: six in c:\\users\\juanl\\appdata\\local\\programs\\python\\python38\\lib\\site-packages (from bert-tensorflow==1.0.1) (1.15.0)\n",
      "Installing collected packages: bert-tensorflow\n",
      "Successfully installed bert-tensorflow-1.0.1\n"
     ]
    }
   ],
   "source": [
    "!pip install bert-tensorflow==1.0.1"
   ]
  },
  {
   "cell_type": "code",
   "execution_count": 24,
   "metadata": {
    "id": "E9OqzcjVJDuY"
   },
   "outputs": [],
   "source": [
    "from bert import tokenization"
   ]
  },
  {
   "cell_type": "code",
   "execution_count": 8,
   "metadata": {
    "id": "FzWtctjWJypJ"
   },
   "outputs": [],
   "source": [
    "# See BERT paper: https://arxiv.org/pdf/1810.04805.pdf\n",
    "# And BERT implementation convert_single_example() at https://github.com/google-research/bert/blob/master/run_classifier.py\n",
    "\n",
    "def get_masks(tokens, max_seq_length):\n",
    "    \"\"\"Mask for padding\"\"\"\n",
    "    if len(tokens)>max_seq_length:\n",
    "        raise IndexError(\"Token length more than max seq length!\")\n",
    "    return [1]*len(tokens) + [0] * (max_seq_length - len(tokens))\n",
    "\n",
    "\n",
    "def get_segments(tokens, max_seq_length):\n",
    "    \"\"\"Segments: 0 for the first sequence, 1 for the second\"\"\"\n",
    "    if len(tokens)>max_seq_length:\n",
    "        raise IndexError(\"Token length more than max seq length!\")\n",
    "    segments = []\n",
    "    current_segment_id = 0\n",
    "    for token in tokens:\n",
    "        segments.append(current_segment_id)\n",
    "        if token == \"[SEP]\":\n",
    "            current_segment_id = 1\n",
    "    return segments + [0] * (max_seq_length - len(tokens))\n",
    "\n",
    "\n",
    "def get_ids(tokens, tokenizer, max_seq_length):\n",
    "    \"\"\"Token ids from Tokenizer vocab\"\"\"\n",
    "    token_ids = tokenizer.convert_tokens_to_ids(tokens)\n",
    "    input_ids = token_ids + [0] * (max_seq_length-len(token_ids))\n",
    "    return input_ids"
   ]
  },
  {
   "cell_type": "markdown",
   "metadata": {
    "id": "9D4cv__G9h0Y"
   },
   "source": [
    "Conceptos introductorios de  **BERT** (Se puede saltar)"
   ]
  },
  {
   "cell_type": "code",
   "execution_count": 9,
   "metadata": {
    "id": "I_MSjthTFDKP"
   },
   "outputs": [],
   "source": [
    "max_seq_length = 128  # Máxima longitud de las cadenas (palabras)\n",
    "\n",
    "input_word_ids = tf.keras.layers.Input(shape=(max_seq_length,), dtype=tf.int32,\n",
    "                                       name=\"input_word_ids\")\n",
    "input_mask = tf.keras.layers.Input(shape=(max_seq_length,), dtype=tf.int32,\n",
    "                                   name=\"input_mask\")\n",
    "segment_ids = tf.keras.layers.Input(shape=(max_seq_length,), dtype=tf.int32,\n",
    "                                    name=\"segment_ids\")\n",
    "bert_layer = hub.KerasLayer(\"https://tfhub.dev/tensorflow/bert_en_cased_L-12_H-768_A-12/1\",\n",
    "                            trainable=True)\n",
    "pooled_output, sequence_output = bert_layer([input_word_ids, input_mask, segment_ids])"
   ]
  },
  {
   "cell_type": "code",
   "execution_count": 10,
   "metadata": {
    "colab": {
     "base_uri": "https://localhost:8080/",
     "height": 485
    },
    "executionInfo": {
     "elapsed": 1166,
     "status": "ok",
     "timestamp": 1618301921479,
     "user": {
      "displayName": "Rafael Berlanga Llavori",
      "photoUrl": "https://lh3.googleusercontent.com/a-/AOh14Gij7a_x7hln_mccXdSKtg2BpPtMu66FEoe7m3u32g=s64",
      "userId": "05947012679519155640"
     },
     "user_tz": -120
    },
    "id": "ybp6UadpFVDi",
    "outputId": "aafdf982-8ca0-4143-8b6f-5b0ef399d377",
    "scrolled": true
   },
   "outputs": [
    {
     "name": "stdout",
     "output_type": "stream",
     "text": [
      "Model: \"model\"\n",
      "__________________________________________________________________________________________________\n",
      "Layer (type)                    Output Shape         Param #     Connected to                     \n",
      "==================================================================================================\n",
      "input_word_ids (InputLayer)     [(None, 128)]        0                                            \n",
      "__________________________________________________________________________________________________\n",
      "input_mask (InputLayer)         [(None, 128)]        0                                            \n",
      "__________________________________________________________________________________________________\n",
      "segment_ids (InputLayer)        [(None, 128)]        0                                            \n",
      "__________________________________________________________________________________________________\n",
      "keras_layer (KerasLayer)        [(None, 768), (None, 108310273   input_word_ids[0][0]             \n",
      "                                                                 input_mask[0][0]                 \n",
      "                                                                 segment_ids[0][0]                \n",
      "==================================================================================================\n",
      "Total params: 108,310,273\n",
      "Trainable params: 108,310,272\n",
      "Non-trainable params: 1\n",
      "__________________________________________________________________________________________________\n"
     ]
    },
    {
     "data": {
      "image/png": "[encoded data removed]",
      "text/plain": [
       "<IPython.core.display.Image object>"
      ]
     },
     "execution_count": 10,
     "metadata": {},
     "output_type": "execute_result"
    }
   ],
   "source": [
    "model = Model(inputs=[input_word_ids, input_mask, segment_ids], outputs=[pooled_output, sequence_output])\n",
    "model.summary()\n",
    "\n",
    "plot_model(model)"
   ]
  },
  {
   "cell_type": "code",
   "execution_count": 25,
   "metadata": {
    "id": "a8efM_MxFK0J"
   },
   "outputs": [],
   "source": [
    "vocab_file     = bert_layer.resolved_object.vocab_file.asset_path.numpy()\n",
    "do_lower_case  = bert_layer.resolved_object.do_lower_case.numpy()\n",
    "tokenizer      = tokenization.FullTokenizer(vocab_file, do_lower_case)"
   ]
  },
  {
   "cell_type": "code",
   "execution_count": 26,
   "metadata": {
    "colab": {
     "base_uri": "https://localhost:8080/"
    },
    "executionInfo": {
     "elapsed": 1082,
     "status": "ok",
     "timestamp": 1618301933365,
     "user": {
      "displayName": "Rafael Berlanga Llavori",
      "photoUrl": "https://lh3.googleusercontent.com/a-/AOh14Gij7a_x7hln_mccXdSKtg2BpPtMu66FEoe7m3u32g=s64",
      "userId": "05947012679519155640"
     },
     "user_tz": -120
    },
    "id": "yMFnsXH1KLfP",
    "outputId": "4938f673-a0fa-4e4b-a60d-4057993a7034"
   },
   "outputs": [
    {
     "ename": "UnparsedFlagAccessError",
     "evalue": "Trying to access flag --preserve_unused_tokens before flags were parsed.",
     "output_type": "error",
     "traceback": [
      "\u001b[1;31m---------------------------------------------------------------------------\u001b[0m",
      "\u001b[1;31mUnparsedFlagAccessError\u001b[0m                   Traceback (most recent call last)",
      "\u001b[1;32m<ipython-input-26-18c2345624a5>\u001b[0m in \u001b[0;36m<module>\u001b[1;34m\u001b[0m\n\u001b[0;32m      1\u001b[0m \u001b[0ms\u001b[0m \u001b[1;33m=\u001b[0m \u001b[1;34m\"This is a nice sentence.\"\u001b[0m\u001b[1;33m\u001b[0m\u001b[1;33m\u001b[0m\u001b[0m\n\u001b[1;32m----> 2\u001b[1;33m \u001b[0mtokens\u001b[0m \u001b[1;33m=\u001b[0m \u001b[0mtokenizer\u001b[0m\u001b[1;33m.\u001b[0m\u001b[0mtokenize\u001b[0m\u001b[1;33m(\u001b[0m\u001b[0ms\u001b[0m\u001b[1;33m)\u001b[0m\u001b[1;33m\u001b[0m\u001b[1;33m\u001b[0m\u001b[0m\n\u001b[0m\u001b[0;32m      3\u001b[0m \u001b[0mprint\u001b[0m\u001b[1;33m(\u001b[0m\u001b[0mtokens\u001b[0m\u001b[1;33m)\u001b[0m\u001b[1;33m\u001b[0m\u001b[1;33m\u001b[0m\u001b[0m\n",
      "\u001b[1;32mc:\\users\\juanl\\appdata\\local\\programs\\python\\python38\\lib\\site-packages\\bert\\tokenization.py\u001b[0m in \u001b[0;36mtokenize\u001b[1;34m(self, text)\u001b[0m\n\u001b[0;32m    190\u001b[0m \u001b[1;33m\u001b[0m\u001b[0m\n\u001b[0;32m    191\u001b[0m     \u001b[0mArgs\u001b[0m\u001b[1;33m:\u001b[0m\u001b[1;33m\u001b[0m\u001b[1;33m\u001b[0m\u001b[0m\n\u001b[1;32m--> 192\u001b[1;33m       \u001b[0mdo_lower_case\u001b[0m\u001b[1;33m:\u001b[0m \u001b[0mWhether\u001b[0m \u001b[0mto\u001b[0m \u001b[0mlower\u001b[0m \u001b[0mcase\u001b[0m \u001b[0mthe\u001b[0m \u001b[0minput\u001b[0m\u001b[1;33m.\u001b[0m\u001b[1;33m\u001b[0m\u001b[1;33m\u001b[0m\u001b[0m\n\u001b[0m\u001b[0;32m    193\u001b[0m     \"\"\"\n\u001b[0;32m    194\u001b[0m     \u001b[0mself\u001b[0m\u001b[1;33m.\u001b[0m\u001b[0mdo_lower_case\u001b[0m \u001b[1;33m=\u001b[0m \u001b[0mdo_lower_case\u001b[0m\u001b[1;33m\u001b[0m\u001b[1;33m\u001b[0m\u001b[0m\n",
      "\u001b[1;32mc:\\users\\juanl\\appdata\\local\\programs\\python\\python38\\lib\\site-packages\\bert\\tokenization.py\u001b[0m in \u001b[0;36mtokenize\u001b[1;34m(self, text)\u001b[0m\n\u001b[0;32m    235\u001b[0m     \u001b[0mstart_new_word\u001b[0m \u001b[1;33m=\u001b[0m \u001b[1;32mTrue\u001b[0m\u001b[1;33m\u001b[0m\u001b[1;33m\u001b[0m\u001b[0m\n\u001b[0;32m    236\u001b[0m     \u001b[0moutput\u001b[0m \u001b[1;33m=\u001b[0m \u001b[1;33m[\u001b[0m\u001b[1;33m]\u001b[0m\u001b[1;33m\u001b[0m\u001b[1;33m\u001b[0m\u001b[0m\n\u001b[1;32m--> 237\u001b[1;33m     \u001b[1;32mwhile\u001b[0m \u001b[0mi\u001b[0m \u001b[1;33m<\u001b[0m \u001b[0mlen\u001b[0m\u001b[1;33m(\u001b[0m\u001b[0mchars\u001b[0m\u001b[1;33m)\u001b[0m\u001b[1;33m:\u001b[0m\u001b[1;33m\u001b[0m\u001b[1;33m\u001b[0m\u001b[0m\n\u001b[0m\u001b[0;32m    238\u001b[0m       \u001b[0mchar\u001b[0m \u001b[1;33m=\u001b[0m \u001b[0mchars\u001b[0m\u001b[1;33m[\u001b[0m\u001b[0mi\u001b[0m\u001b[1;33m]\u001b[0m\u001b[1;33m\u001b[0m\u001b[1;33m\u001b[0m\u001b[0m\n\u001b[0;32m    239\u001b[0m       \u001b[1;32mif\u001b[0m \u001b[0m_is_punctuation\u001b[0m\u001b[1;33m(\u001b[0m\u001b[0mchar\u001b[0m\u001b[1;33m)\u001b[0m\u001b[1;33m:\u001b[0m\u001b[1;33m\u001b[0m\u001b[1;33m\u001b[0m\u001b[0m\n",
      "\u001b[1;32mc:\\users\\juanl\\appdata\\local\\programs\\python\\python38\\lib\\site-packages\\bert\\tokenization.py\u001b[0m in \u001b[0;36mpreserve_token\u001b[1;34m(token, vocab)\u001b[0m\n\u001b[0;32m     39\u001b[0m   \u001b[0mm\u001b[0m \u001b[1;33m=\u001b[0m \u001b[0mre\u001b[0m\u001b[1;33m.\u001b[0m\u001b[0mmatch\u001b[0m\u001b[1;33m(\u001b[0m\u001b[1;34m\"^.*?([A-Za-z0-9_-]+)/bert_model.ckpt\"\u001b[0m\u001b[1;33m,\u001b[0m \u001b[0minit_checkpoint\u001b[0m\u001b[1;33m)\u001b[0m\u001b[1;33m\u001b[0m\u001b[1;33m\u001b[0m\u001b[0m\n\u001b[0;32m     40\u001b[0m   \u001b[1;32mif\u001b[0m \u001b[0mm\u001b[0m \u001b[1;32mis\u001b[0m \u001b[1;32mNone\u001b[0m\u001b[1;33m:\u001b[0m\u001b[1;33m\u001b[0m\u001b[1;33m\u001b[0m\u001b[0m\n\u001b[1;32m---> 41\u001b[1;33m     \u001b[1;32mreturn\u001b[0m\u001b[1;33m\u001b[0m\u001b[1;33m\u001b[0m\u001b[0m\n\u001b[0m\u001b[0;32m     42\u001b[0m \u001b[1;33m\u001b[0m\u001b[0m\n\u001b[0;32m     43\u001b[0m   \u001b[0mmodel_name\u001b[0m \u001b[1;33m=\u001b[0m \u001b[0mm\u001b[0m\u001b[1;33m.\u001b[0m\u001b[0mgroup\u001b[0m\u001b[1;33m(\u001b[0m\u001b[1;36m1\u001b[0m\u001b[1;33m)\u001b[0m\u001b[1;33m\u001b[0m\u001b[1;33m\u001b[0m\u001b[0m\n",
      "\u001b[1;32mc:\\users\\juanl\\appdata\\local\\programs\\python\\python38\\lib\\site-packages\\absl\\flags\\_flagvalues.py\u001b[0m in \u001b[0;36m__getattr__\u001b[1;34m(self, name)\u001b[0m\n\u001b[0;32m    496\u001b[0m         \u001b[1;31m# get too much noise.\u001b[0m\u001b[1;33m\u001b[0m\u001b[1;33m\u001b[0m\u001b[1;33m\u001b[0m\u001b[0m\n\u001b[0;32m    497\u001b[0m         \u001b[0mlogging\u001b[0m\u001b[1;33m.\u001b[0m\u001b[0merror\u001b[0m\u001b[1;33m(\u001b[0m\u001b[0merror_message\u001b[0m\u001b[1;33m)\u001b[0m\u001b[1;33m\u001b[0m\u001b[1;33m\u001b[0m\u001b[0m\n\u001b[1;32m--> 498\u001b[1;33m       \u001b[1;32mraise\u001b[0m \u001b[0m_exceptions\u001b[0m\u001b[1;33m.\u001b[0m\u001b[0mUnparsedFlagAccessError\u001b[0m\u001b[1;33m(\u001b[0m\u001b[0merror_message\u001b[0m\u001b[1;33m)\u001b[0m\u001b[1;33m\u001b[0m\u001b[1;33m\u001b[0m\u001b[0m\n\u001b[0m\u001b[0;32m    499\u001b[0m \u001b[1;33m\u001b[0m\u001b[0m\n\u001b[0;32m    500\u001b[0m   \u001b[1;32mdef\u001b[0m \u001b[0m__setattr__\u001b[0m\u001b[1;33m(\u001b[0m\u001b[0mself\u001b[0m\u001b[1;33m,\u001b[0m \u001b[0mname\u001b[0m\u001b[1;33m,\u001b[0m \u001b[0mvalue\u001b[0m\u001b[1;33m)\u001b[0m\u001b[1;33m:\u001b[0m\u001b[1;33m\u001b[0m\u001b[1;33m\u001b[0m\u001b[0m\n",
      "\u001b[1;31mUnparsedFlagAccessError\u001b[0m: Trying to access flag --preserve_unused_tokens before flags were parsed."
     ]
    }
   ],
   "source": [
    "s = \"This is a nice sentence.\"\n",
    "tokens = tokenizer.tokenize(s)\n",
    "print(tokens)"
   ]
  },
  {
   "cell_type": "code",
   "execution_count": null,
   "metadata": {
    "id": "vtPvy2P2KRuC"
   },
   "outputs": [],
   "source": [
    "#TOKENS especiales [CLS] [SEP] [MASK]\n",
    "\n",
    "stokens = [\"[CLS]\"] + tokens + [\"[SEP]\"]"
   ]
  },
  {
   "cell_type": "code",
   "execution_count": null,
   "metadata": {
    "id": "ChWCaEg6KTbF"
   },
   "outputs": [],
   "source": [
    "input_ids = get_ids(stokens, tokenizer, max_seq_length)\n",
    "input_masks = get_masks(stokens, max_seq_length)\n",
    "input_segments = get_segments(stokens, max_seq_length)"
   ]
  },
  {
   "cell_type": "code",
   "execution_count": null,
   "metadata": {
    "colab": {
     "base_uri": "https://localhost:8080/"
    },
    "executionInfo": {
     "elapsed": 2163,
     "status": "ok",
     "timestamp": 1618301974839,
     "user": {
      "displayName": "Rafael Berlanga Llavori",
      "photoUrl": "https://lh3.googleusercontent.com/a-/AOh14Gij7a_x7hln_mccXdSKtg2BpPtMu66FEoe7m3u32g=s64",
      "userId": "05947012679519155640"
     },
     "user_tz": -120
    },
    "id": "wHXyQYDUKc92",
    "outputId": "74917c8f-8101-4cf2-fa99-9b075b056a71"
   },
   "outputs": [
    {
     "name": "stdout",
     "output_type": "stream",
     "text": [
      "['[CLS]', '[CLS]', 'This', 'is', 'a', 'nice', 'sentence', '.', '[SEP]', '[SEP]']\n",
      "[101, 101, 1188, 1110, 170, 3505, 5650, 119, 102, 102, 0, 0, 0, 0, 0, 0, 0, 0, 0, 0, 0, 0, 0, 0, 0, 0, 0, 0, 0, 0, 0, 0, 0, 0, 0, 0, 0, 0, 0, 0, 0, 0, 0, 0, 0, 0, 0, 0, 0, 0, 0, 0, 0, 0, 0, 0, 0, 0, 0, 0, 0, 0, 0, 0, 0, 0, 0, 0, 0, 0, 0, 0, 0, 0, 0, 0, 0, 0, 0, 0, 0, 0, 0, 0, 0, 0, 0, 0, 0, 0, 0, 0, 0, 0, 0, 0, 0, 0, 0, 0, 0, 0, 0, 0, 0, 0, 0, 0, 0, 0, 0, 0, 0, 0, 0, 0, 0, 0, 0, 0, 0, 0, 0, 0, 0, 0, 0, 0]\n",
      "[1, 1, 1, 1, 1, 1, 1, 1, 1, 1, 0, 0, 0, 0, 0, 0, 0, 0, 0, 0, 0, 0, 0, 0, 0, 0, 0, 0, 0, 0, 0, 0, 0, 0, 0, 0, 0, 0, 0, 0, 0, 0, 0, 0, 0, 0, 0, 0, 0, 0, 0, 0, 0, 0, 0, 0, 0, 0, 0, 0, 0, 0, 0, 0, 0, 0, 0, 0, 0, 0, 0, 0, 0, 0, 0, 0, 0, 0, 0, 0, 0, 0, 0, 0, 0, 0, 0, 0, 0, 0, 0, 0, 0, 0, 0, 0, 0, 0, 0, 0, 0, 0, 0, 0, 0, 0, 0, 0, 0, 0, 0, 0, 0, 0, 0, 0, 0, 0, 0, 0, 0, 0, 0, 0, 0, 0, 0, 0]\n",
      "[0, 0, 0, 0, 0, 0, 0, 0, 0, 1, 0, 0, 0, 0, 0, 0, 0, 0, 0, 0, 0, 0, 0, 0, 0, 0, 0, 0, 0, 0, 0, 0, 0, 0, 0, 0, 0, 0, 0, 0, 0, 0, 0, 0, 0, 0, 0, 0, 0, 0, 0, 0, 0, 0, 0, 0, 0, 0, 0, 0, 0, 0, 0, 0, 0, 0, 0, 0, 0, 0, 0, 0, 0, 0, 0, 0, 0, 0, 0, 0, 0, 0, 0, 0, 0, 0, 0, 0, 0, 0, 0, 0, 0, 0, 0, 0, 0, 0, 0, 0, 0, 0, 0, 0, 0, 0, 0, 0, 0, 0, 0, 0, 0, 0, 0, 0, 0, 0, 0, 0, 0, 0, 0, 0, 0, 0, 0, 0]\n"
     ]
    }
   ],
   "source": [
    "print(stokens)\n",
    "print(input_ids)\n",
    "print(input_masks)\n",
    "print(input_segments)"
   ]
  },
  {
   "cell_type": "code",
   "execution_count": null,
   "metadata": {
    "colab": {
     "base_uri": "https://localhost:8080/"
    },
    "executionInfo": {
     "elapsed": 8125,
     "status": "ok",
     "timestamp": 1618301990598,
     "user": {
      "displayName": "Rafael Berlanga Llavori",
      "photoUrl": "https://lh3.googleusercontent.com/a-/AOh14Gij7a_x7hln_mccXdSKtg2BpPtMu66FEoe7m3u32g=s64",
      "userId": "05947012679519155640"
     },
     "user_tz": -120
    },
    "id": "CeO0KF-TKf6j",
    "outputId": "1d859ddf-40de-49e8-9d64-d5edea5d1355"
   },
   "outputs": [
    {
     "name": "stdout",
     "output_type": "stream",
     "text": [
      "WARNING:tensorflow:Model was constructed with shape (None, 128) for input KerasTensor(type_spec=TensorSpec(shape=(None, 128), dtype=tf.int32, name='input_word_ids'), name='input_word_ids', description=\"created by layer 'input_word_ids'\"), but it was called on an input with incompatible shape (32, 1).\n"
     ]
    },
    {
     "name": "stderr",
     "output_type": "stream",
     "text": [
      "WARNING:tensorflow:Model was constructed with shape (None, 128) for input KerasTensor(type_spec=TensorSpec(shape=(None, 128), dtype=tf.int32, name='input_word_ids'), name='input_word_ids', description=\"created by layer 'input_word_ids'\"), but it was called on an input with incompatible shape (32, 1).\n"
     ]
    },
    {
     "name": "stdout",
     "output_type": "stream",
     "text": [
      "WARNING:tensorflow:Model was constructed with shape (None, 128) for input KerasTensor(type_spec=TensorSpec(shape=(None, 128), dtype=tf.int32, name='input_mask'), name='input_mask', description=\"created by layer 'input_mask'\"), but it was called on an input with incompatible shape (32, 1).\n"
     ]
    },
    {
     "name": "stderr",
     "output_type": "stream",
     "text": [
      "WARNING:tensorflow:Model was constructed with shape (None, 128) for input KerasTensor(type_spec=TensorSpec(shape=(None, 128), dtype=tf.int32, name='input_mask'), name='input_mask', description=\"created by layer 'input_mask'\"), but it was called on an input with incompatible shape (32, 1).\n"
     ]
    },
    {
     "name": "stdout",
     "output_type": "stream",
     "text": [
      "WARNING:tensorflow:Model was constructed with shape (None, 128) for input KerasTensor(type_spec=TensorSpec(shape=(None, 128), dtype=tf.int32, name='segment_ids'), name='segment_ids', description=\"created by layer 'segment_ids'\"), but it was called on an input with incompatible shape (32, 1).\n"
     ]
    },
    {
     "name": "stderr",
     "output_type": "stream",
     "text": [
      "WARNING:tensorflow:Model was constructed with shape (None, 128) for input KerasTensor(type_spec=TensorSpec(shape=(None, 128), dtype=tf.int32, name='segment_ids'), name='segment_ids', description=\"created by layer 'segment_ids'\"), but it was called on an input with incompatible shape (32, 1).\n"
     ]
    },
    {
     "data": {
      "text/plain": [
       "(128, 768)"
      ]
     },
     "execution_count": 22,
     "metadata": {
      "tags": []
     },
     "output_type": "execute_result"
    }
   ],
   "source": [
    "[all_embs, tokens_emb] = model.predict([tf.convert_to_tensor(np.array(input_ids), dtype=tf.int32),\n",
    "                                        tf.convert_to_tensor(np.array(input_masks), dtype=tf.int32),\n",
    "                                        tf.convert_to_tensor(np.array(input_segments), dtype=tf.int32)])\n",
    "\n",
    "print(all_embs.shape)\n",
    "print(tokens_emb.shape)"
   ]
  },
  {
   "cell_type": "markdown",
   "metadata": {
    "id": "t7NqPe2kYKNP"
   },
   "source": [
    "## MODELOS PRE-ENTRENADOS"
   ]
  },
  {
   "cell_type": "code",
   "execution_count": null,
   "metadata": {
    "id": "-Fn4SqP2-w2X"
   },
   "outputs": [],
   "source": [
    "BERT_DIR_NAME  = \"https://tfhub.dev/tensorflow/bert_en_cased_L-12_H-768_A-12/1\"\n",
    "\n",
    "bert_layer     = hub.KerasLayer(BERT_DIR_NAME, trainable = False, name = \"BertLayer\") ##OJO No es FINE-TUNING!!!\n",
    "\n",
    "vocab_file     = bert_layer.resolved_object.vocab_file.asset_path.numpy()\n",
    "do_lower_case  = bert_layer.resolved_object.do_lower_case.numpy()\n",
    "tokenizer      = tokenization.FullTokenizer(vocab_file, do_lower_case)"
   ]
  },
  {
   "cell_type": "markdown",
   "metadata": {
    "id": "cDP7njsG90_8"
   },
   "source": [
    "## PREPARANDO DATOS"
   ]
  },
  {
   "cell_type": "code",
   "execution_count": null,
   "metadata": {
    "id": "7RoOHFq6-5XV"
   },
   "outputs": [],
   "source": [
    "input_ids_all      = []\n",
    "input_masks_all    = []\n",
    "input_segments_all = []\n",
    "\n",
    "max_seq_length = 128\n",
    "\n",
    "def text2bert(s):\n",
    "  global tokenizer, max_seq_length,input_ids_all,input_masks_all,input_segments_all\n",
    "  \n",
    "  if s==None: s=''\n",
    "  \n",
    "  tokens = tokenizer.tokenize(s)[:max_seq_length - 2]\n",
    "  stokens = [\"[CLS]\"] + tokens + [\"[SEP]\"]\n",
    "\n",
    "  input_ids_all.append(get_ids(stokens, tokenizer, max_seq_length))\n",
    "  input_masks_all.append(get_masks(stokens, max_seq_length))\n",
    "  input_segments_all.append(get_segments(stokens, max_seq_length))\n",
    "  \n",
    "  return len(tokens) - max_seq_length - 2"
   ]
  },
  {
   "cell_type": "code",
   "execution_count": null,
   "metadata": {
    "colab": {
     "base_uri": "https://localhost:8080/",
     "height": 388
    },
    "executionInfo": {
     "elapsed": 217461,
     "status": "ok",
     "timestamp": 1618302283482,
     "user": {
      "displayName": "Rafael Berlanga Llavori",
      "photoUrl": "https://lh3.googleusercontent.com/a-/AOh14Gij7a_x7hln_mccXdSKtg2BpPtMu66FEoe7m3u32g=s64",
      "userId": "05947012679519155640"
     },
     "user_tz": -120
    },
    "id": "hiqHVnJQ_D7j",
    "outputId": "01fa3dd5-59f0-4714-8095-1de40b2f181f"
   },
   "outputs": [
    {
     "name": "stdout",
     "output_type": "stream",
     "text": [
      "0    Explanation\\nWhy the edits made under my usern...\n",
      "1    D'aww! He matches this background colour I'm s...\n",
      "2    Hey man, I'm really not trying to edit war. It...\n",
      "3    \"\\nMore\\nI can't make any real suggestions on ...\n",
      "4    You, sir, are my hero. Any chance you remember...\n",
      "Name: comment_text, dtype: object 0    0\n",
      "1    0\n",
      "2    0\n",
      "3    0\n",
      "4    0\n",
      "Name: toxic, dtype: int64\n"
     ]
    },
    {
     "data": {
      "text/html": [
       "<div>\n",
       "<style scoped>\n",
       "    .dataframe tbody tr th:only-of-type {\n",
       "        vertical-align: middle;\n",
       "    }\n",
       "\n",
       "    .dataframe tbody tr th {\n",
       "        vertical-align: top;\n",
       "    }\n",
       "\n",
       "    .dataframe thead th {\n",
       "        text-align: right;\n",
       "    }\n",
       "</style>\n",
       "<table border=\"1\" class=\"dataframe\">\n",
       "  <thead>\n",
       "    <tr style=\"text-align: right;\">\n",
       "      <th></th>\n",
       "      <th>id</th>\n",
       "      <th>comment_text</th>\n",
       "      <th>toxic</th>\n",
       "      <th>severe_toxic</th>\n",
       "      <th>obscene</th>\n",
       "      <th>threat</th>\n",
       "      <th>insult</th>\n",
       "      <th>identity_hate</th>\n",
       "    </tr>\n",
       "  </thead>\n",
       "  <tbody>\n",
       "    <tr>\n",
       "      <th>0</th>\n",
       "      <td>0000997932d777bf</td>\n",
       "      <td>Explanation\\nWhy the edits made under my usern...</td>\n",
       "      <td>0</td>\n",
       "      <td>0</td>\n",
       "      <td>0</td>\n",
       "      <td>0</td>\n",
       "      <td>0</td>\n",
       "      <td>0</td>\n",
       "    </tr>\n",
       "    <tr>\n",
       "      <th>1</th>\n",
       "      <td>000103f0d9cfb60f</td>\n",
       "      <td>D'aww! He matches this background colour I'm s...</td>\n",
       "      <td>0</td>\n",
       "      <td>0</td>\n",
       "      <td>0</td>\n",
       "      <td>0</td>\n",
       "      <td>0</td>\n",
       "      <td>0</td>\n",
       "    </tr>\n",
       "    <tr>\n",
       "      <th>2</th>\n",
       "      <td>000113f07ec002fd</td>\n",
       "      <td>Hey man, I'm really not trying to edit war. It...</td>\n",
       "      <td>0</td>\n",
       "      <td>0</td>\n",
       "      <td>0</td>\n",
       "      <td>0</td>\n",
       "      <td>0</td>\n",
       "      <td>0</td>\n",
       "    </tr>\n",
       "    <tr>\n",
       "      <th>3</th>\n",
       "      <td>0001b41b1c6bb37e</td>\n",
       "      <td>\"\\nMore\\nI can't make any real suggestions on ...</td>\n",
       "      <td>0</td>\n",
       "      <td>0</td>\n",
       "      <td>0</td>\n",
       "      <td>0</td>\n",
       "      <td>0</td>\n",
       "      <td>0</td>\n",
       "    </tr>\n",
       "    <tr>\n",
       "      <th>4</th>\n",
       "      <td>0001d958c54c6e35</td>\n",
       "      <td>You, sir, are my hero. Any chance you remember...</td>\n",
       "      <td>0</td>\n",
       "      <td>0</td>\n",
       "      <td>0</td>\n",
       "      <td>0</td>\n",
       "      <td>0</td>\n",
       "      <td>0</td>\n",
       "    </tr>\n",
       "  </tbody>\n",
       "</table>\n",
       "</div>"
      ],
      "text/plain": [
       "                 id  ... identity_hate\n",
       "0  0000997932d777bf  ...             0\n",
       "1  000103f0d9cfb60f  ...             0\n",
       "2  000113f07ec002fd  ...             0\n",
       "3  0001b41b1c6bb37e  ...             0\n",
       "4  0001d958c54c6e35  ...             0\n",
       "\n",
       "[5 rows x 8 columns]"
      ]
     },
     "execution_count": 25,
     "metadata": {
      "tags": []
     },
     "output_type": "execute_result"
    }
   ],
   "source": [
    "#df2 = df.iloc[:5000]\n",
    "df['comment_text'].apply(text2bert)\n",
    "\n",
    "classes = df['toxic'] #multiclass -> vectors of 6 units np.array(...)\n",
    "classes.describe()\n",
    "\n",
    "print(df.iloc[:5]['comment_text'], df.iloc[:5]['toxic'])\n",
    "df.head(5)"
   ]
  },
  {
   "cell_type": "markdown",
   "metadata": {
    "id": "P0p84LeoV_Pa"
   },
   "source": [
    "## ENTRENAMIENTO\n",
    "\n",
    "Construimos el modelo mediante el API funcional de TF. Básicamente añadimos dos capas densas por encima de la capa de BERT."
   ]
  },
  {
   "cell_type": "code",
   "execution_count": null,
   "metadata": {
    "id": "vRVlP_L-LCDV"
   },
   "outputs": [],
   "source": [
    "def build_model_(max_seq_length, bert_layer):\n",
    "  \n",
    "  input_word_ids = tf.keras.layers.Input(shape=(max_seq_length,), dtype=tf.int32,\n",
    "                                         name=\"input_word_ids\")\n",
    "  input_mask     = tf.keras.layers.Input(shape=(max_seq_length,), dtype=tf.int32,\n",
    "                                         name=\"input_mask\")\n",
    "  segment_ids    = tf.keras.layers.Input(shape=(max_seq_length,), dtype=tf.int32,\n",
    "                                         name=\"segment_ids\")\n",
    "  \n",
    "  pooled_output, sequence_output = bert_layer([input_word_ids, input_mask, segment_ids])\n",
    "\n",
    "  dense = tf.keras.layers.Dense(256, activation='relu', name = 'dense1')( pooled_output )\n",
    "  pred  = tf.keras.layers.Dense(1, activation='sigmoid', name = 'prediction')(dense) #multiclass -> 6 units\n",
    "\n",
    "  model = Model(inputs=[input_word_ids, input_mask, segment_ids], outputs=[pred])\n",
    "  #pooled_output, sequence_output\n",
    "\n",
    "  #model.compile(loss='binary_crossentropy', optimizer='adam', metrics=['accuracy'])\n",
    "  model.summary()\n",
    "  #plot_model(model) ##doesn't work!\n",
    "  \n",
    "  return model"
   ]
  },
  {
   "cell_type": "code",
   "execution_count": null,
   "metadata": {
    "colab": {
     "base_uri": "https://localhost:8080/"
    },
    "executionInfo": {
     "elapsed": 1575,
     "status": "ok",
     "timestamp": 1618302378153,
     "user": {
      "displayName": "Rafael Berlanga Llavori",
      "photoUrl": "https://lh3.googleusercontent.com/a-/AOh14Gij7a_x7hln_mccXdSKtg2BpPtMu66FEoe7m3u32g=s64",
      "userId": "05947012679519155640"
     },
     "user_tz": -120
    },
    "id": "7OYAmPkQasNn",
    "outputId": "71fbdcd9-bbbe-436c-a600-bae3a1beea10"
   },
   "outputs": [
    {
     "name": "stdout",
     "output_type": "stream",
     "text": [
      "Model: \"model_1\"\n",
      "__________________________________________________________________________________________________\n",
      "Layer (type)                    Output Shape         Param #     Connected to                     \n",
      "==================================================================================================\n",
      "input_word_ids (InputLayer)     [(None, 128)]        0                                            \n",
      "__________________________________________________________________________________________________\n",
      "input_mask (InputLayer)         [(None, 128)]        0                                            \n",
      "__________________________________________________________________________________________________\n",
      "segment_ids (InputLayer)        [(None, 128)]        0                                            \n",
      "__________________________________________________________________________________________________\n",
      "BertLayer (KerasLayer)          [(None, 768), (None, 108310273   input_word_ids[0][0]             \n",
      "                                                                 input_mask[0][0]                 \n",
      "                                                                 segment_ids[0][0]                \n",
      "__________________________________________________________________________________________________\n",
      "dense1 (Dense)                  (None, 256)          196864      BertLayer[0][0]                  \n",
      "__________________________________________________________________________________________________\n",
      "prediction (Dense)              (None, 1)            257         dense1[0][0]                     \n",
      "==================================================================================================\n",
      "Total params: 108,507,394\n",
      "Trainable params: 197,121\n",
      "Non-trainable params: 108,310,273\n",
      "__________________________________________________________________________________________________\n"
     ]
    }
   ],
   "source": [
    "model = build_model_(max_seq_length, bert_layer)"
   ]
  },
  {
   "cell_type": "code",
   "execution_count": null,
   "metadata": {
    "id": "SY66qoGTfOIr"
   },
   "outputs": [],
   "source": [
    "model.compile(optimizer='adam', loss='binary_crossentropy', metrics=['accuracy']) ##loss -> crossentropy\n"
   ]
  },
  {
   "cell_type": "code",
   "execution_count": null,
   "metadata": {
    "colab": {
     "base_uri": "https://localhost:8080/"
    },
    "id": "IvHoQvu6S7Mq",
    "outputId": "48757dca-4a2a-4817-8f14-a9e3c56fa1e7"
   },
   "outputs": [
    {
     "name": "stdout",
     "output_type": "stream",
     "text": [
      " 492/2234 [=====>........................] - ETA: 21:26 - loss: 0.3300 - accuracy: 0.8988"
     ]
    }
   ],
   "source": [
    "model.fit(\n",
    "    [  np.array(input_ids_all),  np.array(input_masks_all), np.array(input_segments_all) ],\n",
    "    np.array(classes),\n",
    "    validation_split = 0.3,\n",
    "    epochs = 1,             ##cambiar!!\n",
    "    batch_size = 50\n",
    ")"
   ]
  },
  {
   "cell_type": "markdown",
   "metadata": {
    "id": "OfrjOfBllKLQ"
   },
   "source": [
    "**También puede hacerse de la siguiente forma**\n",
    "\n",
    "ids_tensors = tf.constant(input_ids_all)\n",
    "\n",
    "mask_tensors = tf.constant(input_masks_all)\n",
    "\n",
    "segments_tensors = tf.constant(input_segments_all)\n",
    "\n",
    "\n",
    "model_Bert_all.predict(\n",
    "    [ ids_tensors,  mask_tensors, segments_tensors ] )\n"
   ]
  },
  {
   "cell_type": "markdown",
   "metadata": {
    "id": "YDuaMBF9V6-O"
   },
   "source": [
    "## PREDICCIONES"
   ]
  },
  {
   "cell_type": "code",
   "execution_count": null,
   "metadata": {
    "id": "kkG3etDIyg28"
   },
   "outputs": [],
   "source": [
    "def predict(sentences):\n",
    "  global tokenizer, max_seq_length, model\n",
    "\n",
    "  all_ids, all_msk, all_sgm = [],[],[]\n",
    "\n",
    "  for s in sentences:\n",
    "    if s==None: s=''\n",
    "\n",
    "    stokens = tokenizer.tokenize(s)[:max_seq_length - 2]\n",
    "    stokens = [\"[CLS]\"] + stokens + [\"[SEP]\"]\n",
    "    input_ids  = get_ids(stokens, tokenizer, max_seq_length)\n",
    "    input_msk  = get_masks(stokens, max_seq_length)\n",
    "    input_sgm  = get_segments(stokens, max_seq_length)\n",
    "\n",
    "    all_ids.append(tf.convert_to_tensor(np.array(input_ids), dtype=tf.int32))\n",
    "    all_msk.append(tf.convert_to_tensor(np.array(input_msk), dtype=tf.int32))\n",
    "    all_sgm.append(tf.convert_to_tensor(np.array(input_sgm), dtype=tf.int32))\n",
    "\n",
    "  return model.predict([all_ids,all_msk,all_sgm])"
   ]
  },
  {
   "cell_type": "code",
   "execution_count": null,
   "metadata": {
    "colab": {
     "base_uri": "https://localhost:8080/",
     "height": 102
    },
    "executionInfo": {
     "elapsed": 2289,
     "status": "ok",
     "timestamp": 1575632178201,
     "user": {
      "displayName": "Rafael Berlanga Llavori",
      "photoUrl": "https://lh3.googleusercontent.com/a-/AAuE7mA88bpJVLuLIrVxId6vCA22FcjNPEUJFpvX7YBH4g=s64",
      "userId": "05947012679519155640"
     },
     "user_tz": -60
    },
    "id": "eAz2gPIU2pWa",
    "outputId": "7ced007b-fcbd-4a43-f9f5-8fb7bb93cb10"
   },
   "outputs": [
    {
     "data": {
      "text/plain": [
       "array([[0.9412036 ],\n",
       "       [0.01432279],\n",
       "       [0.18587193],\n",
       "       [0.95242214],\n",
       "       [0.3192857 ]], dtype=float32)"
      ]
     },
     "execution_count": 23,
     "metadata": {
      "tags": []
     },
     "output_type": "execute_result"
    }
   ],
   "source": [
    "predict([\"Fuck off! go to hell!\",\"this is very nice\",\"he is the cancer and the metastasis\",\"you son of a bitch!\",\"my cat is cute\"])"
   ]
  },
  {
   "cell_type": "markdown",
   "metadata": {
    "id": "CYifWvg66H4u"
   },
   "source": [
    "# VALIDACIÓN"
   ]
  },
  {
   "cell_type": "code",
   "execution_count": null,
   "metadata": {
    "colab": {
     "base_uri": "https://localhost:8080/",
     "height": 80
    },
    "executionInfo": {
     "elapsed": 2242,
     "status": "ok",
     "timestamp": 1575632302387,
     "user": {
      "displayName": "Rafael Berlanga Llavori",
      "photoUrl": "https://lh3.googleusercontent.com/a-/AAuE7mA88bpJVLuLIrVxId6vCA22FcjNPEUJFpvX7YBH4g=s64",
      "userId": "05947012679519155640"
     },
     "user_tz": -60
    },
    "id": "WNdhXI876Lb0",
    "outputId": "babd8030-9237-431a-eaba-be1cb02610c8"
   },
   "outputs": [
    {
     "data": {
      "text/html": [
       "<div>\n",
       "<style scoped>\n",
       "    .dataframe tbody tr th:only-of-type {\n",
       "        vertical-align: middle;\n",
       "    }\n",
       "\n",
       "    .dataframe tbody tr th {\n",
       "        vertical-align: top;\n",
       "    }\n",
       "\n",
       "    .dataframe thead th {\n",
       "        text-align: right;\n",
       "    }\n",
       "</style>\n",
       "<table border=\"1\" class=\"dataframe\">\n",
       "  <thead>\n",
       "    <tr style=\"text-align: right;\">\n",
       "      <th></th>\n",
       "      <th>id</th>\n",
       "      <th>comment_text</th>\n",
       "    </tr>\n",
       "  </thead>\n",
       "  <tbody>\n",
       "    <tr>\n",
       "      <th>0</th>\n",
       "      <td>00001cee341fdb12</td>\n",
       "      <td>Yo bitch Ja Rule is more succesful then you'll...</td>\n",
       "    </tr>\n",
       "  </tbody>\n",
       "</table>\n",
       "</div>"
      ],
      "text/plain": [
       "                 id                                       comment_text\n",
       "0  00001cee341fdb12  Yo bitch Ja Rule is more succesful then you'll..."
      ]
     },
     "execution_count": 24,
     "metadata": {
      "tags": []
     },
     "output_type": "execute_result"
    }
   ],
   "source": [
    "dftest =  pd.read_csv(path + 'test.csv') \n",
    "dftest.head(1)"
   ]
  },
  {
   "cell_type": "code",
   "execution_count": null,
   "metadata": {
    "colab": {
     "base_uri": "https://localhost:8080/",
     "height": 173
    },
    "executionInfo": {
     "elapsed": 796,
     "status": "ok",
     "timestamp": 1575632307434,
     "user": {
      "displayName": "Rafael Berlanga Llavori",
      "photoUrl": "https://lh3.googleusercontent.com/a-/AAuE7mA88bpJVLuLIrVxId6vCA22FcjNPEUJFpvX7YBH4g=s64",
      "userId": "05947012679519155640"
     },
     "user_tz": -60
    },
    "id": "a7kxaAnJ6QFU",
    "outputId": "d809494a-a871-4ecb-8cc6-84ad4cfa054b"
   },
   "outputs": [
    {
     "data": {
      "text/html": [
       "<div>\n",
       "<style scoped>\n",
       "    .dataframe tbody tr th:only-of-type {\n",
       "        vertical-align: middle;\n",
       "    }\n",
       "\n",
       "    .dataframe tbody tr th {\n",
       "        vertical-align: top;\n",
       "    }\n",
       "\n",
       "    .dataframe thead th {\n",
       "        text-align: right;\n",
       "    }\n",
       "</style>\n",
       "<table border=\"1\" class=\"dataframe\">\n",
       "  <thead>\n",
       "    <tr style=\"text-align: right;\">\n",
       "      <th></th>\n",
       "      <th>id</th>\n",
       "      <th>comment_text</th>\n",
       "    </tr>\n",
       "  </thead>\n",
       "  <tbody>\n",
       "    <tr>\n",
       "      <th>count</th>\n",
       "      <td>153164</td>\n",
       "      <td>153164</td>\n",
       "    </tr>\n",
       "    <tr>\n",
       "      <th>unique</th>\n",
       "      <td>153164</td>\n",
       "      <td>153164</td>\n",
       "    </tr>\n",
       "    <tr>\n",
       "      <th>top</th>\n",
       "      <td>eeb3f6e39bf33b62</td>\n",
       "      <td>\" \\n :Your submission is still in your sandbox...</td>\n",
       "    </tr>\n",
       "    <tr>\n",
       "      <th>freq</th>\n",
       "      <td>1</td>\n",
       "      <td>1</td>\n",
       "    </tr>\n",
       "  </tbody>\n",
       "</table>\n",
       "</div>"
      ],
      "text/plain": [
       "                      id                                       comment_text\n",
       "count             153164                                             153164\n",
       "unique            153164                                             153164\n",
       "top     eeb3f6e39bf33b62  \" \\n :Your submission is still in your sandbox...\n",
       "freq                   1                                                  1"
      ]
     },
     "execution_count": 25,
     "metadata": {
      "tags": []
     },
     "output_type": "execute_result"
    }
   ],
   "source": [
    "dftest.describe()"
   ]
  },
  {
   "cell_type": "code",
   "execution_count": null,
   "metadata": {
    "colab": {
     "base_uri": "https://localhost:8080/",
     "height": 80
    },
    "executionInfo": {
     "elapsed": 1492,
     "status": "ok",
     "timestamp": 1575632349072,
     "user": {
      "displayName": "Rafael Berlanga Llavori",
      "photoUrl": "https://lh3.googleusercontent.com/a-/AAuE7mA88bpJVLuLIrVxId6vCA22FcjNPEUJFpvX7YBH4g=s64",
      "userId": "05947012679519155640"
     },
     "user_tz": -60
    },
    "id": "VCKgX1eN6WuK",
    "outputId": "e459544f-e3b4-4dee-c903-26241d8a08ac"
   },
   "outputs": [
    {
     "data": {
      "text/html": [
       "<div>\n",
       "<style scoped>\n",
       "    .dataframe tbody tr th:only-of-type {\n",
       "        vertical-align: middle;\n",
       "    }\n",
       "\n",
       "    .dataframe tbody tr th {\n",
       "        vertical-align: top;\n",
       "    }\n",
       "\n",
       "    .dataframe thead th {\n",
       "        text-align: right;\n",
       "    }\n",
       "</style>\n",
       "<table border=\"1\" class=\"dataframe\">\n",
       "  <thead>\n",
       "    <tr style=\"text-align: right;\">\n",
       "      <th></th>\n",
       "      <th>id</th>\n",
       "      <th>toxic</th>\n",
       "      <th>severe_toxic</th>\n",
       "      <th>obscene</th>\n",
       "      <th>threat</th>\n",
       "      <th>insult</th>\n",
       "      <th>identity_hate</th>\n",
       "    </tr>\n",
       "  </thead>\n",
       "  <tbody>\n",
       "    <tr>\n",
       "      <th>0</th>\n",
       "      <td>00001cee341fdb12</td>\n",
       "      <td>-1</td>\n",
       "      <td>-1</td>\n",
       "      <td>-1</td>\n",
       "      <td>-1</td>\n",
       "      <td>-1</td>\n",
       "      <td>-1</td>\n",
       "    </tr>\n",
       "  </tbody>\n",
       "</table>\n",
       "</div>"
      ],
      "text/plain": [
       "                 id  toxic  severe_toxic  ...  threat  insult  identity_hate\n",
       "0  00001cee341fdb12     -1            -1  ...      -1      -1             -1\n",
       "\n",
       "[1 rows x 7 columns]"
      ]
     },
     "execution_count": 26,
     "metadata": {
      "tags": []
     },
     "output_type": "execute_result"
    }
   ],
   "source": [
    "dflabels = pd.read_csv(path + 'test_labels.csv')\n",
    "dflabels.head(1)"
   ]
  },
  {
   "cell_type": "code",
   "execution_count": null,
   "metadata": {
    "colab": {
     "base_uri": "https://localhost:8080/",
     "height": 359
    },
    "executionInfo": {
     "elapsed": 595,
     "status": "ok",
     "timestamp": 1575632351641,
     "user": {
      "displayName": "Rafael Berlanga Llavori",
      "photoUrl": "https://lh3.googleusercontent.com/a-/AAuE7mA88bpJVLuLIrVxId6vCA22FcjNPEUJFpvX7YBH4g=s64",
      "userId": "05947012679519155640"
     },
     "user_tz": -60
    },
    "id": "czHK1Ef-6ukV",
    "outputId": "5379ecc3-d0e5-4d23-cf9f-d6d8edf78747"
   },
   "outputs": [
    {
     "data": {
      "text/html": [
       "<div>\n",
       "<style scoped>\n",
       "    .dataframe tbody tr th:only-of-type {\n",
       "        vertical-align: middle;\n",
       "    }\n",
       "\n",
       "    .dataframe tbody tr th {\n",
       "        vertical-align: top;\n",
       "    }\n",
       "\n",
       "    .dataframe thead th {\n",
       "        text-align: right;\n",
       "    }\n",
       "</style>\n",
       "<table border=\"1\" class=\"dataframe\">\n",
       "  <thead>\n",
       "    <tr style=\"text-align: right;\">\n",
       "      <th></th>\n",
       "      <th>id</th>\n",
       "      <th>comment_text</th>\n",
       "      <th>toxic</th>\n",
       "      <th>severe_toxic</th>\n",
       "      <th>obscene</th>\n",
       "      <th>threat</th>\n",
       "      <th>insult</th>\n",
       "      <th>identity_hate</th>\n",
       "    </tr>\n",
       "  </thead>\n",
       "  <tbody>\n",
       "    <tr>\n",
       "      <th>0</th>\n",
       "      <td>00001cee341fdb12</td>\n",
       "      <td>Yo bitch Ja Rule is more succesful then you'll...</td>\n",
       "      <td>-1</td>\n",
       "      <td>-1</td>\n",
       "      <td>-1</td>\n",
       "      <td>-1</td>\n",
       "      <td>-1</td>\n",
       "      <td>-1</td>\n",
       "    </tr>\n",
       "    <tr>\n",
       "      <th>1</th>\n",
       "      <td>0000247867823ef7</td>\n",
       "      <td>== From RfC == \\n\\n The title is fine as it is...</td>\n",
       "      <td>-1</td>\n",
       "      <td>-1</td>\n",
       "      <td>-1</td>\n",
       "      <td>-1</td>\n",
       "      <td>-1</td>\n",
       "      <td>-1</td>\n",
       "    </tr>\n",
       "    <tr>\n",
       "      <th>2</th>\n",
       "      <td>00013b17ad220c46</td>\n",
       "      <td>\" \\n\\n == Sources == \\n\\n * Zawe Ashton on Lap...</td>\n",
       "      <td>-1</td>\n",
       "      <td>-1</td>\n",
       "      <td>-1</td>\n",
       "      <td>-1</td>\n",
       "      <td>-1</td>\n",
       "      <td>-1</td>\n",
       "    </tr>\n",
       "    <tr>\n",
       "      <th>3</th>\n",
       "      <td>00017563c3f7919a</td>\n",
       "      <td>:If you have a look back at the source, the in...</td>\n",
       "      <td>-1</td>\n",
       "      <td>-1</td>\n",
       "      <td>-1</td>\n",
       "      <td>-1</td>\n",
       "      <td>-1</td>\n",
       "      <td>-1</td>\n",
       "    </tr>\n",
       "    <tr>\n",
       "      <th>4</th>\n",
       "      <td>00017695ad8997eb</td>\n",
       "      <td>I don't anonymously edit articles at all.</td>\n",
       "      <td>-1</td>\n",
       "      <td>-1</td>\n",
       "      <td>-1</td>\n",
       "      <td>-1</td>\n",
       "      <td>-1</td>\n",
       "      <td>-1</td>\n",
       "    </tr>\n",
       "    <tr>\n",
       "      <th>5</th>\n",
       "      <td>0001ea8717f6de06</td>\n",
       "      <td>Thank you for understanding. I think very high...</td>\n",
       "      <td>0</td>\n",
       "      <td>0</td>\n",
       "      <td>0</td>\n",
       "      <td>0</td>\n",
       "      <td>0</td>\n",
       "      <td>0</td>\n",
       "    </tr>\n",
       "    <tr>\n",
       "      <th>6</th>\n",
       "      <td>00024115d4cbde0f</td>\n",
       "      <td>Please do not add nonsense to Wikipedia. Such ...</td>\n",
       "      <td>-1</td>\n",
       "      <td>-1</td>\n",
       "      <td>-1</td>\n",
       "      <td>-1</td>\n",
       "      <td>-1</td>\n",
       "      <td>-1</td>\n",
       "    </tr>\n",
       "    <tr>\n",
       "      <th>7</th>\n",
       "      <td>000247e83dcc1211</td>\n",
       "      <td>:Dear god this site is horrible.</td>\n",
       "      <td>0</td>\n",
       "      <td>0</td>\n",
       "      <td>0</td>\n",
       "      <td>0</td>\n",
       "      <td>0</td>\n",
       "      <td>0</td>\n",
       "    </tr>\n",
       "    <tr>\n",
       "      <th>8</th>\n",
       "      <td>00025358d4737918</td>\n",
       "      <td>\" \\n Only a fool can believe in such numbers. ...</td>\n",
       "      <td>-1</td>\n",
       "      <td>-1</td>\n",
       "      <td>-1</td>\n",
       "      <td>-1</td>\n",
       "      <td>-1</td>\n",
       "      <td>-1</td>\n",
       "    </tr>\n",
       "    <tr>\n",
       "      <th>9</th>\n",
       "      <td>00026d1092fe71cc</td>\n",
       "      <td>== Double Redirects == \\n\\n When fixing double...</td>\n",
       "      <td>-1</td>\n",
       "      <td>-1</td>\n",
       "      <td>-1</td>\n",
       "      <td>-1</td>\n",
       "      <td>-1</td>\n",
       "      <td>-1</td>\n",
       "    </tr>\n",
       "  </tbody>\n",
       "</table>\n",
       "</div>"
      ],
      "text/plain": [
       "                 id  ... identity_hate\n",
       "0  00001cee341fdb12  ...            -1\n",
       "1  0000247867823ef7  ...            -1\n",
       "2  00013b17ad220c46  ...            -1\n",
       "3  00017563c3f7919a  ...            -1\n",
       "4  00017695ad8997eb  ...            -1\n",
       "5  0001ea8717f6de06  ...             0\n",
       "6  00024115d4cbde0f  ...            -1\n",
       "7  000247e83dcc1211  ...             0\n",
       "8  00025358d4737918  ...            -1\n",
       "9  00026d1092fe71cc  ...            -1\n",
       "\n",
       "[10 rows x 8 columns]"
      ]
     },
     "execution_count": 27,
     "metadata": {
      "tags": []
     },
     "output_type": "execute_result"
    }
   ],
   "source": [
    "dfall = pd.merge(dftest, dflabels, on='id', how='inner')\n",
    "dfall.head(10)"
   ]
  },
  {
   "cell_type": "code",
   "execution_count": null,
   "metadata": {
    "id": "wkhRhe0y66Wb"
   },
   "outputs": [],
   "source": [
    "prueba = dfall['comment_text'][:100]"
   ]
  },
  {
   "cell_type": "code",
   "execution_count": null,
   "metadata": {
    "id": "X74V7Qf-7Q4G"
   },
   "outputs": [],
   "source": [
    "outcomes = predict(prueba)"
   ]
  },
  {
   "cell_type": "code",
   "execution_count": null,
   "metadata": {
    "colab": {
     "base_uri": "https://localhost:8080/",
     "height": 1000
    },
    "executionInfo": {
     "elapsed": 663,
     "status": "ok",
     "timestamp": 1575632887733,
     "user": {
      "displayName": "Rafael Berlanga Llavori",
      "photoUrl": "https://lh3.googleusercontent.com/a-/AAuE7mA88bpJVLuLIrVxId6vCA22FcjNPEUJFpvX7YBH4g=s64",
      "userId": "05947012679519155640"
     },
     "user_tz": -60
    },
    "id": "X3775gTJ7WCu",
    "outputId": "3a560633-c4fb-4f7b-8b44-e5fb2e320d1d"
   },
   "outputs": [
    {
     "name": "stdout",
     "output_type": "stream",
     "text": [
      "0.8788 -1 Yo bitch Ja Rule is more succesful then you'll ever be whats up with you and hating you sa\n",
      "0.0149 -1 == From RfC ==    The title is fine as it is, IMO.\n",
      "0.0016 -1 \"    == Sources ==    * Zawe Ashton on Lapland —  /  \"\n",
      "0.0005 -1 :If you have a look back at the source, the information I updated was the correct form. I \n",
      "0.0694 -1 I don't anonymously edit articles at all.\n",
      "0.0010  0 Thank you for understanding. I think very highly of you and would not revert without discu\n",
      "0.0016 -1 Please do not add nonsense to Wikipedia. Such edits are considered vandalism and quickly u\n",
      "0.4528  0 :Dear god this site is horrible.\n",
      "0.0221 -1 \"   Only a fool can believe in such numbers.   The correct number lies between 10 000 to 1\n",
      "0.1226 -1 == Double Redirects ==    When fixing double redirects, don't just blank the outer one, yo\n",
      "0.1322 -1 I think its crap that the link to roggenbier is to this article. Somebody that knows how t\n",
      "0.0577  0 \"::: Somebody will invariably try to add Religion?  Really??  You mean, the way people hav\n",
      "0.0334 -1 , 25 February 2010 (UTC)    :::Looking it over, it's clear that  (a banned sockpuppet of )\n",
      "0.0119  0 \"    It says it right there that it IS a type. The \"\"Type\"\" of institution is needed in th\n",
      "0.0011  0 \"    == Before adding a new product to the list, make sure it's relevant ==    Before addi\n",
      "0.0028 -1 ==Current Position==   Anyone have confirmation that Sir, Alfred is no longer at the airpo\n",
      "0.0014  0 this other one from 1897\n",
      "0.0104  0 == Reason for banning throwing ==    This article needs a section on /why/ throwing is ban\n",
      "0.0773 -1 :: Wallamoose was changing the cited material to say things the original source did not sa\n",
      "0.0115  0 |blocked]] from editing Wikipedia.   |\n",
      "0.0158 -1 ==Indefinitely blocked==   I have indefinitely blocked this account.\n",
      "0.1306  1 == Arabs are committing genocide in Iraq, but no protests in Europe. ==    May Europe also\n",
      "0.0408  0 Please stop. If you continue to vandalize Wikipedia, as you did to Homosexuality, you will\n",
      "0.0153  0 == Energy  ==    I have edited the introduction, because previously it said that passive t\n",
      "0.2891 -1 :yeah, thanks for reviving the tradition of pissing all over articles because you want to \n",
      "0.1070 -1 MLM Software,NBFC software,Non Banking Financial Company,NBFC software company,NBFC softwa\n",
      "0.1870  0 @RedSlash, cut it short. If you have sources stating the RoK is sovereign post them. Other\n",
      "0.0925 -1 ====================   Deception is the way of the Ninja.....    Hence, Frank Dux is an am\n",
      "0.0134  0 .              Jews are not a race because you can only get it from your mother. Your own \n",
      "0.0100  0 :::If Ollie or others think that one list of the oldest people we know about is too long, \n",
      "0.0115 -1 \"   *Support Per Jimbo and WP:google \"\"Climatic Research Unit email controversy\"\" =4,930 r\n",
      "0.0138  0 Professors to the Manhatten Project.\n",
      "0.0004 -1 :::::I have added more wikilinks to my sections and included more secondary sources as you\n",
      "0.0110  0 \"    :Not sure whether this is notable enough to be mentioned in the article, but you're r\n",
      "0.4251  0 일이삼사오육칠팔구하고십이요 에헤헤 으헤 으헤 으허허\n",
      "0.0033 -1 I've deleted the page , as we have no evidence that you are the person named on that page,\n",
      "0.0031 -1 == Nation Radio - request for comment ==    Hi Dravecky, I'm just contacting a couple of e\n",
      "0.0101 -1 \"\"\" (per your user page)\"\n",
      "0.0502  0 \"    ==balance==   This page has one sentence about the basic definition of the word, and \n",
      "0.0045 -1 \"    *@EdJohnston. Your question was about figures in summary. Here are a few points about\n",
      "0.1177  0 REDIRECT Talk:Mi Vida Eres Tú\n",
      "0.0204  0 \"   I'm not convinced that he was blind. Where is this documented? It's possible that he w\n",
      "0.0102 -1 == Thanks for the Barnstar! ==    Thank you for awarding me with the RickK Anti-Vandilism \n",
      "0.0733  0 \"    == Ref: SS Ponzi Scheme ==    Hi Padillah,   It is not my opinion that I am trying to\n",
      "0.0181 -1 \"    Look, Gerry Spence has NOT \"\"never lost a case, criminal or civil.\"\" That is simply u\n",
      "0.0215  0 == September 20th Truce ==    According to several news sources, a truce was reached in Mi\n",
      "0.1134  0 I'd never think I'd need to say it, but Wikipedia isn't a fansite discussion board. If any\n",
      "0.0128  0 But this is not the article about government position but about the reaction. Add position\n",
      "0.9320  1 DJ Robinson is gay as hell! he sucks his dick so much!!!!!\n",
      "0.0008  0 == Dracula's Grandmother ==       Dracula's grandmother was a Bulgarian princess, the sist\n",
      "0.0150 -1 I have been perfectly civil in what quite clearly idiotic trolling.\n",
      "0.0011  0 *I agree with Billfruge. The author describes the unverifiable nature of the two competing\n",
      "0.0009 -1 ==Category:Italian Jews==    :Category:Italian Jews, which you created, has been nominated\n",
      "0.0115 -1 == Someday Never ==    Why was the image deleted? Were there copyright issues?\n",
      "0.0341 -1 \", 5 December 2012 (UTC)    :::The above is, to the best of my knowledge, an accurate disp\n",
      "0.0035 -1 \":I see that you moved  to Talat Hamdani. Perhaps you had not read the MfD notice on the p\n",
      "0.9200  0 I WILL BURN YOU TO HELL IF YOU REVOKE MY TALK PAGE ACCESS!!!!!!!!!!!!!\n",
      "0.0711 -1 == Hebrean-Judeo-Christian ==    What is Hebrean-Judeo-Christian) supposed to mean?\n",
      "0.0008  0 == Can you work your magic? ==    Hi.  I was wondring if you had time to help out with Wik\n",
      "0.9345  1 :Fuck off, you anti-semitic cunt.  |\n",
      "0.1287  0 Puwersa ng Masa!\n",
      "0.0252 -1 \"== Quidam Software ==    Hello Stifle,    I understand why you erased the article about Q\n",
      "0.0065  0 \"   :There are now four references, including Britannica, giving the correct date, which i\n",
      "0.2644 -1 Her body is perfect. Face, boobs, hips, all of it.\n",
      "0.0013 -1 :::::I am simply relating that the research and professional organizations are essentially\n",
      "0.2682  0 REDIRECT Talk:Kemp's thicket rat\n",
      "0.0041 -1 \"   :::::See above section titled \"\"Finsbury Park Mosque and Islamic hatred.\"\" Lestrade\"\n",
      "0.1850 -1 um, taking a shot here... Um lets say Three separate people whos wills are to each other.\n",
      "0.0151  0 \"   ::Use of \"\"assisted suicide\"\" to refer to aid in dying is inaccurate in fourth distinc\n",
      "0.0153  0 See also . . . http://arxiv.org/abs/hep-ph/0009204\n",
      "0.9514 -1 == Hello ==    Fuck off my Pagan you bareback mancunt pig slut.\n",
      "0.2170 -1 == Must be said  ==    You are by far the most disrespectful, malicious, destructive user \n",
      "0.0087  0 May 2010     Please stop. If you continue to delete or edit legitimate talk page comments,\n",
      "0.0108  0 == BrandonYusofToropov has requested mediation over a conflict with you ==    Ed, [User:Br\n",
      "0.0903 -1 \" August 2006 (UTC)    :::::A simple \"\"you're wrong\"\" would have sufficed.No need to try a\n",
      "0.0735  0 \"   :That is ridiculous. Unless there's a good and non-disingenuous response, I would abso\n",
      "0.7873  1 How dare you vandalize that page about the HMS Beagle! Don't vandalize again, demon!\n",
      "0.0091 -1 \"I moved this from \"\"Quebec diaspora\"\" to this title because disapora is a description app\n",
      "0.9425 -1 knock it off you bloody CWI trot\n",
      "0.2968  0 aapn bhtla aanand jhala..\n",
      "0.0029 -1 \"   *** Not via archive.org, but I can and have read the petition myself, online.  It's a \n",
      "0.4071  1 ::No, he is an arrogant, self serving, immature idiot. Get it right.\n",
      "0.0120 -1 == Continued Vandalism ==    This user continues to vandalize articles. It should be block\n",
      "0.0066 -1 \"    ==Proornis==    Thank you for adding an entry for Proornis on wikipedia. I have added\n",
      "0.0164 -1 ::ICES could hardly be labelled as a very obviously pro seal hunting organization. The sci\n",
      "0.0176 -1 *:That's not a very good reason not to move it, though. People don't use 'color' in the UK\n",
      "0.0055 -1 \":::If you email me I'll reply with a copy of the Pignotti pdf.  It's not at all controver\n",
      "0.0252  0 \"    You wrote:    You will need to cite reliable sources for the assertions \"\"far too lar\n",
      "0.0040 -1 ==Image copyright problem with Image:ATT2066652.jpg==     Thanks for uploading Image:ATT20\n",
      "0.0428  0 :Thanks for the comment about Wiki-defenderness. I like that one. I usually wikiling Wiki-\n",
      "0.0522 -1 Can't figure out why he redshirted. No sources. ///WP:CHICAGO/WP:FOUR)     *\n",
      "0.0028 -1 \"    * You used the word \"\"saloon\"\" to describe the car. In American English, a saloon is \n",
      "0.7248 -1 ::You're funny.  Ugly?  We're dudes on computers, moron.  You are quite astonishingly stup\n",
      "0.0005  0 It might not have been your intention, but your recent edit removed content from . Please \n",
      "0.0481  0 Agree, but that's not the issue. The queston is, in everyday English, does first amendent \n",
      "0.0327  0 \"    == Main towns that are not so main ==    I know that you love to write a one sentence\n",
      "0.0037 -1 \"     my comments follow, bluewillow991967 -    I'm sorry if I wasn't sufficiently clear. \n",
      "0.0031  0 \"    == Halliday ==    Good to see another contributor to his article. If SFL is your thin\n",
      "0.0059  0 \"   ::: That Stephen Barrett is not Board Certified is not a viewpoint. It is a fact (a we\n",
      "0.8390 -1 Stone Sour sucks anus\n"
     ]
    }
   ],
   "source": [
    "test_clases = dfall['toxic'][:100]\n",
    "for row in zip(outcomes[:100],test_clases[:100],prueba):\n",
    "  print('%0.4f'%row[0][0], '%2s'%row[1], row[2][:90].replace('\\n',' ').replace('\\r',' '))"
   ]
  },
  {
   "cell_type": "code",
   "execution_count": null,
   "metadata": {
    "colab": {
     "base_uri": "https://localhost:8080/",
     "height": 34
    },
    "executionInfo": {
     "elapsed": 1125,
     "status": "ok",
     "timestamp": 1575633524931,
     "user": {
      "displayName": "Rafael Berlanga Llavori",
      "photoUrl": "https://lh3.googleusercontent.com/a-/AAuE7mA88bpJVLuLIrVxId6vCA22FcjNPEUJFpvX7YBH4g=s64",
      "userId": "05947012679519155640"
     },
     "user_tz": -60
    },
    "id": "LAQhDzbQ7X01",
    "outputId": "f2297e2d-6cf9-4153-e213-d02c8c483027"
   },
   "outputs": [
    {
     "data": {
      "text/plain": [
       "array([[0.00301533]], dtype=float32)"
      ]
     },
     "execution_count": 40,
     "metadata": {
      "tags": []
     },
     "output_type": "execute_result"
    }
   ],
   "source": [
    "predict([\"ted therapy proves its worth in metastatic kidney cancer patients : a new study looked at targeted\"])"
   ]
  },
  {
   "cell_type": "code",
   "execution_count": null,
   "metadata": {
    "colab": {
     "base_uri": "https://localhost:8080/",
     "height": 34
    },
    "executionInfo": {
     "elapsed": 1289,
     "status": "ok",
     "timestamp": 1575633632573,
     "user": {
      "displayName": "Rafael Berlanga Llavori",
      "photoUrl": "https://lh3.googleusercontent.com/a-/AAuE7mA88bpJVLuLIrVxId6vCA22FcjNPEUJFpvX7YBH4g=s64",
      "userId": "05947012679519155640"
     },
     "user_tz": -60
    },
    "id": "wHYz0lGEE5On",
    "outputId": "2ea63d2d-bd14-47d4-fb17-428d3d26481b"
   },
   "outputs": [
    {
     "data": {
      "text/plain": [
       "array([[0.33499599]], dtype=float32)"
      ]
     },
     "execution_count": 42,
     "metadata": {
      "tags": []
     },
     "output_type": "execute_result"
    }
   ],
   "source": [
    "predict([\"guess which bitch thought she had brain tumor but turns out having a normal migraine\"])"
   ]
  },
  {
   "cell_type": "code",
   "execution_count": null,
   "metadata": {
    "colab": {
     "base_uri": "https://localhost:8080/",
     "height": 34
    },
    "executionInfo": {
     "elapsed": 690,
     "status": "ok",
     "timestamp": 1575633755986,
     "user": {
      "displayName": "Rafael Berlanga Llavori",
      "photoUrl": "https://lh3.googleusercontent.com/a-/AAuE7mA88bpJVLuLIrVxId6vCA22FcjNPEUJFpvX7YBH4g=s64",
      "userId": "05947012679519155640"
     },
     "user_tz": -60
    },
    "id": "u_DcuFS3FOFY",
    "outputId": "355085c4-0c03-4308-8666-fdc35734b37d"
   },
   "outputs": [
    {
     "data": {
      "text/plain": [
       "array([[0.87012327]], dtype=float32)"
      ]
     },
     "execution_count": 43,
     "metadata": {
      "tags": []
     },
     "output_type": "execute_result"
    }
   ],
   "source": [
    "predict([\"it pathetic how people are on roman's ass because hewon an award . {ret} {ret} he beat leukemia , you fucking assholes . {lnk}\"])"
   ]
  },
  {
   "cell_type": "markdown",
   "metadata": {
    "id": "G5k_2tO_G6dM"
   },
   "source": []
  },
  {
   "cell_type": "code",
   "execution_count": null,
   "metadata": {
    "colab": {
     "base_uri": "https://localhost:8080/",
     "height": 51
    },
    "executionInfo": {
     "elapsed": 733,
     "status": "ok",
     "timestamp": 1575634022225,
     "user": {
      "displayName": "Rafael Berlanga Llavori",
      "photoUrl": "https://lh3.googleusercontent.com/a-/AAuE7mA88bpJVLuLIrVxId6vCA22FcjNPEUJFpvX7YBH4g=s64",
      "userId": "05947012679519155640"
     },
     "user_tz": -60
    },
    "id": "-46HuK1rFxxG",
    "outputId": "2f338966-cfae-4350-f656-b687cdebef9b"
   },
   "outputs": [
    {
     "data": {
      "text/plain": [
       "array([[0.9289741],\n",
       "       [0.8996341]], dtype=float32)"
      ]
     },
     "execution_count": 46,
     "metadata": {
      "tags": []
     },
     "output_type": "execute_result"
    }
   ],
   "source": [
    "predict([\"you're a fucking malignant tumor and i'm ashamed to be from the same country as your fat bloviated ass that thinks like a pattern\"])"
   ]
  }
 ],
 "metadata": {
  "accelerator": "GPU",
  "colab": {
   "collapsed_sections": [],
   "machine_shape": "hm",
   "name": "TF_BERT_Toxicity.ipynb",
   "provenance": [
    {
     "file_id": "1q69Z0EvMSKqIT2KfLiiY3b6IKMHXLRIC",
     "timestamp": 1575370741531
    }
   ],
   "toc_visible": true
  },
  "kernelspec": {
   "display_name": "Python 3",
   "language": "python",
   "name": "python3"
  },
  "language_info": {
   "codemirror_mode": {
    "name": "ipython",
    "version": 3
   },
   "file_extension": ".py",
   "mimetype": "text/x-python",
   "name": "python",
   "nbconvert_exporter": "python",
   "pygments_lexer": "ipython3",
   "version": "3.8.8"
  }
 },
 "nbformat": 4,
 "nbformat_minor": 1
}
