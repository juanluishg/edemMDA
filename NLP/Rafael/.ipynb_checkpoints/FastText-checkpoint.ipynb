{
 "cells": [
  {
   "cell_type": "code",
   "execution_count": 1,
   "metadata": {
    "colab": {
     "base_uri": "https://localhost:8080/"
    },
    "executionInfo": {
     "elapsed": 49044,
     "status": "ok",
     "timestamp": 1618054162610,
     "user": {
      "displayName": "Rafael Berlanga Llavori",
      "photoUrl": "https://lh3.googleusercontent.com/a-/AOh14Gij7a_x7hln_mccXdSKtg2BpPtMu66FEoe7m3u32g=s64",
      "userId": "05947012679519155640"
     },
     "user_tz": -120
    },
    "id": "J87Z98xyMDI7",
    "outputId": "14fa5708-e1a3-4768-8a36-b9fd693043c4"
   },
   "outputs": [
    {
     "name": "stdout",
     "output_type": "stream",
     "text": [
      "Collecting fasttext\n",
      "  Downloading fasttext-0.9.2.tar.gz (68 kB)\n",
      "Collecting pybind11>=2.2\n",
      "  Using cached pybind11-2.6.2-py2.py3-none-any.whl (191 kB)\n",
      "Requirement already satisfied: setuptools>=0.7.0 in c:\\users\\juanl\\appdata\\local\\programs\\python\\python38\\lib\\site-packages (from fasttext) (49.2.1)\n",
      "Requirement already satisfied: numpy in c:\\users\\juanl\\appdata\\local\\programs\\python\\python38\\lib\\site-packages (from fasttext) (1.19.2)\n",
      "Building wheels for collected packages: fasttext\n",
      "  Building wheel for fasttext (setup.py): started\n",
      "  Building wheel for fasttext (setup.py): finished with status 'done'\n",
      "  Created wheel for fasttext: filename=fasttext-0.9.2-cp38-cp38-win_amd64.whl size=235587 sha256=b38b7d8cf56523a3e9e9df9622e0191b7ee1c5aed1efe85f5c1c442cb808c28b\n",
      "  Stored in directory: c:\\users\\juanl\\appdata\\local\\pip\\cache\\wheels\\93\\61\\2a\\c54711a91c418ba06ba195b1d78ff24fcaad8592f2a694ac94\n",
      "Successfully built fasttext\n",
      "Installing collected packages: pybind11, fasttext\n",
      "Successfully installed fasttext-0.9.2 pybind11-2.6.2\n"
     ]
    }
   ],
   "source": [
    "!pip install fasttext"
   ]
  },
  {
   "cell_type": "markdown",
   "metadata": {
    "id": "Gyf_Le0QWwlM"
   },
   "source": [
    "## FASTTEXT: Word embeddings\n",
    "\n",
    "https://fasttext.cc/docs/en/unsupervised-tutorial.html"
   ]
  },
  {
   "cell_type": "code",
   "execution_count": 2,
   "metadata": {
    "executionInfo": {
     "elapsed": 637,
     "status": "ok",
     "timestamp": 1618054165717,
     "user": {
      "displayName": "Rafael Berlanga Llavori",
      "photoUrl": "https://lh3.googleusercontent.com/a-/AOh14Gij7a_x7hln_mccXdSKtg2BpPtMu66FEoe7m3u32g=s64",
      "userId": "05947012679519155640"
     },
     "user_tz": -120
    },
    "id": "Gg-JY1B0LxVj"
   },
   "outputs": [],
   "source": [
    "import fasttext\n",
    "import fasttext.util"
   ]
  },
  {
   "cell_type": "code",
   "execution_count": 3,
   "metadata": {
    "colab": {
     "base_uri": "https://localhost:8080/"
    },
    "executionInfo": {
     "elapsed": 1979,
     "status": "ok",
     "timestamp": 1618055642224,
     "user": {
      "displayName": "Rafael Berlanga Llavori",
      "photoUrl": "https://lh3.googleusercontent.com/a-/AOh14Gij7a_x7hln_mccXdSKtg2BpPtMu66FEoe7m3u32g=s64",
      "userId": "05947012679519155640"
     },
     "user_tz": -120
    },
    "id": "2C1QWI8ridEg",
    "outputId": "1d99c841-a880-42c4-e387-5833b19c22b5"
   },
   "outputs": [
    {
     "name": "stderr",
     "output_type": "stream",
     "text": [
      "\"wget\" no se reconoce como un comando interno o externo,\n",
      "programa o archivo por lotes ejecutable.\n"
     ]
    }
   ],
   "source": [
    "!wget https://krono.act.uji.es/NLP-course/juego.txt"
   ]
  },
  {
   "cell_type": "code",
   "execution_count": 4,
   "metadata": {
    "executionInfo": {
     "elapsed": 25204,
     "status": "ok",
     "timestamp": 1618054934211,
     "user": {
      "displayName": "Rafael Berlanga Llavori",
      "photoUrl": "https://lh3.googleusercontent.com/a-/AOh14Gij7a_x7hln_mccXdSKtg2BpPtMu66FEoe7m3u32g=s64",
      "userId": "05947012679519155640"
     },
     "user_tz": -120
    },
    "id": "3LysVF4B3vus"
   },
   "outputs": [],
   "source": [
    "model = fasttext.train_unsupervised(\"juego.txt\", minn=3, maxn=5, dim=100, epoch=10)"
   ]
  },
  {
   "cell_type": "code",
   "execution_count": 17,
   "metadata": {
    "colab": {
     "base_uri": "https://localhost:8080/"
    },
    "executionInfo": {
     "elapsed": 722,
     "status": "ok",
     "timestamp": 1618054947322,
     "user": {
      "displayName": "Rafael Berlanga Llavori",
      "photoUrl": "https://lh3.googleusercontent.com/a-/AOh14Gij7a_x7hln_mccXdSKtg2BpPtMu66FEoe7m3u32g=s64",
      "userId": "05947012679519155640"
     },
     "user_tz": -120
    },
    "id": "GVZc75eGWrJE",
    "outputId": "2312982f-76be-4d6e-eff7-c8dc03ae3d33"
   },
   "outputs": [
    {
     "data": {
      "text/plain": [
       "array([ 0.15838954,  0.01711418, -0.2842341 ,  0.05159919,  0.34799019,\n",
       "        0.11639957, -0.3493943 , -0.21490239,  0.00811255,  0.29908141,\n",
       "        0.07896326, -0.1462472 , -0.300747  ,  0.13474503,  0.09426776,\n",
       "       -0.00522995, -0.27661908,  0.10246012, -0.12398583,  0.2070445 ,\n",
       "       -0.11664527, -0.01165828, -0.50723636, -0.11752199,  0.5056888 ,\n",
       "       -0.19580121,  0.2451354 , -0.17760713, -0.19460243, -0.2865754 ,\n",
       "       -0.23624657,  0.28421816, -0.14216389,  0.00956283, -0.02505562,\n",
       "        0.49725258, -0.44721082, -0.31767064, -0.21295863,  0.12232044,\n",
       "        0.2895086 , -0.29655495,  0.24206778,  0.5029653 ,  0.44957078,\n",
       "       -0.28671953, -0.5110865 ,  0.5764483 , -0.10545273,  0.133141  ,\n",
       "       -0.69888353,  0.07208385,  0.4585803 , -0.6086349 ,  0.3509335 ,\n",
       "        0.26731616, -0.05883746, -0.23515792,  0.10913894, -0.24633999,\n",
       "        0.30508327,  0.0139062 ,  0.32688817,  0.6169063 , -0.08261461,\n",
       "        0.28596494,  0.2797706 ,  0.18533655, -0.17610441,  0.18832053,\n",
       "       -0.45421147,  0.09768683,  0.6944206 ,  0.6208767 , -0.40640542,\n",
       "       -0.21379758,  0.7642704 , -0.56348383, -0.05777384,  0.22110204,\n",
       "       -0.7678555 ,  0.5249632 , -0.06224219,  0.09443469, -0.13484152,\n",
       "       -0.27049232,  0.45691097,  0.35619   , -0.22775556, -0.21976158,\n",
       "        0.3654285 , -0.14911179,  0.6683798 ,  0.28615552,  0.17496212,\n",
       "       -0.20981911, -0.45576394, -0.34525388, -0.6171975 ,  0.03839701],\n",
       "      dtype=float32)"
      ]
     },
     "execution_count": 17,
     "metadata": {
      "tags": []
     },
     "output_type": "execute_result"
    }
   ],
   "source": [
    "model.get_word_vector(\"carta\")"
   ]
  },
  {
   "cell_type": "code",
   "execution_count": 18,
   "metadata": {
    "colab": {
     "base_uri": "https://localhost:8080/"
    },
    "executionInfo": {
     "elapsed": 604,
     "status": "ok",
     "timestamp": 1618054953986,
     "user": {
      "displayName": "Rafael Berlanga Llavori",
      "photoUrl": "https://lh3.googleusercontent.com/a-/AOh14Gij7a_x7hln_mccXdSKtg2BpPtMu66FEoe7m3u32g=s64",
      "userId": "05947012679519155640"
     },
     "user_tz": -120
    },
    "id": "uttuvDhGW_p5",
    "outputId": "bb06dfaf-2957-4b64-9da8-23c65e96d186"
   },
   "outputs": [
    {
     "data": {
      "text/plain": [
       "[(0.9278080463409424, 'Videojuego'),\n",
       " (0.9206514358520508, 'video-juego'),\n",
       " (0.7922179102897644, 'videojuego,'),\n",
       " (0.7497951984405518, 'videojuegos'),\n",
       " (0.7442399263381958, 'videojuego.'),\n",
       " (0.7376886606216431, 'Videojuegos'),\n",
       " (0.6677783727645874, 'video'),\n",
       " (0.6556859016418457, 'Video'),\n",
       " (0.6350917220115662, 'videojuegos,'),\n",
       " (0.625565767288208, 'Attack')]"
      ]
     },
     "execution_count": 18,
     "metadata": {
      "tags": []
     },
     "output_type": "execute_result"
    }
   ],
   "source": [
    "model.get_nearest_neighbors(\"videojuego\")"
   ]
  },
  {
   "cell_type": "code",
   "execution_count": 19,
   "metadata": {
    "executionInfo": {
     "elapsed": 1063,
     "status": "ok",
     "timestamp": 1618054963295,
     "user": {
      "displayName": "Rafael Berlanga Llavori",
      "photoUrl": "https://lh3.googleusercontent.com/a-/AOh14Gij7a_x7hln_mccXdSKtg2BpPtMu66FEoe7m3u32g=s64",
      "userId": "05947012679519155640"
     },
     "user_tz": -120
    },
    "id": "M7VX85fHXCax"
   },
   "outputs": [],
   "source": [
    "## Visualización con PCA/TNSE\n",
    "\n",
    "#from sklearn.manifold import TSNE\n",
    "from sklearn.decomposition import PCA\n",
    "\n",
    "words = ['deporte','video','pelota','juego','campo','consola','carta','mesa']\n",
    "vectors = [model.get_word_vector(w) for w in words]\n",
    "\n",
    "#X_TNSE = TSNE(n_components=2).fit_transform(vectors)\n",
    "X_PCA  = PCA(n_components=2).fit_transform(vectors)"
   ]
  },
  {
   "cell_type": "code",
   "execution_count": 22,
   "metadata": {
    "colab": {
     "base_uri": "https://localhost:8080/",
     "height": 263
    },
    "executionInfo": {
     "elapsed": 1553,
     "status": "ok",
     "timestamp": 1618055020754,
     "user": {
      "displayName": "Rafael Berlanga Llavori",
      "photoUrl": "https://lh3.googleusercontent.com/a-/AOh14Gij7a_x7hln_mccXdSKtg2BpPtMu66FEoe7m3u32g=s64",
      "userId": "05947012679519155640"
     },
     "user_tz": -120
    },
    "id": "qJqCZlG-k0L0",
    "outputId": "a51baca9-3b6a-4075-bc3f-1333dbf22c58"
   },
   "outputs": [
    {
     "data": {
      "image/png": "[encoded data removed]",
      "text/plain": [
       "<Figure size 432x288 with 1 Axes>"
      ]
     },
     "metadata": {
      "tags": []
     },
     "output_type": "display_data"
    }
   ],
   "source": [
    "%matplotlib inline\n",
    "\n",
    "import matplotlib.pyplot as plt\n",
    "plt.style.use('seaborn-whitegrid')\n",
    "\n",
    "fig = plt.figure()    \n",
    "ax = plt.axes()\n",
    "    \n",
    "ax.scatter([x[0] for x in X_PCA],[x[1] for x in X_PCA])\n",
    "\n",
    "for i, txt in enumerate(words):\n",
    "    plt.annotate(txt, X_PCA[i])\n"
   ]
  },
  {
   "cell_type": "markdown",
   "metadata": {
    "id": "D5Npa3yUX4qq"
   },
   "source": [
    "## Vectores pre-entrenados\n",
    "\n",
    "**NOTA**: Estos ficheros suelen ser muy grandes (sobre 4.5G) y tardan mucho en cargarse."
   ]
  },
  {
   "cell_type": "code",
   "execution_count": null,
   "metadata": {
    "colab": {
     "base_uri": "https://localhost:8080/",
     "height": 35
    },
    "executionInfo": {
     "elapsed": 1230,
     "status": "ok",
     "timestamp": 1617097989661,
     "user": {
      "displayName": "Rafael Berlanga Llavori",
      "photoUrl": "https://lh3.googleusercontent.com/a-/AOh14Gij7a_x7hln_mccXdSKtg2BpPtMu66FEoe7m3u32g=s64",
      "userId": "05947012679519155640"
     },
     "user_tz": -120
    },
    "id": "q4Al_dBaL2zc",
    "outputId": "e3f6f521-0a7a-41a4-df94-694e02981312"
   },
   "outputs": [
    {
     "data": {
      "application/vnd.google.colaboratory.intrinsic+json": {
       "type": "string"
      },
      "text/plain": [
       "'cc.es.300.bin'"
      ]
     },
     "execution_count": 9,
     "metadata": {
      "tags": []
     },
     "output_type": "execute_result"
    }
   ],
   "source": [
    "fasttext.util.download_model('es', if_exists='ignore')\n",
    "\n"
   ]
  },
  {
   "cell_type": "code",
   "execution_count": null,
   "metadata": {
    "colab": {
     "base_uri": "https://localhost:8080/"
    },
    "executionInfo": {
     "elapsed": 7560,
     "status": "ok",
     "timestamp": 1617098000778,
     "user": {
      "displayName": "Rafael Berlanga Llavori",
      "photoUrl": "https://lh3.googleusercontent.com/a-/AOh14Gij7a_x7hln_mccXdSKtg2BpPtMu66FEoe7m3u32g=s64",
      "userId": "05947012679519155640"
     },
     "user_tz": -120
    },
    "id": "r9Lcb_vajQnJ",
    "outputId": "28698a52-d1ea-419b-c91f-46c2937597f5"
   },
   "outputs": [
    {
     "name": "stderr",
     "output_type": "stream",
     "text": [
      "Warning : `load_model` does not return WordVectorModel or SupervisedModel any more, but a `FastText` object which is very similar.\n"
     ]
    }
   ],
   "source": [
    "model_es = fasttext.load_model('cc.es.300.bin')"
   ]
  },
  {
   "cell_type": "markdown",
   "metadata": {
    "id": "SVJN75dAXL5f"
   },
   "source": [
    "## Analogías\n",
    "\n",
    "*x* es a *y* lo que *t* a *z* => `Z = X - Y + T`"
   ]
  },
  {
   "cell_type": "code",
   "execution_count": null,
   "metadata": {
    "colab": {
     "base_uri": "https://localhost:8080/"
    },
    "executionInfo": {
     "elapsed": 16991,
     "status": "ok",
     "timestamp": 1617098024343,
     "user": {
      "displayName": "Rafael Berlanga Llavori",
      "photoUrl": "https://lh3.googleusercontent.com/a-/AOh14Gij7a_x7hln_mccXdSKtg2BpPtMu66FEoe7m3u32g=s64",
      "userId": "05947012679519155640"
     },
     "user_tz": -120
    },
    "id": "Mp66zU08XFSg",
    "outputId": "b34320cb-2d04-4556-d379-c4af5e7567c8"
   },
   "outputs": [
    {
     "data": {
      "text/plain": [
       "[(0.5998787879943848, 'paris'),\n",
       " (0.5952529311180115, 'parís'),\n",
       " (0.5838564038276672, 'toulouse'),\n",
       " (0.5673896074295044, 'montreal'),\n",
       " (0.5640653371810913, 'moscu'),\n",
       " (0.5542844533920288, 'louvre'),\n",
       " (0.5482965707778931, 'budapest'),\n",
       " (0.5421040654182434, 'edimburgo'),\n",
       " (0.5403665900230408, 'berlín'),\n",
       " (0.5394555926322937, 'praga')]"
      ]
     },
     "execution_count": 11,
     "metadata": {
      "tags": []
     },
     "output_type": "execute_result"
    }
   ],
   "source": [
    "model_es.get_analogies(\"berlin\", \"alemania\", \"francia\")"
   ]
  },
  {
   "cell_type": "code",
   "execution_count": null,
   "metadata": {
    "id": "z1oUy3FFXkkV"
   },
   "outputs": [],
   "source": [
    "##Visualización PCA de analogias"
   ]
  },
  {
   "cell_type": "markdown",
   "metadata": {
    "id": "iXa7g4DtYQSA"
   },
   "source": [
    "## Embeddings de sentencias como agregados de sus tokens"
   ]
  },
  {
   "cell_type": "code",
   "execution_count": 27,
   "metadata": {
    "executionInfo": {
     "elapsed": 544,
     "status": "ok",
     "timestamp": 1618055650767,
     "user": {
      "displayName": "Rafael Berlanga Llavori",
      "photoUrl": "https://lh3.googleusercontent.com/a-/AOh14Gij7a_x7hln_mccXdSKtg2BpPtMu66FEoe7m3u32g=s64",
      "userId": "05947012679519155640"
     },
     "user_tz": -120
    },
    "id": "q8XDqsZXmiII"
   },
   "outputs": [],
   "source": [
    "import pandas as pd\n",
    "\n",
    "data = pd.read_csv('/content/juego.txt',delimiter='|',header=None,names=['cui','text'])"
   ]
  },
  {
   "cell_type": "code",
   "execution_count": 28,
   "metadata": {
    "colab": {
     "base_uri": "https://localhost:8080/",
     "height": 198
    },
    "executionInfo": {
     "elapsed": 831,
     "status": "ok",
     "timestamp": 1618055661066,
     "user": {
      "displayName": "Rafael Berlanga Llavori",
      "photoUrl": "https://lh3.googleusercontent.com/a-/AOh14Gij7a_x7hln_mccXdSKtg2BpPtMu66FEoe7m3u32g=s64",
      "userId": "05947012679519155640"
     },
     "user_tz": -120
    },
    "id": "T1plEw8Qofay",
    "outputId": "23fbed1a-648f-4808-863f-ca66a0a48f5f"
   },
   "outputs": [
    {
     "data": {
      "text/html": [
       "<div>\n",
       "<style scoped>\n",
       "    .dataframe tbody tr th:only-of-type {\n",
       "        vertical-align: middle;\n",
       "    }\n",
       "\n",
       "    .dataframe tbody tr th {\n",
       "        vertical-align: top;\n",
       "    }\n",
       "\n",
       "    .dataframe thead th {\n",
       "        text-align: right;\n",
       "    }\n",
       "</style>\n",
       "<table border=\"1\" class=\"dataframe\">\n",
       "  <thead>\n",
       "    <tr style=\"text-align: right;\">\n",
       "      <th></th>\n",
       "      <th>cui</th>\n",
       "      <th>text</th>\n",
       "    </tr>\n",
       "  </thead>\n",
       "  <tbody>\n",
       "    <tr>\n",
       "      <th>0</th>\n",
       "      <td>00005855n</td>\n",
       "      <td>Se conoce como juego sexual a los preludios de...</td>\n",
       "    </tr>\n",
       "    <tr>\n",
       "      <th>1</th>\n",
       "      <td>00007687n</td>\n",
       "      <td>El bacara o baccarat es un juego de cartas muy...</td>\n",
       "    </tr>\n",
       "    <tr>\n",
       "      <th>2</th>\n",
       "      <td>00007779n</td>\n",
       "      <td>El backgammon es un juego de mesa para dos jug...</td>\n",
       "    </tr>\n",
       "    <tr>\n",
       "      <th>3</th>\n",
       "      <td>00007779n</td>\n",
       "      <td>Juego de mesa para dos jugadores, cuyas piezas...</td>\n",
       "    </tr>\n",
       "    <tr>\n",
       "      <th>4</th>\n",
       "      <td>00008145n</td>\n",
       "      <td>Juego en el que se usa una pelota.</td>\n",
       "    </tr>\n",
       "  </tbody>\n",
       "</table>\n",
       "</div>"
      ],
      "text/plain": [
       "         cui                                               text\n",
       "0  00005855n  Se conoce como juego sexual a los preludios de...\n",
       "1  00007687n  El bacara o baccarat es un juego de cartas muy...\n",
       "2  00007779n  El backgammon es un juego de mesa para dos jug...\n",
       "3  00007779n  Juego de mesa para dos jugadores, cuyas piezas...\n",
       "4  00008145n                 Juego en el que se usa una pelota."
      ]
     },
     "execution_count": 28,
     "metadata": {
      "tags": []
     },
     "output_type": "execute_result"
    }
   ],
   "source": [
    "data.head()"
   ]
  },
  {
   "cell_type": "code",
   "execution_count": 30,
   "metadata": {
    "colab": {
     "base_uri": "https://localhost:8080/"
    },
    "executionInfo": {
     "elapsed": 2128,
     "status": "ok",
     "timestamp": 1618055681660,
     "user": {
      "displayName": "Rafael Berlanga Llavori",
      "photoUrl": "https://lh3.googleusercontent.com/a-/AOh14Gij7a_x7hln_mccXdSKtg2BpPtMu66FEoe7m3u32g=s64",
      "userId": "05947012679519155640"
     },
     "user_tz": -120
    },
    "id": "CsjUv_IKYa02",
    "outputId": "1fa53509-e4fc-4a98-f780-95800081064b"
   },
   "outputs": [
    {
     "name": "stdout",
     "output_type": "stream",
     "text": [
      "[nltk_data] Downloading package punkt to /root/nltk_data...\n",
      "[nltk_data]   Unzipping tokenizers/punkt.zip.\n"
     ]
    },
    {
     "data": {
      "text/plain": [
       "True"
      ]
     },
     "execution_count": 30,
     "metadata": {
      "tags": []
     },
     "output_type": "execute_result"
    }
   ],
   "source": [
    "import nltk\n",
    "from nltk.tokenize import word_tokenize\n",
    "import numpy as np\n",
    "\n",
    "nltk.download('punkt')\n"
   ]
  },
  {
   "cell_type": "code",
   "execution_count": 32,
   "metadata": {
    "executionInfo": {
     "elapsed": 2482,
     "status": "ok",
     "timestamp": 1618055694248,
     "user": {
      "displayName": "Rafael Berlanga Llavori",
      "photoUrl": "https://lh3.googleusercontent.com/a-/AOh14Gij7a_x7hln_mccXdSKtg2BpPtMu66FEoe7m3u32g=s64",
      "userId": "05947012679519155640"
     },
     "user_tz": -120
    },
    "id": "iccm4V0uNhhD"
   },
   "outputs": [],
   "source": [
    "vectors = []\n",
    "\n",
    "for sentence in data['text']:\n",
    "  words = [model.get_word_vector(w) for w in word_tokenize(sentence)]\n",
    "  vectors.append( np.mean( words, axis=0 ) )"
   ]
  },
  {
   "cell_type": "code",
   "execution_count": 43,
   "metadata": {
    "executionInfo": {
     "elapsed": 696,
     "status": "ok",
     "timestamp": 1618055961411,
     "user": {
      "displayName": "Rafael Berlanga Llavori",
      "photoUrl": "https://lh3.googleusercontent.com/a-/AOh14Gij7a_x7hln_mccXdSKtg2BpPtMu66FEoe7m3u32g=s64",
      "userId": "05947012679519155640"
     },
     "user_tz": -120
    },
    "id": "BdCAYY_zZ9Fk"
   },
   "outputs": [],
   "source": [
    "##probar con varias sentencias y calcular su distancia\n",
    "##visualizar\n",
    "\n",
    "top = 50\n",
    "\n",
    "S_PCA  = PCA(n_components=2).fit_transform(vectors[:top])\n"
   ]
  },
  {
   "cell_type": "code",
   "execution_count": 44,
   "metadata": {
    "colab": {
     "base_uri": "https://localhost:8080/",
     "height": 263
    },
    "executionInfo": {
     "elapsed": 1375,
     "status": "ok",
     "timestamp": 1618055963411,
     "user": {
      "displayName": "Rafael Berlanga Llavori",
      "photoUrl": "https://lh3.googleusercontent.com/a-/AOh14Gij7a_x7hln_mccXdSKtg2BpPtMu66FEoe7m3u32g=s64",
      "userId": "05947012679519155640"
     },
     "user_tz": -120
    },
    "id": "wFOL8-Mvo3xu",
    "outputId": "8c76dbc0-9753-4d1c-a034-4d0e75be6801"
   },
   "outputs": [
    {
     "data": {
      "image/png": "[encoded data removed]",
      "text/plain": [
       "<Figure size 432x288 with 1 Axes>"
      ]
     },
     "metadata": {
      "tags": []
     },
     "output_type": "display_data"
    }
   ],
   "source": [
    "%matplotlib inline\n",
    "\n",
    "import matplotlib.pyplot as plt\n",
    "plt.style.use('seaborn-whitegrid')\n",
    "\n",
    "fig = plt.figure()    \n",
    "ax = plt.axes()\n",
    "    \n",
    "ax.scatter([x[0] for x in S_PCA],[x[1] for x in S_PCA])\n",
    "\n",
    "for i, txt in enumerate(data['cui'][:top]):\n",
    "    plt.annotate(txt, S_PCA[i])"
   ]
  },
  {
   "cell_type": "code",
   "execution_count": null,
   "metadata": {
    "id": "iN5vq9ZUptfg"
   },
   "outputs": [],
   "source": []
  }
 ],
 "metadata": {
  "colab": {
   "authorship_tag": "ABX9TyN+I0Opw1y+zheqz/ZJFgAF",
   "collapsed_sections": [],
   "name": "Embeddings con FastText.ipynb",
   "provenance": [],
   "toc_visible": true
  },
  "kernelspec": {
   "display_name": "Python 3",
   "language": "python",
   "name": "python3"
  },
  "language_info": {
   "codemirror_mode": {
    "name": "ipython",
    "version": 3
   },
   "file_extension": ".py",
   "mimetype": "text/x-python",
   "name": "python",
   "nbconvert_exporter": "python",
   "pygments_lexer": "ipython3",
   "version": "3.8.8"
  }
 },
 "nbformat": 4,
 "nbformat_minor": 1
}
