{
 "cells": [
  {
   "cell_type": "code",
   "execution_count": 1,
   "metadata": {
    "colab": {
     "base_uri": "https://localhost:8080/"
    },
    "executionInfo": {
     "elapsed": 49044,
     "status": "ok",
     "timestamp": 1618054162610,
     "user": {
      "displayName": "Rafael Berlanga Llavori",
      "photoUrl": "https://lh3.googleusercontent.com/a-/AOh14Gij7a_x7hln_mccXdSKtg2BpPtMu66FEoe7m3u32g=s64",
      "userId": "05947012679519155640"
     },
     "user_tz": -120
    },
    "id": "J87Z98xyMDI7",
    "outputId": "14fa5708-e1a3-4768-8a36-b9fd693043c4"
   },
   "outputs": [
    {
     "name": "stdout",
     "output_type": "stream",
     "text": [
      "Collecting fasttext\n",
      "  Downloading fasttext-0.9.2.tar.gz (68 kB)\n",
      "Collecting pybind11>=2.2\n",
      "  Using cached pybind11-2.6.2-py2.py3-none-any.whl (191 kB)\n",
      "Requirement already satisfied: setuptools>=0.7.0 in c:\\users\\juanl\\appdata\\local\\programs\\python\\python38\\lib\\site-packages (from fasttext) (49.2.1)\n",
      "Requirement already satisfied: numpy in c:\\users\\juanl\\appdata\\local\\programs\\python\\python38\\lib\\site-packages (from fasttext) (1.19.2)\n",
      "Building wheels for collected packages: fasttext\n",
      "  Building wheel for fasttext (setup.py): started\n",
      "  Building wheel for fasttext (setup.py): finished with status 'done'\n",
      "  Created wheel for fasttext: filename=fasttext-0.9.2-cp38-cp38-win_amd64.whl size=235587 sha256=b38b7d8cf56523a3e9e9df9622e0191b7ee1c5aed1efe85f5c1c442cb808c28b\n",
      "  Stored in directory: c:\\users\\juanl\\appdata\\local\\pip\\cache\\wheels\\93\\61\\2a\\c54711a91c418ba06ba195b1d78ff24fcaad8592f2a694ac94\n",
      "Successfully built fasttext\n",
      "Installing collected packages: pybind11, fasttext\n",
      "Successfully installed fasttext-0.9.2 pybind11-2.6.2\n"
     ]
    }
   ],
   "source": [
    "!pip install fasttext"
   ]
  },
  {
   "cell_type": "markdown",
   "metadata": {
    "id": "Gyf_Le0QWwlM"
   },
   "source": [
    "## FASTTEXT: Word embeddings\n",
    "\n",
    "https://fasttext.cc/docs/en/unsupervised-tutorial.html"
   ]
  },
  {
   "cell_type": "code",
   "execution_count": 6,
   "metadata": {
    "executionInfo": {
     "elapsed": 637,
     "status": "ok",
     "timestamp": 1618054165717,
     "user": {
      "displayName": "Rafael Berlanga Llavori",
      "photoUrl": "https://lh3.googleusercontent.com/a-/AOh14Gij7a_x7hln_mccXdSKtg2BpPtMu66FEoe7m3u32g=s64",
      "userId": "05947012679519155640"
     },
     "user_tz": -120
    },
    "id": "Gg-JY1B0LxVj"
   },
   "outputs": [],
   "source": [
    "import fasttext\n",
    "import fasttext.util"
   ]
  },
  {
   "cell_type": "code",
   "execution_count": 3,
   "metadata": {
    "colab": {
     "base_uri": "https://localhost:8080/"
    },
    "executionInfo": {
     "elapsed": 1979,
     "status": "ok",
     "timestamp": 1618055642224,
     "user": {
      "displayName": "Rafael Berlanga Llavori",
      "photoUrl": "https://lh3.googleusercontent.com/a-/AOh14Gij7a_x7hln_mccXdSKtg2BpPtMu66FEoe7m3u32g=s64",
      "userId": "05947012679519155640"
     },
     "user_tz": -120
    },
    "id": "2C1QWI8ridEg",
    "outputId": "1d99c841-a880-42c4-e387-5833b19c22b5"
   },
   "outputs": [
    {
     "name": "stderr",
     "output_type": "stream",
     "text": [
      "\"wget\" no se reconoce como un comando interno o externo,\n",
      "programa o archivo por lotes ejecutable.\n"
     ]
    }
   ],
   "source": [
    "!wget https://krono.act.uji.es/NLP-course/juego.txt"
   ]
  },
  {
   "cell_type": "code",
   "execution_count": 7,
   "metadata": {
    "executionInfo": {
     "elapsed": 25204,
     "status": "ok",
     "timestamp": 1618054934211,
     "user": {
      "displayName": "Rafael Berlanga Llavori",
      "photoUrl": "https://lh3.googleusercontent.com/a-/AOh14Gij7a_x7hln_mccXdSKtg2BpPtMu66FEoe7m3u32g=s64",
      "userId": "05947012679519155640"
     },
     "user_tz": -120
    },
    "id": "3LysVF4B3vus"
   },
   "outputs": [],
   "source": [
    "model = fasttext.train_unsupervised(\"juego.txt\", minn=3, maxn=5, dim=100, epoch=30)"
   ]
  },
  {
   "cell_type": "code",
   "execution_count": 21,
   "metadata": {
    "colab": {
     "base_uri": "https://localhost:8080/"
    },
    "executionInfo": {
     "elapsed": 722,
     "status": "ok",
     "timestamp": 1618054947322,
     "user": {
      "displayName": "Rafael Berlanga Llavori",
      "photoUrl": "https://lh3.googleusercontent.com/a-/AOh14Gij7a_x7hln_mccXdSKtg2BpPtMu66FEoe7m3u32g=s64",
      "userId": "05947012679519155640"
     },
     "user_tz": -120
    },
    "id": "GVZc75eGWrJE",
    "outputId": "2312982f-76be-4d6e-eff7-c8dc03ae3d33"
   },
   "outputs": [
    {
     "data": {
      "text/plain": [
       "array([ 8.13768089e-01,  1.54956833e-01, -3.19034487e-01, -5.54855824e-01,\n",
       "       -8.28618836e-03, -2.40813494e-01,  1.01128723e-02,  4.13933247e-02,\n",
       "        2.77294874e-01,  2.22995728e-01, -5.55319786e-01, -2.79001206e-01,\n",
       "       -1.59979701e-01,  8.85324478e-01, -1.96126044e-01,  1.63304582e-02,\n",
       "       -7.48362243e-01, -8.45233619e-04,  6.31573200e-02, -6.44064993e-02,\n",
       "       -4.25919853e-02,  5.68925738e-01, -3.82382959e-01,  1.45298973e-01,\n",
       "       -1.36601776e-01, -2.86283940e-01, -2.06393629e-01,  5.75634371e-03,\n",
       "        4.33919132e-02,  4.10238564e-01,  2.65085578e-01,  1.64175868e-01,\n",
       "       -4.49228883e-02, -6.42999858e-02,  5.83707355e-02, -2.01310039e-01,\n",
       "        1.15996048e-01, -6.21630019e-03,  2.81171560e-01,  9.06397998e-01,\n",
       "        1.35634109e-01,  5.74589014e-01,  1.18232071e-01,  3.90509009e-01,\n",
       "       -2.15023875e-01, -1.62458569e-01, -4.63521004e-01,  4.91882823e-02,\n",
       "        1.09743617e-01, -2.87255824e-01,  2.46083349e-01, -3.58508438e-01,\n",
       "       -7.75281340e-02, -1.12398468e-01, -1.88532144e-01, -3.46153319e-01,\n",
       "        1.55856207e-01,  1.21115342e-01,  2.26447582e-01,  1.43620819e-01,\n",
       "        1.02206729e-01, -1.70526773e-01,  2.63087988e-01, -3.99775570e-03,\n",
       "       -3.44824284e-01, -2.16516107e-02, -2.58172713e-02, -7.77020812e-01,\n",
       "        6.22801594e-02, -2.28917122e-01,  1.48536593e-01,  2.53322065e-01,\n",
       "        9.33283418e-02,  2.37555355e-01,  7.66525269e-02, -1.71770498e-01,\n",
       "        1.99056327e-01,  8.40184093e-01,  1.69329211e-01, -3.11676323e-01,\n",
       "       -1.01071104e-01,  3.82665724e-01,  3.61683309e-01, -4.59694684e-01,\n",
       "        8.35920095e-01,  5.83175182e-01, -5.28256260e-02,  2.90249437e-01,\n",
       "        1.04331210e-01, -1.94907635e-01,  3.36466730e-01,  6.11281455e-01,\n",
       "        7.06190944e-01, -4.77500483e-02,  2.43882105e-01,  5.51044762e-01,\n",
       "        6.03580773e-02, -6.97991997e-02,  1.02612361e-01, -2.36768529e-01],\n",
       "      dtype=float32)"
      ]
     },
     "execution_count": 21,
     "metadata": {},
     "output_type": "execute_result"
    }
   ],
   "source": [
    "model.get_word_vector(\"carta\")"
   ]
  },
  {
   "cell_type": "code",
   "execution_count": 22,
   "metadata": {
    "colab": {
     "base_uri": "https://localhost:8080/"
    },
    "executionInfo": {
     "elapsed": 604,
     "status": "ok",
     "timestamp": 1618054953986,
     "user": {
      "displayName": "Rafael Berlanga Llavori",
      "photoUrl": "https://lh3.googleusercontent.com/a-/AOh14Gij7a_x7hln_mccXdSKtg2BpPtMu66FEoe7m3u32g=s64",
      "userId": "05947012679519155640"
     },
     "user_tz": -120
    },
    "id": "uttuvDhGW_p5",
    "outputId": "bb06dfaf-2957-4b64-9da8-23c65e96d186"
   },
   "outputs": [
    {
     "data": {
      "text/plain": [
       "[(0.7404125928878784, 'videojuego,'),\n",
       " (0.7275733947753906, 'videojuegos'),\n",
       " (0.7270978689193726, 'videojuegos.'),\n",
       " (0.6652621626853943, 'videojuegos,'),\n",
       " (0.641011118888855, 'Videojuego'),\n",
       " (0.5386030673980713, 'un'),\n",
       " (0.5139160752296448, 'es'),\n",
       " (0.513723611831665, 'por'),\n",
       " (0.508069634437561, 'publicado'),\n",
       " (0.48559555411338806, 'juego')]"
      ]
     },
     "execution_count": 22,
     "metadata": {},
     "output_type": "execute_result"
    }
   ],
   "source": [
    "model.get_nearest_neighbors(\"videojuego\")"
   ]
  },
  {
   "cell_type": "code",
   "execution_count": 10,
   "metadata": {
    "executionInfo": {
     "elapsed": 1063,
     "status": "ok",
     "timestamp": 1618054963295,
     "user": {
      "displayName": "Rafael Berlanga Llavori",
      "photoUrl": "https://lh3.googleusercontent.com/a-/AOh14Gij7a_x7hln_mccXdSKtg2BpPtMu66FEoe7m3u32g=s64",
      "userId": "05947012679519155640"
     },
     "user_tz": -120
    },
    "id": "M7VX85fHXCax"
   },
   "outputs": [],
   "source": [
    "## Visualización con PCA/TNSE\n",
    "\n",
    "#from sklearn.manifold import TSNE\n",
    "from sklearn.decomposition import PCA\n",
    "\n",
    "words = ['deporte','video','pelota','juego','campo','consola','carta','mesa']\n",
    "vectors = [model.get_word_vector(w) for w in words]\n",
    "\n",
    "#X_TNSE = TSNE(n_components=2).fit_transform(vectors)\n",
    "X_PCA  = PCA(n_components=2).fit_transform(vectors)"
   ]
  },
  {
   "cell_type": "code",
   "execution_count": 24,
   "metadata": {
    "colab": {
     "base_uri": "https://localhost:8080/",
     "height": 263
    },
    "executionInfo": {
     "elapsed": 1553,
     "status": "ok",
     "timestamp": 1618055020754,
     "user": {
      "displayName": "Rafael Berlanga Llavori",
      "photoUrl": "https://lh3.googleusercontent.com/a-/AOh14Gij7a_x7hln_mccXdSKtg2BpPtMu66FEoe7m3u32g=s64",
      "userId": "05947012679519155640"
     },
     "user_tz": -120
    },
    "id": "qJqCZlG-k0L0",
    "outputId": "a51baca9-3b6a-4075-bc3f-1333dbf22c58"
   },
   "outputs": [
    {
     "data": {
      "image/png": "[encoded data removed]",
      "text/plain": [
       "<Figure size 432x288 with 1 Axes>"
      ]
     },
     "metadata": {},
     "output_type": "display_data"
    }
   ],
   "source": [
    "%matplotlib inline\n",
    "\n",
    "import matplotlib.pyplot as plt\n",
    "plt.style.use('seaborn-whitegrid')\n",
    "\n",
    "fig = plt.figure()    \n",
    "ax = plt.axes()\n",
    "    \n",
    "ax.scatter([x[0] for x in X_PCA],[x[1] for x in X_PCA])\n",
    "\n",
    "for i, txt in enumerate(words):\n",
    "    plt.annotate(txt, X_PCA[i])\n"
   ]
  },
  {
   "cell_type": "markdown",
   "metadata": {
    "id": "D5Npa3yUX4qq"
   },
   "source": [
    "## Vectores pre-entrenados\n",
    "\n",
    "**NOTA**: Estos ficheros suelen ser muy grandes (sobre 4.5G) y tardan mucho en cargarse."
   ]
  },
  {
   "cell_type": "code",
   "execution_count": 25,
   "metadata": {
    "colab": {
     "base_uri": "https://localhost:8080/",
     "height": 35
    },
    "executionInfo": {
     "elapsed": 1230,
     "status": "ok",
     "timestamp": 1617097989661,
     "user": {
      "displayName": "Rafael Berlanga Llavori",
      "photoUrl": "https://lh3.googleusercontent.com/a-/AOh14Gij7a_x7hln_mccXdSKtg2BpPtMu66FEoe7m3u32g=s64",
      "userId": "05947012679519155640"
     },
     "user_tz": -120
    },
    "id": "q4Al_dBaL2zc",
    "outputId": "e3f6f521-0a7a-41a4-df94-694e02981312"
   },
   "outputs": [
    {
     "name": "stdout",
     "output_type": "stream",
     "text": [
      "Downloading https://dl.fbaipublicfiles.com/fasttext/vectors-crawl/cc.es.300.bin.gz\n",
      " (0.51%) [>                                                  ]                                                  ]>                                                  ]>                                                  ]                                                  ]                                                  ]>                                                  ]>                                                  ]>                                                  ]>                                                  ]>                                                  ]>                                                  ]>                                                  ]                                                  ]                                                  ]>                                                  ]>                                                  ]>                                                  ]>                                                  ]                                                  ]>                                                  ]>                                                  ]>                                                  ]>                                                  ]>                                                  ]>                                                  ]                                                  ]>                                                  ]                                                  ]>                                                  ]>                                                  ]>                                                  ]                                                  ]>                                                  ]>                                                  ]>                                                  ]                                                  ]>                                                  ]>                                                  ]>                                                  ]>                                                  ]                                                  ]]\r"
     ]
    },
    {
     "ename": "KeyboardInterrupt",
     "evalue": "",
     "output_type": "error",
     "traceback": [
      "\u001b[1;31m---------------------------------------------------------------------------\u001b[0m",
      "\u001b[1;31mKeyboardInterrupt\u001b[0m                         Traceback (most recent call last)",
      "\u001b[1;32m<ipython-input-25-c3abadbfeb0f>\u001b[0m in \u001b[0;36m<module>\u001b[1;34m\u001b[0m\n\u001b[1;32m----> 1\u001b[1;33m \u001b[0mfasttext\u001b[0m\u001b[1;33m.\u001b[0m\u001b[0mutil\u001b[0m\u001b[1;33m.\u001b[0m\u001b[0mdownload_model\u001b[0m\u001b[1;33m(\u001b[0m\u001b[1;34m'es'\u001b[0m\u001b[1;33m,\u001b[0m \u001b[0mif_exists\u001b[0m\u001b[1;33m=\u001b[0m\u001b[1;34m'ignore'\u001b[0m\u001b[1;33m)\u001b[0m\u001b[1;33m\u001b[0m\u001b[1;33m\u001b[0m\u001b[0m\n\u001b[0m\u001b[0;32m      2\u001b[0m \u001b[1;33m\u001b[0m\u001b[0m\n",
      "\u001b[1;32mc:\\users\\juanl\\appdata\\local\\programs\\python\\python38\\lib\\site-packages\\fasttext\\util\\util.py\u001b[0m in \u001b[0;36mdownload_model\u001b[1;34m(lang_id, if_exists, dimension)\u001b[0m\n\u001b[0;32m    202\u001b[0m             \u001b[1;32mpass\u001b[0m\u001b[1;33m\u001b[0m\u001b[1;33m\u001b[0m\u001b[0m\n\u001b[0;32m    203\u001b[0m \u001b[1;33m\u001b[0m\u001b[0m\n\u001b[1;32m--> 204\u001b[1;33m     \u001b[1;32mif\u001b[0m \u001b[0m_download_gz_model\u001b[0m\u001b[1;33m(\u001b[0m\u001b[0mgz_file_name\u001b[0m\u001b[1;33m,\u001b[0m \u001b[0mif_exists\u001b[0m\u001b[1;33m)\u001b[0m\u001b[1;33m:\u001b[0m\u001b[1;33m\u001b[0m\u001b[1;33m\u001b[0m\u001b[0m\n\u001b[0m\u001b[0;32m    205\u001b[0m         \u001b[1;32mwith\u001b[0m \u001b[0mgzip\u001b[0m\u001b[1;33m.\u001b[0m\u001b[0mopen\u001b[0m\u001b[1;33m(\u001b[0m\u001b[0mgz_file_name\u001b[0m\u001b[1;33m,\u001b[0m \u001b[1;34m'rb'\u001b[0m\u001b[1;33m)\u001b[0m \u001b[1;32mas\u001b[0m \u001b[0mf\u001b[0m\u001b[1;33m:\u001b[0m\u001b[1;33m\u001b[0m\u001b[1;33m\u001b[0m\u001b[0m\n\u001b[0;32m    206\u001b[0m             \u001b[1;32mwith\u001b[0m \u001b[0mopen\u001b[0m\u001b[1;33m(\u001b[0m\u001b[0mfile_name\u001b[0m\u001b[1;33m,\u001b[0m \u001b[1;34m'wb'\u001b[0m\u001b[1;33m)\u001b[0m \u001b[1;32mas\u001b[0m \u001b[0mf_out\u001b[0m\u001b[1;33m:\u001b[0m\u001b[1;33m\u001b[0m\u001b[1;33m\u001b[0m\u001b[0m\n",
      "\u001b[1;32mc:\\users\\juanl\\appdata\\local\\programs\\python\\python38\\lib\\site-packages\\fasttext\\util\\util.py\u001b[0m in \u001b[0;36m_download_gz_model\u001b[1;34m(gz_file_name, if_exists)\u001b[0m\n\u001b[0;32m    176\u001b[0m \u001b[1;33m\u001b[0m\u001b[0m\n\u001b[0;32m    177\u001b[0m     \u001b[0murl\u001b[0m \u001b[1;33m=\u001b[0m \u001b[1;34m\"https://dl.fbaipublicfiles.com/fasttext/vectors-crawl/%s\"\u001b[0m \u001b[1;33m%\u001b[0m \u001b[0mgz_file_name\u001b[0m\u001b[1;33m\u001b[0m\u001b[1;33m\u001b[0m\u001b[0m\n\u001b[1;32m--> 178\u001b[1;33m     \u001b[0m_download_file\u001b[0m\u001b[1;33m(\u001b[0m\u001b[0murl\u001b[0m\u001b[1;33m,\u001b[0m \u001b[0mgz_file_name\u001b[0m\u001b[1;33m)\u001b[0m\u001b[1;33m\u001b[0m\u001b[1;33m\u001b[0m\u001b[0m\n\u001b[0m\u001b[0;32m    179\u001b[0m \u001b[1;33m\u001b[0m\u001b[0m\n\u001b[0;32m    180\u001b[0m     \u001b[1;32mreturn\u001b[0m \u001b[1;32mTrue\u001b[0m\u001b[1;33m\u001b[0m\u001b[1;33m\u001b[0m\u001b[0m\n",
      "\u001b[1;32mc:\\users\\juanl\\appdata\\local\\programs\\python\\python38\\lib\\site-packages\\fasttext\\util\\util.py\u001b[0m in \u001b[0;36m_download_file\u001b[1;34m(url, write_file_name, chunk_size)\u001b[0m\n\u001b[0;32m    155\u001b[0m     \u001b[1;32mwith\u001b[0m \u001b[0mopen\u001b[0m\u001b[1;33m(\u001b[0m\u001b[0mdownload_file_name\u001b[0m\u001b[1;33m,\u001b[0m \u001b[1;34m'wb'\u001b[0m\u001b[1;33m)\u001b[0m \u001b[1;32mas\u001b[0m \u001b[0mf\u001b[0m\u001b[1;33m:\u001b[0m\u001b[1;33m\u001b[0m\u001b[1;33m\u001b[0m\u001b[0m\n\u001b[0;32m    156\u001b[0m         \u001b[1;32mwhile\u001b[0m \u001b[1;32mTrue\u001b[0m\u001b[1;33m:\u001b[0m\u001b[1;33m\u001b[0m\u001b[1;33m\u001b[0m\u001b[0m\n\u001b[1;32m--> 157\u001b[1;33m             \u001b[0mchunk\u001b[0m \u001b[1;33m=\u001b[0m \u001b[0mresponse\u001b[0m\u001b[1;33m.\u001b[0m\u001b[0mread\u001b[0m\u001b[1;33m(\u001b[0m\u001b[0mchunk_size\u001b[0m\u001b[1;33m)\u001b[0m\u001b[1;33m\u001b[0m\u001b[1;33m\u001b[0m\u001b[0m\n\u001b[0m\u001b[0;32m    158\u001b[0m             \u001b[0mdownloaded\u001b[0m \u001b[1;33m+=\u001b[0m \u001b[0mlen\u001b[0m\u001b[1;33m(\u001b[0m\u001b[0mchunk\u001b[0m\u001b[1;33m)\u001b[0m\u001b[1;33m\u001b[0m\u001b[1;33m\u001b[0m\u001b[0m\n\u001b[0;32m    159\u001b[0m             \u001b[1;32mif\u001b[0m \u001b[1;32mnot\u001b[0m \u001b[0mchunk\u001b[0m\u001b[1;33m:\u001b[0m\u001b[1;33m\u001b[0m\u001b[1;33m\u001b[0m\u001b[0m\n",
      "\u001b[1;32mc:\\users\\juanl\\appdata\\local\\programs\\python\\python38\\lib\\http\\client.py\u001b[0m in \u001b[0;36mread\u001b[1;34m(self, amt)\u001b[0m\n\u001b[0;32m    456\u001b[0m             \u001b[1;31m# Amount is given, implement using readinto\u001b[0m\u001b[1;33m\u001b[0m\u001b[1;33m\u001b[0m\u001b[1;33m\u001b[0m\u001b[0m\n\u001b[0;32m    457\u001b[0m             \u001b[0mb\u001b[0m \u001b[1;33m=\u001b[0m \u001b[0mbytearray\u001b[0m\u001b[1;33m(\u001b[0m\u001b[0mamt\u001b[0m\u001b[1;33m)\u001b[0m\u001b[1;33m\u001b[0m\u001b[1;33m\u001b[0m\u001b[0m\n\u001b[1;32m--> 458\u001b[1;33m             \u001b[0mn\u001b[0m \u001b[1;33m=\u001b[0m \u001b[0mself\u001b[0m\u001b[1;33m.\u001b[0m\u001b[0mreadinto\u001b[0m\u001b[1;33m(\u001b[0m\u001b[0mb\u001b[0m\u001b[1;33m)\u001b[0m\u001b[1;33m\u001b[0m\u001b[1;33m\u001b[0m\u001b[0m\n\u001b[0m\u001b[0;32m    459\u001b[0m             \u001b[1;32mreturn\u001b[0m \u001b[0mmemoryview\u001b[0m\u001b[1;33m(\u001b[0m\u001b[0mb\u001b[0m\u001b[1;33m)\u001b[0m\u001b[1;33m[\u001b[0m\u001b[1;33m:\u001b[0m\u001b[0mn\u001b[0m\u001b[1;33m]\u001b[0m\u001b[1;33m.\u001b[0m\u001b[0mtobytes\u001b[0m\u001b[1;33m(\u001b[0m\u001b[1;33m)\u001b[0m\u001b[1;33m\u001b[0m\u001b[1;33m\u001b[0m\u001b[0m\n\u001b[0;32m    460\u001b[0m         \u001b[1;32melse\u001b[0m\u001b[1;33m:\u001b[0m\u001b[1;33m\u001b[0m\u001b[1;33m\u001b[0m\u001b[0m\n",
      "\u001b[1;32mc:\\users\\juanl\\appdata\\local\\programs\\python\\python38\\lib\\http\\client.py\u001b[0m in \u001b[0;36mreadinto\u001b[1;34m(self, b)\u001b[0m\n\u001b[0;32m    500\u001b[0m         \u001b[1;31m# connection, and the user is reading more bytes than will be provided\u001b[0m\u001b[1;33m\u001b[0m\u001b[1;33m\u001b[0m\u001b[1;33m\u001b[0m\u001b[0m\n\u001b[0;32m    501\u001b[0m         \u001b[1;31m# (for example, reading in 1k chunks)\u001b[0m\u001b[1;33m\u001b[0m\u001b[1;33m\u001b[0m\u001b[1;33m\u001b[0m\u001b[0m\n\u001b[1;32m--> 502\u001b[1;33m         \u001b[0mn\u001b[0m \u001b[1;33m=\u001b[0m \u001b[0mself\u001b[0m\u001b[1;33m.\u001b[0m\u001b[0mfp\u001b[0m\u001b[1;33m.\u001b[0m\u001b[0mreadinto\u001b[0m\u001b[1;33m(\u001b[0m\u001b[0mb\u001b[0m\u001b[1;33m)\u001b[0m\u001b[1;33m\u001b[0m\u001b[1;33m\u001b[0m\u001b[0m\n\u001b[0m\u001b[0;32m    503\u001b[0m         \u001b[1;32mif\u001b[0m \u001b[1;32mnot\u001b[0m \u001b[0mn\u001b[0m \u001b[1;32mand\u001b[0m \u001b[0mb\u001b[0m\u001b[1;33m:\u001b[0m\u001b[1;33m\u001b[0m\u001b[1;33m\u001b[0m\u001b[0m\n\u001b[0;32m    504\u001b[0m             \u001b[1;31m# Ideally, we would raise IncompleteRead if the content-length\u001b[0m\u001b[1;33m\u001b[0m\u001b[1;33m\u001b[0m\u001b[1;33m\u001b[0m\u001b[0m\n",
      "\u001b[1;32mc:\\users\\juanl\\appdata\\local\\programs\\python\\python38\\lib\\socket.py\u001b[0m in \u001b[0;36mreadinto\u001b[1;34m(self, b)\u001b[0m\n\u001b[0;32m    667\u001b[0m         \u001b[1;32mwhile\u001b[0m \u001b[1;32mTrue\u001b[0m\u001b[1;33m:\u001b[0m\u001b[1;33m\u001b[0m\u001b[1;33m\u001b[0m\u001b[0m\n\u001b[0;32m    668\u001b[0m             \u001b[1;32mtry\u001b[0m\u001b[1;33m:\u001b[0m\u001b[1;33m\u001b[0m\u001b[1;33m\u001b[0m\u001b[0m\n\u001b[1;32m--> 669\u001b[1;33m                 \u001b[1;32mreturn\u001b[0m \u001b[0mself\u001b[0m\u001b[1;33m.\u001b[0m\u001b[0m_sock\u001b[0m\u001b[1;33m.\u001b[0m\u001b[0mrecv_into\u001b[0m\u001b[1;33m(\u001b[0m\u001b[0mb\u001b[0m\u001b[1;33m)\u001b[0m\u001b[1;33m\u001b[0m\u001b[1;33m\u001b[0m\u001b[0m\n\u001b[0m\u001b[0;32m    670\u001b[0m             \u001b[1;32mexcept\u001b[0m \u001b[0mtimeout\u001b[0m\u001b[1;33m:\u001b[0m\u001b[1;33m\u001b[0m\u001b[1;33m\u001b[0m\u001b[0m\n\u001b[0;32m    671\u001b[0m                 \u001b[0mself\u001b[0m\u001b[1;33m.\u001b[0m\u001b[0m_timeout_occurred\u001b[0m \u001b[1;33m=\u001b[0m \u001b[1;32mTrue\u001b[0m\u001b[1;33m\u001b[0m\u001b[1;33m\u001b[0m\u001b[0m\n",
      "\u001b[1;32mc:\\users\\juanl\\appdata\\local\\programs\\python\\python38\\lib\\ssl.py\u001b[0m in \u001b[0;36mrecv_into\u001b[1;34m(self, buffer, nbytes, flags)\u001b[0m\n\u001b[0;32m   1239\u001b[0m                   \u001b[1;34m\"non-zero flags not allowed in calls to recv_into() on %s\"\u001b[0m \u001b[1;33m%\u001b[0m\u001b[1;33m\u001b[0m\u001b[1;33m\u001b[0m\u001b[0m\n\u001b[0;32m   1240\u001b[0m                   self.__class__)\n\u001b[1;32m-> 1241\u001b[1;33m             \u001b[1;32mreturn\u001b[0m \u001b[0mself\u001b[0m\u001b[1;33m.\u001b[0m\u001b[0mread\u001b[0m\u001b[1;33m(\u001b[0m\u001b[0mnbytes\u001b[0m\u001b[1;33m,\u001b[0m \u001b[0mbuffer\u001b[0m\u001b[1;33m)\u001b[0m\u001b[1;33m\u001b[0m\u001b[1;33m\u001b[0m\u001b[0m\n\u001b[0m\u001b[0;32m   1242\u001b[0m         \u001b[1;32melse\u001b[0m\u001b[1;33m:\u001b[0m\u001b[1;33m\u001b[0m\u001b[1;33m\u001b[0m\u001b[0m\n\u001b[0;32m   1243\u001b[0m             \u001b[1;32mreturn\u001b[0m \u001b[0msuper\u001b[0m\u001b[1;33m(\u001b[0m\u001b[1;33m)\u001b[0m\u001b[1;33m.\u001b[0m\u001b[0mrecv_into\u001b[0m\u001b[1;33m(\u001b[0m\u001b[0mbuffer\u001b[0m\u001b[1;33m,\u001b[0m \u001b[0mnbytes\u001b[0m\u001b[1;33m,\u001b[0m \u001b[0mflags\u001b[0m\u001b[1;33m)\u001b[0m\u001b[1;33m\u001b[0m\u001b[1;33m\u001b[0m\u001b[0m\n",
      "\u001b[1;32mc:\\users\\juanl\\appdata\\local\\programs\\python\\python38\\lib\\ssl.py\u001b[0m in \u001b[0;36mread\u001b[1;34m(self, len, buffer)\u001b[0m\n\u001b[0;32m   1097\u001b[0m         \u001b[1;32mtry\u001b[0m\u001b[1;33m:\u001b[0m\u001b[1;33m\u001b[0m\u001b[1;33m\u001b[0m\u001b[0m\n\u001b[0;32m   1098\u001b[0m             \u001b[1;32mif\u001b[0m \u001b[0mbuffer\u001b[0m \u001b[1;32mis\u001b[0m \u001b[1;32mnot\u001b[0m \u001b[1;32mNone\u001b[0m\u001b[1;33m:\u001b[0m\u001b[1;33m\u001b[0m\u001b[1;33m\u001b[0m\u001b[0m\n\u001b[1;32m-> 1099\u001b[1;33m                 \u001b[1;32mreturn\u001b[0m \u001b[0mself\u001b[0m\u001b[1;33m.\u001b[0m\u001b[0m_sslobj\u001b[0m\u001b[1;33m.\u001b[0m\u001b[0mread\u001b[0m\u001b[1;33m(\u001b[0m\u001b[0mlen\u001b[0m\u001b[1;33m,\u001b[0m \u001b[0mbuffer\u001b[0m\u001b[1;33m)\u001b[0m\u001b[1;33m\u001b[0m\u001b[1;33m\u001b[0m\u001b[0m\n\u001b[0m\u001b[0;32m   1100\u001b[0m             \u001b[1;32melse\u001b[0m\u001b[1;33m:\u001b[0m\u001b[1;33m\u001b[0m\u001b[1;33m\u001b[0m\u001b[0m\n\u001b[0;32m   1101\u001b[0m                 \u001b[1;32mreturn\u001b[0m \u001b[0mself\u001b[0m\u001b[1;33m.\u001b[0m\u001b[0m_sslobj\u001b[0m\u001b[1;33m.\u001b[0m\u001b[0mread\u001b[0m\u001b[1;33m(\u001b[0m\u001b[0mlen\u001b[0m\u001b[1;33m)\u001b[0m\u001b[1;33m\u001b[0m\u001b[1;33m\u001b[0m\u001b[0m\n",
      "\u001b[1;31mKeyboardInterrupt\u001b[0m: "
     ]
    }
   ],
   "source": [
    "fasttext.util.download_model('es', if_exists='ignore')\n",
    "\n"
   ]
  },
  {
   "cell_type": "code",
   "execution_count": null,
   "metadata": {
    "colab": {
     "base_uri": "https://localhost:8080/"
    },
    "executionInfo": {
     "elapsed": 7560,
     "status": "ok",
     "timestamp": 1617098000778,
     "user": {
      "displayName": "Rafael Berlanga Llavori",
      "photoUrl": "https://lh3.googleusercontent.com/a-/AOh14Gij7a_x7hln_mccXdSKtg2BpPtMu66FEoe7m3u32g=s64",
      "userId": "05947012679519155640"
     },
     "user_tz": -120
    },
    "id": "r9Lcb_vajQnJ",
    "outputId": "28698a52-d1ea-419b-c91f-46c2937597f5"
   },
   "outputs": [],
   "source": [
    "model_es = fasttext.load_model('cc.es.300.bin')"
   ]
  },
  {
   "cell_type": "markdown",
   "metadata": {
    "id": "SVJN75dAXL5f"
   },
   "source": [
    "## Analogías\n",
    "\n",
    "*x* es a *y* lo que *t* a *z* => `Z = X - Y + T`"
   ]
  },
  {
   "cell_type": "code",
   "execution_count": null,
   "metadata": {
    "colab": {
     "base_uri": "https://localhost:8080/"
    },
    "executionInfo": {
     "elapsed": 16991,
     "status": "ok",
     "timestamp": 1617098024343,
     "user": {
      "displayName": "Rafael Berlanga Llavori",
      "photoUrl": "https://lh3.googleusercontent.com/a-/AOh14Gij7a_x7hln_mccXdSKtg2BpPtMu66FEoe7m3u32g=s64",
      "userId": "05947012679519155640"
     },
     "user_tz": -120
    },
    "id": "Mp66zU08XFSg",
    "outputId": "b34320cb-2d04-4556-d379-c4af5e7567c8"
   },
   "outputs": [
    {
     "data": {
      "text/plain": [
       "[(0.5998787879943848, 'paris'),\n",
       " (0.5952529311180115, 'parís'),\n",
       " (0.5838564038276672, 'toulouse'),\n",
       " (0.5673896074295044, 'montreal'),\n",
       " (0.5640653371810913, 'moscu'),\n",
       " (0.5542844533920288, 'louvre'),\n",
       " (0.5482965707778931, 'budapest'),\n",
       " (0.5421040654182434, 'edimburgo'),\n",
       " (0.5403665900230408, 'berlín'),\n",
       " (0.5394555926322937, 'praga')]"
      ]
     },
     "execution_count": 11,
     "metadata": {
      "tags": []
     },
     "output_type": "execute_result"
    }
   ],
   "source": [
    "model_es.get_analogies(\"berlin\", \"alemania\", \"francia\")"
   ]
  },
  {
   "cell_type": "code",
   "execution_count": null,
   "metadata": {
    "id": "z1oUy3FFXkkV"
   },
   "outputs": [],
   "source": [
    "##Visualización PCA de analogias"
   ]
  },
  {
   "cell_type": "markdown",
   "metadata": {
    "id": "iXa7g4DtYQSA"
   },
   "source": [
    "## Embeddings de sentencias como agregados de sus tokens"
   ]
  },
  {
   "cell_type": "code",
   "execution_count": 1,
   "metadata": {
    "executionInfo": {
     "elapsed": 544,
     "status": "ok",
     "timestamp": 1618055650767,
     "user": {
      "displayName": "Rafael Berlanga Llavori",
      "photoUrl": "https://lh3.googleusercontent.com/a-/AOh14Gij7a_x7hln_mccXdSKtg2BpPtMu66FEoe7m3u32g=s64",
      "userId": "05947012679519155640"
     },
     "user_tz": -120
    },
    "id": "q8XDqsZXmiII"
   },
   "outputs": [],
   "source": [
    "import pandas as pd\n",
    "\n",
    "data = pd.read_csv('juego.txt',delimiter='|',header=None,names=['cui','text'])"
   ]
  },
  {
   "cell_type": "code",
   "execution_count": 2,
   "metadata": {
    "colab": {
     "base_uri": "https://localhost:8080/",
     "height": 198
    },
    "executionInfo": {
     "elapsed": 831,
     "status": "ok",
     "timestamp": 1618055661066,
     "user": {
      "displayName": "Rafael Berlanga Llavori",
      "photoUrl": "https://lh3.googleusercontent.com/a-/AOh14Gij7a_x7hln_mccXdSKtg2BpPtMu66FEoe7m3u32g=s64",
      "userId": "05947012679519155640"
     },
     "user_tz": -120
    },
    "id": "T1plEw8Qofay",
    "outputId": "23fbed1a-648f-4808-863f-ca66a0a48f5f"
   },
   "outputs": [
    {
     "data": {
      "text/html": [
       "<div>\n",
       "<style scoped>\n",
       "    .dataframe tbody tr th:only-of-type {\n",
       "        vertical-align: middle;\n",
       "    }\n",
       "\n",
       "    .dataframe tbody tr th {\n",
       "        vertical-align: top;\n",
       "    }\n",
       "\n",
       "    .dataframe thead th {\n",
       "        text-align: right;\n",
       "    }\n",
       "</style>\n",
       "<table border=\"1\" class=\"dataframe\">\n",
       "  <thead>\n",
       "    <tr style=\"text-align: right;\">\n",
       "      <th></th>\n",
       "      <th>cui</th>\n",
       "      <th>text</th>\n",
       "    </tr>\n",
       "  </thead>\n",
       "  <tbody>\n",
       "    <tr>\n",
       "      <th>0</th>\n",
       "      <td>00005855n</td>\n",
       "      <td>Se conoce como juego sexual a los preludios de...</td>\n",
       "    </tr>\n",
       "    <tr>\n",
       "      <th>1</th>\n",
       "      <td>00007687n</td>\n",
       "      <td>El bacara o baccarat es un juego de cartas muy...</td>\n",
       "    </tr>\n",
       "    <tr>\n",
       "      <th>2</th>\n",
       "      <td>00007779n</td>\n",
       "      <td>El backgammon es un juego de mesa para dos jug...</td>\n",
       "    </tr>\n",
       "    <tr>\n",
       "      <th>3</th>\n",
       "      <td>00007779n</td>\n",
       "      <td>Juego de mesa para dos jugadores, cuyas piezas...</td>\n",
       "    </tr>\n",
       "    <tr>\n",
       "      <th>4</th>\n",
       "      <td>00008145n</td>\n",
       "      <td>Juego en el que se usa una pelota.</td>\n",
       "    </tr>\n",
       "  </tbody>\n",
       "</table>\n",
       "</div>"
      ],
      "text/plain": [
       "         cui                                               text\n",
       "0  00005855n  Se conoce como juego sexual a los preludios de...\n",
       "1  00007687n  El bacara o baccarat es un juego de cartas muy...\n",
       "2  00007779n  El backgammon es un juego de mesa para dos jug...\n",
       "3  00007779n  Juego de mesa para dos jugadores, cuyas piezas...\n",
       "4  00008145n                 Juego en el que se usa una pelota."
      ]
     },
     "execution_count": 2,
     "metadata": {},
     "output_type": "execute_result"
    }
   ],
   "source": [
    "data.head()"
   ]
  },
  {
   "cell_type": "code",
   "execution_count": 3,
   "metadata": {
    "colab": {
     "base_uri": "https://localhost:8080/"
    },
    "executionInfo": {
     "elapsed": 2128,
     "status": "ok",
     "timestamp": 1618055681660,
     "user": {
      "displayName": "Rafael Berlanga Llavori",
      "photoUrl": "https://lh3.googleusercontent.com/a-/AOh14Gij7a_x7hln_mccXdSKtg2BpPtMu66FEoe7m3u32g=s64",
      "userId": "05947012679519155640"
     },
     "user_tz": -120
    },
    "id": "CsjUv_IKYa02",
    "outputId": "1fa53509-e4fc-4a98-f780-95800081064b"
   },
   "outputs": [
    {
     "name": "stderr",
     "output_type": "stream",
     "text": [
      "[nltk_data] Downloading package punkt to\n",
      "[nltk_data]     C:\\Users\\juanl\\AppData\\Roaming\\nltk_data...\n",
      "[nltk_data]   Package punkt is already up-to-date!\n"
     ]
    },
    {
     "data": {
      "text/plain": [
       "True"
      ]
     },
     "execution_count": 3,
     "metadata": {},
     "output_type": "execute_result"
    }
   ],
   "source": [
    "import nltk\n",
    "from nltk.tokenize import word_tokenize\n",
    "import numpy as np\n",
    "\n",
    "nltk.download('punkt')\n"
   ]
  },
  {
   "cell_type": "code",
   "execution_count": 13,
   "metadata": {
    "executionInfo": {
     "elapsed": 2482,
     "status": "ok",
     "timestamp": 1618055694248,
     "user": {
      "displayName": "Rafael Berlanga Llavori",
      "photoUrl": "https://lh3.googleusercontent.com/a-/AOh14Gij7a_x7hln_mccXdSKtg2BpPtMu66FEoe7m3u32g=s64",
      "userId": "05947012679519155640"
     },
     "user_tz": -120
    },
    "id": "iccm4V0uNhhD"
   },
   "outputs": [],
   "source": [
    "vectors = []\n",
    "\n",
    "for sentence in data['text']:\n",
    "  words = [model.get_word_vector(w) for w in word_tokenize(sentence)]\n",
    "  vectors.append( np.mean( words, axis=0 ) )"
   ]
  },
  {
   "cell_type": "code",
   "execution_count": 14,
   "metadata": {
    "executionInfo": {
     "elapsed": 696,
     "status": "ok",
     "timestamp": 1618055961411,
     "user": {
      "displayName": "Rafael Berlanga Llavori",
      "photoUrl": "https://lh3.googleusercontent.com/a-/AOh14Gij7a_x7hln_mccXdSKtg2BpPtMu66FEoe7m3u32g=s64",
      "userId": "05947012679519155640"
     },
     "user_tz": -120
    },
    "id": "BdCAYY_zZ9Fk"
   },
   "outputs": [],
   "source": [
    "##probar con varias sentencias y calcular su distancia\n",
    "##visualizar\n",
    "\n",
    "top = 50\n",
    "\n",
    "S_PCA  = PCA(n_components=2).fit_transform(vectors[:top])\n"
   ]
  },
  {
   "cell_type": "code",
   "execution_count": 15,
   "metadata": {
    "colab": {
     "base_uri": "https://localhost:8080/",
     "height": 263
    },
    "executionInfo": {
     "elapsed": 1375,
     "status": "ok",
     "timestamp": 1618055963411,
     "user": {
      "displayName": "Rafael Berlanga Llavori",
      "photoUrl": "https://lh3.googleusercontent.com/a-/AOh14Gij7a_x7hln_mccXdSKtg2BpPtMu66FEoe7m3u32g=s64",
      "userId": "05947012679519155640"
     },
     "user_tz": -120
    },
    "id": "wFOL8-Mvo3xu",
    "outputId": "8c76dbc0-9753-4d1c-a034-4d0e75be6801"
   },
   "outputs": [
    {
     "data": {
      "image/png": "[encoded data removed]",
      "text/plain": [
       "<Figure size 432x288 with 1 Axes>"
      ]
     },
     "metadata": {},
     "output_type": "display_data"
    }
   ],
   "source": [
    "%matplotlib inline\n",
    "\n",
    "import matplotlib.pyplot as plt\n",
    "plt.style.use('seaborn-whitegrid')\n",
    "\n",
    "fig = plt.figure()    \n",
    "ax = plt.axes()\n",
    "    \n",
    "ax.scatter([x[0] for x in S_PCA],[x[1] for x in S_PCA])\n",
    "\n",
    "for i, txt in enumerate(data['cui'][:top]):\n",
    "    plt.annotate(txt, S_PCA[i])"
   ]
  },
  {
   "cell_type": "code",
   "execution_count": null,
   "metadata": {
    "id": "iN5vq9ZUptfg"
   },
   "outputs": [],
   "source": []
  }
 ],
 "metadata": {
  "colab": {
   "authorship_tag": "ABX9TyN+I0Opw1y+zheqz/ZJFgAF",
   "collapsed_sections": [],
   "name": "Embeddings con FastText.ipynb",
   "provenance": [],
   "toc_visible": true
  },
  "kernelspec": {
   "display_name": "Python 3",
   "language": "python",
   "name": "python3"
  },
  "language_info": {
   "codemirror_mode": {
    "name": "ipython",
    "version": 3
   },
   "file_extension": ".py",
   "mimetype": "text/x-python",
   "name": "python",
   "nbconvert_exporter": "python",
   "pygments_lexer": "ipython3",
   "version": "3.8.8"
  }
 },
 "nbformat": 4,
 "nbformat_minor": 1
}
