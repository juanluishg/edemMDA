{
 "cells": [
  {
   "cell_type": "markdown",
   "metadata": {
    "id": "ZbNyYrSSO-70"
   },
   "source": [
    "# EJEMPLO SIMPLE DEL FRAMEWORK STANZA PARA EL ANÁLISIS SINTÁCTICO DE TEXTOS\n",
    "\n",
    "https://stanfordnlp.github.io/stanza/\n"
   ]
  },
  {
   "cell_type": "code",
   "execution_count": 1,
   "metadata": {
    "colab": {
     "base_uri": "https://localhost:8080/"
    },
    "executionInfo": {
     "elapsed": 5079,
     "status": "ok",
     "timestamp": 1618305664128,
     "user": {
      "displayName": "Rafael Berlanga Llavori",
      "photoUrl": "https://lh3.googleusercontent.com/a-/AOh14Gij7a_x7hln_mccXdSKtg2BpPtMu66FEoe7m3u32g=s64",
      "userId": "05947012679519155640"
     },
     "user_tz": -120
    },
    "id": "KWzX2fgeOCdK",
    "outputId": "cc52557e-833c-4e62-db2e-29022f0ad17d"
   },
   "outputs": [
    {
     "name": "stdout",
     "output_type": "stream",
     "text": [
      "Collecting stanza\n",
      "  Downloading stanza-1.2-py3-none-any.whl (282 kB)\n",
      "Requirement already satisfied: requests in c:\\users\\juanl\\appdata\\local\\programs\\python\\python38\\lib\\site-packages (from stanza) (2.25.1)\n",
      "Requirement already satisfied: protobuf in c:\\users\\juanl\\appdata\\local\\programs\\python\\python38\\lib\\site-packages (from stanza) (3.15.1)\n",
      "Requirement already satisfied: torch>=1.3.0 in c:\\users\\juanl\\appdata\\local\\programs\\python\\python38\\lib\\site-packages (from stanza) (1.8.0)\n",
      "Requirement already satisfied: numpy in c:\\users\\juanl\\appdata\\local\\programs\\python\\python38\\lib\\site-packages (from stanza) (1.19.2)\n",
      "Requirement already satisfied: tqdm in c:\\users\\juanl\\appdata\\local\\programs\\python\\python38\\lib\\site-packages (from stanza) (4.58.0)\n",
      "Requirement already satisfied: typing-extensions in c:\\users\\juanl\\appdata\\local\\programs\\python\\python38\\lib\\site-packages (from torch>=1.3.0->stanza) (3.7.4.3)\n",
      "Requirement already satisfied: six>=1.9 in c:\\users\\juanl\\appdata\\local\\programs\\python\\python38\\lib\\site-packages (from protobuf->stanza) (1.15.0)\n",
      "Requirement already satisfied: certifi>=2017.4.17 in c:\\users\\juanl\\appdata\\local\\programs\\python\\python38\\lib\\site-packages (from requests->stanza) (2020.12.5)\n",
      "Requirement already satisfied: idna<3,>=2.5 in c:\\users\\juanl\\appdata\\local\\programs\\python\\python38\\lib\\site-packages (from requests->stanza) (2.10)\n",
      "Requirement already satisfied: chardet<5,>=3.0.2 in c:\\users\\juanl\\appdata\\local\\programs\\python\\python38\\lib\\site-packages (from requests->stanza) (4.0.0)\n",
      "Requirement already satisfied: urllib3<1.27,>=1.21.1 in c:\\users\\juanl\\appdata\\local\\programs\\python\\python38\\lib\\site-packages (from requests->stanza) (1.26.3)\n",
      "Installing collected packages: stanza\n",
      "Successfully installed stanza-1.2\n"
     ]
    }
   ],
   "source": [
    "!pip install stanza"
   ]
  },
  {
   "cell_type": "code",
   "execution_count": null,
   "metadata": {
    "colab": {
     "base_uri": "https://localhost:8080/"
    },
    "executionInfo": {
     "elapsed": 214892,
     "status": "ok",
     "timestamp": 1618305880743,
     "user": {
      "displayName": "Rafael Berlanga Llavori",
      "photoUrl": "https://lh3.googleusercontent.com/a-/AOh14Gij7a_x7hln_mccXdSKtg2BpPtMu66FEoe7m3u32g=s64",
      "userId": "05947012679519155640"
     },
     "user_tz": -120
    },
    "id": "FNnznxj0OUXj",
    "outputId": "550d150c-9b15-46ef-bbfb-409321b1516c"
   },
   "outputs": [
    {
     "name": "stderr",
     "output_type": "stream",
     "text": [
      "Downloading https://raw.githubusercontent.com/stanfordnlp/stanza-resources/master/resources_1.2.0.json: 128kB [00:00, 64.0MB/s]\n",
      "2021-04-16 16:32:34 INFO: Downloading default packages for language: es (Spanish)...\n",
      "Downloading http://nlp.stanford.edu/software/stanza/1.2.0/es/default.zip:  91%|█████▍| 516M/566M [15:05<00:59, 828kB/s]"
     ]
    }
   ],
   "source": [
    "import stanza\n",
    "import warnings\n",
    "warnings.filterwarnings(\"ignore\")\n",
    "\n",
    "stanza.download('es') # Descaragamos el modelo en Español"
   ]
  },
  {
   "cell_type": "code",
   "execution_count": 4,
   "metadata": {
    "colab": {
     "base_uri": "https://localhost:8080/"
    },
    "executionInfo": {
     "elapsed": 5151,
     "status": "ok",
     "timestamp": 1618306243219,
     "user": {
      "displayName": "Rafael Berlanga Llavori",
      "photoUrl": "https://lh3.googleusercontent.com/a-/AOh14Gij7a_x7hln_mccXdSKtg2BpPtMu66FEoe7m3u32g=s64",
      "userId": "05947012679519155640"
     },
     "user_tz": -120
    },
    "id": "nSYO2RdIOah-",
    "outputId": "f95419d9-3cb3-4603-b07d-31fe7415a896"
   },
   "outputs": [
    {
     "name": "stderr",
     "output_type": "stream",
     "text": [
      "2021-04-13 09:30:38 INFO: Loading these models for language: es (Spanish):\n",
      "=======================\n",
      "| Processor | Package |\n",
      "-----------------------\n",
      "| tokenize  | ancora  |\n",
      "| mwt       | ancora  |\n",
      "| pos       | ancora  |\n",
      "| lemma     | ancora  |\n",
      "| depparse  | ancora  |\n",
      "| ner       | conll02 |\n",
      "=======================\n",
      "\n",
      "2021-04-13 09:30:38 INFO: Use device: cpu\n",
      "2021-04-13 09:30:38 INFO: Loading: tokenize\n",
      "2021-04-13 09:30:38 INFO: Loading: mwt\n",
      "2021-04-13 09:30:38 INFO: Loading: pos\n",
      "2021-04-13 09:30:39 INFO: Loading: lemma\n",
      "2021-04-13 09:30:39 INFO: Loading: depparse\n",
      "2021-04-13 09:30:40 INFO: Loading: ner\n",
      "2021-04-13 09:30:42 INFO: Done loading processors!\n"
     ]
    }
   ],
   "source": [
    "nlp = stanza.Pipeline('es') # initialize Spanish neural pipeline\n",
    "\n",
    "doc = nlp(\"emiliano zapata fue un campesino revolucionario y su padre fue Mateo Zapata. vivio en mexico\") # run annotation over a sentence"
   ]
  },
  {
   "cell_type": "code",
   "execution_count": 5,
   "metadata": {
    "colab": {
     "base_uri": "https://localhost:8080/"
    },
    "executionInfo": {
     "elapsed": 983,
     "status": "ok",
     "timestamp": 1618306246184,
     "user": {
      "displayName": "Rafael Berlanga Llavori",
      "photoUrl": "https://lh3.googleusercontent.com/a-/AOh14Gij7a_x7hln_mccXdSKtg2BpPtMu66FEoe7m3u32g=s64",
      "userId": "05947012679519155640"
     },
     "user_tz": -120
    },
    "id": "LAIRH3OGOniJ",
    "outputId": "9d097aeb-28d0-4540-d0f9-87cd832a92fe"
   },
   "outputs": [
    {
     "name": "stdout",
     "output_type": "stream",
     "text": [
      "[\n",
      "  [\n",
      "    {\n",
      "      \"id\": 1,\n",
      "      \"text\": \"emiliano\",\n",
      "      \"lemma\": \"emiliano\",\n",
      "      \"upos\": \"NOUN\",\n",
      "      \"xpos\": \"NOUN\",\n",
      "      \"feats\": \"Gender=Masc|Number=Sing\",\n",
      "      \"head\": 5,\n",
      "      \"deprel\": \"nsubj\",\n",
      "      \"misc\": \"start_char=0|end_char=8\",\n",
      "      \"ner\": \"O\"\n",
      "    },\n",
      "    {\n",
      "      \"id\": 2,\n",
      "      \"text\": \"zapata\",\n",
      "      \"lemma\": \"zapata\",\n",
      "      \"upos\": \"ADJ\",\n",
      "      \"xpos\": \"ADJ\",\n",
      "      \"feats\": \"Number=Sing\",\n",
      "      \"head\": 1,\n",
      "      \"deprel\": \"amod\",\n",
      "      \"misc\": \"start_char=9|end_char=15\",\n",
      "      \"ner\": \"O\"\n",
      "    },\n",
      "    {\n",
      "      \"id\": 3,\n",
      "      \"text\": \"fue\",\n",
      "      \"lemma\": \"ser\",\n",
      "      \"upos\": \"AUX\",\n",
      "      \"xpos\": \"AUX\",\n",
      "      \"feats\": \"Mood=Ind|Number=Sing|Person=3|Tense=Past|VerbForm=Fin\",\n",
      "      \"head\": 5,\n",
      "      \"deprel\": \"cop\",\n",
      "      \"misc\": \"start_char=16|end_char=19\",\n",
      "      \"ner\": \"O\"\n",
      "    },\n",
      "    {\n",
      "      \"id\": 4,\n",
      "      \"text\": \"un\",\n",
      "      \"lemma\": \"uno\",\n",
      "      \"upos\": \"DET\",\n",
      "      \"xpos\": \"DET\",\n",
      "      \"feats\": \"Definite=Ind|Gender=Masc|Number=Sing|PronType=Art\",\n",
      "      \"head\": 5,\n",
      "      \"deprel\": \"det\",\n",
      "      \"misc\": \"start_char=20|end_char=22\",\n",
      "      \"ner\": \"O\"\n",
      "    },\n",
      "    {\n",
      "      \"id\": 5,\n",
      "      \"text\": \"campesino\",\n",
      "      \"lemma\": \"campesino\",\n",
      "      \"upos\": \"NOUN\",\n",
      "      \"xpos\": \"NOUN\",\n",
      "      \"feats\": \"Gender=Masc|Number=Sing\",\n",
      "      \"head\": 0,\n",
      "      \"deprel\": \"root\",\n",
      "      \"misc\": \"start_char=23|end_char=32\",\n",
      "      \"ner\": \"O\"\n",
      "    },\n",
      "    {\n",
      "      \"id\": 6,\n",
      "      \"text\": \"revolucionario\",\n",
      "      \"lemma\": \"revolucionario\",\n",
      "      \"upos\": \"ADJ\",\n",
      "      \"xpos\": \"ADJ\",\n",
      "      \"feats\": \"Gender=Masc|Number=Sing\",\n",
      "      \"head\": 5,\n",
      "      \"deprel\": \"amod\",\n",
      "      \"misc\": \"start_char=33|end_char=47\",\n",
      "      \"ner\": \"O\"\n",
      "    },\n",
      "    {\n",
      "      \"id\": 7,\n",
      "      \"text\": \"y\",\n",
      "      \"lemma\": \"y\",\n",
      "      \"upos\": \"CCONJ\",\n",
      "      \"xpos\": \"CCONJ\",\n",
      "      \"head\": 11,\n",
      "      \"deprel\": \"cc\",\n",
      "      \"misc\": \"start_char=48|end_char=49\",\n",
      "      \"ner\": \"O\"\n",
      "    },\n",
      "    {\n",
      "      \"id\": 8,\n",
      "      \"text\": \"su\",\n",
      "      \"lemma\": \"su\",\n",
      "      \"upos\": \"DET\",\n",
      "      \"xpos\": \"DET\",\n",
      "      \"feats\": \"Number=Sing|Person=3|Poss=Yes|PronType=Prs\",\n",
      "      \"head\": 9,\n",
      "      \"deprel\": \"det\",\n",
      "      \"misc\": \"start_char=50|end_char=52\",\n",
      "      \"ner\": \"O\"\n",
      "    },\n",
      "    {\n",
      "      \"id\": 9,\n",
      "      \"text\": \"padre\",\n",
      "      \"lemma\": \"padre\",\n",
      "      \"upos\": \"NOUN\",\n",
      "      \"xpos\": \"NOUN\",\n",
      "      \"feats\": \"Gender=Masc|Number=Sing\",\n",
      "      \"head\": 11,\n",
      "      \"deprel\": \"nsubj\",\n",
      "      \"misc\": \"start_char=53|end_char=58\",\n",
      "      \"ner\": \"O\"\n",
      "    },\n",
      "    {\n",
      "      \"id\": 10,\n",
      "      \"text\": \"fue\",\n",
      "      \"lemma\": \"ser\",\n",
      "      \"upos\": \"AUX\",\n",
      "      \"xpos\": \"AUX\",\n",
      "      \"feats\": \"Mood=Ind|Number=Sing|Person=3|Tense=Past|VerbForm=Fin\",\n",
      "      \"head\": 11,\n",
      "      \"deprel\": \"cop\",\n",
      "      \"misc\": \"start_char=59|end_char=62\",\n",
      "      \"ner\": \"O\"\n",
      "    },\n",
      "    {\n",
      "      \"id\": 11,\n",
      "      \"text\": \"Mateo\",\n",
      "      \"lemma\": \"Mateo\",\n",
      "      \"upos\": \"PROPN\",\n",
      "      \"xpos\": \"PROPN\",\n",
      "      \"head\": 5,\n",
      "      \"deprel\": \"conj\",\n",
      "      \"misc\": \"start_char=63|end_char=68\",\n",
      "      \"ner\": \"B-PER\"\n",
      "    },\n",
      "    {\n",
      "      \"id\": 12,\n",
      "      \"text\": \"Zapata\",\n",
      "      \"lemma\": \"Zapata\",\n",
      "      \"upos\": \"PROPN\",\n",
      "      \"xpos\": \"PROPN\",\n",
      "      \"head\": 11,\n",
      "      \"deprel\": \"flat\",\n",
      "      \"misc\": \"start_char=69|end_char=75\",\n",
      "      \"ner\": \"E-PER\"\n",
      "    },\n",
      "    {\n",
      "      \"id\": 13,\n",
      "      \"text\": \".\",\n",
      "      \"lemma\": \".\",\n",
      "      \"upos\": \"PUNCT\",\n",
      "      \"xpos\": \"PUNCT\",\n",
      "      \"feats\": \"PunctType=Peri\",\n",
      "      \"head\": 5,\n",
      "      \"deprel\": \"punct\",\n",
      "      \"misc\": \"start_char=75|end_char=76\",\n",
      "      \"ner\": \"O\"\n",
      "    },\n",
      "    {\n",
      "      \"id\": 14,\n",
      "      \"text\": \"vivio\",\n",
      "      \"lemma\": \"vivir\",\n",
      "      \"upos\": \"VERB\",\n",
      "      \"xpos\": \"VERB\",\n",
      "      \"feats\": \"Mood=Ind|Number=Sing|Person=3|Tense=Pres|VerbForm=Fin\",\n",
      "      \"head\": 11,\n",
      "      \"deprel\": \"advcl\",\n",
      "      \"misc\": \"start_char=77|end_char=82\",\n",
      "      \"ner\": \"O\"\n",
      "    },\n",
      "    {\n",
      "      \"id\": 15,\n",
      "      \"text\": \"en\",\n",
      "      \"lemma\": \"en\",\n",
      "      \"upos\": \"ADP\",\n",
      "      \"xpos\": \"ADP\",\n",
      "      \"feats\": \"AdpType=Prep\",\n",
      "      \"head\": 16,\n",
      "      \"deprel\": \"case\",\n",
      "      \"misc\": \"start_char=83|end_char=85\",\n",
      "      \"ner\": \"O\"\n",
      "    },\n",
      "    {\n",
      "      \"id\": 16,\n",
      "      \"text\": \"mexico\",\n",
      "      \"lemma\": \"mexico\",\n",
      "      \"upos\": \"NOUN\",\n",
      "      \"xpos\": \"NOUN\",\n",
      "      \"feats\": \"Gender=Masc|Number=Sing\",\n",
      "      \"head\": 14,\n",
      "      \"deprel\": \"obl\",\n",
      "      \"misc\": \"start_char=86|end_char=92\",\n",
      "      \"ner\": \"S-LOC\"\n",
      "    }\n",
      "  ]\n",
      "]\n",
      "[{\n",
      "  \"text\": \"Mateo Zapata\",\n",
      "  \"type\": \"PER\",\n",
      "  \"start_char\": 63,\n",
      "  \"end_char\": 75\n",
      "}, {\n",
      "  \"text\": \"mexico\",\n",
      "  \"type\": \"LOC\",\n",
      "  \"start_char\": 86,\n",
      "  \"end_char\": 92\n",
      "}]\n"
     ]
    }
   ],
   "source": [
    "print(doc)\n",
    "\n",
    "print(doc.entities)"
   ]
  },
  {
   "cell_type": "markdown",
   "metadata": {
    "id": "XwF8O4zBCOhw"
   },
   "source": [
    "## ANÁLISIS DE SENTIMIENTOS\n",
    "\n",
    "https://stanfordnlp.github.io/stanza/sentiment.html"
   ]
  },
  {
   "cell_type": "code",
   "execution_count": null,
   "metadata": {
    "id": "_G2RuPnyk03i"
   },
   "outputs": [],
   "source": []
  }
 ],
 "metadata": {
  "colab": {
   "authorship_tag": "ABX9TyORlbBEZpYr7gxidRCMJhX4",
   "collapsed_sections": [],
   "name": "Stanza_example.ipynb",
   "provenance": []
  },
  "kernelspec": {
   "display_name": "Python 3",
   "language": "python",
   "name": "python3"
  },
  "language_info": {
   "codemirror_mode": {
    "name": "ipython",
    "version": 3
   },
   "file_extension": ".py",
   "mimetype": "text/x-python",
   "name": "python",
   "nbconvert_exporter": "python",
   "pygments_lexer": "ipython3",
   "version": "3.8.8"
  }
 },
 "nbformat": 4,
 "nbformat_minor": 1
}
