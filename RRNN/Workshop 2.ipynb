{
 "cells": [
  {
   "cell_type": "markdown",
   "metadata": {
    "id": "xdlgvOkkifBg"
   },
   "source": [
    "# Workshop 2: Handwritten digit classification\n",
    "In this workshop we will learn how to train a neural network with images \n",
    "as input to classify hand-written digits\n",
    "([info of the data](http://yann.lecun.com/exdb/mnist/)). The main blocks of the workshop are:\n",
    "\n",
    "1. Get the data from Keras repository and visualize it.\n",
    "2. Pre-process the data.\n",
    "3. Design the network.\n",
    "4. Train the network.\n",
    "5. Evaluate the model."
   ]
  },
  {
   "cell_type": "markdown",
   "metadata": {
    "id": "G2Tfy7oMnPwm"
   },
   "source": [
    "# 1. Get the data from Keras repository and visualize it."
   ]
  },
  {
   "cell_type": "code",
   "execution_count": 1,
   "metadata": {
    "id": "ovg7j3v8ne8R"
   },
   "outputs": [],
   "source": [
    "# Import dependence to download the dataset\n",
    "from keras.datasets import mnist"
   ]
  },
  {
   "cell_type": "code",
   "execution_count": 2,
   "metadata": {
    "id": "7wIQTIqknzGq"
   },
   "outputs": [],
   "source": [
    "# The data, shuffled and split between train and testval sets\n",
    "(X_train, y_train), (X_testval, y_testval) = mnist.load_data()"
   ]
  },
  {
   "cell_type": "code",
   "execution_count": 3,
   "metadata": {
    "id": "4aZHbmEUtsQ_"
   },
   "outputs": [],
   "source": [
    "# Import dependence for handling arrays\n",
    "import numpy as np"
   ]
  },
  {
   "cell_type": "code",
   "execution_count": 4,
   "metadata": {
    "id": "QWbDbMp5obFG"
   },
   "outputs": [
    {
     "name": "stdout",
     "output_type": "stream",
     "text": [
      "X_train original shape: (60000, 28, 28)\n",
      "y_train original shape: (60000,)\n",
      "X_testval original shape: (10000, 28, 28)\n",
      "y_testval original shape: (10000,)\n"
     ]
    }
   ],
   "source": [
    "# Show the shape of the data partitions\n",
    "print(\"X_train original shape:\", X_train.shape)\n",
    "print(\"y_train original shape:\", y_train.shape)\n",
    "print(\"X_testval original shape:\", X_testval.shape)\n",
    "print(\"y_testval original shape:\", y_testval.shape)"
   ]
  },
  {
   "cell_type": "code",
   "execution_count": 5,
   "metadata": {
    "id": "dZKQdtfIsBWf"
   },
   "outputs": [
    {
     "name": "stdout",
     "output_type": "stream",
     "text": [
      "X_train original dtype: uint8\n",
      "y_train original dytpe: uint8\n",
      "X_testval original dtype: uint8\n",
      "y_testval original dtype: uint8\n"
     ]
    }
   ],
   "source": [
    "# Show the data type of the data partitions\n",
    "print(\"X_train original dtype:\", X_train.dtype)\n",
    "print(\"y_train original dytpe:\", y_train.dtype)\n",
    "print(\"X_testval original dtype:\", X_testval.dtype)\n",
    "print(\"y_testval original dtype:\", y_testval.dtype)"
   ]
  },
  {
   "cell_type": "code",
   "execution_count": 6,
   "metadata": {
    "id": "bqc_wG-Ds8R3"
   },
   "outputs": [
    {
     "name": "stdout",
     "output_type": "stream",
     "text": [
      "X_train original min value: 0\n",
      "X_train original max value: 255\n",
      "X_testval original min value: 0\n",
      "X_testval original max value: 255\n"
     ]
    }
   ],
   "source": [
    "# Show the data range of the data partitions\n",
    "print(\"X_train original min value:\", X_train.min())\n",
    "print(\"X_train original max value:\", X_testval.max())\n",
    "print(\"X_testval original min value:\", X_train.min())\n",
    "print(\"X_testval original max value:\", X_testval.max())"
   ]
  },
  {
   "cell_type": "code",
   "execution_count": 7,
   "metadata": {
    "id": "HSHIwE4Ds_Nj"
   },
   "outputs": [
    {
     "name": "stdout",
     "output_type": "stream",
     "text": [
      "y_train labels: \n",
      " [0 1 2 3 4 5 6 7 8 9]\n",
      "y_testval labels: \n",
      " [0 1 2 3 4 5 6 7 8 9]\n"
     ]
    }
   ],
   "source": [
    "# Show the different labels of the data partitions\n",
    "print(\"y_train labels: \\n\", np.unique(y_train))\n",
    "print(\"y_testval labels: \\n\", np.unique(y_testval))"
   ]
  },
  {
   "cell_type": "code",
   "execution_count": 8,
   "metadata": {
    "id": "PSfIqPQZqB_X"
   },
   "outputs": [],
   "source": [
    "# Import dependence for visualization of images\n",
    "import matplotlib.pyplot as plt\n",
    "plt.rcParams['figure.figsize'] = (10,10)  # Configure figure size for \n",
    "                                          # appropriate visualization"
   ]
  },
  {
   "cell_type": "code",
   "execution_count": 9,
   "metadata": {
    "id": "hj5dbjb3pzkE"
   },
   "outputs": [
    {
     "data": {
      "image/png": "[encoded data removed]",
      "text/plain": [
       "<Figure size 720x720 with 9 Axes>"
      ]
     },
     "metadata": {
      "needs_background": "light"
     },
     "output_type": "display_data"
    }
   ],
   "source": [
    "# Show 9 images with its respective ground truth labels\n",
    "for i in range(9):\n",
    "    plt.subplot(3,3,i+1)\n",
    "    plt.imshow(X_train[i], cmap='gray', interpolation='none')\n",
    "    plt.title(\"Class {}\".format(y_train[i]))"
   ]
  },
  {
   "cell_type": "markdown",
   "metadata": {
    "id": "aVwXkwJunPYs"
   },
   "source": [
    "# 2. Pre-process the data.\n"
   ]
  },
  {
   "cell_type": "code",
   "execution_count": 10,
   "metadata": {
    "id": "9cd9_oQVpUSs"
   },
   "outputs": [],
   "source": [
    "# Convert the 2D images to 1D array\n",
    "X_train_rs = X_train.reshape(60000, 784)  # 784 = 28*28\n",
    "X_testval_rs = X_testval.reshape(10000, 784)"
   ]
  },
  {
   "cell_type": "code",
   "execution_count": 11,
   "metadata": {
    "id": "qdePKKE6q6Uj"
   },
   "outputs": [
    {
     "name": "stdout",
     "output_type": "stream",
     "text": [
      "Training matrix shape: (60000, 784)\n",
      "Testing matrix shape: (10000, 784)\n"
     ]
    }
   ],
   "source": [
    "# Show shape of the reshaped dataset\n",
    "print(\"Training matrix shape:\", X_train_rs.shape)\n",
    "print(\"Testing matrix shape:\", X_testval_rs.shape)"
   ]
  },
  {
   "cell_type": "code",
   "execution_count": 12,
   "metadata": {
    "id": "YHdnmbeLrLLh"
   },
   "outputs": [],
   "source": [
    "# Convert dtype to float32\n",
    "X_train_fl = X_train_rs.astype('float32')\n",
    "X_testval_fl = X_testval_rs.astype('float32')"
   ]
  },
  {
   "cell_type": "code",
   "execution_count": 13,
   "metadata": {
    "id": "dMN_BvU6rNQy"
   },
   "outputs": [
    {
     "name": "stdout",
     "output_type": "stream",
     "text": [
      "Training matrix dtype: float32\n",
      "Testing matrix dtype: float32\n"
     ]
    }
   ],
   "source": [
    "# Show dtype of the dataset\n",
    "print(\"Training matrix dtype:\", X_train_fl.dtype)\n",
    "print(\"Testing matrix dtype:\", X_testval_fl.dtype)"
   ]
  },
  {
   "cell_type": "code",
   "execution_count": 14,
   "metadata": {
    "id": "bh2gHlOLrCcx"
   },
   "outputs": [],
   "source": [
    "# Change the range of pixels from [0 255] to [0 1]\n",
    "X_train_fl /= 255\n",
    "X_testval_fl /= 255"
   ]
  },
  {
   "cell_type": "code",
   "execution_count": 15,
   "metadata": {
    "id": "YDjAgi0zrD5V"
   },
   "outputs": [
    {
     "name": "stdout",
     "output_type": "stream",
     "text": [
      "Training matrix range: [ 0.0 , 1.0 ]\n",
      "Testing matrix range: [ 0.0 , 1.0 ]\n"
     ]
    }
   ],
   "source": [
    "# Show the range of pixels\n",
    "print(\"Training matrix range:\", \"[\", X_train_fl.min(), \",\", X_train_fl.max(), \"]\")\n",
    "print(\"Testing matrix range:\", \"[\", X_testval_fl.min(), \",\", X_testval_fl.max(), \"]\")"
   ]
  },
  {
   "cell_type": "code",
   "execution_count": 16,
   "metadata": {
    "id": "Dr2hya4xvGLb"
   },
   "outputs": [],
   "source": [
    "# Import dependence for one-hot encoding\n",
    "from sklearn.preprocessing import OneHotEncoder"
   ]
  },
  {
   "cell_type": "code",
   "execution_count": 17,
   "metadata": {
    "id": "W6AF9x6cu9th"
   },
   "outputs": [],
   "source": [
    "# One-hot encoding of labels\n",
    "onehot_enc = OneHotEncoder()\n",
    "y_train_oh = onehot_enc.fit_transform(y_train.reshape(60000, 1)).toarray()\n",
    "y_testval_oh = onehot_enc.fit_transform(y_testval.reshape(10000, 1)).toarray()"
   ]
  },
  {
   "cell_type": "code",
   "execution_count": 18,
   "metadata": {
    "id": "igWwH294vucU"
   },
   "outputs": [
    {
     "name": "stdout",
     "output_type": "stream",
     "text": [
      "Training one-hot encoded labels shape: (60000, 10)\n",
      "Testing one-hot encoded labels shape: (10000, 10)\n"
     ]
    }
   ],
   "source": [
    "# Show one-hot encoded labels shape\n",
    "print(\"Training one-hot encoded labels shape:\", y_train_oh.shape)\n",
    "print(\"Testing one-hot encoded labels shape:\", y_testval_oh.shape)"
   ]
  },
  {
   "cell_type": "code",
   "execution_count": 19,
   "metadata": {
    "id": "5uhAxeX9w2kh"
   },
   "outputs": [],
   "source": [
    "# Divide testval in test and validation partitions\n",
    "samples_test_nb = int(X_testval.shape[0]/2)\n",
    "X_val = X_testval_fl[:samples_test_nb]\n",
    "y_val = y_testval_oh[:samples_test_nb]\n",
    "X_test = X_testval_fl[samples_test_nb:]\n",
    "y_test = y_testval_oh[samples_test_nb:]"
   ]
  },
  {
   "cell_type": "code",
   "execution_count": 20,
   "metadata": {
    "id": "96YSXER64qpG"
   },
   "outputs": [
    {
     "name": "stdout",
     "output_type": "stream",
     "text": [
      "Validation matrix shape: (5000, 784)\n",
      "Testing matrix shape: (5000, 784)\n"
     ]
    }
   ],
   "source": [
    "# Show shapes of test and validation partitions\n",
    "print(\"Validation matrix shape:\", X_val.shape)\n",
    "print(\"Testing matrix shape:\", X_test.shape)"
   ]
  },
  {
   "cell_type": "markdown",
   "metadata": {
    "id": "u0PKDA4QnPCR"
   },
   "source": [
    "# 3. Design the network.\n"
   ]
  },
  {
   "cell_type": "code",
   "execution_count": 21,
   "metadata": {
    "id": "KFBvZ_N67_6v"
   },
   "outputs": [],
   "source": [
    "# Import dependencies for network dessign\n",
    "from keras.models import Model\n",
    "from keras.layers import Input, Dense"
   ]
  },
  {
   "cell_type": "code",
   "execution_count": 22,
   "metadata": {
    "id": "pIPPpj1f8EQ1"
   },
   "outputs": [],
   "source": [
    "# Define the model\n",
    "input_layer = Input(shape=(X_train_fl.shape[1],))\n",
    "hidden_layer = Dense(32, activation='relu')(input_layer)\n",
    "output_layer = Dense(10, activation='softmax')(hidden_layer)\n",
    "model= Model(inputs=input_layer, outputs=output_layer)"
   ]
  },
  {
   "cell_type": "code",
   "execution_count": 23,
   "metadata": {
    "id": "GMX3LAmt8JsH"
   },
   "outputs": [
    {
     "name": "stdout",
     "output_type": "stream",
     "text": [
      "Model: \"model\"\n",
      "_________________________________________________________________\n",
      "Layer (type)                 Output Shape              Param #   \n",
      "=================================================================\n",
      "input_1 (InputLayer)         [(None, 784)]             0         \n",
      "_________________________________________________________________\n",
      "dense (Dense)                (None, 32)                25120     \n",
      "_________________________________________________________________\n",
      "dense_1 (Dense)              (None, 10)                330       \n",
      "=================================================================\n",
      "Total params: 25,450\n",
      "Trainable params: 25,450\n",
      "Non-trainable params: 0\n",
      "_________________________________________________________________\n"
     ]
    }
   ],
   "source": [
    "# Show a summary of the model\n",
    "model.summary()"
   ]
  },
  {
   "cell_type": "code",
   "execution_count": 24,
   "metadata": {
    "id": "JKIy7GSI9Pco"
   },
   "outputs": [],
   "source": [
    "# Compile the model\n",
    "model.compile(loss='categorical_crossentropy', optimizer='adam', \n",
    "              metrics=['accuracy'])"
   ]
  },
  {
   "cell_type": "markdown",
   "metadata": {
    "id": "CKzAyDbXnO4J"
   },
   "source": [
    "# 4. Train the network.\n"
   ]
  },
  {
   "cell_type": "code",
   "execution_count": 25,
   "metadata": {
    "id": "PEVlWnYr9c4C"
   },
   "outputs": [
    {
     "name": "stdout",
     "output_type": "stream",
     "text": [
      "Epoch 1/20\n",
      "469/469 [==============================] - 4s 6ms/step - loss: 0.8325 - accuracy: 0.7712 - val_loss: 0.3572 - val_accuracy: 0.8992\n",
      "Epoch 2/20\n",
      "469/469 [==============================] - 2s 3ms/step - loss: 0.2702 - accuracy: 0.9240 - val_loss: 0.2947 - val_accuracy: 0.9152\n",
      "Epoch 3/20\n",
      "469/469 [==============================] - 2s 3ms/step - loss: 0.2220 - accuracy: 0.9375 - val_loss: 0.2616 - val_accuracy: 0.9224\n",
      "Epoch 4/20\n",
      "469/469 [==============================] - 2s 3ms/step - loss: 0.1896 - accuracy: 0.9460 - val_loss: 0.2321 - val_accuracy: 0.9332\n",
      "Epoch 5/20\n",
      "469/469 [==============================] - 2s 3ms/step - loss: 0.1653 - accuracy: 0.9533 - val_loss: 0.2146 - val_accuracy: 0.9376\n",
      "Epoch 6/20\n",
      "469/469 [==============================] - 2s 3ms/step - loss: 0.1576 - accuracy: 0.9554 - val_loss: 0.2052 - val_accuracy: 0.9368\n",
      "Epoch 7/20\n",
      "469/469 [==============================] - 2s 3ms/step - loss: 0.1380 - accuracy: 0.9598 - val_loss: 0.1867 - val_accuracy: 0.9440\n",
      "Epoch 8/20\n",
      "469/469 [==============================] - 2s 4ms/step - loss: 0.1279 - accuracy: 0.9624 - val_loss: 0.1794 - val_accuracy: 0.9456\n",
      "Epoch 9/20\n",
      "469/469 [==============================] - 2s 3ms/step - loss: 0.1187 - accuracy: 0.9646 - val_loss: 0.1768 - val_accuracy: 0.9472\n",
      "Epoch 10/20\n",
      "469/469 [==============================] - 2s 3ms/step - loss: 0.1141 - accuracy: 0.9672 - val_loss: 0.1649 - val_accuracy: 0.9502\n",
      "Epoch 11/20\n",
      "469/469 [==============================] - 2s 3ms/step - loss: 0.1025 - accuracy: 0.9708 - val_loss: 0.1623 - val_accuracy: 0.9492\n",
      "Epoch 12/20\n",
      "469/469 [==============================] - 2s 3ms/step - loss: 0.0936 - accuracy: 0.9732 - val_loss: 0.1634 - val_accuracy: 0.95160s - los\n",
      "Epoch 13/20\n",
      "469/469 [==============================] - 2s 3ms/step - loss: 0.0912 - accuracy: 0.9737 - val_loss: 0.1591 - val_accuracy: 0.9512\n",
      "Epoch 14/20\n",
      "469/469 [==============================] - 2s 3ms/step - loss: 0.0860 - accuracy: 0.9750 - val_loss: 0.1496 - val_accuracy: 0.9528\n",
      "Epoch 15/20\n",
      "469/469 [==============================] - 2s 3ms/step - loss: 0.0840 - accuracy: 0.9759 - val_loss: 0.1511 - val_accuracy: 0.9528\n",
      "Epoch 16/20\n",
      "469/469 [==============================] - 2s 3ms/step - loss: 0.0799 - accuracy: 0.9775 - val_loss: 0.1556 - val_accuracy: 0.9518\n",
      "Epoch 17/20\n",
      "469/469 [==============================] - 1s 3ms/step - loss: 0.0763 - accuracy: 0.9776 - val_loss: 0.1465 - val_accuracy: 0.9542\n",
      "Epoch 18/20\n",
      "469/469 [==============================] - 2s 3ms/step - loss: 0.0727 - accuracy: 0.9779 - val_loss: 0.1436 - val_accuracy: 0.9540\n",
      "Epoch 19/20\n",
      "469/469 [==============================] - 2s 3ms/step - loss: 0.0685 - accuracy: 0.9796 - val_loss: 0.1506 - val_accuracy: 0.9552\n",
      "Epoch 20/20\n",
      "469/469 [==============================] - 2s 3ms/step - loss: 0.0671 - accuracy: 0.9800 - val_loss: 0.1508 - val_accuracy: 0.9554\n"
     ]
    }
   ],
   "source": [
    "history = model.fit(X_train_fl, y_train_oh, epochs=20, batch_size=128,\n",
    "                    validation_data=(X_val, y_val))"
   ]
  },
  {
   "cell_type": "code",
   "execution_count": 26,
   "metadata": {
    "id": "_JJQmvfJ-w0V"
   },
   "outputs": [
    {
     "data": {
      "image/png": "[encoded data removed]",
      "text/plain": [
       "<Figure size 720x720 with 1 Axes>"
      ]
     },
     "metadata": {
      "needs_background": "light"
     },
     "output_type": "display_data"
    }
   ],
   "source": [
    "# Plot training and validation accuracy\n",
    "plt.plot(history.history['accuracy'])\n",
    "plt.plot(history.history['val_accuracy'])\n",
    "plt.title('Model accuracy')\n",
    "plt.ylabel('Accuracy')\n",
    "plt.xlabel('Epoch')\n",
    "plt.legend(['Train', 'Val'], loc='upper left')\n",
    "# plt.ylim(0, 1)\n",
    "plt.show()"
   ]
  },
  {
   "cell_type": "code",
   "execution_count": 27,
   "metadata": {
    "id": "SuY17TCCAKji"
   },
   "outputs": [
    {
     "data": {
      "image/png": "[encoded data removed]",
      "text/plain": [
       "<Figure size 720x720 with 1 Axes>"
      ]
     },
     "metadata": {
      "needs_background": "light"
     },
     "output_type": "display_data"
    }
   ],
   "source": [
    "# Plot training and test loss\n",
    "plt.plot(history.history['loss']) \n",
    "plt.plot(history.history['val_loss']) \n",
    "plt.title('Model loss') \n",
    "plt.ylabel('Loss') \n",
    "plt.xlabel('Epoch') \n",
    "plt.legend(['Train', 'Val'], loc='upper left') \n",
    "plt.show()"
   ]
  },
  {
   "cell_type": "code",
   "execution_count": 29,
   "metadata": {
    "id": "srnHyHXhFNtM"
   },
   "outputs": [],
   "source": [
    "# Save the model\n",
    "from pathlib import Path\n",
    "path = Path('./models')\n",
    "if path == None: \n",
    "    path.mkdir()\n",
    "model.save('./models/model_2.h5')"
   ]
  },
  {
   "cell_type": "markdown",
   "metadata": {
    "id": "fHV8hcxonOrJ"
   },
   "source": [
    "# 5. Evaluate the model."
   ]
  },
  {
   "cell_type": "code",
   "execution_count": 30,
   "metadata": {
    "id": "yUgSj95QiOSD"
   },
   "outputs": [
    {
     "name": "stdout",
     "output_type": "stream",
     "text": [
      "Test score: 0.08721858263015747\n",
      "Test accuracy: 0.9764000177383423\n"
     ]
    }
   ],
   "source": [
    "# Obtain metrics in the test partition\n",
    "score = model.evaluate(X_test, y_test, verbose=0)\n",
    "print('Test score:', score[0])\n",
    "print('Test accuracy:', score[1])"
   ]
  },
  {
   "cell_type": "code",
   "execution_count": 31,
   "metadata": {
    "id": "IG9VHxT48w9m"
   },
   "outputs": [],
   "source": [
    "# Predict test samples post-process them\n",
    "predicted_classes = model.predict(X_test)\n",
    "predicted_classes = np.round(predicted_classes)\n",
    "predicted_classes = np.argmax(predicted_classes, axis=1)"
   ]
  },
  {
   "cell_type": "code",
   "execution_count": 32,
   "metadata": {
    "id": "S619XGToCAwc"
   },
   "outputs": [],
   "source": [
    "# Convert test labels to scalars\n",
    "y_test_scalar = np.argmax(y_test, axis=1)"
   ]
  },
  {
   "cell_type": "code",
   "execution_count": 33,
   "metadata": {
    "id": "zP7tPRxxCVjm"
   },
   "outputs": [],
   "source": [
    "# Obtain test samples correctly predicted\n",
    "correct_indices = np.nonzero(predicted_classes == y_test_scalar)[0]"
   ]
  },
  {
   "cell_type": "code",
   "execution_count": 34,
   "metadata": {
    "id": "XKYWedGSCeFS"
   },
   "outputs": [],
   "source": [
    "# Obtain test samples incorrectly predicted\n",
    "incorrect_indices = np.nonzero(predicted_classes != y_test_scalar)[0]"
   ]
  },
  {
   "cell_type": "code",
   "execution_count": 35,
   "metadata": {
    "id": "pLUfNWWACpX3"
   },
   "outputs": [
    {
     "data": {
      "image/png": "[encoded data removed]",
      "text/plain": [
       "<Figure size 720x720 with 9 Axes>"
      ]
     },
     "metadata": {
      "needs_background": "light"
     },
     "output_type": "display_data"
    }
   ],
   "source": [
    "# Show some correctly classified samples\n",
    "plt.figure()\n",
    "for i, correct in enumerate(correct_indices[:9]):\n",
    "    plt.subplot(3,3,i+1)\n",
    "    plt.imshow(X_test[correct].reshape(28,28), cmap='gray', \n",
    "               interpolation='none')\n",
    "    plt.title(\"Predicted {}, Class {}\".format(predicted_classes[correct], \n",
    "                                              y_test_scalar[correct]))"
   ]
  },
  {
   "cell_type": "code",
   "execution_count": 36,
   "metadata": {
    "id": "c2HlFYfkCx4i"
   },
   "outputs": [
    {
     "data": {
      "image/png": "[encoded data removed]",
      "text/plain": [
       "<Figure size 720x720 with 9 Axes>"
      ]
     },
     "metadata": {
      "needs_background": "light"
     },
     "output_type": "display_data"
    }
   ],
   "source": [
    "# Show some incorrectly classified samples\n",
    "plt.figure()\n",
    "for i, incorrect in enumerate(incorrect_indices[:9]):\n",
    "    plt.subplot(3,3,i+1)\n",
    "    plt.imshow(X_test[incorrect].reshape(28,28), cmap='gray', \n",
    "               interpolation='none')\n",
    "    plt.title(\"Predicted {}, Class {}\".format(predicted_classes[incorrect], \n",
    "                                              y_test_scalar[incorrect]))"
   ]
  },
  {
   "cell_type": "markdown",
   "metadata": {
    "id": "XFikgbMtE7vv"
   },
   "source": [
    "# Exercise 1: Create a new model with 512 neurons in the hidden layer and repeat the process"
   ]
  },
  {
   "cell_type": "code",
   "execution_count": 37,
   "metadata": {
    "id": "AHsnnITjE7Bi"
   },
   "outputs": [],
   "source": [
    "# Design the model\n",
    "input_layer = Input(shape=(X_train_fl.shape[1],))\n",
    "hidden_layer = Dense(512, activation='relu')(input_layer)\n",
    "output_layer = Dense(10, activation='softmax')(hidden_layer)\n",
    "model= Model(inputs=input_layer, outputs=output_layer)"
   ]
  },
  {
   "cell_type": "code",
   "execution_count": 38,
   "metadata": {
    "id": "Ecq4qZiRG1r2"
   },
   "outputs": [
    {
     "name": "stdout",
     "output_type": "stream",
     "text": [
      "Model: \"model_1\"\n",
      "_________________________________________________________________\n",
      "Layer (type)                 Output Shape              Param #   \n",
      "=================================================================\n",
      "input_2 (InputLayer)         [(None, 784)]             0         \n",
      "_________________________________________________________________\n",
      "dense_2 (Dense)              (None, 512)               401920    \n",
      "_________________________________________________________________\n",
      "dense_3 (Dense)              (None, 10)                5130      \n",
      "=================================================================\n",
      "Total params: 407,050\n",
      "Trainable params: 407,050\n",
      "Non-trainable params: 0\n",
      "_________________________________________________________________\n"
     ]
    }
   ],
   "source": [
    "# Show summary of the model\n",
    "model.summary()"
   ]
  },
  {
   "cell_type": "code",
   "execution_count": 39,
   "metadata": {
    "id": "nZVmKpXUGXnm"
   },
   "outputs": [],
   "source": [
    "# Compile the model\n",
    "model.compile(loss='categorical_crossentropy', optimizer='adam', \n",
    "              metrics=['accuracy'])"
   ]
  },
  {
   "cell_type": "code",
   "execution_count": 40,
   "metadata": {
    "id": "PoEN_hmFGa01"
   },
   "outputs": [
    {
     "name": "stdout",
     "output_type": "stream",
     "text": [
      "Epoch 1/20\n",
      "469/469 [==============================] - 2s 4ms/step - loss: 0.4582 - accuracy: 0.8746 - val_loss: 0.1729 - val_accuracy: 0.9484\n",
      "Epoch 2/20\n",
      "469/469 [==============================] - 2s 3ms/step - loss: 0.1191 - accuracy: 0.9652 - val_loss: 0.1282 - val_accuracy: 0.9628\n",
      "Epoch 3/20\n",
      "469/469 [==============================] - 2s 4ms/step - loss: 0.0738 - accuracy: 0.9779 - val_loss: 0.1036 - val_accuracy: 0.9672\n",
      "Epoch 4/20\n",
      "469/469 [==============================] - 2s 3ms/step - loss: 0.0498 - accuracy: 0.9854 - val_loss: 0.0907 - val_accuracy: 0.9714\n",
      "Epoch 5/20\n",
      "469/469 [==============================] - 2s 3ms/step - loss: 0.0371 - accuracy: 0.9888 - val_loss: 0.0889 - val_accuracy: 0.9724\n",
      "Epoch 6/20\n",
      "469/469 [==============================] - 2s 3ms/step - loss: 0.0278 - accuracy: 0.9924 - val_loss: 0.0803 - val_accuracy: 0.9730\n",
      "Epoch 7/20\n",
      "469/469 [==============================] - 2s 4ms/step - loss: 0.0189 - accuracy: 0.9956 - val_loss: 0.0854 - val_accuracy: 0.9724\n",
      "Epoch 8/20\n",
      "469/469 [==============================] - 2s 4ms/step - loss: 0.0144 - accuracy: 0.9962 - val_loss: 0.0823 - val_accuracy: 0.9724\n",
      "Epoch 9/20\n",
      "469/469 [==============================] - 2s 4ms/step - loss: 0.0117 - accuracy: 0.9969 - val_loss: 0.0813 - val_accuracy: 0.9756\n",
      "Epoch 10/20\n",
      "469/469 [==============================] - 2s 3ms/step - loss: 0.0095 - accuracy: 0.9978 - val_loss: 0.0762 - val_accuracy: 0.9774\n",
      "Epoch 11/20\n",
      "469/469 [==============================] - 2s 3ms/step - loss: 0.0084 - accuracy: 0.9981 - val_loss: 0.0854 - val_accuracy: 0.9760\n",
      "Epoch 12/20\n",
      "469/469 [==============================] - 2s 3ms/step - loss: 0.0068 - accuracy: 0.9985 - val_loss: 0.0806 - val_accuracy: 0.9778\n",
      "Epoch 13/20\n",
      "469/469 [==============================] - 2s 4ms/step - loss: 0.0041 - accuracy: 0.9995 - val_loss: 0.1101 - val_accuracy: 0.9710\n",
      "Epoch 14/20\n",
      "469/469 [==============================] - 2s 4ms/step - loss: 0.0082 - accuracy: 0.9973 - val_loss: 0.1052 - val_accuracy: 0.9710\n",
      "Epoch 15/20\n",
      "469/469 [==============================] - 2s 4ms/step - loss: 0.0072 - accuracy: 0.9980 - val_loss: 0.1027 - val_accuracy: 0.9732\n",
      "Epoch 16/20\n",
      "469/469 [==============================] - 2s 4ms/step - loss: 0.0029 - accuracy: 0.9995 - val_loss: 0.0989 - val_accuracy: 0.9748\n",
      "Epoch 17/20\n",
      "469/469 [==============================] - 2s 4ms/step - loss: 0.0035 - accuracy: 0.9992 - val_loss: 0.1041 - val_accuracy: 0.9744\n",
      "Epoch 18/20\n",
      "469/469 [==============================] - 2s 4ms/step - loss: 0.0049 - accuracy: 0.9986 - val_loss: 0.1125 - val_accuracy: 0.9728\n",
      "Epoch 19/20\n",
      "469/469 [==============================] - 2s 3ms/step - loss: 0.0044 - accuracy: 0.9988 - val_loss: 0.0955 - val_accuracy: 0.9762\n",
      "Epoch 20/20\n",
      "469/469 [==============================] - 2s 4ms/step - loss: 0.0038 - accuracy: 0.9991 - val_loss: 0.0972 - val_accuracy: 0.9768\n"
     ]
    }
   ],
   "source": [
    "# Train the model\n",
    "history = model.fit(X_train_fl, y_train_oh, epochs=20, batch_size=128,\n",
    "                    validation_data=(X_val, y_val))"
   ]
  },
  {
   "cell_type": "code",
   "execution_count": 41,
   "metadata": {
    "id": "7be6fqJwIXIJ"
   },
   "outputs": [
    {
     "name": "stdout",
     "output_type": "stream",
     "text": [
      "Test score: 0.042739927768707275\n",
      "Test accuracy: 0.9887999892234802\n"
     ]
    }
   ],
   "source": [
    "# Obtain metrics in the test partition\n",
    "score = model.evaluate(X_test, y_test, verbose=0)\n",
    "print('Test score:', score[0])\n",
    "print('Test accuracy:', score[1])"
   ]
  },
  {
   "cell_type": "markdown",
   "metadata": {
    "id": "BqlE4Fn6Fi1G"
   },
   "source": [
    "# Exercise 2: Add a hidden layer with 512 neurons to the model of exercise 1 and repeat the process"
   ]
  },
  {
   "cell_type": "code",
   "execution_count": 42,
   "metadata": {
    "id": "RKKJQnBVJCXJ"
   },
   "outputs": [],
   "source": [
    "# Design the model\n",
    "input_layer = Input(shape=(X_train_fl.shape[1],))\n",
    "hidden_layer = Dense(512, activation='relu')(input_layer)\n",
    "hidden_layer2 = Dense(512, activation='relu')(hidden_layer)\n",
    "output_layer = Dense(10, activation='softmax')(hidden_layer2)\n",
    "model= Model(inputs=input_layer, outputs=output_layer)"
   ]
  },
  {
   "cell_type": "code",
   "execution_count": 43,
   "metadata": {
    "id": "nWsEItkjJCXN"
   },
   "outputs": [
    {
     "name": "stdout",
     "output_type": "stream",
     "text": [
      "Model: \"model_2\"\n",
      "_________________________________________________________________\n",
      "Layer (type)                 Output Shape              Param #   \n",
      "=================================================================\n",
      "input_3 (InputLayer)         [(None, 784)]             0         \n",
      "_________________________________________________________________\n",
      "dense_4 (Dense)              (None, 512)               401920    \n",
      "_________________________________________________________________\n",
      "dense_5 (Dense)              (None, 512)               262656    \n",
      "_________________________________________________________________\n",
      "dense_6 (Dense)              (None, 10)                5130      \n",
      "=================================================================\n",
      "Total params: 669,706\n",
      "Trainable params: 669,706\n",
      "Non-trainable params: 0\n",
      "_________________________________________________________________\n"
     ]
    }
   ],
   "source": [
    "# Show summary of the model\n",
    "model.summary()"
   ]
  },
  {
   "cell_type": "code",
   "execution_count": 44,
   "metadata": {
    "id": "LZ1STEi1JCXO"
   },
   "outputs": [],
   "source": [
    "# Compile the model\n",
    "model.compile(loss='categorical_crossentropy', optimizer='adam', \n",
    "              metrics=['accuracy'])"
   ]
  },
  {
   "cell_type": "code",
   "execution_count": 45,
   "metadata": {
    "id": "2eoPsL21JCXQ"
   },
   "outputs": [
    {
     "name": "stdout",
     "output_type": "stream",
     "text": [
      "Epoch 1/20\n",
      "469/469 [==============================] - 2s 4ms/step - loss: 0.3995 - accuracy: 0.8812 - val_loss: 0.1316 - val_accuracy: 0.9580\n",
      "Epoch 2/20\n",
      "469/469 [==============================] - 2s 5ms/step - loss: 0.0801 - accuracy: 0.9751 - val_loss: 0.1090 - val_accuracy: 0.9678\n",
      "Epoch 3/20\n",
      "469/469 [==============================] - 2s 4ms/step - loss: 0.0515 - accuracy: 0.9835 - val_loss: 0.0957 - val_accuracy: 0.9684\n",
      "Epoch 4/20\n",
      "469/469 [==============================] - 2s 4ms/step - loss: 0.0301 - accuracy: 0.9902 - val_loss: 0.0966 - val_accuracy: 0.9706\n",
      "Epoch 5/20\n",
      "469/469 [==============================] - 2s 4ms/step - loss: 0.0270 - accuracy: 0.9911 - val_loss: 0.0808 - val_accuracy: 0.9770\n",
      "Epoch 6/20\n",
      "469/469 [==============================] - 2s 5ms/step - loss: 0.0167 - accuracy: 0.9944 - val_loss: 0.1007 - val_accuracy: 0.9732\n",
      "Epoch 7/20\n",
      "469/469 [==============================] - ETA: 0s - loss: 0.0170 - accuracy: 0.9943 ETA: 0s - loss: 0.016 - 2s 4ms/step - loss: 0.0170 - accuracy: 0.9943 - val_loss: 0.1118 - val_accuracy: 0.9682\n",
      "Epoch 8/20\n",
      "469/469 [==============================] - 2s 4ms/step - loss: 0.0148 - accuracy: 0.9947 - val_loss: 0.1105 - val_accuracy: 0.9736\n",
      "Epoch 9/20\n",
      "469/469 [==============================] - 2s 4ms/step - loss: 0.0113 - accuracy: 0.9962 - val_loss: 0.1080 - val_accuracy: 0.9722\n",
      "Epoch 10/20\n",
      "469/469 [==============================] - 2s 4ms/step - loss: 0.0100 - accuracy: 0.9965 - val_loss: 0.1112 - val_accuracy: 0.9752\n",
      "Epoch 11/20\n",
      "469/469 [==============================] - 2s 4ms/step - loss: 0.0125 - accuracy: 0.9957 - val_loss: 0.1232 - val_accuracy: 0.9728\n",
      "Epoch 12/20\n",
      "469/469 [==============================] - 2s 4ms/step - loss: 0.0098 - accuracy: 0.9966 - val_loss: 0.1631 - val_accuracy: 0.9688\n",
      "Epoch 13/20\n",
      "469/469 [==============================] - 2s 4ms/step - loss: 0.0111 - accuracy: 0.9968 - val_loss: 0.1335 - val_accuracy: 0.9738\n",
      "Epoch 14/20\n",
      "469/469 [==============================] - 2s 4ms/step - loss: 0.0124 - accuracy: 0.9960 - val_loss: 0.1295 - val_accuracy: 0.9742\n",
      "Epoch 15/20\n",
      "469/469 [==============================] - 2s 5ms/step - loss: 0.0095 - accuracy: 0.9969 - val_loss: 0.1165 - val_accuracy: 0.9738\n",
      "Epoch 16/20\n",
      "469/469 [==============================] - 2s 4ms/step - loss: 0.0067 - accuracy: 0.9979 - val_loss: 0.1219 - val_accuracy: 0.9738\n",
      "Epoch 17/20\n",
      "469/469 [==============================] - 2s 4ms/step - loss: 0.0087 - accuracy: 0.9972 - val_loss: 0.1059 - val_accuracy: 0.9784\n",
      "Epoch 18/20\n",
      "469/469 [==============================] - 2s 4ms/step - loss: 0.0093 - accuracy: 0.9972 - val_loss: 0.1182 - val_accuracy: 0.9754\n",
      "Epoch 19/20\n",
      "469/469 [==============================] - 2s 4ms/step - loss: 0.0036 - accuracy: 0.9989 - val_loss: 0.1420 - val_accuracy: 0.9758\n",
      "Epoch 20/20\n",
      "469/469 [==============================] - 2s 4ms/step - loss: 0.0034 - accuracy: 0.9989 - val_loss: 0.1410 - val_accuracy: 0.9742\n"
     ]
    }
   ],
   "source": [
    "# Train the model\n",
    "history = model.fit(X_train_fl, y_train_oh, epochs=20, batch_size=128,\n",
    "                    validation_data=(X_val, y_val))"
   ]
  },
  {
   "cell_type": "code",
   "execution_count": 46,
   "metadata": {
    "id": "eVDAp1ykJCXS"
   },
   "outputs": [
    {
     "name": "stdout",
     "output_type": "stream",
     "text": [
      "Test score: 0.06699599325656891\n",
      "Test accuracy: 0.9873999953269958\n"
     ]
    }
   ],
   "source": [
    "# Obtain metrics in the test partition\n",
    "score = model.evaluate(X_test, y_test, verbose=0)\n",
    "print('Test score:', score[0])\n",
    "print('Test accuracy:', score[1])"
   ]
  },
  {
   "cell_type": "markdown",
   "metadata": {
    "id": "BqMN_hVeJ8hX"
   },
   "source": [
    "# Exercise 3: Train a model with CIFAR 10 dataset\n",
    "\n",
    "[Dataset info](https://www.cs.toronto.edu/~kriz/cifar.html)"
   ]
  },
  {
   "cell_type": "code",
   "execution_count": 47,
   "metadata": {
    "id": "NlcduaaIKIXe"
   },
   "outputs": [],
   "source": [
    "# Import dependence for downloading CIFAR10\n",
    "from keras.datasets import cifar10"
   ]
  },
  {
   "cell_type": "code",
   "execution_count": 48,
   "metadata": {
    "id": "XNI61ZGvKEPf"
   },
   "outputs": [],
   "source": [
    "(X_train, y_train), (X_testval, y_testval) = cifar10.load_data()"
   ]
  },
  {
   "cell_type": "code",
   "execution_count": 50,
   "metadata": {
    "id": "_7wuKBNRMVIR"
   },
   "outputs": [
    {
     "name": "stdout",
     "output_type": "stream",
     "text": [
      "Training matrix shape: (50000, 32, 32, 3)\n",
      "Testing matrix shape: (10000, 32, 32, 3)\n"
     ]
    }
   ],
   "source": [
    "print(\"Training matrix shape:\", X_train.shape)\n",
    "print(\"Testing matrix shape:\", X_testval.shape)"
   ]
  },
  {
   "cell_type": "code",
   "execution_count": 51,
   "metadata": {},
   "outputs": [],
   "source": [
    "X_train_rs = X_train.reshape(50000, 3072)  # 784 = 28*28\n",
    "X_testval_rs = X_testval.reshape(10000, 3072)"
   ]
  },
  {
   "cell_type": "code",
   "execution_count": 52,
   "metadata": {},
   "outputs": [
    {
     "name": "stdout",
     "output_type": "stream",
     "text": [
      "Training matrix shape: (50000, 3072)\n",
      "Testing matrix shape: (10000, 3072)\n"
     ]
    }
   ],
   "source": [
    "# Show shape of the reshaped dataset\n",
    "print(\"Training matrix shape:\", X_train_rs.shape)\n",
    "print(\"Testing matrix shape:\", X_testval_rs.shape)"
   ]
  },
  {
   "cell_type": "code",
   "execution_count": 53,
   "metadata": {},
   "outputs": [],
   "source": [
    "# Convert dtype to float32\n",
    "X_train_fl = X_train_rs.astype('float32')\n",
    "X_testval_fl = X_testval_rs.astype('float32')"
   ]
  },
  {
   "cell_type": "code",
   "execution_count": 54,
   "metadata": {},
   "outputs": [],
   "source": [
    "# Change the range of pixels from [0 255] to [0 1]\n",
    "X_train_fl /= 255\n",
    "X_testval_fl /= 255"
   ]
  },
  {
   "cell_type": "code",
   "execution_count": 55,
   "metadata": {},
   "outputs": [
    {
     "name": "stdout",
     "output_type": "stream",
     "text": [
      "Training matrix range: [ 0.0 , 1.0 ]\n",
      "Testing matrix range: [ 0.0 , 1.0 ]\n"
     ]
    }
   ],
   "source": [
    "# Show the range of pixels\n",
    "print(\"Training matrix range:\", \"[\", X_train_fl.min(), \",\", X_train_fl.max(), \"]\")\n",
    "print(\"Testing matrix range:\", \"[\", X_testval_fl.min(), \",\", X_testval_fl.max(), \"]\")"
   ]
  },
  {
   "cell_type": "code",
   "execution_count": 56,
   "metadata": {},
   "outputs": [],
   "source": [
    "# One-hot encoding of labels\n",
    "onehot_enc = OneHotEncoder()\n",
    "y_train_oh = onehot_enc.fit_transform(y_train.reshape(50000, 1)).toarray()\n",
    "y_testval_oh = onehot_enc.fit_transform(y_testval.reshape(10000, 1)).toarray()"
   ]
  },
  {
   "cell_type": "code",
   "execution_count": 57,
   "metadata": {},
   "outputs": [
    {
     "name": "stdout",
     "output_type": "stream",
     "text": [
      "Training one-hot encoded labels shape: (50000, 10)\n",
      "Testing one-hot encoded labels shape: (10000, 10)\n"
     ]
    }
   ],
   "source": [
    "# Show one-hot encoded labels shape\n",
    "print(\"Training one-hot encoded labels shape:\", y_train_oh.shape)\n",
    "print(\"Testing one-hot encoded labels shape:\", y_testval_oh.shape)"
   ]
  },
  {
   "cell_type": "code",
   "execution_count": 58,
   "metadata": {},
   "outputs": [],
   "source": [
    "# Divide testval in test and validation partitions\n",
    "samples_test_nb = int(X_testval.shape[0]/2)\n",
    "X_val = X_testval_fl[:samples_test_nb]\n",
    "y_val = y_testval_oh[:samples_test_nb]\n",
    "X_test = X_testval_fl[samples_test_nb:]\n",
    "y_test = y_testval_oh[samples_test_nb:]"
   ]
  },
  {
   "cell_type": "code",
   "execution_count": 59,
   "metadata": {},
   "outputs": [
    {
     "name": "stdout",
     "output_type": "stream",
     "text": [
      "Validation matrix shape: (5000, 3072)\n",
      "Testing matrix shape: (5000, 3072)\n"
     ]
    }
   ],
   "source": [
    "# Show shapes of test and validation partitions\n",
    "print(\"Validation matrix shape:\", X_val.shape)\n",
    "print(\"Testing matrix shape:\", X_test.shape)"
   ]
  },
  {
   "cell_type": "code",
   "execution_count": 93,
   "metadata": {},
   "outputs": [],
   "source": [
    "# Define the model\n",
    "input_layer = Input(shape=(X_train_fl.shape[1],))\n",
    "hidden_layer = Dense(512, activation='relu')(input_layer)\n",
    "hidden_layer1 = Dense(256, activation='relu')(hidden_layer)\n",
    "output_layer = Dense(10, activation='softmax')(hidden_layer1)\n",
    "model= Model(inputs=input_layer, outputs=output_layer)"
   ]
  },
  {
   "cell_type": "code",
   "execution_count": 94,
   "metadata": {},
   "outputs": [
    {
     "name": "stdout",
     "output_type": "stream",
     "text": [
      "Model: \"model_9\"\n",
      "_________________________________________________________________\n",
      "Layer (type)                 Output Shape              Param #   \n",
      "=================================================================\n",
      "input_10 (InputLayer)        [(None, 3072)]            0         \n",
      "_________________________________________________________________\n",
      "dense_24 (Dense)             (None, 512)               1573376   \n",
      "_________________________________________________________________\n",
      "dense_25 (Dense)             (None, 256)               131328    \n",
      "_________________________________________________________________\n",
      "dense_26 (Dense)             (None, 10)                2570      \n",
      "=================================================================\n",
      "Total params: 1,707,274\n",
      "Trainable params: 1,707,274\n",
      "Non-trainable params: 0\n",
      "_________________________________________________________________\n"
     ]
    }
   ],
   "source": [
    "model.summary()"
   ]
  },
  {
   "cell_type": "code",
   "execution_count": 95,
   "metadata": {},
   "outputs": [],
   "source": [
    "# Compile the model\n",
    "model.compile(loss='categorical_crossentropy', optimizer='adam', \n",
    "              metrics=['accuracy'])"
   ]
  },
  {
   "cell_type": "code",
   "execution_count": 96,
   "metadata": {
    "scrolled": true
   },
   "outputs": [
    {
     "name": "stdout",
     "output_type": "stream",
     "text": [
      "Epoch 1/20\n",
      "391/391 [==============================] - 3s 7ms/step - loss: 2.1104 - accuracy: 0.2616 - val_loss: 1.6997 - val_accuracy: 0.3916\n",
      "Epoch 2/20\n",
      "391/391 [==============================] - 2s 6ms/step - loss: 1.7074 - accuracy: 0.3866 - val_loss: 1.6034 - val_accuracy: 0.4346\n",
      "Epoch 3/20\n",
      "391/391 [==============================] - 2s 6ms/step - loss: 1.6054 - accuracy: 0.4275 - val_loss: 1.5270 - val_accuracy: 0.4608\n",
      "Epoch 4/20\n",
      "391/391 [==============================] - 2s 6ms/step - loss: 1.5340 - accuracy: 0.4517 - val_loss: 1.5198 - val_accuracy: 0.4688\n",
      "Epoch 5/20\n",
      "391/391 [==============================] - 2s 6ms/step - loss: 1.5000 - accuracy: 0.4668 - val_loss: 1.5363 - val_accuracy: 0.4474\n",
      "Epoch 6/20\n",
      "391/391 [==============================] - 2s 6ms/step - loss: 1.4581 - accuracy: 0.4820 - val_loss: 1.5033 - val_accuracy: 0.4624\n",
      "Epoch 7/20\n",
      "391/391 [==============================] - 2s 5ms/step - loss: 1.4395 - accuracy: 0.4838 - val_loss: 1.4827 - val_accuracy: 0.4738\n",
      "Epoch 8/20\n",
      "391/391 [==============================] - 2s 5ms/step - loss: 1.4024 - accuracy: 0.5004 - val_loss: 1.4318 - val_accuracy: 0.4928\n",
      "Epoch 9/20\n",
      "391/391 [==============================] - 2s 5ms/step - loss: 1.3845 - accuracy: 0.5043 - val_loss: 1.4426 - val_accuracy: 0.4906\n",
      "Epoch 10/20\n",
      "391/391 [==============================] - 2s 6ms/step - loss: 1.3532 - accuracy: 0.5153 - val_loss: 1.4100 - val_accuracy: 0.5072\n",
      "Epoch 11/20\n",
      "391/391 [==============================] - 2s 5ms/step - loss: 1.3246 - accuracy: 0.5282 - val_loss: 1.3759 - val_accuracy: 0.5166\n",
      "Epoch 12/20\n",
      "391/391 [==============================] - 2s 5ms/step - loss: 1.2958 - accuracy: 0.5393 - val_loss: 1.3553 - val_accuracy: 0.5214\n",
      "Epoch 13/20\n",
      "391/391 [==============================] - 2s 5ms/step - loss: 1.2765 - accuracy: 0.5476 - val_loss: 1.4110 - val_accuracy: 0.5028\n",
      "Epoch 14/20\n",
      "391/391 [==============================] - 2s 5ms/step - loss: 1.2665 - accuracy: 0.5498 - val_loss: 1.4168 - val_accuracy: 0.4976\n",
      "Epoch 15/20\n",
      "391/391 [==============================] - 2s 5ms/step - loss: 1.2550 - accuracy: 0.5567 - val_loss: 1.3713 - val_accuracy: 0.5254\n",
      "Epoch 16/20\n",
      "391/391 [==============================] - 2s 5ms/step - loss: 1.2294 - accuracy: 0.5615 - val_loss: 1.4048 - val_accuracy: 0.5130\n",
      "Epoch 17/20\n",
      "391/391 [==============================] - 2s 5ms/step - loss: 1.2063 - accuracy: 0.5687 - val_loss: 1.3484 - val_accuracy: 0.5354\n",
      "Epoch 18/20\n",
      "391/391 [==============================] - 2s 5ms/step - loss: 1.2011 - accuracy: 0.5718 - val_loss: 1.3517 - val_accuracy: 0.5244\n",
      "Epoch 19/20\n",
      "391/391 [==============================] - 2s 6ms/step - loss: 1.1706 - accuracy: 0.5816 - val_loss: 1.3774 - val_accuracy: 0.5194\n",
      "Epoch 20/20\n",
      "391/391 [==============================] - 2s 6ms/step - loss: 1.1617 - accuracy: 0.5886 - val_loss: 1.3856 - val_accuracy: 0.5178\n"
     ]
    }
   ],
   "source": [
    "history = model.fit(X_train_fl, y_train_oh, epochs=20, batch_size=128,\n",
    "                    validation_data=(X_val, y_val))"
   ]
  },
  {
   "cell_type": "code",
   "execution_count": 97,
   "metadata": {
    "collapsed": true
   },
   "outputs": [
    {
     "data": {
      "image/png": "[encoded data removed]",
      "text/plain": [
       "<Figure size 720x720 with 1 Axes>"
      ]
     },
     "metadata": {
      "needs_background": "light"
     },
     "output_type": "display_data"
    }
   ],
   "source": [
    "# Plot training and validation accuracy\n",
    "plt.plot(history.history['accuracy'])\n",
    "plt.plot(history.history['val_accuracy'])\n",
    "plt.title('Model accuracy')\n",
    "plt.ylabel('Accuracy')\n",
    "plt.xlabel('Epoch')\n",
    "plt.legend(['Train', 'Val'], loc='upper left')\n",
    "# plt.ylim(0, 1)\n",
    "plt.show()"
   ]
  },
  {
   "cell_type": "code",
   "execution_count": 98,
   "metadata": {},
   "outputs": [
    {
     "name": "stdout",
     "output_type": "stream",
     "text": [
      "Test score: 1.388174057006836\n",
      "Test accuracy: 0.5095999836921692\n"
     ]
    }
   ],
   "source": [
    "# Obtain metrics in the test partition\n",
    "score = model.evaluate(X_test, y_test, verbose=0)\n",
    "print('Test score:', score[0])\n",
    "print('Test accuracy:', score[1])"
   ]
  },
  {
   "cell_type": "code",
   "execution_count": null,
   "metadata": {},
   "outputs": [],
   "source": []
  }
 ],
 "metadata": {
  "accelerator": "GPU",
  "colab": {
   "authorship_tag": "ABX9TyMEYpd10O35AG6Cxg9DVm3u",
   "collapsed_sections": [],
   "name": "Workshop 2.ipynb",
   "provenance": [],
   "toc_visible": true
  },
  "kernelspec": {
   "display_name": "Python 3",
   "language": "python",
   "name": "python3"
  },
  "language_info": {
   "codemirror_mode": {
    "name": "ipython",
    "version": 3
   },
   "file_extension": ".py",
   "mimetype": "text/x-python",
   "name": "python",
   "nbconvert_exporter": "python",
   "pygments_lexer": "ipython3",
   "version": "3.8.8"
  }
 },
 "nbformat": 4,
 "nbformat_minor": 1
}
