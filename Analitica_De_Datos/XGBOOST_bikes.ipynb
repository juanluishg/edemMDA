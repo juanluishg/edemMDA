{
 "cells": [
  {
   "cell_type": "code",
   "execution_count": 3,
   "metadata": {},
   "outputs": [
    {
     "name": "stdout",
     "output_type": "stream",
     "text": [
      "Collecting gdown\n",
      "  Downloading gdown-3.12.2.tar.gz (8.2 kB)\n",
      "  Installing build dependencies: started\n",
      "  Installing build dependencies: finished with status 'done'\n",
      "  Getting requirements to build wheel: started\n",
      "  Getting requirements to build wheel: finished with status 'done'\n",
      "    Preparing wheel metadata: started\n",
      "    Preparing wheel metadata: finished with status 'done'\n",
      "Collecting filelock\n",
      "  Downloading filelock-3.0.12-py3-none-any.whl (7.6 kB)\n",
      "Requirement already satisfied: tqdm in c:\\users\\juanl\\appdata\\local\\programs\\python\\python38\\lib\\site-packages (from gdown) (4.58.0)\n",
      "Requirement already satisfied: six in c:\\users\\juanl\\appdata\\local\\programs\\python\\python38\\lib\\site-packages (from gdown) (1.15.0)\n",
      "Requirement already satisfied: requests[socks] in c:\\users\\juanl\\appdata\\local\\programs\\python\\python38\\lib\\site-packages (from gdown) (2.25.1)\n",
      "Requirement already satisfied: certifi>=2017.4.17 in c:\\users\\juanl\\appdata\\local\\programs\\python\\python38\\lib\\site-packages (from requests[socks]->gdown) (2020.12.5)\n",
      "Requirement already satisfied: urllib3<1.27,>=1.21.1 in c:\\users\\juanl\\appdata\\local\\programs\\python\\python38\\lib\\site-packages (from requests[socks]->gdown) (1.26.3)\n",
      "Requirement already satisfied: idna<3,>=2.5 in c:\\users\\juanl\\appdata\\local\\programs\\python\\python38\\lib\\site-packages (from requests[socks]->gdown) (2.10)\n",
      "Requirement already satisfied: chardet<5,>=3.0.2 in c:\\users\\juanl\\appdata\\local\\programs\\python\\python38\\lib\\site-packages (from requests[socks]->gdown) (4.0.0)\n",
      "Collecting PySocks!=1.5.7,>=1.5.6\n",
      "  Downloading PySocks-1.7.1-py3-none-any.whl (16 kB)\n",
      "Building wheels for collected packages: gdown\n",
      "  Building wheel for gdown (PEP 517): started\n",
      "  Building wheel for gdown (PEP 517): finished with status 'done'\n",
      "  Created wheel for gdown: filename=gdown-3.12.2-py3-none-any.whl size=9681 sha256=cf96e7aa6f1cbdbf272596df8faa5364be423531e8ce1ca9137452056c96f752\n",
      "  Stored in directory: c:\\users\\juanl\\appdata\\local\\pip\\cache\\wheels\\e2\\62\\1e\\926d1ebe7b1e733c78d627fd288d01b83feaf67efc06e0e4c3\n",
      "Successfully built gdown\n",
      "Installing collected packages: PySocks, filelock, gdown\n",
      "Successfully installed PySocks-1.7.1 filelock-3.0.12 gdown-3.12.2\n"
     ]
    }
   ],
   "source": [
    "!pip install gdown"
   ]
  },
  {
   "cell_type": "code",
   "execution_count": 4,
   "metadata": {
    "id": "zaVoUCrDUYDo"
   },
   "outputs": [],
   "source": [
    "import gdown\n",
    "import matplotlib as mpl\n",
    "import matplotlib.pyplot as plt\n",
    "import numpy as np\n",
    "import pandas as pd\n",
    "import xgboost as xgb\n",
    "from xgboost import plot_importance, plot_tree\n",
    "from sklearn.metrics import mean_squared_error, mean_absolute_error"
   ]
  },
  {
   "cell_type": "code",
   "execution_count": 10,
   "metadata": {
    "colab": {
     "base_uri": "https://localhost:8080/"
    },
    "executionInfo": {
     "elapsed": 2273,
     "status": "ok",
     "timestamp": 1614185180235,
     "user": {
      "displayName": "Jose Peris",
      "photoUrl": "https://lh3.googleusercontent.com/a-/AOh14GgNz63esUsHANBy-xHjue1oA--uyERyvJ5ums0jqjY=s64",
      "userId": "07733325798784406199"
     },
     "user_tz": -60
    },
    "id": "Zr-jIcLkVdHN",
    "outputId": "b1e642da-f4af-498e-95c4-930d2eccef3a"
   },
   "outputs": [
    {
     "name": "stderr",
     "output_type": "stream",
     "text": [
      "Downloading...\n",
      "From: https://drive.google.com/file/d1nPw071R3tZi4zqVcmXA6kXVTe43Ex6K3\n",
      "To: D:\\master\\edemMDA\\Analitica_De_Datos\\datasets\\london_bike_sharing.csv\n",
      "2.96kB [00:00, 2.96MB/s]\n"
     ]
    },
    {
     "data": {
      "text/plain": [
       "'datasets/london_bike_sharing.csv'"
      ]
     },
     "execution_count": 10,
     "metadata": {},
     "output_type": "execute_result"
    }
   ],
   "source": [
    "gdown.download('https://drive.google.com/file/d1nPw071R3tZi4zqVcmXA6kXVTe43Ex6K3', 'datasets/london_bike_sharing.csv')"
   ]
  },
  {
   "cell_type": "code",
   "execution_count": 11,
   "metadata": {
    "colab": {
     "base_uri": "https://localhost:8080/"
    },
    "executionInfo": {
     "elapsed": 531,
     "status": "ok",
     "timestamp": 1614185192115,
     "user": {
      "displayName": "Jose Peris",
      "photoUrl": "https://lh3.googleusercontent.com/a-/AOh14GgNz63esUsHANBy-xHjue1oA--uyERyvJ5ums0jqjY=s64",
      "userId": "07733325798784406199"
     },
     "user_tz": -60
    },
    "id": "O1y0C0blViFb",
    "outputId": "bdd08646-b526-4175-d588-b5789ab8fbfb"
   },
   "outputs": [
    {
     "data": {
      "text/plain": [
       "(17414, 9)"
      ]
     },
     "execution_count": 11,
     "metadata": {},
     "output_type": "execute_result"
    }
   ],
   "source": [
    "df = pd.read_csv('datasets/london_bike_sharing_2.csv',\n",
    "                parse_dates=['timestamp'],\n",
    "                index_col='timestamp')\n",
    "df.shape"
   ]
  },
  {
   "cell_type": "code",
   "execution_count": 12,
   "metadata": {
    "colab": {
     "base_uri": "https://localhost:8080/",
     "height": 235
    },
    "executionInfo": {
     "elapsed": 527,
     "status": "ok",
     "timestamp": 1614185204311,
     "user": {
      "displayName": "Jose Peris",
      "photoUrl": "https://lh3.googleusercontent.com/a-/AOh14GgNz63esUsHANBy-xHjue1oA--uyERyvJ5ums0jqjY=s64",
      "userId": "07733325798784406199"
     },
     "user_tz": -60
    },
    "id": "TpXX8jf9VypA",
    "outputId": "145d5511-cc81-45e8-b9a4-11c8bbfc7674"
   },
   "outputs": [
    {
     "data": {
      "text/html": [
       "<div>\n",
       "<style scoped>\n",
       "    .dataframe tbody tr th:only-of-type {\n",
       "        vertical-align: middle;\n",
       "    }\n",
       "\n",
       "    .dataframe tbody tr th {\n",
       "        vertical-align: top;\n",
       "    }\n",
       "\n",
       "    .dataframe thead th {\n",
       "        text-align: right;\n",
       "    }\n",
       "</style>\n",
       "<table border=\"1\" class=\"dataframe\">\n",
       "  <thead>\n",
       "    <tr style=\"text-align: right;\">\n",
       "      <th></th>\n",
       "      <th>cnt</th>\n",
       "      <th>t1</th>\n",
       "      <th>t2</th>\n",
       "      <th>hum</th>\n",
       "      <th>wind_speed</th>\n",
       "      <th>weather_code</th>\n",
       "      <th>is_holiday</th>\n",
       "      <th>is_weekend</th>\n",
       "      <th>season</th>\n",
       "    </tr>\n",
       "    <tr>\n",
       "      <th>timestamp</th>\n",
       "      <th></th>\n",
       "      <th></th>\n",
       "      <th></th>\n",
       "      <th></th>\n",
       "      <th></th>\n",
       "      <th></th>\n",
       "      <th></th>\n",
       "      <th></th>\n",
       "      <th></th>\n",
       "    </tr>\n",
       "  </thead>\n",
       "  <tbody>\n",
       "    <tr>\n",
       "      <th>2015-01-04 00:00:00</th>\n",
       "      <td>182</td>\n",
       "      <td>3.0</td>\n",
       "      <td>2.0</td>\n",
       "      <td>93.0</td>\n",
       "      <td>6.0</td>\n",
       "      <td>3.0</td>\n",
       "      <td>0.0</td>\n",
       "      <td>1.0</td>\n",
       "      <td>3.0</td>\n",
       "    </tr>\n",
       "    <tr>\n",
       "      <th>2015-01-04 01:00:00</th>\n",
       "      <td>138</td>\n",
       "      <td>3.0</td>\n",
       "      <td>2.5</td>\n",
       "      <td>93.0</td>\n",
       "      <td>5.0</td>\n",
       "      <td>1.0</td>\n",
       "      <td>0.0</td>\n",
       "      <td>1.0</td>\n",
       "      <td>3.0</td>\n",
       "    </tr>\n",
       "    <tr>\n",
       "      <th>2015-01-04 02:00:00</th>\n",
       "      <td>134</td>\n",
       "      <td>2.5</td>\n",
       "      <td>2.5</td>\n",
       "      <td>96.5</td>\n",
       "      <td>0.0</td>\n",
       "      <td>1.0</td>\n",
       "      <td>0.0</td>\n",
       "      <td>1.0</td>\n",
       "      <td>3.0</td>\n",
       "    </tr>\n",
       "    <tr>\n",
       "      <th>2015-01-04 03:00:00</th>\n",
       "      <td>72</td>\n",
       "      <td>2.0</td>\n",
       "      <td>2.0</td>\n",
       "      <td>100.0</td>\n",
       "      <td>0.0</td>\n",
       "      <td>1.0</td>\n",
       "      <td>0.0</td>\n",
       "      <td>1.0</td>\n",
       "      <td>3.0</td>\n",
       "    </tr>\n",
       "    <tr>\n",
       "      <th>2015-01-04 04:00:00</th>\n",
       "      <td>47</td>\n",
       "      <td>2.0</td>\n",
       "      <td>0.0</td>\n",
       "      <td>93.0</td>\n",
       "      <td>6.5</td>\n",
       "      <td>1.0</td>\n",
       "      <td>0.0</td>\n",
       "      <td>1.0</td>\n",
       "      <td>3.0</td>\n",
       "    </tr>\n",
       "  </tbody>\n",
       "</table>\n",
       "</div>"
      ],
      "text/plain": [
       "                     cnt   t1   t2    hum  wind_speed  weather_code  \\\n",
       "timestamp                                                             \n",
       "2015-01-04 00:00:00  182  3.0  2.0   93.0         6.0           3.0   \n",
       "2015-01-04 01:00:00  138  3.0  2.5   93.0         5.0           1.0   \n",
       "2015-01-04 02:00:00  134  2.5  2.5   96.5         0.0           1.0   \n",
       "2015-01-04 03:00:00   72  2.0  2.0  100.0         0.0           1.0   \n",
       "2015-01-04 04:00:00   47  2.0  0.0   93.0         6.5           1.0   \n",
       "\n",
       "                     is_holiday  is_weekend  season  \n",
       "timestamp                                            \n",
       "2015-01-04 00:00:00         0.0         1.0     3.0  \n",
       "2015-01-04 01:00:00         0.0         1.0     3.0  \n",
       "2015-01-04 02:00:00         0.0         1.0     3.0  \n",
       "2015-01-04 03:00:00         0.0         1.0     3.0  \n",
       "2015-01-04 04:00:00         0.0         1.0     3.0  "
      ]
     },
     "execution_count": 12,
     "metadata": {},
     "output_type": "execute_result"
    }
   ],
   "source": [
    "df.head()"
   ]
  },
  {
   "cell_type": "code",
   "execution_count": 13,
   "metadata": {
    "colab": {
     "base_uri": "https://localhost:8080/"
    },
    "executionInfo": {
     "elapsed": 524,
     "status": "ok",
     "timestamp": 1614185208100,
     "user": {
      "displayName": "Jose Peris",
      "photoUrl": "https://lh3.googleusercontent.com/a-/AOh14GgNz63esUsHANBy-xHjue1oA--uyERyvJ5ums0jqjY=s64",
      "userId": "07733325798784406199"
     },
     "user_tz": -60
    },
    "id": "CUszzE73gMMj",
    "outputId": "a4578583-bd02-480f-8b5b-0f4c481e5bba"
   },
   "outputs": [
    {
     "data": {
      "text/plain": [
       "cnt               int64\n",
       "t1              float64\n",
       "t2              float64\n",
       "hum             float64\n",
       "wind_speed      float64\n",
       "weather_code    float64\n",
       "is_holiday      float64\n",
       "is_weekend      float64\n",
       "season          float64\n",
       "dtype: object"
      ]
     },
     "execution_count": 13,
     "metadata": {},
     "output_type": "execute_result"
    }
   ],
   "source": [
    "df.dtypes"
   ]
  },
  {
   "cell_type": "code",
   "execution_count": 14,
   "metadata": {
    "id": "fDdVeZ-AWy5P"
   },
   "outputs": [],
   "source": [
    "# Create new features from the time field\n",
    "def create_features(df, label=None):\n",
    "    \"\"\"\n",
    "    Creates time series features from datetime index\n",
    "    \"\"\"\n",
    "    df['timestamp'] = df.index\n",
    "    df['hour'] = df['timestamp'].dt.hour\n",
    "    df['dayofweek'] = df['timestamp'].dt.dayofweek\n",
    "    df['month'] = df['timestamp'].dt.month\n",
    "    df['year'] = df['timestamp'].dt.year\n",
    "    df['dayofyear'] = df['timestamp'].dt.dayofyear\n",
    "    df['dayofmonth'] = df['timestamp'].dt.day\n",
    "    df['weekofyear'] = df['timestamp'].dt.weekofyear\n",
    "    \n",
    "    X = df[['t1',\t'is_holiday',\t'is_weekend',\t'season','hour','dayofweek','month','year',\n",
    "           'dayofyear','dayofmonth','weekofyear']]\n",
    "    if label:\n",
    "        y = df[label]\n",
    "        return X, y\n",
    "    return X"
   ]
  },
  {
   "cell_type": "code",
   "execution_count": 15,
   "metadata": {
    "colab": {
     "base_uri": "https://localhost:8080/"
    },
    "executionInfo": {
     "elapsed": 2005,
     "status": "ok",
     "timestamp": 1614185297152,
     "user": {
      "displayName": "Jose Peris",
      "photoUrl": "https://lh3.googleusercontent.com/a-/AOh14GgNz63esUsHANBy-xHjue1oA--uyERyvJ5ums0jqjY=s64",
      "userId": "07733325798784406199"
     },
     "user_tz": -60
    },
    "id": "J_YuB0kehT8p",
    "outputId": "2e2a3b62-ca00-4842-f196-cba42c6f4eaa"
   },
   "outputs": [
    {
     "name": "stdout",
     "output_type": "stream",
     "text": [
      "                      cnt   t1   t2    hum  wind_speed  weather_code  \\\n",
      "timestamp                                                              \n",
      "2015-01-04 00:00:00   182  3.0  2.0   93.0         6.0           3.0   \n",
      "2015-01-04 01:00:00   138  3.0  2.5   93.0         5.0           1.0   \n",
      "2015-01-04 02:00:00   134  2.5  2.5   96.5         0.0           1.0   \n",
      "2015-01-04 03:00:00    72  2.0  2.0  100.0         0.0           1.0   \n",
      "2015-01-04 04:00:00    47  2.0  0.0   93.0         6.5           1.0   \n",
      "...                   ...  ...  ...    ...         ...           ...   \n",
      "2017-01-03 19:00:00  1042  5.0  1.0   81.0        19.0           3.0   \n",
      "2017-01-03 20:00:00   541  5.0  1.0   81.0        21.0           4.0   \n",
      "2017-01-03 21:00:00   337  5.5  1.5   78.5        24.0           4.0   \n",
      "2017-01-03 22:00:00   224  5.5  1.5   76.0        23.0           4.0   \n",
      "2017-01-03 23:00:00   139  5.0  1.0   76.0        22.0           2.0   \n",
      "\n",
      "                     is_holiday  is_weekend  season  \n",
      "timestamp                                            \n",
      "2015-01-04 00:00:00         0.0         1.0     3.0  \n",
      "2015-01-04 01:00:00         0.0         1.0     3.0  \n",
      "2015-01-04 02:00:00         0.0         1.0     3.0  \n",
      "2015-01-04 03:00:00         0.0         1.0     3.0  \n",
      "2015-01-04 04:00:00         0.0         1.0     3.0  \n",
      "...                         ...         ...     ...  \n",
      "2017-01-03 19:00:00         0.0         0.0     3.0  \n",
      "2017-01-03 20:00:00         0.0         0.0     3.0  \n",
      "2017-01-03 21:00:00         0.0         0.0     3.0  \n",
      "2017-01-03 22:00:00         0.0         0.0     3.0  \n",
      "2017-01-03 23:00:00         0.0         0.0     3.0  \n",
      "\n",
      "[17414 rows x 9 columns]\n"
     ]
    }
   ],
   "source": [
    "print(df)"
   ]
  },
  {
   "cell_type": "code",
   "execution_count": 16,
   "metadata": {
    "colab": {
     "base_uri": "https://localhost:8080/",
     "height": 235
    },
    "executionInfo": {
     "elapsed": 1550,
     "status": "ok",
     "timestamp": 1614185303297,
     "user": {
      "displayName": "Jose Peris",
      "photoUrl": "https://lh3.googleusercontent.com/a-/AOh14GgNz63esUsHANBy-xHjue1oA--uyERyvJ5ums0jqjY=s64",
      "userId": "07733325798784406199"
     },
     "user_tz": -60
    },
    "id": "hxrMHaUDhcVg",
    "outputId": "fcb3b291-ee9f-4b54-9d25-d0d97d1a4c93"
   },
   "outputs": [
    {
     "data": {
      "text/html": [
       "<div>\n",
       "<style scoped>\n",
       "    .dataframe tbody tr th:only-of-type {\n",
       "        vertical-align: middle;\n",
       "    }\n",
       "\n",
       "    .dataframe tbody tr th {\n",
       "        vertical-align: top;\n",
       "    }\n",
       "\n",
       "    .dataframe thead th {\n",
       "        text-align: right;\n",
       "    }\n",
       "</style>\n",
       "<table border=\"1\" class=\"dataframe\">\n",
       "  <thead>\n",
       "    <tr style=\"text-align: right;\">\n",
       "      <th></th>\n",
       "      <th>cnt</th>\n",
       "      <th>t1</th>\n",
       "      <th>t2</th>\n",
       "      <th>hum</th>\n",
       "      <th>wind_speed</th>\n",
       "      <th>weather_code</th>\n",
       "      <th>is_holiday</th>\n",
       "      <th>is_weekend</th>\n",
       "      <th>season</th>\n",
       "    </tr>\n",
       "    <tr>\n",
       "      <th>timestamp</th>\n",
       "      <th></th>\n",
       "      <th></th>\n",
       "      <th></th>\n",
       "      <th></th>\n",
       "      <th></th>\n",
       "      <th></th>\n",
       "      <th></th>\n",
       "      <th></th>\n",
       "      <th></th>\n",
       "    </tr>\n",
       "  </thead>\n",
       "  <tbody>\n",
       "    <tr>\n",
       "      <th>2015-01-04 00:00:00</th>\n",
       "      <td>182</td>\n",
       "      <td>3.0</td>\n",
       "      <td>2.0</td>\n",
       "      <td>93.0</td>\n",
       "      <td>6.0</td>\n",
       "      <td>3.0</td>\n",
       "      <td>0.0</td>\n",
       "      <td>1.0</td>\n",
       "      <td>3.0</td>\n",
       "    </tr>\n",
       "    <tr>\n",
       "      <th>2015-01-04 01:00:00</th>\n",
       "      <td>138</td>\n",
       "      <td>3.0</td>\n",
       "      <td>2.5</td>\n",
       "      <td>93.0</td>\n",
       "      <td>5.0</td>\n",
       "      <td>1.0</td>\n",
       "      <td>0.0</td>\n",
       "      <td>1.0</td>\n",
       "      <td>3.0</td>\n",
       "    </tr>\n",
       "    <tr>\n",
       "      <th>2015-01-04 02:00:00</th>\n",
       "      <td>134</td>\n",
       "      <td>2.5</td>\n",
       "      <td>2.5</td>\n",
       "      <td>96.5</td>\n",
       "      <td>0.0</td>\n",
       "      <td>1.0</td>\n",
       "      <td>0.0</td>\n",
       "      <td>1.0</td>\n",
       "      <td>3.0</td>\n",
       "    </tr>\n",
       "    <tr>\n",
       "      <th>2015-01-04 03:00:00</th>\n",
       "      <td>72</td>\n",
       "      <td>2.0</td>\n",
       "      <td>2.0</td>\n",
       "      <td>100.0</td>\n",
       "      <td>0.0</td>\n",
       "      <td>1.0</td>\n",
       "      <td>0.0</td>\n",
       "      <td>1.0</td>\n",
       "      <td>3.0</td>\n",
       "    </tr>\n",
       "    <tr>\n",
       "      <th>2015-01-04 04:00:00</th>\n",
       "      <td>47</td>\n",
       "      <td>2.0</td>\n",
       "      <td>0.0</td>\n",
       "      <td>93.0</td>\n",
       "      <td>6.5</td>\n",
       "      <td>1.0</td>\n",
       "      <td>0.0</td>\n",
       "      <td>1.0</td>\n",
       "      <td>3.0</td>\n",
       "    </tr>\n",
       "  </tbody>\n",
       "</table>\n",
       "</div>"
      ],
      "text/plain": [
       "                     cnt   t1   t2    hum  wind_speed  weather_code  \\\n",
       "timestamp                                                             \n",
       "2015-01-04 00:00:00  182  3.0  2.0   93.0         6.0           3.0   \n",
       "2015-01-04 01:00:00  138  3.0  2.5   93.0         5.0           1.0   \n",
       "2015-01-04 02:00:00  134  2.5  2.5   96.5         0.0           1.0   \n",
       "2015-01-04 03:00:00   72  2.0  2.0  100.0         0.0           1.0   \n",
       "2015-01-04 04:00:00   47  2.0  0.0   93.0         6.5           1.0   \n",
       "\n",
       "                     is_holiday  is_weekend  season  \n",
       "timestamp                                            \n",
       "2015-01-04 00:00:00         0.0         1.0     3.0  \n",
       "2015-01-04 01:00:00         0.0         1.0     3.0  \n",
       "2015-01-04 02:00:00         0.0         1.0     3.0  \n",
       "2015-01-04 03:00:00         0.0         1.0     3.0  \n",
       "2015-01-04 04:00:00         0.0         1.0     3.0  "
      ]
     },
     "execution_count": 16,
     "metadata": {},
     "output_type": "execute_result"
    }
   ],
   "source": [
    "df.head()"
   ]
  },
  {
   "cell_type": "code",
   "execution_count": 17,
   "metadata": {
    "colab": {
     "base_uri": "https://localhost:8080/",
     "height": 235
    },
    "executionInfo": {
     "elapsed": 1744,
     "status": "ok",
     "timestamp": 1614185329406,
     "user": {
      "displayName": "Jose Peris",
      "photoUrl": "https://lh3.googleusercontent.com/a-/AOh14GgNz63esUsHANBy-xHjue1oA--uyERyvJ5ums0jqjY=s64",
      "userId": "07733325798784406199"
     },
     "user_tz": -60
    },
    "id": "j0o0MwsmW8z5",
    "outputId": "f160a556-1440-4b38-dee5-fda8a528309d"
   },
   "outputs": [
    {
     "data": {
      "text/html": [
       "<div>\n",
       "<style scoped>\n",
       "    .dataframe tbody tr th:only-of-type {\n",
       "        vertical-align: middle;\n",
       "    }\n",
       "\n",
       "    .dataframe tbody tr th {\n",
       "        vertical-align: top;\n",
       "    }\n",
       "\n",
       "    .dataframe thead th {\n",
       "        text-align: right;\n",
       "    }\n",
       "</style>\n",
       "<table border=\"1\" class=\"dataframe\">\n",
       "  <thead>\n",
       "    <tr style=\"text-align: right;\">\n",
       "      <th></th>\n",
       "      <th>cnt</th>\n",
       "      <th>t1</th>\n",
       "      <th>is_holiday</th>\n",
       "      <th>is_weekend</th>\n",
       "      <th>season</th>\n",
       "    </tr>\n",
       "    <tr>\n",
       "      <th>timestamp</th>\n",
       "      <th></th>\n",
       "      <th></th>\n",
       "      <th></th>\n",
       "      <th></th>\n",
       "      <th></th>\n",
       "    </tr>\n",
       "  </thead>\n",
       "  <tbody>\n",
       "    <tr>\n",
       "      <th>2015-01-04 00:00:00</th>\n",
       "      <td>182</td>\n",
       "      <td>3.0</td>\n",
       "      <td>0.0</td>\n",
       "      <td>1.0</td>\n",
       "      <td>3.0</td>\n",
       "    </tr>\n",
       "    <tr>\n",
       "      <th>2015-01-04 01:00:00</th>\n",
       "      <td>138</td>\n",
       "      <td>3.0</td>\n",
       "      <td>0.0</td>\n",
       "      <td>1.0</td>\n",
       "      <td>3.0</td>\n",
       "    </tr>\n",
       "    <tr>\n",
       "      <th>2015-01-04 02:00:00</th>\n",
       "      <td>134</td>\n",
       "      <td>2.5</td>\n",
       "      <td>0.0</td>\n",
       "      <td>1.0</td>\n",
       "      <td>3.0</td>\n",
       "    </tr>\n",
       "    <tr>\n",
       "      <th>2015-01-04 03:00:00</th>\n",
       "      <td>72</td>\n",
       "      <td>2.0</td>\n",
       "      <td>0.0</td>\n",
       "      <td>1.0</td>\n",
       "      <td>3.0</td>\n",
       "    </tr>\n",
       "    <tr>\n",
       "      <th>2015-01-04 04:00:00</th>\n",
       "      <td>47</td>\n",
       "      <td>2.0</td>\n",
       "      <td>0.0</td>\n",
       "      <td>1.0</td>\n",
       "      <td>3.0</td>\n",
       "    </tr>\n",
       "  </tbody>\n",
       "</table>\n",
       "</div>"
      ],
      "text/plain": [
       "                     cnt   t1  is_holiday  is_weekend  season\n",
       "timestamp                                                    \n",
       "2015-01-04 00:00:00  182  3.0         0.0         1.0     3.0\n",
       "2015-01-04 01:00:00  138  3.0         0.0         1.0     3.0\n",
       "2015-01-04 02:00:00  134  2.5         0.0         1.0     3.0\n",
       "2015-01-04 03:00:00   72  2.0         0.0         1.0     3.0\n",
       "2015-01-04 04:00:00   47  2.0         0.0         1.0     3.0"
      ]
     },
     "execution_count": 17,
     "metadata": {},
     "output_type": "execute_result"
    }
   ],
   "source": [
    "TRAIN_SPLIT=14000\n",
    "multi_data = df[['cnt','t1','is_holiday','is_weekend','season']]\n",
    "multi_data.head()"
   ]
  },
  {
   "cell_type": "code",
   "execution_count": 18,
   "metadata": {
    "colab": {
     "base_uri": "https://localhost:8080/"
    },
    "executionInfo": {
     "elapsed": 947,
     "status": "ok",
     "timestamp": 1614185394406,
     "user": {
      "displayName": "Jose Peris",
      "photoUrl": "https://lh3.googleusercontent.com/a-/AOh14GgNz63esUsHANBy-xHjue1oA--uyERyvJ5ums0jqjY=s64",
      "userId": "07733325798784406199"
     },
     "user_tz": -60
    },
    "id": "zMvEFLcKXX_u",
    "outputId": "779d6ed5-43b9-4a1b-c9fc-e64b6b609c41"
   },
   "outputs": [
    {
     "name": "stderr",
     "output_type": "stream",
     "text": [
      "<ipython-input-14-15563569986c>:6: SettingWithCopyWarning: \n",
      "A value is trying to be set on a copy of a slice from a DataFrame.\n",
      "Try using .loc[row_indexer,col_indexer] = value instead\n",
      "\n",
      "See the caveats in the documentation: https://pandas.pydata.org/pandas-docs/stable/user_guide/indexing.html#returning-a-view-versus-a-copy\n",
      "  df['timestamp'] = df.index\n",
      "<ipython-input-14-15563569986c>:7: SettingWithCopyWarning: \n",
      "A value is trying to be set on a copy of a slice from a DataFrame.\n",
      "Try using .loc[row_indexer,col_indexer] = value instead\n",
      "\n",
      "See the caveats in the documentation: https://pandas.pydata.org/pandas-docs/stable/user_guide/indexing.html#returning-a-view-versus-a-copy\n",
      "  df['hour'] = df['timestamp'].dt.hour\n",
      "<ipython-input-14-15563569986c>:8: SettingWithCopyWarning: \n",
      "A value is trying to be set on a copy of a slice from a DataFrame.\n",
      "Try using .loc[row_indexer,col_indexer] = value instead\n",
      "\n",
      "See the caveats in the documentation: https://pandas.pydata.org/pandas-docs/stable/user_guide/indexing.html#returning-a-view-versus-a-copy\n",
      "  df['dayofweek'] = df['timestamp'].dt.dayofweek\n",
      "<ipython-input-14-15563569986c>:9: SettingWithCopyWarning: \n",
      "A value is trying to be set on a copy of a slice from a DataFrame.\n",
      "Try using .loc[row_indexer,col_indexer] = value instead\n",
      "\n",
      "See the caveats in the documentation: https://pandas.pydata.org/pandas-docs/stable/user_guide/indexing.html#returning-a-view-versus-a-copy\n",
      "  df['month'] = df['timestamp'].dt.month\n",
      "<ipython-input-14-15563569986c>:10: SettingWithCopyWarning: \n",
      "A value is trying to be set on a copy of a slice from a DataFrame.\n",
      "Try using .loc[row_indexer,col_indexer] = value instead\n",
      "\n",
      "See the caveats in the documentation: https://pandas.pydata.org/pandas-docs/stable/user_guide/indexing.html#returning-a-view-versus-a-copy\n",
      "  df['year'] = df['timestamp'].dt.year\n",
      "<ipython-input-14-15563569986c>:11: SettingWithCopyWarning: \n",
      "A value is trying to be set on a copy of a slice from a DataFrame.\n",
      "Try using .loc[row_indexer,col_indexer] = value instead\n",
      "\n",
      "See the caveats in the documentation: https://pandas.pydata.org/pandas-docs/stable/user_guide/indexing.html#returning-a-view-versus-a-copy\n",
      "  df['dayofyear'] = df['timestamp'].dt.dayofyear\n",
      "<ipython-input-14-15563569986c>:12: SettingWithCopyWarning: \n",
      "A value is trying to be set on a copy of a slice from a DataFrame.\n",
      "Try using .loc[row_indexer,col_indexer] = value instead\n",
      "\n",
      "See the caveats in the documentation: https://pandas.pydata.org/pandas-docs/stable/user_guide/indexing.html#returning-a-view-versus-a-copy\n",
      "  df['dayofmonth'] = df['timestamp'].dt.day\n",
      "<ipython-input-14-15563569986c>:13: FutureWarning: Series.dt.weekofyear and Series.dt.week have been deprecated.  Please use Series.dt.isocalendar().week instead.\n",
      "  df['weekofyear'] = df['timestamp'].dt.weekofyear\n",
      "<ipython-input-14-15563569986c>:13: SettingWithCopyWarning: \n",
      "A value is trying to be set on a copy of a slice from a DataFrame.\n",
      "Try using .loc[row_indexer,col_indexer] = value instead\n",
      "\n",
      "See the caveats in the documentation: https://pandas.pydata.org/pandas-docs/stable/user_guide/indexing.html#returning-a-view-versus-a-copy\n",
      "  df['weekofyear'] = df['timestamp'].dt.weekofyear\n"
     ]
    }
   ],
   "source": [
    "# Creating and splitting the data\n",
    "multi_data_train = multi_data[:TRAIN_SPLIT]\n",
    "multi_data_test = multi_data[TRAIN_SPLIT:]\n",
    "X_train, y_train = create_features(multi_data_train, label='cnt')\n",
    "X_test, y_test = create_features(multi_data_test, label='cnt')"
   ]
  },
  {
   "cell_type": "code",
   "execution_count": 19,
   "metadata": {
    "colab": {
     "base_uri": "https://localhost:8080/",
     "height": 235
    },
    "executionInfo": {
     "elapsed": 962,
     "status": "ok",
     "timestamp": 1614185405193,
     "user": {
      "displayName": "Jose Peris",
      "photoUrl": "https://lh3.googleusercontent.com/a-/AOh14GgNz63esUsHANBy-xHjue1oA--uyERyvJ5ums0jqjY=s64",
      "userId": "07733325798784406199"
     },
     "user_tz": -60
    },
    "id": "VDCJZRZlX-Mk",
    "outputId": "6237d8da-288d-4b3f-958a-ea5b324d67f2"
   },
   "outputs": [
    {
     "data": {
      "text/html": [
       "<div>\n",
       "<style scoped>\n",
       "    .dataframe tbody tr th:only-of-type {\n",
       "        vertical-align: middle;\n",
       "    }\n",
       "\n",
       "    .dataframe tbody tr th {\n",
       "        vertical-align: top;\n",
       "    }\n",
       "\n",
       "    .dataframe thead th {\n",
       "        text-align: right;\n",
       "    }\n",
       "</style>\n",
       "<table border=\"1\" class=\"dataframe\">\n",
       "  <thead>\n",
       "    <tr style=\"text-align: right;\">\n",
       "      <th></th>\n",
       "      <th>t1</th>\n",
       "      <th>is_holiday</th>\n",
       "      <th>is_weekend</th>\n",
       "      <th>season</th>\n",
       "      <th>hour</th>\n",
       "      <th>dayofweek</th>\n",
       "      <th>month</th>\n",
       "      <th>year</th>\n",
       "      <th>dayofyear</th>\n",
       "      <th>dayofmonth</th>\n",
       "      <th>weekofyear</th>\n",
       "    </tr>\n",
       "    <tr>\n",
       "      <th>timestamp</th>\n",
       "      <th></th>\n",
       "      <th></th>\n",
       "      <th></th>\n",
       "      <th></th>\n",
       "      <th></th>\n",
       "      <th></th>\n",
       "      <th></th>\n",
       "      <th></th>\n",
       "      <th></th>\n",
       "      <th></th>\n",
       "      <th></th>\n",
       "    </tr>\n",
       "  </thead>\n",
       "  <tbody>\n",
       "    <tr>\n",
       "      <th>2015-01-04 00:00:00</th>\n",
       "      <td>3.0</td>\n",
       "      <td>0.0</td>\n",
       "      <td>1.0</td>\n",
       "      <td>3.0</td>\n",
       "      <td>0</td>\n",
       "      <td>6</td>\n",
       "      <td>1</td>\n",
       "      <td>2015</td>\n",
       "      <td>4</td>\n",
       "      <td>4</td>\n",
       "      <td>1</td>\n",
       "    </tr>\n",
       "    <tr>\n",
       "      <th>2015-01-04 01:00:00</th>\n",
       "      <td>3.0</td>\n",
       "      <td>0.0</td>\n",
       "      <td>1.0</td>\n",
       "      <td>3.0</td>\n",
       "      <td>1</td>\n",
       "      <td>6</td>\n",
       "      <td>1</td>\n",
       "      <td>2015</td>\n",
       "      <td>4</td>\n",
       "      <td>4</td>\n",
       "      <td>1</td>\n",
       "    </tr>\n",
       "    <tr>\n",
       "      <th>2015-01-04 02:00:00</th>\n",
       "      <td>2.5</td>\n",
       "      <td>0.0</td>\n",
       "      <td>1.0</td>\n",
       "      <td>3.0</td>\n",
       "      <td>2</td>\n",
       "      <td>6</td>\n",
       "      <td>1</td>\n",
       "      <td>2015</td>\n",
       "      <td>4</td>\n",
       "      <td>4</td>\n",
       "      <td>1</td>\n",
       "    </tr>\n",
       "    <tr>\n",
       "      <th>2015-01-04 03:00:00</th>\n",
       "      <td>2.0</td>\n",
       "      <td>0.0</td>\n",
       "      <td>1.0</td>\n",
       "      <td>3.0</td>\n",
       "      <td>3</td>\n",
       "      <td>6</td>\n",
       "      <td>1</td>\n",
       "      <td>2015</td>\n",
       "      <td>4</td>\n",
       "      <td>4</td>\n",
       "      <td>1</td>\n",
       "    </tr>\n",
       "    <tr>\n",
       "      <th>2015-01-04 04:00:00</th>\n",
       "      <td>2.0</td>\n",
       "      <td>0.0</td>\n",
       "      <td>1.0</td>\n",
       "      <td>3.0</td>\n",
       "      <td>4</td>\n",
       "      <td>6</td>\n",
       "      <td>1</td>\n",
       "      <td>2015</td>\n",
       "      <td>4</td>\n",
       "      <td>4</td>\n",
       "      <td>1</td>\n",
       "    </tr>\n",
       "  </tbody>\n",
       "</table>\n",
       "</div>"
      ],
      "text/plain": [
       "                      t1  is_holiday  is_weekend  season  hour  dayofweek  \\\n",
       "timestamp                                                                   \n",
       "2015-01-04 00:00:00  3.0         0.0         1.0     3.0     0          6   \n",
       "2015-01-04 01:00:00  3.0         0.0         1.0     3.0     1          6   \n",
       "2015-01-04 02:00:00  2.5         0.0         1.0     3.0     2          6   \n",
       "2015-01-04 03:00:00  2.0         0.0         1.0     3.0     3          6   \n",
       "2015-01-04 04:00:00  2.0         0.0         1.0     3.0     4          6   \n",
       "\n",
       "                     month  year  dayofyear  dayofmonth  weekofyear  \n",
       "timestamp                                                            \n",
       "2015-01-04 00:00:00      1  2015          4           4           1  \n",
       "2015-01-04 01:00:00      1  2015          4           4           1  \n",
       "2015-01-04 02:00:00      1  2015          4           4           1  \n",
       "2015-01-04 03:00:00      1  2015          4           4           1  \n",
       "2015-01-04 04:00:00      1  2015          4           4           1  "
      ]
     },
     "execution_count": 19,
     "metadata": {},
     "output_type": "execute_result"
    }
   ],
   "source": [
    "X_train.head()"
   ]
  },
  {
   "cell_type": "code",
   "execution_count": 20,
   "metadata": {
    "colab": {
     "base_uri": "https://localhost:8080/"
    },
    "executionInfo": {
     "elapsed": 838,
     "status": "ok",
     "timestamp": 1614185415636,
     "user": {
      "displayName": "Jose Peris",
      "photoUrl": "https://lh3.googleusercontent.com/a-/AOh14GgNz63esUsHANBy-xHjue1oA--uyERyvJ5ums0jqjY=s64",
      "userId": "07733325798784406199"
     },
     "user_tz": -60
    },
    "id": "0kyyzPxtYBYk",
    "outputId": "cae35c2a-5b88-4281-e11f-72641fc07dde"
   },
   "outputs": [
    {
     "data": {
      "text/plain": [
       "timestamp\n",
       "2015-01-04 00:00:00    182\n",
       "2015-01-04 01:00:00    138\n",
       "2015-01-04 02:00:00    134\n",
       "2015-01-04 03:00:00     72\n",
       "2015-01-04 04:00:00     47\n",
       "Name: cnt, dtype: int64"
      ]
     },
     "execution_count": 20,
     "metadata": {},
     "output_type": "execute_result"
    }
   ],
   "source": [
    "y_train.head()\n"
   ]
  },
  {
   "cell_type": "code",
   "execution_count": 21,
   "metadata": {
    "colab": {
     "base_uri": "https://localhost:8080/"
    },
    "executionInfo": {
     "elapsed": 4590,
     "status": "ok",
     "timestamp": 1614185554369,
     "user": {
      "displayName": "Jose Peris",
      "photoUrl": "https://lh3.googleusercontent.com/a-/AOh14GgNz63esUsHANBy-xHjue1oA--uyERyvJ5ums0jqjY=s64",
      "userId": "07733325798784406199"
     },
     "user_tz": -60
    },
    "id": "H2latPKGYHBT",
    "outputId": "ba21f377-b4d7-44cb-d786-f0d2528ace0a"
   },
   "outputs": [
    {
     "data": {
      "text/plain": [
       "XGBRegressor(base_score=0.5, booster='gbtree', colsample_bylevel=1,\n",
       "             colsample_bynode=1, colsample_bytree=1, gamma=0, gpu_id=-1,\n",
       "             importance_type='gain', interaction_constraints='',\n",
       "             learning_rate=0.300000012, max_delta_step=0, max_depth=6,\n",
       "             min_child_weight=1, missing=nan, monotone_constraints='()',\n",
       "             n_estimators=1000, n_jobs=4, num_parallel_tree=1, random_state=0,\n",
       "             reg_alpha=0, reg_lambda=1, scale_pos_weight=1, subsample=1,\n",
       "             tree_method='exact', validate_parameters=1, verbosity=None)"
      ]
     },
     "execution_count": 21,
     "metadata": {},
     "output_type": "execute_result"
    }
   ],
   "source": [
    "reg = xgb.XGBRegressor(n_estimators=1000, objective='reg:squarederror')\n",
    "reg.fit(X_train, y_train,\n",
    "        eval_set=[(X_test, y_test)],\n",
    "        early_stopping_rounds=50,\n",
    "       verbose=False)"
   ]
  },
  {
   "cell_type": "code",
   "execution_count": 22,
   "metadata": {
    "id": "oA2MKQoKYQT0"
   },
   "outputs": [
    {
     "data": {
      "image/png": "[encoded data removed]",
      "text/plain": [
       "<Figure size 432x288 with 1 Axes>"
      ]
     },
     "metadata": {
      "needs_background": "light"
     },
     "output_type": "display_data"
    }
   ],
   "source": [
    "# Plot the most important features\n",
    "_= plot_importance(reg, height=1)"
   ]
  },
  {
   "cell_type": "code",
   "execution_count": 23,
   "metadata": {
    "colab": {
     "base_uri": "https://localhost:8080/"
    },
    "executionInfo": {
     "elapsed": 502,
     "status": "ok",
     "timestamp": 1614185592213,
     "user": {
      "displayName": "Jose Peris",
      "photoUrl": "https://lh3.googleusercontent.com/a-/AOh14GgNz63esUsHANBy-xHjue1oA--uyERyvJ5ums0jqjY=s64",
      "userId": "07733325798784406199"
     },
     "user_tz": -60
    },
    "id": "KpBhdmhnYpsi",
    "outputId": "7d0d7050-7662-43fc-fca3-2c21c652661d"
   },
   "outputs": [
    {
     "name": "stderr",
     "output_type": "stream",
     "text": [
      "<ipython-input-23-b71fc5982232>:1: SettingWithCopyWarning: \n",
      "A value is trying to be set on a copy of a slice from a DataFrame.\n",
      "Try using .loc[row_indexer,col_indexer] = value instead\n",
      "\n",
      "See the caveats in the documentation: https://pandas.pydata.org/pandas-docs/stable/user_guide/indexing.html#returning-a-view-versus-a-copy\n",
      "  multi_data_test['Prediction'] = reg.predict(X_test)\n"
     ]
    }
   ],
   "source": [
    "multi_data_test['Prediction'] = reg.predict(X_test)"
   ]
  },
  {
   "cell_type": "code",
   "execution_count": 24,
   "metadata": {
    "colab": {
     "base_uri": "https://localhost:8080/",
     "height": 386
    },
    "executionInfo": {
     "elapsed": 1210,
     "status": "ok",
     "timestamp": 1614185759943,
     "user": {
      "displayName": "Jose Peris",
      "photoUrl": "https://lh3.googleusercontent.com/a-/AOh14GgNz63esUsHANBy-xHjue1oA--uyERyvJ5ums0jqjY=s64",
      "userId": "07733325798784406199"
     },
     "user_tz": -60
    },
    "id": "MCe5kdiiYswK",
    "outputId": "86a1f216-3326-4ba8-b207-2f1695d3a293"
   },
   "outputs": [
    {
     "data": {
      "text/plain": [
       "<AxesSubplot:xlabel='timestamp'>"
      ]
     },
     "execution_count": 24,
     "metadata": {},
     "output_type": "execute_result"
    },
    {
     "data": {
      "image/png": "[encoded data removed]",
      "text/plain": [
       "<Figure size 1440x360 with 1 Axes>"
      ]
     },
     "metadata": {
      "needs_background": "light"
     },
     "output_type": "display_data"
    }
   ],
   "source": [
    "multi_data_test[-1000:][['cnt','Prediction']].plot(figsize=(20, 5))"
   ]
  },
  {
   "cell_type": "code",
   "execution_count": 25,
   "metadata": {
    "colab": {
     "base_uri": "https://localhost:8080/"
    },
    "executionInfo": {
     "elapsed": 513,
     "status": "ok",
     "timestamp": 1614185785306,
     "user": {
      "displayName": "Jose Peris",
      "photoUrl": "https://lh3.googleusercontent.com/a-/AOh14GgNz63esUsHANBy-xHjue1oA--uyERyvJ5ums0jqjY=s64",
      "userId": "07733325798784406199"
     },
     "user_tz": -60
    },
    "id": "rn0LFzelBVzg",
    "outputId": "d7e70dc6-be9c-4619-914b-dc0de13257e9"
   },
   "outputs": [
    {
     "data": {
      "text/plain": [
       "115220.41120906977"
      ]
     },
     "execution_count": 25,
     "metadata": {},
     "output_type": "execute_result"
    }
   ],
   "source": [
    "mean_squared_error(y_true=multi_data_test['cnt'],\n",
    "                   y_pred=multi_data_test['Prediction'])"
   ]
  },
  {
   "cell_type": "code",
   "execution_count": 26,
   "metadata": {
    "colab": {
     "base_uri": "https://localhost:8080/"
    },
    "executionInfo": {
     "elapsed": 1053,
     "status": "ok",
     "timestamp": 1613666642451,
     "user": {
      "displayName": "Jose Peris",
      "photoUrl": "https://lh3.googleusercontent.com/a-/AOh14GgNz63esUsHANBy-xHjue1oA--uyERyvJ5ums0jqjY=s64",
      "userId": "07733325798784406199"
     },
     "user_tz": -60
    },
    "id": "AiYpWFq_BZHN",
    "outputId": "b593b4c0-9853-4745-81ca-1a65b0826a39"
   },
   "outputs": [
    {
     "data": {
      "text/plain": [
       "211.3113324144952"
      ]
     },
     "execution_count": 26,
     "metadata": {},
     "output_type": "execute_result"
    }
   ],
   "source": [
    "mean_absolute_error(y_true=multi_data_test['cnt'],    \n",
    "                    y_pred=multi_data_test['Prediction'])"
   ]
  },
  {
   "cell_type": "code",
   "execution_count": 27,
   "metadata": {
    "id": "PU3i9E4Xt2RS"
   },
   "outputs": [],
   "source": [
    "y_true = multi_data_test['cnt']"
   ]
  },
  {
   "cell_type": "code",
   "execution_count": 28,
   "metadata": {},
   "outputs": [],
   "source": [
    "y_pred = multi_data_test['Prediction']"
   ]
  },
  {
   "cell_type": "code",
   "execution_count": 29,
   "metadata": {},
   "outputs": [],
   "source": [
    "from sklearn.metrics import mean_absolute_error\n",
    "from sklearn.metrics import mean_squared_error"
   ]
  },
  {
   "cell_type": "code",
   "execution_count": 31,
   "metadata": {},
   "outputs": [
    {
     "name": "stdout",
     "output_type": "stream",
     "text": [
      "339.44132218848927\n"
     ]
    }
   ],
   "source": [
    "rmse = np.sqrt(mean_squared_error(y_true, y_pred))\n",
    "print(rmse)"
   ]
  },
  {
   "cell_type": "code",
   "execution_count": null,
   "metadata": {},
   "outputs": [],
   "source": []
  }
 ],
 "metadata": {
  "accelerator": "GPU",
  "colab": {
   "collapsed_sections": [],
   "name": "XGBOOST_bikes.ipynb",
   "provenance": []
  },
  "kernelspec": {
   "display_name": "Python 3",
   "language": "python",
   "name": "python3"
  },
  "language_info": {
   "codemirror_mode": {
    "name": "ipython",
    "version": 3
   },
   "file_extension": ".py",
   "mimetype": "text/x-python",
   "name": "python",
   "nbconvert_exporter": "python",
   "pygments_lexer": "ipython3",
   "version": "3.8.8"
  }
 },
 "nbformat": 4,
 "nbformat_minor": 1
}
