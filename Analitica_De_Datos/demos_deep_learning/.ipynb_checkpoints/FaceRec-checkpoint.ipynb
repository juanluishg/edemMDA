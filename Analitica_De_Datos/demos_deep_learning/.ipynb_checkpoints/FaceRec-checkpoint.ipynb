{
 "cells": [
  {
   "cell_type": "markdown",
   "metadata": {
    "id": "zilHRv091Lf8"
   },
   "source": [
    "### Importar librerias necesarias"
   ]
  },
  {
   "cell_type": "code",
   "execution_count": 1,
   "metadata": {
    "id": "A0WcyyNQ1Zjp"
   },
   "outputs": [
    {
     "name": "stdout",
     "output_type": "stream",
     "text": [
      "Defaulting to user installation because normal site-packages is not writeable\n",
      "Collecting git+https://github.com/rcmalli/keras-vggface.git\n",
      "  Cloning https://github.com/rcmalli/keras-vggface.git to /tmp/pip-req-build-rxr81hv8\n",
      "  Running command git clone -q https://github.com/rcmalli/keras-vggface.git /tmp/pip-req-build-rxr81hv8\n",
      "Requirement already satisfied: numpy>=1.9.1 in /home/juanluishg/.local/lib/python3.7/site-packages (from keras-vggface==0.6) (1.18.5)\n",
      "Requirement already satisfied: scipy>=0.14 in /home/juanluishg/.local/lib/python3.7/site-packages (from keras-vggface==0.6) (1.1.0)\n",
      "Requirement already satisfied: h5py in /home/juanluishg/.local/lib/python3.7/site-packages (from keras-vggface==0.6) (2.10.0)\n",
      "Requirement already satisfied: pillow in /home/juanluishg/.local/lib/python3.7/site-packages (from keras-vggface==0.6) (8.2.0)\n",
      "Requirement already satisfied: keras in /home/juanluishg/.local/lib/python3.7/site-packages (from keras-vggface==0.6) (2.4.3)\n",
      "Requirement already satisfied: six>=1.9.0 in /home/juanluishg/.local/lib/python3.7/site-packages (from keras-vggface==0.6) (1.15.0)\n",
      "Requirement already satisfied: pyyaml in /home/juanluishg/.local/lib/python3.7/site-packages (from keras-vggface==0.6) (5.4.1)\n",
      "Building wheels for collected packages: keras-vggface\n",
      "  Building wheel for keras-vggface (setup.py) ... \u001b[?25ldone\n",
      "\u001b[?25h  Created wheel for keras-vggface: filename=keras_vggface-0.6-py3-none-any.whl size=8310 sha256=d3955d773fc7c3c2f0d524ce10e53e184c52a03b212c859b757fc9b089837982\n",
      "  Stored in directory: /tmp/pip-ephem-wheel-cache-ht5qjcdg/wheels/08/df/86/0225d44647ab2256dbf1e006823288fe9cc86367a056e6ea2c\n",
      "Successfully built keras-vggface\n",
      "Installing collected packages: keras-vggface\n",
      "Successfully installed keras-vggface-0.6\n",
      "\u001b[33mWARNING: You are using pip version 21.0.1; however, version 21.1.1 is available.\n",
      "You should consider upgrading via the '/usr/bin/python3 -m pip install --upgrade pip' command.\u001b[0m\n",
      "Defaulting to user installation because normal site-packages is not writeable\n",
      "Collecting mtcnn\n",
      "  Downloading mtcnn-0.1.0-py3-none-any.whl (2.3 MB)\n",
      "\u001b[K     |████████████████████████████████| 2.3 MB 1.9 MB/s eta 0:00:01\n",
      "\u001b[?25hRequirement already satisfied: keras>=2.0.0 in /home/juanluishg/.local/lib/python3.7/site-packages (from mtcnn) (2.4.3)\n",
      "Requirement already satisfied: opencv-python>=4.1.0 in /home/juanluishg/.local/lib/python3.7/site-packages (from mtcnn) (4.5.2.52)\n",
      "Requirement already satisfied: h5py in /home/juanluishg/.local/lib/python3.7/site-packages (from keras>=2.0.0->mtcnn) (2.10.0)\n",
      "Requirement already satisfied: pyyaml in /home/juanluishg/.local/lib/python3.7/site-packages (from keras>=2.0.0->mtcnn) (5.4.1)\n",
      "Requirement already satisfied: numpy>=1.9.1 in /home/juanluishg/.local/lib/python3.7/site-packages (from keras>=2.0.0->mtcnn) (1.18.5)\n",
      "Requirement already satisfied: scipy>=0.14 in /home/juanluishg/.local/lib/python3.7/site-packages (from keras>=2.0.0->mtcnn) (1.1.0)\n",
      "Requirement already satisfied: six in /home/juanluishg/.local/lib/python3.7/site-packages (from h5py->keras>=2.0.0->mtcnn) (1.15.0)\n",
      "Installing collected packages: mtcnn\n",
      "Successfully installed mtcnn-0.1.0\n",
      "\u001b[33mWARNING: You are using pip version 21.0.1; however, version 21.1.1 is available.\n",
      "You should consider upgrading via the '/usr/bin/python3 -m pip install --upgrade pip' command.\u001b[0m\n",
      "Defaulting to user installation because normal site-packages is not writeable\n",
      "Requirement already satisfied: keras_applications in /home/juanluishg/.local/lib/python3.7/site-packages (1.0.8)\n",
      "Requirement already satisfied: h5py in /home/juanluishg/.local/lib/python3.7/site-packages (from keras_applications) (2.10.0)\n",
      "Requirement already satisfied: numpy>=1.9.1 in /home/juanluishg/.local/lib/python3.7/site-packages (from keras_applications) (1.18.5)\n",
      "Requirement already satisfied: six in /home/juanluishg/.local/lib/python3.7/site-packages (from h5py->keras_applications) (1.15.0)\n",
      "\u001b[33mWARNING: You are using pip version 21.0.1; however, version 21.1.1 is available.\n",
      "You should consider upgrading via the '/usr/bin/python3 -m pip install --upgrade pip' command.\u001b[0m\n"
     ]
    }
   ],
   "source": [
    "!pip install git+https://github.com/rcmalli/keras-vggface.git\n",
    "!pip install mtcnn\n",
    "!pip install keras_applications"
   ]
  },
  {
   "cell_type": "markdown",
   "metadata": {
    "id": "Pzl2Ro2r17KT"
   },
   "source": [
    "### Extraccion del Embedding Facial"
   ]
  },
  {
   "cell_type": "code",
   "execution_count": 36,
   "metadata": {
    "executionInfo": {
     "elapsed": 658,
     "status": "ok",
     "timestamp": 1617558908367,
     "user": {
      "displayName": "diego bonilla",
      "photoUrl": "https://lh3.googleusercontent.com/a-/AOh14Ggnj6cKoH9HJ21WVsa6SOo7pVmwY16sH8qoaIYxCg=s64",
      "userId": "06249139234049821416"
     },
     "user_tz": -120
    },
    "id": "fU5IJJAr2A5n"
   },
   "outputs": [],
   "source": [
    "# MTCNN es una libreria que detecta las caras con sus respectivas coordenadas en una imagen\n",
    "from mtcnn import MTCNN\n",
    "# VGG-FACE es un modelo preentrenado de reconocimiento facial\n",
    "import keras_vggface\n",
    "from keras_vggface.vggface import VGGFace\n",
    "from keras_vggface.utils import preprocess_input\n",
    "\n",
    "import cv2\n",
    "import matplotlib.pyplot as plt\n",
    "import numpy as np"
   ]
  },
  {
   "cell_type": "code",
   "execution_count": 14,
   "metadata": {
    "executionInfo": {
     "elapsed": 1201,
     "status": "ok",
     "timestamp": 1617557553196,
     "user": {
      "displayName": "diego bonilla",
      "photoUrl": "https://lh3.googleusercontent.com/a-/AOh14Ggnj6cKoH9HJ21WVsa6SOo7pVmwY16sH8qoaIYxCg=s64",
      "userId": "06249139234049821416"
     },
     "user_tz": -120
    },
    "id": "uhnhW7Y18IbL"
   },
   "outputs": [],
   "source": [
    "# creamos una instancia del detector\n",
    "detector = MTCNN()"
   ]
  },
  {
   "cell_type": "code",
   "execution_count": null,
   "metadata": {
    "id": "-OjRYRFK2utf"
   },
   "outputs": [],
   "source": [
    "# cargamos la imagen\n",
    "image = cv2.imread('Faces/robert_1.jpg')\n",
    "image = cv2.cvtColor(image, cv2.COLOR_BGR2RGB)\n",
    "\n",
    "plt.figure(figsize=(9, 9))\n",
    "plt.imshow(image)\n",
    "plt.show()"
   ]
  },
  {
   "cell_type": "code",
   "execution_count": null,
   "metadata": {
    "id": "KgiAx1w28biT"
   },
   "outputs": [],
   "source": [
    "# pasamos la imagen por el detector de caras para extraer la imagen recortada\n",
    "results = detector.detect_faces(image)\n",
    "print(results)"
   ]
  },
  {
   "cell_type": "code",
   "execution_count": null,
   "metadata": {
    "id": "aqdU85OH82ex"
   },
   "outputs": [],
   "source": [
    "# dibujamos las partes de la cara del detector usando opencv\n",
    "canvas = image.copy()\n",
    "result = results[0]\n",
    "\n",
    "# caja de la cara\n",
    "x, y, w, h = result['box']\n",
    "cv2.rectangle(canvas, (x, y), (x+w, y+h), (0, 255, 0), 5)\n",
    "\n",
    "# mas detalles de la cara\n",
    "cv2.circle(canvas, result['keypoints']['left_eye'], 20, (0, 0, 255), -1)\n",
    "cv2.circle(canvas, result['keypoints']['right_eye'], 20, (0, 0, 255), -1)\n",
    "cv2.circle(canvas, result['keypoints']['nose'], 20, (0, 0, 255), -1)\n",
    "cv2.line(canvas, result['keypoints']['mouth_left'], result['keypoints']['mouth_right'], (50, 0, 255), 5)\n",
    "\n",
    "plt.figure(figsize=(9, 9))\n",
    "plt.imshow(canvas)\n",
    "plt.show()"
   ]
  },
  {
   "cell_type": "code",
   "execution_count": null,
   "metadata": {
    "id": "CuWgoejZ_bR0"
   },
   "outputs": [],
   "source": [
    "# recortamos la cara\n",
    "cara = image[y: y+h, x: x+w]\n",
    "\n",
    "# hay que cambiar su tamaño para cumplir los requerimientos de entrada del modelo preentrenado\n",
    "cara_res = cv2.resize(cara, (224, 224), cv2.INTER_LANCZOS4)\n",
    "\n",
    "plt.figure(1)\n",
    "plt.imshow(cara)\n",
    "\n",
    "plt.figure(2)\n",
    "plt.imshow(cara_res)\n",
    "\n",
    "plt.show()"
   ]
  },
  {
   "cell_type": "code",
   "execution_count": null,
   "metadata": {
    "id": "SPNfnsw7ArJV"
   },
   "outputs": [],
   "source": [
    "# cargamos el modelo\n",
    "model = VGGFace(model='resnet50', include_top=False, input_shape=(224, 224, 3), pooling='avg')\n",
    "model.summary()"
   ]
  },
  {
   "cell_type": "code",
   "execution_count": 40,
   "metadata": {
    "colab": {
     "base_uri": "https://localhost:8080/"
    },
    "executionInfo": {
     "elapsed": 1779,
     "status": "ok",
     "timestamp": 1617559291497,
     "user": {
      "displayName": "diego bonilla",
      "photoUrl": "https://lh3.googleusercontent.com/a-/AOh14Ggnj6cKoH9HJ21WVsa6SOo7pVmwY16sH8qoaIYxCg=s64",
      "userId": "06249139234049821416"
     },
     "user_tz": -120
    },
    "id": "UUNJxdDMBoKU",
    "outputId": "81f4f1ee-dda9-41f3-90b7-1cf20618b012"
   },
   "outputs": [
    {
     "name": "stdout",
     "output_type": "stream",
     "text": [
      "(1, 2048)\n"
     ]
    }
   ],
   "source": [
    "# efectuamos la prediccion\n",
    "# la funcion \"proprocess_input\" procesa los valores de los pixeles de la imagen \n",
    "# para que cumplan la misma estadistica que cuando se entreno\n",
    "face_in = np.expand_dims(cara_res.astype('float32'), axis=0)\n",
    "face_in = preprocess_input(face_in, version=2)\n",
    "\n",
    "# damos un paso del modelo\n",
    "face_embedding = model.predict(face_in)\n",
    "print(face_embedding.shape)"
   ]
  },
  {
   "cell_type": "code",
   "execution_count": null,
   "metadata": {
    "id": "C1xDHlm9DB5V"
   },
   "outputs": [],
   "source": [
    "# podemos ver el embedding como un imagen...\n",
    "plt.imshow(face_embedding.reshape(32, 64) / face_embedding.max())\n",
    "plt.show()"
   ]
  },
  {
   "cell_type": "markdown",
   "metadata": {
    "id": "2m8pqKO-Dvnt"
   },
   "source": [
    "### Ejercicio 1:\n",
    "## Reconocimiento facial"
   ]
  },
  {
   "cell_type": "code",
   "execution_count": null,
   "metadata": {
    "id": "W8CEdkz9D387"
   },
   "outputs": [],
   "source": [
    "# Usando las fotos \"robert_1.jpg\" y \"robert_2.jpg\", comparar la distancia cosenoidal\n",
    "# de sus embeddings. Para distancia consultar la funcion: https://docs.scipy.org/doc/scipy/reference/generated/scipy.spatial.distance.cosine.html\n",
    "# obtener un unico valor de distancia en unidades lineales unidimensionales\n",
    "\n",
    "# Ahora usar \"robert_1.jpg\" y \"anne_1.jpg\" para ver que la distancia cambia\n",
    "# obtener un unico valor de distancia en unidades lineales unidimensionales"
   ]
  },
  {
   "cell_type": "code",
   "execution_count": null,
   "metadata": {
    "id": "BHkYHoX7E6T_"
   },
   "outputs": [],
   "source": [
    "# TO-DO\n",
    "# ..."
   ]
  },
  {
   "cell_type": "markdown",
   "metadata": {
    "id": "zd6MspJZEkOs"
   },
   "source": [
    "### Ejercicio 2:\n",
    "## Quien es quien"
   ]
  },
  {
   "cell_type": "code",
   "execution_count": null,
   "metadata": {
    "id": "UgmJpDRaE5Za"
   },
   "outputs": [],
   "source": [
    "# En las fotos \"anne_3.jpg\" y \"robert_3.jpg\", hay 2 personas y solo una la conocemos.\n",
    "# Hay que extraer el embedding de una foto identificativa de la persona conocida (\"anne/robert_1/2.jpg\")\n",
    "# para que al comparar las distancias de los embeddings, saber quien es la persona conocida."
   ]
  },
  {
   "cell_type": "code",
   "execution_count": null,
   "metadata": {
    "id": "R5GMooeNFa5q"
   },
   "outputs": [],
   "source": [
    "# TO-DO\n",
    "# ..."
   ]
  }
 ],
 "metadata": {
  "colab": {
   "authorship_tag": "ABX9TyMH3BK9vKxcUiKNX/xV8jlR",
   "collapsed_sections": [],
   "mount_file_id": "1avB_pGFUfLTHPzl_hrgnZHSTOL4NqeM-",
   "name": "FaceRec.ipynb",
   "provenance": [],
   "toc_visible": true
  },
  "kernelspec": {
   "display_name": "Python 3",
   "language": "python",
   "name": "python3"
  },
  "language_info": {
   "codemirror_mode": {
    "name": "ipython",
    "version": 3
   },
   "file_extension": ".py",
   "mimetype": "text/x-python",
   "name": "python",
   "nbconvert_exporter": "python",
   "pygments_lexer": "ipython3",
   "version": "3.7.3"
  }
 },
 "nbformat": 4,
 "nbformat_minor": 1
}
