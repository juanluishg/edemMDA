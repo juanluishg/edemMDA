{
 "cells": [
  {
   "cell_type": "markdown",
   "metadata": {
    "id": "f1uCyrj-ERAn"
   },
   "source": [
    "## Instalar Dependencias"
   ]
  },
  {
   "cell_type": "code",
   "execution_count": 1,
   "metadata": {
    "id": "qhXoCV4QDNZD",
    "scrolled": true
   },
   "outputs": [
    {
     "name": "stdout",
     "output_type": "stream",
     "text": [
      "Requirement already satisfied: transformers in c:\\users\\juanl\\appdata\\local\\programs\\python\\python38\\lib\\site-packages (4.4.2)\n",
      "Requirement already satisfied: numpy>=1.17 in c:\\users\\juanl\\appdata\\local\\programs\\python\\python38\\lib\\site-packages (from transformers) (1.19.2)\n",
      "Requirement already satisfied: regex!=2019.12.17 in c:\\users\\juanl\\appdata\\local\\programs\\python\\python38\\lib\\site-packages (from transformers) (2020.11.13)\n",
      "Requirement already satisfied: sacremoses in c:\\users\\juanl\\appdata\\local\\programs\\python\\python38\\lib\\site-packages (from transformers) (0.0.43)\n",
      "Requirement already satisfied: tqdm>=4.27 in c:\\users\\juanl\\appdata\\local\\programs\\python\\python38\\lib\\site-packages (from transformers) (4.58.0)\n",
      "Requirement already satisfied: packaging in c:\\users\\juanl\\appdata\\local\\programs\\python\\python38\\lib\\site-packages (from transformers) (20.9)\n",
      "Requirement already satisfied: tokenizers<0.11,>=0.10.1 in c:\\users\\juanl\\appdata\\local\\programs\\python\\python38\\lib\\site-packages (from transformers) (0.10.1)\n",
      "Requirement already satisfied: requests in c:\\users\\juanl\\appdata\\local\\programs\\python\\python38\\lib\\site-packages (from transformers) (2.25.1)\n",
      "Requirement already satisfied: filelock in c:\\users\\juanl\\appdata\\local\\programs\\python\\python38\\lib\\site-packages (from transformers) (3.0.12)\n",
      "Requirement already satisfied: pyparsing>=2.0.2 in c:\\users\\juanl\\appdata\\local\\programs\\python\\python38\\lib\\site-packages (from packaging->transformers) (2.4.7)\n",
      "Requirement already satisfied: certifi>=2017.4.17 in c:\\users\\juanl\\appdata\\local\\programs\\python\\python38\\lib\\site-packages (from requests->transformers) (2020.12.5)\n",
      "Requirement already satisfied: urllib3<1.27,>=1.21.1 in c:\\users\\juanl\\appdata\\local\\programs\\python\\python38\\lib\\site-packages (from requests->transformers) (1.26.3)\n",
      "Requirement already satisfied: chardet<5,>=3.0.2 in c:\\users\\juanl\\appdata\\local\\programs\\python\\python38\\lib\\site-packages (from requests->transformers) (4.0.0)\n",
      "Requirement already satisfied: idna<3,>=2.5 in c:\\users\\juanl\\appdata\\local\\programs\\python\\python38\\lib\\site-packages (from requests->transformers) (2.10)\n",
      "Requirement already satisfied: joblib in c:\\users\\juanl\\appdata\\roaming\\python\\python38\\site-packages (from sacremoses->transformers) (1.0.1)\n",
      "Requirement already satisfied: six in c:\\users\\juanl\\appdata\\local\\programs\\python\\python38\\lib\\site-packages (from sacremoses->transformers) (1.15.0)\n",
      "Requirement already satisfied: click in c:\\users\\juanl\\appdata\\local\\programs\\python\\python38\\lib\\site-packages (from sacremoses->transformers) (7.1.2)\n",
      "Collecting googletrans==3.1.0a0\n",
      "  Downloading googletrans-3.1.0a0.tar.gz (19 kB)\n",
      "Collecting httpx==0.13.3\n",
      "  Downloading httpx-0.13.3-py3-none-any.whl (55 kB)\n",
      "Collecting hstspreload\n",
      "  Downloading hstspreload-2020.12.22-py3-none-any.whl (994 kB)\n",
      "Collecting chardet==3.*\n",
      "  Downloading chardet-3.0.4-py2.py3-none-any.whl (133 kB)\n",
      "Collecting sniffio\n",
      "  Using cached sniffio-1.2.0-py3-none-any.whl (10 kB)\n",
      "Requirement already satisfied: idna==2.* in c:\\users\\juanl\\appdata\\local\\programs\\python\\python38\\lib\\site-packages (from httpx==0.13.3->googletrans==3.1.0a0) (2.10)\n",
      "Collecting httpcore==0.9.*\n",
      "  Downloading httpcore-0.9.1-py3-none-any.whl (42 kB)\n",
      "Collecting rfc3986<2,>=1.3\n",
      "  Downloading rfc3986-1.5.0-py2.py3-none-any.whl (31 kB)\n",
      "Requirement already satisfied: certifi in c:\\users\\juanl\\appdata\\local\\programs\\python\\python38\\lib\\site-packages (from httpx==0.13.3->googletrans==3.1.0a0) (2020.12.5)\n",
      "Collecting h2==3.*\n",
      "  Downloading h2-3.2.0-py2.py3-none-any.whl (65 kB)\n",
      "Collecting h11<0.10,>=0.8\n",
      "  Downloading h11-0.9.0-py2.py3-none-any.whl (53 kB)\n",
      "Collecting hyperframe<6,>=5.2.0\n",
      "  Downloading hyperframe-5.2.0-py2.py3-none-any.whl (12 kB)\n",
      "Collecting hpack<4,>=3.0\n",
      "  Downloading hpack-3.0.0-py2.py3-none-any.whl (38 kB)\n",
      "Building wheels for collected packages: googletrans\n",
      "  Building wheel for googletrans (setup.py): started\n",
      "  Building wheel for googletrans (setup.py): finished with status 'done'\n",
      "  Created wheel for googletrans: filename=googletrans-3.1.0a0-py3-none-any.whl size=16368 sha256=029101c6f4ed1f9d0620fcc3779603d60f694101de676dba3bd161a878fa1dba\n",
      "  Stored in directory: c:\\users\\juanl\\appdata\\local\\pip\\cache\\wheels\\dd\\59\\af\\8d6c96a719763990f1c548e36b17d9efdfb767f42f7ff39f53\n",
      "Successfully built googletrans\n",
      "Installing collected packages: hyperframe, hpack, sniffio, h2, h11, rfc3986, httpcore, hstspreload, chardet, httpx, googletrans\n",
      "  Attempting uninstall: chardet\n",
      "    Found existing installation: chardet 4.0.0\n",
      "    Uninstalling chardet-4.0.0:\n",
      "      Successfully uninstalled chardet-4.0.0\n",
      "Successfully installed chardet-3.0.4 googletrans-3.1.0a0 h11-0.9.0 h2-3.2.0 hpack-3.0.0 hstspreload-2020.12.22 httpcore-0.9.1 httpx-0.13.3 hyperframe-5.2.0 rfc3986-1.5.0 sniffio-1.2.0\n",
      "Collecting wikipedia\n",
      "  Downloading wikipedia-1.4.0.tar.gz (27 kB)\n",
      "Requirement already satisfied: beautifulsoup4 in c:\\users\\juanl\\appdata\\local\\programs\\python\\python38\\lib\\site-packages (from wikipedia) (4.9.3)\n",
      "Requirement already satisfied: requests<3.0.0,>=2.0.0 in c:\\users\\juanl\\appdata\\local\\programs\\python\\python38\\lib\\site-packages (from wikipedia) (2.25.1)\n",
      "Requirement already satisfied: chardet<5,>=3.0.2 in c:\\users\\juanl\\appdata\\local\\programs\\python\\python38\\lib\\site-packages (from requests<3.0.0,>=2.0.0->wikipedia) (3.0.4)\n",
      "Requirement already satisfied: urllib3<1.27,>=1.21.1 in c:\\users\\juanl\\appdata\\local\\programs\\python\\python38\\lib\\site-packages (from requests<3.0.0,>=2.0.0->wikipedia) (1.26.3)\n",
      "Requirement already satisfied: idna<3,>=2.5 in c:\\users\\juanl\\appdata\\local\\programs\\python\\python38\\lib\\site-packages (from requests<3.0.0,>=2.0.0->wikipedia) (2.10)\n",
      "Requirement already satisfied: certifi>=2017.4.17 in c:\\users\\juanl\\appdata\\local\\programs\\python\\python38\\lib\\site-packages (from requests<3.0.0,>=2.0.0->wikipedia) (2020.12.5)\n",
      "Requirement already satisfied: soupsieve>1.2 in c:\\users\\juanl\\appdata\\local\\programs\\python\\python38\\lib\\site-packages (from beautifulsoup4->wikipedia) (2.2)\n",
      "Building wheels for collected packages: wikipedia\n",
      "  Building wheel for wikipedia (setup.py): started\n",
      "  Building wheel for wikipedia (setup.py): finished with status 'done'\n",
      "  Created wheel for wikipedia: filename=wikipedia-1.4.0-py3-none-any.whl size=11686 sha256=4ea3c39f55ccbd07bc8aaeb56d296add8c8709a55b9c6830b435726e937f3bbd\n",
      "  Stored in directory: c:\\users\\juanl\\appdata\\local\\pip\\cache\\wheels\\07\\93\\05\\72c05349177dca2e0ba31a33ba4f7907606f7ddef303517c6a\n",
      "Successfully built wikipedia\n",
      "Installing collected packages: wikipedia\n",
      "Successfully installed wikipedia-1.4.0\n"
     ]
    }
   ],
   "source": [
    "!pip install transformers\n",
    "!pip install googletrans==3.1.0a0\n",
    "!pip install wikipedia"
   ]
  },
  {
   "cell_type": "code",
   "execution_count": null,
   "metadata": {
    "id": "WBE2aPuxEwpj"
   },
   "outputs": [],
   "source": [
    "from transformers import pipeline"
   ]
  },
  {
   "cell_type": "code",
   "execution_count": null,
   "metadata": {
    "id": "kFm_Ps_kF8G6"
   },
   "outputs": [],
   "source": [
    "from googletrans import Translator\n",
    "\n",
    "translator = Translator()\n",
    "\n",
    "# funciones para traduccion rapida del ingles al español y del español al ingles\n",
    "def es2en(frase):\n",
    "  translated_obj = translator.translate(frase, src='spanish', dest='en')\n",
    "  return translated_obj.text\n",
    "\n",
    "def en2es(frase):\n",
    "  translated_obj = translator.translate(frase, src='en', dest='spanish')\n",
    "  return translated_obj.text\n"
   ]
  },
  {
   "cell_type": "code",
   "execution_count": null,
   "metadata": {
    "colab": {
     "base_uri": "https://localhost:8080/"
    },
    "executionInfo": {
     "elapsed": 710,
     "status": "ok",
     "timestamp": 1616324058760,
     "user": {
      "displayName": "diego bonilla",
      "photoUrl": "https://lh3.googleusercontent.com/a-/AOh14Ggnj6cKoH9HJ21WVsa6SOo7pVmwY16sH8qoaIYxCg=s64",
      "userId": "06249139234049821416"
     },
     "user_tz": -60
    },
    "id": "RQEvOumrHFdn",
    "outputId": "4aea8639-8ef9-4069-96d7-7edd4fa58208"
   },
   "outputs": [
    {
     "name": "stdout",
     "output_type": "stream",
     "text": [
      "I don't think the melon can take a hammer blow\n",
      "No puedo conducir una motocicleta sin casco\n"
     ]
    }
   ],
   "source": [
    "print(es2en(\"No creo que el melon aguante un martillazo\"))\n",
    "print(en2es(\"I can't drive a motorcycle without a helmet\"))"
   ]
  },
  {
   "cell_type": "markdown",
   "metadata": {
    "id": "Htba0O6QFLAw"
   },
   "source": [
    "## Analisis Sentimental"
   ]
  },
  {
   "cell_type": "code",
   "execution_count": null,
   "metadata": {
    "id": "WmGUAm_lFRQ4"
   },
   "outputs": [],
   "source": [
    "# crear pipeline para clasificacion sentimental\n",
    "# automaticamente crea el modelo y carga los pesos, en este caso usando la arquitectura \"BERT\"\n",
    "classifier = pipeline('sentiment-analysis')"
   ]
  },
  {
   "cell_type": "code",
   "execution_count": null,
   "metadata": {
    "id": "qhxASC80Fqqz"
   },
   "outputs": [],
   "source": [
    "# clasificamos una review negativa (real de amazon)\n",
    "classifier(es2en('El único defecto que veo es que los agujeros de PCB para los separadores de placa o los elevadores son demasiado pequeños. Todos los elevadores de latón y plástico que tengo no encajan.'))"
   ]
  },
  {
   "cell_type": "code",
   "execution_count": null,
   "metadata": {
    "id": "nD8bgm4PJ5Cm"
   },
   "outputs": [],
   "source": [
    "# lo mismo para una positiva\n",
    "classifier(es2en('Muy bonito, bien empaquetado y una máquina de gran alcance.'))"
   ]
  },
  {
   "cell_type": "code",
   "execution_count": null,
   "metadata": {
    "id": "1MMu46SdK0FP"
   },
   "outputs": [],
   "source": [
    "# extremadamente facil abusar del algoritmo\n",
    "print(classifier(es2en('Me parece perfecto que nunca cojan la llamada')))\n",
    "print(classifier(es2en('Odio a la gente que no le guste esta pelicula perfecta')))\n",
    "print(classifier(es2en('No. Te quiero.')))\n",
    "print(classifier(es2en('No. Te quiero mucho.')))\n",
    "print(classifier(es2en('Hola')))"
   ]
  },
  {
   "cell_type": "markdown",
   "metadata": {
    "id": "G1Pn5P0sNDoR"
   },
   "source": [
    "## Resumen de Texto"
   ]
  },
  {
   "cell_type": "code",
   "execution_count": null,
   "metadata": {
    "id": "sJHtB2UWNVEi"
   },
   "outputs": [],
   "source": [
    "# cargamos el modelo, en este caso \"BART\"\n",
    "summarizer = pipeline(\"summarization\")"
   ]
  },
  {
   "cell_type": "code",
   "execution_count": null,
   "metadata": {
    "id": "v2cwBTuTN5RK"
   },
   "outputs": [],
   "source": [
    "import wikipedia\n",
    "\n",
    "# sacamos algun texto de wikipedia\n",
    "p = wikipedia.page(\"christianity\")\n",
    "print(p.title)\n",
    "content = p.content.split('\\n\\n')[0]\n",
    "print(en2es(content))"
   ]
  },
  {
   "cell_type": "code",
   "execution_count": null,
   "metadata": {
    "id": "vAgO0ERFOnzA"
   },
   "outputs": [],
   "source": [
    "# se lo pasamos al modelo con un par de parametros de control de salida\n",
    "res = summarizer(content, max_length=130, min_length=30, do_sample=False)\n",
    "print(en2es(res[0]['summary_text']))"
   ]
  },
  {
   "cell_type": "markdown",
   "metadata": {
    "id": "jxC9To2L8_9n"
   },
   "source": [
    "## Comprension Lectora"
   ]
  },
  {
   "cell_type": "code",
   "execution_count": null,
   "metadata": {
    "id": "p3y_Fdp89GqD"
   },
   "outputs": [],
   "source": [
    "# carga automaticamente el modelo \"SQuAD\"\n",
    "nlp = pipeline(\"question-answering\")"
   ]
  },
  {
   "cell_type": "code",
   "execution_count": null,
   "metadata": {
    "id": "kAaFFA3P9SpM"
   },
   "outputs": [],
   "source": [
    "question = es2en(\"Donde nacio pablo neruda?\")\n",
    "result = nlp(question=question, context=content)\n",
    "print(en2es(result['answer']))"
   ]
  },
  {
   "cell_type": "markdown",
   "metadata": {
    "id": "8F8IrM2z92OR"
   },
   "source": [
    "## Escritura automatica"
   ]
  },
  {
   "cell_type": "code",
   "execution_count": null,
   "metadata": {
    "id": "XbkuibSk96ns"
   },
   "outputs": [],
   "source": [
    "# se carga el modelo \"GPT-2\"\n",
    "text_generator = pipeline(\"text-generation\")"
   ]
  },
  {
   "cell_type": "code",
   "execution_count": null,
   "metadata": {
    "id": "K4TFtTmQ-Fmk"
   },
   "outputs": [],
   "source": [
    "result = text_generator(es2en(\"Escribir es una tarea bastante compleja para una maquina\"), max_length=100, do_sample=False)\n",
    "print(en2es(result['generated_text']))"
   ]
  }
 ],
 "metadata": {
  "colab": {
   "authorship_tag": "ABX9TyNoEMcW22dSRmkleM8JrNEj",
   "collapsed_sections": [],
   "name": "HuggingFace_simpledemos.ipynb",
   "provenance": [],
   "toc_visible": true
  },
  "kernelspec": {
   "display_name": "Python 3",
   "language": "python",
   "name": "python3"
  },
  "language_info": {
   "codemirror_mode": {
    "name": "ipython",
    "version": 3
   },
   "file_extension": ".py",
   "mimetype": "text/x-python",
   "name": "python",
   "nbconvert_exporter": "python",
   "pygments_lexer": "ipython3",
   "version": "3.8.8"
  }
 },
 "nbformat": 4,
 "nbformat_minor": 1
}
