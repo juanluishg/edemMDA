{
 "cells": [
  {
   "cell_type": "markdown",
   "metadata": {
    "id": "VSrYncDxHVoT"
   },
   "source": [
    "# Univariate Time Series\n",
    "# **Multilayer Perceptron (MLP)**\n",
    "Sequential model\n"
   ]
  },
  {
   "cell_type": "markdown",
   "metadata": {
    "id": "Tps9mqfmINSw"
   },
   "source": [
    "# Lets´s import:\n",
    "-**py dependencies**\n",
    "-Our DL framework: **Keras**\n",
    "-Pour DL backend: **Tensorflow**\n",
    "\n"
   ]
  },
  {
   "cell_type": "code",
   "execution_count": 2,
   "metadata": {
    "id": "bJddKhickas0"
   },
   "outputs": [],
   "source": [
    "import numpy as np\n",
    "%matplotlib inline\n",
    "import pandas as pd\n",
    "import matplotlib.pyplot as plt\n",
    "from sklearn.metrics import r2_score\n"
   ]
  },
  {
   "cell_type": "code",
   "execution_count": 3,
   "metadata": {
    "colab": {
     "base_uri": "https://localhost:8080/"
    },
    "id": "sMiw6uFKNVTG",
    "outputId": "c33b2672-ffdc-4a2a-882e-d08535978b62"
   },
   "outputs": [
    {
     "name": "stdout",
     "output_type": "stream",
     "text": [
      "TensorFlow is already loaded. Please restart the runtime to change versions.\n"
     ]
    }
   ],
   "source": [
    "# Welcome to deep learning ;)\n",
    "from keras.models import Sequential\n",
    "from keras.layers import Dense\n",
    "from keras.callbacks import EarlyStopping\n",
    "from keras.optimizers import Adam\n",
    "from keras.layers import LSTM\n",
    "%tensorflow_version 1.x"
   ]
  },
  {
   "cell_type": "code",
   "execution_count": 5,
   "metadata": {
    "id": "CM17BWdTkn1C"
   },
   "outputs": [],
   "source": [
    "df = pd.read_csv(\"/content/vix_2011_2019.csv\")"
   ]
  },
  {
   "cell_type": "code",
   "execution_count": 6,
   "metadata": {
    "colab": {
     "base_uri": "https://localhost:8080/"
    },
    "id": "fXpSuXL2kykR",
    "outputId": "7f17b81a-37eb-4242-db8d-272659311a0c"
   },
   "outputs": [
    {
     "name": "stdout",
     "output_type": "stream",
     "text": [
      "         Date       Open       High        Low      Close  Adj Close  Volume\n",
      "0  2011-01-03  17.940001  17.950001  16.910000  17.610001  17.610001       0\n",
      "1  2011-01-04  17.340000  18.240000  17.330000  17.379999  17.379999       0\n",
      "2  2011-01-05  17.809999  17.950001  16.860001  17.020000  17.020000       0\n",
      "3  2011-01-06  16.799999  17.559999  16.790001  17.400000  17.400000       0\n",
      "4  2011-01-07  17.309999  18.070000  16.570000  17.139999  17.139999       0\n"
     ]
    }
   ],
   "source": [
    "print(df.head())"
   ]
  },
  {
   "cell_type": "markdown",
   "metadata": {
    "id": "HNjBkUA_IlU6"
   },
   "source": [
    "We are going to use an univariate time series model, so we have to remain just the **time series and  target column**"
   ]
  },
  {
   "cell_type": "code",
   "execution_count": 7,
   "metadata": {
    "id": "XcMIJtuEk1fL"
   },
   "outputs": [],
   "source": [
    "df.drop(['Open', 'High', 'Low', 'Close', 'Volume'], axis=1, inplace=True)"
   ]
  },
  {
   "cell_type": "code",
   "execution_count": 8,
   "metadata": {
    "colab": {
     "base_uri": "https://localhost:8080/"
    },
    "id": "wTXyoXxEk4Ip",
    "outputId": "4c1678e3-b9fe-4ac0-88cc-06a34bcdab1d"
   },
   "outputs": [
    {
     "data": {
      "text/plain": [
       "(2068, 2)"
      ]
     },
     "execution_count": 8,
     "metadata": {
      "tags": []
     },
     "output_type": "execute_result"
    }
   ],
   "source": [
    "# Now we check the nuember of rows and columns of our dataset\n",
    "df.shape"
   ]
  },
  {
   "cell_type": "code",
   "execution_count": 9,
   "metadata": {
    "colab": {
     "base_uri": "https://localhost:8080/"
    },
    "id": "mqa8ql0Xk6vx",
    "outputId": "882173c1-a545-4ff3-ea52-31fff2fafc3e"
   },
   "outputs": [
    {
     "name": "stdout",
     "output_type": "stream",
     "text": [
      "<class 'pandas.core.frame.DataFrame'>\n",
      "RangeIndex: 2068 entries, 0 to 2067\n",
      "Data columns (total 2 columns):\n",
      " #   Column     Non-Null Count  Dtype  \n",
      "---  ------     --------------  -----  \n",
      " 0   Date       2068 non-null   object \n",
      " 1   Adj Close  2068 non-null   float64\n",
      "dtypes: float64(1), object(1)\n",
      "memory usage: 32.4+ KB\n"
     ]
    }
   ],
   "source": [
    "df.info()"
   ]
  },
  {
   "cell_type": "markdown",
   "metadata": {
    "id": "HvQUt7TXJAdG"
   },
   "source": [
    "We have to convert our series (object) into **datetime format**"
   ]
  },
  {
   "cell_type": "code",
   "execution_count": 10,
   "metadata": {
    "colab": {
     "base_uri": "https://localhost:8080/"
    },
    "id": "oMEyrbalJMv4",
    "outputId": "d7c5bb55-0f8f-46b6-8fb0-27979b1b51f0"
   },
   "outputs": [
    {
     "name": "stdout",
     "output_type": "stream",
     "text": [
      "Help on function to_datetime in module pandas.core.tools.datetimes:\n",
      "\n",
      "to_datetime(arg:Union[~DatetimeScalar, List, Tuple, ~ArrayLike, _ForwardRef('Series')], errors:str='raise', dayfirst:bool=False, yearfirst:bool=False, utc:Union[bool, NoneType]=None, format:Union[str, NoneType]=None, exact:bool=True, unit:Union[str, NoneType]=None, infer_datetime_format:bool=False, origin='unix', cache:bool=True) -> Union[pandas.core.indexes.datetimes.DatetimeIndex, _ForwardRef('Series'), ~DatetimeScalar, _ForwardRef('NaTType')]\n",
      "    Convert argument to datetime.\n",
      "    \n",
      "    Parameters\n",
      "    ----------\n",
      "    arg : int, float, str, datetime, list, tuple, 1-d array, Series, DataFrame/dict-like\n",
      "        The object to convert to a datetime.\n",
      "    errors : {'ignore', 'raise', 'coerce'}, default 'raise'\n",
      "        - If 'raise', then invalid parsing will raise an exception.\n",
      "        - If 'coerce', then invalid parsing will be set as NaT.\n",
      "        - If 'ignore', then invalid parsing will return the input.\n",
      "    dayfirst : bool, default False\n",
      "        Specify a date parse order if `arg` is str or its list-likes.\n",
      "        If True, parses dates with the day first, eg 10/11/12 is parsed as\n",
      "        2012-11-10.\n",
      "        Warning: dayfirst=True is not strict, but will prefer to parse\n",
      "        with day first (this is a known bug, based on dateutil behavior).\n",
      "    yearfirst : bool, default False\n",
      "        Specify a date parse order if `arg` is str or its list-likes.\n",
      "    \n",
      "        - If True parses dates with the year first, eg 10/11/12 is parsed as\n",
      "          2010-11-12.\n",
      "        - If both dayfirst and yearfirst are True, yearfirst is preceded (same\n",
      "          as dateutil).\n",
      "    \n",
      "        Warning: yearfirst=True is not strict, but will prefer to parse\n",
      "        with year first (this is a known bug, based on dateutil behavior).\n",
      "    utc : bool, default None\n",
      "        Return UTC DatetimeIndex if True (converting any tz-aware\n",
      "        datetime.datetime objects as well).\n",
      "    format : str, default None\n",
      "        The strftime to parse time, eg \"%d/%m/%Y\", note that \"%f\" will parse\n",
      "        all the way up to nanoseconds.\n",
      "        See strftime documentation for more information on choices:\n",
      "        https://docs.python.org/3/library/datetime.html#strftime-and-strptime-behavior.\n",
      "    exact : bool, True by default\n",
      "        Behaves as:\n",
      "        - If True, require an exact format match.\n",
      "        - If False, allow the format to match anywhere in the target string.\n",
      "    \n",
      "    unit : str, default 'ns'\n",
      "        The unit of the arg (D,s,ms,us,ns) denote the unit, which is an\n",
      "        integer or float number. This will be based off the origin.\n",
      "        Example, with unit='ms' and origin='unix' (the default), this\n",
      "        would calculate the number of milliseconds to the unix epoch start.\n",
      "    infer_datetime_format : bool, default False\n",
      "        If True and no `format` is given, attempt to infer the format of the\n",
      "        datetime strings based on the first non-NaN element,\n",
      "        and if it can be inferred, switch to a faster method of parsing them.\n",
      "        In some cases this can increase the parsing speed by ~5-10x.\n",
      "    origin : scalar, default 'unix'\n",
      "        Define the reference date. The numeric values would be parsed as number\n",
      "        of units (defined by `unit`) since this reference date.\n",
      "    \n",
      "        - If 'unix' (or POSIX) time; origin is set to 1970-01-01.\n",
      "        - If 'julian', unit must be 'D', and origin is set to beginning of\n",
      "          Julian Calendar. Julian day number 0 is assigned to the day starting\n",
      "          at noon on January 1, 4713 BC.\n",
      "        - If Timestamp convertible, origin is set to Timestamp identified by\n",
      "          origin.\n",
      "    cache : bool, default True\n",
      "        If True, use a cache of unique, converted dates to apply the datetime\n",
      "        conversion. May produce significant speed-up when parsing duplicate\n",
      "        date strings, especially ones with timezone offsets. The cache is only\n",
      "        used when there are at least 50 values. The presence of out-of-bounds\n",
      "        values will render the cache unusable and may slow down parsing.\n",
      "    \n",
      "        .. versionadded:: 0.23.0\n",
      "    \n",
      "        .. versionchanged:: 0.25.0\n",
      "            - changed default value from False to True.\n",
      "    \n",
      "    Returns\n",
      "    -------\n",
      "    datetime\n",
      "        If parsing succeeded.\n",
      "        Return type depends on input:\n",
      "    \n",
      "        - list-like: DatetimeIndex\n",
      "        - Series: Series of datetime64 dtype\n",
      "        - scalar: Timestamp\n",
      "    \n",
      "        In case when it is not possible to return designated types (e.g. when\n",
      "        any element of input is before Timestamp.min or after Timestamp.max)\n",
      "        return will have datetime.datetime type (or corresponding\n",
      "        array/Series).\n",
      "    \n",
      "    See Also\n",
      "    --------\n",
      "    DataFrame.astype : Cast argument to a specified dtype.\n",
      "    to_timedelta : Convert argument to timedelta.\n",
      "    convert_dtypes : Convert dtypes.\n",
      "    \n",
      "    Examples\n",
      "    --------\n",
      "    Assembling a datetime from multiple columns of a DataFrame. The keys can be\n",
      "    common abbreviations like ['year', 'month', 'day', 'minute', 'second',\n",
      "    'ms', 'us', 'ns']) or plurals of the same\n",
      "    \n",
      "    >>> df = pd.DataFrame({'year': [2015, 2016],\n",
      "    ...                    'month': [2, 3],\n",
      "    ...                    'day': [4, 5]})\n",
      "    >>> pd.to_datetime(df)\n",
      "    0   2015-02-04\n",
      "    1   2016-03-05\n",
      "    dtype: datetime64[ns]\n",
      "    \n",
      "    If a date does not meet the `timestamp limitations\n",
      "    <https://pandas.pydata.org/pandas-docs/stable/user_guide/timeseries.html\n",
      "    #timeseries-timestamp-limits>`_, passing errors='ignore'\n",
      "    will return the original input instead of raising any exception.\n",
      "    \n",
      "    Passing errors='coerce' will force an out-of-bounds date to NaT,\n",
      "    in addition to forcing non-dates (or non-parseable dates) to NaT.\n",
      "    \n",
      "    >>> pd.to_datetime('13000101', format='%Y%m%d', errors='ignore')\n",
      "    datetime.datetime(1300, 1, 1, 0, 0)\n",
      "    >>> pd.to_datetime('13000101', format='%Y%m%d', errors='coerce')\n",
      "    NaT\n",
      "    \n",
      "    Passing infer_datetime_format=True can often-times speedup a parsing\n",
      "    if its not an ISO8601 format exactly, but in a regular format.\n",
      "    \n",
      "    >>> s = pd.Series(['3/11/2000', '3/12/2000', '3/13/2000'] * 1000)\n",
      "    >>> s.head()\n",
      "    0    3/11/2000\n",
      "    1    3/12/2000\n",
      "    2    3/13/2000\n",
      "    3    3/11/2000\n",
      "    4    3/12/2000\n",
      "    dtype: object\n",
      "    \n",
      "    >>> %timeit pd.to_datetime(s, infer_datetime_format=True)  # doctest: +SKIP\n",
      "    100 loops, best of 3: 10.4 ms per loop\n",
      "    \n",
      "    >>> %timeit pd.to_datetime(s, infer_datetime_format=False)  # doctest: +SKIP\n",
      "    1 loop, best of 3: 471 ms per loop\n",
      "    \n",
      "    Using a unix epoch time\n",
      "    \n",
      "    >>> pd.to_datetime(1490195805, unit='s')\n",
      "    Timestamp('2017-03-22 15:16:45')\n",
      "    >>> pd.to_datetime(1490195805433502912, unit='ns')\n",
      "    Timestamp('2017-03-22 15:16:45.433502912')\n",
      "    \n",
      "    .. warning:: For float arg, precision rounding might happen. To prevent\n",
      "        unexpected behavior use a fixed-width exact type.\n",
      "    \n",
      "    Using a non-unix epoch origin\n",
      "    \n",
      "    >>> pd.to_datetime([1, 2, 3], unit='D',\n",
      "    ...                origin=pd.Timestamp('1960-01-01'))\n",
      "    DatetimeIndex(['1960-01-02', '1960-01-03', '1960-01-04'], dtype='datetime64[ns]', freq=None)\n",
      "\n"
     ]
    }
   ],
   "source": [
    "help(pd.to_datetime)"
   ]
  },
  {
   "cell_type": "code",
   "execution_count": 11,
   "metadata": {
    "id": "_9kM2gGWk9JB"
   },
   "outputs": [],
   "source": [
    "df['Date'] = pd.to_datetime(df['Date'])"
   ]
  },
  {
   "cell_type": "markdown",
   "metadata": {
    "id": "8mlddM5iKAXZ"
   },
   "source": [
    "And we have to indicate that the time series will be the **index** of our dataframe"
   ]
  },
  {
   "cell_type": "code",
   "execution_count": 12,
   "metadata": {
    "id": "BVhafMNxk_pv"
   },
   "outputs": [],
   "source": [
    "df = df.set_index(['Date'], drop=True)"
   ]
  },
  {
   "cell_type": "code",
   "execution_count": 13,
   "metadata": {
    "colab": {
     "base_uri": "https://localhost:8080/",
     "height": 390
    },
    "id": "piKn74eYlDGt",
    "outputId": "3464e498-9cea-4c39-a0af-04d65797d0e6"
   },
   "outputs": [
    {
     "data": {
      "text/html": [
       "<div>\n",
       "<style scoped>\n",
       "    .dataframe tbody tr th:only-of-type {\n",
       "        vertical-align: middle;\n",
       "    }\n",
       "\n",
       "    .dataframe tbody tr th {\n",
       "        vertical-align: top;\n",
       "    }\n",
       "\n",
       "    .dataframe thead th {\n",
       "        text-align: right;\n",
       "    }\n",
       "</style>\n",
       "<table border=\"1\" class=\"dataframe\">\n",
       "  <thead>\n",
       "    <tr style=\"text-align: right;\">\n",
       "      <th></th>\n",
       "      <th>Adj Close</th>\n",
       "    </tr>\n",
       "    <tr>\n",
       "      <th>Date</th>\n",
       "      <th></th>\n",
       "    </tr>\n",
       "  </thead>\n",
       "  <tbody>\n",
       "    <tr>\n",
       "      <th>2011-01-03</th>\n",
       "      <td>17.610001</td>\n",
       "    </tr>\n",
       "    <tr>\n",
       "      <th>2011-01-04</th>\n",
       "      <td>17.379999</td>\n",
       "    </tr>\n",
       "    <tr>\n",
       "      <th>2011-01-05</th>\n",
       "      <td>17.020000</td>\n",
       "    </tr>\n",
       "    <tr>\n",
       "      <th>2011-01-06</th>\n",
       "      <td>17.400000</td>\n",
       "    </tr>\n",
       "    <tr>\n",
       "      <th>2011-01-07</th>\n",
       "      <td>17.139999</td>\n",
       "    </tr>\n",
       "    <tr>\n",
       "      <th>2011-01-10</th>\n",
       "      <td>17.540001</td>\n",
       "    </tr>\n",
       "    <tr>\n",
       "      <th>2011-01-11</th>\n",
       "      <td>16.889999</td>\n",
       "    </tr>\n",
       "    <tr>\n",
       "      <th>2011-01-12</th>\n",
       "      <td>16.240000</td>\n",
       "    </tr>\n",
       "    <tr>\n",
       "      <th>2011-01-13</th>\n",
       "      <td>16.389999</td>\n",
       "    </tr>\n",
       "    <tr>\n",
       "      <th>2011-01-14</th>\n",
       "      <td>15.460000</td>\n",
       "    </tr>\n",
       "  </tbody>\n",
       "</table>\n",
       "</div>"
      ],
      "text/plain": [
       "            Adj Close\n",
       "Date                 \n",
       "2011-01-03  17.610001\n",
       "2011-01-04  17.379999\n",
       "2011-01-05  17.020000\n",
       "2011-01-06  17.400000\n",
       "2011-01-07  17.139999\n",
       "2011-01-10  17.540001\n",
       "2011-01-11  16.889999\n",
       "2011-01-12  16.240000\n",
       "2011-01-13  16.389999\n",
       "2011-01-14  15.460000"
      ]
     },
     "execution_count": 13,
     "metadata": {
      "tags": []
     },
     "output_type": "execute_result"
    }
   ],
   "source": [
    "# and we check again the structure of our dataset\n",
    "df.head(10)"
   ]
  },
  {
   "cell_type": "markdown",
   "metadata": {
    "id": "6jBOqdDBNswZ"
   },
   "source": [
    "Now, let´s plot our **time series data**"
   ]
  },
  {
   "cell_type": "code",
   "execution_count": 14,
   "metadata": {
    "colab": {
     "base_uri": "https://localhost:8080/",
     "height": 367
    },
    "id": "Vn3HgShglH0_",
    "outputId": "8edd0882-f4f8-445e-c79e-305f86d02625"
   },
   "outputs": [
    {
     "data": {
      "image/png": "[encoded data removed]",
      "text/plain": [
       "<Figure size 720x432 with 1 Axes>"
      ]
     },
     "metadata": {
      "needs_background": "light",
      "tags": []
     },
     "output_type": "display_data"
    }
   ],
   "source": [
    "# df = df.sort_index()\n",
    "plt.figure(figsize=(10, 6))\n",
    "df['Adj Close'].plot();"
   ]
  },
  {
   "cell_type": "markdown",
   "metadata": {
    "id": "MKvIEUhzON8d"
   },
   "source": [
    "# Let´s split train and test.\n",
    "We will take 2018/01/01 as timestamp to split, due that we are working with time series\n",
    "\n",
    "\n",
    "\n",
    "\n",
    "\n",
    "\n",
    "\n"
   ]
  },
  {
   "cell_type": "code",
   "execution_count": 15,
   "metadata": {
    "id": "eSQMLiJ-lPxB"
   },
   "outputs": [],
   "source": [
    "split_date = pd.Timestamp('2018-01-01')"
   ]
  },
  {
   "cell_type": "code",
   "execution_count": 16,
   "metadata": {
    "colab": {
     "base_uri": "https://localhost:8080/",
     "height": 367
    },
    "id": "5poal9CDlVCQ",
    "outputId": "b04ebbf6-7a31-4fe4-8af2-d30679232ef3"
   },
   "outputs": [
    {
     "data": {
      "image/png": "[encoded data removed]",
      "text/plain": [
       "<Figure size 720x432 with 1 Axes>"
      ]
     },
     "metadata": {
      "needs_background": "light",
      "tags": []
     },
     "output_type": "display_data"
    }
   ],
   "source": [
    "df =  df['Adj Close']\n",
    "train = df.loc[:split_date]\n",
    "test = df.loc[split_date:]\n",
    "plt.figure(figsize=(10, 6))\n",
    "ax = train.plot()\n",
    "test.plot(ax=ax)\n",
    "plt.legend(['train', 'test']);\n"
   ]
  },
  {
   "cell_type": "code",
   "execution_count": 17,
   "metadata": {
    "id": "9XZl6dKYl3PV"
   },
   "outputs": [],
   "source": [
    "# Convert pandas Dataframe to Numpy Array. We need to convert data to array in DL\n",
    "train_numpy = train.values\n",
    "test_numpy = test.values\n"
   ]
  },
  {
   "cell_type": "code",
   "execution_count": 18,
   "metadata": {
    "id": "Bd2H-ipDlZ_D"
   },
   "outputs": [],
   "source": [
    "# Normalize. scale train and test data to [-1, 1]\n",
    "\n",
    "train_sc = train_numpy.reshape(-1,1)\n",
    "test_sc = test_numpy.reshape(-1,1)"
   ]
  },
  {
   "cell_type": "code",
   "execution_count": 19,
   "metadata": {
    "id": "doImz_YNmnFA"
   },
   "outputs": [],
   "source": [
    "X_train = train_sc[:-1]\n",
    "y_train = train_sc[1:]\n",
    "\n",
    "X_test = test_sc[:-1]\n",
    "y_test = test_sc[1:]"
   ]
  },
  {
   "cell_type": "markdown",
   "metadata": {
    "id": "RVyS193pPMl1"
   },
   "source": [
    "# Let´s declare our neural network and fit to train"
   ]
  },
  {
   "cell_type": "markdown",
   "metadata": {
    "id": "ng1LtOJpy5p8"
   },
   "source": [
    "# NN Sequential Fully connected"
   ]
  },
  {
   "cell_type": "code",
   "execution_count": 20,
   "metadata": {
    "colab": {
     "base_uri": "https://localhost:8080/"
    },
    "id": "bXlFvuWwmvVY",
    "outputId": "955024fb-b8cb-4ca5-eab3-26b5611b4456"
   },
   "outputs": [
    {
     "name": "stdout",
     "output_type": "stream",
     "text": [
      "Epoch 1/100\n",
      "1760/1760 [==============================] - 2s 937us/step - loss: 6.0072\n",
      "Epoch 2/100\n",
      "1760/1760 [==============================] - 2s 913us/step - loss: 3.1615\n",
      "Epoch 3/100\n",
      "1760/1760 [==============================] - 2s 879us/step - loss: 3.1476\n",
      "Epoch 4/100\n",
      "1760/1760 [==============================] - 2s 923us/step - loss: 3.1352\n",
      "Epoch 5/100\n",
      "1760/1760 [==============================] - 2s 883us/step - loss: 3.1259\n",
      "Epoch 6/100\n",
      "1760/1760 [==============================] - 2s 913us/step - loss: 3.1192\n",
      "Epoch 7/100\n",
      "1760/1760 [==============================] - 2s 906us/step - loss: 3.1147\n",
      "Epoch 8/100\n",
      "1760/1760 [==============================] - 2s 874us/step - loss: 3.1119\n",
      "Epoch 9/100\n",
      "1760/1760 [==============================] - 2s 882us/step - loss: 3.1103\n",
      "Epoch 10/100\n",
      "1760/1760 [==============================] - 2s 908us/step - loss: 3.1098\n",
      "Epoch 11/100\n",
      "1760/1760 [==============================] - 2s 907us/step - loss: 3.1100\n",
      "Epoch 12/100\n",
      "1760/1760 [==============================] - 2s 901us/step - loss: 3.1108\n",
      "Epoch 13/100\n",
      "1760/1760 [==============================] - 2s 912us/step - loss: 3.1120\n",
      "Epoch 14/100\n",
      "1760/1760 [==============================] - 2s 906us/step - loss: 3.1135\n",
      "Epoch 15/100\n",
      "1760/1760 [==============================] - 2s 951us/step - loss: 3.1151\n",
      "Epoch 16/100\n",
      "1760/1760 [==============================] - 2s 972us/step - loss: 3.1169\n",
      "Epoch 17/100\n",
      "1760/1760 [==============================] - 2s 1ms/step - loss: 3.1187\n",
      "Epoch 18/100\n",
      "1760/1760 [==============================] - 2s 916us/step - loss: 3.1204\n",
      "Epoch 19/100\n",
      "1760/1760 [==============================] - 2s 1ms/step - loss: 3.1222\n",
      "Epoch 20/100\n",
      "1760/1760 [==============================] - 2s 950us/step - loss: 3.1239\n",
      "Epoch 21/100\n",
      "1760/1760 [==============================] - 2s 899us/step - loss: 3.1255\n",
      "Epoch 22/100\n",
      "1760/1760 [==============================] - 2s 934us/step - loss: 3.1270\n",
      "Epoch 23/100\n",
      "1760/1760 [==============================] - 2s 926us/step - loss: 3.1284\n",
      "Epoch 24/100\n",
      "1760/1760 [==============================] - 2s 924us/step - loss: 3.1297\n",
      "Epoch 25/100\n",
      "1760/1760 [==============================] - 2s 905us/step - loss: 3.1309\n",
      "Epoch 26/100\n",
      "1760/1760 [==============================] - 2s 890us/step - loss: 3.1320\n",
      "Epoch 27/100\n",
      "1760/1760 [==============================] - 2s 913us/step - loss: 3.1330\n",
      "Epoch 28/100\n",
      "1760/1760 [==============================] - 2s 929us/step - loss: 3.1339\n",
      "Epoch 29/100\n",
      "1760/1760 [==============================] - 2s 940us/step - loss: 3.1347\n",
      "Epoch 30/100\n",
      "1760/1760 [==============================] - 2s 901us/step - loss: 3.1354\n",
      "Epoch 31/100\n",
      "1760/1760 [==============================] - 2s 915us/step - loss: 3.1360\n",
      "Epoch 32/100\n",
      "1760/1760 [==============================] - 2s 896us/step - loss: 3.1365\n",
      "Epoch 33/100\n",
      "1760/1760 [==============================] - 2s 915us/step - loss: 3.1370\n",
      "Epoch 34/100\n",
      "1760/1760 [==============================] - 2s 916us/step - loss: 3.1374\n",
      "Epoch 35/100\n",
      "1760/1760 [==============================] - 2s 880us/step - loss: 3.1377\n",
      "Epoch 36/100\n",
      "1760/1760 [==============================] - 2s 871us/step - loss: 3.1380\n",
      "Epoch 37/100\n",
      "1760/1760 [==============================] - 2s 893us/step - loss: 3.1381\n",
      "Epoch 38/100\n",
      "1760/1760 [==============================] - 2s 897us/step - loss: 3.1383\n",
      "Epoch 39/100\n",
      "1760/1760 [==============================] - 2s 919us/step - loss: 3.1384\n",
      "Epoch 40/100\n",
      "1760/1760 [==============================] - 2s 875us/step - loss: 3.1384\n",
      "Epoch 41/100\n",
      "1760/1760 [==============================] - 2s 902us/step - loss: 3.1384\n",
      "Epoch 42/100\n",
      "1760/1760 [==============================] - 2s 896us/step - loss: 3.1384\n",
      "Epoch 43/100\n",
      "1760/1760 [==============================] - 2s 892us/step - loss: 3.1383\n",
      "Epoch 44/100\n",
      "1760/1760 [==============================] - 2s 870us/step - loss: 3.1381\n",
      "Epoch 45/100\n",
      "1760/1760 [==============================] - 2s 894us/step - loss: 3.1379\n",
      "Epoch 46/100\n",
      "1760/1760 [==============================] - 2s 878us/step - loss: 3.1377\n",
      "Epoch 47/100\n",
      "1760/1760 [==============================] - 2s 880us/step - loss: 3.1374\n",
      "Epoch 48/100\n",
      "1760/1760 [==============================] - 2s 894us/step - loss: 3.1371\n",
      "Epoch 49/100\n",
      "1760/1760 [==============================] - 2s 901us/step - loss: 3.1366\n",
      "Epoch 50/100\n",
      "1760/1760 [==============================] - 2s 897us/step - loss: 3.1361\n",
      "Epoch 51/100\n",
      "1760/1760 [==============================] - 2s 885us/step - loss: 3.1353\n",
      "Epoch 52/100\n",
      "1760/1760 [==============================] - 2s 894us/step - loss: 3.1351\n",
      "Epoch 53/100\n",
      "1760/1760 [==============================] - 2s 901us/step - loss: 3.1352\n",
      "Epoch 54/100\n",
      "1760/1760 [==============================] - 2s 936us/step - loss: 3.1351\n",
      "Epoch 55/100\n",
      "1760/1760 [==============================] - 2s 909us/step - loss: 3.1356\n",
      "Epoch 56/100\n",
      "1760/1760 [==============================] - 2s 913us/step - loss: 3.1348\n",
      "Epoch 57/100\n",
      "1760/1760 [==============================] - 2s 950us/step - loss: 3.1346\n",
      "Epoch 58/100\n",
      "1760/1760 [==============================] - 2s 948us/step - loss: 3.1342\n",
      "Epoch 59/100\n",
      "1760/1760 [==============================] - 2s 926us/step - loss: 3.1338\n",
      "Epoch 60/100\n",
      "1760/1760 [==============================] - 2s 888us/step - loss: 3.1330\n",
      "Epoch 61/100\n",
      "1760/1760 [==============================] - 2s 905us/step - loss: 3.1332\n",
      "Epoch 62/100\n",
      "1760/1760 [==============================] - 2s 915us/step - loss: 3.1333\n",
      "Epoch 63/100\n",
      "1760/1760 [==============================] - 2s 916us/step - loss: 3.1315\n",
      "Epoch 64/100\n",
      "1760/1760 [==============================] - 2s 900us/step - loss: 3.1305\n",
      "Epoch 65/100\n",
      "1760/1760 [==============================] - 2s 908us/step - loss: 3.1320\n",
      "Epoch 66/100\n",
      "1760/1760 [==============================] - 2s 933us/step - loss: 3.1292\n",
      "Epoch 67/100\n",
      "1760/1760 [==============================] - 2s 934us/step - loss: 3.1316\n",
      "Epoch 68/100\n",
      "1760/1760 [==============================] - 2s 905us/step - loss: 3.1299\n",
      "Epoch 69/100\n",
      "1760/1760 [==============================] - 2s 903us/step - loss: 3.1276\n",
      "Epoch 70/100\n",
      "1760/1760 [==============================] - 2s 888us/step - loss: 3.1261\n",
      "Epoch 71/100\n",
      "1760/1760 [==============================] - 2s 912us/step - loss: 3.1253\n",
      "Epoch 72/100\n",
      "1760/1760 [==============================] - 2s 937us/step - loss: 3.1249\n",
      "Epoch 73/100\n",
      "1760/1760 [==============================] - 2s 892us/step - loss: 3.1239\n",
      "Epoch 74/100\n",
      "1760/1760 [==============================] - 2s 937us/step - loss: 3.1236\n",
      "Epoch 75/100\n",
      "1760/1760 [==============================] - 2s 912us/step - loss: 3.1221\n",
      "Epoch 76/100\n",
      "1760/1760 [==============================] - 2s 888us/step - loss: 3.1209\n",
      "Epoch 77/100\n",
      "1760/1760 [==============================] - 2s 901us/step - loss: 3.1199\n",
      "Epoch 78/100\n",
      "1760/1760 [==============================] - 2s 938us/step - loss: 3.1201\n",
      "Epoch 79/100\n",
      "1760/1760 [==============================] - 2s 906us/step - loss: 3.1181\n",
      "Epoch 80/100\n",
      "1760/1760 [==============================] - 2s 929us/step - loss: 3.1177\n",
      "Epoch 81/100\n",
      "1760/1760 [==============================] - 2s 901us/step - loss: 3.1163\n",
      "Epoch 82/100\n",
      "1760/1760 [==============================] - 2s 882us/step - loss: 3.1158\n",
      "Epoch 83/100\n",
      "1760/1760 [==============================] - 2s 883us/step - loss: 3.1163\n",
      "Epoch 84/100\n",
      "1760/1760 [==============================] - 2s 913us/step - loss: 3.1160\n",
      "Epoch 85/100\n",
      "1760/1760 [==============================] - 2s 887us/step - loss: 3.1144\n",
      "Epoch 86/100\n",
      "1760/1760 [==============================] - 2s 899us/step - loss: 3.1116\n",
      "Epoch 87/100\n",
      "1760/1760 [==============================] - 2s 921us/step - loss: 3.1153\n",
      "Epoch 88/100\n",
      "1760/1760 [==============================] - 2s 901us/step - loss: 3.1146\n",
      "Epoch 89/100\n",
      "1760/1760 [==============================] - 2s 911us/step - loss: 3.1140\n",
      "Epoch 90/100\n",
      "1760/1760 [==============================] - 2s 890us/step - loss: 3.1124\n",
      "Epoch 91/100\n",
      "1760/1760 [==============================] - 2s 906us/step - loss: 3.1094\n",
      "Epoch 92/100\n",
      "1760/1760 [==============================] - 2s 890us/step - loss: 3.1078\n",
      "Epoch 93/100\n",
      "1760/1760 [==============================] - 2s 907us/step - loss: 3.1109\n",
      "Epoch 94/100\n",
      "1760/1760 [==============================] - 2s 930us/step - loss: 3.1085\n",
      "Epoch 95/100\n",
      "1760/1760 [==============================] - 2s 888us/step - loss: 3.1053\n",
      "Epoch 96/100\n",
      "1760/1760 [==============================] - 2s 916us/step - loss: 3.1034\n",
      "Epoch 97/100\n",
      "1760/1760 [==============================] - 2s 898us/step - loss: 3.1041\n",
      "Epoch 98/100\n",
      "1760/1760 [==============================] - 2s 935us/step - loss: 3.1034\n",
      "Epoch 99/100\n",
      "1760/1760 [==============================] - 2s 909us/step - loss: 3.1025\n",
      "Epoch 100/100\n",
      "1760/1760 [==============================] - 2s 897us/step - loss: 3.1015\n"
     ]
    }
   ],
   "source": [
    "nn_model = Sequential()\n",
    "nn_model.add(Dense(12, input_dim=1, activation='relu'))\n",
    "nn_model.add(Dense(1))\n",
    "nn_model.compile(loss='mean_squared_error', optimizer='adam')\n",
    "early_stop = EarlyStopping(monitor='loss', patience=2, verbose=1)\n",
    "history = nn_model.fit(X_train, y_train, epochs=100, batch_size=1, verbose=1, shuffle=False)"
   ]
  },
  {
   "cell_type": "markdown",
   "metadata": {
    "id": "uRgz65gLwgBL"
   },
   "source": [
    "**Congratulations! training complete! ;)**"
   ]
  },
  {
   "cell_type": "markdown",
   "metadata": {
    "id": "1pFM20ijwadg"
   },
   "source": [
    "Let´s check the architecture of our model"
   ]
  },
  {
   "cell_type": "code",
   "execution_count": 21,
   "metadata": {
    "colab": {
     "base_uri": "https://localhost:8080/"
    },
    "id": "90ItJO44RDMm",
    "outputId": "9060b798-00b7-445e-aa08-31f70ba75454"
   },
   "outputs": [
    {
     "name": "stdout",
     "output_type": "stream",
     "text": [
      "Model: \"sequential\"\n",
      "_________________________________________________________________\n",
      "Layer (type)                 Output Shape              Param #   \n",
      "=================================================================\n",
      "dense (Dense)                (None, 12)                24        \n",
      "_________________________________________________________________\n",
      "dense_1 (Dense)              (None, 1)                 13        \n",
      "=================================================================\n",
      "Total params: 37\n",
      "Trainable params: 37\n",
      "Non-trainable params: 0\n",
      "_________________________________________________________________\n"
     ]
    }
   ],
   "source": [
    "# Show model information\n",
    "nn_model.summary()"
   ]
  },
  {
   "cell_type": "markdown",
   "metadata": {
    "id": "Vg47lXmVx-e1"
   },
   "source": [
    "Check the **accuracy** on training and test"
   ]
  },
  {
   "cell_type": "code",
   "execution_count": 23,
   "metadata": {
    "colab": {
     "base_uri": "https://localhost:8080/"
    },
    "id": "lpeMn8oBm44I",
    "outputId": "7dc668ea-f2eb-492d-c42c-cb53ab66ed83"
   },
   "outputs": [
    {
     "name": "stdout",
     "output_type": "stream",
     "text": [
      "The R2 score on the Train set is:\t0.870\n",
      "The R2 score on the Test set is:\t0.769\n"
     ]
    }
   ],
   "source": [
    "y_pred_test_nn = nn_model.predict(X_test)\n",
    "y_train_pred_nn = nn_model.predict(X_train)\n",
    "print(\"The R2 score on the Train set is:\\t{:0.3f}\".format(r2_score(y_train, y_train_pred_nn)))\n",
    "print(\"The R2 score on the Test set is:\\t{:0.3f}\".format(r2_score(y_test, y_pred_test_nn)))"
   ]
  },
  {
   "cell_type": "markdown",
   "metadata": {
    "id": "PtcnDxRdyQ2Z"
   },
   "source": [
    "Now let´s try another type of neural network called LSTM (RNN)"
   ]
  },
  {
   "cell_type": "markdown",
   "metadata": {
    "id": "XZo-Q10lyfQz"
   },
   "source": [
    "First, we need to preprocess the data"
   ]
  },
  {
   "cell_type": "code",
   "execution_count": 25,
   "metadata": {
    "id": "7yechc6tnZLs"
   },
   "outputs": [],
   "source": [
    "train_sc_df = pd.DataFrame(train_sc, columns=['Y'], index=train.index)\n",
    "test_sc_df = pd.DataFrame(test_sc, columns=['Y'], index=test.index)\n",
    "\n",
    "for s in range(1,2):\n",
    "    train_sc_df['X_{}'.format(s)] = train_sc_df['Y'].shift(s)\n",
    "    test_sc_df['X_{}'.format(s)] = test_sc_df['Y'].shift(s)\n",
    "\n",
    "X_train = train_sc_df.dropna().drop('Y', axis=1)\n",
    "y_train = train_sc_df.dropna().drop('X_1', axis=1)\n",
    "\n",
    "X_test = test_sc_df.dropna().drop('Y', axis=1)\n",
    "y_test = test_sc_df.dropna().drop('X_1', axis=1)\n",
    "\n",
    "X_train = X_train.values\n",
    "y_train = y_train.values\n",
    "\n",
    "X_test = X_test.values\n",
    "y_test = y_test.values"
   ]
  },
  {
   "cell_type": "code",
   "execution_count": 26,
   "metadata": {
    "colab": {
     "base_uri": "https://localhost:8080/"
    },
    "id": "7fLLoIZ_ndm9",
    "outputId": "8abf84ea-2463-4a96-8919-d21564a99bda"
   },
   "outputs": [
    {
     "name": "stdout",
     "output_type": "stream",
     "text": [
      "Train shape:  (1760, 1, 1)\n",
      "Test shape:  (306, 1, 1)\n"
     ]
    }
   ],
   "source": [
    "X_train_lmse = X_train.reshape(X_train.shape[0], X_train.shape[1], 1)\n",
    "X_test_lmse = X_test.reshape(X_test.shape[0], X_test.shape[1], 1)\n",
    "\n",
    "print('Train shape: ', X_train_lmse.shape)\n",
    "print('Test shape: ', X_test_lmse.shape)"
   ]
  },
  {
   "cell_type": "markdown",
   "metadata": {
    "id": "M0ra-Am3zCg0"
   },
   "source": [
    "## **LSTM (Long Short Term Memory )**\n",
    "RNN recurrent neural network"
   ]
  },
  {
   "cell_type": "code",
   "execution_count": 27,
   "metadata": {
    "colab": {
     "base_uri": "https://localhost:8080/"
    },
    "id": "n5x4TP1BntC1",
    "outputId": "80e74ebe-c435-4368-cf5b-70f47715e01e"
   },
   "outputs": [
    {
     "name": "stdout",
     "output_type": "stream",
     "text": [
      "Epoch 1/100\n",
      "1760/1760 [==============================] - 3s 1ms/step - loss: 298.7678\n",
      "Epoch 2/100\n",
      "1760/1760 [==============================] - 3s 1ms/step - loss: 3.1387\n",
      "Epoch 3/100\n",
      "1760/1760 [==============================] - 2s 1ms/step - loss: 3.0818\n",
      "Epoch 4/100\n",
      "1760/1760 [==============================] - 2s 1ms/step - loss: 3.0663\n",
      "Epoch 5/100\n",
      "1760/1760 [==============================] - 2s 1ms/step - loss: 3.0665\n",
      "Epoch 6/100\n",
      "1760/1760 [==============================] - 2s 1ms/step - loss: 3.0717\n",
      "Epoch 7/100\n",
      "1760/1760 [==============================] - 3s 1ms/step - loss: 3.0772\n",
      "Epoch 8/100\n",
      "1760/1760 [==============================] - 3s 1ms/step - loss: 3.0817\n",
      "Epoch 9/100\n",
      "1760/1760 [==============================] - 3s 1ms/step - loss: 3.0850\n",
      "Epoch 10/100\n",
      "1760/1760 [==============================] - 3s 1ms/step - loss: 3.0874\n",
      "Epoch 11/100\n",
      "1760/1760 [==============================] - 3s 1ms/step - loss: 3.0893\n",
      "Epoch 12/100\n",
      "1760/1760 [==============================] - 3s 1ms/step - loss: 3.0906\n",
      "Epoch 13/100\n",
      "1760/1760 [==============================] - 3s 1ms/step - loss: 3.0916\n",
      "Epoch 14/100\n",
      "1760/1760 [==============================] - 2s 1ms/step - loss: 3.0923\n",
      "Epoch 15/100\n",
      "1760/1760 [==============================] - 3s 2ms/step - loss: 3.0927\n",
      "Epoch 16/100\n",
      "1760/1760 [==============================] - 3s 2ms/step - loss: 3.0929\n",
      "Epoch 17/100\n",
      "1760/1760 [==============================] - 3s 2ms/step - loss: 3.0930\n",
      "Epoch 18/100\n",
      "1760/1760 [==============================] - 3s 2ms/step - loss: 3.0929\n",
      "Epoch 19/100\n",
      "1760/1760 [==============================] - 3s 2ms/step - loss: 3.0927\n",
      "Epoch 20/100\n",
      "1760/1760 [==============================] - 3s 2ms/step - loss: 3.0925\n",
      "Epoch 21/100\n",
      "1760/1760 [==============================] - 3s 2ms/step - loss: 3.0921\n",
      "Epoch 22/100\n",
      "1760/1760 [==============================] - 3s 2ms/step - loss: 3.0917\n",
      "Epoch 23/100\n",
      "1760/1760 [==============================] - 2s 1ms/step - loss: 3.0913\n",
      "Epoch 24/100\n",
      "1760/1760 [==============================] - 3s 1ms/step - loss: 3.0909\n",
      "Epoch 25/100\n",
      "1760/1760 [==============================] - 2s 1ms/step - loss: 3.0905\n",
      "Epoch 26/100\n",
      "1760/1760 [==============================] - 2s 1ms/step - loss: 3.0900\n",
      "Epoch 27/100\n",
      "1760/1760 [==============================] - 3s 1ms/step - loss: 3.0896\n",
      "Epoch 28/100\n",
      "1760/1760 [==============================] - 3s 1ms/step - loss: 3.0893\n",
      "Epoch 29/100\n",
      "1760/1760 [==============================] - 3s 1ms/step - loss: 3.0889\n",
      "Epoch 30/100\n",
      "1760/1760 [==============================] - 3s 1ms/step - loss: 3.0885\n",
      "Epoch 31/100\n",
      "1760/1760 [==============================] - 3s 1ms/step - loss: 3.0882\n",
      "Epoch 32/100\n",
      "1760/1760 [==============================] - 3s 1ms/step - loss: 3.0879\n",
      "Epoch 33/100\n",
      "1760/1760 [==============================] - 3s 1ms/step - loss: 3.0876\n",
      "Epoch 34/100\n",
      "1760/1760 [==============================] - 3s 2ms/step - loss: 3.0873\n",
      "Epoch 35/100\n",
      "1760/1760 [==============================] - 3s 1ms/step - loss: 3.0870\n",
      "Epoch 36/100\n",
      "1760/1760 [==============================] - 3s 1ms/step - loss: 3.0867\n",
      "Epoch 37/100\n",
      "1760/1760 [==============================] - 3s 2ms/step - loss: 3.0864\n",
      "Epoch 38/100\n",
      "1760/1760 [==============================] - 3s 1ms/step - loss: 3.0862\n",
      "Epoch 39/100\n",
      "1760/1760 [==============================] - 3s 1ms/step - loss: 3.0859\n",
      "Epoch 40/100\n",
      "1760/1760 [==============================] - 3s 2ms/step - loss: 3.0857\n",
      "Epoch 41/100\n",
      "1760/1760 [==============================] - 4s 2ms/step - loss: 3.0855\n",
      "Epoch 42/100\n",
      "1760/1760 [==============================] - 3s 1ms/step - loss: 3.0852\n",
      "Epoch 43/100\n",
      "1760/1760 [==============================] - 3s 1ms/step - loss: 3.0850\n",
      "Epoch 44/100\n",
      "1760/1760 [==============================] - 3s 1ms/step - loss: 3.0848\n",
      "Epoch 45/100\n",
      "1760/1760 [==============================] - 3s 1ms/step - loss: 3.0846\n",
      "Epoch 46/100\n",
      "1760/1760 [==============================] - 3s 1ms/step - loss: 3.0844\n",
      "Epoch 47/100\n",
      "1760/1760 [==============================] - 3s 1ms/step - loss: 3.0842\n",
      "Epoch 48/100\n",
      "1760/1760 [==============================] - 3s 1ms/step - loss: 3.0840\n",
      "Epoch 49/100\n",
      "1760/1760 [==============================] - 3s 1ms/step - loss: 3.0838\n",
      "Epoch 50/100\n",
      "1760/1760 [==============================] - 3s 1ms/step - loss: 3.0837\n",
      "Epoch 51/100\n",
      "1760/1760 [==============================] - 3s 1ms/step - loss: 3.0835\n",
      "Epoch 52/100\n",
      "1760/1760 [==============================] - 3s 1ms/step - loss: 3.0833\n",
      "Epoch 53/100\n",
      "1760/1760 [==============================] - 3s 1ms/step - loss: 3.0832\n",
      "Epoch 54/100\n",
      "1760/1760 [==============================] - 2s 1ms/step - loss: 3.0830\n",
      "Epoch 55/100\n",
      "1760/1760 [==============================] - 3s 1ms/step - loss: 3.0829\n",
      "Epoch 56/100\n",
      "1760/1760 [==============================] - 3s 1ms/step - loss: 3.0827\n",
      "Epoch 57/100\n",
      "1760/1760 [==============================] - 3s 1ms/step - loss: 3.0826\n",
      "Epoch 58/100\n",
      "1760/1760 [==============================] - 3s 1ms/step - loss: 3.0824\n",
      "Epoch 59/100\n",
      "1760/1760 [==============================] - 3s 1ms/step - loss: 3.0823\n",
      "Epoch 60/100\n",
      "1760/1760 [==============================] - 3s 1ms/step - loss: 3.0822\n",
      "Epoch 61/100\n",
      "1760/1760 [==============================] - 3s 1ms/step - loss: 3.0820\n",
      "Epoch 62/100\n",
      "1760/1760 [==============================] - 3s 1ms/step - loss: 3.0819\n",
      "Epoch 63/100\n",
      "1760/1760 [==============================] - 3s 1ms/step - loss: 3.0818\n",
      "Epoch 64/100\n",
      "1760/1760 [==============================] - 3s 1ms/step - loss: 3.0817\n",
      "Epoch 65/100\n",
      "1760/1760 [==============================] - 3s 1ms/step - loss: 3.0816\n",
      "Epoch 66/100\n",
      "1760/1760 [==============================] - 3s 1ms/step - loss: 3.0814\n",
      "Epoch 67/100\n",
      "1760/1760 [==============================] - 3s 1ms/step - loss: 3.0813\n",
      "Epoch 68/100\n",
      "1760/1760 [==============================] - 3s 1ms/step - loss: 3.0812\n",
      "Epoch 69/100\n",
      "1760/1760 [==============================] - 3s 1ms/step - loss: 3.0811\n",
      "Epoch 70/100\n",
      "1760/1760 [==============================] - 3s 1ms/step - loss: 3.0810\n",
      "Epoch 71/100\n",
      "1760/1760 [==============================] - 3s 1ms/step - loss: 3.0809\n",
      "Epoch 72/100\n",
      "1760/1760 [==============================] - 3s 1ms/step - loss: 3.0808\n",
      "Epoch 73/100\n",
      "1760/1760 [==============================] - 3s 1ms/step - loss: 3.0807\n",
      "Epoch 74/100\n",
      "1760/1760 [==============================] - 3s 1ms/step - loss: 3.0807\n",
      "Epoch 75/100\n",
      "1760/1760 [==============================] - 3s 1ms/step - loss: 3.0806\n",
      "Epoch 76/100\n",
      "1760/1760 [==============================] - 3s 1ms/step - loss: 3.0805\n",
      "Epoch 77/100\n",
      "1760/1760 [==============================] - 3s 1ms/step - loss: 3.0804\n",
      "Epoch 78/100\n",
      "1760/1760 [==============================] - 3s 1ms/step - loss: 3.0803\n",
      "Epoch 79/100\n",
      "1760/1760 [==============================] - 3s 2ms/step - loss: 3.0802\n",
      "Epoch 80/100\n",
      "1760/1760 [==============================] - 3s 1ms/step - loss: 3.0802\n",
      "Epoch 81/100\n",
      "1760/1760 [==============================] - 3s 2ms/step - loss: 3.0801\n",
      "Epoch 82/100\n",
      "1760/1760 [==============================] - 3s 1ms/step - loss: 3.0800\n",
      "Epoch 83/100\n",
      "1760/1760 [==============================] - 3s 1ms/step - loss: 3.0799\n",
      "Epoch 84/100\n",
      "1760/1760 [==============================] - 3s 1ms/step - loss: 3.0799\n",
      "Epoch 85/100\n",
      "1760/1760 [==============================] - 3s 1ms/step - loss: 3.0798\n",
      "Epoch 86/100\n",
      "1760/1760 [==============================] - 3s 1ms/step - loss: 3.0797\n",
      "Epoch 87/100\n",
      "1760/1760 [==============================] - 3s 1ms/step - loss: 3.0797\n",
      "Epoch 88/100\n",
      "1760/1760 [==============================] - 3s 1ms/step - loss: 3.0796\n",
      "Epoch 89/100\n",
      "1760/1760 [==============================] - 3s 1ms/step - loss: 3.0796\n",
      "Epoch 90/100\n",
      "1760/1760 [==============================] - 3s 1ms/step - loss: 3.0795\n",
      "Epoch 91/100\n",
      "1760/1760 [==============================] - 2s 1ms/step - loss: 3.0795\n",
      "Epoch 92/100\n",
      "1760/1760 [==============================] - 3s 1ms/step - loss: 3.0794\n",
      "Epoch 93/100\n",
      "1760/1760 [==============================] - 3s 1ms/step - loss: 3.0793\n",
      "Epoch 94/100\n",
      "1760/1760 [==============================] - 3s 1ms/step - loss: 3.0793\n",
      "Epoch 95/100\n",
      "1760/1760 [==============================] - 3s 1ms/step - loss: 3.0792\n",
      "Epoch 96/100\n",
      "1760/1760 [==============================] - 3s 1ms/step - loss: 3.0792\n",
      "Epoch 97/100\n",
      "1760/1760 [==============================] - 3s 1ms/step - loss: 3.0792\n",
      "Epoch 98/100\n",
      "1760/1760 [==============================] - 3s 1ms/step - loss: 3.0791\n",
      "Epoch 99/100\n",
      "1760/1760 [==============================] - 3s 1ms/step - loss: 3.0791\n",
      "Epoch 100/100\n",
      "1760/1760 [==============================] - 3s 1ms/step - loss: 3.0790\n"
     ]
    }
   ],
   "source": [
    "lstm_model = Sequential()\n",
    "lstm_model.add(LSTM(7, input_shape=(1, X_train_lmse.shape[1]), activation='relu', kernel_initializer='lecun_uniform', return_sequences=False))\n",
    "lstm_model.add(Dense(1))\n",
    "lstm_model.compile(loss='mean_squared_error', optimizer='adam')\n",
    "early_stop = EarlyStopping(monitor='loss', patience=2, verbose=1)\n",
    "history_lstm_model = lstm_model.fit(X_train_lmse, y_train, epochs=100, batch_size=1, verbose=1, shuffle=False)"
   ]
  },
  {
   "cell_type": "code",
   "execution_count": 28,
   "metadata": {
    "colab": {
     "base_uri": "https://localhost:8080/"
    },
    "id": "Ff5yP43izT1g",
    "outputId": "8ef54749-6a63-4a93-c9a8-f723f1cd02b0"
   },
   "outputs": [
    {
     "name": "stdout",
     "output_type": "stream",
     "text": [
      "Model: \"sequential_1\"\n",
      "_________________________________________________________________\n",
      "Layer (type)                 Output Shape              Param #   \n",
      "=================================================================\n",
      "lstm (LSTM)                  (None, 7)                 252       \n",
      "_________________________________________________________________\n",
      "dense_2 (Dense)              (None, 1)                 8         \n",
      "=================================================================\n",
      "Total params: 260\n",
      "Trainable params: 260\n",
      "Non-trainable params: 0\n",
      "_________________________________________________________________\n"
     ]
    }
   ],
   "source": [
    "# Show model information\n",
    "lstm_model.summary()"
   ]
  },
  {
   "cell_type": "markdown",
   "metadata": {
    "id": "OZwJQBGazlV1"
   },
   "source": [
    "And check the new **accuracy**"
   ]
  },
  {
   "cell_type": "code",
   "execution_count": 29,
   "metadata": {
    "colab": {
     "base_uri": "https://localhost:8080/"
    },
    "id": "-8X9V2dkn8D0",
    "outputId": "c35755ba-04d4-42da-c7a2-5985591dea80"
   },
   "outputs": [
    {
     "name": "stdout",
     "output_type": "stream",
     "text": [
      "The R2 score on the Train set is:\t0.909\n",
      "The R2 score on the Test set is:\t0.809\n"
     ]
    }
   ],
   "source": [
    "y_pred_test_lstm = lstm_model.predict(X_test_lmse)\n",
    "y_train_pred_lstm = lstm_model.predict(X_train_lmse)\n",
    "print(\"The R2 score on the Train set is:\\t{:0.3f}\".format(r2_score(y_train, y_train_pred_lstm)))\n",
    "print(\"The R2 score on the Test set is:\\t{:0.3f}\".format(r2_score(y_test, y_pred_test_lstm)))"
   ]
  },
  {
   "cell_type": "code",
   "execution_count": 30,
   "metadata": {
    "colab": {
     "base_uri": "https://localhost:8080/"
    },
    "id": "lx8ELJWFoHIq",
    "outputId": "2ada7d9c-71c2-4003-c699-5e2dfbbc86a3"
   },
   "outputs": [
    {
     "name": "stdout",
     "output_type": "stream",
     "text": [
      "306/306 [==============================] - 0s 737us/step - loss: 5.1629\n",
      "306/306 [==============================] - 0s 974us/step - loss: 4.2628\n",
      "NN: 5.162869\n",
      "LSTM: 4.262797\n"
     ]
    }
   ],
   "source": [
    "nn_test_mse = nn_model.evaluate(X_test, y_test, batch_size=1)\n",
    "lstm_test_mse = lstm_model.evaluate(X_test_lmse, y_test, batch_size=1)\n",
    "print('NN: %f'%nn_test_mse)\n",
    "print('LSTM: %f'%lstm_test_mse)"
   ]
  },
  {
   "cell_type": "code",
   "execution_count": 31,
   "metadata": {
    "id": "KEaLGCIWoK9s"
   },
   "outputs": [],
   "source": [
    "nn_y_pred_test = nn_model.predict(X_test)\n",
    "lstm_y_pred_test = lstm_model.predict(X_test_lmse)"
   ]
  },
  {
   "cell_type": "markdown",
   "metadata": {
    "id": "1fP475zlz6mV"
   },
   "source": [
    "# Now, let´s **plot** our results"
   ]
  },
  {
   "cell_type": "code",
   "execution_count": 32,
   "metadata": {
    "colab": {
     "base_uri": "https://localhost:8080/",
     "height": 404
    },
    "id": "BEXBmlKcoN9E",
    "outputId": "56dd2460-c488-4698-dbdb-8c976b16de70"
   },
   "outputs": [
    {
     "data": {
      "image/png": "[encoded data removed]",
      "text/plain": [
       "<Figure size 720x432 with 1 Axes>"
      ]
     },
     "metadata": {
      "needs_background": "light",
      "tags": []
     },
     "output_type": "display_data"
    }
   ],
   "source": [
    "plt.figure(figsize=(10, 6))\n",
    "plt.plot(y_test, label='True')\n",
    "plt.plot(y_pred_test_nn, label='NN')\n",
    "plt.title(\"NN's Prediction\")\n",
    "plt.xlabel('Observation')\n",
    "plt.ylabel('Adj Close Scaled')\n",
    "plt.legend()\n",
    "plt.show();"
   ]
  },
  {
   "cell_type": "code",
   "execution_count": 33,
   "metadata": {
    "colab": {
     "base_uri": "https://localhost:8080/",
     "height": 404
    },
    "id": "N6BYDKNroSHD",
    "outputId": "6a0230c3-1ea9-4edb-93a1-435494b24a24"
   },
   "outputs": [
    {
     "data": {
      "image/png": "[encoded data removed]",
      "text/plain": [
       "<Figure size 720x432 with 1 Axes>"
      ]
     },
     "metadata": {
      "needs_background": "light",
      "tags": []
     },
     "output_type": "display_data"
    }
   ],
   "source": [
    "plt.figure(figsize=(10, 6))\n",
    "plt.plot(y_test, label='True')\n",
    "plt.plot(y_pred_test_lstm, label='LSTM')\n",
    "plt.title(\"LSTM's Prediction\")\n",
    "plt.xlabel('Observation')\n",
    "plt.ylabel('Adj Close scaled')\n",
    "plt.legend()\n",
    "plt.show();"
   ]
  },
  {
   "cell_type": "markdown",
   "metadata": {
    "id": "XUWOcezs0Jlx"
   },
   "source": [
    "# **WELCOME TO THE DEEP LEARNING WORLD** ;)"
   ]
  }
 ],
 "metadata": {
  "colab": {
   "collapsed_sections": [],
   "name": "MLP & LSTM_time_series.ipynb",
   "provenance": []
  },
  "kernelspec": {
   "display_name": "Python 3",
   "language": "python",
   "name": "python3"
  },
  "language_info": {
   "codemirror_mode": {
    "name": "ipython",
    "version": 3
   },
   "file_extension": ".py",
   "mimetype": "text/x-python",
   "name": "python",
   "nbconvert_exporter": "python",
   "pygments_lexer": "ipython3",
   "version": "3.9.1"
  }
 },
 "nbformat": 4,
 "nbformat_minor": 1
}
