{
 "cells": [
  {
   "cell_type": "markdown",
   "metadata": {},
   "source": [
    "# Predicción de demanda en vuelos a futuro. Comparativa final"
   ]
  },
  {
   "cell_type": "code",
   "execution_count": 39,
   "metadata": {
    "collapsed": true
   },
   "outputs": [],
   "source": [
    "# Load Libraries\n",
    "%matplotlib inline\n",
    "import numpy as np\n",
    "from scipy import stats\n",
    "import pandas as pd \n",
    "import multiprocessing\n",
    "import random\n",
    "import math\n",
    "\n",
    "\n",
    "\n",
    "from sklearn.preprocessing import scale\n",
    "from sklearn.preprocessing import OneHotEncoder\n",
    "import timeit"
   ]
  },
  {
   "cell_type": "markdown",
   "metadata": {},
   "source": [
    "## Dataset"
   ]
  },
  {
   "cell_type": "markdown",
   "metadata": {},
   "source": [
    "Leamos el dataset a utilizar."
   ]
  },
  {
   "cell_type": "code",
   "execution_count": 2,
   "metadata": {},
   "outputs": [
    {
     "data": {
      "text/plain": [
       "(943794, 24)"
      ]
     },
     "execution_count": 2,
     "metadata": {},
     "output_type": "execute_result"
    }
   ],
   "source": [
    "# Load the dataset \n",
    "datos = pd.read_csv(\"./datasets/datos_pred_demanda.csv\", sep=';', decimal=',')\n",
    "datos.shape"
   ]
  },
  {
   "cell_type": "markdown",
   "metadata": {},
   "source": [
    "El dataset consta de:\n",
    "\n",
    "- 943794 **filas** o instancias\n",
    "- 24 **columnas** o variables.\n",
    "\n",
    "Veamos su contenido."
   ]
  },
  {
   "cell_type": "code",
   "execution_count": 3,
   "metadata": {},
   "outputs": [
    {
     "data": {
      "text/html": [
       "<div>\n",
       "<style>\n",
       "    .dataframe thead tr:only-child th {\n",
       "        text-align: right;\n",
       "    }\n",
       "\n",
       "    .dataframe thead th {\n",
       "        text-align: left;\n",
       "    }\n",
       "\n",
       "    .dataframe tbody tr th {\n",
       "        vertical-align: top;\n",
       "    }\n",
       "</style>\n",
       "<table border=\"1\" class=\"dataframe\">\n",
       "  <thead>\n",
       "    <tr style=\"text-align: right;\">\n",
       "      <th></th>\n",
       "      <th>ant</th>\n",
       "      <th>ruta</th>\n",
       "      <th>aeropuerto_origen</th>\n",
       "      <th>aeropuerto_destino</th>\n",
       "      <th>fecha_salida</th>\n",
       "      <th>num_vuelo_operador</th>\n",
       "      <th>month</th>\n",
       "      <th>weekday</th>\n",
       "      <th>timezone</th>\n",
       "      <th>year</th>\n",
       "      <th>...</th>\n",
       "      <th>second</th>\n",
       "      <th>first_ratio</th>\n",
       "      <th>second_ratio</th>\n",
       "      <th>hit</th>\n",
       "      <th>first_weight</th>\n",
       "      <th>second_weight</th>\n",
       "      <th>global_first_ratio</th>\n",
       "      <th>global_second_ratio</th>\n",
       "      <th>first_p</th>\n",
       "      <th>second_p</th>\n",
       "    </tr>\n",
       "  </thead>\n",
       "  <tbody>\n",
       "    <tr>\n",
       "      <th>0</th>\n",
       "      <td>11</td>\n",
       "      <td>ACEMAD</td>\n",
       "      <td>ACE</td>\n",
       "      <td>MAD</td>\n",
       "      <td>2017-02-02</td>\n",
       "      <td>3857</td>\n",
       "      <td>2</td>\n",
       "      <td>Thursday</td>\n",
       "      <td>Mediodia</td>\n",
       "      <td>2017</td>\n",
       "      <td>...</td>\n",
       "      <td>UX</td>\n",
       "      <td>3.140340</td>\n",
       "      <td>0.000000</td>\n",
       "      <td>2</td>\n",
       "      <td>0.0</td>\n",
       "      <td>0.0</td>\n",
       "      <td>2.520623</td>\n",
       "      <td>0.000000</td>\n",
       "      <td>0.623683</td>\n",
       "      <td>0.000000</td>\n",
       "    </tr>\n",
       "    <tr>\n",
       "      <th>1</th>\n",
       "      <td>11</td>\n",
       "      <td>ACEMAD</td>\n",
       "      <td>ACE</td>\n",
       "      <td>MAD</td>\n",
       "      <td>2017-02-03</td>\n",
       "      <td>3857</td>\n",
       "      <td>2</td>\n",
       "      <td>Friday</td>\n",
       "      <td>Mediodia</td>\n",
       "      <td>2017</td>\n",
       "      <td>...</td>\n",
       "      <td>UX</td>\n",
       "      <td>3.610000</td>\n",
       "      <td>0.000000</td>\n",
       "      <td>2</td>\n",
       "      <td>0.0</td>\n",
       "      <td>0.0</td>\n",
       "      <td>2.210075</td>\n",
       "      <td>0.000000</td>\n",
       "      <td>0.846071</td>\n",
       "      <td>0.000000</td>\n",
       "    </tr>\n",
       "    <tr>\n",
       "      <th>2</th>\n",
       "      <td>11</td>\n",
       "      <td>ACEMAD</td>\n",
       "      <td>ACE</td>\n",
       "      <td>MAD</td>\n",
       "      <td>2017-02-04</td>\n",
       "      <td>3857</td>\n",
       "      <td>2</td>\n",
       "      <td>Saturday</td>\n",
       "      <td>Mediodia</td>\n",
       "      <td>2017</td>\n",
       "      <td>...</td>\n",
       "      <td>UX</td>\n",
       "      <td>0.000000</td>\n",
       "      <td>3.252252</td>\n",
       "      <td>1</td>\n",
       "      <td>0.0</td>\n",
       "      <td>1.0</td>\n",
       "      <td>0.000000</td>\n",
       "      <td>1.595346</td>\n",
       "      <td>0.000000</td>\n",
       "      <td>0.981601</td>\n",
       "    </tr>\n",
       "    <tr>\n",
       "      <th>3</th>\n",
       "      <td>11</td>\n",
       "      <td>ACEMAD</td>\n",
       "      <td>ACE</td>\n",
       "      <td>MAD</td>\n",
       "      <td>2017-02-05</td>\n",
       "      <td>3857</td>\n",
       "      <td>2</td>\n",
       "      <td>Sunday</td>\n",
       "      <td>Mediodia</td>\n",
       "      <td>2017</td>\n",
       "      <td>...</td>\n",
       "      <td>UX</td>\n",
       "      <td>3.094286</td>\n",
       "      <td>3.252252</td>\n",
       "      <td>2</td>\n",
       "      <td>0.0</td>\n",
       "      <td>1.0</td>\n",
       "      <td>0.000000</td>\n",
       "      <td>1.485467</td>\n",
       "      <td>0.658558</td>\n",
       "      <td>0.955942</td>\n",
       "    </tr>\n",
       "    <tr>\n",
       "      <th>4</th>\n",
       "      <td>11</td>\n",
       "      <td>ACEMAD</td>\n",
       "      <td>ACE</td>\n",
       "      <td>MAD</td>\n",
       "      <td>2017-02-06</td>\n",
       "      <td>3857</td>\n",
       "      <td>2</td>\n",
       "      <td>Monday</td>\n",
       "      <td>Mediodia</td>\n",
       "      <td>2017</td>\n",
       "      <td>...</td>\n",
       "      <td>UX</td>\n",
       "      <td>2.022857</td>\n",
       "      <td>0.000000</td>\n",
       "      <td>2</td>\n",
       "      <td>0.0</td>\n",
       "      <td>0.0</td>\n",
       "      <td>2.648854</td>\n",
       "      <td>0.000000</td>\n",
       "      <td>0.387667</td>\n",
       "      <td>0.000000</td>\n",
       "    </tr>\n",
       "  </tbody>\n",
       "</table>\n",
       "<p>5 rows × 24 columns</p>\n",
       "</div>"
      ],
      "text/plain": [
       "   ant    ruta aeropuerto_origen aeropuerto_destino fecha_salida  \\\n",
       "0   11  ACEMAD               ACE                MAD   2017-02-02   \n",
       "1   11  ACEMAD               ACE                MAD   2017-02-03   \n",
       "2   11  ACEMAD               ACE                MAD   2017-02-04   \n",
       "3   11  ACEMAD               ACE                MAD   2017-02-05   \n",
       "4   11  ACEMAD               ACE                MAD   2017-02-06   \n",
       "\n",
       "   num_vuelo_operador  month   weekday  timezone  year    ...     second  \\\n",
       "0                3857      2  Thursday  Mediodia  2017    ...         UX   \n",
       "1                3857      2    Friday  Mediodia  2017    ...         UX   \n",
       "2                3857      2  Saturday  Mediodia  2017    ...         UX   \n",
       "3                3857      2    Sunday  Mediodia  2017    ...         UX   \n",
       "4                3857      2    Monday  Mediodia  2017    ...         UX   \n",
       "\n",
       "   first_ratio second_ratio hit first_weight  second_weight  \\\n",
       "0     3.140340     0.000000   2          0.0            0.0   \n",
       "1     3.610000     0.000000   2          0.0            0.0   \n",
       "2     0.000000     3.252252   1          0.0            1.0   \n",
       "3     3.094286     3.252252   2          0.0            1.0   \n",
       "4     2.022857     0.000000   2          0.0            0.0   \n",
       "\n",
       "   global_first_ratio  global_second_ratio   first_p  second_p  \n",
       "0            2.520623             0.000000  0.623683  0.000000  \n",
       "1            2.210075             0.000000  0.846071  0.000000  \n",
       "2            0.000000             1.595346  0.000000  0.981601  \n",
       "3            0.000000             1.485467  0.658558  0.955942  \n",
       "4            2.648854             0.000000  0.387667  0.000000  \n",
       "\n",
       "[5 rows x 24 columns]"
      ]
     },
     "execution_count": 3,
     "metadata": {},
     "output_type": "execute_result"
    }
   ],
   "source": [
    "datos.head()"
   ]
  },
  {
   "cell_type": "markdown",
   "metadata": {},
   "source": [
    "- **ant**: antelación hasta el vuelo.\n",
    "\n",
    "- **ruta**: trayecto de ida y vuelta ordenado alfabéticamente.\n",
    "        \n",
    "- **aeropuerto_origen**: aeropuerto donde despega el avión.\n",
    "\n",
    "- **aeropuerto_destino**: aeropuerto donde aterriza el avión.\n",
    "    \n",
    "- **fecha_salida**: fecha de despegue del avión.\n",
    "    \n",
    "- **num_vuelo_operador**: identificador de número de vuelo.\n",
    "\n",
    "- **month**: mes de vuelo.\n",
    "\n",
    "- **weekday**: día de la semana de vuelo.\n",
    "    \n",
    "- **timezone**: franja horaria de vuelo.\n",
    "    \n",
    "- **year**: año de vuelo.\n",
    "    \n",
    "- **capacidad**: número máximo de pax en cada vuelo, puede variar en cada vuelo.\n",
    "    \n",
    "- **demand**: billetes vendidos en cada vuelo.\n",
    "    \n",
    "- **first**: código del principal competidor de la ruta del vuelo.\n",
    "    \n",
    "- **second**: código del segundo competidor de la ruta del vuelo.\n",
    "    \n",
    "- **first_ratio**: \n",
    "    \n",
    "- **second_ratio**:\n",
    "\n",
    "- **hit**:\n",
    "\n",
    "- **first_weight**: peso de importancia del primer competidor en la ruta del vuelo respecto a I2.\n",
    "\n",
    "- **second_weight**: peso de importancia del segundo competidor en la ruta del vuelo respecto a I2.\n",
    "\n",
    "- **global_first_weight**: \n",
    "\n",
    "- **global_second_weight**: \n",
    "\n",
    "- **first_p**:\n",
    "\n",
    "- **second_p**:\n",
    "\n",
    "De estas variables, fecha de salida la usaremos para realizar la división en train/validacion/test, demand es el target, el número de vuelo se descartará pues es un identificador del vuelo junto con la fecha de salira y las restantes variables serán el input de nuestro modelo."
   ]
  },
  {
   "cell_type": "markdown",
   "metadata": {},
   "source": [
    "Seleccionamos datos de antelacion 11 y una lista de vuelos en concreto para tener un conjunto de datos asequible para esta clase."
   ]
  },
  {
   "cell_type": "code",
   "execution_count": 4,
   "metadata": {
    "collapsed": true
   },
   "outputs": [],
   "source": [
    "# seleccionamos datos de antelacion 11 y una lista de vuelos para tener un conjunto de datos asequible para esta clase\n",
    "# selected_num_vuelo = [3857, 3855, 3853, 3851, 3859, 3753, 3755]\n",
    "# datos = datos.loc[datos ['num_vuelo_operador'].isin(selected_num_vuelo)]\n",
    "datos = datos[datos.ant==11]\n"
   ]
  },
  {
   "cell_type": "code",
   "execution_count": 5,
   "metadata": {},
   "outputs": [
    {
     "data": {
      "text/plain": [
       "(34242, 24)"
      ]
     },
     "execution_count": 5,
     "metadata": {},
     "output_type": "execute_result"
    }
   ],
   "source": [
    "datos.shape"
   ]
  },
  {
   "cell_type": "markdown",
   "metadata": {},
   "source": [
    "El dataset ahora consta de:\n",
    "\n",
    "- 1909 **filas** o instancias\n",
    "- 24 **columnas** o variables."
   ]
  },
  {
   "cell_type": "markdown",
   "metadata": {},
   "source": [
    "## Pre-procesado"
   ]
  },
  {
   "cell_type": "markdown",
   "metadata": {},
   "source": [
    "### Ordenación de datos"
   ]
  },
  {
   "cell_type": "markdown",
   "metadata": {},
   "source": [
    "Vamos a ordenar los datos por fecha salida para cuando escojamos el conjunto de train, validation y test se respete el eje temporal"
   ]
  },
  {
   "cell_type": "code",
   "execution_count": 6,
   "metadata": {
    "collapsed": true
   },
   "outputs": [],
   "source": [
    "datos = datos.sort_values(by=['fecha_salida'], ascending=True)"
   ]
  },
  {
   "cell_type": "markdown",
   "metadata": {},
   "source": [
    "Quitamos las variables que no aportan información al modelo como el num_vuelo_operador"
   ]
  },
  {
   "cell_type": "code",
   "execution_count": 7,
   "metadata": {
    "collapsed": true
   },
   "outputs": [],
   "source": [
    "del datos[\"num_vuelo_operador\"]\n",
    "del datos[\"ant\"]"
   ]
  },
  {
   "cell_type": "markdown",
   "metadata": {},
   "source": [
    "### One-Hot Encoding"
   ]
  },
  {
   "cell_type": "markdown",
   "metadata": {},
   "source": [
    "Utilizaremos la técnica de one-hot encoding.\n",
    "\n",
    "<img src=\"../figures/oh.png\" width=\"50%\">"
   ]
  },
  {
   "cell_type": "markdown",
   "metadata": {},
   "source": [
    "Seleccionemos las variables categóricas en primer lugar."
   ]
  },
  {
   "cell_type": "code",
   "execution_count": 8,
   "metadata": {
    "collapsed": true
   },
   "outputs": [],
   "source": [
    "categorical_vars = ['ruta', 'aeropuerto_origen', 'aeropuerto_destino', 'month', 'weekday', 'year', \n",
    "                    'nombre_blackout', 'first', 'second', 'timezone', 'hit']"
   ]
  },
  {
   "cell_type": "markdown",
   "metadata": {},
   "source": [
    "Seleccionamos las variables numéricas."
   ]
  },
  {
   "cell_type": "code",
   "execution_count": 9,
   "metadata": {
    "collapsed": true
   },
   "outputs": [],
   "source": [
    "numerical_vars = list(set(datos.columns) - set(categorical_vars))"
   ]
  },
  {
   "cell_type": "code",
   "execution_count": 10,
   "metadata": {},
   "outputs": [
    {
     "name": "stdout",
     "output_type": "stream",
     "text": [
      "['ruta', 'aeropuerto_origen', 'aeropuerto_destino', 'month', 'weekday', 'year', 'nombre_blackout', 'first', 'second', 'timezone', 'hit']\n",
      "['second_weight', 'demand', 'capacidad', 'second_p', 'fecha_salida', 'second_ratio', 'first_weight', 'first_ratio', 'first_p', 'global_second_ratio', 'global_first_ratio']\n"
     ]
    }
   ],
   "source": [
    "print(categorical_vars)\n",
    "print(numerical_vars)"
   ]
  },
  {
   "cell_type": "markdown",
   "metadata": {},
   "source": [
    "Realizamos one hot encoding de las variables categoricas"
   ]
  },
  {
   "cell_type": "code",
   "execution_count": 11,
   "metadata": {
    "collapsed": true
   },
   "outputs": [],
   "source": [
    "ohe = OneHotEncoder(sparse = False)\n",
    "ohe_fit = ohe.fit(datos[categorical_vars])\n",
    "X_ohe = pd.DataFrame(ohe.fit_transform(datos[categorical_vars]))\n",
    "X_ohe.columns = pd.DataFrame(ohe_fit.get_feature_names())"
   ]
  },
  {
   "cell_type": "markdown",
   "metadata": {},
   "source": [
    "Volvemos a pegar las variables numéricas."
   ]
  },
  {
   "cell_type": "code",
   "execution_count": 12,
   "metadata": {
    "collapsed": true
   },
   "outputs": [],
   "source": [
    "datos = pd.concat((X_ohe, datos[numerical_vars].reset_index()), axis=1)\n",
    "del datos['index']"
   ]
  },
  {
   "cell_type": "markdown",
   "metadata": {},
   "source": [
    "### Tipificar"
   ]
  },
  {
   "cell_type": "markdown",
   "metadata": {},
   "source": [
    "Ahora vamos a tipificar los datos, es decir, llevarlos a media 0 y desviación estándar 1."
   ]
  },
  {
   "cell_type": "markdown",
   "metadata": {},
   "source": [
    "<img src=\"../figures/tipify.png\" width=\"50%\">"
   ]
  },
  {
   "cell_type": "code",
   "execution_count": 13,
   "metadata": {
    "collapsed": true
   },
   "outputs": [],
   "source": [
    "fecha_salida_values = datos['fecha_salida']\n",
    "y = datos['demand']\n",
    "del datos['fecha_salida']\n",
    "del datos['demand']"
   ]
  },
  {
   "cell_type": "code",
   "execution_count": 14,
   "metadata": {
    "collapsed": true
   },
   "outputs": [],
   "source": [
    "datos_scale = pd.DataFrame(scale(datos))\n",
    "datos_scale.columns = datos.columns\n",
    "\n",
    "datos = datos_scale\n",
    "datos['fecha_salida'] = fecha_salida_values\n",
    "datos['demand'] = y\n"
   ]
  },
  {
   "cell_type": "markdown",
   "metadata": {},
   "source": [
    "### Split en Train/Validación/Test"
   ]
  },
  {
   "cell_type": "markdown",
   "metadata": {},
   "source": [
    "Utilizaremos a modo de ejemplo los ratios habitualmente recomendados:\n",
    "\n",
    "• Train: 70%.\n",
    "\n",
    "• Validación: 15%.\n",
    "\n",
    "• Test: 15%.\n"
   ]
  },
  {
   "cell_type": "code",
   "execution_count": 15,
   "metadata": {
    "collapsed": true
   },
   "outputs": [],
   "source": [
    "perc_values = [0.7, 0.15, 0.15];"
   ]
  },
  {
   "cell_type": "markdown",
   "metadata": {},
   "source": [
    "Selección del patrón de datos X y del target y"
   ]
  },
  {
   "cell_type": "code",
   "execution_count": 16,
   "metadata": {
    "collapsed": true
   },
   "outputs": [],
   "source": [
    "y = datos['demand']\n",
    "X = datos.loc[:, datos.columns != 'demand']"
   ]
  },
  {
   "cell_type": "markdown",
   "metadata": {},
   "source": [
    "Creamos los conjuntos de train, validacion y test con el tamaño seleccionado pero respetando el eje temporal."
   ]
  },
  {
   "cell_type": "code",
   "execution_count": 17,
   "metadata": {
    "collapsed": true
   },
   "outputs": [],
   "source": [
    "# dimensiones de los conjuntos de train y test\n",
    "n_train = int(X.shape[0] * perc_values[0])\n",
    "n_val = int(X.shape[0] * perc_values[1])\n",
    "n_test = int(X.shape[0] * perc_values[2])\n",
    "\n",
    "# selección del conjunto de train\n",
    "X_train = X.iloc[:n_train]\n",
    "y_train = y.iloc[:n_train]\n",
    "\n",
    "# selección del conjunto de validación\n",
    "X_val = X.iloc[(n_train):(n_train+n_val)]\n",
    "y_val = y.iloc[(n_train):(n_train+n_val)]\n",
    "\n",
    "# selección del conjunto de test\n",
    "X_test = X.iloc[(n_train+n_val):]\n",
    "y_test = y.iloc[(n_train+n_val):]"
   ]
  },
  {
   "cell_type": "markdown",
   "metadata": {},
   "source": [
    "Visualizamos el tamaño de los 3 subdatasets"
   ]
  },
  {
   "cell_type": "code",
   "execution_count": 18,
   "metadata": {},
   "outputs": [
    {
     "name": "stdout",
     "output_type": "stream",
     "text": [
      "Train data size = (23969, 73)\n",
      "Train target size = (23969,)\n",
      "Validation data size = (5136, 73)\n",
      "Validation target size = (5136,)\n",
      "Test data size = (5137, 73)\n",
      "Test target size = (5137,)\n"
     ]
    }
   ],
   "source": [
    "print('Train data size = ' + str(X_train.shape))\n",
    "print('Train target size = ' + str(y_train.shape))\n",
    "print('Validation data size = ' + str(X_val.shape))\n",
    "print('Validation target size = ' + str(y_val.shape))\n",
    "print('Test data size = ' + str(X_test.shape))\n",
    "print('Test target size = ' + str(y_test.shape))"
   ]
  },
  {
   "cell_type": "markdown",
   "metadata": {},
   "source": [
    "Visualizamos las fecha de salida de los conjuntos para el set con el eje temporal"
   ]
  },
  {
   "cell_type": "code",
   "execution_count": 19,
   "metadata": {},
   "outputs": [
    {
     "name": "stdout",
     "output_type": "stream",
     "text": [
      "Train min date data = 2017-02-02\n",
      "Train max date data = 2019-05-02\n",
      "Val min date data = 2019-05-03\n",
      "Val max date data = 2019-09-19\n",
      "Test min date data = 2019-09-19\n",
      "Test max date data = 2020-02-18\n"
     ]
    }
   ],
   "source": [
    "# eje temporal de cada conjunto\n",
    "print('Train min date data = ' + np.amin(X_train[\"fecha_salida\"]))\n",
    "print('Train max date data = ' + np.amax(X_train[\"fecha_salida\"]))\n",
    "\n",
    "print('Val min date data = ' + np.amin(X_val[\"fecha_salida\"]))\n",
    "print('Val max date data = ' + np.amax(X_val[\"fecha_salida\"]))\n",
    "\n",
    "print('Test min date data = ' + np.amin(X_test[\"fecha_salida\"]))\n",
    "print('Test max date data = ' + np.amax(X_test[\"fecha_salida\"]))"
   ]
  },
  {
   "cell_type": "markdown",
   "metadata": {},
   "source": [
    "Una vez hechas las comprobaciones borramos la variable fecha_salida ya que no es una variable del modelo."
   ]
  },
  {
   "cell_type": "code",
   "execution_count": 20,
   "metadata": {
    "collapsed": true
   },
   "outputs": [],
   "source": [
    "del X_train['fecha_salida']\n",
    "del X_val['fecha_salida']\n",
    "del X_test['fecha_salida']"
   ]
  },
  {
   "cell_type": "markdown",
   "metadata": {},
   "source": [
    "# Grid Search"
   ]
  },
  {
   "attachments": {
    "imagen.png": {
     "image/png": "[encoded data removed]"
    }
   },
   "cell_type": "markdown",
   "metadata": {},
   "source": [
    "Vamos a proceder a realizar un grid search que compare todos los modelos de regresión que hemos visto, es decir:\n",
    "\n",
    "![imagen.png](attachment:imagen.png)"
   ]
  },
  {
   "cell_type": "markdown",
   "metadata": {},
   "source": [
    "Importamos todos los modelos que vamos a usar. En este caso importamos las librerias para regresión."
   ]
  },
  {
   "cell_type": "code",
   "execution_count": 21,
   "metadata": {
    "collapsed": true,
    "scrolled": true
   },
   "outputs": [],
   "source": [
    "from sklearn.linear_model import Ridge\n",
    "from sklearn.svm import SVR\n",
    "from sklearn.tree import DecisionTreeRegressor  \n",
    "from sklearn.ensemble import RandomForestRegressor\n",
    "from xgboost import XGBRegressor"
   ]
  },
  {
   "cell_type": "markdown",
   "metadata": {},
   "source": [
    "Importamos la métrica, en este caso MAE."
   ]
  },
  {
   "cell_type": "code",
   "execution_count": 22,
   "metadata": {
    "collapsed": true
   },
   "outputs": [],
   "source": [
    "from sklearn.metrics import mean_absolute_error as metric\n",
    "#from sklearn.metrics import mean_squared_error as metric2"
   ]
  },
  {
   "cell_type": "markdown",
   "metadata": {},
   "source": [
    "Definimos algunos parámetros generales."
   ]
  },
  {
   "cell_type": "code",
   "execution_count": 23,
   "metadata": {
    "collapsed": true
   },
   "outputs": [],
   "source": [
    "random_state = 1;\n",
    "nthread = multiprocessing.cpu_count() - 1;"
   ]
  },
  {
   "cell_type": "markdown",
   "metadata": {},
   "source": [
    "Definimos el grid a llevar a cabo"
   ]
  },
  {
   "cell_type": "code",
   "execution_count": 24,
   "metadata": {
    "collapsed": true
   },
   "outputs": [],
   "source": [
    "# Regresion Logística\n",
    "reg_values = [1e-05, 1e-04, 1e-03, 1e-02,1e-01,1e-00,1e01]\n",
    "\n",
    "# SVM\n",
    "C_values = [0.1, 1, 100];\n",
    "gamma_svm_values = [0.01, 0.1, 1];\n",
    "epsilon_values = [1, 0.1];\n",
    "\n",
    "# Arbol de Decision\n",
    "max_depth_values = [None, 6, 20];\n",
    "min_samples_split_values = [2, 5, 20];\n",
    "min_samples_leaf_values = [1, 5, 20];\n",
    "max_features_values = [None, 1, 2];\n",
    "\n",
    "# Random Forest\n",
    "ntree_values = [10, 100, 1000];\n",
    "\n",
    "# Xgboost\n",
    "nrounds_values = [10, 100]\n",
    "eta_values = [0.3, 0.99]\n",
    "gamma_values = [0, 1]\n",
    "max_depth_values = [6, 20]\n",
    "min_child_weight_values = [1, 20]\n",
    "subsample_values = [0.1, 1]\n",
    "colsample_bytree_values = [0.1, 1]\n",
    "num_parallel_tree_values = [6, 20]\n",
    "lambda_values = [0, 1]\n",
    "alpha_values = [0, 1]\n"
   ]
  },
  {
   "cell_type": "code",
   "execution_count": 25,
   "metadata": {
    "collapsed": true
   },
   "outputs": [],
   "source": [
    "params_values = [{'model': 'linear regression',\n",
    "                  'regularization': alpha_values},\n",
    "                 {'model': 'svm',\n",
    "                  'C': C_values,\n",
    "                 'gamma': gamma_svm_values,\n",
    "                 'epsilon': epsilon_values},\n",
    "                 {'model': 'decision tree',\n",
    "                  'max_depth': max_depth_values,\n",
    "                 'min_samples_split': min_samples_split_values,\n",
    "                 'min_samples_leaf': min_samples_leaf_values,\n",
    "                 'max_features': max_features_values},\n",
    "                 {'model': 'random forest',\n",
    "                  'n_trees': ntree_values,\n",
    "                 'min_samples_leaf': min_samples_leaf_values,\n",
    "                'min_samples_split': min_samples_split_values,\n",
    "                 'max_features': max_features_values,\n",
    "                 'max_depth': max_depth_values},\n",
    "                 {'model': 'xgboost',\n",
    "                  'nrounds': nrounds_values,\n",
    "                  'eta': eta_values,\n",
    "                 'gamma': gamma_values,\n",
    "                 'max_depth': max_depth_values,\n",
    "                 'min_child_weight': min_child_weight_values,\n",
    "                 'subsample': subsample_values,\n",
    "                 'colsample_bytree': colsample_bytree_values,\n",
    "                 'num_parallel_tree': num_parallel_tree_values,\n",
    "                 'lambda': lambda_values,\n",
    "                 'alpha': alpha_values}]"
   ]
  },
  {
   "cell_type": "code",
   "execution_count": 26,
   "metadata": {},
   "outputs": [
    {
     "data": {
      "text/plain": [
       "[{'model': 'linear regression', 'regularization': [0, 1]},\n",
       " {'C': [0.1, 1, 100],\n",
       "  'epsilon': [1, 0.1],\n",
       "  'gamma': [0.01, 0.1, 1],\n",
       "  'model': 'svm'},\n",
       " {'max_depth': [6, 20],\n",
       "  'max_features': [None, 1, 2],\n",
       "  'min_samples_leaf': [1, 5, 20],\n",
       "  'min_samples_split': [2, 5, 20],\n",
       "  'model': 'decision tree'},\n",
       " {'max_depth': [6, 20],\n",
       "  'max_features': [None, 1, 2],\n",
       "  'min_samples_leaf': [1, 5, 20],\n",
       "  'min_samples_split': [2, 5, 20],\n",
       "  'model': 'random forest',\n",
       "  'n_trees': [10, 100, 1000]},\n",
       " {'alpha': [0, 1],\n",
       "  'colsample_bytree': [0.1, 1],\n",
       "  'eta': [0.3, 0.99],\n",
       "  'gamma': [0, 1],\n",
       "  'lambda': [0, 1],\n",
       "  'max_depth': [6, 20],\n",
       "  'min_child_weight': [1, 20],\n",
       "  'model': 'xgboost',\n",
       "  'nrounds': [10, 100],\n",
       "  'num_parallel_tree': [6, 20],\n",
       "  'subsample': [0.1, 1]}]"
      ]
     },
     "execution_count": 26,
     "metadata": {},
     "output_type": "execute_result"
    }
   ],
   "source": [
    "params_values"
   ]
  },
  {
   "cell_type": "code",
   "execution_count": 27,
   "metadata": {},
   "outputs": [
    {
     "name": "stdout",
     "output_type": "stream",
     "text": [
      "2 iteraciones de linear regression\n",
      "18 iteraciones de svm\n",
      "54 iteraciones de decision tree\n",
      "162 iteraciones de random forest\n",
      "1024 iteraciones de xgboost\n",
      "1260 iteraciones en total\n"
     ]
    }
   ],
   "source": [
    "total_iteraciones = 0\n",
    "for params in params_values:\n",
    "    if params['model'] == 'linear regression':\n",
    "        n = len(params['regularization'])\n",
    "    elif params['model'] == 'svm':\n",
    "        n = len(params['C'])*len(params['gamma'])*len(params['epsilon'])\n",
    "    elif params['model'] == 'decision tree':\n",
    "        n = len(params['max_depth'])*len(params['min_samples_split'])*len(params['min_samples_leaf'])*len(params['max_features'])\n",
    "    elif params['model'] == 'random forest':\n",
    "        n = len(params['n_trees'])*len(params['min_samples_leaf'])*len(params['max_features'])*len(params['max_depth'])*len(params['min_samples_split'])\n",
    "    elif params['model'] == 'xgboost':\n",
    "        n = len(params['nrounds'])*len(params['eta'])*len(params['gamma'])*len(params['max_depth'])*len(params['min_child_weight'])*len(params['subsample'])*len(params['colsample_bytree'])*len(params['num_parallel_tree'])*len(params['lambda'])*len(params['alpha'])\n",
    "    total_iteraciones = total_iteraciones + n;\n",
    "    print(str(n)+ ' iteraciones de ' + str(params['model']))\n",
    "print(str(total_iteraciones)+ ' iteraciones en total')        "
   ]
  },
  {
   "cell_type": "code",
   "execution_count": null,
   "metadata": {},
   "outputs": [],
   "source": [
    "grid_results = pd.DataFrame();\n",
    "num_iter = 0\n",
    "for params in params_values:\n",
    "    \n",
    "        # Linear Regression\n",
    "    if params['model'] == 'linear regression':\n",
    "        for regularization in params['regularization']:\n",
    "            # Actualizar contador\n",
    "            num_iter += 1; \n",
    "                \n",
    "            # print control iteracion modelo\n",
    "            print('Inicio de iteracion ' + str(num_iter) + \n",
    "                '. Regularizacion = ' + str(regularization) + \n",
    "                '\\n')\n",
    "                \n",
    "           \n",
    "            model = Ridge(alpha = regularization, random_state = random_state)\n",
    "    \n",
    "               \n",
    "            model.fit(X_train, np.array(y_train))\n",
    "\n",
    "            # Generar predicciones\n",
    "            pred_train = model.predict(X_train)\n",
    "            pred_val = model.predict(X_val)\n",
    "\n",
    "            # Calcular métricas de evaluación\n",
    "            error_train = metric(y_train, pred_train)    \n",
    "            error_val = metric(y_val, pred_val)                                           \n",
    "\n",
    "            print('Fin de iteracion ' + str(num_iter) + \n",
    "                     '. Regularizacion = ' + str(regularization) + \n",
    "                      '. Error train = '  + str(error_train) + \n",
    "                      ' -  Error val = '  + str(error_val)  + \n",
    "                      '\\n')\n",
    "            grid_results = grid_results.append(pd.DataFrame(data={'model':'Linear Regression',\n",
    "                                                                      'params': [{'regularization':[regularization]}],\n",
    "                                                                                          'error_train':[error_train],\n",
    "                                                                                          'error_val':[error_val]},\n",
    "                                                                                           columns=['model', 'params','error_train', 'error_val']),\n",
    "                                                   ignore_index=True)\n",
    "     \n",
    "    # SVM\n",
    "    if params['model'] == 'svm':\n",
    "        for C in params['C']:\n",
    "            for gamma in params['gamma']:  \n",
    "                for epsilon in params['epsilon']:  \n",
    "                    # Actualizar contador\n",
    "                    num_iter += 1; \n",
    "\n",
    "                    # print control iteracion modelo\n",
    "                    print('Inicio de iteracion ' + str(num_iter) + \n",
    "                          '. C = ' + str(C) + \n",
    "                          ', gamma = '  + str(gamma) +\n",
    "                          ', epsilon = '  + str(epsilon) +\n",
    "                          '\\n')\n",
    "\n",
    "                    # Entrenar modelo               \n",
    "                    model = SVR(C = C, gamma = gamma, epsilon=epsilon)\n",
    "               \n",
    "                    model.fit(X_train, np.array(y_train))\n",
    "\n",
    "                    # Generar predicciones\n",
    "                    pred_train = model.predict(X_train)\n",
    "                    pred_val = model.predict(X_val)\n",
    "\n",
    "                    # Calcular métricas de evaluación\n",
    "                    error_train = metric(y_train, pred_train)    \n",
    "                    error_val = metric(y_val, pred_val)                                          \n",
    "\n",
    "                    print('Fin de iteracion ' + str(num_iter) + \n",
    "                         '. C = ' + str(C) + \n",
    "                          ', gamma = '  + str(gamma) +\n",
    "                          ' -  error train = '  + str(error_train) + \n",
    "                          ' -  error val = '  + str(error_val)  + \n",
    "                          '\\n')\n",
    "                    grid_results = grid_results.append(pd.DataFrame(data={'model':'SVM',\n",
    "                                                                         'params': [{'C':[C],\n",
    "                                                                                  'gamma':[gamma],\n",
    "                                                                                    'epsilon': [epsilon]}],\n",
    "                                                                                          'error_train':[error_train],\n",
    "                                                                                          'error_val':[error_val]},\n",
    "                                                                                           columns=['model', 'params','error_train', 'error_val']),\n",
    "                                                       ignore_index=True)\n",
    "                \n",
    "    # Decision Tree\n",
    "    if params['model'] == 'decision tree':\n",
    "        for max_depth in params['max_depth']:\n",
    "            for min_samples_split in params['min_samples_split']:  \n",
    "                for min_samples_leaf in params['min_samples_leaf']:  \n",
    "                    for max_features in params['max_features']:  \n",
    "                \n",
    "                        # Actualizar contador\n",
    "                        num_iter += 1; \n",
    "\n",
    "                        # print control iteracion modelo\n",
    "                        print('Inicio de iteracion ' + str(num_iter) + \n",
    "                              '. max_depth = ' + str(max_depth) + \n",
    "                              ', min_samples_split = '  + str(min_samples_split) +\n",
    "                              ', min_samples_leaf = '  + str(min_samples_leaf) +\n",
    "                              ', max_features = '  + str(max_features) +\n",
    "                              '\\n')\n",
    "\n",
    "                        # Entrenar modelo               \n",
    "                        model = DecisionTreeRegressor(max_depth = max_depth,\n",
    "                                                      min_samples_split = min_samples_split,\n",
    "                                                      min_samples_leaf = min_samples_leaf,\n",
    "                                                      max_features = max_features, random_state = random_state)\n",
    "\n",
    "                        model.fit(X_train, np.array(y_train))\n",
    "\n",
    "                        model.fit(X_train, np.array(y_train))\n",
    "\n",
    "                        # Generar predicciones\n",
    "                        pred_train = model.predict(X_train)\n",
    "                        pred_val = model.predict(X_val)\n",
    "\n",
    "                        # Calcular métricas de evaluación\n",
    "                        error_train = metric(y_train, pred_train)    \n",
    "                        error_val = metric(y_val, pred_val)  \n",
    "\n",
    "                        print('Fin de iteracion ' + str(num_iter) + \n",
    "                             '. max_depth = ' + str(max_depth) + \n",
    "                              ', min_samples_split = '  + str(min_samples_split) +\n",
    "                              ', min_samples_leaf = '  + str(min_samples_leaf) +\n",
    "                              ', max_features = '  + str(max_features) +\n",
    "                              ' -  error train = '  + str(error_train) + \n",
    "                              ' -  error val = '  + str(error_val)  + \n",
    "                              '\\n')\n",
    "                        grid_results = grid_results.append(pd.DataFrame(data={'model':'decision tree',\n",
    "                                                                              'params': [{'max_depth':[max_depth],\n",
    "                                                                                          'min_samples_split':[min_samples_split],\n",
    "                                                                                          'min_samples_leaf':[min_samples_leaf],\n",
    "                                                                                          'max_features':[max_features]}],\n",
    "                                                                                          'error_train':[error_train],\n",
    "                                                                                          'error_val':[error_val]},\n",
    "                                                                                           columns=['model', 'params','error_train', 'error_val']),\n",
    "                                                           ignore_index=True)  \n",
    "                        \n",
    "    \n",
    "    # Random Forest\n",
    "    if params['model'] == 'random forest':\n",
    "        for n_trees in params['n_trees']:\n",
    "            for max_depth in params['max_depth']:\n",
    "                for min_samples_split in params['min_samples_split']:  \n",
    "                    for min_samples_leaf in params['min_samples_leaf']:  \n",
    "                        for max_features in params['max_features']:  \n",
    "                \n",
    "                            # Actualizar contador\n",
    "                            num_iter += 1; \n",
    "\n",
    "                            # print control iteracion modelo\n",
    "                            print('Inicio de iteracion ' + str(num_iter) + \n",
    "                                  '. n_trees = ' + str(n_trees) + \n",
    "                                  ', max_depth = ' + str(max_depth) + \n",
    "                                  ', min_samples_split = '  + str(min_samples_split) +\n",
    "                                  ', min_samples_leaf = '  + str(min_samples_leaf) +\n",
    "                                  ', max_features = '  + str(max_features) +\n",
    "                                  '\\n')\n",
    "\n",
    "                            # Entrenar modelo               \n",
    "                            model = RandomForestRegressor(n_estimators = n_trees,\n",
    "                                                          max_depth = max_depth,\n",
    "                                                          min_samples_split = min_samples_split,\n",
    "                                                          min_samples_leaf = min_samples_leaf,\n",
    "                                                          max_features = max_features, random_state = random_state)\n",
    "\n",
    "                            model.fit(X_train, np.array(y_train))\n",
    "\n",
    "                            # Generar predicciones\n",
    "                            pred_train = model.predict(X_train)\n",
    "                            pred_val = model.predict(X_val)\n",
    "\n",
    "                            # Calcular métricas de evaluación\n",
    "                            error_train = metric(y_train, pred_train)    \n",
    "                            error_val = metric(y_val, pred_val)                                         \n",
    "\n",
    "                            print('Fin de iteracion ' + str(num_iter) + \n",
    "                                 '. n_trees = ' + str(n_trees) + \n",
    "                                  ', max_depth = ' + str(max_depth) + \n",
    "                                  ', min_samples_split = '  + str(min_samples_split) +\n",
    "                                  ', min_samples_leaf = '  + str(min_samples_leaf) +\n",
    "                                  ', max_features = '  + str(max_features) +\n",
    "                                  ' -  error train = '  + str(error_train) + \n",
    "                                  ' -  error val = '  + str(error_val)  + \n",
    "                                  '\\n')\n",
    "                            grid_results = grid_results.append(pd.DataFrame(data={'model':'random forest',\n",
    "                                                                                  'params': [{'n_trees':[n_trees],\n",
    "                                                                                              'max_depth':[max_depth],\n",
    "                                                                                              'min_samples_split':[min_samples_split],\n",
    "                                                                                              'min_samples_leaf':[min_samples_leaf],\n",
    "                                                                                              'max_features':[max_features]}],\n",
    "                                                                                          'error_train':[error_train],\n",
    "                                                                                          'error_val':[error_val]},\n",
    "                                                                                           columns=['model', 'params','error_train', 'error_val']),\n",
    "                                                               ignore_index=True)  \n",
    "    \n",
    "    # XGBOOST\n",
    "    if params['model'] == 'xgboost':\n",
    "        for nrounds in params['nrounds']:\n",
    "            for eta in params['eta']:\n",
    "                for gamma in params['gamma']:\n",
    "                    for max_depth in params['max_depth']:\n",
    "                        for min_child_weight in params['min_child_weight']:\n",
    "                            for subsample in params['subsample']:\n",
    "                                for colsample_bytree in params['colsample_bytree']:\n",
    "                                    for num_parallel_tree in params['num_parallel_tree']:\n",
    "                                        for lamda in params['lambda']:\n",
    "                                            for alpha in params['alpha']:\n",
    "\n",
    "                                                # Actualizar contador\n",
    "                                                num_iter += 1; \n",
    "\n",
    "                                                # print control iteracion modelo\n",
    "                                                print('Inicio de iteracion ' + str(num_iter) +\n",
    "                                                      '. Parametro nrounds = ' + str(nrounds) +\n",
    "                                                      ', parametro eta = ' + str(eta) + \n",
    "                                                      ', parametro gamma = '  + str(gamma) +\n",
    "                                                      ', parametro max_depth = '  + str(max_depth) +\n",
    "                                                      ', parametro min_child_weight = '  + str(min_child_weight) +\n",
    "                                                      ', parametro subsample = '  + str(subsample) +\n",
    "                                                      ', parametro colsample_bytree = '  + str(colsample_bytree) +\n",
    "                                                      ', parametro num_parallel_tree = '  + str(num_parallel_tree) +\n",
    "                                                      ', parametro lambda = '  + str(lamda) +\n",
    "                                                      ', parametro alpha = '  + str(alpha) + \n",
    "                                                      '\\n')\n",
    "                                                # Entrenar modelo\n",
    "                                                model = XGBRegressor(nthread = nthread,\n",
    "                                                                      random_state = random_state,\n",
    "                                                                      n_estimators = nrounds, \n",
    "                                                                      learning_rate = eta, \n",
    "                                                                      gamma = gamma,\n",
    "                                                                      max_depth = max_depth,\n",
    "                                                                      min_child_weight = min_child_weight ,\n",
    "                                                                      subsample = subsample,\n",
    "                                                                      colsample_bytree = colsample_bytree,\n",
    "                                                                      num_parallel_tree  = num_parallel_tree,\n",
    "                                                                      reg_lambda = lamda,\n",
    "                                                                      reg_alpha = alpha)\n",
    "                                                model.fit(X_train, np.array(y_train))\n",
    "\n",
    "                                                # Generar predicciones\n",
    "                                                pred_train = model.predict(X_train)\n",
    "                                                pred_val = model.predict(X_val)\n",
    "\n",
    "                                                # Calcular métricas de evaluación\n",
    "                                                error_train = metric(y_train, pred_train)    \n",
    "                                                error_val = metric(y_val, pred_val)                                            \n",
    "\n",
    "                                                print('Fin de iteracion ' + str(num_iter) + \n",
    "                                                      '. Parametro nrounds = ' + str(nrounds) + \n",
    "                                                      ', parametro eta = ' + str(eta) + \n",
    "                                                      ', parametro gamma = '  + str(gamma) +\n",
    "                                                      ', parametro max_depth = '  + str(max_depth) +\n",
    "                                                      ', parametro min_child_weight = '  + str(min_child_weight) +\n",
    "                                                      ', parametro subsample = '  + str(subsample) +\n",
    "                                                      ', parametro colsample_bytree = '  + str(colsample_bytree) +\n",
    "                                                      ', parametro num_parallel_tree = '  + str(num_parallel_tree) +\n",
    "                                                      ', parametro lambda = '  + str(lamda) +\n",
    "                                                      ', parametro alpha = '  + str(alpha) + \n",
    "                                                      ' -  error train = '  + str(error_train) + \n",
    "                                                      ' -  error val = '  + str(error_val)  + \n",
    "                                                      '\\n')\n",
    "                                                grid_results = grid_results.append(pd.DataFrame(data={'model':'xgboost',\n",
    "                                                                                              'params': [{'nrounds':[nrounds],\n",
    "                                                                                              'eta':[eta],\n",
    "                                                                                              'gamma':[gamma],\n",
    "                                                                                              'max_depth':[max_depth],\n",
    "                                                                                              'min_child_weight':[min_child_weight],\n",
    "                                                                                              'subsample':[subsample],\n",
    "                                                                                              'colsample_bytree':[colsample_bytree],\n",
    "                                                                                              'num_parallel_tree':[num_parallel_tree],\n",
    "                                                                                              'lamda':[lamda],\n",
    "                                                                                              'alpha':[alpha]}],\n",
    "                                                                                              'error_train':[error_train],\n",
    "                                                                                              'error_val':[error_val]},\n",
    "                                                                                               columns=['model', 'params','error_train', 'error_val']), \n",
    "                                                                                   ignore_index=True)"
   ]
  },
  {
   "cell_type": "code",
   "execution_count": 29,
   "metadata": {},
   "outputs": [
    {
     "data": {
      "text/html": [
       "<div>\n",
       "<style>\n",
       "    .dataframe thead tr:only-child th {\n",
       "        text-align: right;\n",
       "    }\n",
       "\n",
       "    .dataframe thead th {\n",
       "        text-align: left;\n",
       "    }\n",
       "\n",
       "    .dataframe tbody tr th {\n",
       "        vertical-align: top;\n",
       "    }\n",
       "</style>\n",
       "<table border=\"1\" class=\"dataframe\">\n",
       "  <thead>\n",
       "    <tr style=\"text-align: right;\">\n",
       "      <th></th>\n",
       "      <th>model</th>\n",
       "      <th>params</th>\n",
       "      <th>error_train</th>\n",
       "      <th>error_val</th>\n",
       "    </tr>\n",
       "  </thead>\n",
       "  <tbody>\n",
       "    <tr>\n",
       "      <th>0</th>\n",
       "      <td>Linear Regression</td>\n",
       "      <td>{'regularization': [0]}</td>\n",
       "      <td>21.524317</td>\n",
       "      <td>19.345895</td>\n",
       "    </tr>\n",
       "    <tr>\n",
       "      <th>1</th>\n",
       "      <td>Linear Regression</td>\n",
       "      <td>{'regularization': [1]}</td>\n",
       "      <td>21.412824</td>\n",
       "      <td>18.952354</td>\n",
       "    </tr>\n",
       "    <tr>\n",
       "      <th>2</th>\n",
       "      <td>SVM</td>\n",
       "      <td>{'C': [0.1], 'gamma': [0.01], 'epsilon': [1]}</td>\n",
       "      <td>22.652512</td>\n",
       "      <td>20.413609</td>\n",
       "    </tr>\n",
       "    <tr>\n",
       "      <th>3</th>\n",
       "      <td>SVM</td>\n",
       "      <td>{'C': [0.1], 'gamma': [0.01], 'epsilon': [0.1]}</td>\n",
       "      <td>22.649043</td>\n",
       "      <td>20.427162</td>\n",
       "    </tr>\n",
       "    <tr>\n",
       "      <th>4</th>\n",
       "      <td>SVM</td>\n",
       "      <td>{'C': [0.1], 'gamma': [0.1], 'epsilon': [1]}</td>\n",
       "      <td>25.198758</td>\n",
       "      <td>22.029860</td>\n",
       "    </tr>\n",
       "    <tr>\n",
       "      <th>5</th>\n",
       "      <td>SVM</td>\n",
       "      <td>{'C': [0.1], 'gamma': [0.1], 'epsilon': [0.1]}</td>\n",
       "      <td>25.195731</td>\n",
       "      <td>22.038546</td>\n",
       "    </tr>\n",
       "    <tr>\n",
       "      <th>6</th>\n",
       "      <td>SVM</td>\n",
       "      <td>{'C': [0.1], 'gamma': [1], 'epsilon': [1]}</td>\n",
       "      <td>25.404767</td>\n",
       "      <td>22.055721</td>\n",
       "    </tr>\n",
       "    <tr>\n",
       "      <th>7</th>\n",
       "      <td>SVM</td>\n",
       "      <td>{'C': [0.1], 'gamma': [1], 'epsilon': [0.1]}</td>\n",
       "      <td>25.402461</td>\n",
       "      <td>22.090669</td>\n",
       "    </tr>\n",
       "    <tr>\n",
       "      <th>8</th>\n",
       "      <td>SVM</td>\n",
       "      <td>{'C': [1], 'gamma': [0.01], 'epsilon': [1]}</td>\n",
       "      <td>19.103701</td>\n",
       "      <td>17.697900</td>\n",
       "    </tr>\n",
       "    <tr>\n",
       "      <th>9</th>\n",
       "      <td>SVM</td>\n",
       "      <td>{'C': [1], 'gamma': [0.01], 'epsilon': [0.1]}</td>\n",
       "      <td>19.087004</td>\n",
       "      <td>17.718467</td>\n",
       "    </tr>\n",
       "    <tr>\n",
       "      <th>10</th>\n",
       "      <td>SVM</td>\n",
       "      <td>{'C': [1], 'gamma': [0.1], 'epsilon': [1]}</td>\n",
       "      <td>22.603756</td>\n",
       "      <td>21.355138</td>\n",
       "    </tr>\n",
       "    <tr>\n",
       "      <th>11</th>\n",
       "      <td>SVM</td>\n",
       "      <td>{'C': [1], 'gamma': [0.1], 'epsilon': [0.1]}</td>\n",
       "      <td>22.577195</td>\n",
       "      <td>21.341243</td>\n",
       "    </tr>\n",
       "    <tr>\n",
       "      <th>12</th>\n",
       "      <td>SVM</td>\n",
       "      <td>{'C': [1], 'gamma': [1], 'epsilon': [1]}</td>\n",
       "      <td>24.291787</td>\n",
       "      <td>22.148935</td>\n",
       "    </tr>\n",
       "    <tr>\n",
       "      <th>13</th>\n",
       "      <td>SVM</td>\n",
       "      <td>{'C': [1], 'gamma': [1], 'epsilon': [0.1]}</td>\n",
       "      <td>24.268168</td>\n",
       "      <td>22.148308</td>\n",
       "    </tr>\n",
       "    <tr>\n",
       "      <th>14</th>\n",
       "      <td>SVM</td>\n",
       "      <td>{'C': [100], 'gamma': [0.01], 'epsilon': [1]}</td>\n",
       "      <td>12.743546</td>\n",
       "      <td>17.025226</td>\n",
       "    </tr>\n",
       "    <tr>\n",
       "      <th>15</th>\n",
       "      <td>SVM</td>\n",
       "      <td>{'C': [100], 'gamma': [0.01], 'epsilon': [0.1]}</td>\n",
       "      <td>12.639039</td>\n",
       "      <td>17.011897</td>\n",
       "    </tr>\n",
       "    <tr>\n",
       "      <th>16</th>\n",
       "      <td>SVM</td>\n",
       "      <td>{'C': [100], 'gamma': [0.1], 'epsilon': [1]}</td>\n",
       "      <td>5.272923</td>\n",
       "      <td>19.329422</td>\n",
       "    </tr>\n",
       "    <tr>\n",
       "      <th>17</th>\n",
       "      <td>SVM</td>\n",
       "      <td>{'C': [100], 'gamma': [0.1], 'epsilon': [0.1]}</td>\n",
       "      <td>4.762105</td>\n",
       "      <td>19.304937</td>\n",
       "    </tr>\n",
       "    <tr>\n",
       "      <th>18</th>\n",
       "      <td>SVM</td>\n",
       "      <td>{'C': [100], 'gamma': [1], 'epsilon': [1]}</td>\n",
       "      <td>2.690712</td>\n",
       "      <td>23.468487</td>\n",
       "    </tr>\n",
       "    <tr>\n",
       "      <th>19</th>\n",
       "      <td>SVM</td>\n",
       "      <td>{'C': [100], 'gamma': [1], 'epsilon': [0.1]}</td>\n",
       "      <td>1.968766</td>\n",
       "      <td>23.399584</td>\n",
       "    </tr>\n",
       "    <tr>\n",
       "      <th>20</th>\n",
       "      <td>decision tree</td>\n",
       "      <td>{'max_depth': [6], 'min_samples_split': [2], '...</td>\n",
       "      <td>19.418613</td>\n",
       "      <td>18.860697</td>\n",
       "    </tr>\n",
       "    <tr>\n",
       "      <th>21</th>\n",
       "      <td>decision tree</td>\n",
       "      <td>{'max_depth': [6], 'min_samples_split': [2], '...</td>\n",
       "      <td>23.721661</td>\n",
       "      <td>23.327663</td>\n",
       "    </tr>\n",
       "    <tr>\n",
       "      <th>22</th>\n",
       "      <td>decision tree</td>\n",
       "      <td>{'max_depth': [6], 'min_samples_split': [2], '...</td>\n",
       "      <td>22.821778</td>\n",
       "      <td>22.582299</td>\n",
       "    </tr>\n",
       "    <tr>\n",
       "      <th>23</th>\n",
       "      <td>decision tree</td>\n",
       "      <td>{'max_depth': [6], 'min_samples_split': [2], '...</td>\n",
       "      <td>19.406183</td>\n",
       "      <td>18.741222</td>\n",
       "    </tr>\n",
       "    <tr>\n",
       "      <th>24</th>\n",
       "      <td>decision tree</td>\n",
       "      <td>{'max_depth': [6], 'min_samples_split': [2], '...</td>\n",
       "      <td>23.695737</td>\n",
       "      <td>23.500710</td>\n",
       "    </tr>\n",
       "    <tr>\n",
       "      <th>25</th>\n",
       "      <td>decision tree</td>\n",
       "      <td>{'max_depth': [6], 'min_samples_split': [2], '...</td>\n",
       "      <td>23.011839</td>\n",
       "      <td>22.708992</td>\n",
       "    </tr>\n",
       "    <tr>\n",
       "      <th>26</th>\n",
       "      <td>decision tree</td>\n",
       "      <td>{'max_depth': [6], 'min_samples_split': [2], '...</td>\n",
       "      <td>19.422856</td>\n",
       "      <td>18.780090</td>\n",
       "    </tr>\n",
       "    <tr>\n",
       "      <th>27</th>\n",
       "      <td>decision tree</td>\n",
       "      <td>{'max_depth': [6], 'min_samples_split': [2], '...</td>\n",
       "      <td>23.715376</td>\n",
       "      <td>23.168012</td>\n",
       "    </tr>\n",
       "    <tr>\n",
       "      <th>28</th>\n",
       "      <td>decision tree</td>\n",
       "      <td>{'max_depth': [6], 'min_samples_split': [2], '...</td>\n",
       "      <td>23.129943</td>\n",
       "      <td>22.745808</td>\n",
       "    </tr>\n",
       "    <tr>\n",
       "      <th>29</th>\n",
       "      <td>decision tree</td>\n",
       "      <td>{'max_depth': [6], 'min_samples_split': [5], '...</td>\n",
       "      <td>19.421534</td>\n",
       "      <td>18.949608</td>\n",
       "    </tr>\n",
       "    <tr>\n",
       "      <th>...</th>\n",
       "      <td>...</td>\n",
       "      <td>...</td>\n",
       "      <td>...</td>\n",
       "      <td>...</td>\n",
       "    </tr>\n",
       "    <tr>\n",
       "      <th>274</th>\n",
       "      <td>xgboost</td>\n",
       "      <td>{'nrounds': [10], 'eta': [0.3], 'gamma': [0], ...</td>\n",
       "      <td>21.914750</td>\n",
       "      <td>22.608957</td>\n",
       "    </tr>\n",
       "    <tr>\n",
       "      <th>275</th>\n",
       "      <td>xgboost</td>\n",
       "      <td>{'nrounds': [10], 'eta': [0.3], 'gamma': [0], ...</td>\n",
       "      <td>21.917608</td>\n",
       "      <td>22.599137</td>\n",
       "    </tr>\n",
       "    <tr>\n",
       "      <th>276</th>\n",
       "      <td>xgboost</td>\n",
       "      <td>{'nrounds': [10], 'eta': [0.3], 'gamma': [0], ...</td>\n",
       "      <td>18.320269</td>\n",
       "      <td>18.264675</td>\n",
       "    </tr>\n",
       "    <tr>\n",
       "      <th>277</th>\n",
       "      <td>xgboost</td>\n",
       "      <td>{'nrounds': [10], 'eta': [0.3], 'gamma': [0], ...</td>\n",
       "      <td>18.347280</td>\n",
       "      <td>18.269781</td>\n",
       "    </tr>\n",
       "    <tr>\n",
       "      <th>278</th>\n",
       "      <td>xgboost</td>\n",
       "      <td>{'nrounds': [10], 'eta': [0.3], 'gamma': [0], ...</td>\n",
       "      <td>18.484814</td>\n",
       "      <td>18.347518</td>\n",
       "    </tr>\n",
       "    <tr>\n",
       "      <th>279</th>\n",
       "      <td>xgboost</td>\n",
       "      <td>{'nrounds': [10], 'eta': [0.3], 'gamma': [0], ...</td>\n",
       "      <td>18.511517</td>\n",
       "      <td>18.361210</td>\n",
       "    </tr>\n",
       "    <tr>\n",
       "      <th>280</th>\n",
       "      <td>xgboost</td>\n",
       "      <td>{'nrounds': [10], 'eta': [0.3], 'gamma': [0], ...</td>\n",
       "      <td>18.211959</td>\n",
       "      <td>18.282928</td>\n",
       "    </tr>\n",
       "    <tr>\n",
       "      <th>281</th>\n",
       "      <td>xgboost</td>\n",
       "      <td>{'nrounds': [10], 'eta': [0.3], 'gamma': [0], ...</td>\n",
       "      <td>18.224157</td>\n",
       "      <td>18.298260</td>\n",
       "    </tr>\n",
       "    <tr>\n",
       "      <th>282</th>\n",
       "      <td>xgboost</td>\n",
       "      <td>{'nrounds': [10], 'eta': [0.3], 'gamma': [0], ...</td>\n",
       "      <td>18.401630</td>\n",
       "      <td>18.420995</td>\n",
       "    </tr>\n",
       "    <tr>\n",
       "      <th>283</th>\n",
       "      <td>xgboost</td>\n",
       "      <td>{'nrounds': [10], 'eta': [0.3], 'gamma': [0], ...</td>\n",
       "      <td>18.401046</td>\n",
       "      <td>18.483935</td>\n",
       "    </tr>\n",
       "    <tr>\n",
       "      <th>284</th>\n",
       "      <td>xgboost</td>\n",
       "      <td>{'nrounds': [10], 'eta': [0.3], 'gamma': [0], ...</td>\n",
       "      <td>20.756935</td>\n",
       "      <td>21.741051</td>\n",
       "    </tr>\n",
       "    <tr>\n",
       "      <th>285</th>\n",
       "      <td>xgboost</td>\n",
       "      <td>{'nrounds': [10], 'eta': [0.3], 'gamma': [0], ...</td>\n",
       "      <td>20.758959</td>\n",
       "      <td>21.745516</td>\n",
       "    </tr>\n",
       "    <tr>\n",
       "      <th>286</th>\n",
       "      <td>xgboost</td>\n",
       "      <td>{'nrounds': [10], 'eta': [0.3], 'gamma': [0], ...</td>\n",
       "      <td>20.849277</td>\n",
       "      <td>21.799537</td>\n",
       "    </tr>\n",
       "    <tr>\n",
       "      <th>287</th>\n",
       "      <td>xgboost</td>\n",
       "      <td>{'nrounds': [10], 'eta': [0.3], 'gamma': [0], ...</td>\n",
       "      <td>20.851311</td>\n",
       "      <td>21.799749</td>\n",
       "    </tr>\n",
       "    <tr>\n",
       "      <th>288</th>\n",
       "      <td>xgboost</td>\n",
       "      <td>{'nrounds': [10], 'eta': [0.3], 'gamma': [0], ...</td>\n",
       "      <td>21.289758</td>\n",
       "      <td>22.513907</td>\n",
       "    </tr>\n",
       "    <tr>\n",
       "      <th>289</th>\n",
       "      <td>xgboost</td>\n",
       "      <td>{'nrounds': [10], 'eta': [0.3], 'gamma': [0], ...</td>\n",
       "      <td>21.292193</td>\n",
       "      <td>22.508374</td>\n",
       "    </tr>\n",
       "    <tr>\n",
       "      <th>290</th>\n",
       "      <td>xgboost</td>\n",
       "      <td>{'nrounds': [10], 'eta': [0.3], 'gamma': [0], ...</td>\n",
       "      <td>21.378715</td>\n",
       "      <td>22.536892</td>\n",
       "    </tr>\n",
       "    <tr>\n",
       "      <th>291</th>\n",
       "      <td>xgboost</td>\n",
       "      <td>{'nrounds': [10], 'eta': [0.3], 'gamma': [0], ...</td>\n",
       "      <td>21.380867</td>\n",
       "      <td>22.536702</td>\n",
       "    </tr>\n",
       "    <tr>\n",
       "      <th>292</th>\n",
       "      <td>xgboost</td>\n",
       "      <td>{'nrounds': [10], 'eta': [0.3], 'gamma': [0], ...</td>\n",
       "      <td>17.664328</td>\n",
       "      <td>18.488454</td>\n",
       "    </tr>\n",
       "    <tr>\n",
       "      <th>293</th>\n",
       "      <td>xgboost</td>\n",
       "      <td>{'nrounds': [10], 'eta': [0.3], 'gamma': [0], ...</td>\n",
       "      <td>17.652080</td>\n",
       "      <td>18.523240</td>\n",
       "    </tr>\n",
       "    <tr>\n",
       "      <th>294</th>\n",
       "      <td>xgboost</td>\n",
       "      <td>{'nrounds': [10], 'eta': [0.3], 'gamma': [0], ...</td>\n",
       "      <td>17.733863</td>\n",
       "      <td>18.537265</td>\n",
       "    </tr>\n",
       "    <tr>\n",
       "      <th>295</th>\n",
       "      <td>xgboost</td>\n",
       "      <td>{'nrounds': [10], 'eta': [0.3], 'gamma': [0], ...</td>\n",
       "      <td>17.686574</td>\n",
       "      <td>18.371718</td>\n",
       "    </tr>\n",
       "    <tr>\n",
       "      <th>296</th>\n",
       "      <td>xgboost</td>\n",
       "      <td>{'nrounds': [10], 'eta': [0.3], 'gamma': [0], ...</td>\n",
       "      <td>17.664314</td>\n",
       "      <td>18.488422</td>\n",
       "    </tr>\n",
       "    <tr>\n",
       "      <th>297</th>\n",
       "      <td>xgboost</td>\n",
       "      <td>{'nrounds': [10], 'eta': [0.3], 'gamma': [0], ...</td>\n",
       "      <td>17.652093</td>\n",
       "      <td>18.523241</td>\n",
       "    </tr>\n",
       "    <tr>\n",
       "      <th>298</th>\n",
       "      <td>xgboost</td>\n",
       "      <td>{'nrounds': [10], 'eta': [0.3], 'gamma': [0], ...</td>\n",
       "      <td>17.733874</td>\n",
       "      <td>18.537271</td>\n",
       "    </tr>\n",
       "    <tr>\n",
       "      <th>299</th>\n",
       "      <td>xgboost</td>\n",
       "      <td>{'nrounds': [10], 'eta': [0.3], 'gamma': [0], ...</td>\n",
       "      <td>17.686575</td>\n",
       "      <td>18.371729</td>\n",
       "    </tr>\n",
       "    <tr>\n",
       "      <th>300</th>\n",
       "      <td>xgboost</td>\n",
       "      <td>{'nrounds': [10], 'eta': [0.3], 'gamma': [0], ...</td>\n",
       "      <td>19.187688</td>\n",
       "      <td>22.732427</td>\n",
       "    </tr>\n",
       "    <tr>\n",
       "      <th>301</th>\n",
       "      <td>xgboost</td>\n",
       "      <td>{'nrounds': [10], 'eta': [0.3], 'gamma': [0], ...</td>\n",
       "      <td>19.257313</td>\n",
       "      <td>22.741135</td>\n",
       "    </tr>\n",
       "    <tr>\n",
       "      <th>302</th>\n",
       "      <td>xgboost</td>\n",
       "      <td>{'nrounds': [10], 'eta': [0.3], 'gamma': [0], ...</td>\n",
       "      <td>20.640086</td>\n",
       "      <td>22.734538</td>\n",
       "    </tr>\n",
       "    <tr>\n",
       "      <th>303</th>\n",
       "      <td>xgboost</td>\n",
       "      <td>{'nrounds': [10], 'eta': [0.3], 'gamma': [0], ...</td>\n",
       "      <td>20.678465</td>\n",
       "      <td>22.723890</td>\n",
       "    </tr>\n",
       "  </tbody>\n",
       "</table>\n",
       "<p>304 rows × 4 columns</p>\n",
       "</div>"
      ],
      "text/plain": [
       "                 model                                             params  \\\n",
       "0    Linear Regression                            {'regularization': [0]}   \n",
       "1    Linear Regression                            {'regularization': [1]}   \n",
       "2                  SVM      {'C': [0.1], 'gamma': [0.01], 'epsilon': [1]}   \n",
       "3                  SVM    {'C': [0.1], 'gamma': [0.01], 'epsilon': [0.1]}   \n",
       "4                  SVM       {'C': [0.1], 'gamma': [0.1], 'epsilon': [1]}   \n",
       "5                  SVM     {'C': [0.1], 'gamma': [0.1], 'epsilon': [0.1]}   \n",
       "6                  SVM         {'C': [0.1], 'gamma': [1], 'epsilon': [1]}   \n",
       "7                  SVM       {'C': [0.1], 'gamma': [1], 'epsilon': [0.1]}   \n",
       "8                  SVM        {'C': [1], 'gamma': [0.01], 'epsilon': [1]}   \n",
       "9                  SVM      {'C': [1], 'gamma': [0.01], 'epsilon': [0.1]}   \n",
       "10                 SVM         {'C': [1], 'gamma': [0.1], 'epsilon': [1]}   \n",
       "11                 SVM       {'C': [1], 'gamma': [0.1], 'epsilon': [0.1]}   \n",
       "12                 SVM           {'C': [1], 'gamma': [1], 'epsilon': [1]}   \n",
       "13                 SVM         {'C': [1], 'gamma': [1], 'epsilon': [0.1]}   \n",
       "14                 SVM      {'C': [100], 'gamma': [0.01], 'epsilon': [1]}   \n",
       "15                 SVM    {'C': [100], 'gamma': [0.01], 'epsilon': [0.1]}   \n",
       "16                 SVM       {'C': [100], 'gamma': [0.1], 'epsilon': [1]}   \n",
       "17                 SVM     {'C': [100], 'gamma': [0.1], 'epsilon': [0.1]}   \n",
       "18                 SVM         {'C': [100], 'gamma': [1], 'epsilon': [1]}   \n",
       "19                 SVM       {'C': [100], 'gamma': [1], 'epsilon': [0.1]}   \n",
       "20       decision tree  {'max_depth': [6], 'min_samples_split': [2], '...   \n",
       "21       decision tree  {'max_depth': [6], 'min_samples_split': [2], '...   \n",
       "22       decision tree  {'max_depth': [6], 'min_samples_split': [2], '...   \n",
       "23       decision tree  {'max_depth': [6], 'min_samples_split': [2], '...   \n",
       "24       decision tree  {'max_depth': [6], 'min_samples_split': [2], '...   \n",
       "25       decision tree  {'max_depth': [6], 'min_samples_split': [2], '...   \n",
       "26       decision tree  {'max_depth': [6], 'min_samples_split': [2], '...   \n",
       "27       decision tree  {'max_depth': [6], 'min_samples_split': [2], '...   \n",
       "28       decision tree  {'max_depth': [6], 'min_samples_split': [2], '...   \n",
       "29       decision tree  {'max_depth': [6], 'min_samples_split': [5], '...   \n",
       "..                 ...                                                ...   \n",
       "274            xgboost  {'nrounds': [10], 'eta': [0.3], 'gamma': [0], ...   \n",
       "275            xgboost  {'nrounds': [10], 'eta': [0.3], 'gamma': [0], ...   \n",
       "276            xgboost  {'nrounds': [10], 'eta': [0.3], 'gamma': [0], ...   \n",
       "277            xgboost  {'nrounds': [10], 'eta': [0.3], 'gamma': [0], ...   \n",
       "278            xgboost  {'nrounds': [10], 'eta': [0.3], 'gamma': [0], ...   \n",
       "279            xgboost  {'nrounds': [10], 'eta': [0.3], 'gamma': [0], ...   \n",
       "280            xgboost  {'nrounds': [10], 'eta': [0.3], 'gamma': [0], ...   \n",
       "281            xgboost  {'nrounds': [10], 'eta': [0.3], 'gamma': [0], ...   \n",
       "282            xgboost  {'nrounds': [10], 'eta': [0.3], 'gamma': [0], ...   \n",
       "283            xgboost  {'nrounds': [10], 'eta': [0.3], 'gamma': [0], ...   \n",
       "284            xgboost  {'nrounds': [10], 'eta': [0.3], 'gamma': [0], ...   \n",
       "285            xgboost  {'nrounds': [10], 'eta': [0.3], 'gamma': [0], ...   \n",
       "286            xgboost  {'nrounds': [10], 'eta': [0.3], 'gamma': [0], ...   \n",
       "287            xgboost  {'nrounds': [10], 'eta': [0.3], 'gamma': [0], ...   \n",
       "288            xgboost  {'nrounds': [10], 'eta': [0.3], 'gamma': [0], ...   \n",
       "289            xgboost  {'nrounds': [10], 'eta': [0.3], 'gamma': [0], ...   \n",
       "290            xgboost  {'nrounds': [10], 'eta': [0.3], 'gamma': [0], ...   \n",
       "291            xgboost  {'nrounds': [10], 'eta': [0.3], 'gamma': [0], ...   \n",
       "292            xgboost  {'nrounds': [10], 'eta': [0.3], 'gamma': [0], ...   \n",
       "293            xgboost  {'nrounds': [10], 'eta': [0.3], 'gamma': [0], ...   \n",
       "294            xgboost  {'nrounds': [10], 'eta': [0.3], 'gamma': [0], ...   \n",
       "295            xgboost  {'nrounds': [10], 'eta': [0.3], 'gamma': [0], ...   \n",
       "296            xgboost  {'nrounds': [10], 'eta': [0.3], 'gamma': [0], ...   \n",
       "297            xgboost  {'nrounds': [10], 'eta': [0.3], 'gamma': [0], ...   \n",
       "298            xgboost  {'nrounds': [10], 'eta': [0.3], 'gamma': [0], ...   \n",
       "299            xgboost  {'nrounds': [10], 'eta': [0.3], 'gamma': [0], ...   \n",
       "300            xgboost  {'nrounds': [10], 'eta': [0.3], 'gamma': [0], ...   \n",
       "301            xgboost  {'nrounds': [10], 'eta': [0.3], 'gamma': [0], ...   \n",
       "302            xgboost  {'nrounds': [10], 'eta': [0.3], 'gamma': [0], ...   \n",
       "303            xgboost  {'nrounds': [10], 'eta': [0.3], 'gamma': [0], ...   \n",
       "\n",
       "     error_train  error_val  \n",
       "0      21.524317  19.345895  \n",
       "1      21.412824  18.952354  \n",
       "2      22.652512  20.413609  \n",
       "3      22.649043  20.427162  \n",
       "4      25.198758  22.029860  \n",
       "5      25.195731  22.038546  \n",
       "6      25.404767  22.055721  \n",
       "7      25.402461  22.090669  \n",
       "8      19.103701  17.697900  \n",
       "9      19.087004  17.718467  \n",
       "10     22.603756  21.355138  \n",
       "11     22.577195  21.341243  \n",
       "12     24.291787  22.148935  \n",
       "13     24.268168  22.148308  \n",
       "14     12.743546  17.025226  \n",
       "15     12.639039  17.011897  \n",
       "16      5.272923  19.329422  \n",
       "17      4.762105  19.304937  \n",
       "18      2.690712  23.468487  \n",
       "19      1.968766  23.399584  \n",
       "20     19.418613  18.860697  \n",
       "21     23.721661  23.327663  \n",
       "22     22.821778  22.582299  \n",
       "23     19.406183  18.741222  \n",
       "24     23.695737  23.500710  \n",
       "25     23.011839  22.708992  \n",
       "26     19.422856  18.780090  \n",
       "27     23.715376  23.168012  \n",
       "28     23.129943  22.745808  \n",
       "29     19.421534  18.949608  \n",
       "..           ...        ...  \n",
       "274    21.914750  22.608957  \n",
       "275    21.917608  22.599137  \n",
       "276    18.320269  18.264675  \n",
       "277    18.347280  18.269781  \n",
       "278    18.484814  18.347518  \n",
       "279    18.511517  18.361210  \n",
       "280    18.211959  18.282928  \n",
       "281    18.224157  18.298260  \n",
       "282    18.401630  18.420995  \n",
       "283    18.401046  18.483935  \n",
       "284    20.756935  21.741051  \n",
       "285    20.758959  21.745516  \n",
       "286    20.849277  21.799537  \n",
       "287    20.851311  21.799749  \n",
       "288    21.289758  22.513907  \n",
       "289    21.292193  22.508374  \n",
       "290    21.378715  22.536892  \n",
       "291    21.380867  22.536702  \n",
       "292    17.664328  18.488454  \n",
       "293    17.652080  18.523240  \n",
       "294    17.733863  18.537265  \n",
       "295    17.686574  18.371718  \n",
       "296    17.664314  18.488422  \n",
       "297    17.652093  18.523241  \n",
       "298    17.733874  18.537271  \n",
       "299    17.686575  18.371729  \n",
       "300    19.187688  22.732427  \n",
       "301    19.257313  22.741135  \n",
       "302    20.640086  22.734538  \n",
       "303    20.678465  22.723890  \n",
       "\n",
       "[304 rows x 4 columns]"
      ]
     },
     "execution_count": 29,
     "metadata": {},
     "output_type": "execute_result"
    }
   ],
   "source": [
    "grid_results"
   ]
  },
  {
   "cell_type": "markdown",
   "metadata": {},
   "source": [
    "Vamos a analizar el mejor resultado para cada familia de modelos."
   ]
  },
  {
   "cell_type": "code",
   "execution_count": 30,
   "metadata": {},
   "outputs": [
    {
     "data": {
      "text/plain": [
       "model\n",
       "random forest        15.743116\n",
       "SVM                  17.011897\n",
       "decision tree        17.380361\n",
       "xgboost              18.251872\n",
       "Linear Regression    18.952354\n",
       "Name: error_val, dtype: float64"
      ]
     },
     "execution_count": 30,
     "metadata": {},
     "output_type": "execute_result"
    }
   ],
   "source": [
    "grid_results.groupby(['model'], sort=False)['error_val'].min().sort_values()"
   ]
  },
  {
   "cell_type": "markdown",
   "metadata": {},
   "source": [
    "Comparemos el peor y el mejor resultado"
   ]
  },
  {
   "cell_type": "code",
   "execution_count": 31,
   "metadata": {},
   "outputs": [
    {
     "name": "stdout",
     "output_type": "stream",
     "text": [
      "model                                              random forest\n",
      "params         {'n_trees': [1000], 'max_depth': [20], 'min_sa...\n",
      "error_train                                              11.5019\n",
      "error_val                                                15.7431\n",
      "Name: 212, dtype: object\n",
      "-------------------------------------------\n",
      "model                                              decision tree\n",
      "params         {'max_depth': [20], 'min_samples_split': [2], ...\n",
      "error_train                                              8.74496\n",
      "error_val                                                25.0196\n",
      "Name: 49, dtype: object\n"
     ]
    }
   ],
   "source": [
    "print(grid_results.iloc[grid_results['error_val'].idxmin()])\n",
    "print('-------------------------------------------')\n",
    "print(grid_results.iloc[grid_results['error_val'].idxmax()])"
   ]
  },
  {
   "cell_type": "markdown",
   "metadata": {},
   "source": [
    "Veamos la mayor diferencia entre auc_train y auc_val."
   ]
  },
  {
   "cell_type": "code",
   "execution_count": 32,
   "metadata": {},
   "outputs": [
    {
     "data": {
      "text/plain": [
       "model                                                   SVM\n",
       "params         {'C': [100], 'gamma': [1], 'epsilon': [0.1]}\n",
       "error_train                                         1.96877\n",
       "error_val                                           23.3996\n",
       "Name: 19, dtype: object"
      ]
     },
     "execution_count": 32,
     "metadata": {},
     "output_type": "execute_result"
    }
   ],
   "source": [
    "diff = grid_results['error_val'] - grid_results['error_train']\n",
    "grid_results.iloc[diff.idxmax()]"
   ]
  },
  {
   "cell_type": "markdown",
   "metadata": {},
   "source": [
    "**OVERFITT...**"
   ]
  },
  {
   "cell_type": "markdown",
   "metadata": {},
   "source": [
    "Nos quedamos con el mejor resultado."
   ]
  },
  {
   "cell_type": "code",
   "execution_count": 43,
   "metadata": {
    "collapsed": true
   },
   "outputs": [],
   "source": [
    "best_params = grid_results.iloc[grid_results['error_val'].idxmin()]"
   ]
  },
  {
   "cell_type": "markdown",
   "metadata": {},
   "source": [
    "Juntamos validación y train para entrenar el modelo final."
   ]
  },
  {
   "cell_type": "code",
   "execution_count": 34,
   "metadata": {},
   "outputs": [
    {
     "name": "stdout",
     "output_type": "stream",
     "text": [
      "Train data size = (23969, 72)\n",
      "Train target size = (23969,)\n",
      "Validation data size = (5136, 72)\n",
      "Validation target size = (5136,)\n",
      "Train data size = (29105, 72)\n",
      "Train target size = (29105,)\n"
     ]
    }
   ],
   "source": [
    "print('Train data size = ' + str(X_train.shape))\n",
    "print('Train target size = ' + str(y_train.shape))\n",
    "print('Validation data size = ' + str(X_val.shape))\n",
    "print('Validation target size = ' + str(y_val.shape))\n",
    "\n",
    "# Combinar train y validación\n",
    "X_train = pd.concat((X_train,X_val), axis = 0)\n",
    "y_train = np.concatenate((y_train, y_val), axis = 0)\n",
    "\n",
    "del X_val, y_val\n",
    "\n",
    "print('Train data size = ' + str(X_train.shape))\n",
    "print('Train target size = ' + str(y_train.shape))"
   ]
  },
  {
   "cell_type": "markdown",
   "metadata": {},
   "source": [
    "Y ahora entrenamos el modelo final.\n"
   ]
  },
  {
   "cell_type": "code",
   "execution_count": 45,
   "metadata": {},
   "outputs": [],
   "source": [
    "# Logistic Regression\n",
    "if best_params['model'] == 'logistic regression':       \n",
    "\n",
    "    # Entrenar modelo\n",
    "    model = Ridge(alpha = best_params['params']['regularization'][0], random_state = random_state)\n",
    "\n",
    "# SVM\n",
    "elif best_params['model'] == 'SVM':\n",
    "\n",
    "    model = SVR(C = best_params['params']['C'][0], \n",
    "                gamma = best_params['params']['gamma'][0],\n",
    "                epsilon = best_params['params']['epsilon'][0])             \n",
    "\n",
    "\n",
    "# Decision Tree\n",
    "elif best_params['model'] == 'decision tree':\n",
    "    model = DecisionTreeRegressor(max_depth = int(best_params['params']['max_depth'][0]),\n",
    "                                                  min_samples_split = int(best_params['params']['min_samples_split'][0]),\n",
    "                                                  min_samples_leaf = int(best_params['params']['min_samples_leaf'][0]),\n",
    "                                                  max_features = int(best_params['params']['max_features'][0]), \n",
    "                                   random_state = random_state)\n",
    "\n",
    "\n",
    "# Random Forest\n",
    "elif best_params['model'] == 'random forest':    \n",
    "    if best_params['params']['max_features'][0] != None:\n",
    "        best_params['params']['max_features'][0] = int(best_params['params']['max_features'][0])\n",
    "    model = RandomForestRegressor(n_estimators = int(best_params['params']['n_trees'][0]),\n",
    "                                                      max_depth = int(best_params['params']['max_depth'][0]),\n",
    "                                                      min_samples_split = int(best_params['params']['min_samples_split'][0]),\n",
    "                                                      min_samples_leaf = int(best_params['params']['min_samples_leaf'][0]),\n",
    "                                                      max_features = best_params['params']['max_features'][0], \n",
    "                                                      random_state = random_state)\n",
    "\n",
    "# XGBOOST\n",
    "elif best_params['model'] == 'xgboost':\n",
    "    model = XGBRegressor(nthread = nthread, \n",
    "                                                              random_state = random_state,\n",
    "                                                              n_estimators = int(best_params['params']['nrounds'][0]), \n",
    "                                                              learning_rate = best_params['params']['eta'][0], \n",
    "                                                              gamma = best_params['params']['gamma'][0],\n",
    "                                                              max_depth = int(best_params['params']['max_depth'][0]),\n",
    "                                                              min_child_weight = best_params['params']['min_child_weight'][0],\n",
    "                                                              subsample = best_params['params']['subsample'][0],\n",
    "                                                              colsample_bytree = best_params['params']['colsample_bytree'][0],\n",
    "                                                              num_parallel_tree  = int(best_params['params']['num_parallel_tree'][0]),\n",
    "                                                              reg_lambda = best_params['params']['lamda'][0],\n",
    "                                                              reg_alpha = best_params['params']['alpha'][0])\n",
    "\n",
    "# Entrenar modelo\n",
    "model.fit(X_train, np.array(y_train))\n",
    "\n",
    "# Generar predicciones\n",
    "pred_train = model.predict(X_train)\n",
    "pred_test = model.predict(X_test)\n",
    "\n",
    "# Calcular métricas de evaluación\n",
    "error_train = metric(y_train, pred_train)\n",
    "error_test = metric(y_test, pred_test) \n",
    "\n",
    "results = pd.DataFrame()\n",
    "results = results.append(pd.DataFrame(data={'model':best_params['model'],'error_train':[error_train],'error_test':[error_test]}, columns=['model',  'error_train', 'error_test']), ignore_index=True)\n"
   ]
  },
  {
   "cell_type": "code",
   "execution_count": 46,
   "metadata": {},
   "outputs": [
    {
     "data": {
      "text/html": [
       "<div>\n",
       "<style>\n",
       "    .dataframe thead tr:only-child th {\n",
       "        text-align: right;\n",
       "    }\n",
       "\n",
       "    .dataframe thead th {\n",
       "        text-align: left;\n",
       "    }\n",
       "\n",
       "    .dataframe tbody tr th {\n",
       "        vertical-align: top;\n",
       "    }\n",
       "</style>\n",
       "<table border=\"1\" class=\"dataframe\">\n",
       "  <thead>\n",
       "    <tr style=\"text-align: right;\">\n",
       "      <th></th>\n",
       "      <th>model</th>\n",
       "      <th>error_train</th>\n",
       "      <th>error_test</th>\n",
       "    </tr>\n",
       "  </thead>\n",
       "  <tbody>\n",
       "    <tr>\n",
       "      <th>0</th>\n",
       "      <td>random forest</td>\n",
       "      <td>11.132167</td>\n",
       "      <td>17.800839</td>\n",
       "    </tr>\n",
       "  </tbody>\n",
       "</table>\n",
       "</div>"
      ],
      "text/plain": [
       "           model  error_train  error_test\n",
       "0  random forest    11.132167   17.800839"
      ]
     },
     "execution_count": 46,
     "metadata": {},
     "output_type": "execute_result"
    }
   ],
   "source": [
    "results"
   ]
  }
 ],
 "metadata": {
  "kernelspec": {
   "display_name": "Python 3",
   "language": "python",
   "name": "python3"
  },
  "language_info": {
   "codemirror_mode": {
    "name": "ipython",
    "version": 3
   },
   "file_extension": ".py",
   "mimetype": "text/x-python",
   "name": "python",
   "nbconvert_exporter": "python",
   "pygments_lexer": "ipython3",
   "version": "3.8.5"
  }
 },
 "nbformat": 4,
 "nbformat_minor": 2
}
