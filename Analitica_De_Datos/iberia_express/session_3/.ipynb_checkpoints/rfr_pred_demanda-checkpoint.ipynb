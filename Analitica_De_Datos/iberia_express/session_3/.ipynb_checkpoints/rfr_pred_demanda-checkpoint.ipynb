{
 "cells": [
  {
   "cell_type": "markdown",
   "metadata": {},
   "source": [
    "# Predicción de demanda con Random Forest"
   ]
  },
  {
   "cell_type": "markdown",
   "metadata": {},
   "source": [
    "### Carga de Librerias"
   ]
  },
  {
   "cell_type": "code",
   "execution_count": 64,
   "metadata": {
    "collapsed": true
   },
   "outputs": [],
   "source": [
    "# Load Libraries\n",
    "%matplotlib inline\n",
    "import numpy as np\n",
    "import matplotlib.pyplot as plt\n",
    "from scipy import stats\n",
    "import pandas as pd \n",
    "import math\n",
    "\n",
    "\n",
    "from sklearn.preprocessing import scale\n",
    "import timeit"
   ]
  },
  {
   "cell_type": "markdown",
   "metadata": {},
   "source": [
    "### Lectura de datos"
   ]
  },
  {
   "cell_type": "markdown",
   "metadata": {},
   "source": [
    "- **ant**: antelación hasta el vuelo.\n",
    "\n",
    "- **ruta**: trayecto de ida y vuelta ordenado alfabéticamente.\n",
    "        \n",
    "- **aeropuerto_origen**: aeropuerto donde despega el avión.\n",
    "\n",
    "- **aeropuerto_destino**: aeropuerto donde aterriza el avión.\n",
    "    \n",
    "- **fecha_salida**: fecha de despegue del avión.\n",
    "    \n",
    "- **num_vuelo_operador**: identificador de número de vuelo.\n",
    "\n",
    "- **month**: mes de vuelo.\n",
    "\n",
    "- **weekday**: día de la semana de vuelo.\n",
    "    \n",
    "- **timezone**: franja horaria de vuelo.\n",
    "    \n",
    "- **year**: año de vuelo.\n",
    "    \n",
    "- **capacidad**: número máximo de pax en cada vuelo, puede variar en cada vuelo.\n",
    "    \n",
    "- **demand**: billetes vendidos en cada vuelo.\n",
    "    \n",
    "- **first**: código del principal competidor de la ruta del vuelo.\n",
    "    \n",
    "- **second**: código del segundo competidor de la ruta del vuelo.\n",
    "    \n",
    "- **first_ratio**: \n",
    "    \n",
    "- **second_ratio**:\n",
    "\n",
    "- **hit**:\n",
    "\n",
    "- **first_weight**: peso de importancia del primer competidor en la ruta del vuelo respecto a I2.\n",
    "\n",
    "- **second_weight**: peso de importancia del segundo competidor en la ruta del vuelo respecto a I2.\n",
    "\n",
    "- **global_first_weight**: \n",
    "\n",
    "- **global_second_weight**: \n",
    "\n",
    "- **first_p**:\n",
    "\n",
    "- **second_p**:"
   ]
  },
  {
   "cell_type": "code",
   "execution_count": 2,
   "metadata": {},
   "outputs": [
    {
     "data": {
      "text/html": [
       "<div>\n",
       "<style>\n",
       "    .dataframe thead tr:only-child th {\n",
       "        text-align: right;\n",
       "    }\n",
       "\n",
       "    .dataframe thead th {\n",
       "        text-align: left;\n",
       "    }\n",
       "\n",
       "    .dataframe tbody tr th {\n",
       "        vertical-align: top;\n",
       "    }\n",
       "</style>\n",
       "<table border=\"1\" class=\"dataframe\">\n",
       "  <thead>\n",
       "    <tr style=\"text-align: right;\">\n",
       "      <th></th>\n",
       "      <th>ant</th>\n",
       "      <th>ruta</th>\n",
       "      <th>aeropuerto_origen</th>\n",
       "      <th>aeropuerto_destino</th>\n",
       "      <th>fecha_salida</th>\n",
       "      <th>num_vuelo_operador</th>\n",
       "      <th>month</th>\n",
       "      <th>weekday</th>\n",
       "      <th>timezone</th>\n",
       "      <th>year</th>\n",
       "      <th>...</th>\n",
       "      <th>second</th>\n",
       "      <th>first_ratio</th>\n",
       "      <th>second_ratio</th>\n",
       "      <th>hit</th>\n",
       "      <th>first_weight</th>\n",
       "      <th>second_weight</th>\n",
       "      <th>global_first_ratio</th>\n",
       "      <th>global_second_ratio</th>\n",
       "      <th>first_p</th>\n",
       "      <th>second_p</th>\n",
       "    </tr>\n",
       "  </thead>\n",
       "  <tbody>\n",
       "    <tr>\n",
       "      <th>0</th>\n",
       "      <td>11</td>\n",
       "      <td>ACEMAD</td>\n",
       "      <td>ACE</td>\n",
       "      <td>MAD</td>\n",
       "      <td>2017-02-02</td>\n",
       "      <td>3857</td>\n",
       "      <td>2</td>\n",
       "      <td>Thursday</td>\n",
       "      <td>Mediodia</td>\n",
       "      <td>2017</td>\n",
       "      <td>...</td>\n",
       "      <td>UX</td>\n",
       "      <td>3.140340</td>\n",
       "      <td>0.000000</td>\n",
       "      <td>2</td>\n",
       "      <td>0.0</td>\n",
       "      <td>0.0</td>\n",
       "      <td>2.520623</td>\n",
       "      <td>0.000000</td>\n",
       "      <td>0.623683</td>\n",
       "      <td>0.000000</td>\n",
       "    </tr>\n",
       "    <tr>\n",
       "      <th>1</th>\n",
       "      <td>11</td>\n",
       "      <td>ACEMAD</td>\n",
       "      <td>ACE</td>\n",
       "      <td>MAD</td>\n",
       "      <td>2017-02-03</td>\n",
       "      <td>3857</td>\n",
       "      <td>2</td>\n",
       "      <td>Friday</td>\n",
       "      <td>Mediodia</td>\n",
       "      <td>2017</td>\n",
       "      <td>...</td>\n",
       "      <td>UX</td>\n",
       "      <td>3.610000</td>\n",
       "      <td>0.000000</td>\n",
       "      <td>2</td>\n",
       "      <td>0.0</td>\n",
       "      <td>0.0</td>\n",
       "      <td>2.210075</td>\n",
       "      <td>0.000000</td>\n",
       "      <td>0.846071</td>\n",
       "      <td>0.000000</td>\n",
       "    </tr>\n",
       "    <tr>\n",
       "      <th>2</th>\n",
       "      <td>11</td>\n",
       "      <td>ACEMAD</td>\n",
       "      <td>ACE</td>\n",
       "      <td>MAD</td>\n",
       "      <td>2017-02-04</td>\n",
       "      <td>3857</td>\n",
       "      <td>2</td>\n",
       "      <td>Saturday</td>\n",
       "      <td>Mediodia</td>\n",
       "      <td>2017</td>\n",
       "      <td>...</td>\n",
       "      <td>UX</td>\n",
       "      <td>0.000000</td>\n",
       "      <td>3.252252</td>\n",
       "      <td>1</td>\n",
       "      <td>0.0</td>\n",
       "      <td>1.0</td>\n",
       "      <td>0.000000</td>\n",
       "      <td>1.595346</td>\n",
       "      <td>0.000000</td>\n",
       "      <td>0.981601</td>\n",
       "    </tr>\n",
       "    <tr>\n",
       "      <th>3</th>\n",
       "      <td>11</td>\n",
       "      <td>ACEMAD</td>\n",
       "      <td>ACE</td>\n",
       "      <td>MAD</td>\n",
       "      <td>2017-02-05</td>\n",
       "      <td>3857</td>\n",
       "      <td>2</td>\n",
       "      <td>Sunday</td>\n",
       "      <td>Mediodia</td>\n",
       "      <td>2017</td>\n",
       "      <td>...</td>\n",
       "      <td>UX</td>\n",
       "      <td>3.094286</td>\n",
       "      <td>3.252252</td>\n",
       "      <td>2</td>\n",
       "      <td>0.0</td>\n",
       "      <td>1.0</td>\n",
       "      <td>0.000000</td>\n",
       "      <td>1.485467</td>\n",
       "      <td>0.658558</td>\n",
       "      <td>0.955942</td>\n",
       "    </tr>\n",
       "    <tr>\n",
       "      <th>4</th>\n",
       "      <td>11</td>\n",
       "      <td>ACEMAD</td>\n",
       "      <td>ACE</td>\n",
       "      <td>MAD</td>\n",
       "      <td>2017-02-06</td>\n",
       "      <td>3857</td>\n",
       "      <td>2</td>\n",
       "      <td>Monday</td>\n",
       "      <td>Mediodia</td>\n",
       "      <td>2017</td>\n",
       "      <td>...</td>\n",
       "      <td>UX</td>\n",
       "      <td>2.022857</td>\n",
       "      <td>0.000000</td>\n",
       "      <td>2</td>\n",
       "      <td>0.0</td>\n",
       "      <td>0.0</td>\n",
       "      <td>2.648854</td>\n",
       "      <td>0.000000</td>\n",
       "      <td>0.387667</td>\n",
       "      <td>0.000000</td>\n",
       "    </tr>\n",
       "  </tbody>\n",
       "</table>\n",
       "<p>5 rows × 24 columns</p>\n",
       "</div>"
      ],
      "text/plain": [
       "   ant    ruta aeropuerto_origen aeropuerto_destino fecha_salida  \\\n",
       "0   11  ACEMAD               ACE                MAD   2017-02-02   \n",
       "1   11  ACEMAD               ACE                MAD   2017-02-03   \n",
       "2   11  ACEMAD               ACE                MAD   2017-02-04   \n",
       "3   11  ACEMAD               ACE                MAD   2017-02-05   \n",
       "4   11  ACEMAD               ACE                MAD   2017-02-06   \n",
       "\n",
       "   num_vuelo_operador  month   weekday  timezone  year    ...     second  \\\n",
       "0                3857      2  Thursday  Mediodia  2017    ...         UX   \n",
       "1                3857      2    Friday  Mediodia  2017    ...         UX   \n",
       "2                3857      2  Saturday  Mediodia  2017    ...         UX   \n",
       "3                3857      2    Sunday  Mediodia  2017    ...         UX   \n",
       "4                3857      2    Monday  Mediodia  2017    ...         UX   \n",
       "\n",
       "   first_ratio second_ratio hit first_weight  second_weight  \\\n",
       "0     3.140340     0.000000   2          0.0            0.0   \n",
       "1     3.610000     0.000000   2          0.0            0.0   \n",
       "2     0.000000     3.252252   1          0.0            1.0   \n",
       "3     3.094286     3.252252   2          0.0            1.0   \n",
       "4     2.022857     0.000000   2          0.0            0.0   \n",
       "\n",
       "   global_first_ratio  global_second_ratio   first_p  second_p  \n",
       "0            2.520623             0.000000  0.623683  0.000000  \n",
       "1            2.210075             0.000000  0.846071  0.000000  \n",
       "2            0.000000             1.595346  0.000000  0.981601  \n",
       "3            0.000000             1.485467  0.658558  0.955942  \n",
       "4            2.648854             0.000000  0.387667  0.000000  \n",
       "\n",
       "[5 rows x 24 columns]"
      ]
     },
     "execution_count": 2,
     "metadata": {},
     "output_type": "execute_result"
    }
   ],
   "source": [
    "# Load the dataset \n",
    "datos = pd.read_csv(\"./datasets/datos_pred_demanda.csv\", sep=';', decimal=',')\n",
    "datos.head()"
   ]
  },
  {
   "cell_type": "code",
   "execution_count": 3,
   "metadata": {},
   "outputs": [
    {
     "data": {
      "text/plain": [
       "(943794, 24)"
      ]
     },
     "execution_count": 3,
     "metadata": {},
     "output_type": "execute_result"
    }
   ],
   "source": [
    "datos.shape"
   ]
  },
  {
   "cell_type": "code",
   "execution_count": 4,
   "metadata": {},
   "outputs": [
    {
     "data": {
      "text/plain": [
       "array(['ACEMAD', 'LGWMAD', 'MADPMI', 'MADSCQ', 'MADTXL'], dtype=object)"
      ]
     },
     "execution_count": 4,
     "metadata": {},
     "output_type": "execute_result"
    }
   ],
   "source": [
    "datos['ruta'].unique()"
   ]
  },
  {
   "cell_type": "markdown",
   "metadata": {},
   "source": [
    "Tenemos casi un millón de patrones correspondientes a datos de 5 rutas diferentes y 24 características o variables.\n",
    "\n",
    "Seleccionamos datos de antelacion 11 para tener un conjunto de datos asequible para esta clase."
   ]
  },
  {
   "cell_type": "code",
   "execution_count": 5,
   "metadata": {
    "collapsed": true
   },
   "outputs": [],
   "source": [
    "# seleccionamos datos de antelacion 11 para tener un conjunto de datos asequible para esta clase\n",
    "datos = datos[datos.ant==11]"
   ]
  },
  {
   "cell_type": "code",
   "execution_count": 6,
   "metadata": {},
   "outputs": [
    {
     "data": {
      "text/plain": [
       "(34242, 24)"
      ]
     },
     "execution_count": 6,
     "metadata": {},
     "output_type": "execute_result"
    }
   ],
   "source": [
    "datos.shape"
   ]
  },
  {
   "cell_type": "markdown",
   "metadata": {},
   "source": [
    "## Tratamiento de datos"
   ]
  },
  {
   "cell_type": "markdown",
   "metadata": {},
   "source": [
    "Vamos a ordenar los datos por fecha salida para cuando escojamos el conjunto de train, validation y test se respete el eje temporal"
   ]
  },
  {
   "cell_type": "code",
   "execution_count": 7,
   "metadata": {
    "collapsed": true
   },
   "outputs": [],
   "source": [
    "datos = datos.sort_values(by=['fecha_salida'], ascending=True)"
   ]
  },
  {
   "cell_type": "markdown",
   "metadata": {},
   "source": [
    "Borramos las variables que no aportan información al modelo"
   ]
  },
  {
   "cell_type": "code",
   "execution_count": 8,
   "metadata": {
    "collapsed": true
   },
   "outputs": [],
   "source": [
    "del datos['num_vuelo_operador']\n",
    "del datos['ant']"
   ]
  },
  {
   "cell_type": "markdown",
   "metadata": {},
   "source": [
    "Transformar variables categoricas en numericas.\n",
    "\n",
    "1) Primero definimos las variables numericas y categoricas.\n",
    "\n",
    "2) Aplicamos one hot enconding"
   ]
  },
  {
   "cell_type": "code",
   "execution_count": 9,
   "metadata": {},
   "outputs": [
    {
     "data": {
      "text/plain": [
       "['ruta',\n",
       " 'aeropuerto_origen',\n",
       " 'aeropuerto_destino',\n",
       " 'month',\n",
       " 'weekday',\n",
       " 'year',\n",
       " 'nombre_blackout',\n",
       " 'first',\n",
       " 'second',\n",
       " 'timezone',\n",
       " 'hit']"
      ]
     },
     "execution_count": 9,
     "metadata": {},
     "output_type": "execute_result"
    }
   ],
   "source": [
    "categorical_vars = ['ruta', 'aeropuerto_origen', 'aeropuerto_destino', 'month', 'weekday', 'year', \n",
    "                    'nombre_blackout', 'first', 'second', 'timezone', 'hit']\n",
    "\n",
    "categorical_vars"
   ]
  },
  {
   "cell_type": "code",
   "execution_count": 10,
   "metadata": {},
   "outputs": [
    {
     "data": {
      "text/plain": [
       "['global_second_ratio',\n",
       " 'second_ratio',\n",
       " 'second_weight',\n",
       " 'fecha_salida',\n",
       " 'global_first_ratio',\n",
       " 'demand',\n",
       " 'capacidad',\n",
       " 'second_p',\n",
       " 'first_ratio',\n",
       " 'first_weight',\n",
       " 'first_p']"
      ]
     },
     "execution_count": 10,
     "metadata": {},
     "output_type": "execute_result"
    }
   ],
   "source": [
    "numerical_vars = list(set(datos.columns) - set(categorical_vars))\n",
    "numerical_vars"
   ]
  },
  {
   "cell_type": "markdown",
   "metadata": {},
   "source": [
    "### One hot encoding"
   ]
  },
  {
   "cell_type": "markdown",
   "metadata": {},
   "source": [
    "Importamos la libreria que hace one hot encoding"
   ]
  },
  {
   "cell_type": "code",
   "execution_count": 11,
   "metadata": {
    "collapsed": true
   },
   "outputs": [],
   "source": [
    "from sklearn.preprocessing import OneHotEncoder"
   ]
  },
  {
   "cell_type": "markdown",
   "metadata": {},
   "source": [
    "Realizamos one hot encoding de las variables categoricas"
   ]
  },
  {
   "cell_type": "code",
   "execution_count": 12,
   "metadata": {
    "collapsed": true
   },
   "outputs": [],
   "source": [
    "ohe = OneHotEncoder(sparse = False)\n",
    "\n",
    "ohe_fit = ohe.fit(datos[categorical_vars])\n",
    "X_ohe = pd.DataFrame(ohe.fit_transform(datos[categorical_vars]))\n",
    "X_ohe.columns = pd.DataFrame(ohe_fit.get_feature_names())\n"
   ]
  },
  {
   "cell_type": "markdown",
   "metadata": {},
   "source": [
    "Visualizamos los datos iniciales y los que están con one hot encoding para ver la diferencia"
   ]
  },
  {
   "cell_type": "code",
   "execution_count": 13,
   "metadata": {},
   "outputs": [
    {
     "data": {
      "text/html": [
       "<div>\n",
       "<style>\n",
       "    .dataframe thead tr:only-child th {\n",
       "        text-align: right;\n",
       "    }\n",
       "\n",
       "    .dataframe thead th {\n",
       "        text-align: left;\n",
       "    }\n",
       "\n",
       "    .dataframe tbody tr th {\n",
       "        vertical-align: top;\n",
       "    }\n",
       "</style>\n",
       "<table border=\"1\" class=\"dataframe\">\n",
       "  <thead>\n",
       "    <tr style=\"text-align: right;\">\n",
       "      <th></th>\n",
       "      <th>ruta</th>\n",
       "      <th>aeropuerto_origen</th>\n",
       "      <th>aeropuerto_destino</th>\n",
       "      <th>fecha_salida</th>\n",
       "      <th>month</th>\n",
       "      <th>weekday</th>\n",
       "      <th>timezone</th>\n",
       "      <th>year</th>\n",
       "      <th>capacidad</th>\n",
       "      <th>demand</th>\n",
       "      <th>...</th>\n",
       "      <th>second</th>\n",
       "      <th>first_ratio</th>\n",
       "      <th>second_ratio</th>\n",
       "      <th>hit</th>\n",
       "      <th>first_weight</th>\n",
       "      <th>second_weight</th>\n",
       "      <th>global_first_ratio</th>\n",
       "      <th>global_second_ratio</th>\n",
       "      <th>first_p</th>\n",
       "      <th>second_p</th>\n",
       "    </tr>\n",
       "  </thead>\n",
       "  <tbody>\n",
       "    <tr>\n",
       "      <th>0</th>\n",
       "      <td>ACEMAD</td>\n",
       "      <td>ACE</td>\n",
       "      <td>MAD</td>\n",
       "      <td>2017-02-02</td>\n",
       "      <td>2</td>\n",
       "      <td>Thursday</td>\n",
       "      <td>Mediodia</td>\n",
       "      <td>2017</td>\n",
       "      <td>213</td>\n",
       "      <td>167</td>\n",
       "      <td>...</td>\n",
       "      <td>UX</td>\n",
       "      <td>3.140340</td>\n",
       "      <td>0.000000</td>\n",
       "      <td>2</td>\n",
       "      <td>0.0</td>\n",
       "      <td>0.0</td>\n",
       "      <td>2.520623</td>\n",
       "      <td>0.000000</td>\n",
       "      <td>0.623683</td>\n",
       "      <td>0.000000</td>\n",
       "    </tr>\n",
       "    <tr>\n",
       "      <th>29080</th>\n",
       "      <td>MADTXL</td>\n",
       "      <td>MAD</td>\n",
       "      <td>TXL</td>\n",
       "      <td>2017-02-02</td>\n",
       "      <td>2</td>\n",
       "      <td>Thursday</td>\n",
       "      <td>Tarde</td>\n",
       "      <td>2017</td>\n",
       "      <td>176</td>\n",
       "      <td>116</td>\n",
       "      <td>...</td>\n",
       "      <td>UNKNOWN</td>\n",
       "      <td>2.557941</td>\n",
       "      <td>0.000000</td>\n",
       "      <td>1</td>\n",
       "      <td>1.0</td>\n",
       "      <td>0.0</td>\n",
       "      <td>2.415747</td>\n",
       "      <td>0.000000</td>\n",
       "      <td>0.640143</td>\n",
       "      <td>0.000000</td>\n",
       "    </tr>\n",
       "    <tr>\n",
       "      <th>6007</th>\n",
       "      <td>LGWMAD</td>\n",
       "      <td>MAD</td>\n",
       "      <td>LGW</td>\n",
       "      <td>2017-02-02</td>\n",
       "      <td>2</td>\n",
       "      <td>Thursday</td>\n",
       "      <td>Matutina</td>\n",
       "      <td>2017</td>\n",
       "      <td>172</td>\n",
       "      <td>106</td>\n",
       "      <td>...</td>\n",
       "      <td>D8</td>\n",
       "      <td>1.000000</td>\n",
       "      <td>0.000000</td>\n",
       "      <td>1</td>\n",
       "      <td>1.0</td>\n",
       "      <td>0.0</td>\n",
       "      <td>1.339117</td>\n",
       "      <td>0.000000</td>\n",
       "      <td>0.405146</td>\n",
       "      <td>0.000000</td>\n",
       "    </tr>\n",
       "    <tr>\n",
       "      <th>6008</th>\n",
       "      <td>LGWMAD</td>\n",
       "      <td>MAD</td>\n",
       "      <td>LGW</td>\n",
       "      <td>2017-02-02</td>\n",
       "      <td>2</td>\n",
       "      <td>Thursday</td>\n",
       "      <td>Tarde_Noche</td>\n",
       "      <td>2017</td>\n",
       "      <td>176</td>\n",
       "      <td>71</td>\n",
       "      <td>...</td>\n",
       "      <td>D8</td>\n",
       "      <td>0.000000</td>\n",
       "      <td>0.845015</td>\n",
       "      <td>1</td>\n",
       "      <td>0.0</td>\n",
       "      <td>1.0</td>\n",
       "      <td>0.000000</td>\n",
       "      <td>1.013701</td>\n",
       "      <td>0.000000</td>\n",
       "      <td>0.275469</td>\n",
       "    </tr>\n",
       "    <tr>\n",
       "      <th>8192</th>\n",
       "      <td>MADPMI</td>\n",
       "      <td>MAD</td>\n",
       "      <td>PMI</td>\n",
       "      <td>2017-02-02</td>\n",
       "      <td>2</td>\n",
       "      <td>Thursday</td>\n",
       "      <td>Tarde</td>\n",
       "      <td>2017</td>\n",
       "      <td>174</td>\n",
       "      <td>112</td>\n",
       "      <td>...</td>\n",
       "      <td>UX</td>\n",
       "      <td>0.000000</td>\n",
       "      <td>1.813973</td>\n",
       "      <td>1</td>\n",
       "      <td>0.0</td>\n",
       "      <td>1.0</td>\n",
       "      <td>0.000000</td>\n",
       "      <td>1.149599</td>\n",
       "      <td>0.000000</td>\n",
       "      <td>0.991889</td>\n",
       "    </tr>\n",
       "  </tbody>\n",
       "</table>\n",
       "<p>5 rows × 22 columns</p>\n",
       "</div>"
      ],
      "text/plain": [
       "         ruta aeropuerto_origen aeropuerto_destino fecha_salida  month  \\\n",
       "0      ACEMAD               ACE                MAD   2017-02-02      2   \n",
       "29080  MADTXL               MAD                TXL   2017-02-02      2   \n",
       "6007   LGWMAD               MAD                LGW   2017-02-02      2   \n",
       "6008   LGWMAD               MAD                LGW   2017-02-02      2   \n",
       "8192   MADPMI               MAD                PMI   2017-02-02      2   \n",
       "\n",
       "        weekday     timezone  year  capacidad  demand    ...      second  \\\n",
       "0      Thursday     Mediodia  2017        213     167    ...          UX   \n",
       "29080  Thursday        Tarde  2017        176     116    ...     UNKNOWN   \n",
       "6007   Thursday     Matutina  2017        172     106    ...          D8   \n",
       "6008   Thursday  Tarde_Noche  2017        176      71    ...          D8   \n",
       "8192   Thursday        Tarde  2017        174     112    ...          UX   \n",
       "\n",
       "      first_ratio second_ratio  hit  first_weight  second_weight  \\\n",
       "0        3.140340     0.000000    2           0.0            0.0   \n",
       "29080    2.557941     0.000000    1           1.0            0.0   \n",
       "6007     1.000000     0.000000    1           1.0            0.0   \n",
       "6008     0.000000     0.845015    1           0.0            1.0   \n",
       "8192     0.000000     1.813973    1           0.0            1.0   \n",
       "\n",
       "       global_first_ratio  global_second_ratio   first_p  second_p  \n",
       "0                2.520623             0.000000  0.623683  0.000000  \n",
       "29080            2.415747             0.000000  0.640143  0.000000  \n",
       "6007             1.339117             0.000000  0.405146  0.000000  \n",
       "6008             0.000000             1.013701  0.000000  0.275469  \n",
       "8192             0.000000             1.149599  0.000000  0.991889  \n",
       "\n",
       "[5 rows x 22 columns]"
      ]
     },
     "execution_count": 13,
     "metadata": {},
     "output_type": "execute_result"
    }
   ],
   "source": [
    "datos.head()"
   ]
  },
  {
   "cell_type": "code",
   "execution_count": 14,
   "metadata": {},
   "outputs": [
    {
     "data": {
      "text/html": [
       "<div>\n",
       "<style>\n",
       "    .dataframe thead tr:only-child th {\n",
       "        text-align: right;\n",
       "    }\n",
       "\n",
       "    .dataframe thead th {\n",
       "        text-align: left;\n",
       "    }\n",
       "\n",
       "    .dataframe tbody tr th {\n",
       "        vertical-align: top;\n",
       "    }\n",
       "</style>\n",
       "<table border=\"1\" class=\"dataframe\">\n",
       "  <thead>\n",
       "    <tr style=\"text-align: right;\">\n",
       "      <th></th>\n",
       "      <th>(x0_ACEMAD,)</th>\n",
       "      <th>(x0_LGWMAD,)</th>\n",
       "      <th>(x0_MADPMI,)</th>\n",
       "      <th>(x0_MADSCQ,)</th>\n",
       "      <th>(x0_MADTXL,)</th>\n",
       "      <th>(x1_ACE,)</th>\n",
       "      <th>(x1_LGW,)</th>\n",
       "      <th>(x1_MAD,)</th>\n",
       "      <th>(x1_PMI,)</th>\n",
       "      <th>(x1_SCQ,)</th>\n",
       "      <th>...</th>\n",
       "      <th>(x9_Matutina,)</th>\n",
       "      <th>(x9_Mediodia,)</th>\n",
       "      <th>(x9_Noche,)</th>\n",
       "      <th>(x9_Nocturna,)</th>\n",
       "      <th>(x9_Tarde,)</th>\n",
       "      <th>(x9_Tarde_Noche,)</th>\n",
       "      <th>(x10_1,)</th>\n",
       "      <th>(x10_2,)</th>\n",
       "      <th>(x10_3,)</th>\n",
       "      <th>(x10_5,)</th>\n",
       "    </tr>\n",
       "  </thead>\n",
       "  <tbody>\n",
       "    <tr>\n",
       "      <th>0</th>\n",
       "      <td>1.0</td>\n",
       "      <td>0.0</td>\n",
       "      <td>0.0</td>\n",
       "      <td>0.0</td>\n",
       "      <td>0.0</td>\n",
       "      <td>1.0</td>\n",
       "      <td>0.0</td>\n",
       "      <td>0.0</td>\n",
       "      <td>0.0</td>\n",
       "      <td>0.0</td>\n",
       "      <td>...</td>\n",
       "      <td>0.0</td>\n",
       "      <td>1.0</td>\n",
       "      <td>0.0</td>\n",
       "      <td>0.0</td>\n",
       "      <td>0.0</td>\n",
       "      <td>0.0</td>\n",
       "      <td>0.0</td>\n",
       "      <td>1.0</td>\n",
       "      <td>0.0</td>\n",
       "      <td>0.0</td>\n",
       "    </tr>\n",
       "    <tr>\n",
       "      <th>1</th>\n",
       "      <td>0.0</td>\n",
       "      <td>0.0</td>\n",
       "      <td>0.0</td>\n",
       "      <td>0.0</td>\n",
       "      <td>1.0</td>\n",
       "      <td>0.0</td>\n",
       "      <td>0.0</td>\n",
       "      <td>1.0</td>\n",
       "      <td>0.0</td>\n",
       "      <td>0.0</td>\n",
       "      <td>...</td>\n",
       "      <td>0.0</td>\n",
       "      <td>0.0</td>\n",
       "      <td>0.0</td>\n",
       "      <td>0.0</td>\n",
       "      <td>1.0</td>\n",
       "      <td>0.0</td>\n",
       "      <td>1.0</td>\n",
       "      <td>0.0</td>\n",
       "      <td>0.0</td>\n",
       "      <td>0.0</td>\n",
       "    </tr>\n",
       "    <tr>\n",
       "      <th>2</th>\n",
       "      <td>0.0</td>\n",
       "      <td>1.0</td>\n",
       "      <td>0.0</td>\n",
       "      <td>0.0</td>\n",
       "      <td>0.0</td>\n",
       "      <td>0.0</td>\n",
       "      <td>0.0</td>\n",
       "      <td>1.0</td>\n",
       "      <td>0.0</td>\n",
       "      <td>0.0</td>\n",
       "      <td>...</td>\n",
       "      <td>1.0</td>\n",
       "      <td>0.0</td>\n",
       "      <td>0.0</td>\n",
       "      <td>0.0</td>\n",
       "      <td>0.0</td>\n",
       "      <td>0.0</td>\n",
       "      <td>1.0</td>\n",
       "      <td>0.0</td>\n",
       "      <td>0.0</td>\n",
       "      <td>0.0</td>\n",
       "    </tr>\n",
       "    <tr>\n",
       "      <th>3</th>\n",
       "      <td>0.0</td>\n",
       "      <td>1.0</td>\n",
       "      <td>0.0</td>\n",
       "      <td>0.0</td>\n",
       "      <td>0.0</td>\n",
       "      <td>0.0</td>\n",
       "      <td>0.0</td>\n",
       "      <td>1.0</td>\n",
       "      <td>0.0</td>\n",
       "      <td>0.0</td>\n",
       "      <td>...</td>\n",
       "      <td>0.0</td>\n",
       "      <td>0.0</td>\n",
       "      <td>0.0</td>\n",
       "      <td>0.0</td>\n",
       "      <td>0.0</td>\n",
       "      <td>1.0</td>\n",
       "      <td>1.0</td>\n",
       "      <td>0.0</td>\n",
       "      <td>0.0</td>\n",
       "      <td>0.0</td>\n",
       "    </tr>\n",
       "    <tr>\n",
       "      <th>4</th>\n",
       "      <td>0.0</td>\n",
       "      <td>0.0</td>\n",
       "      <td>1.0</td>\n",
       "      <td>0.0</td>\n",
       "      <td>0.0</td>\n",
       "      <td>0.0</td>\n",
       "      <td>0.0</td>\n",
       "      <td>1.0</td>\n",
       "      <td>0.0</td>\n",
       "      <td>0.0</td>\n",
       "      <td>...</td>\n",
       "      <td>0.0</td>\n",
       "      <td>0.0</td>\n",
       "      <td>0.0</td>\n",
       "      <td>0.0</td>\n",
       "      <td>1.0</td>\n",
       "      <td>0.0</td>\n",
       "      <td>1.0</td>\n",
       "      <td>0.0</td>\n",
       "      <td>0.0</td>\n",
       "      <td>0.0</td>\n",
       "    </tr>\n",
       "  </tbody>\n",
       "</table>\n",
       "<p>5 rows × 63 columns</p>\n",
       "</div>"
      ],
      "text/plain": [
       "   (x0_ACEMAD,)  (x0_LGWMAD,)  (x0_MADPMI,)  (x0_MADSCQ,)  (x0_MADTXL,)  \\\n",
       "0           1.0           0.0           0.0           0.0           0.0   \n",
       "1           0.0           0.0           0.0           0.0           1.0   \n",
       "2           0.0           1.0           0.0           0.0           0.0   \n",
       "3           0.0           1.0           0.0           0.0           0.0   \n",
       "4           0.0           0.0           1.0           0.0           0.0   \n",
       "\n",
       "   (x1_ACE,)  (x1_LGW,)  (x1_MAD,)  (x1_PMI,)  (x1_SCQ,)    ...     \\\n",
       "0        1.0        0.0        0.0        0.0        0.0    ...      \n",
       "1        0.0        0.0        1.0        0.0        0.0    ...      \n",
       "2        0.0        0.0        1.0        0.0        0.0    ...      \n",
       "3        0.0        0.0        1.0        0.0        0.0    ...      \n",
       "4        0.0        0.0        1.0        0.0        0.0    ...      \n",
       "\n",
       "   (x9_Matutina,)  (x9_Mediodia,)  (x9_Noche,)  (x9_Nocturna,)  (x9_Tarde,)  \\\n",
       "0             0.0             1.0          0.0             0.0          0.0   \n",
       "1             0.0             0.0          0.0             0.0          1.0   \n",
       "2             1.0             0.0          0.0             0.0          0.0   \n",
       "3             0.0             0.0          0.0             0.0          0.0   \n",
       "4             0.0             0.0          0.0             0.0          1.0   \n",
       "\n",
       "   (x9_Tarde_Noche,)  (x10_1,)  (x10_2,)  (x10_3,)  (x10_5,)  \n",
       "0                0.0       0.0       1.0       0.0       0.0  \n",
       "1                0.0       1.0       0.0       0.0       0.0  \n",
       "2                0.0       1.0       0.0       0.0       0.0  \n",
       "3                1.0       1.0       0.0       0.0       0.0  \n",
       "4                0.0       1.0       0.0       0.0       0.0  \n",
       "\n",
       "[5 rows x 63 columns]"
      ]
     },
     "execution_count": 14,
     "metadata": {},
     "output_type": "execute_result"
    }
   ],
   "source": [
    "X_ohe.head()"
   ]
  },
  {
   "cell_type": "markdown",
   "metadata": {},
   "source": [
    "Concatenamos los datos categoricos con one hot enconding y los numericos para tener el dataset completo"
   ]
  },
  {
   "cell_type": "code",
   "execution_count": 15,
   "metadata": {
    "collapsed": true
   },
   "outputs": [],
   "source": [
    "datos = pd.concat((X_ohe, datos[numerical_vars].reset_index()), axis=1)\n",
    "del datos['index']"
   ]
  },
  {
   "cell_type": "code",
   "execution_count": 16,
   "metadata": {},
   "outputs": [
    {
     "data": {
      "text/plain": [
       "Index(['fecha_salida'], dtype='object')"
      ]
     },
     "execution_count": 16,
     "metadata": {},
     "output_type": "execute_result"
    }
   ],
   "source": [
    "datos.columns[datos.dtypes == object]"
   ]
  },
  {
   "cell_type": "markdown",
   "metadata": {},
   "source": [
    "Comprobamos que ahora todos los datos son numericos menos fecha salida que lo quitaremos por ser una importante del modelo"
   ]
  },
  {
   "cell_type": "markdown",
   "metadata": {},
   "source": [
    "### Escalado"
   ]
  },
  {
   "cell_type": "code",
   "execution_count": 17,
   "metadata": {
    "collapsed": true
   },
   "outputs": [],
   "source": [
    "fecha_salida_values = datos['fecha_salida']\n",
    "y = datos['demand']\n",
    "del datos['fecha_salida']\n",
    "del datos['demand']"
   ]
  },
  {
   "cell_type": "markdown",
   "metadata": {},
   "source": [
    "Escalamos los datos mediante la media y la desviación típica.\n",
    "\n",
    "Este paso es muy importante en un modelo machine learning ya que si las variables tienen escalas muy diferentes el modelo dará mucho más peso a las variables con valores mas altos."
   ]
  },
  {
   "cell_type": "code",
   "execution_count": 18,
   "metadata": {
    "collapsed": true
   },
   "outputs": [],
   "source": [
    "datos_scale = pd.DataFrame(scale(datos))\n",
    "datos_scale.columns = datos.columns"
   ]
  },
  {
   "cell_type": "markdown",
   "metadata": {},
   "source": [
    "Visualizamos los datos iniciales y los escalados para ver la diferencia."
   ]
  },
  {
   "cell_type": "code",
   "execution_count": 19,
   "metadata": {},
   "outputs": [
    {
     "name": "stdout",
     "output_type": "stream",
     "text": [
      "   (x0_ACEMAD,)  (x0_LGWMAD,)  (x0_MADPMI,)  (x0_MADSCQ,)  (x0_MADTXL,)  \\\n",
      "0           1.0           0.0           0.0           0.0           0.0   \n",
      "1           0.0           0.0           0.0           0.0           1.0   \n",
      "2           0.0           1.0           0.0           0.0           0.0   \n",
      "3           0.0           1.0           0.0           0.0           0.0   \n",
      "4           0.0           0.0           1.0           0.0           0.0   \n",
      "\n",
      "   (x1_ACE,)  (x1_LGW,)  (x1_MAD,)  (x1_PMI,)  (x1_SCQ,)    ...     (x10_5,)  \\\n",
      "0        1.0        0.0        0.0        0.0        0.0    ...          0.0   \n",
      "1        0.0        0.0        1.0        0.0        0.0    ...          0.0   \n",
      "2        0.0        0.0        1.0        0.0        0.0    ...          0.0   \n",
      "3        0.0        0.0        1.0        0.0        0.0    ...          0.0   \n",
      "4        0.0        0.0        1.0        0.0        0.0    ...          0.0   \n",
      "\n",
      "   global_second_ratio  second_ratio  second_weight  global_first_ratio  \\\n",
      "0             0.000000      0.000000            0.0            2.520623   \n",
      "1             0.000000      0.000000            0.0            2.415747   \n",
      "2             0.000000      0.000000            0.0            1.339117   \n",
      "3             1.013701      0.845015            1.0            0.000000   \n",
      "4             1.149599      1.813973            1.0            0.000000   \n",
      "\n",
      "   capacidad  second_p  first_ratio  first_weight   first_p  \n",
      "0        213  0.000000     3.140340           0.0  0.623683  \n",
      "1        176  0.000000     2.557941           1.0  0.640143  \n",
      "2        172  0.000000     1.000000           1.0  0.405146  \n",
      "3        176  0.275469     0.000000           0.0  0.000000  \n",
      "4        174  0.991889     0.000000           0.0  0.000000  \n",
      "\n",
      "[5 rows x 72 columns]\n",
      "   (x0_ACEMAD,)  (x0_LGWMAD,)  (x0_MADPMI,)  (x0_MADSCQ,)  (x0_MADTXL,)  \\\n",
      "0      2.822450     -0.382630     -0.730284     -0.596127     -0.421320   \n",
      "1     -0.354302     -0.382630     -0.730284     -0.596127      2.373494   \n",
      "2     -0.354302      2.613489     -0.730284     -0.596127     -0.421320   \n",
      "3     -0.354302      2.613489     -0.730284     -0.596127     -0.421320   \n",
      "4     -0.354302     -0.382630      1.369329     -0.596127     -0.421320   \n",
      "\n",
      "   (x1_ACE,)  (x1_LGW,)  (x1_MAD,)  (x1_PMI,)  (x1_SCQ,)    ...     (x10_5,)  \\\n",
      "0   4.115476  -0.261266  -0.999008  -0.459292  -0.388377    ...    -0.062444   \n",
      "1  -0.242985  -0.261266   1.000993  -0.459292  -0.388377    ...    -0.062444   \n",
      "2  -0.242985  -0.261266   1.000993  -0.459292  -0.388377    ...    -0.062444   \n",
      "3  -0.242985  -0.261266   1.000993  -0.459292  -0.388377    ...    -0.062444   \n",
      "4  -0.242985  -0.261266   1.000993  -0.459292  -0.388377    ...    -0.062444   \n",
      "\n",
      "   global_second_ratio  second_ratio  second_weight  global_first_ratio  \\\n",
      "0            -0.784568     -0.748274      -0.828474            1.116446   \n",
      "1            -0.784568     -0.748274      -0.828474            1.029807   \n",
      "2            -0.784568     -0.748274      -0.828474            0.140395   \n",
      "3             0.781760      0.311369       1.584820           -0.965861   \n",
      "4             0.991742      1.526437       1.584820           -0.965861   \n",
      "\n",
      "   capacidad  second_p  first_ratio  first_weight   first_p  \n",
      "0   2.181833 -0.795307     1.229701     -0.836621  0.920076  \n",
      "1  -0.400404 -0.795307     0.845664      1.566123  0.970004  \n",
      "2  -0.679565 -0.795307    -0.181651      1.566123  0.257213  \n",
      "3  -0.400404  0.035931    -0.841056     -0.836621 -0.971669  \n",
      "4  -0.539984  2.197753    -0.841056     -0.836621 -0.971669  \n",
      "\n",
      "[5 rows x 72 columns]\n"
     ]
    }
   ],
   "source": [
    "print(datos.head())\n",
    "print(datos_scale.head())"
   ]
  },
  {
   "cell_type": "code",
   "execution_count": 20,
   "metadata": {
    "collapsed": true
   },
   "outputs": [],
   "source": [
    "datos = datos_scale\n",
    "datos['fecha_salida'] = fecha_salida_values\n",
    "datos['demand'] = y"
   ]
  },
  {
   "cell_type": "markdown",
   "metadata": {},
   "source": [
    "### Elección de los conjuntos de entrenamiento"
   ]
  },
  {
   "cell_type": "markdown",
   "metadata": {},
   "source": [
    "1.1 Conjunto de Validación Fijo\n",
    "\n",
    "Utilizaremos a modo de ejemplo los ratios habitualmente recomendados:\n",
    "\n",
    "• Train: 70%.\n",
    "\n",
    "• Validación: 15%.\n",
    "\n",
    "• Test: 15%.\n"
   ]
  },
  {
   "cell_type": "code",
   "execution_count": 21,
   "metadata": {
    "collapsed": true
   },
   "outputs": [],
   "source": [
    "perc_values = [0.7, 0.15, 0.15];"
   ]
  },
  {
   "cell_type": "code",
   "execution_count": 22,
   "metadata": {
    "collapsed": true
   },
   "outputs": [],
   "source": [
    "# Selección del patrón de datos X y del target y\n",
    "y = datos['demand']\n",
    "X = datos.loc[:, datos.columns != 'demand']"
   ]
  },
  {
   "cell_type": "markdown",
   "metadata": {},
   "source": [
    "Creamos los conjuntos de train, validacion y test con el tamaño seleccionado pero respetando el eje temporal"
   ]
  },
  {
   "cell_type": "code",
   "execution_count": 23,
   "metadata": {
    "collapsed": true
   },
   "outputs": [],
   "source": [
    "# dimensiones de los conjuntos de train y test\n",
    "n_train = int(X.shape[0] * perc_values[0])\n",
    "n_val = int(X.shape[0] * perc_values[1])\n",
    "n_test = int(X.shape[0] * perc_values[2])\n",
    "\n",
    "# selección del conjunto de train\n",
    "X_train = X.iloc[:n_train]\n",
    "y_train = y.iloc[:n_train]\n",
    "\n",
    "# selección del conjunto de validación\n",
    "X_val = X.iloc[(n_train):(n_train+n_val)]\n",
    "y_val = y.iloc[(n_train):(n_train+n_val)]\n",
    "\n",
    "# selección del conjunto de test\n",
    "X_test = X.iloc[(n_train+n_val):]\n",
    "y_test = y.iloc[(n_train+n_val):]"
   ]
  },
  {
   "cell_type": "markdown",
   "metadata": {},
   "source": [
    "Visualizamos el tamaño de los conjuntos para el set con el eje temporal"
   ]
  },
  {
   "cell_type": "code",
   "execution_count": 24,
   "metadata": {},
   "outputs": [
    {
     "name": "stdout",
     "output_type": "stream",
     "text": [
      "Train data size = (23969, 73)\n",
      "Train target size = (23969,)\n",
      "Validation data size = (5136, 73)\n",
      "Validation target size = (5136,)\n",
      "Test data size = (5137, 73)\n",
      "Test target size = (5137,)\n"
     ]
    }
   ],
   "source": [
    "print('Train data size = ' + str(X_train.shape))\n",
    "print('Train target size = ' + str(y_train.shape))\n",
    "print('Validation data size = ' + str(X_val.shape))\n",
    "print('Validation target size = ' + str(y_val.shape))\n",
    "print('Test data size = ' + str(X_test.shape))\n",
    "print('Test target size = ' + str(y_test.shape))"
   ]
  },
  {
   "cell_type": "markdown",
   "metadata": {},
   "source": [
    "Visualizamos las fecha de salida de los conjuntos para el set con el eje temporal"
   ]
  },
  {
   "cell_type": "code",
   "execution_count": 25,
   "metadata": {},
   "outputs": [
    {
     "name": "stdout",
     "output_type": "stream",
     "text": [
      "Train min date data = 2017-02-02\n",
      "Train max date data = 2019-05-02\n",
      "Val min date data = 2019-05-03\n",
      "Val max date data = 2019-09-19\n",
      "Test min date data = 2019-09-19\n",
      "Test max date data = 2020-02-18\n"
     ]
    }
   ],
   "source": [
    "# eje temporal de cada conjunto\n",
    "print('Train min date data = ' + np.amin(X_train[\"fecha_salida\"]))\n",
    "print('Train max date data = ' + np.amax(X_train[\"fecha_salida\"]))\n",
    "\n",
    "print('Val min date data = ' + np.amin(X_val[\"fecha_salida\"]))\n",
    "print('Val max date data = ' + np.amax(X_val[\"fecha_salida\"]))\n",
    "\n",
    "print('Test min date data = ' + np.amin(X_test[\"fecha_salida\"]))\n",
    "print('Test max date data = ' + np.amax(X_test[\"fecha_salida\"]))"
   ]
  },
  {
   "cell_type": "markdown",
   "metadata": {},
   "source": [
    "Una vez hechas las comprobaciones borramos la variable fecha_salida ya que no es una variable del modelo."
   ]
  },
  {
   "cell_type": "code",
   "execution_count": 26,
   "metadata": {
    "collapsed": true
   },
   "outputs": [],
   "source": [
    "del X_train['fecha_salida']\n",
    "del X_val['fecha_salida']\n",
    "del X_test['fecha_salida']"
   ]
  },
  {
   "cell_type": "markdown",
   "metadata": {},
   "source": [
    "\n",
    "### Modelos\n",
    "\n",
    "Scikit-Learn dispone de una extensa batería de modelos de Machine Learning disponible, siendo esta una de las grandes ventajas que tiene el uso de esta librería.\n",
    "\n",
    "Otra de las razones de su popularidad es que proporciona un framework de uso que es general para todos los tipos de modelos. Básicamente consiste de 6 pasos:\n",
    "\n",
    "1.Importar modelo que se quiere emplear. Ver lista de modelos supervisados en: https://scikit-learn.org/stable/supervised_learning.html\n",
    "\n",
    "\n",
    "2.Importa métrica a emplear. Ver lista de métricas disponibles en https://scikit-learn.org/stable/modules/classes.html#module-sklearn.metrics.\n",
    "\n",
    "\n",
    "3.Definir modelo.\n",
    "\n",
    "\n",
    "4.Llamar al método fit para entrenar el modelo.\n",
    "\n",
    "\n",
    "5.Llamar al método predict para generar las predicciones.\n",
    "\n",
    "\n",
    "6.Calcular métrica usando las predicciones obtenidas en el paso anterior.\n",
    "\n",
    "\n",
    "Veamos todos estos pasos con un ejemplo sencillo\n"
   ]
  },
  {
   "cell_type": "markdown",
   "metadata": {},
   "source": [
    "\n",
    "1) Importar modelo, en este caso RF Regression\n"
   ]
  },
  {
   "cell_type": "code",
   "execution_count": 27,
   "metadata": {
    "collapsed": true
   },
   "outputs": [],
   "source": [
    "from sklearn.ensemble import RandomForestRegressor"
   ]
  },
  {
   "cell_type": "markdown",
   "metadata": {},
   "source": [
    "2) Importar métrica, en este caso MAE y MSE"
   ]
  },
  {
   "cell_type": "code",
   "execution_count": 28,
   "metadata": {
    "collapsed": true
   },
   "outputs": [],
   "source": [
    "from sklearn.metrics import mean_absolute_error as mae\n",
    "from sklearn.metrics import mean_squared_error as mse"
   ]
  },
  {
   "cell_type": "markdown",
   "metadata": {},
   "source": [
    "3) Definir el método"
   ]
  },
  {
   "cell_type": "code",
   "execution_count": 29,
   "metadata": {},
   "outputs": [
    {
     "data": {
      "text/plain": [
       "RandomForestRegressor(bootstrap=True, ccp_alpha=0.0, criterion='mse',\n",
       "                      max_depth=None, max_features='auto', max_leaf_nodes=None,\n",
       "                      max_samples=None, min_impurity_decrease=0.0,\n",
       "                      min_impurity_split=None, min_samples_leaf=1,\n",
       "                      min_samples_split=2, min_weight_fraction_leaf=0.0,\n",
       "                      n_estimators=10, n_jobs=None, oob_score=False,\n",
       "                      random_state=1, verbose=0, warm_start=False)"
      ]
     },
     "execution_count": 29,
     "metadata": {},
     "output_type": "execute_result"
    }
   ],
   "source": [
    "\n",
    "model = RandomForestRegressor(n_estimators = 10,  random_state = 1)\n",
    "\n",
    "model"
   ]
  },
  {
   "cell_type": "markdown",
   "metadata": {},
   "source": [
    "4) Llamar al método fit para entrenar el modelo"
   ]
  },
  {
   "cell_type": "markdown",
   "metadata": {},
   "source": [
    "Añadimos la función timeit para medir el tiempo que tarda el modelo.\n",
    "\n",
    "De esta manera podremos hacer una estimación de cuanto tardará nuestro grid. Aunque esto dependerá de muchas otras cosas, por ejemplo, el parámetro C da la complejidad del modelo y C más grande más tardará en entrenar ese modelo."
   ]
  },
  {
   "cell_type": "code",
   "execution_count": 30,
   "metadata": {},
   "outputs": [
    {
     "name": "stdout",
     "output_type": "stream",
     "text": [
      "Time:  5.3153248\n"
     ]
    }
   ],
   "source": [
    "## Ponemos un contador para ver cuanto tarda cada modelo\n",
    "start = timeit.default_timer()\n",
    "\n",
    "model.fit(X_train, np.array(y_train))\n",
    "\n",
    "stop = timeit.default_timer()\n",
    "print('Time: ', stop - start) "
   ]
  },
  {
   "cell_type": "markdown",
   "metadata": {},
   "source": [
    "5) Llamar al método predict para generar las predicciones."
   ]
  },
  {
   "cell_type": "code",
   "execution_count": 31,
   "metadata": {},
   "outputs": [
    {
     "name": "stdout",
     "output_type": "stream",
     "text": [
      "Time:  0.1579796\n"
     ]
    }
   ],
   "source": [
    "start = timeit.default_timer()\n",
    "\n",
    "pred_train = model.predict(X_train)\n",
    "pred_val = model.predict(X_val)\n",
    "pred_test = model.predict(X_test)\n",
    "\n",
    "stop = timeit.default_timer()\n",
    "print('Time: ', stop - start) "
   ]
  },
  {
   "cell_type": "code",
   "execution_count": 32,
   "metadata": {},
   "outputs": [
    {
     "name": "stdout",
     "output_type": "stream",
     "text": [
      "[ 156.3  125.   102.2   77.2  122.2]\n",
      "0    167\n",
      "1    116\n",
      "2    106\n",
      "3     71\n",
      "4    112\n",
      "Name: demand, dtype: int64\n"
     ]
    }
   ],
   "source": [
    "# Comprobamos las primeras predicciones\n",
    "print(pred_train[0:5])\n",
    "print(y_train[0:5])"
   ]
  },
  {
   "cell_type": "markdown",
   "metadata": {},
   "source": [
    "6) Calcular métrica usando las predicciones obtenidas en el paso anterior."
   ]
  },
  {
   "cell_type": "code",
   "execution_count": 33,
   "metadata": {
    "collapsed": true
   },
   "outputs": [],
   "source": [
    "# Calcular métricas de evaluación\n",
    "mae_train = mae(y_train, pred_train);\n",
    "mae_val = mae(y_val, pred_val);\n",
    "mae_test = mae(y_test, pred_test);\n",
    "\n",
    "mse_train = mse(y_train, pred_train);\n",
    "mse_val = mse(y_val, pred_val);\n",
    "mse_test = mse(y_test, pred_test);"
   ]
  },
  {
   "cell_type": "code",
   "execution_count": 34,
   "metadata": {},
   "outputs": [
    {
     "name": "stdout",
     "output_type": "stream",
     "text": [
      "Train: MAE = 6.56990768996 - MSE = 84.7644386388\n",
      "Validation: MAE = 16.7924820749 - MSE = 460.04738376\n",
      "Test: MAE = 18.6897174792 - MSE = 595.366206861\n"
     ]
    }
   ],
   "source": [
    "print('Train: MAE = ' + str(mae_train) + ' - MSE = '  + str(mse_train))\n",
    "print('Validation: MAE = ' + str(mae_val) + ' - MSE = '  + str(mse_val))\n",
    "print('Test: MAE = ' + str(mae_test) + ' - MSE = '  + str(mse_test))"
   ]
  },
  {
   "cell_type": "markdown",
   "metadata": {},
   "source": [
    "Calculamos una nueva métrica el MAPE, que tienen en cuenta el rango del target."
   ]
  },
  {
   "cell_type": "code",
   "execution_count": 35,
   "metadata": {
    "collapsed": true
   },
   "outputs": [],
   "source": [
    "def mape(y_true, y_pred):\n",
    "    return np.mean(np.abs(y_true - y_pred)/y_pred) * 100"
   ]
  },
  {
   "cell_type": "code",
   "execution_count": 36,
   "metadata": {
    "collapsed": true
   },
   "outputs": [],
   "source": [
    "# Calcular métricas de evaluación\n",
    "mape_train = mape(y_train, pred_train);\n",
    "mape_val = mape(y_val, pred_val);\n",
    "mape_test = mape(y_test, pred_test);"
   ]
  },
  {
   "cell_type": "code",
   "execution_count": 37,
   "metadata": {},
   "outputs": [
    {
     "name": "stdout",
     "output_type": "stream",
     "text": [
      "Train: MAPE = 5.62833721239804\n",
      "Validation: MAPE = 12.996301772596928\n",
      "Test: MAPE = 15.934849542753238\n"
     ]
    }
   ],
   "source": [
    "print('Train: MAPE = ' + str(mape_train))\n",
    "print('Validation: MAPE = ' + str(mape_val))\n",
    "print('Test: MAPE = ' + str(mape_test))"
   ]
  },
  {
   "cell_type": "markdown",
   "metadata": {},
   "source": [
    "### Visualizacion"
   ]
  },
  {
   "cell_type": "markdown",
   "metadata": {},
   "source": [
    "Importamos las librerias necesarias para visualización, que serán graphviz y pydot, vistas en el anterior script"
   ]
  },
  {
   "cell_type": "code",
   "execution_count": 38,
   "metadata": {
    "collapsed": true
   },
   "outputs": [],
   "source": [
    "# Import tools needed for visualization\n",
    "from sklearn.tree import export_graphviz\n",
    "import pydot\n"
   ]
  },
  {
   "cell_type": "markdown",
   "metadata": {},
   "source": [
    "Escogemos uno de los árboles para la visualización."
   ]
  },
  {
   "cell_type": "code",
   "execution_count": 39,
   "metadata": {},
   "outputs": [
    {
     "data": {
      "text/plain": [
       "DecisionTreeRegressor(ccp_alpha=0.0, criterion='mse', max_depth=None,\n",
       "                      max_features='auto', max_leaf_nodes=None,\n",
       "                      min_impurity_decrease=0.0, min_impurity_split=None,\n",
       "                      min_samples_leaf=1, min_samples_split=2,\n",
       "                      min_weight_fraction_leaf=0.0, presort='deprecated',\n",
       "                      random_state=550290313, splitter='best')"
      ]
     },
     "execution_count": 39,
     "metadata": {},
     "output_type": "execute_result"
    }
   ],
   "source": [
    "# Pull out one tree from the forest\n",
    "tree = model.estimators_[5]\n",
    "tree"
   ]
  },
  {
   "cell_type": "markdown",
   "metadata": {},
   "source": [
    "Limitamos los datos a un árbol más pequeño para poder representarlo"
   ]
  },
  {
   "cell_type": "code",
   "execution_count": 41,
   "metadata": {
    "collapsed": true
   },
   "outputs": [],
   "source": [
    "# Limitamos la profundidad del árbol de random forest a 3 para poder representarlo\n",
    "rf_small = RandomForestRegressor(n_estimators=10, max_depth = 3)\n",
    "rf_small.fit(X_train, np.array(y_train))\n",
    "# Extraemos un árbol más pequeño\n",
    "tree_small = rf_small.estimators_[5]\n",
    "\n",
    "# Guardamos como png\n",
    "# export_graphviz(tree_small, out_file = 'small_tree.dot',  rounded = True, precision = 1)\n",
    "# (graph, ) = pydot.graph_from_dot_file('small_tree.dot')\n",
    "# graph.write_png('small_tree.png');"
   ]
  },
  {
   "cell_type": "markdown",
   "metadata": {},
   "source": [
    "<img src='small_tree.png' width=\"100%\">"
   ]
  },
  {
   "cell_type": "code",
   "execution_count": 42,
   "metadata": {},
   "outputs": [
    {
     "data": {
      "image/svg+xml": [
       "<?xml version=\"1.0\" encoding=\"UTF-8\" standalone=\"no\"?>\r\n",
       "<!DOCTYPE svg PUBLIC \"-//W3C//DTD SVG 1.1//EN\"\r\n",
       " \"http://www.w3.org/Graphics/SVG/1.1/DTD/svg11.dtd\">\r\n",
       "<!-- Generated by graphviz version 2.38.0 (20140413.2041)\r\n",
       " -->\r\n",
       "<!-- Title: Tree Pages: 1 -->\r\n",
       "<svg width=\"1098pt\" height=\"373pt\"\r\n",
       " viewBox=\"0.00 0.00 1097.50 373.00\" xmlns=\"http://www.w3.org/2000/svg\" xmlns:xlink=\"http://www.w3.org/1999/xlink\">\r\n",
       "<g id=\"graph0\" class=\"graph\" transform=\"scale(1 1) rotate(0) translate(4 369)\">\r\n",
       "<title>Tree</title>\r\n",
       "<polygon fill=\"white\" stroke=\"none\" points=\"-4,4 -4,-369 1093.5,-369 1093.5,4 -4,4\"/>\r\n",
       "<!-- 0 -->\r\n",
       "<g id=\"node1\" class=\"node\"><title>0</title>\r\n",
       "<path fill=\"#f4c8a8\" stroke=\"black\" d=\"M598,-365C598,-365 494,-365 494,-365 488,-365 482,-359 482,-353 482,-353 482,-309 482,-309 482,-303 488,-297 494,-297 494,-297 598,-297 598,-297 604,-297 610,-303 610,-309 610,-309 610,-353 610,-353 610,-359 604,-365 598,-365\"/>\r\n",
       "<text text-anchor=\"middle\" x=\"546\" y=\"-349.8\" font-family=\"Helvetica,sans-Serif\" font-size=\"14.00\">X[67] &lt;= &#45;0.47</text>\r\n",
       "<text text-anchor=\"middle\" x=\"546\" y=\"-334.8\" font-family=\"Helvetica,sans-Serif\" font-size=\"14.00\">mse = 1077.261</text>\r\n",
       "<text text-anchor=\"middle\" x=\"546\" y=\"-319.8\" font-family=\"Helvetica,sans-Serif\" font-size=\"14.00\">samples = 15082</text>\r\n",
       "<text text-anchor=\"middle\" x=\"546\" y=\"-304.8\" font-family=\"Helvetica,sans-Serif\" font-size=\"14.00\">value = 128.941</text>\r\n",
       "</g>\r\n",
       "<!-- 1 -->\r\n",
       "<g id=\"node2\" class=\"node\"><title>1</title>\r\n",
       "<path fill=\"#fae8db\" stroke=\"black\" d=\"M491,-261C491,-261 393,-261 393,-261 387,-261 381,-255 381,-249 381,-249 381,-205 381,-205 381,-199 387,-193 393,-193 393,-193 491,-193 491,-193 497,-193 503,-199 503,-205 503,-205 503,-249 503,-249 503,-255 497,-261 491,-261\"/>\r\n",
       "<text text-anchor=\"middle\" x=\"442\" y=\"-245.8\" font-family=\"Helvetica,sans-Serif\" font-size=\"14.00\">X[3] &lt;= 0.541</text>\r\n",
       "<text text-anchor=\"middle\" x=\"442\" y=\"-230.8\" font-family=\"Helvetica,sans-Serif\" font-size=\"14.00\">mse = 1147.498</text>\r\n",
       "<text text-anchor=\"middle\" x=\"442\" y=\"-215.8\" font-family=\"Helvetica,sans-Serif\" font-size=\"14.00\">samples = 4574</text>\r\n",
       "<text text-anchor=\"middle\" x=\"442\" y=\"-200.8\" font-family=\"Helvetica,sans-Serif\" font-size=\"14.00\">value = 110.758</text>\r\n",
       "</g>\r\n",
       "<!-- 0&#45;&gt;1 -->\r\n",
       "<g id=\"edge1\" class=\"edge\"><title>0&#45;&gt;1</title>\r\n",
       "<path fill=\"none\" stroke=\"black\" d=\"M512.234,-296.884C502.971,-287.798 492.823,-277.845 483.193,-268.4\"/>\r\n",
       "<polygon fill=\"black\" stroke=\"black\" points=\"485.542,-265.803 475.952,-261.299 480.641,-270.8 485.542,-265.803\"/>\r\n",
       "<text text-anchor=\"middle\" x=\"476.195\" y=\"-282.598\" font-family=\"Helvetica,sans-Serif\" font-size=\"14.00\">True</text>\r\n",
       "</g>\r\n",
       "<!-- 8 -->\r\n",
       "<g id=\"node9\" class=\"node\"><title>8</title>\r\n",
       "<path fill=\"#f1ba92\" stroke=\"black\" d=\"M703,-261C703,-261 599,-261 599,-261 593,-261 587,-255 587,-249 587,-249 587,-205 587,-205 587,-199 593,-193 599,-193 599,-193 703,-193 703,-193 709,-193 715,-199 715,-205 715,-205 715,-249 715,-249 715,-255 709,-261 703,-261\"/>\r\n",
       "<text text-anchor=\"middle\" x=\"651\" y=\"-245.8\" font-family=\"Helvetica,sans-Serif\" font-size=\"14.00\">X[67] &lt;= 2.112</text>\r\n",
       "<text text-anchor=\"middle\" x=\"651\" y=\"-230.8\" font-family=\"Helvetica,sans-Serif\" font-size=\"14.00\">mse = 834.215</text>\r\n",
       "<text text-anchor=\"middle\" x=\"651\" y=\"-215.8\" font-family=\"Helvetica,sans-Serif\" font-size=\"14.00\">samples = 10508</text>\r\n",
       "<text text-anchor=\"middle\" x=\"651\" y=\"-200.8\" font-family=\"Helvetica,sans-Serif\" font-size=\"14.00\">value = 137.011</text>\r\n",
       "</g>\r\n",
       "<!-- 0&#45;&gt;8 -->\r\n",
       "<g id=\"edge8\" class=\"edge\"><title>0&#45;&gt;8</title>\r\n",
       "<path fill=\"none\" stroke=\"black\" d=\"M580.09,-296.884C589.443,-287.798 599.688,-277.845 609.411,-268.4\"/>\r\n",
       "<polygon fill=\"black\" stroke=\"black\" points=\"611.987,-270.778 616.721,-261.299 607.11,-265.757 611.987,-270.778\"/>\r\n",
       "<text text-anchor=\"middle\" x=\"616.359\" y=\"-282.597\" font-family=\"Helvetica,sans-Serif\" font-size=\"14.00\">False</text>\r\n",
       "</g>\r\n",
       "<!-- 2 -->\r\n",
       "<g id=\"node3\" class=\"node\"><title>2</title>\r\n",
       "<path fill=\"#f8dcc9\" stroke=\"black\" d=\"M249,-157C249,-157 151,-157 151,-157 145,-157 139,-151 139,-145 139,-145 139,-101 139,-101 139,-95 145,-89 151,-89 151,-89 249,-89 249,-89 255,-89 261,-95 261,-101 261,-101 261,-145 261,-145 261,-151 255,-157 249,-157\"/>\r\n",
       "<text text-anchor=\"middle\" x=\"200\" y=\"-141.8\" font-family=\"Helvetica,sans-Serif\" font-size=\"14.00\">X[64] &lt;= 0.821</text>\r\n",
       "<text text-anchor=\"middle\" x=\"200\" y=\"-126.8\" font-family=\"Helvetica,sans-Serif\" font-size=\"14.00\">mse = 1000.637</text>\r\n",
       "<text text-anchor=\"middle\" x=\"200\" y=\"-111.8\" font-family=\"Helvetica,sans-Serif\" font-size=\"14.00\">samples = 2763</text>\r\n",
       "<text text-anchor=\"middle\" x=\"200\" y=\"-96.8\" font-family=\"Helvetica,sans-Serif\" font-size=\"14.00\">value = 117.277</text>\r\n",
       "</g>\r\n",
       "<!-- 1&#45;&gt;2 -->\r\n",
       "<g id=\"edge2\" class=\"edge\"><title>1&#45;&gt;2</title>\r\n",
       "<path fill=\"none\" stroke=\"black\" d=\"M380.933,-200.261C347.4,-186.127 305.652,-168.531 270.71,-153.803\"/>\r\n",
       "<polygon fill=\"black\" stroke=\"black\" points=\"271.622,-150.389 261.047,-149.731 268.903,-156.84 271.622,-150.389\"/>\r\n",
       "</g>\r\n",
       "<!-- 5 -->\r\n",
       "<g id=\"node6\" class=\"node\"><title>5</title>\r\n",
       "<path fill=\"#fef9f6\" stroke=\"black\" d=\"M491,-157C491,-157 393,-157 393,-157 387,-157 381,-151 381,-145 381,-145 381,-101 381,-101 381,-95 387,-89 393,-89 393,-89 491,-89 491,-89 497,-89 503,-95 503,-101 503,-101 503,-145 503,-145 503,-151 497,-157 491,-157\"/>\r\n",
       "<text text-anchor=\"middle\" x=\"442\" y=\"-141.8\" font-family=\"Helvetica,sans-Serif\" font-size=\"14.00\">X[45] &lt;= 0.885</text>\r\n",
       "<text text-anchor=\"middle\" x=\"442\" y=\"-126.8\" font-family=\"Helvetica,sans-Serif\" font-size=\"14.00\">mse = 1208.189</text>\r\n",
       "<text text-anchor=\"middle\" x=\"442\" y=\"-111.8\" font-family=\"Helvetica,sans-Serif\" font-size=\"14.00\">samples = 1811</text>\r\n",
       "<text text-anchor=\"middle\" x=\"442\" y=\"-96.8\" font-family=\"Helvetica,sans-Serif\" font-size=\"14.00\">value = 100.917</text>\r\n",
       "</g>\r\n",
       "<!-- 1&#45;&gt;5 -->\r\n",
       "<g id=\"edge5\" class=\"edge\"><title>1&#45;&gt;5</title>\r\n",
       "<path fill=\"none\" stroke=\"black\" d=\"M442,-192.884C442,-184.778 442,-175.982 442,-167.472\"/>\r\n",
       "<polygon fill=\"black\" stroke=\"black\" points=\"445.5,-167.299 442,-157.299 438.5,-167.299 445.5,-167.299\"/>\r\n",
       "</g>\r\n",
       "<!-- 3 -->\r\n",
       "<g id=\"node4\" class=\"node\"><title>3</title>\r\n",
       "<path fill=\"#f9e4d4\" stroke=\"black\" d=\"M110,-53C110,-53 12,-53 12,-53 6,-53 7.10543e-015,-47 7.10543e-015,-41 7.10543e-015,-41 7.10543e-015,-12 7.10543e-015,-12 7.10543e-015,-6 6,-0 12,-0 12,-0 110,-0 110,-0 116,-0 122,-6 122,-12 122,-12 122,-41 122,-41 122,-47 116,-53 110,-53\"/>\r\n",
       "<text text-anchor=\"middle\" x=\"61\" y=\"-37.8\" font-family=\"Helvetica,sans-Serif\" font-size=\"14.00\">mse = 1043.655</text>\r\n",
       "<text text-anchor=\"middle\" x=\"61\" y=\"-22.8\" font-family=\"Helvetica,sans-Serif\" font-size=\"14.00\">samples = 2108</text>\r\n",
       "<text text-anchor=\"middle\" x=\"61\" y=\"-7.8\" font-family=\"Helvetica,sans-Serif\" font-size=\"14.00\">value = 113.279</text>\r\n",
       "</g>\r\n",
       "<!-- 2&#45;&gt;3 -->\r\n",
       "<g id=\"edge3\" class=\"edge\"><title>2&#45;&gt;3</title>\r\n",
       "<path fill=\"none\" stroke=\"black\" d=\"M151.385,-88.9485C137.121,-79.2516 121.565,-68.6752 107.441,-59.073\"/>\r\n",
       "<polygon fill=\"black\" stroke=\"black\" points=\"109.094,-55.9646 98.8561,-53.2367 105.158,-61.7535 109.094,-55.9646\"/>\r\n",
       "</g>\r\n",
       "<!-- 4 -->\r\n",
       "<g id=\"node5\" class=\"node\"><title>4</title>\r\n",
       "<path fill=\"#f3c6a6\" stroke=\"black\" d=\"M247.5,-53C247.5,-53 152.5,-53 152.5,-53 146.5,-53 140.5,-47 140.5,-41 140.5,-41 140.5,-12 140.5,-12 140.5,-6 146.5,-0 152.5,-0 152.5,-0 247.5,-0 247.5,-0 253.5,-0 259.5,-6 259.5,-12 259.5,-12 259.5,-41 259.5,-41 259.5,-47 253.5,-53 247.5,-53\"/>\r\n",
       "<text text-anchor=\"middle\" x=\"200\" y=\"-37.8\" font-family=\"Helvetica,sans-Serif\" font-size=\"14.00\">mse = 653.047</text>\r\n",
       "<text text-anchor=\"middle\" x=\"200\" y=\"-22.8\" font-family=\"Helvetica,sans-Serif\" font-size=\"14.00\">samples = 655</text>\r\n",
       "<text text-anchor=\"middle\" x=\"200\" y=\"-7.8\" font-family=\"Helvetica,sans-Serif\" font-size=\"14.00\">value = 129.949</text>\r\n",
       "</g>\r\n",
       "<!-- 2&#45;&gt;4 -->\r\n",
       "<g id=\"edge4\" class=\"edge\"><title>2&#45;&gt;4</title>\r\n",
       "<path fill=\"none\" stroke=\"black\" d=\"M200,-88.9485C200,-80.7153 200,-71.848 200,-63.4814\"/>\r\n",
       "<polygon fill=\"black\" stroke=\"black\" points=\"203.5,-63.2367 200,-53.2367 196.5,-63.2367 203.5,-63.2367\"/>\r\n",
       "</g>\r\n",
       "<!-- 6 -->\r\n",
       "<g id=\"node7\" class=\"node\"><title>6</title>\r\n",
       "<path fill=\"#ffffff\" stroke=\"black\" d=\"M388,-53C388,-53 290,-53 290,-53 284,-53 278,-47 278,-41 278,-41 278,-12 278,-12 278,-6 284,-0 290,-0 290,-0 388,-0 388,-0 394,-0 400,-6 400,-12 400,-12 400,-41 400,-41 400,-47 394,-53 388,-53\"/>\r\n",
       "<text text-anchor=\"middle\" x=\"339\" y=\"-37.8\" font-family=\"Helvetica,sans-Serif\" font-size=\"14.00\">mse = 1138.022</text>\r\n",
       "<text text-anchor=\"middle\" x=\"339\" y=\"-22.8\" font-family=\"Helvetica,sans-Serif\" font-size=\"14.00\">samples = 1656</text>\r\n",
       "<text text-anchor=\"middle\" x=\"339\" y=\"-7.8\" font-family=\"Helvetica,sans-Serif\" font-size=\"14.00\">value = 97.78</text>\r\n",
       "</g>\r\n",
       "<!-- 5&#45;&gt;6 -->\r\n",
       "<g id=\"edge6\" class=\"edge\"><title>5&#45;&gt;6</title>\r\n",
       "<path fill=\"none\" stroke=\"black\" d=\"M405.976,-88.9485C395.805,-79.6175 384.747,-69.4722 374.602,-60.1641\"/>\r\n",
       "<polygon fill=\"black\" stroke=\"black\" points=\"376.786,-57.4182 367.052,-53.2367 372.054,-62.5762 376.786,-57.4182\"/>\r\n",
       "</g>\r\n",
       "<!-- 7 -->\r\n",
       "<g id=\"node8\" class=\"node\"><title>7</title>\r\n",
       "<path fill=\"#f2c09c\" stroke=\"black\" d=\"M525.5,-53C525.5,-53 430.5,-53 430.5,-53 424.5,-53 418.5,-47 418.5,-41 418.5,-41 418.5,-12 418.5,-12 418.5,-6 424.5,-0 430.5,-0 430.5,-0 525.5,-0 525.5,-0 531.5,-0 537.5,-6 537.5,-12 537.5,-12 537.5,-41 537.5,-41 537.5,-47 531.5,-53 525.5,-53\"/>\r\n",
       "<text text-anchor=\"middle\" x=\"478\" y=\"-37.8\" font-family=\"Helvetica,sans-Serif\" font-size=\"14.00\">mse = 780.756</text>\r\n",
       "<text text-anchor=\"middle\" x=\"478\" y=\"-22.8\" font-family=\"Helvetica,sans-Serif\" font-size=\"14.00\">samples = 155</text>\r\n",
       "<text text-anchor=\"middle\" x=\"478\" y=\"-7.8\" font-family=\"Helvetica,sans-Serif\" font-size=\"14.00\">value = 133.336</text>\r\n",
       "</g>\r\n",
       "<!-- 5&#45;&gt;7 -->\r\n",
       "<g id=\"edge7\" class=\"edge\"><title>5&#45;&gt;7</title>\r\n",
       "<path fill=\"none\" stroke=\"black\" d=\"M454.591,-88.9485C457.832,-80.4408 461.331,-71.2562 464.611,-62.6464\"/>\r\n",
       "<polygon fill=\"black\" stroke=\"black\" points=\"467.906,-63.8276 468.196,-53.2367 461.365,-61.3356 467.906,-63.8276\"/>\r\n",
       "</g>\r\n",
       "<!-- 9 -->\r\n",
       "<g id=\"node10\" class=\"node\"><title>9</title>\r\n",
       "<path fill=\"#f2c29f\" stroke=\"black\" d=\"M698.5,-157C698.5,-157 603.5,-157 603.5,-157 597.5,-157 591.5,-151 591.5,-145 591.5,-145 591.5,-101 591.5,-101 591.5,-95 597.5,-89 603.5,-89 603.5,-89 698.5,-89 698.5,-89 704.5,-89 710.5,-95 710.5,-101 710.5,-101 710.5,-145 710.5,-145 710.5,-151 704.5,-157 698.5,-157\"/>\r\n",
       "<text text-anchor=\"middle\" x=\"651\" y=\"-141.8\" font-family=\"Helvetica,sans-Serif\" font-size=\"14.00\">X[67] &lt;= 1.449</text>\r\n",
       "<text text-anchor=\"middle\" x=\"651\" y=\"-126.8\" font-family=\"Helvetica,sans-Serif\" font-size=\"14.00\">mse = 723.33</text>\r\n",
       "<text text-anchor=\"middle\" x=\"651\" y=\"-111.8\" font-family=\"Helvetica,sans-Serif\" font-size=\"14.00\">samples = 8711</text>\r\n",
       "<text text-anchor=\"middle\" x=\"651\" y=\"-96.8\" font-family=\"Helvetica,sans-Serif\" font-size=\"14.00\">value = 132.252</text>\r\n",
       "</g>\r\n",
       "<!-- 8&#45;&gt;9 -->\r\n",
       "<g id=\"edge9\" class=\"edge\"><title>8&#45;&gt;9</title>\r\n",
       "<path fill=\"none\" stroke=\"black\" d=\"M651,-192.884C651,-184.778 651,-175.982 651,-167.472\"/>\r\n",
       "<polygon fill=\"black\" stroke=\"black\" points=\"654.5,-167.299 651,-157.299 647.5,-167.299 654.5,-167.299\"/>\r\n",
       "</g>\r\n",
       "<!-- 12 -->\r\n",
       "<g id=\"node13\" class=\"node\"><title>12</title>\r\n",
       "<path fill=\"#e89051\" stroke=\"black\" d=\"M940.5,-157C940.5,-157 845.5,-157 845.5,-157 839.5,-157 833.5,-151 833.5,-145 833.5,-145 833.5,-101 833.5,-101 833.5,-95 839.5,-89 845.5,-89 845.5,-89 940.5,-89 940.5,-89 946.5,-89 952.5,-95 952.5,-101 952.5,-101 952.5,-145 952.5,-145 952.5,-151 946.5,-157 940.5,-157\"/>\r\n",
       "<text text-anchor=\"middle\" x=\"893\" y=\"-141.8\" font-family=\"Helvetica,sans-Serif\" font-size=\"14.00\">X[64] &lt;= 0.493</text>\r\n",
       "<text text-anchor=\"middle\" x=\"893\" y=\"-126.8\" font-family=\"Helvetica,sans-Serif\" font-size=\"14.00\">mse = 718.655</text>\r\n",
       "<text text-anchor=\"middle\" x=\"893\" y=\"-111.8\" font-family=\"Helvetica,sans-Serif\" font-size=\"14.00\">samples = 1797</text>\r\n",
       "<text text-anchor=\"middle\" x=\"893\" y=\"-96.8\" font-family=\"Helvetica,sans-Serif\" font-size=\"14.00\">value = 160.478</text>\r\n",
       "</g>\r\n",
       "<!-- 8&#45;&gt;12 -->\r\n",
       "<g id=\"edge12\" class=\"edge\"><title>8&#45;&gt;12</title>\r\n",
       "<path fill=\"none\" stroke=\"black\" d=\"M715.216,-198.934C748.75,-184.799 789.81,-167.493 824.018,-153.075\"/>\r\n",
       "<polygon fill=\"black\" stroke=\"black\" points=\"825.618,-156.199 833.473,-149.09 822.899,-149.749 825.618,-156.199\"/>\r\n",
       "</g>\r\n",
       "<!-- 10 -->\r\n",
       "<g id=\"node11\" class=\"node\"><title>10</title>\r\n",
       "<path fill=\"#f1bc96\" stroke=\"black\" d=\"M662.5,-53C662.5,-53 567.5,-53 567.5,-53 561.5,-53 555.5,-47 555.5,-41 555.5,-41 555.5,-12 555.5,-12 555.5,-6 561.5,-0 567.5,-0 567.5,-0 662.5,-0 662.5,-0 668.5,-0 674.5,-6 674.5,-12 674.5,-12 674.5,-41 674.5,-41 674.5,-47 668.5,-53 662.5,-53\"/>\r\n",
       "<text text-anchor=\"middle\" x=\"615\" y=\"-37.8\" font-family=\"Helvetica,sans-Serif\" font-size=\"14.00\">mse = 560.74</text>\r\n",
       "<text text-anchor=\"middle\" x=\"615\" y=\"-22.8\" font-family=\"Helvetica,sans-Serif\" font-size=\"14.00\">samples = 7812</text>\r\n",
       "<text text-anchor=\"middle\" x=\"615\" y=\"-7.8\" font-family=\"Helvetica,sans-Serif\" font-size=\"14.00\">value = 135.492</text>\r\n",
       "</g>\r\n",
       "<!-- 9&#45;&gt;10 -->\r\n",
       "<g id=\"edge10\" class=\"edge\"><title>9&#45;&gt;10</title>\r\n",
       "<path fill=\"none\" stroke=\"black\" d=\"M638.409,-88.9485C635.168,-80.4408 631.669,-71.2562 628.389,-62.6464\"/>\r\n",
       "<polygon fill=\"black\" stroke=\"black\" points=\"631.635,-61.3356 624.804,-53.2367 625.094,-63.8276 631.635,-61.3356\"/>\r\n",
       "</g>\r\n",
       "<!-- 11 -->\r\n",
       "<g id=\"node12\" class=\"node\"><title>11</title>\r\n",
       "<path fill=\"#fcf2ea\" stroke=\"black\" d=\"M803,-53C803,-53 705,-53 705,-53 699,-53 693,-47 693,-41 693,-41 693,-12 693,-12 693,-6 699,-0 705,-0 705,-0 803,-0 803,-0 809,-0 815,-6 815,-12 815,-12 815,-41 815,-41 815,-47 809,-53 803,-53\"/>\r\n",
       "<text text-anchor=\"middle\" x=\"754\" y=\"-37.8\" font-family=\"Helvetica,sans-Serif\" font-size=\"14.00\">mse = 1262.334</text>\r\n",
       "<text text-anchor=\"middle\" x=\"754\" y=\"-22.8\" font-family=\"Helvetica,sans-Serif\" font-size=\"14.00\">samples = 899</text>\r\n",
       "<text text-anchor=\"middle\" x=\"754\" y=\"-7.8\" font-family=\"Helvetica,sans-Serif\" font-size=\"14.00\">value = 105.302</text>\r\n",
       "</g>\r\n",
       "<!-- 9&#45;&gt;11 -->\r\n",
       "<g id=\"edge11\" class=\"edge\"><title>9&#45;&gt;11</title>\r\n",
       "<path fill=\"none\" stroke=\"black\" d=\"M687.024,-88.9485C697.195,-79.6175 708.253,-69.4722 718.398,-60.1641\"/>\r\n",
       "<polygon fill=\"black\" stroke=\"black\" points=\"720.946,-62.5762 725.948,-53.2367 716.214,-57.4182 720.946,-62.5762\"/>\r\n",
       "</g>\r\n",
       "<!-- 13 -->\r\n",
       "<g id=\"node14\" class=\"node\"><title>13</title>\r\n",
       "<path fill=\"#eb9e66\" stroke=\"black\" d=\"M940.5,-53C940.5,-53 845.5,-53 845.5,-53 839.5,-53 833.5,-47 833.5,-41 833.5,-41 833.5,-12 833.5,-12 833.5,-6 839.5,-0 845.5,-0 845.5,-0 940.5,-0 940.5,-0 946.5,-0 952.5,-6 952.5,-12 952.5,-12 952.5,-41 952.5,-41 952.5,-47 946.5,-53 940.5,-53\"/>\r\n",
       "<text text-anchor=\"middle\" x=\"893\" y=\"-37.8\" font-family=\"Helvetica,sans-Serif\" font-size=\"14.00\">mse = 772.391</text>\r\n",
       "<text text-anchor=\"middle\" x=\"893\" y=\"-22.8\" font-family=\"Helvetica,sans-Serif\" font-size=\"14.00\">samples = 944</text>\r\n",
       "<text text-anchor=\"middle\" x=\"893\" y=\"-7.8\" font-family=\"Helvetica,sans-Serif\" font-size=\"14.00\">value = 152.664</text>\r\n",
       "</g>\r\n",
       "<!-- 12&#45;&gt;13 -->\r\n",
       "<g id=\"edge13\" class=\"edge\"><title>12&#45;&gt;13</title>\r\n",
       "<path fill=\"none\" stroke=\"black\" d=\"M893,-88.9485C893,-80.7153 893,-71.848 893,-63.4814\"/>\r\n",
       "<polygon fill=\"black\" stroke=\"black\" points=\"896.5,-63.2367 893,-53.2367 889.5,-63.2367 896.5,-63.2367\"/>\r\n",
       "</g>\r\n",
       "<!-- 14 -->\r\n",
       "<g id=\"node15\" class=\"node\"><title>14</title>\r\n",
       "<path fill=\"#e58139\" stroke=\"black\" d=\"M1077.5,-53C1077.5,-53 982.5,-53 982.5,-53 976.5,-53 970.5,-47 970.5,-41 970.5,-41 970.5,-12 970.5,-12 970.5,-6 976.5,-0 982.5,-0 982.5,-0 1077.5,-0 1077.5,-0 1083.5,-0 1089.5,-6 1089.5,-12 1089.5,-12 1089.5,-41 1089.5,-41 1089.5,-47 1083.5,-53 1077.5,-53\"/>\r\n",
       "<text text-anchor=\"middle\" x=\"1030\" y=\"-37.8\" font-family=\"Helvetica,sans-Serif\" font-size=\"14.00\">mse = 522.052</text>\r\n",
       "<text text-anchor=\"middle\" x=\"1030\" y=\"-22.8\" font-family=\"Helvetica,sans-Serif\" font-size=\"14.00\">samples = 853</text>\r\n",
       "<text text-anchor=\"middle\" x=\"1030\" y=\"-7.8\" font-family=\"Helvetica,sans-Serif\" font-size=\"14.00\">value = 168.961</text>\r\n",
       "</g>\r\n",
       "<!-- 12&#45;&gt;14 -->\r\n",
       "<g id=\"edge14\" class=\"edge\"><title>12&#45;&gt;14</title>\r\n",
       "<path fill=\"none\" stroke=\"black\" d=\"M940.916,-88.9485C954.974,-79.2516 970.307,-68.6752 984.228,-59.073\"/>\r\n",
       "<polygon fill=\"black\" stroke=\"black\" points=\"986.444,-61.7959 992.689,-53.2367 982.47,-56.0337 986.444,-61.7959\"/>\r\n",
       "</g>\r\n",
       "</g>\r\n",
       "</svg>\r\n"
      ],
      "text/plain": [
       "<graphviz.files.Source at 0x28322252550>"
      ]
     },
     "execution_count": 42,
     "metadata": {},
     "output_type": "execute_result"
    }
   ],
   "source": [
    "from sklearn import tree\n",
    "import graphviz \n",
    "feature_list = list(X_train.columns)\n",
    "dot_data = tree.export_graphviz(tree_small, out_file=None,    \n",
    "                     filled=True, rounded=True)\n",
    "graph = graphviz.Source(dot_data)  \n",
    "graph "
   ]
  },
  {
   "cell_type": "markdown",
   "metadata": {},
   "source": [
    "### Importancia de variables"
   ]
  },
  {
   "cell_type": "code",
   "execution_count": 43,
   "metadata": {
    "collapsed": true
   },
   "outputs": [],
   "source": [
    "importances = list(model.feature_importances_)"
   ]
  },
  {
   "cell_type": "code",
   "execution_count": 44,
   "metadata": {
    "collapsed": true
   },
   "outputs": [],
   "source": [
    "# tuplas de importancia y variable\n",
    "feature_importances = [(feature, round(importance, 2)) for feature, importance in zip(feature_list, importances)]\n",
    "# Ordenamos las variables por importancia\n",
    "feature_importances = sorted(feature_importances, key = lambda x: x[1], reverse = True)\n"
   ]
  },
  {
   "cell_type": "code",
   "execution_count": 45,
   "metadata": {},
   "outputs": [
    {
     "name": "stdout",
     "output_type": "stream",
     "text": [
      "('capacidad', 0.26000000000000001)\n",
      "('second_ratio', 0.070000000000000007)\n",
      "('global_first_ratio', 0.059999999999999998)\n",
      "('first_ratio', 0.059999999999999998)\n",
      "('first_p', 0.059999999999999998)\n",
      "('global_second_ratio', 0.040000000000000001)\n",
      "('second_p', 0.040000000000000001)\n",
      "(('x0_MADSCQ',), 0.029999999999999999)\n",
      "(('x9_Matutina',), 0.02)\n",
      "('first_weight', 0.02)\n",
      "(('x1_MAD',), 0.01)\n",
      "(('x2_SCQ',), 0.01)\n",
      "(('x3_1',), 0.01)\n",
      "(('x3_2',), 0.01)\n",
      "(('x3_3',), 0.01)\n",
      "(('x3_4',), 0.01)\n",
      "(('x3_5',), 0.01)\n",
      "(('x3_6',), 0.01)\n",
      "(('x3_7',), 0.01)\n",
      "(('x3_9',), 0.01)\n",
      "(('x3_10',), 0.01)\n",
      "(('x3_12',), 0.01)\n",
      "(('x4_Friday',), 0.01)\n",
      "(('x4_Monday',), 0.01)\n",
      "(('x4_Saturday',), 0.01)\n",
      "(('x4_Sunday',), 0.01)\n",
      "(('x4_Thursday',), 0.01)\n",
      "(('x4_Tuesday',), 0.01)\n",
      "(('x4_Wednesday',), 0.01)\n",
      "(('x5_2017',), 0.01)\n",
      "(('x5_2018',), 0.01)\n",
      "(('x5_2019',), 0.01)\n",
      "(('x6_NO',), 0.01)\n",
      "(('x6_navidad',), 0.01)\n",
      "(('x6_verano',), 0.01)\n",
      "(('x7_FR',), 0.01)\n",
      "(('x9_Manana',), 0.01)\n",
      "(('x9_Mediodia',), 0.01)\n",
      "(('x9_Noche',), 0.01)\n",
      "(('x9_Tarde',), 0.01)\n",
      "(('x9_Tarde_Noche',), 0.01)\n",
      "(('x10_1',), 0.01)\n",
      "(('x10_2',), 0.01)\n",
      "('second_weight', 0.01)\n",
      "(('x0_ACEMAD',), 0.0)\n",
      "(('x0_LGWMAD',), 0.0)\n",
      "(('x0_MADPMI',), 0.0)\n",
      "(('x0_MADTXL',), 0.0)\n",
      "(('x1_ACE',), 0.0)\n",
      "(('x1_LGW',), 0.0)\n",
      "(('x1_PMI',), 0.0)\n",
      "(('x1_SCQ',), 0.0)\n",
      "(('x1_TXL',), 0.0)\n",
      "(('x2_ACE',), 0.0)\n",
      "(('x2_LGW',), 0.0)\n",
      "(('x2_MAD',), 0.0)\n",
      "(('x2_PMI',), 0.0)\n",
      "(('x2_TXL',), 0.0)\n",
      "(('x3_8',), 0.0)\n",
      "(('x3_11',), 0.0)\n",
      "(('x5_2020',), 0.0)\n",
      "(('x6_festivo',), 0.0)\n",
      "(('x6_puente de verano',), 0.0)\n",
      "(('x6_semana_santa',), 0.0)\n",
      "(('x7_D8',), 0.0)\n",
      "(('x7_UX',), 0.0)\n",
      "(('x8_D8',), 0.0)\n",
      "(('x8_UNKNOWN',), 0.0)\n",
      "(('x8_UX',), 0.0)\n",
      "(('x9_Nocturna',), 0.0)\n",
      "(('x10_3',), 0.0)\n",
      "(('x10_5',), 0.0)\n"
     ]
    }
   ],
   "source": [
    "[print(pair) for pair in feature_importances];"
   ]
  },
  {
   "cell_type": "markdown",
   "metadata": {},
   "source": [
    "Como podemos la variable más importante para este tipo de modelos es la variable capacidad, evidentemente esto determina como podemos llenar el avion"
   ]
  },
  {
   "cell_type": "markdown",
   "metadata": {},
   "source": [
    "Modelos de random Forest con las variables importantes"
   ]
  },
  {
   "cell_type": "markdown",
   "metadata": {},
   "source": [
    "1) Definimos el modelo de nuevo"
   ]
  },
  {
   "cell_type": "code",
   "execution_count": 46,
   "metadata": {
    "collapsed": true
   },
   "outputs": [],
   "source": [
    "rf_most_important = RandomForestRegressor(n_estimators= 1000, random_state=42)"
   ]
  },
  {
   "cell_type": "markdown",
   "metadata": {},
   "source": [
    "2) Seleccionamos los datos de train y test con las variables que han resultado más importantes en el algoritmo de selección de variables de Random Forest"
   ]
  },
  {
   "cell_type": "code",
   "execution_count": 47,
   "metadata": {
    "collapsed": true
   },
   "outputs": [],
   "source": [
    "train_important = X_train.loc[:, ['capacidad', 'second_ratio']]\n",
    "val_important = X_val.loc[:, ['capacidad', 'second_ratio']]\n",
    "test_important = X_test.loc[:, ['capacidad', 'second_ratio']]"
   ]
  },
  {
   "cell_type": "markdown",
   "metadata": {},
   "source": [
    "3) Entrenamos el modelo con el nuevo conjunto de train con las variables importantes"
   ]
  },
  {
   "cell_type": "code",
   "execution_count": 48,
   "metadata": {},
   "outputs": [
    {
     "data": {
      "text/plain": [
       "RandomForestRegressor(bootstrap=True, ccp_alpha=0.0, criterion='mse',\n",
       "                      max_depth=None, max_features='auto', max_leaf_nodes=None,\n",
       "                      max_samples=None, min_impurity_decrease=0.0,\n",
       "                      min_impurity_split=None, min_samples_leaf=1,\n",
       "                      min_samples_split=2, min_weight_fraction_leaf=0.0,\n",
       "                      n_estimators=1000, n_jobs=None, oob_score=False,\n",
       "                      random_state=42, verbose=0, warm_start=False)"
      ]
     },
     "execution_count": 48,
     "metadata": {},
     "output_type": "execute_result"
    }
   ],
   "source": [
    "rf_most_important.fit(train_important, y_train)\n",
    "\n"
   ]
  },
  {
   "cell_type": "markdown",
   "metadata": {},
   "source": [
    "4) Predicimos con el nuevo conjunto de test con las variables importantes"
   ]
  },
  {
   "cell_type": "code",
   "execution_count": 49,
   "metadata": {
    "collapsed": true
   },
   "outputs": [],
   "source": [
    "pred_train = rf_most_important.predict(train_important)\n",
    "pred_val = rf_most_important.predict(val_important)\n",
    "pred_test = rf_most_important.predict(test_important)\n"
   ]
  },
  {
   "cell_type": "code",
   "execution_count": 50,
   "metadata": {
    "collapsed": true
   },
   "outputs": [],
   "source": [
    "# Calcular métricas de evaluación\n",
    "mae_train = mae(y_train, pred_train);\n",
    "mae_val = mae(y_val, pred_val);\n",
    "mae_test = mae(y_test, pred_test);\n",
    "\n",
    "mse_train = mse(y_train, pred_train);\n",
    "mse_val = mse(y_val, pred_val);\n",
    "mse_test = mse(y_test, pred_test);\n",
    "\n",
    "mape_train = mape(y_train, pred_train);\n",
    "mape_val = mape(y_val, pred_val);\n",
    "mape_test = mape(y_test, pred_test);"
   ]
  },
  {
   "cell_type": "code",
   "execution_count": 51,
   "metadata": {},
   "outputs": [
    {
     "name": "stdout",
     "output_type": "stream",
     "text": [
      "Train: MAE = 16.5604844086 - MSE = 519.047589374 - MAPE =13.82252764349646\n",
      "Validation: MAE = 20.361269764 - MSE = 683.862014219 - MAPE =16.1749265673388\n",
      "Test: MAE = 23.3216204529 - MSE = 904.998430238 - MAPE =19.09071831022919\n"
     ]
    }
   ],
   "source": [
    "print('Train: MAE = ' + str(mae_train) + ' - MSE = '  + str(mse_train) + ' - MAPE =' + str(mape_train))\n",
    "print('Validation: MAE = ' + str(mae_val) + ' - MSE = '  + str(mse_val) + ' - MAPE =' + str(mape_val))\n",
    "print('Test: MAE = ' + str(mae_test) + ' - MSE = '  + str(mse_test) + ' - MAPE =' + str(mape_test))"
   ]
  },
  {
   "cell_type": "markdown",
   "metadata": {},
   "source": [
    "### Exahustive Grid Search"
   ]
  },
  {
   "cell_type": "markdown",
   "metadata": {},
   "source": [
    "Vamos a proceder a calcular los parámetros óptimos para nuestro modelo"
   ]
  },
  {
   "cell_type": "markdown",
   "metadata": {},
   "source": [
    "Definimos los paramétros que queremos optimizar en este caso:\n",
    "\n",
    "- **ntree o n_estimators**: número de árboles en el bosque. Usar demasiados árboles puede ser innecesariamente ineficiente.\n",
    "\n",
    "- **mtry o max_features**: número de variables aleatorias como candidatas en cada ramifiación.\n",
    "\n",
    "- **sampsize**: el número de muestras sobre las cuales entrenar. El valor por defecto es 63.25%. Valores más bajos podrían introducir sesgo y reducir el tiempo. Valores más altos podrían incrementar el rendimiento del modelo pero a riesgo de causar overfitting.\n",
    "\n",
    "- **nodesize o min_samples_leaf**: mínimo número de muestras dentro de los nodos terminales. Equilibrio entre bias-varianza\n",
    "\n",
    "- **maxnodes**: máximo número de nodos terminales.\n"
   ]
  },
  {
   "cell_type": "code",
   "execution_count": 52,
   "metadata": {},
   "outputs": [
    {
     "data": {
      "text/plain": [
       "[{'bootstrap': [True, False],\n",
       "  'max_depth': [10, 100, None],\n",
       "  'max_features': [None, 0.01],\n",
       "  'min_samples_leaf': [1, 2, 4],\n",
       "  'n_estimators': [10, 50, 100]}]"
      ]
     },
     "execution_count": 52,
     "metadata": {},
     "output_type": "execute_result"
    }
   ],
   "source": [
    "param_grid = [{'bootstrap': [True, False],\n",
    "  'n_estimators': [10, 50, 100], 'max_features': [None, 0.01],'min_samples_leaf': [1, 2, 4],\n",
    "  'max_depth': [10,  100, None]}\n",
    " ]\n",
    "\n",
    "param_grid"
   ]
  },
  {
   "cell_type": "markdown",
   "metadata": {},
   "source": [
    "Escogemos la lista de parametros de param_grid"
   ]
  },
  {
   "cell_type": "code",
   "execution_count": 53,
   "metadata": {},
   "outputs": [
    {
     "data": {
      "text/plain": [
       "{'bootstrap': [True, False],\n",
       " 'max_depth': [10, 100, None],\n",
       " 'max_features': [None, 0.01],\n",
       " 'min_samples_leaf': [1, 2, 4],\n",
       " 'n_estimators': [10, 50, 100]}"
      ]
     },
     "execution_count": 53,
     "metadata": {},
     "output_type": "execute_result"
    }
   ],
   "source": [
    "params_values = param_grid[0]\n",
    "params_values"
   ]
  },
  {
   "cell_type": "markdown",
   "metadata": {},
   "source": [
    "Calculamos el numero de iteraciones totales como la multiplicación de la longitud de los posibles valores de todos los hiperaparámetros."
   ]
  },
  {
   "cell_type": "code",
   "execution_count": 54,
   "metadata": {},
   "outputs": [
    {
     "name": "stdout",
     "output_type": "stream",
     "text": [
      "El numero de iteraciones es 108\n"
     ]
    }
   ],
   "source": [
    "num_iteraciones = len(params_values['bootstrap'])*len(params_values['n_estimators'])*len(params_values['max_features'])*len(params_values['min_samples_leaf'])*len(params_values['max_depth'])\n",
    "\n",
    "print('El numero de iteraciones es', num_iteraciones)"
   ]
  },
  {
   "cell_type": "code",
   "execution_count": 55,
   "metadata": {
    "collapsed": true
   },
   "outputs": [],
   "source": [
    "\n",
    "metric = mae\n",
    "error_val = []\n",
    "error_val= pd.DataFrame(columns=('val_error', 'bootstrap', 'n_estimators', 'max_features', 'min_samples_leaf', 'max_depth'))\n",
    "num_iter = 0"
   ]
  },
  {
   "cell_type": "code",
   "execution_count": 56,
   "metadata": {
    "scrolled": true
   },
   "outputs": [
    {
     "name": "stdout",
     "output_type": "stream",
     "text": [
      "Numero de iteración = 0, parametro boostrap = True, parametro number of trees = 10, parametro maximo de variables = None, parametro minumun sample = 1, parametro profundidad maxima = 10\n",
      "Error validacion = 16.8244939576\n",
      "Numero de iteración = 1, parametro boostrap = True, parametro number of trees = 10, parametro maximo de variables = None, parametro minumun sample = 1, parametro profundidad maxima = 100\n",
      "Error validacion = 16.7924820749\n",
      "Numero de iteración = 2, parametro boostrap = True, parametro number of trees = 10, parametro maximo de variables = None, parametro minumun sample = 1, parametro profundidad maxima = None\n",
      "Error validacion = 16.7924820749\n",
      "Numero de iteración = 3, parametro boostrap = True, parametro number of trees = 10, parametro maximo de variables = None, parametro minumun sample = 2, parametro profundidad maxima = 10\n",
      "Error validacion = 16.8145225863\n",
      "Numero de iteración = 4, parametro boostrap = True, parametro number of trees = 10, parametro maximo de variables = None, parametro minumun sample = 2, parametro profundidad maxima = 100\n",
      "Error validacion = 16.5001330936\n",
      "Numero de iteración = 5, parametro boostrap = True, parametro number of trees = 10, parametro maximo de variables = None, parametro minumun sample = 2, parametro profundidad maxima = None\n",
      "Error validacion = 16.5001330936\n",
      "Numero de iteración = 6, parametro boostrap = True, parametro number of trees = 10, parametro maximo de variables = None, parametro minumun sample = 4, parametro profundidad maxima = 10\n",
      "Error validacion = 16.6579847558\n",
      "Numero de iteración = 7, parametro boostrap = True, parametro number of trees = 10, parametro maximo de variables = None, parametro minumun sample = 4, parametro profundidad maxima = 100\n",
      "Error validacion = 16.1237512152\n",
      "Numero de iteración = 8, parametro boostrap = True, parametro number of trees = 10, parametro maximo de variables = None, parametro minumun sample = 4, parametro profundidad maxima = None\n",
      "Error validacion = 16.1237512152\n",
      "Numero de iteración = 9, parametro boostrap = True, parametro number of trees = 10, parametro maximo de variables = 0.01, parametro minumun sample = 1, parametro profundidad maxima = 10\n",
      "Error validacion = 22.4123503746\n",
      "Numero de iteración = 10, parametro boostrap = True, parametro number of trees = 10, parametro maximo de variables = 0.01, parametro minumun sample = 1, parametro profundidad maxima = 100\n",
      "Error validacion = 20.0728320631\n",
      "Numero de iteración = 11, parametro boostrap = True, parametro number of trees = 10, parametro maximo de variables = 0.01, parametro minumun sample = 1, parametro profundidad maxima = None\n",
      "Error validacion = 20.0728320631\n",
      "Numero de iteración = 12, parametro boostrap = True, parametro number of trees = 10, parametro maximo de variables = 0.01, parametro minumun sample = 2, parametro profundidad maxima = 10\n",
      "Error validacion = 22.6479045433\n",
      "Numero de iteración = 13, parametro boostrap = True, parametro number of trees = 10, parametro maximo de variables = 0.01, parametro minumun sample = 2, parametro profundidad maxima = 100\n",
      "Error validacion = 20.7571166855\n",
      "Numero de iteración = 14, parametro boostrap = True, parametro number of trees = 10, parametro maximo de variables = 0.01, parametro minumun sample = 2, parametro profundidad maxima = None\n",
      "Error validacion = 20.7571166855\n",
      "Numero de iteración = 15, parametro boostrap = True, parametro number of trees = 10, parametro maximo de variables = 0.01, parametro minumun sample = 4, parametro profundidad maxima = 10\n",
      "Error validacion = 22.9620528903\n",
      "Numero de iteración = 16, parametro boostrap = True, parametro number of trees = 10, parametro maximo de variables = 0.01, parametro minumun sample = 4, parametro profundidad maxima = 100\n",
      "Error validacion = 21.283044912\n",
      "Numero de iteración = 17, parametro boostrap = True, parametro number of trees = 10, parametro maximo de variables = 0.01, parametro minumun sample = 4, parametro profundidad maxima = None\n",
      "Error validacion = 21.283044912\n",
      "Numero de iteración = 18, parametro boostrap = True, parametro number of trees = 50, parametro maximo de variables = None, parametro minumun sample = 1, parametro profundidad maxima = 10\n",
      "Error validacion = 16.7764431131\n",
      "Numero de iteración = 19, parametro boostrap = True, parametro number of trees = 50, parametro maximo de variables = None, parametro minumun sample = 1, parametro profundidad maxima = 100\n",
      "Error validacion = 16.0165741204\n",
      "Numero de iteración = 20, parametro boostrap = True, parametro number of trees = 50, parametro maximo de variables = None, parametro minumun sample = 1, parametro profundidad maxima = None\n",
      "Error validacion = 16.0165741204\n",
      "Numero de iteración = 21, parametro boostrap = True, parametro number of trees = 50, parametro maximo de variables = None, parametro minumun sample = 2, parametro profundidad maxima = 10\n",
      "Error validacion = 16.6919607041\n",
      "Numero de iteración = 22, parametro boostrap = True, parametro number of trees = 50, parametro maximo de variables = None, parametro minumun sample = 2, parametro profundidad maxima = 100\n",
      "Error validacion = 15.7877205862\n",
      "Numero de iteración = 23, parametro boostrap = True, parametro number of trees = 50, parametro maximo de variables = None, parametro minumun sample = 2, parametro profundidad maxima = None\n",
      "Error validacion = 15.7877205862\n",
      "Numero de iteración = 24, parametro boostrap = True, parametro number of trees = 50, parametro maximo de variables = None, parametro minumun sample = 4, parametro profundidad maxima = 10\n",
      "Error validacion = 16.5964661631\n",
      "Numero de iteración = 25, parametro boostrap = True, parametro number of trees = 50, parametro maximo de variables = None, parametro minumun sample = 4, parametro profundidad maxima = 100\n",
      "Error validacion = 15.7063986678\n",
      "Numero de iteración = 26, parametro boostrap = True, parametro number of trees = 50, parametro maximo de variables = None, parametro minumun sample = 4, parametro profundidad maxima = None\n",
      "Error validacion = 15.7063986678\n",
      "Numero de iteración = 27, parametro boostrap = True, parametro number of trees = 50, parametro maximo de variables = 0.01, parametro minumun sample = 1, parametro profundidad maxima = 10\n",
      "Error validacion = 21.88738869\n",
      "Numero de iteración = 28, parametro boostrap = True, parametro number of trees = 50, parametro maximo de variables = 0.01, parametro minumun sample = 1, parametro profundidad maxima = 100\n",
      "Error validacion = 19.2810184552\n",
      "Numero de iteración = 29, parametro boostrap = True, parametro number of trees = 50, parametro maximo de variables = 0.01, parametro minumun sample = 1, parametro profundidad maxima = None\n",
      "Error validacion = 19.2810184552\n",
      "Numero de iteración = 30, parametro boostrap = True, parametro number of trees = 50, parametro maximo de variables = 0.01, parametro minumun sample = 2, parametro profundidad maxima = 10\n",
      "Error validacion = 22.2595307737\n",
      "Numero de iteración = 31, parametro boostrap = True, parametro number of trees = 50, parametro maximo de variables = 0.01, parametro minumun sample = 2, parametro profundidad maxima = 100\n",
      "Error validacion = 20.1060790034\n",
      "Numero de iteración = 32, parametro boostrap = True, parametro number of trees = 50, parametro maximo de variables = 0.01, parametro minumun sample = 2, parametro profundidad maxima = None\n",
      "Error validacion = 20.1060790034\n",
      "Numero de iteración = 33, parametro boostrap = True, parametro number of trees = 50, parametro maximo de variables = 0.01, parametro minumun sample = 4, parametro profundidad maxima = 10\n",
      "Error validacion = 22.4809976605\n",
      "Numero de iteración = 34, parametro boostrap = True, parametro number of trees = 50, parametro maximo de variables = 0.01, parametro minumun sample = 4, parametro profundidad maxima = 100\n",
      "Error validacion = 20.9410057848\n",
      "Numero de iteración = 35, parametro boostrap = True, parametro number of trees = 50, parametro maximo de variables = 0.01, parametro minumun sample = 4, parametro profundidad maxima = None\n",
      "Error validacion = 20.9410057848\n",
      "Numero de iteración = 36, parametro boostrap = True, parametro number of trees = 100, parametro maximo de variables = None, parametro minumun sample = 1, parametro profundidad maxima = 10\n",
      "Error validacion = 16.7756388631\n",
      "Numero de iteración = 37, parametro boostrap = True, parametro number of trees = 100, parametro maximo de variables = None, parametro minumun sample = 1, parametro profundidad maxima = 100\n"
     ]
    },
    {
     "name": "stdout",
     "output_type": "stream",
     "text": [
      "Error validacion = 15.9295078337\n",
      "Numero de iteración = 38, parametro boostrap = True, parametro number of trees = 100, parametro maximo de variables = None, parametro minumun sample = 1, parametro profundidad maxima = None\n",
      "Error validacion = 15.9295078337\n",
      "Numero de iteración = 39, parametro boostrap = True, parametro number of trees = 100, parametro maximo de variables = None, parametro minumun sample = 2, parametro profundidad maxima = 10\n",
      "Error validacion = 16.6806704841\n",
      "Numero de iteración = 40, parametro boostrap = True, parametro number of trees = 100, parametro maximo de variables = None, parametro minumun sample = 2, parametro profundidad maxima = 100\n",
      "Error validacion = 15.7337230254\n",
      "Numero de iteración = 41, parametro boostrap = True, parametro number of trees = 100, parametro maximo de variables = None, parametro minumun sample = 2, parametro profundidad maxima = None\n",
      "Error validacion = 15.7337230254\n",
      "Numero de iteración = 42, parametro boostrap = True, parametro number of trees = 100, parametro maximo de variables = None, parametro minumun sample = 4, parametro profundidad maxima = 10\n",
      "Error validacion = 16.5987088548\n",
      "Numero de iteración = 43, parametro boostrap = True, parametro number of trees = 100, parametro maximo de variables = None, parametro minumun sample = 4, parametro profundidad maxima = 100\n",
      "Error validacion = 15.6581713774\n",
      "Numero de iteración = 44, parametro boostrap = True, parametro number of trees = 100, parametro maximo de variables = None, parametro minumun sample = 4, parametro profundidad maxima = None\n",
      "Error validacion = 15.6581713774\n",
      "Numero de iteración = 45, parametro boostrap = True, parametro number of trees = 100, parametro maximo de variables = 0.01, parametro minumun sample = 1, parametro profundidad maxima = 10\n",
      "Error validacion = 22.0392128649\n",
      "Numero de iteración = 46, parametro boostrap = True, parametro number of trees = 100, parametro maximo de variables = 0.01, parametro minumun sample = 1, parametro profundidad maxima = 100\n",
      "Error validacion = 19.0754242099\n",
      "Numero de iteración = 47, parametro boostrap = True, parametro number of trees = 100, parametro maximo de variables = 0.01, parametro minumun sample = 1, parametro profundidad maxima = None\n",
      "Error validacion = 19.0754242099\n",
      "Numero de iteración = 48, parametro boostrap = True, parametro number of trees = 100, parametro maximo de variables = 0.01, parametro minumun sample = 2, parametro profundidad maxima = 10\n",
      "Error validacion = 22.2877682418\n",
      "Numero de iteración = 49, parametro boostrap = True, parametro number of trees = 100, parametro maximo de variables = 0.01, parametro minumun sample = 2, parametro profundidad maxima = 100\n",
      "Error validacion = 19.8926349509\n",
      "Numero de iteración = 50, parametro boostrap = True, parametro number of trees = 100, parametro maximo de variables = 0.01, parametro minumun sample = 2, parametro profundidad maxima = None\n",
      "Error validacion = 19.8926349509\n",
      "Numero de iteración = 51, parametro boostrap = True, parametro number of trees = 100, parametro maximo de variables = 0.01, parametro minumun sample = 4, parametro profundidad maxima = 10\n",
      "Error validacion = 22.4451241933\n",
      "Numero de iteración = 52, parametro boostrap = True, parametro number of trees = 100, parametro maximo de variables = 0.01, parametro minumun sample = 4, parametro profundidad maxima = 100\n",
      "Error validacion = 20.7731150573\n",
      "Numero de iteración = 53, parametro boostrap = True, parametro number of trees = 100, parametro maximo de variables = 0.01, parametro minumun sample = 4, parametro profundidad maxima = None\n",
      "Error validacion = 20.7731150573\n",
      "Numero de iteración = 54, parametro boostrap = False, parametro number of trees = 10, parametro maximo de variables = None, parametro minumun sample = 1, parametro profundidad maxima = 10\n",
      "Error validacion = 17.822757825\n",
      "Numero de iteración = 55, parametro boostrap = False, parametro number of trees = 10, parametro maximo de variables = None, parametro minumun sample = 1, parametro profundidad maxima = 100\n",
      "Error validacion = 21.6586026739\n",
      "Numero de iteración = 56, parametro boostrap = False, parametro number of trees = 10, parametro maximo de variables = None, parametro minumun sample = 1, parametro profundidad maxima = None\n",
      "Error validacion = 21.6586026739\n",
      "Numero de iteración = 57, parametro boostrap = False, parametro number of trees = 10, parametro maximo de variables = None, parametro minumun sample = 2, parametro profundidad maxima = 10\n",
      "Error validacion = 17.7466349813\n",
      "Numero de iteración = 58, parametro boostrap = False, parametro number of trees = 10, parametro maximo de variables = None, parametro minumun sample = 2, parametro profundidad maxima = 100\n",
      "Error validacion = 21.339208528\n",
      "Numero de iteración = 59, parametro boostrap = False, parametro number of trees = 10, parametro maximo de variables = None, parametro minumun sample = 2, parametro profundidad maxima = None\n",
      "Error validacion = 21.339208528\n",
      "Numero de iteración = 60, parametro boostrap = False, parametro number of trees = 10, parametro maximo de variables = None, parametro minumun sample = 4, parametro profundidad maxima = 10\n",
      "Error validacion = 17.5678373138\n",
      "Numero de iteración = 61, parametro boostrap = False, parametro number of trees = 10, parametro maximo de variables = None, parametro minumun sample = 4, parametro profundidad maxima = 100\n",
      "Error validacion = 19.9133891485\n",
      "Numero de iteración = 62, parametro boostrap = False, parametro number of trees = 10, parametro maximo de variables = None, parametro minumun sample = 4, parametro profundidad maxima = None\n",
      "Error validacion = 19.9133891485\n",
      "Numero de iteración = 63, parametro boostrap = False, parametro number of trees = 10, parametro maximo de variables = 0.01, parametro minumun sample = 1, parametro profundidad maxima = 10\n",
      "Error validacion = 22.1980952042\n",
      "Numero de iteración = 64, parametro boostrap = False, parametro number of trees = 10, parametro maximo de variables = 0.01, parametro minumun sample = 1, parametro profundidad maxima = 100\n",
      "Error validacion = 19.9185196002\n",
      "Numero de iteración = 65, parametro boostrap = False, parametro number of trees = 10, parametro maximo de variables = 0.01, parametro minumun sample = 1, parametro profundidad maxima = None\n",
      "Error validacion = 19.9185196002\n",
      "Numero de iteración = 66, parametro boostrap = False, parametro number of trees = 10, parametro maximo de variables = 0.01, parametro minumun sample = 2, parametro profundidad maxima = 10\n",
      "Error validacion = 22.7087851224\n",
      "Numero de iteración = 67, parametro boostrap = False, parametro number of trees = 10, parametro maximo de variables = 0.01, parametro minumun sample = 2, parametro profundidad maxima = 100\n",
      "Error validacion = 20.2131696717\n",
      "Numero de iteración = 68, parametro boostrap = False, parametro number of trees = 10, parametro maximo de variables = 0.01, parametro minumun sample = 2, parametro profundidad maxima = None\n",
      "Error validacion = 20.2131696717\n",
      "Numero de iteración = 69, parametro boostrap = False, parametro number of trees = 10, parametro maximo de variables = 0.01, parametro minumun sample = 4, parametro profundidad maxima = 10\n",
      "Error validacion = 22.6330994455\n",
      "Numero de iteración = 70, parametro boostrap = False, parametro number of trees = 10, parametro maximo de variables = 0.01, parametro minumun sample = 4, parametro profundidad maxima = 100\n",
      "Error validacion = 20.7292115343\n",
      "Numero de iteración = 71, parametro boostrap = False, parametro number of trees = 10, parametro maximo de variables = 0.01, parametro minumun sample = 4, parametro profundidad maxima = None\n",
      "Error validacion = 20.7292115343\n",
      "Numero de iteración = 72, parametro boostrap = False, parametro number of trees = 50, parametro maximo de variables = None, parametro minumun sample = 1, parametro profundidad maxima = 10\n",
      "Error validacion = 17.8141241964\n",
      "Numero de iteración = 73, parametro boostrap = False, parametro number of trees = 50, parametro maximo de variables = None, parametro minumun sample = 1, parametro profundidad maxima = 100\n",
      "Error validacion = 21.475240135\n",
      "Numero de iteración = 74, parametro boostrap = False, parametro number of trees = 50, parametro maximo de variables = None, parametro minumun sample = 1, parametro profundidad maxima = None\n"
     ]
    },
    {
     "name": "stdout",
     "output_type": "stream",
     "text": [
      "Error validacion = 21.475240135\n",
      "Numero de iteración = 75, parametro boostrap = False, parametro number of trees = 50, parametro maximo de variables = None, parametro minumun sample = 2, parametro profundidad maxima = 10\n",
      "Error validacion = 17.7676484324\n",
      "Numero de iteración = 76, parametro boostrap = False, parametro number of trees = 50, parametro maximo de variables = None, parametro minumun sample = 2, parametro profundidad maxima = 100\n",
      "Error validacion = 21.2880266745\n",
      "Numero de iteración = 77, parametro boostrap = False, parametro number of trees = 50, parametro maximo de variables = None, parametro minumun sample = 2, parametro profundidad maxima = None\n",
      "Error validacion = 21.2880266745\n",
      "Numero de iteración = 78, parametro boostrap = False, parametro number of trees = 50, parametro maximo de variables = None, parametro minumun sample = 4, parametro profundidad maxima = 10\n",
      "Error validacion = 17.5610445346\n",
      "Numero de iteración = 79, parametro boostrap = False, parametro number of trees = 50, parametro maximo de variables = None, parametro minumun sample = 4, parametro profundidad maxima = 100\n",
      "Error validacion = 19.8960548509\n",
      "Numero de iteración = 80, parametro boostrap = False, parametro number of trees = 50, parametro maximo de variables = None, parametro minumun sample = 4, parametro profundidad maxima = None\n",
      "Error validacion = 19.8960548509\n",
      "Numero de iteración = 81, parametro boostrap = False, parametro number of trees = 50, parametro maximo de variables = 0.01, parametro minumun sample = 1, parametro profundidad maxima = 10\n",
      "Error validacion = 22.1531325213\n",
      "Numero de iteración = 82, parametro boostrap = False, parametro number of trees = 50, parametro maximo de variables = 0.01, parametro minumun sample = 1, parametro profundidad maxima = 100\n",
      "Error validacion = 19.2489221508\n",
      "Numero de iteración = 83, parametro boostrap = False, parametro number of trees = 50, parametro maximo de variables = 0.01, parametro minumun sample = 1, parametro profundidad maxima = None\n",
      "Error validacion = 19.2489221508\n",
      "Numero de iteración = 84, parametro boostrap = False, parametro number of trees = 50, parametro maximo de variables = 0.01, parametro minumun sample = 2, parametro profundidad maxima = 10\n",
      "Error validacion = 22.295797682\n",
      "Numero de iteración = 85, parametro boostrap = False, parametro number of trees = 50, parametro maximo de variables = 0.01, parametro minumun sample = 2, parametro profundidad maxima = 100\n",
      "Error validacion = 19.6114125651\n",
      "Numero de iteración = 86, parametro boostrap = False, parametro number of trees = 50, parametro maximo de variables = 0.01, parametro minumun sample = 2, parametro profundidad maxima = None\n",
      "Error validacion = 19.6114125651\n",
      "Numero de iteración = 87, parametro boostrap = False, parametro number of trees = 50, parametro maximo de variables = 0.01, parametro minumun sample = 4, parametro profundidad maxima = 10\n",
      "Error validacion = 22.3913654902\n",
      "Numero de iteración = 88, parametro boostrap = False, parametro number of trees = 50, parametro maximo de variables = 0.01, parametro minumun sample = 4, parametro profundidad maxima = 100\n",
      "Error validacion = 20.4159848585\n",
      "Numero de iteración = 89, parametro boostrap = False, parametro number of trees = 50, parametro maximo de variables = 0.01, parametro minumun sample = 4, parametro profundidad maxima = None\n",
      "Error validacion = 20.4159848585\n",
      "Numero de iteración = 90, parametro boostrap = False, parametro number of trees = 100, parametro maximo de variables = None, parametro minumun sample = 1, parametro profundidad maxima = 10\n",
      "Error validacion = 17.8249833947\n",
      "Numero de iteración = 91, parametro boostrap = False, parametro number of trees = 100, parametro maximo de variables = None, parametro minumun sample = 1, parametro profundidad maxima = 100\n",
      "Error validacion = 21.4747244938\n",
      "Numero de iteración = 92, parametro boostrap = False, parametro number of trees = 100, parametro maximo de variables = None, parametro minumun sample = 1, parametro profundidad maxima = None\n",
      "Error validacion = 21.4747244938\n",
      "Numero de iteración = 93, parametro boostrap = False, parametro number of trees = 100, parametro maximo de variables = None, parametro minumun sample = 2, parametro profundidad maxima = 10\n",
      "Error validacion = 17.7669631169\n",
      "Numero de iteración = 94, parametro boostrap = False, parametro number of trees = 100, parametro maximo de variables = None, parametro minumun sample = 2, parametro profundidad maxima = 100\n",
      "Error validacion = 21.2911477804\n",
      "Numero de iteración = 95, parametro boostrap = False, parametro number of trees = 100, parametro maximo de variables = None, parametro minumun sample = 2, parametro profundidad maxima = None\n",
      "Error validacion = 21.2911477804\n",
      "Numero de iteración = 96, parametro boostrap = False, parametro number of trees = 100, parametro maximo de variables = None, parametro minumun sample = 4, parametro profundidad maxima = 10\n",
      "Error validacion = 17.5625495047\n",
      "Numero de iteración = 97, parametro boostrap = False, parametro number of trees = 100, parametro maximo de variables = None, parametro minumun sample = 4, parametro profundidad maxima = 100\n",
      "Error validacion = 19.8958422804\n",
      "Numero de iteración = 98, parametro boostrap = False, parametro number of trees = 100, parametro maximo de variables = None, parametro minumun sample = 4, parametro profundidad maxima = None\n",
      "Error validacion = 19.8958422804\n",
      "Numero de iteración = 99, parametro boostrap = False, parametro number of trees = 100, parametro maximo de variables = 0.01, parametro minumun sample = 1, parametro profundidad maxima = 10\n",
      "Error validacion = 22.0072760093\n",
      "Numero de iteración = 100, parametro boostrap = False, parametro number of trees = 100, parametro maximo de variables = 0.01, parametro minumun sample = 1, parametro profundidad maxima = 100\n",
      "Error validacion = 18.8879275863\n",
      "Numero de iteración = 101, parametro boostrap = False, parametro number of trees = 100, parametro maximo de variables = 0.01, parametro minumun sample = 1, parametro profundidad maxima = None\n",
      "Error validacion = 18.8879275863\n",
      "Numero de iteración = 102, parametro boostrap = False, parametro number of trees = 100, parametro maximo de variables = 0.01, parametro minumun sample = 2, parametro profundidad maxima = 10\n",
      "Error validacion = 22.2110217339\n",
      "Numero de iteración = 103, parametro boostrap = False, parametro number of trees = 100, parametro maximo de variables = 0.01, parametro minumun sample = 2, parametro profundidad maxima = 100\n",
      "Error validacion = 19.5436819443\n",
      "Numero de iteración = 104, parametro boostrap = False, parametro number of trees = 100, parametro maximo de variables = 0.01, parametro minumun sample = 2, parametro profundidad maxima = None\n",
      "Error validacion = 19.5436819443\n",
      "Numero de iteración = 105, parametro boostrap = False, parametro number of trees = 100, parametro maximo de variables = 0.01, parametro minumun sample = 4, parametro profundidad maxima = 10\n",
      "Error validacion = 22.3591564164\n",
      "Numero de iteración = 106, parametro boostrap = False, parametro number of trees = 100, parametro maximo de variables = 0.01, parametro minumun sample = 4, parametro profundidad maxima = 100\n",
      "Error validacion = 20.1718505541\n",
      "Numero de iteración = 107, parametro boostrap = False, parametro number of trees = 100, parametro maximo de variables = 0.01, parametro minumun sample = 4, parametro profundidad maxima = None\n",
      "Error validacion = 20.1718505541\n",
      "Time:  1504.2074893000001\n"
     ]
    }
   ],
   "source": [
    "start = timeit.default_timer()\n",
    "\n",
    "for a in range(0,len(params_values['bootstrap'])):\n",
    "    for b in range(0,len(params_values['n_estimators'])):\n",
    "        for c in range(0,len(params_values['max_features'])):\n",
    "            for d in range(0,len(params_values['min_samples_leaf'])):\n",
    "                for e in range(0,len(params_values['max_depth'])):\n",
    "                    # print control iteracion modelo\n",
    "                    print('Numero de iteración = ' + str(num_iter) +\n",
    "                          ', parametro boostrap = ' + str(params_values['bootstrap'][a]) + \n",
    "                          ', parametro number of trees = '  + str(params_values['n_estimators'][b]) +\n",
    "                          ', parametro maximo de variables = '  + str(params_values['max_features'][c]) +\n",
    "                          ', parametro minumun sample = '  + str(params_values['min_samples_leaf'][d]) +\n",
    "                          ', parametro profundidad maxima = '  + str(params_values['max_depth'][e]))\n",
    "\n",
    "                    # definicion del modelo con sus parametros\n",
    "                    model = RandomForestRegressor(bootstrap = params_values['bootstrap'][a], \n",
    "                                                  n_estimators = params_values['n_estimators'][b],\n",
    "                                                  max_features = params_values['max_features'][c],\n",
    "                                                  min_samples_leaf = params_values['min_samples_leaf'][d],\n",
    "                                                  max_depth = params_values['max_depth'][e], \n",
    "                                                  random_state = 1)\n",
    "\n",
    "                    # entrenamiento del modelo\n",
    "                    model.fit(X_train, np.array(y_train))\n",
    "\n",
    "                    # prediccion del conjunto de validacion\n",
    "                    pred_val = model.predict(X_val)\n",
    "\n",
    "                    # Calculo de la metrica de error\n",
    "                    error_val_iter = metric(y_val, pred_val)\n",
    "\n",
    "                    # print error\n",
    "                    print('Error validacion = ' + str(error_val_iter))\n",
    "\n",
    "                    # guarda el error\n",
    "                    error_val.loc[num_iter]=[error_val_iter,\n",
    "                                            params_values['bootstrap'][a], \n",
    "                                            params_values['n_estimators'][b],\n",
    "                                            params_values['max_features'][c],\n",
    "                                            params_values['min_samples_leaf'][d],\n",
    "                                            params_values['max_depth'][e]] \n",
    "                    num_iter += 1\n",
    "\n",
    "stop = timeit.default_timer()\n",
    "print('Time: ', stop - start) "
   ]
  },
  {
   "cell_type": "markdown",
   "metadata": {},
   "source": [
    "Mostramos la tabla del error de validacion segun los diferentes parametros para elegir el modelo que mejor se ajuste a nuestros datos"
   ]
  },
  {
   "cell_type": "code",
   "execution_count": 57,
   "metadata": {},
   "outputs": [
    {
     "data": {
      "text/html": [
       "<div>\n",
       "<style>\n",
       "    .dataframe thead tr:only-child th {\n",
       "        text-align: right;\n",
       "    }\n",
       "\n",
       "    .dataframe thead th {\n",
       "        text-align: left;\n",
       "    }\n",
       "\n",
       "    .dataframe tbody tr th {\n",
       "        vertical-align: top;\n",
       "    }\n",
       "</style>\n",
       "<table border=\"1\" class=\"dataframe\">\n",
       "  <thead>\n",
       "    <tr style=\"text-align: right;\">\n",
       "      <th></th>\n",
       "      <th>val_error</th>\n",
       "      <th>bootstrap</th>\n",
       "      <th>n_estimators</th>\n",
       "      <th>max_features</th>\n",
       "      <th>min_samples_leaf</th>\n",
       "      <th>max_depth</th>\n",
       "    </tr>\n",
       "  </thead>\n",
       "  <tbody>\n",
       "    <tr>\n",
       "      <th>0</th>\n",
       "      <td>16.824494</td>\n",
       "      <td>True</td>\n",
       "      <td>10</td>\n",
       "      <td>NaN</td>\n",
       "      <td>1</td>\n",
       "      <td>10</td>\n",
       "    </tr>\n",
       "    <tr>\n",
       "      <th>1</th>\n",
       "      <td>16.792482</td>\n",
       "      <td>True</td>\n",
       "      <td>10</td>\n",
       "      <td>NaN</td>\n",
       "      <td>1</td>\n",
       "      <td>100</td>\n",
       "    </tr>\n",
       "    <tr>\n",
       "      <th>2</th>\n",
       "      <td>16.792482</td>\n",
       "      <td>True</td>\n",
       "      <td>10</td>\n",
       "      <td>NaN</td>\n",
       "      <td>1</td>\n",
       "      <td>None</td>\n",
       "    </tr>\n",
       "    <tr>\n",
       "      <th>3</th>\n",
       "      <td>16.814523</td>\n",
       "      <td>True</td>\n",
       "      <td>10</td>\n",
       "      <td>NaN</td>\n",
       "      <td>2</td>\n",
       "      <td>10</td>\n",
       "    </tr>\n",
       "    <tr>\n",
       "      <th>4</th>\n",
       "      <td>16.500133</td>\n",
       "      <td>True</td>\n",
       "      <td>10</td>\n",
       "      <td>NaN</td>\n",
       "      <td>2</td>\n",
       "      <td>100</td>\n",
       "    </tr>\n",
       "    <tr>\n",
       "      <th>5</th>\n",
       "      <td>16.500133</td>\n",
       "      <td>True</td>\n",
       "      <td>10</td>\n",
       "      <td>NaN</td>\n",
       "      <td>2</td>\n",
       "      <td>None</td>\n",
       "    </tr>\n",
       "    <tr>\n",
       "      <th>6</th>\n",
       "      <td>16.657985</td>\n",
       "      <td>True</td>\n",
       "      <td>10</td>\n",
       "      <td>NaN</td>\n",
       "      <td>4</td>\n",
       "      <td>10</td>\n",
       "    </tr>\n",
       "    <tr>\n",
       "      <th>7</th>\n",
       "      <td>16.123751</td>\n",
       "      <td>True</td>\n",
       "      <td>10</td>\n",
       "      <td>NaN</td>\n",
       "      <td>4</td>\n",
       "      <td>100</td>\n",
       "    </tr>\n",
       "    <tr>\n",
       "      <th>8</th>\n",
       "      <td>16.123751</td>\n",
       "      <td>True</td>\n",
       "      <td>10</td>\n",
       "      <td>NaN</td>\n",
       "      <td>4</td>\n",
       "      <td>None</td>\n",
       "    </tr>\n",
       "    <tr>\n",
       "      <th>9</th>\n",
       "      <td>22.412350</td>\n",
       "      <td>True</td>\n",
       "      <td>10</td>\n",
       "      <td>0.01</td>\n",
       "      <td>1</td>\n",
       "      <td>10</td>\n",
       "    </tr>\n",
       "    <tr>\n",
       "      <th>10</th>\n",
       "      <td>20.072832</td>\n",
       "      <td>True</td>\n",
       "      <td>10</td>\n",
       "      <td>0.01</td>\n",
       "      <td>1</td>\n",
       "      <td>100</td>\n",
       "    </tr>\n",
       "    <tr>\n",
       "      <th>11</th>\n",
       "      <td>20.072832</td>\n",
       "      <td>True</td>\n",
       "      <td>10</td>\n",
       "      <td>0.01</td>\n",
       "      <td>1</td>\n",
       "      <td>None</td>\n",
       "    </tr>\n",
       "    <tr>\n",
       "      <th>12</th>\n",
       "      <td>22.647905</td>\n",
       "      <td>True</td>\n",
       "      <td>10</td>\n",
       "      <td>0.01</td>\n",
       "      <td>2</td>\n",
       "      <td>10</td>\n",
       "    </tr>\n",
       "    <tr>\n",
       "      <th>13</th>\n",
       "      <td>20.757117</td>\n",
       "      <td>True</td>\n",
       "      <td>10</td>\n",
       "      <td>0.01</td>\n",
       "      <td>2</td>\n",
       "      <td>100</td>\n",
       "    </tr>\n",
       "    <tr>\n",
       "      <th>14</th>\n",
       "      <td>20.757117</td>\n",
       "      <td>True</td>\n",
       "      <td>10</td>\n",
       "      <td>0.01</td>\n",
       "      <td>2</td>\n",
       "      <td>None</td>\n",
       "    </tr>\n",
       "    <tr>\n",
       "      <th>15</th>\n",
       "      <td>22.962053</td>\n",
       "      <td>True</td>\n",
       "      <td>10</td>\n",
       "      <td>0.01</td>\n",
       "      <td>4</td>\n",
       "      <td>10</td>\n",
       "    </tr>\n",
       "    <tr>\n",
       "      <th>16</th>\n",
       "      <td>21.283045</td>\n",
       "      <td>True</td>\n",
       "      <td>10</td>\n",
       "      <td>0.01</td>\n",
       "      <td>4</td>\n",
       "      <td>100</td>\n",
       "    </tr>\n",
       "    <tr>\n",
       "      <th>17</th>\n",
       "      <td>21.283045</td>\n",
       "      <td>True</td>\n",
       "      <td>10</td>\n",
       "      <td>0.01</td>\n",
       "      <td>4</td>\n",
       "      <td>None</td>\n",
       "    </tr>\n",
       "    <tr>\n",
       "      <th>18</th>\n",
       "      <td>16.776443</td>\n",
       "      <td>True</td>\n",
       "      <td>50</td>\n",
       "      <td>NaN</td>\n",
       "      <td>1</td>\n",
       "      <td>10</td>\n",
       "    </tr>\n",
       "    <tr>\n",
       "      <th>19</th>\n",
       "      <td>16.016574</td>\n",
       "      <td>True</td>\n",
       "      <td>50</td>\n",
       "      <td>NaN</td>\n",
       "      <td>1</td>\n",
       "      <td>100</td>\n",
       "    </tr>\n",
       "    <tr>\n",
       "      <th>20</th>\n",
       "      <td>16.016574</td>\n",
       "      <td>True</td>\n",
       "      <td>50</td>\n",
       "      <td>NaN</td>\n",
       "      <td>1</td>\n",
       "      <td>None</td>\n",
       "    </tr>\n",
       "    <tr>\n",
       "      <th>21</th>\n",
       "      <td>16.691961</td>\n",
       "      <td>True</td>\n",
       "      <td>50</td>\n",
       "      <td>NaN</td>\n",
       "      <td>2</td>\n",
       "      <td>10</td>\n",
       "    </tr>\n",
       "    <tr>\n",
       "      <th>22</th>\n",
       "      <td>15.787721</td>\n",
       "      <td>True</td>\n",
       "      <td>50</td>\n",
       "      <td>NaN</td>\n",
       "      <td>2</td>\n",
       "      <td>100</td>\n",
       "    </tr>\n",
       "    <tr>\n",
       "      <th>23</th>\n",
       "      <td>15.787721</td>\n",
       "      <td>True</td>\n",
       "      <td>50</td>\n",
       "      <td>NaN</td>\n",
       "      <td>2</td>\n",
       "      <td>None</td>\n",
       "    </tr>\n",
       "    <tr>\n",
       "      <th>24</th>\n",
       "      <td>16.596466</td>\n",
       "      <td>True</td>\n",
       "      <td>50</td>\n",
       "      <td>NaN</td>\n",
       "      <td>4</td>\n",
       "      <td>10</td>\n",
       "    </tr>\n",
       "    <tr>\n",
       "      <th>25</th>\n",
       "      <td>15.706399</td>\n",
       "      <td>True</td>\n",
       "      <td>50</td>\n",
       "      <td>NaN</td>\n",
       "      <td>4</td>\n",
       "      <td>100</td>\n",
       "    </tr>\n",
       "    <tr>\n",
       "      <th>26</th>\n",
       "      <td>15.706399</td>\n",
       "      <td>True</td>\n",
       "      <td>50</td>\n",
       "      <td>NaN</td>\n",
       "      <td>4</td>\n",
       "      <td>None</td>\n",
       "    </tr>\n",
       "    <tr>\n",
       "      <th>27</th>\n",
       "      <td>21.887389</td>\n",
       "      <td>True</td>\n",
       "      <td>50</td>\n",
       "      <td>0.01</td>\n",
       "      <td>1</td>\n",
       "      <td>10</td>\n",
       "    </tr>\n",
       "    <tr>\n",
       "      <th>28</th>\n",
       "      <td>19.281018</td>\n",
       "      <td>True</td>\n",
       "      <td>50</td>\n",
       "      <td>0.01</td>\n",
       "      <td>1</td>\n",
       "      <td>100</td>\n",
       "    </tr>\n",
       "    <tr>\n",
       "      <th>29</th>\n",
       "      <td>19.281018</td>\n",
       "      <td>True</td>\n",
       "      <td>50</td>\n",
       "      <td>0.01</td>\n",
       "      <td>1</td>\n",
       "      <td>None</td>\n",
       "    </tr>\n",
       "    <tr>\n",
       "      <th>...</th>\n",
       "      <td>...</td>\n",
       "      <td>...</td>\n",
       "      <td>...</td>\n",
       "      <td>...</td>\n",
       "      <td>...</td>\n",
       "      <td>...</td>\n",
       "    </tr>\n",
       "    <tr>\n",
       "      <th>78</th>\n",
       "      <td>17.561045</td>\n",
       "      <td>False</td>\n",
       "      <td>50</td>\n",
       "      <td>NaN</td>\n",
       "      <td>4</td>\n",
       "      <td>10</td>\n",
       "    </tr>\n",
       "    <tr>\n",
       "      <th>79</th>\n",
       "      <td>19.896055</td>\n",
       "      <td>False</td>\n",
       "      <td>50</td>\n",
       "      <td>NaN</td>\n",
       "      <td>4</td>\n",
       "      <td>100</td>\n",
       "    </tr>\n",
       "    <tr>\n",
       "      <th>80</th>\n",
       "      <td>19.896055</td>\n",
       "      <td>False</td>\n",
       "      <td>50</td>\n",
       "      <td>NaN</td>\n",
       "      <td>4</td>\n",
       "      <td>None</td>\n",
       "    </tr>\n",
       "    <tr>\n",
       "      <th>81</th>\n",
       "      <td>22.153133</td>\n",
       "      <td>False</td>\n",
       "      <td>50</td>\n",
       "      <td>0.01</td>\n",
       "      <td>1</td>\n",
       "      <td>10</td>\n",
       "    </tr>\n",
       "    <tr>\n",
       "      <th>82</th>\n",
       "      <td>19.248922</td>\n",
       "      <td>False</td>\n",
       "      <td>50</td>\n",
       "      <td>0.01</td>\n",
       "      <td>1</td>\n",
       "      <td>100</td>\n",
       "    </tr>\n",
       "    <tr>\n",
       "      <th>83</th>\n",
       "      <td>19.248922</td>\n",
       "      <td>False</td>\n",
       "      <td>50</td>\n",
       "      <td>0.01</td>\n",
       "      <td>1</td>\n",
       "      <td>None</td>\n",
       "    </tr>\n",
       "    <tr>\n",
       "      <th>84</th>\n",
       "      <td>22.295798</td>\n",
       "      <td>False</td>\n",
       "      <td>50</td>\n",
       "      <td>0.01</td>\n",
       "      <td>2</td>\n",
       "      <td>10</td>\n",
       "    </tr>\n",
       "    <tr>\n",
       "      <th>85</th>\n",
       "      <td>19.611413</td>\n",
       "      <td>False</td>\n",
       "      <td>50</td>\n",
       "      <td>0.01</td>\n",
       "      <td>2</td>\n",
       "      <td>100</td>\n",
       "    </tr>\n",
       "    <tr>\n",
       "      <th>86</th>\n",
       "      <td>19.611413</td>\n",
       "      <td>False</td>\n",
       "      <td>50</td>\n",
       "      <td>0.01</td>\n",
       "      <td>2</td>\n",
       "      <td>None</td>\n",
       "    </tr>\n",
       "    <tr>\n",
       "      <th>87</th>\n",
       "      <td>22.391365</td>\n",
       "      <td>False</td>\n",
       "      <td>50</td>\n",
       "      <td>0.01</td>\n",
       "      <td>4</td>\n",
       "      <td>10</td>\n",
       "    </tr>\n",
       "    <tr>\n",
       "      <th>88</th>\n",
       "      <td>20.415985</td>\n",
       "      <td>False</td>\n",
       "      <td>50</td>\n",
       "      <td>0.01</td>\n",
       "      <td>4</td>\n",
       "      <td>100</td>\n",
       "    </tr>\n",
       "    <tr>\n",
       "      <th>89</th>\n",
       "      <td>20.415985</td>\n",
       "      <td>False</td>\n",
       "      <td>50</td>\n",
       "      <td>0.01</td>\n",
       "      <td>4</td>\n",
       "      <td>None</td>\n",
       "    </tr>\n",
       "    <tr>\n",
       "      <th>90</th>\n",
       "      <td>17.824983</td>\n",
       "      <td>False</td>\n",
       "      <td>100</td>\n",
       "      <td>NaN</td>\n",
       "      <td>1</td>\n",
       "      <td>10</td>\n",
       "    </tr>\n",
       "    <tr>\n",
       "      <th>91</th>\n",
       "      <td>21.474724</td>\n",
       "      <td>False</td>\n",
       "      <td>100</td>\n",
       "      <td>NaN</td>\n",
       "      <td>1</td>\n",
       "      <td>100</td>\n",
       "    </tr>\n",
       "    <tr>\n",
       "      <th>92</th>\n",
       "      <td>21.474724</td>\n",
       "      <td>False</td>\n",
       "      <td>100</td>\n",
       "      <td>NaN</td>\n",
       "      <td>1</td>\n",
       "      <td>None</td>\n",
       "    </tr>\n",
       "    <tr>\n",
       "      <th>93</th>\n",
       "      <td>17.766963</td>\n",
       "      <td>False</td>\n",
       "      <td>100</td>\n",
       "      <td>NaN</td>\n",
       "      <td>2</td>\n",
       "      <td>10</td>\n",
       "    </tr>\n",
       "    <tr>\n",
       "      <th>94</th>\n",
       "      <td>21.291148</td>\n",
       "      <td>False</td>\n",
       "      <td>100</td>\n",
       "      <td>NaN</td>\n",
       "      <td>2</td>\n",
       "      <td>100</td>\n",
       "    </tr>\n",
       "    <tr>\n",
       "      <th>95</th>\n",
       "      <td>21.291148</td>\n",
       "      <td>False</td>\n",
       "      <td>100</td>\n",
       "      <td>NaN</td>\n",
       "      <td>2</td>\n",
       "      <td>None</td>\n",
       "    </tr>\n",
       "    <tr>\n",
       "      <th>96</th>\n",
       "      <td>17.562550</td>\n",
       "      <td>False</td>\n",
       "      <td>100</td>\n",
       "      <td>NaN</td>\n",
       "      <td>4</td>\n",
       "      <td>10</td>\n",
       "    </tr>\n",
       "    <tr>\n",
       "      <th>97</th>\n",
       "      <td>19.895842</td>\n",
       "      <td>False</td>\n",
       "      <td>100</td>\n",
       "      <td>NaN</td>\n",
       "      <td>4</td>\n",
       "      <td>100</td>\n",
       "    </tr>\n",
       "    <tr>\n",
       "      <th>98</th>\n",
       "      <td>19.895842</td>\n",
       "      <td>False</td>\n",
       "      <td>100</td>\n",
       "      <td>NaN</td>\n",
       "      <td>4</td>\n",
       "      <td>None</td>\n",
       "    </tr>\n",
       "    <tr>\n",
       "      <th>99</th>\n",
       "      <td>22.007276</td>\n",
       "      <td>False</td>\n",
       "      <td>100</td>\n",
       "      <td>0.01</td>\n",
       "      <td>1</td>\n",
       "      <td>10</td>\n",
       "    </tr>\n",
       "    <tr>\n",
       "      <th>100</th>\n",
       "      <td>18.887928</td>\n",
       "      <td>False</td>\n",
       "      <td>100</td>\n",
       "      <td>0.01</td>\n",
       "      <td>1</td>\n",
       "      <td>100</td>\n",
       "    </tr>\n",
       "    <tr>\n",
       "      <th>101</th>\n",
       "      <td>18.887928</td>\n",
       "      <td>False</td>\n",
       "      <td>100</td>\n",
       "      <td>0.01</td>\n",
       "      <td>1</td>\n",
       "      <td>None</td>\n",
       "    </tr>\n",
       "    <tr>\n",
       "      <th>102</th>\n",
       "      <td>22.211022</td>\n",
       "      <td>False</td>\n",
       "      <td>100</td>\n",
       "      <td>0.01</td>\n",
       "      <td>2</td>\n",
       "      <td>10</td>\n",
       "    </tr>\n",
       "    <tr>\n",
       "      <th>103</th>\n",
       "      <td>19.543682</td>\n",
       "      <td>False</td>\n",
       "      <td>100</td>\n",
       "      <td>0.01</td>\n",
       "      <td>2</td>\n",
       "      <td>100</td>\n",
       "    </tr>\n",
       "    <tr>\n",
       "      <th>104</th>\n",
       "      <td>19.543682</td>\n",
       "      <td>False</td>\n",
       "      <td>100</td>\n",
       "      <td>0.01</td>\n",
       "      <td>2</td>\n",
       "      <td>None</td>\n",
       "    </tr>\n",
       "    <tr>\n",
       "      <th>105</th>\n",
       "      <td>22.359156</td>\n",
       "      <td>False</td>\n",
       "      <td>100</td>\n",
       "      <td>0.01</td>\n",
       "      <td>4</td>\n",
       "      <td>10</td>\n",
       "    </tr>\n",
       "    <tr>\n",
       "      <th>106</th>\n",
       "      <td>20.171851</td>\n",
       "      <td>False</td>\n",
       "      <td>100</td>\n",
       "      <td>0.01</td>\n",
       "      <td>4</td>\n",
       "      <td>100</td>\n",
       "    </tr>\n",
       "    <tr>\n",
       "      <th>107</th>\n",
       "      <td>20.171851</td>\n",
       "      <td>False</td>\n",
       "      <td>100</td>\n",
       "      <td>0.01</td>\n",
       "      <td>4</td>\n",
       "      <td>None</td>\n",
       "    </tr>\n",
       "  </tbody>\n",
       "</table>\n",
       "<p>108 rows × 6 columns</p>\n",
       "</div>"
      ],
      "text/plain": [
       "     val_error bootstrap n_estimators  max_features min_samples_leaf max_depth\n",
       "0    16.824494      True           10           NaN                1        10\n",
       "1    16.792482      True           10           NaN                1       100\n",
       "2    16.792482      True           10           NaN                1      None\n",
       "3    16.814523      True           10           NaN                2        10\n",
       "4    16.500133      True           10           NaN                2       100\n",
       "5    16.500133      True           10           NaN                2      None\n",
       "6    16.657985      True           10           NaN                4        10\n",
       "7    16.123751      True           10           NaN                4       100\n",
       "8    16.123751      True           10           NaN                4      None\n",
       "9    22.412350      True           10          0.01                1        10\n",
       "10   20.072832      True           10          0.01                1       100\n",
       "11   20.072832      True           10          0.01                1      None\n",
       "12   22.647905      True           10          0.01                2        10\n",
       "13   20.757117      True           10          0.01                2       100\n",
       "14   20.757117      True           10          0.01                2      None\n",
       "15   22.962053      True           10          0.01                4        10\n",
       "16   21.283045      True           10          0.01                4       100\n",
       "17   21.283045      True           10          0.01                4      None\n",
       "18   16.776443      True           50           NaN                1        10\n",
       "19   16.016574      True           50           NaN                1       100\n",
       "20   16.016574      True           50           NaN                1      None\n",
       "21   16.691961      True           50           NaN                2        10\n",
       "22   15.787721      True           50           NaN                2       100\n",
       "23   15.787721      True           50           NaN                2      None\n",
       "24   16.596466      True           50           NaN                4        10\n",
       "25   15.706399      True           50           NaN                4       100\n",
       "26   15.706399      True           50           NaN                4      None\n",
       "27   21.887389      True           50          0.01                1        10\n",
       "28   19.281018      True           50          0.01                1       100\n",
       "29   19.281018      True           50          0.01                1      None\n",
       "..         ...       ...          ...           ...              ...       ...\n",
       "78   17.561045     False           50           NaN                4        10\n",
       "79   19.896055     False           50           NaN                4       100\n",
       "80   19.896055     False           50           NaN                4      None\n",
       "81   22.153133     False           50          0.01                1        10\n",
       "82   19.248922     False           50          0.01                1       100\n",
       "83   19.248922     False           50          0.01                1      None\n",
       "84   22.295798     False           50          0.01                2        10\n",
       "85   19.611413     False           50          0.01                2       100\n",
       "86   19.611413     False           50          0.01                2      None\n",
       "87   22.391365     False           50          0.01                4        10\n",
       "88   20.415985     False           50          0.01                4       100\n",
       "89   20.415985     False           50          0.01                4      None\n",
       "90   17.824983     False          100           NaN                1        10\n",
       "91   21.474724     False          100           NaN                1       100\n",
       "92   21.474724     False          100           NaN                1      None\n",
       "93   17.766963     False          100           NaN                2        10\n",
       "94   21.291148     False          100           NaN                2       100\n",
       "95   21.291148     False          100           NaN                2      None\n",
       "96   17.562550     False          100           NaN                4        10\n",
       "97   19.895842     False          100           NaN                4       100\n",
       "98   19.895842     False          100           NaN                4      None\n",
       "99   22.007276     False          100          0.01                1        10\n",
       "100  18.887928     False          100          0.01                1       100\n",
       "101  18.887928     False          100          0.01                1      None\n",
       "102  22.211022     False          100          0.01                2        10\n",
       "103  19.543682     False          100          0.01                2       100\n",
       "104  19.543682     False          100          0.01                2      None\n",
       "105  22.359156     False          100          0.01                4        10\n",
       "106  20.171851     False          100          0.01                4       100\n",
       "107  20.171851     False          100          0.01                4      None\n",
       "\n",
       "[108 rows x 6 columns]"
      ]
     },
     "execution_count": 57,
     "metadata": {},
     "output_type": "execute_result"
    }
   ],
   "source": [
    "error_val\n"
   ]
  },
  {
   "cell_type": "markdown",
   "metadata": {},
   "source": [
    "Elegimos el modelo que menor error de validacion tenga"
   ]
  },
  {
   "cell_type": "code",
   "execution_count": 58,
   "metadata": {},
   "outputs": [
    {
     "data": {
      "text/plain": [
       "[10, 100, None]"
      ]
     },
     "execution_count": 58,
     "metadata": {},
     "output_type": "execute_result"
    }
   ],
   "source": [
    "ind_min = error_val['val_error'].idxmin()\n",
    "best_parameters = error_val.iloc[ind_min]\n",
    "params_values['max_depth']"
   ]
  },
  {
   "cell_type": "markdown",
   "metadata": {},
   "source": [
    "Reentrenamos el modelo con los parámetros óptimos y testeamos"
   ]
  },
  {
   "cell_type": "code",
   "execution_count": 67,
   "metadata": {
    "collapsed": true
   },
   "outputs": [],
   "source": [
    "if math.isnan(best_parameters['max_features']):\n",
    "    best_parameters['max_features'] = None\n",
    "model = RandomForestRegressor(bootstrap = best_parameters['bootstrap'], \n",
    "                                                  n_estimators = best_parameters['n_estimators'],\n",
    "                                                  max_features = best_parameters['max_features'],\n",
    "                                                  min_samples_leaf = best_parameters['min_samples_leaf'],\n",
    "                                                  max_depth = best_parameters['max_depth'],\n",
    "                                                  random_state = 1)"
   ]
  },
  {
   "cell_type": "code",
   "execution_count": 68,
   "metadata": {},
   "outputs": [
    {
     "name": "stdout",
     "output_type": "stream",
     "text": [
      "Time:  44.43802589999996\n"
     ]
    }
   ],
   "source": [
    "## Ponemos un contador para ver cuanto tarda cada modelo\n",
    "start = timeit.default_timer()\n",
    "\n",
    "model.fit(X_train, np.array(y_train))\n",
    "\n",
    "stop = timeit.default_timer()\n",
    "print('Time: ', stop - start) "
   ]
  },
  {
   "cell_type": "code",
   "execution_count": 69,
   "metadata": {},
   "outputs": [
    {
     "name": "stdout",
     "output_type": "stream",
     "text": [
      "Time:  0.9950556999992841\n"
     ]
    }
   ],
   "source": [
    "start = timeit.default_timer()\n",
    "\n",
    "pred_train = model.predict(X_train)\n",
    "pred_val = model.predict(X_val)\n",
    "pred_test = model.predict(X_test)\n",
    "\n",
    "stop = timeit.default_timer()\n",
    "print('Time: ', stop - start) "
   ]
  },
  {
   "cell_type": "code",
   "execution_count": 70,
   "metadata": {
    "collapsed": true
   },
   "outputs": [],
   "source": [
    "# Calcular métricas de evaluación\n",
    "mae_train = mae(y_train, pred_train);\n",
    "mae_val = mae(y_val, pred_val);\n",
    "mae_test = mae(y_test, pred_test);\n",
    "\n",
    "mse_train = mse(y_train, pred_train);\n",
    "mse_val = mse(y_val, pred_val);\n",
    "mse_test = mse(y_test, pred_test);\n",
    "\n",
    "mape_train = mape(y_train, pred_train);\n",
    "mape_val = mape(y_val, pred_val);\n",
    "mape_test = mape(y_test, pred_test);"
   ]
  },
  {
   "cell_type": "code",
   "execution_count": 71,
   "metadata": {},
   "outputs": [
    {
     "name": "stdout",
     "output_type": "stream",
     "text": [
      "Train: MAE = 10.1776079455 - MSE = 185.784540253 - MAPE =8.586114904134295\n",
      "Validation: MAE = 15.6581713774 - MSE = 397.184769734 - MAPE =11.930801614141892\n",
      "Test: MAE = 17.9811998769 - MSE = 551.549552382 - MAPE =15.161772582757612\n"
     ]
    }
   ],
   "source": [
    "print('Train: MAE = ' + str(mae_train) + ' - MSE = '  + str(mse_train) + ' - MAPE =' + str(mape_train))\n",
    "print('Validation: MAE = ' + str(mae_val) + ' - MSE = '  + str(mse_val) + ' - MAPE =' + str(mape_val))\n",
    "print('Test: MAE = ' + str(mae_test) + ' - MSE = '  + str(mse_test) + ' - MAPE =' + str(mape_test))"
   ]
  }
 ],
 "metadata": {
  "kernelspec": {
   "display_name": "Python 3",
   "language": "python",
   "name": "python3"
  },
  "language_info": {
   "codemirror_mode": {
    "name": "ipython",
    "version": 3
   },
   "file_extension": ".py",
   "mimetype": "text/x-python",
   "name": "python",
   "nbconvert_exporter": "python",
   "pygments_lexer": "ipython3",
   "version": "3.8.5"
  }
 },
 "nbformat": 4,
 "nbformat_minor": 2
}
