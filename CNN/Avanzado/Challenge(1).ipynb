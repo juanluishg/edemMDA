{
  "nbformat": 4,
  "nbformat_minor": 0,
  "metadata": {
    "colab": {
      "name": "Challenge.ipynb",
      "provenance": [],
      "collapsed_sections": []
    },
    "kernelspec": {
      "name": "python3",
      "display_name": "Python 3"
    },
    "accelerator": "GPU",
    "widgets": {
      "application/vnd.jupyter.widget-state+json": {
        "b5ab22fa9105475ca1455ce44cfc2858": {
          "model_module": "@jupyter-widgets/controls",
          "model_name": "HBoxModel",
          "state": {
            "_view_name": "HBoxView",
            "_dom_classes": [],
            "_model_name": "HBoxModel",
            "_view_module": "@jupyter-widgets/controls",
            "_model_module_version": "1.5.0",
            "_view_count": null,
            "_view_module_version": "1.5.0",
            "box_style": "",
            "layout": "IPY_MODEL_217f79e22ab04b469268f4e5e68e5d63",
            "_model_module": "@jupyter-widgets/controls",
            "children": [
              "IPY_MODEL_87dedc9b4f6d4e12ba52ecede48399a1",
              "IPY_MODEL_28526beae9324248beefa711efa9259e"
            ]
          }
        },
        "217f79e22ab04b469268f4e5e68e5d63": {
          "model_module": "@jupyter-widgets/base",
          "model_name": "LayoutModel",
          "state": {
            "_view_name": "LayoutView",
            "grid_template_rows": null,
            "right": null,
            "justify_content": null,
            "_view_module": "@jupyter-widgets/base",
            "overflow": null,
            "_model_module_version": "1.2.0",
            "_view_count": null,
            "flex_flow": null,
            "width": null,
            "min_width": null,
            "border": null,
            "align_items": null,
            "bottom": null,
            "_model_module": "@jupyter-widgets/base",
            "top": null,
            "grid_column": null,
            "overflow_y": null,
            "overflow_x": null,
            "grid_auto_flow": null,
            "grid_area": null,
            "grid_template_columns": null,
            "flex": null,
            "_model_name": "LayoutModel",
            "justify_items": null,
            "grid_row": null,
            "max_height": null,
            "align_content": null,
            "visibility": null,
            "align_self": null,
            "height": null,
            "min_height": null,
            "padding": null,
            "grid_auto_rows": null,
            "grid_gap": null,
            "max_width": null,
            "order": null,
            "_view_module_version": "1.2.0",
            "grid_template_areas": null,
            "object_position": null,
            "object_fit": null,
            "grid_auto_columns": null,
            "margin": null,
            "display": null,
            "left": null
          }
        },
        "87dedc9b4f6d4e12ba52ecede48399a1": {
          "model_module": "@jupyter-widgets/controls",
          "model_name": "FloatProgressModel",
          "state": {
            "_view_name": "ProgressView",
            "style": "IPY_MODEL_2228041931ad42d980ef2de13c747e88",
            "_dom_classes": [],
            "description": "100%",
            "_model_name": "FloatProgressModel",
            "bar_style": "success",
            "max": 241530880,
            "_view_module": "@jupyter-widgets/controls",
            "_model_module_version": "1.5.0",
            "value": 241530880,
            "_view_count": null,
            "_view_module_version": "1.5.0",
            "orientation": "horizontal",
            "min": 0,
            "description_tooltip": null,
            "_model_module": "@jupyter-widgets/controls",
            "layout": "IPY_MODEL_e846029c4464454ebcae20dc0130de6a"
          }
        },
        "28526beae9324248beefa711efa9259e": {
          "model_module": "@jupyter-widgets/controls",
          "model_name": "HTMLModel",
          "state": {
            "_view_name": "HTMLView",
            "style": "IPY_MODEL_15d80872d2fb4fa6a53512b8b114ca3a",
            "_dom_classes": [],
            "description": "",
            "_model_name": "HTMLModel",
            "placeholder": "​",
            "_view_module": "@jupyter-widgets/controls",
            "_model_module_version": "1.5.0",
            "value": " 230M/230M [00:02&lt;00:00, 105MB/s]",
            "_view_count": null,
            "_view_module_version": "1.5.0",
            "description_tooltip": null,
            "_model_module": "@jupyter-widgets/controls",
            "layout": "IPY_MODEL_eda0a4b1ab764e63a6344f3a251c580f"
          }
        },
        "2228041931ad42d980ef2de13c747e88": {
          "model_module": "@jupyter-widgets/controls",
          "model_name": "ProgressStyleModel",
          "state": {
            "_view_name": "StyleView",
            "_model_name": "ProgressStyleModel",
            "description_width": "initial",
            "_view_module": "@jupyter-widgets/base",
            "_model_module_version": "1.5.0",
            "_view_count": null,
            "_view_module_version": "1.2.0",
            "bar_color": null,
            "_model_module": "@jupyter-widgets/controls"
          }
        },
        "e846029c4464454ebcae20dc0130de6a": {
          "model_module": "@jupyter-widgets/base",
          "model_name": "LayoutModel",
          "state": {
            "_view_name": "LayoutView",
            "grid_template_rows": null,
            "right": null,
            "justify_content": null,
            "_view_module": "@jupyter-widgets/base",
            "overflow": null,
            "_model_module_version": "1.2.0",
            "_view_count": null,
            "flex_flow": null,
            "width": null,
            "min_width": null,
            "border": null,
            "align_items": null,
            "bottom": null,
            "_model_module": "@jupyter-widgets/base",
            "top": null,
            "grid_column": null,
            "overflow_y": null,
            "overflow_x": null,
            "grid_auto_flow": null,
            "grid_area": null,
            "grid_template_columns": null,
            "flex": null,
            "_model_name": "LayoutModel",
            "justify_items": null,
            "grid_row": null,
            "max_height": null,
            "align_content": null,
            "visibility": null,
            "align_self": null,
            "height": null,
            "min_height": null,
            "padding": null,
            "grid_auto_rows": null,
            "grid_gap": null,
            "max_width": null,
            "order": null,
            "_view_module_version": "1.2.0",
            "grid_template_areas": null,
            "object_position": null,
            "object_fit": null,
            "grid_auto_columns": null,
            "margin": null,
            "display": null,
            "left": null
          }
        },
        "15d80872d2fb4fa6a53512b8b114ca3a": {
          "model_module": "@jupyter-widgets/controls",
          "model_name": "DescriptionStyleModel",
          "state": {
            "_view_name": "StyleView",
            "_model_name": "DescriptionStyleModel",
            "description_width": "",
            "_view_module": "@jupyter-widgets/base",
            "_model_module_version": "1.5.0",
            "_view_count": null,
            "_view_module_version": "1.2.0",
            "_model_module": "@jupyter-widgets/controls"
          }
        },
        "eda0a4b1ab764e63a6344f3a251c580f": {
          "model_module": "@jupyter-widgets/base",
          "model_name": "LayoutModel",
          "state": {
            "_view_name": "LayoutView",
            "grid_template_rows": null,
            "right": null,
            "justify_content": null,
            "_view_module": "@jupyter-widgets/base",
            "overflow": null,
            "_model_module_version": "1.2.0",
            "_view_count": null,
            "flex_flow": null,
            "width": null,
            "min_width": null,
            "border": null,
            "align_items": null,
            "bottom": null,
            "_model_module": "@jupyter-widgets/base",
            "top": null,
            "grid_column": null,
            "overflow_y": null,
            "overflow_x": null,
            "grid_auto_flow": null,
            "grid_area": null,
            "grid_template_columns": null,
            "flex": null,
            "_model_name": "LayoutModel",
            "justify_items": null,
            "grid_row": null,
            "max_height": null,
            "align_content": null,
            "visibility": null,
            "align_self": null,
            "height": null,
            "min_height": null,
            "padding": null,
            "grid_auto_rows": null,
            "grid_gap": null,
            "max_width": null,
            "order": null,
            "_view_module_version": "1.2.0",
            "grid_template_areas": null,
            "object_position": null,
            "object_fit": null,
            "grid_auto_columns": null,
            "margin": null,
            "display": null,
            "left": null
          }
        }
      }
    }
  },
  "cells": [
    {
      "cell_type": "markdown",
      "metadata": {
        "id": "QIUKPFF5ow9Z"
      },
      "source": [
        "# Classification challenge\n",
        "\n",
        "During next hours we will compete to build a classifier of natural scenes using a [dataset provided by NCTU](https://www.kaggle.com/c/cs-ioc5008-hw1/overview) (National Chiao Tung University, Taiwan).\n",
        "\n",
        "[Leaderboard](https://www.kaggle.com/c/cs-ioc5008-hw1/leaderboard)"
      ]
    },
    {
      "cell_type": "markdown",
      "metadata": {
        "id": "vap9F1ys0rnP"
      },
      "source": [
        "# Don't forget to configure the execution environment to run in GPU"
      ]
    },
    {
      "cell_type": "markdown",
      "metadata": {
        "id": "AJNLd4wkt-38"
      },
      "source": [
        "## Download images from Google Drive"
      ]
    },
    {
      "cell_type": "code",
      "metadata": {
        "id": "ir_wvpERNj0G"
      },
      "source": [
        "# Import Google Drive libraries\n",
        "from pydrive.auth import GoogleAuth\n",
        "from pydrive.drive import GoogleDrive\n",
        "from google.colab import auth\n",
        "from oauth2client.client import GoogleCredentials"
      ],
      "execution_count": 1,
      "outputs": []
    },
    {
      "cell_type": "code",
      "metadata": {
        "id": "JK88hUU5EOiI"
      },
      "source": [
        "import warnings\n",
        "warnings.filterwarnings(\"ignore\")"
      ],
      "execution_count": 2,
      "outputs": []
    },
    {
      "cell_type": "code",
      "metadata": {
        "id": "hfTRSp17N24f"
      },
      "source": [
        "# Authenticate with your Google Account\n",
        "auth.authenticate_user()\n",
        "gauth = GoogleAuth()\n",
        "gauth.credentials = GoogleCredentials.get_application_default()\n",
        "drive = GoogleDrive(gauth)"
      ],
      "execution_count": 3,
      "outputs": []
    },
    {
      "cell_type": "code",
      "metadata": {
        "id": "JdCzkEHaT538"
      },
      "source": [
        "# Download the dataset of the challenge\n",
        "download = drive.CreateFile({'id': '1DeEJ_LtbgIYPLYcPu3bD818iKXH_w8ru'})\n",
        "download.GetContentFile('challenge.zip')"
      ],
      "execution_count": 4,
      "outputs": []
    },
    {
      "cell_type": "code",
      "metadata": {
        "id": "vUotFVb2XP-5"
      },
      "source": [
        "# Extract the files\n",
        "import zipfile\n",
        "from pathlib import Path\n",
        "data_path = Path(\"./challenge.zip\")\n",
        "\n",
        "with zipfile.ZipFile(str(data_path), 'r') as zip_ref:\n",
        "    zip_ref.extractall(\"./data\")"
      ],
      "execution_count": 5,
      "outputs": []
    },
    {
      "cell_type": "code",
      "metadata": {
        "id": "lmRi4DTSs5Wy",
        "colab": {
          "base_uri": "https://localhost:8080/"
        },
        "outputId": "d606cb92-47ae-4121-d1c3-2693608adc97"
      },
      "source": [
        "ls"
      ],
      "execution_count": 6,
      "outputs": [
        {
          "output_type": "stream",
          "text": [
            "adc.json  challenge.zip  \u001b[0m\u001b[01;34mdata\u001b[0m/  \u001b[01;34msample_data\u001b[0m/\n"
          ],
          "name": "stdout"
        }
      ]
    },
    {
      "cell_type": "code",
      "metadata": {
        "id": "37-OtomJuZrB",
        "colab": {
          "base_uri": "https://localhost:8080/"
        },
        "outputId": "4e08e238-48de-444c-8b99-5b464ba3eb01"
      },
      "source": [
        "ls data"
      ],
      "execution_count": 7,
      "outputs": [
        {
          "output_type": "stream",
          "text": [
            "\u001b[0m\u001b[01;34mtest\u001b[0m/  \u001b[01;34mtrain\u001b[0m/\n"
          ],
          "name": "stdout"
        }
      ]
    },
    {
      "cell_type": "code",
      "metadata": {
        "id": "EoxvoTKzrqtm",
        "colab": {
          "base_uri": "https://localhost:8080/"
        },
        "outputId": "e30924c6-5f05-48be-b2df-21435032f965"
      },
      "source": [
        "ls data/train"
      ],
      "execution_count": 8,
      "outputs": [
        {
          "output_type": "stream",
          "text": [
            "\u001b[0m\u001b[01;34mbedroom\u001b[0m/  \u001b[01;34mhighway\u001b[0m/     \u001b[01;34mlivingroom\u001b[0m/  \u001b[01;34mopencountry\u001b[0m/  \u001b[01;34mtallbuilding\u001b[0m/\n",
            "\u001b[01;34mcoast\u001b[0m/    \u001b[01;34minsidecity\u001b[0m/  \u001b[01;34mmountain\u001b[0m/    \u001b[01;34mstreet\u001b[0m/\n",
            "\u001b[01;34mforest\u001b[0m/   \u001b[01;34mkitchen\u001b[0m/     \u001b[01;34moffice\u001b[0m/      \u001b[01;34msuburb\u001b[0m/\n"
          ],
          "name": "stdout"
        }
      ]
    },
    {
      "cell_type": "code",
      "metadata": {
        "id": "33yrOWxGr0NW",
        "colab": {
          "base_uri": "https://localhost:8080/"
        },
        "outputId": "7c88b5fc-e209-4af9-9dd1-85f534fe9b02"
      },
      "source": [
        "ls data/train/bedroom"
      ],
      "execution_count": 9,
      "outputs": [
        {
          "output_type": "stream",
          "text": [
            "image_0000.jpg  image_0028.jpg  image_0056.jpg  image_0084.jpg  image_0112.jpg\n",
            "image_0001.jpg  image_0029.jpg  image_0057.jpg  image_0085.jpg  image_0113.jpg\n",
            "image_0002.jpg  image_0030.jpg  image_0058.jpg  image_0086.jpg  image_0114.jpg\n",
            "image_0003.jpg  image_0031.jpg  image_0059.jpg  image_0087.jpg  image_0115.jpg\n",
            "image_0004.jpg  image_0032.jpg  image_0060.jpg  image_0088.jpg  image_0116.jpg\n",
            "image_0005.jpg  image_0033.jpg  image_0061.jpg  image_0089.jpg  image_0117.jpg\n",
            "image_0006.jpg  image_0034.jpg  image_0062.jpg  image_0090.jpg  image_0118.jpg\n",
            "image_0007.jpg  image_0035.jpg  image_0063.jpg  image_0091.jpg  image_0119.jpg\n",
            "image_0008.jpg  image_0036.jpg  image_0064.jpg  image_0092.jpg  image_0120.jpg\n",
            "image_0009.jpg  image_0037.jpg  image_0065.jpg  image_0093.jpg  image_0121.jpg\n",
            "image_0010.jpg  image_0038.jpg  image_0066.jpg  image_0094.jpg  image_0122.jpg\n",
            "image_0011.jpg  image_0039.jpg  image_0067.jpg  image_0095.jpg  image_0123.jpg\n",
            "image_0012.jpg  image_0040.jpg  image_0068.jpg  image_0096.jpg  image_0124.jpg\n",
            "image_0013.jpg  image_0041.jpg  image_0069.jpg  image_0097.jpg  image_0125.jpg\n",
            "image_0014.jpg  image_0042.jpg  image_0070.jpg  image_0098.jpg  image_0126.jpg\n",
            "image_0015.jpg  image_0043.jpg  image_0071.jpg  image_0099.jpg  image_0127.jpg\n",
            "image_0016.jpg  image_0044.jpg  image_0072.jpg  image_0100.jpg  image_0128.jpg\n",
            "image_0017.jpg  image_0045.jpg  image_0073.jpg  image_0101.jpg  image_0129.jpg\n",
            "image_0018.jpg  image_0046.jpg  image_0074.jpg  image_0102.jpg  image_0130.jpg\n",
            "image_0019.jpg  image_0047.jpg  image_0075.jpg  image_0103.jpg  image_0131.jpg\n",
            "image_0020.jpg  image_0048.jpg  image_0076.jpg  image_0104.jpg  image_0132.jpg\n",
            "image_0021.jpg  image_0049.jpg  image_0077.jpg  image_0105.jpg  image_0133.jpg\n",
            "image_0022.jpg  image_0050.jpg  image_0078.jpg  image_0106.jpg  image_0134.jpg\n",
            "image_0023.jpg  image_0051.jpg  image_0079.jpg  image_0107.jpg  image_0135.jpg\n",
            "image_0024.jpg  image_0052.jpg  image_0080.jpg  image_0108.jpg\n",
            "image_0025.jpg  image_0053.jpg  image_0081.jpg  image_0109.jpg\n",
            "image_0026.jpg  image_0054.jpg  image_0082.jpg  image_0110.jpg\n",
            "image_0027.jpg  image_0055.jpg  image_0083.jpg  image_0111.jpg\n"
          ],
          "name": "stdout"
        }
      ]
    },
    {
      "cell_type": "code",
      "metadata": {
        "id": "kDMw1zo2rvHQ",
        "colab": {
          "base_uri": "https://localhost:8080/"
        },
        "outputId": "70c5200b-5141-4bed-87fc-f445a6aade8c"
      },
      "source": [
        "ls data/test"
      ],
      "execution_count": 10,
      "outputs": [
        {
          "output_type": "stream",
          "text": [
            "image_0000.jpg  image_0208.jpg  image_0416.jpg  image_0624.jpg  image_0832.jpg\n",
            "image_0001.jpg  image_0209.jpg  image_0417.jpg  image_0625.jpg  image_0833.jpg\n",
            "image_0002.jpg  image_0210.jpg  image_0418.jpg  image_0626.jpg  image_0834.jpg\n",
            "image_0003.jpg  image_0211.jpg  image_0419.jpg  image_0627.jpg  image_0835.jpg\n",
            "image_0004.jpg  image_0212.jpg  image_0420.jpg  image_0628.jpg  image_0836.jpg\n",
            "image_0005.jpg  image_0213.jpg  image_0421.jpg  image_0629.jpg  image_0837.jpg\n",
            "image_0006.jpg  image_0214.jpg  image_0422.jpg  image_0630.jpg  image_0838.jpg\n",
            "image_0007.jpg  image_0215.jpg  image_0423.jpg  image_0631.jpg  image_0839.jpg\n",
            "image_0008.jpg  image_0216.jpg  image_0424.jpg  image_0632.jpg  image_0840.jpg\n",
            "image_0009.jpg  image_0217.jpg  image_0425.jpg  image_0633.jpg  image_0841.jpg\n",
            "image_0010.jpg  image_0218.jpg  image_0426.jpg  image_0634.jpg  image_0842.jpg\n",
            "image_0011.jpg  image_0219.jpg  image_0427.jpg  image_0635.jpg  image_0843.jpg\n",
            "image_0012.jpg  image_0220.jpg  image_0428.jpg  image_0636.jpg  image_0844.jpg\n",
            "image_0013.jpg  image_0221.jpg  image_0429.jpg  image_0637.jpg  image_0845.jpg\n",
            "image_0014.jpg  image_0222.jpg  image_0430.jpg  image_0638.jpg  image_0846.jpg\n",
            "image_0015.jpg  image_0223.jpg  image_0431.jpg  image_0639.jpg  image_0847.jpg\n",
            "image_0016.jpg  image_0224.jpg  image_0432.jpg  image_0640.jpg  image_0848.jpg\n",
            "image_0017.jpg  image_0225.jpg  image_0433.jpg  image_0641.jpg  image_0849.jpg\n",
            "image_0018.jpg  image_0226.jpg  image_0434.jpg  image_0642.jpg  image_0850.jpg\n",
            "image_0019.jpg  image_0227.jpg  image_0435.jpg  image_0643.jpg  image_0851.jpg\n",
            "image_0020.jpg  image_0228.jpg  image_0436.jpg  image_0644.jpg  image_0852.jpg\n",
            "image_0021.jpg  image_0229.jpg  image_0437.jpg  image_0645.jpg  image_0853.jpg\n",
            "image_0022.jpg  image_0230.jpg  image_0438.jpg  image_0646.jpg  image_0854.jpg\n",
            "image_0023.jpg  image_0231.jpg  image_0439.jpg  image_0647.jpg  image_0855.jpg\n",
            "image_0024.jpg  image_0232.jpg  image_0440.jpg  image_0648.jpg  image_0856.jpg\n",
            "image_0025.jpg  image_0233.jpg  image_0441.jpg  image_0649.jpg  image_0857.jpg\n",
            "image_0026.jpg  image_0234.jpg  image_0442.jpg  image_0650.jpg  image_0858.jpg\n",
            "image_0027.jpg  image_0235.jpg  image_0443.jpg  image_0651.jpg  image_0859.jpg\n",
            "image_0028.jpg  image_0236.jpg  image_0444.jpg  image_0652.jpg  image_0860.jpg\n",
            "image_0029.jpg  image_0237.jpg  image_0445.jpg  image_0653.jpg  image_0861.jpg\n",
            "image_0030.jpg  image_0238.jpg  image_0446.jpg  image_0654.jpg  image_0862.jpg\n",
            "image_0031.jpg  image_0239.jpg  image_0447.jpg  image_0655.jpg  image_0863.jpg\n",
            "image_0032.jpg  image_0240.jpg  image_0448.jpg  image_0656.jpg  image_0864.jpg\n",
            "image_0033.jpg  image_0241.jpg  image_0449.jpg  image_0657.jpg  image_0865.jpg\n",
            "image_0034.jpg  image_0242.jpg  image_0450.jpg  image_0658.jpg  image_0866.jpg\n",
            "image_0035.jpg  image_0243.jpg  image_0451.jpg  image_0659.jpg  image_0867.jpg\n",
            "image_0036.jpg  image_0244.jpg  image_0452.jpg  image_0660.jpg  image_0868.jpg\n",
            "image_0037.jpg  image_0245.jpg  image_0453.jpg  image_0661.jpg  image_0869.jpg\n",
            "image_0038.jpg  image_0246.jpg  image_0454.jpg  image_0662.jpg  image_0870.jpg\n",
            "image_0039.jpg  image_0247.jpg  image_0455.jpg  image_0663.jpg  image_0871.jpg\n",
            "image_0040.jpg  image_0248.jpg  image_0456.jpg  image_0664.jpg  image_0872.jpg\n",
            "image_0041.jpg  image_0249.jpg  image_0457.jpg  image_0665.jpg  image_0873.jpg\n",
            "image_0042.jpg  image_0250.jpg  image_0458.jpg  image_0666.jpg  image_0874.jpg\n",
            "image_0043.jpg  image_0251.jpg  image_0459.jpg  image_0667.jpg  image_0875.jpg\n",
            "image_0044.jpg  image_0252.jpg  image_0460.jpg  image_0668.jpg  image_0876.jpg\n",
            "image_0045.jpg  image_0253.jpg  image_0461.jpg  image_0669.jpg  image_0877.jpg\n",
            "image_0046.jpg  image_0254.jpg  image_0462.jpg  image_0670.jpg  image_0878.jpg\n",
            "image_0047.jpg  image_0255.jpg  image_0463.jpg  image_0671.jpg  image_0879.jpg\n",
            "image_0048.jpg  image_0256.jpg  image_0464.jpg  image_0672.jpg  image_0880.jpg\n",
            "image_0049.jpg  image_0257.jpg  image_0465.jpg  image_0673.jpg  image_0881.jpg\n",
            "image_0050.jpg  image_0258.jpg  image_0466.jpg  image_0674.jpg  image_0882.jpg\n",
            "image_0051.jpg  image_0259.jpg  image_0467.jpg  image_0675.jpg  image_0883.jpg\n",
            "image_0052.jpg  image_0260.jpg  image_0468.jpg  image_0676.jpg  image_0884.jpg\n",
            "image_0053.jpg  image_0261.jpg  image_0469.jpg  image_0677.jpg  image_0885.jpg\n",
            "image_0054.jpg  image_0262.jpg  image_0470.jpg  image_0678.jpg  image_0886.jpg\n",
            "image_0055.jpg  image_0263.jpg  image_0471.jpg  image_0679.jpg  image_0887.jpg\n",
            "image_0056.jpg  image_0264.jpg  image_0472.jpg  image_0680.jpg  image_0888.jpg\n",
            "image_0057.jpg  image_0265.jpg  image_0473.jpg  image_0681.jpg  image_0889.jpg\n",
            "image_0058.jpg  image_0266.jpg  image_0474.jpg  image_0682.jpg  image_0890.jpg\n",
            "image_0059.jpg  image_0267.jpg  image_0475.jpg  image_0683.jpg  image_0891.jpg\n",
            "image_0060.jpg  image_0268.jpg  image_0476.jpg  image_0684.jpg  image_0892.jpg\n",
            "image_0061.jpg  image_0269.jpg  image_0477.jpg  image_0685.jpg  image_0893.jpg\n",
            "image_0062.jpg  image_0270.jpg  image_0478.jpg  image_0686.jpg  image_0894.jpg\n",
            "image_0063.jpg  image_0271.jpg  image_0479.jpg  image_0687.jpg  image_0895.jpg\n",
            "image_0064.jpg  image_0272.jpg  image_0480.jpg  image_0688.jpg  image_0896.jpg\n",
            "image_0065.jpg  image_0273.jpg  image_0481.jpg  image_0689.jpg  image_0897.jpg\n",
            "image_0066.jpg  image_0274.jpg  image_0482.jpg  image_0690.jpg  image_0898.jpg\n",
            "image_0067.jpg  image_0275.jpg  image_0483.jpg  image_0691.jpg  image_0899.jpg\n",
            "image_0068.jpg  image_0276.jpg  image_0484.jpg  image_0692.jpg  image_0900.jpg\n",
            "image_0069.jpg  image_0277.jpg  image_0485.jpg  image_0693.jpg  image_0901.jpg\n",
            "image_0070.jpg  image_0278.jpg  image_0486.jpg  image_0694.jpg  image_0902.jpg\n",
            "image_0071.jpg  image_0279.jpg  image_0487.jpg  image_0695.jpg  image_0903.jpg\n",
            "image_0072.jpg  image_0280.jpg  image_0488.jpg  image_0696.jpg  image_0904.jpg\n",
            "image_0073.jpg  image_0281.jpg  image_0489.jpg  image_0697.jpg  image_0905.jpg\n",
            "image_0074.jpg  image_0282.jpg  image_0490.jpg  image_0698.jpg  image_0906.jpg\n",
            "image_0075.jpg  image_0283.jpg  image_0491.jpg  image_0699.jpg  image_0907.jpg\n",
            "image_0076.jpg  image_0284.jpg  image_0492.jpg  image_0700.jpg  image_0908.jpg\n",
            "image_0077.jpg  image_0285.jpg  image_0493.jpg  image_0701.jpg  image_0909.jpg\n",
            "image_0078.jpg  image_0286.jpg  image_0494.jpg  image_0702.jpg  image_0910.jpg\n",
            "image_0079.jpg  image_0287.jpg  image_0495.jpg  image_0703.jpg  image_0911.jpg\n",
            "image_0080.jpg  image_0288.jpg  image_0496.jpg  image_0704.jpg  image_0912.jpg\n",
            "image_0081.jpg  image_0289.jpg  image_0497.jpg  image_0705.jpg  image_0913.jpg\n",
            "image_0082.jpg  image_0290.jpg  image_0498.jpg  image_0706.jpg  image_0914.jpg\n",
            "image_0083.jpg  image_0291.jpg  image_0499.jpg  image_0707.jpg  image_0915.jpg\n",
            "image_0084.jpg  image_0292.jpg  image_0500.jpg  image_0708.jpg  image_0916.jpg\n",
            "image_0085.jpg  image_0293.jpg  image_0501.jpg  image_0709.jpg  image_0917.jpg\n",
            "image_0086.jpg  image_0294.jpg  image_0502.jpg  image_0710.jpg  image_0918.jpg\n",
            "image_0087.jpg  image_0295.jpg  image_0503.jpg  image_0711.jpg  image_0919.jpg\n",
            "image_0088.jpg  image_0296.jpg  image_0504.jpg  image_0712.jpg  image_0920.jpg\n",
            "image_0089.jpg  image_0297.jpg  image_0505.jpg  image_0713.jpg  image_0921.jpg\n",
            "image_0090.jpg  image_0298.jpg  image_0506.jpg  image_0714.jpg  image_0922.jpg\n",
            "image_0091.jpg  image_0299.jpg  image_0507.jpg  image_0715.jpg  image_0923.jpg\n",
            "image_0092.jpg  image_0300.jpg  image_0508.jpg  image_0716.jpg  image_0924.jpg\n",
            "image_0093.jpg  image_0301.jpg  image_0509.jpg  image_0717.jpg  image_0925.jpg\n",
            "image_0094.jpg  image_0302.jpg  image_0510.jpg  image_0718.jpg  image_0926.jpg\n",
            "image_0095.jpg  image_0303.jpg  image_0511.jpg  image_0719.jpg  image_0927.jpg\n",
            "image_0096.jpg  image_0304.jpg  image_0512.jpg  image_0720.jpg  image_0928.jpg\n",
            "image_0097.jpg  image_0305.jpg  image_0513.jpg  image_0721.jpg  image_0929.jpg\n",
            "image_0098.jpg  image_0306.jpg  image_0514.jpg  image_0722.jpg  image_0930.jpg\n",
            "image_0099.jpg  image_0307.jpg  image_0515.jpg  image_0723.jpg  image_0931.jpg\n",
            "image_0100.jpg  image_0308.jpg  image_0516.jpg  image_0724.jpg  image_0932.jpg\n",
            "image_0101.jpg  image_0309.jpg  image_0517.jpg  image_0725.jpg  image_0933.jpg\n",
            "image_0102.jpg  image_0310.jpg  image_0518.jpg  image_0726.jpg  image_0934.jpg\n",
            "image_0103.jpg  image_0311.jpg  image_0519.jpg  image_0727.jpg  image_0935.jpg\n",
            "image_0104.jpg  image_0312.jpg  image_0520.jpg  image_0728.jpg  image_0936.jpg\n",
            "image_0105.jpg  image_0313.jpg  image_0521.jpg  image_0729.jpg  image_0937.jpg\n",
            "image_0106.jpg  image_0314.jpg  image_0522.jpg  image_0730.jpg  image_0938.jpg\n",
            "image_0107.jpg  image_0315.jpg  image_0523.jpg  image_0731.jpg  image_0939.jpg\n",
            "image_0108.jpg  image_0316.jpg  image_0524.jpg  image_0732.jpg  image_0940.jpg\n",
            "image_0109.jpg  image_0317.jpg  image_0525.jpg  image_0733.jpg  image_0941.jpg\n",
            "image_0110.jpg  image_0318.jpg  image_0526.jpg  image_0734.jpg  image_0942.jpg\n",
            "image_0111.jpg  image_0319.jpg  image_0527.jpg  image_0735.jpg  image_0943.jpg\n",
            "image_0112.jpg  image_0320.jpg  image_0528.jpg  image_0736.jpg  image_0944.jpg\n",
            "image_0113.jpg  image_0321.jpg  image_0529.jpg  image_0737.jpg  image_0945.jpg\n",
            "image_0114.jpg  image_0322.jpg  image_0530.jpg  image_0738.jpg  image_0946.jpg\n",
            "image_0115.jpg  image_0323.jpg  image_0531.jpg  image_0739.jpg  image_0947.jpg\n",
            "image_0116.jpg  image_0324.jpg  image_0532.jpg  image_0740.jpg  image_0948.jpg\n",
            "image_0117.jpg  image_0325.jpg  image_0533.jpg  image_0741.jpg  image_0949.jpg\n",
            "image_0118.jpg  image_0326.jpg  image_0534.jpg  image_0742.jpg  image_0950.jpg\n",
            "image_0119.jpg  image_0327.jpg  image_0535.jpg  image_0743.jpg  image_0951.jpg\n",
            "image_0120.jpg  image_0328.jpg  image_0536.jpg  image_0744.jpg  image_0952.jpg\n",
            "image_0121.jpg  image_0329.jpg  image_0537.jpg  image_0745.jpg  image_0953.jpg\n",
            "image_0122.jpg  image_0330.jpg  image_0538.jpg  image_0746.jpg  image_0954.jpg\n",
            "image_0123.jpg  image_0331.jpg  image_0539.jpg  image_0747.jpg  image_0955.jpg\n",
            "image_0124.jpg  image_0332.jpg  image_0540.jpg  image_0748.jpg  image_0956.jpg\n",
            "image_0125.jpg  image_0333.jpg  image_0541.jpg  image_0749.jpg  image_0957.jpg\n",
            "image_0126.jpg  image_0334.jpg  image_0542.jpg  image_0750.jpg  image_0958.jpg\n",
            "image_0127.jpg  image_0335.jpg  image_0543.jpg  image_0751.jpg  image_0959.jpg\n",
            "image_0128.jpg  image_0336.jpg  image_0544.jpg  image_0752.jpg  image_0960.jpg\n",
            "image_0129.jpg  image_0337.jpg  image_0545.jpg  image_0753.jpg  image_0961.jpg\n",
            "image_0130.jpg  image_0338.jpg  image_0546.jpg  image_0754.jpg  image_0962.jpg\n",
            "image_0131.jpg  image_0339.jpg  image_0547.jpg  image_0755.jpg  image_0963.jpg\n",
            "image_0132.jpg  image_0340.jpg  image_0548.jpg  image_0756.jpg  image_0964.jpg\n",
            "image_0133.jpg  image_0341.jpg  image_0549.jpg  image_0757.jpg  image_0965.jpg\n",
            "image_0134.jpg  image_0342.jpg  image_0550.jpg  image_0758.jpg  image_0966.jpg\n",
            "image_0135.jpg  image_0343.jpg  image_0551.jpg  image_0759.jpg  image_0967.jpg\n",
            "image_0136.jpg  image_0344.jpg  image_0552.jpg  image_0760.jpg  image_0968.jpg\n",
            "image_0137.jpg  image_0345.jpg  image_0553.jpg  image_0761.jpg  image_0969.jpg\n",
            "image_0138.jpg  image_0346.jpg  image_0554.jpg  image_0762.jpg  image_0970.jpg\n",
            "image_0139.jpg  image_0347.jpg  image_0555.jpg  image_0763.jpg  image_0971.jpg\n",
            "image_0140.jpg  image_0348.jpg  image_0556.jpg  image_0764.jpg  image_0972.jpg\n",
            "image_0141.jpg  image_0349.jpg  image_0557.jpg  image_0765.jpg  image_0973.jpg\n",
            "image_0142.jpg  image_0350.jpg  image_0558.jpg  image_0766.jpg  image_0974.jpg\n",
            "image_0143.jpg  image_0351.jpg  image_0559.jpg  image_0767.jpg  image_0975.jpg\n",
            "image_0144.jpg  image_0352.jpg  image_0560.jpg  image_0768.jpg  image_0976.jpg\n",
            "image_0145.jpg  image_0353.jpg  image_0561.jpg  image_0769.jpg  image_0977.jpg\n",
            "image_0146.jpg  image_0354.jpg  image_0562.jpg  image_0770.jpg  image_0978.jpg\n",
            "image_0147.jpg  image_0355.jpg  image_0563.jpg  image_0771.jpg  image_0979.jpg\n",
            "image_0148.jpg  image_0356.jpg  image_0564.jpg  image_0772.jpg  image_0980.jpg\n",
            "image_0149.jpg  image_0357.jpg  image_0565.jpg  image_0773.jpg  image_0981.jpg\n",
            "image_0150.jpg  image_0358.jpg  image_0566.jpg  image_0774.jpg  image_0982.jpg\n",
            "image_0151.jpg  image_0359.jpg  image_0567.jpg  image_0775.jpg  image_0983.jpg\n",
            "image_0152.jpg  image_0360.jpg  image_0568.jpg  image_0776.jpg  image_0984.jpg\n",
            "image_0153.jpg  image_0361.jpg  image_0569.jpg  image_0777.jpg  image_0985.jpg\n",
            "image_0154.jpg  image_0362.jpg  image_0570.jpg  image_0778.jpg  image_0986.jpg\n",
            "image_0155.jpg  image_0363.jpg  image_0571.jpg  image_0779.jpg  image_0987.jpg\n",
            "image_0156.jpg  image_0364.jpg  image_0572.jpg  image_0780.jpg  image_0988.jpg\n",
            "image_0157.jpg  image_0365.jpg  image_0573.jpg  image_0781.jpg  image_0989.jpg\n",
            "image_0158.jpg  image_0366.jpg  image_0574.jpg  image_0782.jpg  image_0990.jpg\n",
            "image_0159.jpg  image_0367.jpg  image_0575.jpg  image_0783.jpg  image_0991.jpg\n",
            "image_0160.jpg  image_0368.jpg  image_0576.jpg  image_0784.jpg  image_0992.jpg\n",
            "image_0161.jpg  image_0369.jpg  image_0577.jpg  image_0785.jpg  image_0993.jpg\n",
            "image_0162.jpg  image_0370.jpg  image_0578.jpg  image_0786.jpg  image_0994.jpg\n",
            "image_0163.jpg  image_0371.jpg  image_0579.jpg  image_0787.jpg  image_0995.jpg\n",
            "image_0164.jpg  image_0372.jpg  image_0580.jpg  image_0788.jpg  image_0996.jpg\n",
            "image_0165.jpg  image_0373.jpg  image_0581.jpg  image_0789.jpg  image_0997.jpg\n",
            "image_0166.jpg  image_0374.jpg  image_0582.jpg  image_0790.jpg  image_0998.jpg\n",
            "image_0167.jpg  image_0375.jpg  image_0583.jpg  image_0791.jpg  image_0999.jpg\n",
            "image_0168.jpg  image_0376.jpg  image_0584.jpg  image_0792.jpg  image_1000.jpg\n",
            "image_0169.jpg  image_0377.jpg  image_0585.jpg  image_0793.jpg  image_1001.jpg\n",
            "image_0170.jpg  image_0378.jpg  image_0586.jpg  image_0794.jpg  image_1002.jpg\n",
            "image_0171.jpg  image_0379.jpg  image_0587.jpg  image_0795.jpg  image_1003.jpg\n",
            "image_0172.jpg  image_0380.jpg  image_0588.jpg  image_0796.jpg  image_1004.jpg\n",
            "image_0173.jpg  image_0381.jpg  image_0589.jpg  image_0797.jpg  image_1005.jpg\n",
            "image_0174.jpg  image_0382.jpg  image_0590.jpg  image_0798.jpg  image_1006.jpg\n",
            "image_0175.jpg  image_0383.jpg  image_0591.jpg  image_0799.jpg  image_1007.jpg\n",
            "image_0176.jpg  image_0384.jpg  image_0592.jpg  image_0800.jpg  image_1008.jpg\n",
            "image_0177.jpg  image_0385.jpg  image_0593.jpg  image_0801.jpg  image_1009.jpg\n",
            "image_0178.jpg  image_0386.jpg  image_0594.jpg  image_0802.jpg  image_1010.jpg\n",
            "image_0179.jpg  image_0387.jpg  image_0595.jpg  image_0803.jpg  image_1011.jpg\n",
            "image_0180.jpg  image_0388.jpg  image_0596.jpg  image_0804.jpg  image_1012.jpg\n",
            "image_0181.jpg  image_0389.jpg  image_0597.jpg  image_0805.jpg  image_1013.jpg\n",
            "image_0182.jpg  image_0390.jpg  image_0598.jpg  image_0806.jpg  image_1014.jpg\n",
            "image_0183.jpg  image_0391.jpg  image_0599.jpg  image_0807.jpg  image_1015.jpg\n",
            "image_0184.jpg  image_0392.jpg  image_0600.jpg  image_0808.jpg  image_1016.jpg\n",
            "image_0185.jpg  image_0393.jpg  image_0601.jpg  image_0809.jpg  image_1017.jpg\n",
            "image_0186.jpg  image_0394.jpg  image_0602.jpg  image_0810.jpg  image_1018.jpg\n",
            "image_0187.jpg  image_0395.jpg  image_0603.jpg  image_0811.jpg  image_1019.jpg\n",
            "image_0188.jpg  image_0396.jpg  image_0604.jpg  image_0812.jpg  image_1020.jpg\n",
            "image_0189.jpg  image_0397.jpg  image_0605.jpg  image_0813.jpg  image_1021.jpg\n",
            "image_0190.jpg  image_0398.jpg  image_0606.jpg  image_0814.jpg  image_1022.jpg\n",
            "image_0191.jpg  image_0399.jpg  image_0607.jpg  image_0815.jpg  image_1023.jpg\n",
            "image_0192.jpg  image_0400.jpg  image_0608.jpg  image_0816.jpg  image_1024.jpg\n",
            "image_0193.jpg  image_0401.jpg  image_0609.jpg  image_0817.jpg  image_1025.jpg\n",
            "image_0194.jpg  image_0402.jpg  image_0610.jpg  image_0818.jpg  image_1026.jpg\n",
            "image_0195.jpg  image_0403.jpg  image_0611.jpg  image_0819.jpg  image_1027.jpg\n",
            "image_0196.jpg  image_0404.jpg  image_0612.jpg  image_0820.jpg  image_1028.jpg\n",
            "image_0197.jpg  image_0405.jpg  image_0613.jpg  image_0821.jpg  image_1029.jpg\n",
            "image_0198.jpg  image_0406.jpg  image_0614.jpg  image_0822.jpg  image_1030.jpg\n",
            "image_0199.jpg  image_0407.jpg  image_0615.jpg  image_0823.jpg  image_1031.jpg\n",
            "image_0200.jpg  image_0408.jpg  image_0616.jpg  image_0824.jpg  image_1032.jpg\n",
            "image_0201.jpg  image_0409.jpg  image_0617.jpg  image_0825.jpg  image_1033.jpg\n",
            "image_0202.jpg  image_0410.jpg  image_0618.jpg  image_0826.jpg  image_1034.jpg\n",
            "image_0203.jpg  image_0411.jpg  image_0619.jpg  image_0827.jpg  image_1035.jpg\n",
            "image_0204.jpg  image_0412.jpg  image_0620.jpg  image_0828.jpg  image_1036.jpg\n",
            "image_0205.jpg  image_0413.jpg  image_0621.jpg  image_0829.jpg  image_1037.jpg\n",
            "image_0206.jpg  image_0414.jpg  image_0622.jpg  image_0830.jpg  image_1038.jpg\n",
            "image_0207.jpg  image_0415.jpg  image_0623.jpg  image_0831.jpg  image_1039.jpg\n"
          ],
          "name": "stdout"
        }
      ]
    },
    {
      "cell_type": "markdown",
      "metadata": {
        "id": "-ljvBRjesODJ"
      },
      "source": [
        "# Let's hack some code!"
      ]
    },
    {
      "cell_type": "code",
      "metadata": {
        "id": "98PXc2eSTdPH"
      },
      "source": [
        "from fastai.vision import *"
      ],
      "execution_count": 12,
      "outputs": []
    },
    {
      "cell_type": "code",
      "metadata": {
        "id": "BSMrGPpRTc--"
      },
      "source": [
        ""
      ],
      "execution_count": null,
      "outputs": []
    },
    {
      "cell_type": "markdown",
      "metadata": {
        "id": "np_wXkUYOgFK"
      },
      "source": [
        "# Explore the data"
      ]
    },
    {
      "cell_type": "code",
      "metadata": {
        "colab": {
          "base_uri": "https://localhost:8080/",
          "height": 160
        },
        "id": "QFkNGRP5TJxe",
        "outputId": "104e99c9-2c70-4ae5-9c1e-192c6b0152e6"
      },
      "source": [
        "# Show image and size\n",
        "path = \"data/train/\"\n",
        "img_name = \"image_0032.jpg\"\n",
        "img = open_image(path + \"bedroom/\" + img_name)\n",
        "img.show()\n",
        "print(img.shape)"
      ],
      "execution_count": 17,
      "outputs": [
        {
          "output_type": "stream",
          "text": [
            "torch.Size([3, 219, 331])\n"
          ],
          "name": "stdout"
        },
        {
          "output_type": "display_data",
          "data": {
            "image/png": "[encoded data removed]",
            "text/plain": [
              "<Figure size 216x216 with 1 Axes>"
            ]
          },
          "metadata": {
            "tags": [],
            "needs_background": "light"
          }
        }
      ]
    },
    {
      "cell_type": "code",
      "metadata": {
        "id": "lyG1xZXsVFvE"
      },
      "source": [
        "import torchvision\n",
        "from torchvision.transforms import Compose, Resize, ToTensor, Scale\n",
        "from torch.utils.data import DataLoader, SubsetRandomSampler\n",
        "transform = Compose([Scale((32,32)),ToTensor()])\n",
        "dataset = torchvision.datasets.ImageFolder(\"data/train\", transform=transform)"
      ],
      "execution_count": 40,
      "outputs": []
    },
    {
      "cell_type": "code",
      "metadata": {
        "id": "1kO2HiHTVL5P"
      },
      "source": [
        "def get_subset(indices, start, end):\n",
        "    return indices[start : start + end]\n",
        "\n",
        "\n",
        "TRAIN_PCT, VALIDATION_PCT = 0.7, 0.15  # rest will go for test\n",
        "train_count = int(len(dataset) * TRAIN_PCT)\n",
        "validation_count = int(len(dataset) * TRAIN_PCT)\n",
        "\n",
        "indices = torch.randperm(len(dataset))\n",
        "\n",
        "train_indices = get_subset(indices, 0, train_count)\n",
        "validation_indices = get_subset(indices, train_count, validation_count)\n",
        "test_indices = get_subset(indices, train_count + validation_count, len(dataset))"
      ],
      "execution_count": 41,
      "outputs": []
    },
    {
      "cell_type": "code",
      "metadata": {
        "id": "0ashIYi4VMUS"
      },
      "source": [
        "batch_size = 256\n",
        "dataloaders = {\n",
        "    \"train\": DataLoader(\n",
        "        dataset, sampler=SubsetRandomSampler(train_indices), batch_size= batch_size\n",
        "    ),\n",
        "    \"validation\": DataLoader(\n",
        "        dataset, sampler=SubsetRandomSampler(validation_indices), batch_size= batch_size\n",
        "    ),\n",
        "    \"test\": DataLoader(\n",
        "        dataset, sampler=SubsetRandomSampler(test_indices), batch_size= batch_size\n",
        "    ),\n",
        "}"
      ],
      "execution_count": 42,
      "outputs": []
    },
    {
      "cell_type": "code",
      "metadata": {
        "id": "pqaQq4LPVMNn"
      },
      "source": [
        ""
      ],
      "execution_count": null,
      "outputs": []
    },
    {
      "cell_type": "markdown",
      "metadata": {
        "id": "oIpIoAvV-wC8"
      },
      "source": [
        "# Experiment"
      ]
    },
    {
      "cell_type": "code",
      "metadata": {
        "id": "XtYr84OxUfOz"
      },
      "source": [
        "# Load data\n",
        "batch_size = 32\n",
        "size = 128\n",
        "data = ImageDataBunch.from_folder(path=\"data\", train=\"train\", test=\"test\", \n",
        "                                  valid_pct=0.2, \n",
        "                                  ds_tfms=get_transforms(), size=size, \n",
        "                                  bs=batch_size\n",
        "                                  ).normalize(imagenet_stats)"
      ],
      "execution_count": 62,
      "outputs": []
    },
    {
      "cell_type": "code",
      "metadata": {
        "colab": {
          "base_uri": "https://localhost:8080/"
        },
        "id": "iuCQ6BcxY8UL",
        "outputId": "dde025ae-3d4e-4163-d551-7a29a1b7c6dd"
      },
      "source": [
        "data.classes"
      ],
      "execution_count": 63,
      "outputs": [
        {
          "output_type": "execute_result",
          "data": {
            "text/plain": [
              "['bedroom',\n",
              " 'coast',\n",
              " 'forest',\n",
              " 'highway',\n",
              " 'insidecity',\n",
              " 'kitchen',\n",
              " 'livingroom',\n",
              " 'mountain',\n",
              " 'office',\n",
              " 'opencountry',\n",
              " 'street',\n",
              " 'suburb',\n",
              " 'tallbuilding']"
            ]
          },
          "metadata": {
            "tags": []
          },
          "execution_count": 63
        }
      ]
    },
    {
      "cell_type": "code",
      "metadata": {
        "colab": {
          "base_uri": "https://localhost:8080/",
          "height": 441
        },
        "id": "YqzwRAk0ZPP0",
        "outputId": "4e0841fa-5720-4c98-f802-b90a664427ff"
      },
      "source": [
        "data.show_batch(rows=3, figsize=(7,6))"
      ],
      "execution_count": 64,
      "outputs": [
        {
          "output_type": "display_data",
          "data": {
            "image/png": "[encoded data removed]",
            "text/plain": [
              "<Figure size 504x432 with 9 Axes>"
            ]
          },
          "metadata": {
            "tags": [],
            "needs_background": "light"
          }
        }
      ]
    },
    {
      "cell_type": "code",
      "metadata": {
        "id": "tpe4J46hcWrU"
      },
      "source": [
        "learn = cnn_learner(data, models.densenet201, metrics=accuracy)"
      ],
      "execution_count": 65,
      "outputs": []
    },
    {
      "cell_type": "code",
      "metadata": {
        "colab": {
          "base_uri": "https://localhost:8080/",
          "height": 411
        },
        "id": "3w39JqOIcckH",
        "outputId": "6d435370-6fce-4927-cb23-e35c343792cf"
      },
      "source": [
        "learn.lr_find()\n",
        "learn.recorder.plot()"
      ],
      "execution_count": 66,
      "outputs": [
        {
          "output_type": "display_data",
          "data": {
            "text/html": [
              "\n",
              "    <div>\n",
              "        <style>\n",
              "            /* Turns off some styling */\n",
              "            progress {\n",
              "                /* gets rid of default border in Firefox and Opera. */\n",
              "                border: none;\n",
              "                /* Needs to be in here for Safari polyfill so background images work as expected. */\n",
              "                background-size: auto;\n",
              "            }\n",
              "            .progress-bar-interrupted, .progress-bar-interrupted::-webkit-progress-bar {\n",
              "                background: #F44336;\n",
              "            }\n",
              "        </style>\n",
              "      <progress value='1' class='' max='2' style='width:300px; height:20px; vertical-align: middle;'></progress>\n",
              "      50.00% [1/2 00:15<00:15]\n",
              "    </div>\n",
              "    \n",
              "<table border=\"1\" class=\"dataframe\">\n",
              "  <thead>\n",
              "    <tr style=\"text-align: left;\">\n",
              "      <th>epoch</th>\n",
              "      <th>train_loss</th>\n",
              "      <th>valid_loss</th>\n",
              "      <th>accuracy</th>\n",
              "      <th>time</th>\n",
              "    </tr>\n",
              "  </thead>\n",
              "  <tbody>\n",
              "    <tr>\n",
              "      <td>0</td>\n",
              "      <td>2.414721</td>\n",
              "      <td>#na#</td>\n",
              "      <td>00:15</td>\n",
              "    </tr>\n",
              "  </tbody>\n",
              "</table><p>\n",
              "\n",
              "    <div>\n",
              "        <style>\n",
              "            /* Turns off some styling */\n",
              "            progress {\n",
              "                /* gets rid of default border in Firefox and Opera. */\n",
              "                border: none;\n",
              "                /* Needs to be in here for Safari polyfill so background images work as expected. */\n",
              "                background-size: auto;\n",
              "            }\n",
              "            .progress-bar-interrupted, .progress-bar-interrupted::-webkit-progress-bar {\n",
              "                background: #F44336;\n",
              "            }\n",
              "        </style>\n",
              "      <progress value='19' class='' max='70' style='width:300px; height:20px; vertical-align: middle;'></progress>\n",
              "      27.14% [19/70 00:04<00:11 9.2734]\n",
              "    </div>\n",
              "    "
            ],
            "text/plain": [
              "<IPython.core.display.HTML object>"
            ]
          },
          "metadata": {
            "tags": []
          }
        },
        {
          "output_type": "stream",
          "text": [
            "LR Finder is complete, type {learner_name}.recorder.plot() to see the graph.\n"
          ],
          "name": "stdout"
        },
        {
          "output_type": "display_data",
          "data": {
            "image/png": "[encoded data removed]",
            "text/plain": [
              "<Figure size 432x288 with 1 Axes>"
            ]
          },
          "metadata": {
            "tags": [],
            "needs_background": "light"
          }
        }
      ]
    },
    {
      "cell_type": "code",
      "metadata": {
        "colab": {
          "base_uri": "https://localhost:8080/",
          "height": 206
        },
        "id": "XPQctyYhcgzH",
        "outputId": "c2fd4056-65d1-4a78-8245-27737b23280e"
      },
      "source": [
        "lr = 1e-02\n",
        "learn.fit_one_cycle(5, max_lr=slice(lr/100, lr))"
      ],
      "execution_count": 67,
      "outputs": [
        {
          "output_type": "display_data",
          "data": {
            "text/html": [
              "<table border=\"1\" class=\"dataframe\">\n",
              "  <thead>\n",
              "    <tr style=\"text-align: left;\">\n",
              "      <th>epoch</th>\n",
              "      <th>train_loss</th>\n",
              "      <th>valid_loss</th>\n",
              "      <th>accuracy</th>\n",
              "      <th>time</th>\n",
              "    </tr>\n",
              "  </thead>\n",
              "  <tbody>\n",
              "    <tr>\n",
              "      <td>0</td>\n",
              "      <td>0.990419</td>\n",
              "      <td>0.493170</td>\n",
              "      <td>0.840142</td>\n",
              "      <td>00:16</td>\n",
              "    </tr>\n",
              "    <tr>\n",
              "      <td>1</td>\n",
              "      <td>0.808101</td>\n",
              "      <td>0.635221</td>\n",
              "      <td>0.843695</td>\n",
              "      <td>00:15</td>\n",
              "    </tr>\n",
              "    <tr>\n",
              "      <td>2</td>\n",
              "      <td>0.584661</td>\n",
              "      <td>0.469890</td>\n",
              "      <td>0.884547</td>\n",
              "      <td>00:15</td>\n",
              "    </tr>\n",
              "    <tr>\n",
              "      <td>3</td>\n",
              "      <td>0.416670</td>\n",
              "      <td>0.309023</td>\n",
              "      <td>0.918295</td>\n",
              "      <td>00:15</td>\n",
              "    </tr>\n",
              "    <tr>\n",
              "      <td>4</td>\n",
              "      <td>0.299087</td>\n",
              "      <td>0.280014</td>\n",
              "      <td>0.909414</td>\n",
              "      <td>00:15</td>\n",
              "    </tr>\n",
              "  </tbody>\n",
              "</table>"
            ],
            "text/plain": [
              "<IPython.core.display.HTML object>"
            ]
          },
          "metadata": {
            "tags": []
          }
        }
      ]
    },
    {
      "cell_type": "code",
      "metadata": {
        "id": "TS8WrbYjcwFB"
      },
      "source": [
        "# Unfreeze conv layers\n",
        "learn.unfreeze()"
      ],
      "execution_count": 68,
      "outputs": []
    },
    {
      "cell_type": "code",
      "metadata": {
        "colab": {
          "base_uri": "https://localhost:8080/",
          "height": 376
        },
        "id": "Z70KDXWIc9-H",
        "outputId": "e99ed953-543f-4bb3-cbf1-520c4e9163b3"
      },
      "source": [
        "learn.lr_find()\n",
        "learn.recorder.plot()"
      ],
      "execution_count": 69,
      "outputs": [
        {
          "output_type": "display_data",
          "data": {
            "text/html": [
              "\n",
              "    <div>\n",
              "        <style>\n",
              "            /* Turns off some styling */\n",
              "            progress {\n",
              "                /* gets rid of default border in Firefox and Opera. */\n",
              "                border: none;\n",
              "                /* Needs to be in here for Safari polyfill so background images work as expected. */\n",
              "                background-size: auto;\n",
              "            }\n",
              "            .progress-bar-interrupted, .progress-bar-interrupted::-webkit-progress-bar {\n",
              "                background: #F44336;\n",
              "            }\n",
              "        </style>\n",
              "      <progress value='0' class='' max='2' style='width:300px; height:20px; vertical-align: middle;'></progress>\n",
              "      0.00% [0/2 00:00<00:00]\n",
              "    </div>\n",
              "    \n",
              "<table border=\"1\" class=\"dataframe\">\n",
              "  <thead>\n",
              "    <tr style=\"text-align: left;\">\n",
              "      <th>epoch</th>\n",
              "      <th>train_loss</th>\n",
              "      <th>valid_loss</th>\n",
              "      <th>accuracy</th>\n",
              "      <th>time</th>\n",
              "    </tr>\n",
              "  </thead>\n",
              "  <tbody>\n",
              "  </tbody>\n",
              "</table><p>\n",
              "\n",
              "    <div>\n",
              "        <style>\n",
              "            /* Turns off some styling */\n",
              "            progress {\n",
              "                /* gets rid of default border in Firefox and Opera. */\n",
              "                border: none;\n",
              "                /* Needs to be in here for Safari polyfill so background images work as expected. */\n",
              "                background-size: auto;\n",
              "            }\n",
              "            .progress-bar-interrupted, .progress-bar-interrupted::-webkit-progress-bar {\n",
              "                background: #F44336;\n",
              "            }\n",
              "        </style>\n",
              "      <progress value='57' class='' max='70' style='width:300px; height:20px; vertical-align: middle;'></progress>\n",
              "      81.43% [57/70 00:14<00:03 0.5439]\n",
              "    </div>\n",
              "    "
            ],
            "text/plain": [
              "<IPython.core.display.HTML object>"
            ]
          },
          "metadata": {
            "tags": []
          }
        },
        {
          "output_type": "stream",
          "text": [
            "LR Finder is complete, type {learner_name}.recorder.plot() to see the graph.\n"
          ],
          "name": "stdout"
        },
        {
          "output_type": "display_data",
          "data": {
            "image/png": "[encoded data removed]",
            "text/plain": [
              "<Figure size 432x288 with 1 Axes>"
            ]
          },
          "metadata": {
            "tags": [],
            "needs_background": "light"
          }
        }
      ]
    },
    {
      "cell_type": "code",
      "metadata": {
        "colab": {
          "base_uri": "https://localhost:8080/",
          "height": 206
        },
        "id": "KPcbMwvcc-Zc",
        "outputId": "15a40bd4-e0da-43bd-e844-c31813be73d1"
      },
      "source": [
        "lr = 6e-04\n",
        "learn.fit_one_cycle(5, max_lr=slice(lr/100, lr))"
      ],
      "execution_count": 71,
      "outputs": [
        {
          "output_type": "display_data",
          "data": {
            "text/html": [
              "<table border=\"1\" class=\"dataframe\">\n",
              "  <thead>\n",
              "    <tr style=\"text-align: left;\">\n",
              "      <th>epoch</th>\n",
              "      <th>train_loss</th>\n",
              "      <th>valid_loss</th>\n",
              "      <th>accuracy</th>\n",
              "      <th>time</th>\n",
              "    </tr>\n",
              "  </thead>\n",
              "  <tbody>\n",
              "    <tr>\n",
              "      <td>0</td>\n",
              "      <td>0.193243</td>\n",
              "      <td>0.274792</td>\n",
              "      <td>0.921847</td>\n",
              "      <td>00:18</td>\n",
              "    </tr>\n",
              "    <tr>\n",
              "      <td>1</td>\n",
              "      <td>0.166661</td>\n",
              "      <td>0.275473</td>\n",
              "      <td>0.928952</td>\n",
              "      <td>00:18</td>\n",
              "    </tr>\n",
              "    <tr>\n",
              "      <td>2</td>\n",
              "      <td>0.129392</td>\n",
              "      <td>0.258726</td>\n",
              "      <td>0.925400</td>\n",
              "      <td>00:18</td>\n",
              "    </tr>\n",
              "    <tr>\n",
              "      <td>3</td>\n",
              "      <td>0.112253</td>\n",
              "      <td>0.254805</td>\n",
              "      <td>0.927176</td>\n",
              "      <td>00:18</td>\n",
              "    </tr>\n",
              "    <tr>\n",
              "      <td>4</td>\n",
              "      <td>0.095659</td>\n",
              "      <td>0.262703</td>\n",
              "      <td>0.930728</td>\n",
              "      <td>00:18</td>\n",
              "    </tr>\n",
              "  </tbody>\n",
              "</table>"
            ],
            "text/plain": [
              "<IPython.core.display.HTML object>"
            ]
          },
          "metadata": {
            "tags": []
          }
        }
      ]
    },
    {
      "cell_type": "code",
      "metadata": {
        "id": "epiRmtH2fOF3"
      },
      "source": [
        "learn.save('score-9307')"
      ],
      "execution_count": 72,
      "outputs": []
    },
    {
      "cell_type": "code",
      "metadata": {
        "colab": {
          "base_uri": "https://localhost:8080/",
          "height": 206
        },
        "id": "3ACr_zVTfXd4",
        "outputId": "f340382a-af29-4f84-fffd-06b1575b61e6"
      },
      "source": [
        "lr = 6e-04\n",
        "learn.fit_one_cycle(5, max_lr=slice(lr/100, lr))"
      ],
      "execution_count": 73,
      "outputs": [
        {
          "output_type": "display_data",
          "data": {
            "text/html": [
              "<table border=\"1\" class=\"dataframe\">\n",
              "  <thead>\n",
              "    <tr style=\"text-align: left;\">\n",
              "      <th>epoch</th>\n",
              "      <th>train_loss</th>\n",
              "      <th>valid_loss</th>\n",
              "      <th>accuracy</th>\n",
              "      <th>time</th>\n",
              "    </tr>\n",
              "  </thead>\n",
              "  <tbody>\n",
              "    <tr>\n",
              "      <td>0</td>\n",
              "      <td>0.097929</td>\n",
              "      <td>0.281485</td>\n",
              "      <td>0.923623</td>\n",
              "      <td>00:18</td>\n",
              "    </tr>\n",
              "    <tr>\n",
              "      <td>1</td>\n",
              "      <td>0.113472</td>\n",
              "      <td>0.325483</td>\n",
              "      <td>0.920071</td>\n",
              "      <td>00:18</td>\n",
              "    </tr>\n",
              "    <tr>\n",
              "      <td>2</td>\n",
              "      <td>0.096930</td>\n",
              "      <td>0.277391</td>\n",
              "      <td>0.927176</td>\n",
              "      <td>00:18</td>\n",
              "    </tr>\n",
              "    <tr>\n",
              "      <td>3</td>\n",
              "      <td>0.083757</td>\n",
              "      <td>0.274425</td>\n",
              "      <td>0.920071</td>\n",
              "      <td>00:18</td>\n",
              "    </tr>\n",
              "    <tr>\n",
              "      <td>4</td>\n",
              "      <td>0.059323</td>\n",
              "      <td>0.279595</td>\n",
              "      <td>0.921847</td>\n",
              "      <td>00:18</td>\n",
              "    </tr>\n",
              "  </tbody>\n",
              "</table>"
            ],
            "text/plain": [
              "<IPython.core.display.HTML object>"
            ]
          },
          "metadata": {
            "tags": []
          }
        }
      ]
    },
    {
      "cell_type": "code",
      "metadata": {
        "id": "HfHDnl_hfwNb"
      },
      "source": [
        "learn.save('score-9218')"
      ],
      "execution_count": 75,
      "outputs": []
    },
    {
      "cell_type": "code",
      "metadata": {
        "colab": {
          "base_uri": "https://localhost:8080/",
          "height": 206
        },
        "id": "OMcTpvQqfsXx",
        "outputId": "7fad0620-42a6-488c-e5fe-d0a4276b7654"
      },
      "source": [
        "lr = 8e-06\n",
        "learn.fit_one_cycle(5, max_lr=slice(lr/100, lr))"
      ],
      "execution_count": 76,
      "outputs": [
        {
          "output_type": "display_data",
          "data": {
            "text/html": [
              "<table border=\"1\" class=\"dataframe\">\n",
              "  <thead>\n",
              "    <tr style=\"text-align: left;\">\n",
              "      <th>epoch</th>\n",
              "      <th>train_loss</th>\n",
              "      <th>valid_loss</th>\n",
              "      <th>accuracy</th>\n",
              "      <th>time</th>\n",
              "    </tr>\n",
              "  </thead>\n",
              "  <tbody>\n",
              "    <tr>\n",
              "      <td>0</td>\n",
              "      <td>0.052875</td>\n",
              "      <td>0.283648</td>\n",
              "      <td>0.920071</td>\n",
              "      <td>00:18</td>\n",
              "    </tr>\n",
              "    <tr>\n",
              "      <td>1</td>\n",
              "      <td>0.071585</td>\n",
              "      <td>0.266847</td>\n",
              "      <td>0.927176</td>\n",
              "      <td>00:18</td>\n",
              "    </tr>\n",
              "    <tr>\n",
              "      <td>2</td>\n",
              "      <td>0.076846</td>\n",
              "      <td>0.273205</td>\n",
              "      <td>0.920071</td>\n",
              "      <td>00:18</td>\n",
              "    </tr>\n",
              "    <tr>\n",
              "      <td>3</td>\n",
              "      <td>0.054182</td>\n",
              "      <td>0.268125</td>\n",
              "      <td>0.932504</td>\n",
              "      <td>00:18</td>\n",
              "    </tr>\n",
              "    <tr>\n",
              "      <td>4</td>\n",
              "      <td>0.066833</td>\n",
              "      <td>0.273767</td>\n",
              "      <td>0.925400</td>\n",
              "      <td>00:18</td>\n",
              "    </tr>\n",
              "  </tbody>\n",
              "</table>"
            ],
            "text/plain": [
              "<IPython.core.display.HTML object>"
            ]
          },
          "metadata": {
            "tags": []
          }
        }
      ]
    },
    {
      "cell_type": "code",
      "metadata": {
        "id": "E1IhhMMsgPuh"
      },
      "source": [
        "learn.save('score-9254')"
      ],
      "execution_count": 77,
      "outputs": []
    },
    {
      "cell_type": "code",
      "metadata": {
        "colab": {
          "base_uri": "https://localhost:8080/",
          "height": 520
        },
        "id": "uo4L802XgV4H",
        "outputId": "eebe5033-c615-44b3-8f9d-10640f02d5eb"
      },
      "source": [
        "lr = 6e-04\n",
        "learn.fit_one_cycle(15, max_lr=slice(lr/100, lr))"
      ],
      "execution_count": 78,
      "outputs": [
        {
          "output_type": "display_data",
          "data": {
            "text/html": [
              "<table border=\"1\" class=\"dataframe\">\n",
              "  <thead>\n",
              "    <tr style=\"text-align: left;\">\n",
              "      <th>epoch</th>\n",
              "      <th>train_loss</th>\n",
              "      <th>valid_loss</th>\n",
              "      <th>accuracy</th>\n",
              "      <th>time</th>\n",
              "    </tr>\n",
              "  </thead>\n",
              "  <tbody>\n",
              "    <tr>\n",
              "      <td>0</td>\n",
              "      <td>0.066262</td>\n",
              "      <td>0.274716</td>\n",
              "      <td>0.925400</td>\n",
              "      <td>00:18</td>\n",
              "    </tr>\n",
              "    <tr>\n",
              "      <td>1</td>\n",
              "      <td>0.057781</td>\n",
              "      <td>0.244750</td>\n",
              "      <td>0.936057</td>\n",
              "      <td>00:18</td>\n",
              "    </tr>\n",
              "    <tr>\n",
              "      <td>2</td>\n",
              "      <td>0.051245</td>\n",
              "      <td>0.257791</td>\n",
              "      <td>0.923623</td>\n",
              "      <td>00:18</td>\n",
              "    </tr>\n",
              "    <tr>\n",
              "      <td>3</td>\n",
              "      <td>0.073849</td>\n",
              "      <td>0.306575</td>\n",
              "      <td>0.918295</td>\n",
              "      <td>00:18</td>\n",
              "    </tr>\n",
              "    <tr>\n",
              "      <td>4</td>\n",
              "      <td>0.055536</td>\n",
              "      <td>0.301472</td>\n",
              "      <td>0.930728</td>\n",
              "      <td>00:18</td>\n",
              "    </tr>\n",
              "    <tr>\n",
              "      <td>5</td>\n",
              "      <td>0.087568</td>\n",
              "      <td>0.271316</td>\n",
              "      <td>0.939609</td>\n",
              "      <td>00:18</td>\n",
              "    </tr>\n",
              "    <tr>\n",
              "      <td>6</td>\n",
              "      <td>0.067639</td>\n",
              "      <td>0.287448</td>\n",
              "      <td>0.928952</td>\n",
              "      <td>00:18</td>\n",
              "    </tr>\n",
              "    <tr>\n",
              "      <td>7</td>\n",
              "      <td>0.056193</td>\n",
              "      <td>0.261129</td>\n",
              "      <td>0.936057</td>\n",
              "      <td>00:18</td>\n",
              "    </tr>\n",
              "    <tr>\n",
              "      <td>8</td>\n",
              "      <td>0.051370</td>\n",
              "      <td>0.273939</td>\n",
              "      <td>0.943162</td>\n",
              "      <td>00:18</td>\n",
              "    </tr>\n",
              "    <tr>\n",
              "      <td>9</td>\n",
              "      <td>0.053658</td>\n",
              "      <td>0.280100</td>\n",
              "      <td>0.928952</td>\n",
              "      <td>00:18</td>\n",
              "    </tr>\n",
              "    <tr>\n",
              "      <td>10</td>\n",
              "      <td>0.038529</td>\n",
              "      <td>0.304267</td>\n",
              "      <td>0.927176</td>\n",
              "      <td>00:18</td>\n",
              "    </tr>\n",
              "    <tr>\n",
              "      <td>11</td>\n",
              "      <td>0.034094</td>\n",
              "      <td>0.282729</td>\n",
              "      <td>0.932504</td>\n",
              "      <td>00:18</td>\n",
              "    </tr>\n",
              "    <tr>\n",
              "      <td>12</td>\n",
              "      <td>0.026817</td>\n",
              "      <td>0.282381</td>\n",
              "      <td>0.932504</td>\n",
              "      <td>00:18</td>\n",
              "    </tr>\n",
              "    <tr>\n",
              "      <td>13</td>\n",
              "      <td>0.026290</td>\n",
              "      <td>0.293948</td>\n",
              "      <td>0.930728</td>\n",
              "      <td>00:18</td>\n",
              "    </tr>\n",
              "    <tr>\n",
              "      <td>14</td>\n",
              "      <td>0.022626</td>\n",
              "      <td>0.281882</td>\n",
              "      <td>0.932504</td>\n",
              "      <td>00:18</td>\n",
              "    </tr>\n",
              "  </tbody>\n",
              "</table>"
            ],
            "text/plain": [
              "<IPython.core.display.HTML object>"
            ]
          },
          "metadata": {
            "tags": []
          }
        }
      ]
    },
    {
      "cell_type": "code",
      "metadata": {
        "id": "nyWhGzrjg1m0"
      },
      "source": [
        "learn.save('score-9325')"
      ],
      "execution_count": 79,
      "outputs": []
    },
    {
      "cell_type": "code",
      "metadata": {
        "colab": {
          "base_uri": "https://localhost:8080/",
          "height": 206
        },
        "id": "0GpZrwEmgwz7",
        "outputId": "6a4bb7d3-df20-46d5-87a9-134af733e05d"
      },
      "source": [
        "lr = 9e-06\n",
        "learn.fit_one_cycle(5, max_lr=slice(lr/100, lr))"
      ],
      "execution_count": 80,
      "outputs": [
        {
          "output_type": "display_data",
          "data": {
            "text/html": [
              "<table border=\"1\" class=\"dataframe\">\n",
              "  <thead>\n",
              "    <tr style=\"text-align: left;\">\n",
              "      <th>epoch</th>\n",
              "      <th>train_loss</th>\n",
              "      <th>valid_loss</th>\n",
              "      <th>accuracy</th>\n",
              "      <th>time</th>\n",
              "    </tr>\n",
              "  </thead>\n",
              "  <tbody>\n",
              "    <tr>\n",
              "      <td>0</td>\n",
              "      <td>0.027642</td>\n",
              "      <td>0.292497</td>\n",
              "      <td>0.928952</td>\n",
              "      <td>00:18</td>\n",
              "    </tr>\n",
              "    <tr>\n",
              "      <td>1</td>\n",
              "      <td>0.016305</td>\n",
              "      <td>0.274587</td>\n",
              "      <td>0.936057</td>\n",
              "      <td>00:18</td>\n",
              "    </tr>\n",
              "    <tr>\n",
              "      <td>2</td>\n",
              "      <td>0.026449</td>\n",
              "      <td>0.281758</td>\n",
              "      <td>0.932504</td>\n",
              "      <td>00:18</td>\n",
              "    </tr>\n",
              "    <tr>\n",
              "      <td>3</td>\n",
              "      <td>0.023436</td>\n",
              "      <td>0.278081</td>\n",
              "      <td>0.932504</td>\n",
              "      <td>00:18</td>\n",
              "    </tr>\n",
              "    <tr>\n",
              "      <td>4</td>\n",
              "      <td>0.019066</td>\n",
              "      <td>0.283089</td>\n",
              "      <td>0.934281</td>\n",
              "      <td>00:18</td>\n",
              "    </tr>\n",
              "  </tbody>\n",
              "</table>"
            ],
            "text/plain": [
              "<IPython.core.display.HTML object>"
            ]
          },
          "metadata": {
            "tags": []
          }
        }
      ]
    },
    {
      "cell_type": "code",
      "metadata": {
        "id": "EFdMS3z_gxFE"
      },
      "source": [
        "learn.save('score-9342')"
      ],
      "execution_count": 81,
      "outputs": []
    },
    {
      "cell_type": "code",
      "metadata": {
        "id": "0CEQmduRh9ib"
      },
      "source": [
        "# Load data\n",
        "batch_size = 16\n",
        "size = 256\n",
        "data = ImageDataBunch.from_folder(path=\"data\", train=\"train\", test=\"test\", \n",
        "                                  valid_pct=0.2, \n",
        "                                  ds_tfms=get_transforms(), size=size, \n",
        "                                  bs=batch_size\n",
        "                                  ).normalize(imagenet_stats)"
      ],
      "execution_count": 101,
      "outputs": []
    },
    {
      "cell_type": "code",
      "metadata": {
        "id": "cVSLloV-iD5Z"
      },
      "source": [
        "learn = cnn_learner(data, models.densenet201, metrics=accuracy)"
      ],
      "execution_count": 102,
      "outputs": []
    },
    {
      "cell_type": "code",
      "metadata": {
        "colab": {
          "base_uri": "https://localhost:8080/",
          "height": 376
        },
        "id": "onLzuv5UiKBi",
        "outputId": "eddc6939-4708-4b34-f387-910be9dcf7fb"
      },
      "source": [
        "learn.lr_find()\n",
        "learn.recorder.plot()"
      ],
      "execution_count": 103,
      "outputs": [
        {
          "output_type": "display_data",
          "data": {
            "text/html": [
              "\n",
              "    <div>\n",
              "        <style>\n",
              "            /* Turns off some styling */\n",
              "            progress {\n",
              "                /* gets rid of default border in Firefox and Opera. */\n",
              "                border: none;\n",
              "                /* Needs to be in here for Safari polyfill so background images work as expected. */\n",
              "                background-size: auto;\n",
              "            }\n",
              "            .progress-bar-interrupted, .progress-bar-interrupted::-webkit-progress-bar {\n",
              "                background: #F44336;\n",
              "            }\n",
              "        </style>\n",
              "      <progress value='0' class='' max='1' style='width:300px; height:20px; vertical-align: middle;'></progress>\n",
              "      0.00% [0/1 00:00<00:00]\n",
              "    </div>\n",
              "    \n",
              "<table border=\"1\" class=\"dataframe\">\n",
              "  <thead>\n",
              "    <tr style=\"text-align: left;\">\n",
              "      <th>epoch</th>\n",
              "      <th>train_loss</th>\n",
              "      <th>valid_loss</th>\n",
              "      <th>accuracy</th>\n",
              "      <th>time</th>\n",
              "    </tr>\n",
              "  </thead>\n",
              "  <tbody>\n",
              "  </tbody>\n",
              "</table><p>\n",
              "\n",
              "    <div>\n",
              "        <style>\n",
              "            /* Turns off some styling */\n",
              "            progress {\n",
              "                /* gets rid of default border in Firefox and Opera. */\n",
              "                border: none;\n",
              "                /* Needs to be in here for Safari polyfill so background images work as expected. */\n",
              "                background-size: auto;\n",
              "            }\n",
              "            .progress-bar-interrupted, .progress-bar-interrupted::-webkit-progress-bar {\n",
              "                background: #F44336;\n",
              "            }\n",
              "        </style>\n",
              "      <progress value='88' class='' max='141' style='width:300px; height:20px; vertical-align: middle;'></progress>\n",
              "      62.41% [88/141 00:24<00:14 9.2477]\n",
              "    </div>\n",
              "    "
            ],
            "text/plain": [
              "<IPython.core.display.HTML object>"
            ]
          },
          "metadata": {
            "tags": []
          }
        },
        {
          "output_type": "stream",
          "text": [
            "LR Finder is complete, type {learner_name}.recorder.plot() to see the graph.\n"
          ],
          "name": "stdout"
        },
        {
          "output_type": "display_data",
          "data": {
            "image/png": "[encoded data removed]",
            "text/plain": [
              "<Figure size 432x288 with 1 Axes>"
            ]
          },
          "metadata": {
            "tags": [],
            "needs_background": "light"
          }
        }
      ]
    },
    {
      "cell_type": "code",
      "metadata": {
        "colab": {
          "base_uri": "https://localhost:8080/",
          "height": 143
        },
        "id": "O51SrY01iLKg",
        "outputId": "1540b8c8-85b8-4f28-b7f9-43b8c0e3a5d8"
      },
      "source": [
        "lr = 5e-03\n",
        "learn.fit_one_cycle(3, max_lr=slice(lr/100, lr))"
      ],
      "execution_count": 104,
      "outputs": [
        {
          "output_type": "display_data",
          "data": {
            "text/html": [
              "<table border=\"1\" class=\"dataframe\">\n",
              "  <thead>\n",
              "    <tr style=\"text-align: left;\">\n",
              "      <th>epoch</th>\n",
              "      <th>train_loss</th>\n",
              "      <th>valid_loss</th>\n",
              "      <th>accuracy</th>\n",
              "      <th>time</th>\n",
              "    </tr>\n",
              "  </thead>\n",
              "  <tbody>\n",
              "    <tr>\n",
              "      <td>0</td>\n",
              "      <td>0.962876</td>\n",
              "      <td>0.758384</td>\n",
              "      <td>0.799290</td>\n",
              "      <td>00:42</td>\n",
              "    </tr>\n",
              "    <tr>\n",
              "      <td>1</td>\n",
              "      <td>0.587420</td>\n",
              "      <td>0.336313</td>\n",
              "      <td>0.914742</td>\n",
              "      <td>00:42</td>\n",
              "    </tr>\n",
              "    <tr>\n",
              "      <td>2</td>\n",
              "      <td>0.326546</td>\n",
              "      <td>0.234664</td>\n",
              "      <td>0.925400</td>\n",
              "      <td>00:42</td>\n",
              "    </tr>\n",
              "  </tbody>\n",
              "</table>"
            ],
            "text/plain": [
              "<IPython.core.display.HTML object>"
            ]
          },
          "metadata": {
            "tags": []
          }
        }
      ]
    },
    {
      "cell_type": "code",
      "metadata": {
        "id": "e365xok4icUj"
      },
      "source": [
        "learn.save('score-92054')"
      ],
      "execution_count": 105,
      "outputs": []
    },
    {
      "cell_type": "code",
      "metadata": {
        "id": "ywAF9ZrBiXOZ"
      },
      "source": [
        "learn.unfreeze()"
      ],
      "execution_count": 106,
      "outputs": []
    },
    {
      "cell_type": "code",
      "metadata": {
        "colab": {
          "base_uri": "https://localhost:8080/",
          "height": 376
        },
        "id": "dCIfVPvmieSF",
        "outputId": "5d509492-1f22-4218-fb86-fa921e3a07ae"
      },
      "source": [
        "learn.lr_find()\n",
        "learn.recorder.plot()"
      ],
      "execution_count": 107,
      "outputs": [
        {
          "output_type": "display_data",
          "data": {
            "text/html": [
              "\n",
              "    <div>\n",
              "        <style>\n",
              "            /* Turns off some styling */\n",
              "            progress {\n",
              "                /* gets rid of default border in Firefox and Opera. */\n",
              "                border: none;\n",
              "                /* Needs to be in here for Safari polyfill so background images work as expected. */\n",
              "                background-size: auto;\n",
              "            }\n",
              "            .progress-bar-interrupted, .progress-bar-interrupted::-webkit-progress-bar {\n",
              "                background: #F44336;\n",
              "            }\n",
              "        </style>\n",
              "      <progress value='0' class='' max='1' style='width:300px; height:20px; vertical-align: middle;'></progress>\n",
              "      0.00% [0/1 00:00<00:00]\n",
              "    </div>\n",
              "    \n",
              "<table border=\"1\" class=\"dataframe\">\n",
              "  <thead>\n",
              "    <tr style=\"text-align: left;\">\n",
              "      <th>epoch</th>\n",
              "      <th>train_loss</th>\n",
              "      <th>valid_loss</th>\n",
              "      <th>accuracy</th>\n",
              "      <th>time</th>\n",
              "    </tr>\n",
              "  </thead>\n",
              "  <tbody>\n",
              "  </tbody>\n",
              "</table><p>\n",
              "\n",
              "    <div>\n",
              "        <style>\n",
              "            /* Turns off some styling */\n",
              "            progress {\n",
              "                /* gets rid of default border in Firefox and Opera. */\n",
              "                border: none;\n",
              "                /* Needs to be in here for Safari polyfill so background images work as expected. */\n",
              "                background-size: auto;\n",
              "            }\n",
              "            .progress-bar-interrupted, .progress-bar-interrupted::-webkit-progress-bar {\n",
              "                background: #F44336;\n",
              "            }\n",
              "        </style>\n",
              "      <progress value='52' class='' max='141' style='width:300px; height:20px; vertical-align: middle;'></progress>\n",
              "      36.88% [52/141 00:18<00:32 0.3712]\n",
              "    </div>\n",
              "    "
            ],
            "text/plain": [
              "<IPython.core.display.HTML object>"
            ]
          },
          "metadata": {
            "tags": []
          }
        },
        {
          "output_type": "stream",
          "text": [
            "LR Finder is complete, type {learner_name}.recorder.plot() to see the graph.\n"
          ],
          "name": "stdout"
        },
        {
          "output_type": "display_data",
          "data": {
            "image/png": "[encoded data removed]",
            "text/plain": [
              "<Figure size 432x288 with 1 Axes>"
            ]
          },
          "metadata": {
            "tags": [],
            "needs_background": "light"
          }
        }
      ]
    },
    {
      "cell_type": "code",
      "metadata": {
        "colab": {
          "base_uri": "https://localhost:8080/",
          "height": 520
        },
        "id": "JphpzXdmiiAi",
        "outputId": "8f64abfa-3caf-48a2-c404-eadb2a66077a"
      },
      "source": [
        "lr = 5e-06\n",
        "learn.fit_one_cycle(15, max_lr=slice(lr/100, lr))"
      ],
      "execution_count": 109,
      "outputs": [
        {
          "output_type": "display_data",
          "data": {
            "text/html": [
              "<table border=\"1\" class=\"dataframe\">\n",
              "  <thead>\n",
              "    <tr style=\"text-align: left;\">\n",
              "      <th>epoch</th>\n",
              "      <th>train_loss</th>\n",
              "      <th>valid_loss</th>\n",
              "      <th>accuracy</th>\n",
              "      <th>time</th>\n",
              "    </tr>\n",
              "  </thead>\n",
              "  <tbody>\n",
              "    <tr>\n",
              "      <td>0</td>\n",
              "      <td>0.226870</td>\n",
              "      <td>0.233402</td>\n",
              "      <td>0.925400</td>\n",
              "      <td>00:54</td>\n",
              "    </tr>\n",
              "    <tr>\n",
              "      <td>1</td>\n",
              "      <td>0.249688</td>\n",
              "      <td>0.218187</td>\n",
              "      <td>0.939609</td>\n",
              "      <td>00:54</td>\n",
              "    </tr>\n",
              "    <tr>\n",
              "      <td>2</td>\n",
              "      <td>0.249926</td>\n",
              "      <td>0.217406</td>\n",
              "      <td>0.934281</td>\n",
              "      <td>00:54</td>\n",
              "    </tr>\n",
              "    <tr>\n",
              "      <td>3</td>\n",
              "      <td>0.262872</td>\n",
              "      <td>0.226292</td>\n",
              "      <td>0.930728</td>\n",
              "      <td>00:54</td>\n",
              "    </tr>\n",
              "    <tr>\n",
              "      <td>4</td>\n",
              "      <td>0.224498</td>\n",
              "      <td>0.218679</td>\n",
              "      <td>0.925400</td>\n",
              "      <td>00:54</td>\n",
              "    </tr>\n",
              "    <tr>\n",
              "      <td>5</td>\n",
              "      <td>0.255644</td>\n",
              "      <td>0.215712</td>\n",
              "      <td>0.937833</td>\n",
              "      <td>00:54</td>\n",
              "    </tr>\n",
              "    <tr>\n",
              "      <td>6</td>\n",
              "      <td>0.230841</td>\n",
              "      <td>0.217145</td>\n",
              "      <td>0.930728</td>\n",
              "      <td>00:54</td>\n",
              "    </tr>\n",
              "    <tr>\n",
              "      <td>7</td>\n",
              "      <td>0.233544</td>\n",
              "      <td>0.214029</td>\n",
              "      <td>0.932504</td>\n",
              "      <td>00:54</td>\n",
              "    </tr>\n",
              "    <tr>\n",
              "      <td>8</td>\n",
              "      <td>0.257432</td>\n",
              "      <td>0.213258</td>\n",
              "      <td>0.932504</td>\n",
              "      <td>00:54</td>\n",
              "    </tr>\n",
              "    <tr>\n",
              "      <td>9</td>\n",
              "      <td>0.215319</td>\n",
              "      <td>0.228199</td>\n",
              "      <td>0.934281</td>\n",
              "      <td>00:54</td>\n",
              "    </tr>\n",
              "    <tr>\n",
              "      <td>10</td>\n",
              "      <td>0.257694</td>\n",
              "      <td>0.208860</td>\n",
              "      <td>0.932504</td>\n",
              "      <td>00:54</td>\n",
              "    </tr>\n",
              "    <tr>\n",
              "      <td>11</td>\n",
              "      <td>0.209927</td>\n",
              "      <td>0.205892</td>\n",
              "      <td>0.936057</td>\n",
              "      <td>00:54</td>\n",
              "    </tr>\n",
              "    <tr>\n",
              "      <td>12</td>\n",
              "      <td>0.204990</td>\n",
              "      <td>0.221223</td>\n",
              "      <td>0.934281</td>\n",
              "      <td>00:54</td>\n",
              "    </tr>\n",
              "    <tr>\n",
              "      <td>13</td>\n",
              "      <td>0.243975</td>\n",
              "      <td>0.215665</td>\n",
              "      <td>0.936057</td>\n",
              "      <td>00:54</td>\n",
              "    </tr>\n",
              "    <tr>\n",
              "      <td>14</td>\n",
              "      <td>0.244024</td>\n",
              "      <td>0.217744</td>\n",
              "      <td>0.936057</td>\n",
              "      <td>00:54</td>\n",
              "    </tr>\n",
              "  </tbody>\n",
              "</table>"
            ],
            "text/plain": [
              "<IPython.core.display.HTML object>"
            ]
          },
          "metadata": {
            "tags": []
          }
        }
      ]
    },
    {
      "cell_type": "code",
      "metadata": {
        "id": "dAhtnoA1k4hq"
      },
      "source": [
        "learn.save('score-9360')"
      ],
      "execution_count": 110,
      "outputs": []
    },
    {
      "cell_type": "code",
      "metadata": {
        "id": "tOrTBxe3n9Kb"
      },
      "source": [
        "# Load data\n",
        "batch_size = 16\n",
        "size = 256\n",
        "data = ImageDataBunch.from_folder(path=\"data\", train=\"train\", test=\"test\", \n",
        "                                  valid_pct=0.2, \n",
        "                                  ds_tfms=get_transforms(), size=size, \n",
        "                                  bs=batch_size\n",
        "                                  ).normalize(imagenet_stats)"
      ],
      "execution_count": 111,
      "outputs": []
    },
    {
      "cell_type": "code",
      "metadata": {
        "colab": {
          "base_uri": "https://localhost:8080/",
          "height": 86,
          "referenced_widgets": [
            "b5ab22fa9105475ca1455ce44cfc2858",
            "217f79e22ab04b469268f4e5e68e5d63",
            "87dedc9b4f6d4e12ba52ecede48399a1",
            "28526beae9324248beefa711efa9259e",
            "2228041931ad42d980ef2de13c747e88",
            "e846029c4464454ebcae20dc0130de6a",
            "15d80872d2fb4fa6a53512b8b114ca3a",
            "eda0a4b1ab764e63a6344f3a251c580f"
          ]
        },
        "id": "r22v0SEPrYst",
        "outputId": "5b680987-79be-418b-9d66-a90bef77eb6c"
      },
      "source": [
        "learn = cnn_learner(data, models.resnet152, metrics=accuracy)"
      ],
      "execution_count": 112,
      "outputs": [
        {
          "output_type": "stream",
          "text": [
            "Downloading: \"https://download.pytorch.org/models/resnet152-b121ed2d.pth\" to /root/.cache/torch/hub/checkpoints/resnet152-b121ed2d.pth\n"
          ],
          "name": "stderr"
        },
        {
          "output_type": "display_data",
          "data": {
            "application/vnd.jupyter.widget-view+json": {
              "model_id": "b5ab22fa9105475ca1455ce44cfc2858",
              "version_minor": 0,
              "version_major": 2
            },
            "text/plain": [
              "HBox(children=(FloatProgress(value=0.0, max=241530880.0), HTML(value='')))"
            ]
          },
          "metadata": {
            "tags": []
          }
        },
        {
          "output_type": "stream",
          "text": [
            "\n"
          ],
          "name": "stdout"
        }
      ]
    },
    {
      "cell_type": "code",
      "metadata": {
        "colab": {
          "base_uri": "https://localhost:8080/",
          "height": 376
        },
        "id": "6lCR7frqrgvo",
        "outputId": "7a616099-aea7-4f81-999f-fae67bd68b53"
      },
      "source": [
        "learn.lr_find()\n",
        "learn.recorder.plot()"
      ],
      "execution_count": 113,
      "outputs": [
        {
          "output_type": "display_data",
          "data": {
            "text/html": [
              "\n",
              "    <div>\n",
              "        <style>\n",
              "            /* Turns off some styling */\n",
              "            progress {\n",
              "                /* gets rid of default border in Firefox and Opera. */\n",
              "                border: none;\n",
              "                /* Needs to be in here for Safari polyfill so background images work as expected. */\n",
              "                background-size: auto;\n",
              "            }\n",
              "            .progress-bar-interrupted, .progress-bar-interrupted::-webkit-progress-bar {\n",
              "                background: #F44336;\n",
              "            }\n",
              "        </style>\n",
              "      <progress value='0' class='' max='1' style='width:300px; height:20px; vertical-align: middle;'></progress>\n",
              "      0.00% [0/1 00:00<00:00]\n",
              "    </div>\n",
              "    \n",
              "<table border=\"1\" class=\"dataframe\">\n",
              "  <thead>\n",
              "    <tr style=\"text-align: left;\">\n",
              "      <th>epoch</th>\n",
              "      <th>train_loss</th>\n",
              "      <th>valid_loss</th>\n",
              "      <th>accuracy</th>\n",
              "      <th>time</th>\n",
              "    </tr>\n",
              "  </thead>\n",
              "  <tbody>\n",
              "  </tbody>\n",
              "</table><p>\n",
              "\n",
              "    <div>\n",
              "        <style>\n",
              "            /* Turns off some styling */\n",
              "            progress {\n",
              "                /* gets rid of default border in Firefox and Opera. */\n",
              "                border: none;\n",
              "                /* Needs to be in here for Safari polyfill so background images work as expected. */\n",
              "                background-size: auto;\n",
              "            }\n",
              "            .progress-bar-interrupted, .progress-bar-interrupted::-webkit-progress-bar {\n",
              "                background: #F44336;\n",
              "            }\n",
              "        </style>\n",
              "      <progress value='87' class='' max='141' style='width:300px; height:20px; vertical-align: middle;'></progress>\n",
              "      61.70% [87/141 00:29<00:18 8.4681]\n",
              "    </div>\n",
              "    "
            ],
            "text/plain": [
              "<IPython.core.display.HTML object>"
            ]
          },
          "metadata": {
            "tags": []
          }
        },
        {
          "output_type": "stream",
          "text": [
            "LR Finder is complete, type {learner_name}.recorder.plot() to see the graph.\n"
          ],
          "name": "stdout"
        },
        {
          "output_type": "display_data",
          "data": {
            "image/png": "[encoded data removed]",
            "text/plain": [
              "<Figure size 432x288 with 1 Axes>"
            ]
          },
          "metadata": {
            "tags": [],
            "needs_background": "light"
          }
        }
      ]
    },
    {
      "cell_type": "code",
      "metadata": {
        "colab": {
          "base_uri": "https://localhost:8080/",
          "height": 206
        },
        "id": "5Jc-jsUqscNg",
        "outputId": "54c5de5f-9ff1-4195-ba27-81fcc205ee20"
      },
      "source": [
        "lr = 1e-03\n",
        "learn.fit_one_cycle(5, max_lr=slice(lr/100, lr))"
      ],
      "execution_count": 115,
      "outputs": [
        {
          "output_type": "display_data",
          "data": {
            "text/html": [
              "<table border=\"1\" class=\"dataframe\">\n",
              "  <thead>\n",
              "    <tr style=\"text-align: left;\">\n",
              "      <th>epoch</th>\n",
              "      <th>train_loss</th>\n",
              "      <th>valid_loss</th>\n",
              "      <th>accuracy</th>\n",
              "      <th>time</th>\n",
              "    </tr>\n",
              "  </thead>\n",
              "  <tbody>\n",
              "    <tr>\n",
              "      <td>0</td>\n",
              "      <td>0.799438</td>\n",
              "      <td>0.471770</td>\n",
              "      <td>0.838366</td>\n",
              "      <td>00:52</td>\n",
              "    </tr>\n",
              "    <tr>\n",
              "      <td>1</td>\n",
              "      <td>0.672000</td>\n",
              "      <td>0.384657</td>\n",
              "      <td>0.875666</td>\n",
              "      <td>00:52</td>\n",
              "    </tr>\n",
              "    <tr>\n",
              "      <td>2</td>\n",
              "      <td>0.500747</td>\n",
              "      <td>0.344911</td>\n",
              "      <td>0.880995</td>\n",
              "      <td>00:51</td>\n",
              "    </tr>\n",
              "    <tr>\n",
              "      <td>3</td>\n",
              "      <td>0.363193</td>\n",
              "      <td>0.292073</td>\n",
              "      <td>0.902309</td>\n",
              "      <td>00:52</td>\n",
              "    </tr>\n",
              "    <tr>\n",
              "      <td>4</td>\n",
              "      <td>0.292874</td>\n",
              "      <td>0.268215</td>\n",
              "      <td>0.905861</td>\n",
              "      <td>00:51</td>\n",
              "    </tr>\n",
              "  </tbody>\n",
              "</table>"
            ],
            "text/plain": [
              "<IPython.core.display.HTML object>"
            ]
          },
          "metadata": {
            "tags": []
          }
        }
      ]
    },
    {
      "cell_type": "code",
      "metadata": {
        "id": "HT8FwzoXsm-_"
      },
      "source": [
        "learn.unfreeze()"
      ],
      "execution_count": 116,
      "outputs": []
    },
    {
      "cell_type": "code",
      "metadata": {
        "colab": {
          "base_uri": "https://localhost:8080/",
          "height": 376
        },
        "id": "sXUc3JI4tzNS",
        "outputId": "771774a4-5dc5-4937-d922-661cfdee7401"
      },
      "source": [
        "learn.lr_find()\n",
        "learn.recorder.plot()"
      ],
      "execution_count": 117,
      "outputs": [
        {
          "output_type": "display_data",
          "data": {
            "text/html": [
              "\n",
              "    <div>\n",
              "        <style>\n",
              "            /* Turns off some styling */\n",
              "            progress {\n",
              "                /* gets rid of default border in Firefox and Opera. */\n",
              "                border: none;\n",
              "                /* Needs to be in here for Safari polyfill so background images work as expected. */\n",
              "                background-size: auto;\n",
              "            }\n",
              "            .progress-bar-interrupted, .progress-bar-interrupted::-webkit-progress-bar {\n",
              "                background: #F44336;\n",
              "            }\n",
              "        </style>\n",
              "      <progress value='0' class='' max='1' style='width:300px; height:20px; vertical-align: middle;'></progress>\n",
              "      0.00% [0/1 00:00<00:00]\n",
              "    </div>\n",
              "    \n",
              "<table border=\"1\" class=\"dataframe\">\n",
              "  <thead>\n",
              "    <tr style=\"text-align: left;\">\n",
              "      <th>epoch</th>\n",
              "      <th>train_loss</th>\n",
              "      <th>valid_loss</th>\n",
              "      <th>accuracy</th>\n",
              "      <th>time</th>\n",
              "    </tr>\n",
              "  </thead>\n",
              "  <tbody>\n",
              "  </tbody>\n",
              "</table><p>\n",
              "\n",
              "    <div>\n",
              "        <style>\n",
              "            /* Turns off some styling */\n",
              "            progress {\n",
              "                /* gets rid of default border in Firefox and Opera. */\n",
              "                border: none;\n",
              "                /* Needs to be in here for Safari polyfill so background images work as expected. */\n",
              "                background-size: auto;\n",
              "            }\n",
              "            .progress-bar-interrupted, .progress-bar-interrupted::-webkit-progress-bar {\n",
              "                background: #F44336;\n",
              "            }\n",
              "        </style>\n",
              "      <progress value='52' class='' max='141' style='width:300px; height:20px; vertical-align: middle;'></progress>\n",
              "      36.88% [52/141 00:25<00:43 0.4012]\n",
              "    </div>\n",
              "    "
            ],
            "text/plain": [
              "<IPython.core.display.HTML object>"
            ]
          },
          "metadata": {
            "tags": []
          }
        },
        {
          "output_type": "stream",
          "text": [
            "LR Finder is complete, type {learner_name}.recorder.plot() to see the graph.\n"
          ],
          "name": "stdout"
        },
        {
          "output_type": "display_data",
          "data": {
            "image/png": "[encoded data removed]",
            "text/plain": [
              "<Figure size 432x288 with 1 Axes>"
            ]
          },
          "metadata": {
            "tags": [],
            "needs_background": "light"
          }
        }
      ]
    },
    {
      "cell_type": "code",
      "metadata": {
        "colab": {
          "base_uri": "https://localhost:8080/",
          "height": 206
        },
        "id": "WmB4gBhft4pd",
        "outputId": "2342ce2c-aeb0-49ca-dafe-4b749eb6088a"
      },
      "source": [
        "lr = 2e-05\n",
        "learn.fit_one_cycle(5, max_lr=slice(lr/100, lr))"
      ],
      "execution_count": 119,
      "outputs": [
        {
          "output_type": "display_data",
          "data": {
            "text/html": [
              "<table border=\"1\" class=\"dataframe\">\n",
              "  <thead>\n",
              "    <tr style=\"text-align: left;\">\n",
              "      <th>epoch</th>\n",
              "      <th>train_loss</th>\n",
              "      <th>valid_loss</th>\n",
              "      <th>accuracy</th>\n",
              "      <th>time</th>\n",
              "    </tr>\n",
              "  </thead>\n",
              "  <tbody>\n",
              "    <tr>\n",
              "      <td>0</td>\n",
              "      <td>0.261214</td>\n",
              "      <td>0.254958</td>\n",
              "      <td>0.927176</td>\n",
              "      <td>01:12</td>\n",
              "    </tr>\n",
              "    <tr>\n",
              "      <td>1</td>\n",
              "      <td>0.247543</td>\n",
              "      <td>0.255342</td>\n",
              "      <td>0.923623</td>\n",
              "      <td>01:12</td>\n",
              "    </tr>\n",
              "    <tr>\n",
              "      <td>2</td>\n",
              "      <td>0.253300</td>\n",
              "      <td>0.246016</td>\n",
              "      <td>0.912966</td>\n",
              "      <td>01:12</td>\n",
              "    </tr>\n",
              "    <tr>\n",
              "      <td>3</td>\n",
              "      <td>0.200441</td>\n",
              "      <td>0.240497</td>\n",
              "      <td>0.923623</td>\n",
              "      <td>01:12</td>\n",
              "    </tr>\n",
              "    <tr>\n",
              "      <td>4</td>\n",
              "      <td>0.222134</td>\n",
              "      <td>0.234667</td>\n",
              "      <td>0.916519</td>\n",
              "      <td>01:12</td>\n",
              "    </tr>\n",
              "  </tbody>\n",
              "</table>"
            ],
            "text/plain": [
              "<IPython.core.display.HTML object>"
            ]
          },
          "metadata": {
            "tags": []
          }
        }
      ]
    },
    {
      "cell_type": "code",
      "metadata": {
        "id": "BbG6aNy0v6Qa"
      },
      "source": [
        "# Load data\n",
        "batch_size = 16\n",
        "size = 256\n",
        "data = ImageDataBunch.from_folder(path=\"data\", train=\"train\", test=\"test\", \n",
        "                                  valid_pct=0.2, \n",
        "                                  ds_tfms=get_transforms(), size=size, \n",
        "                                  bs=batch_size\n",
        "                                  ).normalize(imagenet_stats)\n",
        "learn = cnn_learner(data, models.densenet201, metrics=accuracy)"
      ],
      "execution_count": 120,
      "outputs": []
    },
    {
      "cell_type": "code",
      "metadata": {
        "id": "WUfQkWvGv0Ce"
      },
      "source": [
        "best = learn.load('score-9502')"
      ],
      "execution_count": 123,
      "outputs": []
    },
    {
      "cell_type": "code",
      "metadata": {
        "colab": {
          "base_uri": "https://localhost:8080/",
          "height": 380
        },
        "id": "rro8RisywduY",
        "outputId": "029e03c5-282e-49d8-ef28-899fcdbbfeb4"
      },
      "source": [
        "best.lr_find()\n",
        "best.recorder.plot()"
      ],
      "execution_count": 126,
      "outputs": [
        {
          "output_type": "display_data",
          "data": {
            "text/html": [
              "\n",
              "    <div>\n",
              "        <style>\n",
              "            /* Turns off some styling */\n",
              "            progress {\n",
              "                /* gets rid of default border in Firefox and Opera. */\n",
              "                border: none;\n",
              "                /* Needs to be in here for Safari polyfill so background images work as expected. */\n",
              "                background-size: auto;\n",
              "            }\n",
              "            .progress-bar-interrupted, .progress-bar-interrupted::-webkit-progress-bar {\n",
              "                background: #F44336;\n",
              "            }\n",
              "        </style>\n",
              "      <progress value='0' class='' max='1' style='width:300px; height:20px; vertical-align: middle;'></progress>\n",
              "      0.00% [0/1 00:00<00:00]\n",
              "    </div>\n",
              "    \n",
              "<table border=\"1\" class=\"dataframe\">\n",
              "  <thead>\n",
              "    <tr style=\"text-align: left;\">\n",
              "      <th>epoch</th>\n",
              "      <th>train_loss</th>\n",
              "      <th>valid_loss</th>\n",
              "      <th>accuracy</th>\n",
              "      <th>time</th>\n",
              "    </tr>\n",
              "  </thead>\n",
              "  <tbody>\n",
              "  </tbody>\n",
              "</table><p>\n",
              "\n",
              "    <div>\n",
              "        <style>\n",
              "            /* Turns off some styling */\n",
              "            progress {\n",
              "                /* gets rid of default border in Firefox and Opera. */\n",
              "                border: none;\n",
              "                /* Needs to be in here for Safari polyfill so background images work as expected. */\n",
              "                background-size: auto;\n",
              "            }\n",
              "            .progress-bar-interrupted, .progress-bar-interrupted::-webkit-progress-bar {\n",
              "                background: #F44336;\n",
              "            }\n",
              "        </style>\n",
              "      <progress value='68' class='' max='141' style='width:300px; height:20px; vertical-align: middle;'></progress>\n",
              "      48.23% [68/141 00:18<00:19 0.6762]\n",
              "    </div>\n",
              "    "
            ],
            "text/plain": [
              "<IPython.core.display.HTML object>"
            ]
          },
          "metadata": {
            "tags": []
          }
        },
        {
          "output_type": "stream",
          "text": [
            "LR Finder is complete, type {learner_name}.recorder.plot() to see the graph.\n"
          ],
          "name": "stdout"
        },
        {
          "output_type": "display_data",
          "data": {
            "image/png": "[encoded data removed]",
            "text/plain": [
              "<Figure size 432x288 with 1 Axes>"
            ]
          },
          "metadata": {
            "tags": [],
            "needs_background": "light"
          }
        }
      ]
    },
    {
      "cell_type": "code",
      "metadata": {
        "colab": {
          "base_uri": "https://localhost:8080/",
          "height": 641
        },
        "id": "-bmk9hhfwPsO",
        "outputId": "6e801e77-e1f9-4a1e-9fd0-6b55367f2ee0"
      },
      "source": [
        "lr = 1.2e-06\n",
        "best.fit(10)"
      ],
      "execution_count": 129,
      "outputs": [
        {
          "output_type": "display_data",
          "data": {
            "text/html": [
              "\n",
              "    <div>\n",
              "        <style>\n",
              "            /* Turns off some styling */\n",
              "            progress {\n",
              "                /* gets rid of default border in Firefox and Opera. */\n",
              "                border: none;\n",
              "                /* Needs to be in here for Safari polyfill so background images work as expected. */\n",
              "                background-size: auto;\n",
              "            }\n",
              "            .progress-bar-interrupted, .progress-bar-interrupted::-webkit-progress-bar {\n",
              "                background: #F44336;\n",
              "            }\n",
              "        </style>\n",
              "      <progress value='7' class='' max='10' style='width:300px; height:20px; vertical-align: middle;'></progress>\n",
              "      70.00% [7/10 04:51<02:04]\n",
              "    </div>\n",
              "    \n",
              "<table border=\"1\" class=\"dataframe\">\n",
              "  <thead>\n",
              "    <tr style=\"text-align: left;\">\n",
              "      <th>epoch</th>\n",
              "      <th>train_loss</th>\n",
              "      <th>valid_loss</th>\n",
              "      <th>accuracy</th>\n",
              "      <th>time</th>\n",
              "    </tr>\n",
              "  </thead>\n",
              "  <tbody>\n",
              "    <tr>\n",
              "      <td>0</td>\n",
              "      <td>0.332978</td>\n",
              "      <td>0.153811</td>\n",
              "      <td>0.959147</td>\n",
              "      <td>00:40</td>\n",
              "    </tr>\n",
              "    <tr>\n",
              "      <td>1</td>\n",
              "      <td>0.336183</td>\n",
              "      <td>0.285485</td>\n",
              "      <td>0.920071</td>\n",
              "      <td>00:41</td>\n",
              "    </tr>\n",
              "    <tr>\n",
              "      <td>2</td>\n",
              "      <td>0.261964</td>\n",
              "      <td>0.175570</td>\n",
              "      <td>0.944938</td>\n",
              "      <td>00:41</td>\n",
              "    </tr>\n",
              "    <tr>\n",
              "      <td>3</td>\n",
              "      <td>0.241887</td>\n",
              "      <td>0.133379</td>\n",
              "      <td>0.959147</td>\n",
              "      <td>00:41</td>\n",
              "    </tr>\n",
              "    <tr>\n",
              "      <td>4</td>\n",
              "      <td>0.195525</td>\n",
              "      <td>0.129707</td>\n",
              "      <td>0.957371</td>\n",
              "      <td>00:41</td>\n",
              "    </tr>\n",
              "    <tr>\n",
              "      <td>5</td>\n",
              "      <td>0.182971</td>\n",
              "      <td>0.201832</td>\n",
              "      <td>0.950266</td>\n",
              "      <td>00:41</td>\n",
              "    </tr>\n",
              "    <tr>\n",
              "      <td>6</td>\n",
              "      <td>0.205065</td>\n",
              "      <td>0.211567</td>\n",
              "      <td>0.936057</td>\n",
              "      <td>00:41</td>\n",
              "    </tr>\n",
              "  </tbody>\n",
              "</table><p>\n",
              "\n",
              "    <div>\n",
              "        <style>\n",
              "            /* Turns off some styling */\n",
              "            progress {\n",
              "                /* gets rid of default border in Firefox and Opera. */\n",
              "                border: none;\n",
              "                /* Needs to be in here for Safari polyfill so background images work as expected. */\n",
              "                background-size: auto;\n",
              "            }\n",
              "            .progress-bar-interrupted, .progress-bar-interrupted::-webkit-progress-bar {\n",
              "                background: #F44336;\n",
              "            }\n",
              "        </style>\n",
              "      <progress value='11' class='' max='141' style='width:300px; height:20px; vertical-align: middle;'></progress>\n",
              "      7.80% [11/141 00:03<00:41 0.1908]\n",
              "    </div>\n",
              "    "
            ],
            "text/plain": [
              "<IPython.core.display.HTML object>"
            ]
          },
          "metadata": {
            "tags": []
          }
        },
        {
          "output_type": "error",
          "ename": "KeyboardInterrupt",
          "evalue": "ignored",
          "traceback": [
            "\u001b[0;31m---------------------------------------------------------------------------\u001b[0m",
            "\u001b[0;31mKeyboardInterrupt\u001b[0m                         Traceback (most recent call last)",
            "\u001b[0;32m<ipython-input-129-ffa2bc9ebd61>\u001b[0m in \u001b[0;36m<module>\u001b[0;34m()\u001b[0m\n\u001b[1;32m      1\u001b[0m \u001b[0mlr\u001b[0m \u001b[0;34m=\u001b[0m \u001b[0;36m1.2e-06\u001b[0m\u001b[0;34m\u001b[0m\u001b[0;34m\u001b[0m\u001b[0m\n\u001b[0;32m----> 2\u001b[0;31m \u001b[0mbest\u001b[0m\u001b[0;34m.\u001b[0m\u001b[0mfit\u001b[0m\u001b[0;34m(\u001b[0m\u001b[0;36m10\u001b[0m\u001b[0;34m)\u001b[0m\u001b[0;34m\u001b[0m\u001b[0;34m\u001b[0m\u001b[0m\n\u001b[0m",
            "\u001b[0;32m/usr/local/lib/python3.7/dist-packages/fastai/basic_train.py\u001b[0m in \u001b[0;36mfit\u001b[0;34m(self, epochs, lr, wd, callbacks)\u001b[0m\n\u001b[1;32m    198\u001b[0m         \u001b[0;32melse\u001b[0m\u001b[0;34m:\u001b[0m \u001b[0mself\u001b[0m\u001b[0;34m.\u001b[0m\u001b[0mopt\u001b[0m\u001b[0;34m.\u001b[0m\u001b[0mlr\u001b[0m\u001b[0;34m,\u001b[0m\u001b[0mself\u001b[0m\u001b[0;34m.\u001b[0m\u001b[0mopt\u001b[0m\u001b[0;34m.\u001b[0m\u001b[0mwd\u001b[0m \u001b[0;34m=\u001b[0m \u001b[0mlr\u001b[0m\u001b[0;34m,\u001b[0m\u001b[0mwd\u001b[0m\u001b[0;34m\u001b[0m\u001b[0;34m\u001b[0m\u001b[0m\n\u001b[1;32m    199\u001b[0m         \u001b[0mcallbacks\u001b[0m \u001b[0;34m=\u001b[0m \u001b[0;34m[\u001b[0m\u001b[0mcb\u001b[0m\u001b[0;34m(\u001b[0m\u001b[0mself\u001b[0m\u001b[0;34m)\u001b[0m \u001b[0;32mfor\u001b[0m \u001b[0mcb\u001b[0m \u001b[0;32min\u001b[0m \u001b[0mself\u001b[0m\u001b[0;34m.\u001b[0m\u001b[0mcallback_fns\u001b[0m \u001b[0;34m+\u001b[0m \u001b[0mlistify\u001b[0m\u001b[0;34m(\u001b[0m\u001b[0mdefaults\u001b[0m\u001b[0;34m.\u001b[0m\u001b[0mextra_callback_fns\u001b[0m\u001b[0;34m)\u001b[0m\u001b[0;34m]\u001b[0m \u001b[0;34m+\u001b[0m \u001b[0mlistify\u001b[0m\u001b[0;34m(\u001b[0m\u001b[0mcallbacks\u001b[0m\u001b[0;34m)\u001b[0m\u001b[0;34m\u001b[0m\u001b[0;34m\u001b[0m\u001b[0m\n\u001b[0;32m--> 200\u001b[0;31m         \u001b[0mfit\u001b[0m\u001b[0;34m(\u001b[0m\u001b[0mepochs\u001b[0m\u001b[0;34m,\u001b[0m \u001b[0mself\u001b[0m\u001b[0;34m,\u001b[0m \u001b[0mmetrics\u001b[0m\u001b[0;34m=\u001b[0m\u001b[0mself\u001b[0m\u001b[0;34m.\u001b[0m\u001b[0mmetrics\u001b[0m\u001b[0;34m,\u001b[0m \u001b[0mcallbacks\u001b[0m\u001b[0;34m=\u001b[0m\u001b[0mself\u001b[0m\u001b[0;34m.\u001b[0m\u001b[0mcallbacks\u001b[0m\u001b[0;34m+\u001b[0m\u001b[0mcallbacks\u001b[0m\u001b[0;34m)\u001b[0m\u001b[0;34m\u001b[0m\u001b[0;34m\u001b[0m\u001b[0m\n\u001b[0m\u001b[1;32m    201\u001b[0m \u001b[0;34m\u001b[0m\u001b[0m\n\u001b[1;32m    202\u001b[0m     \u001b[0;32mdef\u001b[0m \u001b[0mcreate_opt\u001b[0m\u001b[0;34m(\u001b[0m\u001b[0mself\u001b[0m\u001b[0;34m,\u001b[0m \u001b[0mlr\u001b[0m\u001b[0;34m:\u001b[0m\u001b[0mFloats\u001b[0m\u001b[0;34m,\u001b[0m \u001b[0mwd\u001b[0m\u001b[0;34m:\u001b[0m\u001b[0mFloats\u001b[0m\u001b[0;34m=\u001b[0m\u001b[0;36m0.\u001b[0m\u001b[0;34m)\u001b[0m\u001b[0;34m->\u001b[0m\u001b[0;32mNone\u001b[0m\u001b[0;34m:\u001b[0m\u001b[0;34m\u001b[0m\u001b[0;34m\u001b[0m\u001b[0m\n",
            "\u001b[0;32m/usr/local/lib/python3.7/dist-packages/fastai/basic_train.py\u001b[0m in \u001b[0;36mfit\u001b[0;34m(epochs, learn, callbacks, metrics)\u001b[0m\n\u001b[1;32m     99\u001b[0m             \u001b[0;32mfor\u001b[0m \u001b[0mxb\u001b[0m\u001b[0;34m,\u001b[0m\u001b[0myb\u001b[0m \u001b[0;32min\u001b[0m \u001b[0mprogress_bar\u001b[0m\u001b[0;34m(\u001b[0m\u001b[0mlearn\u001b[0m\u001b[0;34m.\u001b[0m\u001b[0mdata\u001b[0m\u001b[0;34m.\u001b[0m\u001b[0mtrain_dl\u001b[0m\u001b[0;34m,\u001b[0m \u001b[0mparent\u001b[0m\u001b[0;34m=\u001b[0m\u001b[0mpbar\u001b[0m\u001b[0;34m)\u001b[0m\u001b[0;34m:\u001b[0m\u001b[0;34m\u001b[0m\u001b[0;34m\u001b[0m\u001b[0m\n\u001b[1;32m    100\u001b[0m                 \u001b[0mxb\u001b[0m\u001b[0;34m,\u001b[0m \u001b[0myb\u001b[0m \u001b[0;34m=\u001b[0m \u001b[0mcb_handler\u001b[0m\u001b[0;34m.\u001b[0m\u001b[0mon_batch_begin\u001b[0m\u001b[0;34m(\u001b[0m\u001b[0mxb\u001b[0m\u001b[0;34m,\u001b[0m \u001b[0myb\u001b[0m\u001b[0;34m)\u001b[0m\u001b[0;34m\u001b[0m\u001b[0;34m\u001b[0m\u001b[0m\n\u001b[0;32m--> 101\u001b[0;31m                 \u001b[0mloss\u001b[0m \u001b[0;34m=\u001b[0m \u001b[0mloss_batch\u001b[0m\u001b[0;34m(\u001b[0m\u001b[0mlearn\u001b[0m\u001b[0;34m.\u001b[0m\u001b[0mmodel\u001b[0m\u001b[0;34m,\u001b[0m \u001b[0mxb\u001b[0m\u001b[0;34m,\u001b[0m \u001b[0myb\u001b[0m\u001b[0;34m,\u001b[0m \u001b[0mlearn\u001b[0m\u001b[0;34m.\u001b[0m\u001b[0mloss_func\u001b[0m\u001b[0;34m,\u001b[0m \u001b[0mlearn\u001b[0m\u001b[0;34m.\u001b[0m\u001b[0mopt\u001b[0m\u001b[0;34m,\u001b[0m \u001b[0mcb_handler\u001b[0m\u001b[0;34m)\u001b[0m\u001b[0;34m\u001b[0m\u001b[0;34m\u001b[0m\u001b[0m\n\u001b[0m\u001b[1;32m    102\u001b[0m                 \u001b[0;32mif\u001b[0m \u001b[0mcb_handler\u001b[0m\u001b[0;34m.\u001b[0m\u001b[0mon_batch_end\u001b[0m\u001b[0;34m(\u001b[0m\u001b[0mloss\u001b[0m\u001b[0;34m)\u001b[0m\u001b[0;34m:\u001b[0m \u001b[0;32mbreak\u001b[0m\u001b[0;34m\u001b[0m\u001b[0;34m\u001b[0m\u001b[0m\n\u001b[1;32m    103\u001b[0m \u001b[0;34m\u001b[0m\u001b[0m\n",
            "\u001b[0;32m/usr/local/lib/python3.7/dist-packages/fastai/basic_train.py\u001b[0m in \u001b[0;36mloss_batch\u001b[0;34m(model, xb, yb, loss_func, opt, cb_handler)\u001b[0m\n\u001b[1;32m     24\u001b[0m     \u001b[0;32mif\u001b[0m \u001b[0;32mnot\u001b[0m \u001b[0mis_listy\u001b[0m\u001b[0;34m(\u001b[0m\u001b[0mxb\u001b[0m\u001b[0;34m)\u001b[0m\u001b[0;34m:\u001b[0m \u001b[0mxb\u001b[0m \u001b[0;34m=\u001b[0m \u001b[0;34m[\u001b[0m\u001b[0mxb\u001b[0m\u001b[0;34m]\u001b[0m\u001b[0;34m\u001b[0m\u001b[0;34m\u001b[0m\u001b[0m\n\u001b[1;32m     25\u001b[0m     \u001b[0;32mif\u001b[0m \u001b[0;32mnot\u001b[0m \u001b[0mis_listy\u001b[0m\u001b[0;34m(\u001b[0m\u001b[0myb\u001b[0m\u001b[0;34m)\u001b[0m\u001b[0;34m:\u001b[0m \u001b[0myb\u001b[0m \u001b[0;34m=\u001b[0m \u001b[0;34m[\u001b[0m\u001b[0myb\u001b[0m\u001b[0;34m]\u001b[0m\u001b[0;34m\u001b[0m\u001b[0;34m\u001b[0m\u001b[0m\n\u001b[0;32m---> 26\u001b[0;31m     \u001b[0mout\u001b[0m \u001b[0;34m=\u001b[0m \u001b[0mmodel\u001b[0m\u001b[0;34m(\u001b[0m\u001b[0;34m*\u001b[0m\u001b[0mxb\u001b[0m\u001b[0;34m)\u001b[0m\u001b[0;34m\u001b[0m\u001b[0;34m\u001b[0m\u001b[0m\n\u001b[0m\u001b[1;32m     27\u001b[0m     \u001b[0mout\u001b[0m \u001b[0;34m=\u001b[0m \u001b[0mcb_handler\u001b[0m\u001b[0;34m.\u001b[0m\u001b[0mon_loss_begin\u001b[0m\u001b[0;34m(\u001b[0m\u001b[0mout\u001b[0m\u001b[0;34m)\u001b[0m\u001b[0;34m\u001b[0m\u001b[0;34m\u001b[0m\u001b[0m\n\u001b[1;32m     28\u001b[0m \u001b[0;34m\u001b[0m\u001b[0m\n",
            "\u001b[0;32m/usr/local/lib/python3.7/dist-packages/torch/nn/modules/module.py\u001b[0m in \u001b[0;36m_call_impl\u001b[0;34m(self, *input, **kwargs)\u001b[0m\n\u001b[1;32m    887\u001b[0m             \u001b[0mresult\u001b[0m \u001b[0;34m=\u001b[0m \u001b[0mself\u001b[0m\u001b[0;34m.\u001b[0m\u001b[0m_slow_forward\u001b[0m\u001b[0;34m(\u001b[0m\u001b[0;34m*\u001b[0m\u001b[0minput\u001b[0m\u001b[0;34m,\u001b[0m \u001b[0;34m**\u001b[0m\u001b[0mkwargs\u001b[0m\u001b[0;34m)\u001b[0m\u001b[0;34m\u001b[0m\u001b[0;34m\u001b[0m\u001b[0m\n\u001b[1;32m    888\u001b[0m         \u001b[0;32melse\u001b[0m\u001b[0;34m:\u001b[0m\u001b[0;34m\u001b[0m\u001b[0;34m\u001b[0m\u001b[0m\n\u001b[0;32m--> 889\u001b[0;31m             \u001b[0mresult\u001b[0m \u001b[0;34m=\u001b[0m \u001b[0mself\u001b[0m\u001b[0;34m.\u001b[0m\u001b[0mforward\u001b[0m\u001b[0;34m(\u001b[0m\u001b[0;34m*\u001b[0m\u001b[0minput\u001b[0m\u001b[0;34m,\u001b[0m \u001b[0;34m**\u001b[0m\u001b[0mkwargs\u001b[0m\u001b[0;34m)\u001b[0m\u001b[0;34m\u001b[0m\u001b[0;34m\u001b[0m\u001b[0m\n\u001b[0m\u001b[1;32m    890\u001b[0m         for hook in itertools.chain(\n\u001b[1;32m    891\u001b[0m                 \u001b[0m_global_forward_hooks\u001b[0m\u001b[0;34m.\u001b[0m\u001b[0mvalues\u001b[0m\u001b[0;34m(\u001b[0m\u001b[0;34m)\u001b[0m\u001b[0;34m,\u001b[0m\u001b[0;34m\u001b[0m\u001b[0;34m\u001b[0m\u001b[0m\n",
            "\u001b[0;32m/usr/local/lib/python3.7/dist-packages/torch/nn/modules/container.py\u001b[0m in \u001b[0;36mforward\u001b[0;34m(self, input)\u001b[0m\n\u001b[1;32m    117\u001b[0m     \u001b[0;32mdef\u001b[0m \u001b[0mforward\u001b[0m\u001b[0;34m(\u001b[0m\u001b[0mself\u001b[0m\u001b[0;34m,\u001b[0m \u001b[0minput\u001b[0m\u001b[0;34m)\u001b[0m\u001b[0;34m:\u001b[0m\u001b[0;34m\u001b[0m\u001b[0;34m\u001b[0m\u001b[0m\n\u001b[1;32m    118\u001b[0m         \u001b[0;32mfor\u001b[0m \u001b[0mmodule\u001b[0m \u001b[0;32min\u001b[0m \u001b[0mself\u001b[0m\u001b[0;34m:\u001b[0m\u001b[0;34m\u001b[0m\u001b[0;34m\u001b[0m\u001b[0m\n\u001b[0;32m--> 119\u001b[0;31m             \u001b[0minput\u001b[0m \u001b[0;34m=\u001b[0m \u001b[0mmodule\u001b[0m\u001b[0;34m(\u001b[0m\u001b[0minput\u001b[0m\u001b[0;34m)\u001b[0m\u001b[0;34m\u001b[0m\u001b[0;34m\u001b[0m\u001b[0m\n\u001b[0m\u001b[1;32m    120\u001b[0m         \u001b[0;32mreturn\u001b[0m \u001b[0minput\u001b[0m\u001b[0;34m\u001b[0m\u001b[0;34m\u001b[0m\u001b[0m\n\u001b[1;32m    121\u001b[0m \u001b[0;34m\u001b[0m\u001b[0m\n",
            "\u001b[0;32m/usr/local/lib/python3.7/dist-packages/torch/nn/modules/module.py\u001b[0m in \u001b[0;36m_call_impl\u001b[0;34m(self, *input, **kwargs)\u001b[0m\n\u001b[1;32m    887\u001b[0m             \u001b[0mresult\u001b[0m \u001b[0;34m=\u001b[0m \u001b[0mself\u001b[0m\u001b[0;34m.\u001b[0m\u001b[0m_slow_forward\u001b[0m\u001b[0;34m(\u001b[0m\u001b[0;34m*\u001b[0m\u001b[0minput\u001b[0m\u001b[0;34m,\u001b[0m \u001b[0;34m**\u001b[0m\u001b[0mkwargs\u001b[0m\u001b[0;34m)\u001b[0m\u001b[0;34m\u001b[0m\u001b[0;34m\u001b[0m\u001b[0m\n\u001b[1;32m    888\u001b[0m         \u001b[0;32melse\u001b[0m\u001b[0;34m:\u001b[0m\u001b[0;34m\u001b[0m\u001b[0;34m\u001b[0m\u001b[0m\n\u001b[0;32m--> 889\u001b[0;31m             \u001b[0mresult\u001b[0m \u001b[0;34m=\u001b[0m \u001b[0mself\u001b[0m\u001b[0;34m.\u001b[0m\u001b[0mforward\u001b[0m\u001b[0;34m(\u001b[0m\u001b[0;34m*\u001b[0m\u001b[0minput\u001b[0m\u001b[0;34m,\u001b[0m \u001b[0;34m**\u001b[0m\u001b[0mkwargs\u001b[0m\u001b[0;34m)\u001b[0m\u001b[0;34m\u001b[0m\u001b[0;34m\u001b[0m\u001b[0m\n\u001b[0m\u001b[1;32m    890\u001b[0m         for hook in itertools.chain(\n\u001b[1;32m    891\u001b[0m                 \u001b[0m_global_forward_hooks\u001b[0m\u001b[0;34m.\u001b[0m\u001b[0mvalues\u001b[0m\u001b[0;34m(\u001b[0m\u001b[0;34m)\u001b[0m\u001b[0;34m,\u001b[0m\u001b[0;34m\u001b[0m\u001b[0;34m\u001b[0m\u001b[0m\n",
            "\u001b[0;32m/usr/local/lib/python3.7/dist-packages/torch/nn/modules/container.py\u001b[0m in \u001b[0;36mforward\u001b[0;34m(self, input)\u001b[0m\n\u001b[1;32m    117\u001b[0m     \u001b[0;32mdef\u001b[0m \u001b[0mforward\u001b[0m\u001b[0;34m(\u001b[0m\u001b[0mself\u001b[0m\u001b[0;34m,\u001b[0m \u001b[0minput\u001b[0m\u001b[0;34m)\u001b[0m\u001b[0;34m:\u001b[0m\u001b[0;34m\u001b[0m\u001b[0;34m\u001b[0m\u001b[0m\n\u001b[1;32m    118\u001b[0m         \u001b[0;32mfor\u001b[0m \u001b[0mmodule\u001b[0m \u001b[0;32min\u001b[0m \u001b[0mself\u001b[0m\u001b[0;34m:\u001b[0m\u001b[0;34m\u001b[0m\u001b[0;34m\u001b[0m\u001b[0m\n\u001b[0;32m--> 119\u001b[0;31m             \u001b[0minput\u001b[0m \u001b[0;34m=\u001b[0m \u001b[0mmodule\u001b[0m\u001b[0;34m(\u001b[0m\u001b[0minput\u001b[0m\u001b[0;34m)\u001b[0m\u001b[0;34m\u001b[0m\u001b[0;34m\u001b[0m\u001b[0m\n\u001b[0m\u001b[1;32m    120\u001b[0m         \u001b[0;32mreturn\u001b[0m \u001b[0minput\u001b[0m\u001b[0;34m\u001b[0m\u001b[0;34m\u001b[0m\u001b[0m\n\u001b[1;32m    121\u001b[0m \u001b[0;34m\u001b[0m\u001b[0m\n",
            "\u001b[0;32m/usr/local/lib/python3.7/dist-packages/torch/nn/modules/module.py\u001b[0m in \u001b[0;36m_call_impl\u001b[0;34m(self, *input, **kwargs)\u001b[0m\n\u001b[1;32m    887\u001b[0m             \u001b[0mresult\u001b[0m \u001b[0;34m=\u001b[0m \u001b[0mself\u001b[0m\u001b[0;34m.\u001b[0m\u001b[0m_slow_forward\u001b[0m\u001b[0;34m(\u001b[0m\u001b[0;34m*\u001b[0m\u001b[0minput\u001b[0m\u001b[0;34m,\u001b[0m \u001b[0;34m**\u001b[0m\u001b[0mkwargs\u001b[0m\u001b[0;34m)\u001b[0m\u001b[0;34m\u001b[0m\u001b[0;34m\u001b[0m\u001b[0m\n\u001b[1;32m    888\u001b[0m         \u001b[0;32melse\u001b[0m\u001b[0;34m:\u001b[0m\u001b[0;34m\u001b[0m\u001b[0;34m\u001b[0m\u001b[0m\n\u001b[0;32m--> 889\u001b[0;31m             \u001b[0mresult\u001b[0m \u001b[0;34m=\u001b[0m \u001b[0mself\u001b[0m\u001b[0;34m.\u001b[0m\u001b[0mforward\u001b[0m\u001b[0;34m(\u001b[0m\u001b[0;34m*\u001b[0m\u001b[0minput\u001b[0m\u001b[0;34m,\u001b[0m \u001b[0;34m**\u001b[0m\u001b[0mkwargs\u001b[0m\u001b[0;34m)\u001b[0m\u001b[0;34m\u001b[0m\u001b[0;34m\u001b[0m\u001b[0m\n\u001b[0m\u001b[1;32m    890\u001b[0m         for hook in itertools.chain(\n\u001b[1;32m    891\u001b[0m                 \u001b[0m_global_forward_hooks\u001b[0m\u001b[0;34m.\u001b[0m\u001b[0mvalues\u001b[0m\u001b[0;34m(\u001b[0m\u001b[0;34m)\u001b[0m\u001b[0;34m,\u001b[0m\u001b[0;34m\u001b[0m\u001b[0;34m\u001b[0m\u001b[0m\n",
            "\u001b[0;32m/usr/local/lib/python3.7/dist-packages/torch/nn/modules/container.py\u001b[0m in \u001b[0;36mforward\u001b[0;34m(self, input)\u001b[0m\n\u001b[1;32m    117\u001b[0m     \u001b[0;32mdef\u001b[0m \u001b[0mforward\u001b[0m\u001b[0;34m(\u001b[0m\u001b[0mself\u001b[0m\u001b[0;34m,\u001b[0m \u001b[0minput\u001b[0m\u001b[0;34m)\u001b[0m\u001b[0;34m:\u001b[0m\u001b[0;34m\u001b[0m\u001b[0;34m\u001b[0m\u001b[0m\n\u001b[1;32m    118\u001b[0m         \u001b[0;32mfor\u001b[0m \u001b[0mmodule\u001b[0m \u001b[0;32min\u001b[0m \u001b[0mself\u001b[0m\u001b[0;34m:\u001b[0m\u001b[0;34m\u001b[0m\u001b[0;34m\u001b[0m\u001b[0m\n\u001b[0;32m--> 119\u001b[0;31m             \u001b[0minput\u001b[0m \u001b[0;34m=\u001b[0m \u001b[0mmodule\u001b[0m\u001b[0;34m(\u001b[0m\u001b[0minput\u001b[0m\u001b[0;34m)\u001b[0m\u001b[0;34m\u001b[0m\u001b[0;34m\u001b[0m\u001b[0m\n\u001b[0m\u001b[1;32m    120\u001b[0m         \u001b[0;32mreturn\u001b[0m \u001b[0minput\u001b[0m\u001b[0;34m\u001b[0m\u001b[0;34m\u001b[0m\u001b[0m\n\u001b[1;32m    121\u001b[0m \u001b[0;34m\u001b[0m\u001b[0m\n",
            "\u001b[0;32m/usr/local/lib/python3.7/dist-packages/torch/nn/modules/module.py\u001b[0m in \u001b[0;36m_call_impl\u001b[0;34m(self, *input, **kwargs)\u001b[0m\n\u001b[1;32m    887\u001b[0m             \u001b[0mresult\u001b[0m \u001b[0;34m=\u001b[0m \u001b[0mself\u001b[0m\u001b[0;34m.\u001b[0m\u001b[0m_slow_forward\u001b[0m\u001b[0;34m(\u001b[0m\u001b[0;34m*\u001b[0m\u001b[0minput\u001b[0m\u001b[0;34m,\u001b[0m \u001b[0;34m**\u001b[0m\u001b[0mkwargs\u001b[0m\u001b[0;34m)\u001b[0m\u001b[0;34m\u001b[0m\u001b[0;34m\u001b[0m\u001b[0m\n\u001b[1;32m    888\u001b[0m         \u001b[0;32melse\u001b[0m\u001b[0;34m:\u001b[0m\u001b[0;34m\u001b[0m\u001b[0;34m\u001b[0m\u001b[0m\n\u001b[0;32m--> 889\u001b[0;31m             \u001b[0mresult\u001b[0m \u001b[0;34m=\u001b[0m \u001b[0mself\u001b[0m\u001b[0;34m.\u001b[0m\u001b[0mforward\u001b[0m\u001b[0;34m(\u001b[0m\u001b[0;34m*\u001b[0m\u001b[0minput\u001b[0m\u001b[0;34m,\u001b[0m \u001b[0;34m**\u001b[0m\u001b[0mkwargs\u001b[0m\u001b[0;34m)\u001b[0m\u001b[0;34m\u001b[0m\u001b[0;34m\u001b[0m\u001b[0m\n\u001b[0m\u001b[1;32m    890\u001b[0m         for hook in itertools.chain(\n\u001b[1;32m    891\u001b[0m                 \u001b[0m_global_forward_hooks\u001b[0m\u001b[0;34m.\u001b[0m\u001b[0mvalues\u001b[0m\u001b[0;34m(\u001b[0m\u001b[0;34m)\u001b[0m\u001b[0;34m,\u001b[0m\u001b[0;34m\u001b[0m\u001b[0;34m\u001b[0m\u001b[0m\n",
            "\u001b[0;32m/usr/local/lib/python3.7/dist-packages/torchvision/models/densenet.py\u001b[0m in \u001b[0;36mforward\u001b[0;34m(self, init_features)\u001b[0m\n\u001b[1;32m    125\u001b[0m         \u001b[0mfeatures\u001b[0m \u001b[0;34m=\u001b[0m \u001b[0;34m[\u001b[0m\u001b[0minit_features\u001b[0m\u001b[0;34m]\u001b[0m\u001b[0;34m\u001b[0m\u001b[0;34m\u001b[0m\u001b[0m\n\u001b[1;32m    126\u001b[0m         \u001b[0;32mfor\u001b[0m \u001b[0mname\u001b[0m\u001b[0;34m,\u001b[0m \u001b[0mlayer\u001b[0m \u001b[0;32min\u001b[0m \u001b[0mself\u001b[0m\u001b[0;34m.\u001b[0m\u001b[0mitems\u001b[0m\u001b[0;34m(\u001b[0m\u001b[0;34m)\u001b[0m\u001b[0;34m:\u001b[0m\u001b[0;34m\u001b[0m\u001b[0;34m\u001b[0m\u001b[0m\n\u001b[0;32m--> 127\u001b[0;31m             \u001b[0mnew_features\u001b[0m \u001b[0;34m=\u001b[0m \u001b[0mlayer\u001b[0m\u001b[0;34m(\u001b[0m\u001b[0mfeatures\u001b[0m\u001b[0;34m)\u001b[0m\u001b[0;34m\u001b[0m\u001b[0;34m\u001b[0m\u001b[0m\n\u001b[0m\u001b[1;32m    128\u001b[0m             \u001b[0mfeatures\u001b[0m\u001b[0;34m.\u001b[0m\u001b[0mappend\u001b[0m\u001b[0;34m(\u001b[0m\u001b[0mnew_features\u001b[0m\u001b[0;34m)\u001b[0m\u001b[0;34m\u001b[0m\u001b[0;34m\u001b[0m\u001b[0m\n\u001b[1;32m    129\u001b[0m         \u001b[0;32mreturn\u001b[0m \u001b[0mtorch\u001b[0m\u001b[0;34m.\u001b[0m\u001b[0mcat\u001b[0m\u001b[0;34m(\u001b[0m\u001b[0mfeatures\u001b[0m\u001b[0;34m,\u001b[0m \u001b[0;36m1\u001b[0m\u001b[0;34m)\u001b[0m\u001b[0;34m\u001b[0m\u001b[0;34m\u001b[0m\u001b[0m\n",
            "\u001b[0;32m/usr/local/lib/python3.7/dist-packages/torch/nn/modules/module.py\u001b[0m in \u001b[0;36m_call_impl\u001b[0;34m(self, *input, **kwargs)\u001b[0m\n\u001b[1;32m    887\u001b[0m             \u001b[0mresult\u001b[0m \u001b[0;34m=\u001b[0m \u001b[0mself\u001b[0m\u001b[0;34m.\u001b[0m\u001b[0m_slow_forward\u001b[0m\u001b[0;34m(\u001b[0m\u001b[0;34m*\u001b[0m\u001b[0minput\u001b[0m\u001b[0;34m,\u001b[0m \u001b[0;34m**\u001b[0m\u001b[0mkwargs\u001b[0m\u001b[0;34m)\u001b[0m\u001b[0;34m\u001b[0m\u001b[0;34m\u001b[0m\u001b[0m\n\u001b[1;32m    888\u001b[0m         \u001b[0;32melse\u001b[0m\u001b[0;34m:\u001b[0m\u001b[0;34m\u001b[0m\u001b[0;34m\u001b[0m\u001b[0m\n\u001b[0;32m--> 889\u001b[0;31m             \u001b[0mresult\u001b[0m \u001b[0;34m=\u001b[0m \u001b[0mself\u001b[0m\u001b[0;34m.\u001b[0m\u001b[0mforward\u001b[0m\u001b[0;34m(\u001b[0m\u001b[0;34m*\u001b[0m\u001b[0minput\u001b[0m\u001b[0;34m,\u001b[0m \u001b[0;34m**\u001b[0m\u001b[0mkwargs\u001b[0m\u001b[0;34m)\u001b[0m\u001b[0;34m\u001b[0m\u001b[0;34m\u001b[0m\u001b[0m\n\u001b[0m\u001b[1;32m    890\u001b[0m         for hook in itertools.chain(\n\u001b[1;32m    891\u001b[0m                 \u001b[0m_global_forward_hooks\u001b[0m\u001b[0;34m.\u001b[0m\u001b[0mvalues\u001b[0m\u001b[0;34m(\u001b[0m\u001b[0;34m)\u001b[0m\u001b[0;34m,\u001b[0m\u001b[0;34m\u001b[0m\u001b[0;34m\u001b[0m\u001b[0m\n",
            "\u001b[0;32m/usr/local/lib/python3.7/dist-packages/torchvision/models/densenet.py\u001b[0m in \u001b[0;36mforward\u001b[0;34m(self, input)\u001b[0m\n\u001b[1;32m     92\u001b[0m             \u001b[0mbottleneck_output\u001b[0m \u001b[0;34m=\u001b[0m \u001b[0mself\u001b[0m\u001b[0;34m.\u001b[0m\u001b[0mbn_function\u001b[0m\u001b[0;34m(\u001b[0m\u001b[0mprev_features\u001b[0m\u001b[0;34m)\u001b[0m\u001b[0;34m\u001b[0m\u001b[0;34m\u001b[0m\u001b[0m\n\u001b[1;32m     93\u001b[0m \u001b[0;34m\u001b[0m\u001b[0m\n\u001b[0;32m---> 94\u001b[0;31m         \u001b[0mnew_features\u001b[0m \u001b[0;34m=\u001b[0m \u001b[0mself\u001b[0m\u001b[0;34m.\u001b[0m\u001b[0mconv2\u001b[0m\u001b[0;34m(\u001b[0m\u001b[0mself\u001b[0m\u001b[0;34m.\u001b[0m\u001b[0mrelu2\u001b[0m\u001b[0;34m(\u001b[0m\u001b[0mself\u001b[0m\u001b[0;34m.\u001b[0m\u001b[0mnorm2\u001b[0m\u001b[0;34m(\u001b[0m\u001b[0mbottleneck_output\u001b[0m\u001b[0;34m)\u001b[0m\u001b[0;34m)\u001b[0m\u001b[0;34m)\u001b[0m\u001b[0;34m\u001b[0m\u001b[0;34m\u001b[0m\u001b[0m\n\u001b[0m\u001b[1;32m     95\u001b[0m         \u001b[0;32mif\u001b[0m \u001b[0mself\u001b[0m\u001b[0;34m.\u001b[0m\u001b[0mdrop_rate\u001b[0m \u001b[0;34m>\u001b[0m \u001b[0;36m0\u001b[0m\u001b[0;34m:\u001b[0m\u001b[0;34m\u001b[0m\u001b[0;34m\u001b[0m\u001b[0m\n\u001b[1;32m     96\u001b[0m             new_features = F.dropout(new_features, p=self.drop_rate,\n",
            "\u001b[0;32m/usr/local/lib/python3.7/dist-packages/torch/nn/modules/module.py\u001b[0m in \u001b[0;36m_call_impl\u001b[0;34m(self, *input, **kwargs)\u001b[0m\n\u001b[1;32m    887\u001b[0m             \u001b[0mresult\u001b[0m \u001b[0;34m=\u001b[0m \u001b[0mself\u001b[0m\u001b[0;34m.\u001b[0m\u001b[0m_slow_forward\u001b[0m\u001b[0;34m(\u001b[0m\u001b[0;34m*\u001b[0m\u001b[0minput\u001b[0m\u001b[0;34m,\u001b[0m \u001b[0;34m**\u001b[0m\u001b[0mkwargs\u001b[0m\u001b[0;34m)\u001b[0m\u001b[0;34m\u001b[0m\u001b[0;34m\u001b[0m\u001b[0m\n\u001b[1;32m    888\u001b[0m         \u001b[0;32melse\u001b[0m\u001b[0;34m:\u001b[0m\u001b[0;34m\u001b[0m\u001b[0;34m\u001b[0m\u001b[0m\n\u001b[0;32m--> 889\u001b[0;31m             \u001b[0mresult\u001b[0m \u001b[0;34m=\u001b[0m \u001b[0mself\u001b[0m\u001b[0;34m.\u001b[0m\u001b[0mforward\u001b[0m\u001b[0;34m(\u001b[0m\u001b[0;34m*\u001b[0m\u001b[0minput\u001b[0m\u001b[0;34m,\u001b[0m \u001b[0;34m**\u001b[0m\u001b[0mkwargs\u001b[0m\u001b[0;34m)\u001b[0m\u001b[0;34m\u001b[0m\u001b[0;34m\u001b[0m\u001b[0m\n\u001b[0m\u001b[1;32m    890\u001b[0m         for hook in itertools.chain(\n\u001b[1;32m    891\u001b[0m                 \u001b[0m_global_forward_hooks\u001b[0m\u001b[0;34m.\u001b[0m\u001b[0mvalues\u001b[0m\u001b[0;34m(\u001b[0m\u001b[0;34m)\u001b[0m\u001b[0;34m,\u001b[0m\u001b[0;34m\u001b[0m\u001b[0;34m\u001b[0m\u001b[0m\n",
            "\u001b[0;32m/usr/local/lib/python3.7/dist-packages/torch/nn/modules/batchnorm.py\u001b[0m in \u001b[0;36mforward\u001b[0;34m(self, input)\u001b[0m\n\u001b[1;32m    111\u001b[0m             \u001b[0;31m# TODO: if statement only here to tell the jit to skip emitting this when it is None\u001b[0m\u001b[0;34m\u001b[0m\u001b[0;34m\u001b[0m\u001b[0;34m\u001b[0m\u001b[0m\n\u001b[1;32m    112\u001b[0m             \u001b[0;32mif\u001b[0m \u001b[0mself\u001b[0m\u001b[0;34m.\u001b[0m\u001b[0mnum_batches_tracked\u001b[0m \u001b[0;32mis\u001b[0m \u001b[0;32mnot\u001b[0m \u001b[0;32mNone\u001b[0m\u001b[0;34m:\u001b[0m  \u001b[0;31m# type: ignore\u001b[0m\u001b[0;34m\u001b[0m\u001b[0;34m\u001b[0m\u001b[0m\n\u001b[0;32m--> 113\u001b[0;31m                 \u001b[0mself\u001b[0m\u001b[0;34m.\u001b[0m\u001b[0mnum_batches_tracked\u001b[0m \u001b[0;34m=\u001b[0m \u001b[0mself\u001b[0m\u001b[0;34m.\u001b[0m\u001b[0mnum_batches_tracked\u001b[0m \u001b[0;34m+\u001b[0m \u001b[0;36m1\u001b[0m  \u001b[0;31m# type: ignore\u001b[0m\u001b[0;34m\u001b[0m\u001b[0;34m\u001b[0m\u001b[0m\n\u001b[0m\u001b[1;32m    114\u001b[0m                 \u001b[0;32mif\u001b[0m \u001b[0mself\u001b[0m\u001b[0;34m.\u001b[0m\u001b[0mmomentum\u001b[0m \u001b[0;32mis\u001b[0m \u001b[0;32mNone\u001b[0m\u001b[0;34m:\u001b[0m  \u001b[0;31m# use cumulative moving average\u001b[0m\u001b[0;34m\u001b[0m\u001b[0;34m\u001b[0m\u001b[0m\n\u001b[1;32m    115\u001b[0m                     \u001b[0mexponential_average_factor\u001b[0m \u001b[0;34m=\u001b[0m \u001b[0;36m1.0\u001b[0m \u001b[0;34m/\u001b[0m \u001b[0mfloat\u001b[0m\u001b[0;34m(\u001b[0m\u001b[0mself\u001b[0m\u001b[0;34m.\u001b[0m\u001b[0mnum_batches_tracked\u001b[0m\u001b[0;34m)\u001b[0m\u001b[0;34m\u001b[0m\u001b[0;34m\u001b[0m\u001b[0m\n",
            "\u001b[0;32m/usr/local/lib/python3.7/dist-packages/torch/nn/modules/module.py\u001b[0m in \u001b[0;36m__setattr__\u001b[0;34m(self, name, value)\u001b[0m\n\u001b[1;32m    991\u001b[0m                                         \u001b[0;34m\"(torch.Tensor or None expected)\"\u001b[0m\u001b[0;34m\u001b[0m\u001b[0;34m\u001b[0m\u001b[0m\n\u001b[1;32m    992\u001b[0m                                         .format(torch.typename(value), name))\n\u001b[0;32m--> 993\u001b[0;31m                     \u001b[0mbuffers\u001b[0m\u001b[0;34m[\u001b[0m\u001b[0mname\u001b[0m\u001b[0;34m]\u001b[0m \u001b[0;34m=\u001b[0m \u001b[0mvalue\u001b[0m\u001b[0;34m\u001b[0m\u001b[0;34m\u001b[0m\u001b[0m\n\u001b[0m\u001b[1;32m    994\u001b[0m                 \u001b[0;32melse\u001b[0m\u001b[0;34m:\u001b[0m\u001b[0;34m\u001b[0m\u001b[0;34m\u001b[0m\u001b[0m\n\u001b[1;32m    995\u001b[0m                     \u001b[0mobject\u001b[0m\u001b[0;34m.\u001b[0m\u001b[0m__setattr__\u001b[0m\u001b[0;34m(\u001b[0m\u001b[0mself\u001b[0m\u001b[0;34m,\u001b[0m \u001b[0mname\u001b[0m\u001b[0;34m,\u001b[0m \u001b[0mvalue\u001b[0m\u001b[0;34m)\u001b[0m\u001b[0;34m\u001b[0m\u001b[0;34m\u001b[0m\u001b[0m\n",
            "\u001b[0;31mKeyboardInterrupt\u001b[0m: "
          ]
        }
      ]
    },
    {
      "cell_type": "code",
      "metadata": {
        "colab": {
          "base_uri": "https://localhost:8080/",
          "height": 206
        },
        "id": "hJ37CUekx-gh",
        "outputId": "18585057-4a44-4213-8db3-930b92a9f10e"
      },
      "source": [
        "best = learn.load('score-9502')\n",
        "best.fit(5, lr)"
      ],
      "execution_count": 130,
      "outputs": [
        {
          "output_type": "display_data",
          "data": {
            "text/html": [
              "<table border=\"1\" class=\"dataframe\">\n",
              "  <thead>\n",
              "    <tr style=\"text-align: left;\">\n",
              "      <th>epoch</th>\n",
              "      <th>train_loss</th>\n",
              "      <th>valid_loss</th>\n",
              "      <th>accuracy</th>\n",
              "      <th>time</th>\n",
              "    </tr>\n",
              "  </thead>\n",
              "  <tbody>\n",
              "    <tr>\n",
              "      <td>0</td>\n",
              "      <td>0.236067</td>\n",
              "      <td>0.060487</td>\n",
              "      <td>0.971581</td>\n",
              "      <td>00:41</td>\n",
              "    </tr>\n",
              "    <tr>\n",
              "      <td>1</td>\n",
              "      <td>0.204401</td>\n",
              "      <td>0.062086</td>\n",
              "      <td>0.971581</td>\n",
              "      <td>00:42</td>\n",
              "    </tr>\n",
              "    <tr>\n",
              "      <td>2</td>\n",
              "      <td>0.203993</td>\n",
              "      <td>0.046979</td>\n",
              "      <td>0.975133</td>\n",
              "      <td>00:41</td>\n",
              "    </tr>\n",
              "    <tr>\n",
              "      <td>3</td>\n",
              "      <td>0.230693</td>\n",
              "      <td>0.050995</td>\n",
              "      <td>0.978686</td>\n",
              "      <td>00:41</td>\n",
              "    </tr>\n",
              "    <tr>\n",
              "      <td>4</td>\n",
              "      <td>0.257481</td>\n",
              "      <td>0.050207</td>\n",
              "      <td>0.980462</td>\n",
              "      <td>00:42</td>\n",
              "    </tr>\n",
              "  </tbody>\n",
              "</table>"
            ],
            "text/plain": [
              "<IPython.core.display.HTML object>"
            ]
          },
          "metadata": {
            "tags": []
          }
        }
      ]
    },
    {
      "cell_type": "code",
      "metadata": {
        "colab": {
          "base_uri": "https://localhost:8080/",
          "height": 206
        },
        "id": "UfHJWAYrzC7w",
        "outputId": "46ae95b6-7c84-452e-9805-241152706dbb"
      },
      "source": [
        "best.fit(5, lr)"
      ],
      "execution_count": 131,
      "outputs": [
        {
          "output_type": "display_data",
          "data": {
            "text/html": [
              "<table border=\"1\" class=\"dataframe\">\n",
              "  <thead>\n",
              "    <tr style=\"text-align: left;\">\n",
              "      <th>epoch</th>\n",
              "      <th>train_loss</th>\n",
              "      <th>valid_loss</th>\n",
              "      <th>accuracy</th>\n",
              "      <th>time</th>\n",
              "    </tr>\n",
              "  </thead>\n",
              "  <tbody>\n",
              "    <tr>\n",
              "      <td>0</td>\n",
              "      <td>0.209181</td>\n",
              "      <td>0.045604</td>\n",
              "      <td>0.976909</td>\n",
              "      <td>00:41</td>\n",
              "    </tr>\n",
              "    <tr>\n",
              "      <td>1</td>\n",
              "      <td>0.183787</td>\n",
              "      <td>0.052799</td>\n",
              "      <td>0.973357</td>\n",
              "      <td>00:41</td>\n",
              "    </tr>\n",
              "    <tr>\n",
              "      <td>2</td>\n",
              "      <td>0.203250</td>\n",
              "      <td>0.052955</td>\n",
              "      <td>0.976909</td>\n",
              "      <td>00:41</td>\n",
              "    </tr>\n",
              "    <tr>\n",
              "      <td>3</td>\n",
              "      <td>0.206003</td>\n",
              "      <td>0.057004</td>\n",
              "      <td>0.973357</td>\n",
              "      <td>00:42</td>\n",
              "    </tr>\n",
              "    <tr>\n",
              "      <td>4</td>\n",
              "      <td>0.250646</td>\n",
              "      <td>0.046326</td>\n",
              "      <td>0.978686</td>\n",
              "      <td>00:41</td>\n",
              "    </tr>\n",
              "  </tbody>\n",
              "</table>"
            ],
            "text/plain": [
              "<IPython.core.display.HTML object>"
            ]
          },
          "metadata": {
            "tags": []
          }
        }
      ]
    },
    {
      "cell_type": "code",
      "metadata": {
        "colab": {
          "base_uri": "https://localhost:8080/",
          "height": 520
        },
        "id": "e7EBJAZXz6HS",
        "outputId": "ce389116-143b-4261-9bef-fae9d7429cf7"
      },
      "source": [
        "best.fit(15, lr)"
      ],
      "execution_count": 132,
      "outputs": [
        {
          "output_type": "display_data",
          "data": {
            "text/html": [
              "<table border=\"1\" class=\"dataframe\">\n",
              "  <thead>\n",
              "    <tr style=\"text-align: left;\">\n",
              "      <th>epoch</th>\n",
              "      <th>train_loss</th>\n",
              "      <th>valid_loss</th>\n",
              "      <th>accuracy</th>\n",
              "      <th>time</th>\n",
              "    </tr>\n",
              "  </thead>\n",
              "  <tbody>\n",
              "    <tr>\n",
              "      <td>0</td>\n",
              "      <td>0.180766</td>\n",
              "      <td>0.050281</td>\n",
              "      <td>0.973357</td>\n",
              "      <td>00:41</td>\n",
              "    </tr>\n",
              "    <tr>\n",
              "      <td>1</td>\n",
              "      <td>0.221392</td>\n",
              "      <td>0.049172</td>\n",
              "      <td>0.975133</td>\n",
              "      <td>00:41</td>\n",
              "    </tr>\n",
              "    <tr>\n",
              "      <td>2</td>\n",
              "      <td>0.257105</td>\n",
              "      <td>0.051351</td>\n",
              "      <td>0.975133</td>\n",
              "      <td>00:41</td>\n",
              "    </tr>\n",
              "    <tr>\n",
              "      <td>3</td>\n",
              "      <td>0.179687</td>\n",
              "      <td>0.051753</td>\n",
              "      <td>0.973357</td>\n",
              "      <td>00:42</td>\n",
              "    </tr>\n",
              "    <tr>\n",
              "      <td>4</td>\n",
              "      <td>0.229810</td>\n",
              "      <td>0.049437</td>\n",
              "      <td>0.973357</td>\n",
              "      <td>00:41</td>\n",
              "    </tr>\n",
              "    <tr>\n",
              "      <td>5</td>\n",
              "      <td>0.222292</td>\n",
              "      <td>0.054137</td>\n",
              "      <td>0.969805</td>\n",
              "      <td>00:41</td>\n",
              "    </tr>\n",
              "    <tr>\n",
              "      <td>6</td>\n",
              "      <td>0.180833</td>\n",
              "      <td>0.048955</td>\n",
              "      <td>0.978686</td>\n",
              "      <td>00:42</td>\n",
              "    </tr>\n",
              "    <tr>\n",
              "      <td>7</td>\n",
              "      <td>0.216406</td>\n",
              "      <td>0.054056</td>\n",
              "      <td>0.971581</td>\n",
              "      <td>00:42</td>\n",
              "    </tr>\n",
              "    <tr>\n",
              "      <td>8</td>\n",
              "      <td>0.226117</td>\n",
              "      <td>0.048727</td>\n",
              "      <td>0.975133</td>\n",
              "      <td>00:42</td>\n",
              "    </tr>\n",
              "    <tr>\n",
              "      <td>9</td>\n",
              "      <td>0.182143</td>\n",
              "      <td>0.061721</td>\n",
              "      <td>0.976909</td>\n",
              "      <td>00:41</td>\n",
              "    </tr>\n",
              "    <tr>\n",
              "      <td>10</td>\n",
              "      <td>0.216199</td>\n",
              "      <td>0.044200</td>\n",
              "      <td>0.980462</td>\n",
              "      <td>00:42</td>\n",
              "    </tr>\n",
              "    <tr>\n",
              "      <td>11</td>\n",
              "      <td>0.206230</td>\n",
              "      <td>0.045369</td>\n",
              "      <td>0.975133</td>\n",
              "      <td>00:41</td>\n",
              "    </tr>\n",
              "    <tr>\n",
              "      <td>12</td>\n",
              "      <td>0.224484</td>\n",
              "      <td>0.060917</td>\n",
              "      <td>0.969805</td>\n",
              "      <td>00:42</td>\n",
              "    </tr>\n",
              "    <tr>\n",
              "      <td>13</td>\n",
              "      <td>0.188972</td>\n",
              "      <td>0.059615</td>\n",
              "      <td>0.976909</td>\n",
              "      <td>00:41</td>\n",
              "    </tr>\n",
              "    <tr>\n",
              "      <td>14</td>\n",
              "      <td>0.218100</td>\n",
              "      <td>0.058086</td>\n",
              "      <td>0.973357</td>\n",
              "      <td>00:41</td>\n",
              "    </tr>\n",
              "  </tbody>\n",
              "</table>"
            ],
            "text/plain": [
              "<IPython.core.display.HTML object>"
            ]
          },
          "metadata": {
            "tags": []
          }
        }
      ]
    },
    {
      "cell_type": "code",
      "metadata": {
        "id": "bRb8Kg3NqsTN"
      },
      "source": [
        ""
      ],
      "execution_count": null,
      "outputs": []
    }
  ]
}