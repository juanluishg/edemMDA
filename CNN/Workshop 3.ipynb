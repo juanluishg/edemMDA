{
 "cells": [
  {
   "cell_type": "markdown",
   "metadata": {
    "id": "AL8RQZGoqqQJ"
   },
   "source": [
    "# Workshop 3: CNN state of the art\n",
    "\n",
    "In this workshop we will learn techniques to increase the performance of CNN and how to use state of the art architectures. The structure of the workshop will be the following:\n",
    "\n",
    "\n",
    "\n",
    "1.   Dropout\n",
    "2.   Batch Normalization\n",
    "3.   Data Augmentation\n",
    "4.   Transfer learning\n",
    "\n"
   ]
  },
  {
   "cell_type": "markdown",
   "metadata": {
    "id": "y91AuX2jrJDo"
   },
   "source": [
    "## 1. Dropout"
   ]
  },
  {
   "cell_type": "code",
   "execution_count": 3,
   "metadata": {
    "executionInfo": {
     "elapsed": 2490,
     "status": "ok",
     "timestamp": 1620819577702,
     "user": {
      "displayName": "Rafael López González",
      "photoUrl": "",
      "userId": "01160551345597042094"
     },
     "user_tz": -120
    },
    "id": "jxUYGXkFPG98"
   },
   "outputs": [],
   "source": [
    "# Import dependence for downloading CIFAR10\n",
    "from keras.datasets import cifar10 "
   ]
  },
  {
   "cell_type": "code",
   "execution_count": 4,
   "metadata": {
    "colab": {
     "base_uri": "https://localhost:8080/"
    },
    "executionInfo": {
     "elapsed": 5867,
     "status": "ok",
     "timestamp": 1620819584112,
     "user": {
      "displayName": "Rafael López González",
      "photoUrl": "",
      "userId": "01160551345597042094"
     },
     "user_tz": -120
    },
    "id": "aaGDZgZkS9c1",
    "outputId": "953920dd-8afe-40c0-861e-72059be6c412"
   },
   "outputs": [],
   "source": [
    "(X_train, y_train), (X_testval, y_testval) = cifar10.load_data()"
   ]
  },
  {
   "cell_type": "code",
   "execution_count": 5,
   "metadata": {
    "executionInfo": {
     "elapsed": 5518,
     "status": "ok",
     "timestamp": 1620819584113,
     "user": {
      "displayName": "Rafael López González",
      "photoUrl": "",
      "userId": "01160551345597042094"
     },
     "user_tz": -120
    },
    "id": "nA-qauKITM-O"
   },
   "outputs": [],
   "source": [
    "# Import dependence for handling arrays\n",
    "import numpy as np"
   ]
  },
  {
   "cell_type": "code",
   "execution_count": 6,
   "metadata": {
    "executionInfo": {
     "elapsed": 5226,
     "status": "ok",
     "timestamp": 1620819584113,
     "user": {
      "displayName": "Rafael López González",
      "photoUrl": "",
      "userId": "01160551345597042094"
     },
     "user_tz": -120
    },
    "id": "KZ5vh3g8Xh_j"
   },
   "outputs": [],
   "source": [
    "# Change the range of pixels from [0 255] to [0 1]\n",
    "X_train_fl = X_train.astype('float32')\n",
    "X_testval_fl = X_testval.astype('float32')\n",
    "X_train_fl /= 255\n",
    "X_testval_fl /= 255"
   ]
  },
  {
   "cell_type": "code",
   "execution_count": 7,
   "metadata": {
    "executionInfo": {
     "elapsed": 5674,
     "status": "ok",
     "timestamp": 1620819584933,
     "user": {
      "displayName": "Rafael López González",
      "photoUrl": "",
      "userId": "01160551345597042094"
     },
     "user_tz": -120
    },
    "id": "Nj74QnR4Vbt1"
   },
   "outputs": [],
   "source": [
    "# Import dependence for one-hot encoding\n",
    "from sklearn.preprocessing import OneHotEncoder"
   ]
  },
  {
   "cell_type": "code",
   "execution_count": 8,
   "metadata": {
    "executionInfo": {
     "elapsed": 3542,
     "status": "ok",
     "timestamp": 1620819584934,
     "user": {
      "displayName": "Rafael López González",
      "photoUrl": "",
      "userId": "01160551345597042094"
     },
     "user_tz": -120
    },
    "id": "_nTRJ7yeVeN3"
   },
   "outputs": [],
   "source": [
    "# One-hot encoding of labels\n",
    "onehot_enc = OneHotEncoder()\n",
    "y_train_oh = onehot_enc.fit_transform(y_train.reshape(X_train.shape[0], 1)).toarray()\n",
    "y_testval_oh = onehot_enc.fit_transform(y_testval.reshape(X_testval.shape[0], 1)).toarray()"
   ]
  },
  {
   "cell_type": "code",
   "execution_count": 9,
   "metadata": {
    "colab": {
     "base_uri": "https://localhost:8080/"
    },
    "executionInfo": {
     "elapsed": 3295,
     "status": "ok",
     "timestamp": 1620819584934,
     "user": {
      "displayName": "Rafael López González",
      "photoUrl": "",
      "userId": "01160551345597042094"
     },
     "user_tz": -120
    },
    "id": "ry7H5BvPVl6D",
    "outputId": "709b1285-7c1a-4673-bd19-69dd8da95d26"
   },
   "outputs": [
    {
     "name": "stdout",
     "output_type": "stream",
     "text": [
      "Training one-hot encoded labels shape: (50000, 10)\n",
      "Testing one-hot encoded labels shape: (10000, 10)\n"
     ]
    }
   ],
   "source": [
    "# Show one-hot encoded labels shape\n",
    "print(\"Training one-hot encoded labels shape:\", y_train_oh.shape)\n",
    "print(\"Testing one-hot encoded labels shape:\", y_testval_oh.shape)"
   ]
  },
  {
   "cell_type": "code",
   "execution_count": 10,
   "metadata": {
    "executionInfo": {
     "elapsed": 1929,
     "status": "ok",
     "timestamp": 1620819584934,
     "user": {
      "displayName": "Rafael López González",
      "photoUrl": "",
      "userId": "01160551345597042094"
     },
     "user_tz": -120
    },
    "id": "7PoZUM_sVoi6"
   },
   "outputs": [],
   "source": [
    "# Divide testval in test and validation partitions\n",
    "samples_test_nb = int(X_testval.shape[0]/2)\n",
    "X_val = X_testval_fl[:samples_test_nb]\n",
    "y_val = y_testval_oh[:samples_test_nb]\n",
    "X_test = X_testval_fl[samples_test_nb:]\n",
    "y_test = y_testval_oh[samples_test_nb:]"
   ]
  },
  {
   "cell_type": "code",
   "execution_count": 11,
   "metadata": {
    "colab": {
     "base_uri": "https://localhost:8080/"
    },
    "executionInfo": {
     "elapsed": 1640,
     "status": "ok",
     "timestamp": 1620819584935,
     "user": {
      "displayName": "Rafael López González",
      "photoUrl": "",
      "userId": "01160551345597042094"
     },
     "user_tz": -120
    },
    "id": "ofgM7brWVsN1",
    "outputId": "3db20546-21b5-4b5a-e226-943cfcf57183"
   },
   "outputs": [
    {
     "name": "stdout",
     "output_type": "stream",
     "text": [
      "Validation matrix shape: (5000, 32, 32, 3)\n",
      "Testing matrix shape: (5000, 32, 32, 3)\n"
     ]
    }
   ],
   "source": [
    "# Show shapes of test and validation partitions\n",
    "print(\"Validation matrix shape:\", X_val.shape)\n",
    "print(\"Testing matrix shape:\", X_test.shape)"
   ]
  },
  {
   "cell_type": "code",
   "execution_count": 12,
   "metadata": {
    "executionInfo": {
     "elapsed": 1006,
     "status": "ok",
     "timestamp": 1620819587519,
     "user": {
      "displayName": "Rafael López González",
      "photoUrl": "",
      "userId": "01160551345597042094"
     },
     "user_tz": -120
    },
    "id": "Eo5FvhBYubiQ"
   },
   "outputs": [],
   "source": [
    "# Import depence for CNN\n",
    "from keras.models import Model\n",
    "from keras.layers import Input, Conv2D, MaxPool2D, Flatten, Dense, Dropout"
   ]
  },
  {
   "cell_type": "code",
   "execution_count": 11,
   "metadata": {
    "executionInfo": {
     "elapsed": 19987,
     "status": "ok",
     "timestamp": 1620806213363,
     "user": {
      "displayName": "Rafael López González",
      "photoUrl": "",
      "userId": "01160551345597042094"
     },
     "user_tz": -120
    },
    "id": "Hrbz0cUmtuU7"
   },
   "outputs": [],
   "source": [
    "# Define the model\n",
    "input_layer = Input(shape=(X_train.shape[1],X_train.shape[2], X_train.shape[3]))\n",
    "conv_layer_1 = Conv2D(filters=8, kernel_size=(3, 3), activation='relu')(input_layer)\n",
    "maxpool_layer_1 = MaxPool2D(pool_size=(2, 2))(conv_layer_1)\n",
    "conv_layer_2 = Conv2D(filters=16, kernel_size=(3, 3), activation='relu')(maxpool_layer_1)\n",
    "maxpool_layer_2 = MaxPool2D(pool_size=(2, 2))(conv_layer_2)\n",
    "conv_layer_3 = Conv2D(filters=32, kernel_size=(3, 3), activation='relu')(maxpool_layer_2)\n",
    "flatten_layer = Flatten()(conv_layer_3)\n",
    "dense_layer = Dense(128, activation='relu')(flatten_layer)\n",
    "dropout = Dropout(rate=0.4)(dense_layer)#How many neurons power off\n",
    "output_layer = Dense(10, activation='softmax')(dropout)\n",
    "model= Model(inputs=input_layer, outputs=output_layer)"
   ]
  },
  {
   "cell_type": "code",
   "execution_count": 12,
   "metadata": {
    "colab": {
     "base_uri": "https://localhost:8080/"
    },
    "executionInfo": {
     "elapsed": 19985,
     "status": "ok",
     "timestamp": 1620806213366,
     "user": {
      "displayName": "Rafael López González",
      "photoUrl": "",
      "userId": "01160551345597042094"
     },
     "user_tz": -120
    },
    "id": "Dzt4Th7iV1tF",
    "outputId": "80981fb6-2831-4e12-b437-ce2ae1d276c1"
   },
   "outputs": [
    {
     "name": "stdout",
     "output_type": "stream",
     "text": [
      "Model: \"model\"\n",
      "_________________________________________________________________\n",
      "Layer (type)                 Output Shape              Param #   \n",
      "=================================================================\n",
      "input_1 (InputLayer)         [(None, 32, 32, 3)]       0         \n",
      "_________________________________________________________________\n",
      "conv2d (Conv2D)              (None, 30, 30, 8)         224       \n",
      "_________________________________________________________________\n",
      "max_pooling2d (MaxPooling2D) (None, 15, 15, 8)         0         \n",
      "_________________________________________________________________\n",
      "conv2d_1 (Conv2D)            (None, 13, 13, 16)        1168      \n",
      "_________________________________________________________________\n",
      "max_pooling2d_1 (MaxPooling2 (None, 6, 6, 16)          0         \n",
      "_________________________________________________________________\n",
      "conv2d_2 (Conv2D)            (None, 4, 4, 32)          4640      \n",
      "_________________________________________________________________\n",
      "flatten (Flatten)            (None, 512)               0         \n",
      "_________________________________________________________________\n",
      "dense (Dense)                (None, 128)               65664     \n",
      "_________________________________________________________________\n",
      "dropout (Dropout)            (None, 128)               0         \n",
      "_________________________________________________________________\n",
      "dense_1 (Dense)              (None, 10)                1290      \n",
      "=================================================================\n",
      "Total params: 72,986\n",
      "Trainable params: 72,986\n",
      "Non-trainable params: 0\n",
      "_________________________________________________________________\n"
     ]
    }
   ],
   "source": [
    "# Show a summary of the model\n",
    "model.summary()"
   ]
  },
  {
   "cell_type": "code",
   "execution_count": 13,
   "metadata": {
    "executionInfo": {
     "elapsed": 19980,
     "status": "ok",
     "timestamp": 1620806213366,
     "user": {
      "displayName": "Rafael López González",
      "photoUrl": "",
      "userId": "01160551345597042094"
     },
     "user_tz": -120
    },
    "id": "bFM5py6aV4DM"
   },
   "outputs": [],
   "source": [
    "# Compile the model\n",
    "model.compile(loss='categorical_crossentropy', optimizer='adam', \n",
    "              metrics=['accuracy'])"
   ]
  },
  {
   "cell_type": "code",
   "execution_count": 14,
   "metadata": {
    "colab": {
     "base_uri": "https://localhost:8080/"
    },
    "executionInfo": {
     "elapsed": 146899,
     "status": "ok",
     "timestamp": 1620806340289,
     "user": {
      "displayName": "Rafael López González",
      "photoUrl": "",
      "userId": "01160551345597042094"
     },
     "user_tz": -120
    },
    "id": "-a6viyT4V_9_",
    "outputId": "d3f7dfdb-1fe6-4f18-afee-d7c5012c0c76",
    "scrolled": true
   },
   "outputs": [
    {
     "name": "stdout",
     "output_type": "stream",
     "text": [
      "Epoch 1/50\n",
      "391/391 [==============================] - 39s 18ms/step - loss: 1.9820 - accuracy: 0.2666 - val_loss: 1.5128 - val_accuracy: 0.4544\n",
      "Epoch 2/50\n",
      "391/391 [==============================] - 4s 9ms/step - loss: 1.5431 - accuracy: 0.4423 - val_loss: 1.4253 - val_accuracy: 0.5018\n",
      "Epoch 3/50\n",
      "391/391 [==============================] - 3s 9ms/step - loss: 1.4425 - accuracy: 0.4803 - val_loss: 1.3486 - val_accuracy: 0.5280\n",
      "Epoch 4/50\n",
      "391/391 [==============================] - 3s 8ms/step - loss: 1.3644 - accuracy: 0.5113 - val_loss: 1.2540 - val_accuracy: 0.5640\n",
      "Epoch 5/50\n",
      "391/391 [==============================] - 3s 8ms/step - loss: 1.3066 - accuracy: 0.5338 - val_loss: 1.2127 - val_accuracy: 0.5768\n",
      "Epoch 6/50\n",
      "391/391 [==============================] - 3s 8ms/step - loss: 1.2573 - accuracy: 0.5533 - val_loss: 1.1788 - val_accuracy: 0.5846\n",
      "Epoch 7/50\n",
      "391/391 [==============================] - 4s 9ms/step - loss: 1.2211 - accuracy: 0.5651 - val_loss: 1.1502 - val_accuracy: 0.6022\n",
      "Epoch 8/50\n",
      "391/391 [==============================] - 3s 8ms/step - loss: 1.1848 - accuracy: 0.5759 - val_loss: 1.1263 - val_accuracy: 0.6072\n",
      "Epoch 9/50\n",
      "391/391 [==============================] - 3s 8ms/step - loss: 1.1547 - accuracy: 0.5934 - val_loss: 1.0931 - val_accuracy: 0.6164\n",
      "Epoch 10/50\n",
      "391/391 [==============================] - 3s 9ms/step - loss: 1.1279 - accuracy: 0.6021 - val_loss: 1.0763 - val_accuracy: 0.6228\n",
      "Epoch 11/50\n",
      "391/391 [==============================] - 3s 8ms/step - loss: 1.1027 - accuracy: 0.6075 - val_loss: 1.0661 - val_accuracy: 0.6274\n",
      "Epoch 12/50\n",
      "391/391 [==============================] - 3s 9ms/step - loss: 1.0798 - accuracy: 0.6195 - val_loss: 1.0648 - val_accuracy: 0.6304\n",
      "Epoch 13/50\n",
      "391/391 [==============================] - 3s 8ms/step - loss: 1.0514 - accuracy: 0.6278 - val_loss: 1.0380 - val_accuracy: 0.6378\n",
      "Epoch 14/50\n",
      "391/391 [==============================] - 3s 9ms/step - loss: 1.0327 - accuracy: 0.6383 - val_loss: 1.0123 - val_accuracy: 0.6458\n",
      "Epoch 15/50\n",
      "391/391 [==============================] - 4s 10ms/step - loss: 1.0250 - accuracy: 0.6381 - val_loss: 1.0141 - val_accuracy: 0.6476\n",
      "Epoch 16/50\n",
      "391/391 [==============================] - 3s 8ms/step - loss: 0.9986 - accuracy: 0.6505 - val_loss: 1.0144 - val_accuracy: 0.6440\n",
      "Epoch 17/50\n",
      "391/391 [==============================] - 3s 8ms/step - loss: 0.9830 - accuracy: 0.6553 - val_loss: 1.0130 - val_accuracy: 0.6506\n",
      "Epoch 18/50\n",
      "391/391 [==============================] - 4s 10ms/step - loss: 0.9642 - accuracy: 0.6574 - val_loss: 0.9918 - val_accuracy: 0.6550\n",
      "Epoch 19/50\n",
      "391/391 [==============================] - 3s 8ms/step - loss: 0.9598 - accuracy: 0.6621 - val_loss: 0.9892 - val_accuracy: 0.6594\n",
      "Epoch 20/50\n",
      "391/391 [==============================] - 3s 8ms/step - loss: 0.9235 - accuracy: 0.6725 - val_loss: 1.0035 - val_accuracy: 0.6492\n",
      "Epoch 21/50\n",
      "391/391 [==============================] - 3s 8ms/step - loss: 0.9239 - accuracy: 0.6745 - val_loss: 0.9806 - val_accuracy: 0.6670\n",
      "Epoch 22/50\n",
      "391/391 [==============================] - 4s 10ms/step - loss: 0.9050 - accuracy: 0.6783 - val_loss: 0.9636 - val_accuracy: 0.6666\n",
      "Epoch 23/50\n",
      "391/391 [==============================] - 4s 10ms/step - loss: 0.8926 - accuracy: 0.6822 - val_loss: 0.9603 - val_accuracy: 0.6674\n",
      "Epoch 24/50\n",
      "391/391 [==============================] - 3s 8ms/step - loss: 0.8841 - accuracy: 0.6890 - val_loss: 0.9487 - val_accuracy: 0.6762\n",
      "Epoch 25/50\n",
      "391/391 [==============================] - 3s 8ms/step - loss: 0.8797 - accuracy: 0.6887 - val_loss: 0.9755 - val_accuracy: 0.6678\n",
      "Epoch 26/50\n",
      "391/391 [==============================] - 3s 8ms/step - loss: 0.8554 - accuracy: 0.6990 - val_loss: 0.9618 - val_accuracy: 0.6706\n",
      "Epoch 27/50\n",
      "391/391 [==============================] - 3s 8ms/step - loss: 0.8545 - accuracy: 0.6987 - val_loss: 0.9602 - val_accuracy: 0.6710\n",
      "Epoch 28/50\n",
      "391/391 [==============================] - 3s 8ms/step - loss: 0.8478 - accuracy: 0.7012 - val_loss: 0.9508 - val_accuracy: 0.6746\n",
      "Epoch 29/50\n",
      "391/391 [==============================] - 4s 9ms/step - loss: 0.8376 - accuracy: 0.7041 - val_loss: 0.9653 - val_accuracy: 0.6776\n",
      "Epoch 30/50\n",
      "391/391 [==============================] - 4s 9ms/step - loss: 0.8257 - accuracy: 0.7045 - val_loss: 0.9510 - val_accuracy: 0.6830\n",
      "Epoch 31/50\n",
      "391/391 [==============================] - 3s 8ms/step - loss: 0.8074 - accuracy: 0.7124 - val_loss: 0.9429 - val_accuracy: 0.6822\n",
      "Epoch 32/50\n",
      "391/391 [==============================] - 3s 9ms/step - loss: 0.8119 - accuracy: 0.7120 - val_loss: 0.9529 - val_accuracy: 0.6818\n",
      "Epoch 33/50\n",
      "391/391 [==============================] - 3s 9ms/step - loss: 0.8065 - accuracy: 0.7133 - val_loss: 0.9509 - val_accuracy: 0.6818\n",
      "Epoch 34/50\n",
      "391/391 [==============================] - 4s 9ms/step - loss: 0.7921 - accuracy: 0.7170 - val_loss: 0.9840 - val_accuracy: 0.6762\n",
      "Epoch 35/50\n",
      "391/391 [==============================] - 3s 8ms/step - loss: 0.7909 - accuracy: 0.7182 - val_loss: 0.9782 - val_accuracy: 0.6778\n",
      "Epoch 36/50\n",
      "391/391 [==============================] - 3s 8ms/step - loss: 0.7745 - accuracy: 0.7260 - val_loss: 0.9539 - val_accuracy: 0.6826\n",
      "Epoch 37/50\n",
      "391/391 [==============================] - 3s 9ms/step - loss: 0.7789 - accuracy: 0.7171 - val_loss: 0.9726 - val_accuracy: 0.6858\n",
      "Epoch 38/50\n",
      "391/391 [==============================] - 3s 8ms/step - loss: 0.7650 - accuracy: 0.7270 - val_loss: 0.9589 - val_accuracy: 0.6870\n",
      "Epoch 39/50\n",
      "391/391 [==============================] - 3s 8ms/step - loss: 0.7681 - accuracy: 0.7265 - val_loss: 0.9652 - val_accuracy: 0.6874\n",
      "Epoch 40/50\n",
      "391/391 [==============================] - 3s 8ms/step - loss: 0.7416 - accuracy: 0.7338 - val_loss: 0.9588 - val_accuracy: 0.6882\n",
      "Epoch 41/50\n",
      "391/391 [==============================] - 3s 9ms/step - loss: 0.7450 - accuracy: 0.7319 - val_loss: 0.9671 - val_accuracy: 0.6884\n",
      "Epoch 42/50\n",
      "391/391 [==============================] - 3s 8ms/step - loss: 0.7396 - accuracy: 0.7349 - val_loss: 1.0043 - val_accuracy: 0.6744\n",
      "Epoch 43/50\n",
      "391/391 [==============================] - 3s 8ms/step - loss: 0.7247 - accuracy: 0.7364 - val_loss: 0.9833 - val_accuracy: 0.6798\n",
      "Epoch 44/50\n",
      "391/391 [==============================] - 3s 8ms/step - loss: 0.7299 - accuracy: 0.7363 - val_loss: 0.9944 - val_accuracy: 0.6798\n",
      "Epoch 45/50\n",
      "391/391 [==============================] - 3s 8ms/step - loss: 0.7251 - accuracy: 0.7365 - val_loss: 0.9935 - val_accuracy: 0.6780\n",
      "Epoch 46/50\n",
      "391/391 [==============================] - 3s 9ms/step - loss: 0.7294 - accuracy: 0.7357 - val_loss: 0.9733 - val_accuracy: 0.6836\n",
      "Epoch 47/50\n",
      "391/391 [==============================] - 4s 9ms/step - loss: 0.7090 - accuracy: 0.7427 - val_loss: 0.9844 - val_accuracy: 0.6844\n",
      "Epoch 48/50\n",
      "391/391 [==============================] - 4s 9ms/step - loss: 0.7036 - accuracy: 0.7440 - val_loss: 0.9858 - val_accuracy: 0.6862\n",
      "Epoch 49/50\n",
      "391/391 [==============================] - 3s 9ms/step - loss: 0.6920 - accuracy: 0.7488 - val_loss: 0.9873 - val_accuracy: 0.6866\n",
      "Epoch 50/50\n",
      "391/391 [==============================] - 3s 9ms/step - loss: 0.6959 - accuracy: 0.7490 - val_loss: 0.9956 - val_accuracy: 0.6858\n"
     ]
    }
   ],
   "source": [
    "# Train the model\n",
    "history = model.fit(X_train_fl, y_train_oh, epochs=50, batch_size=128,\n",
    "                    validation_data=(X_val, y_val))"
   ]
  },
  {
   "cell_type": "code",
   "execution_count": 13,
   "metadata": {
    "executionInfo": {
     "elapsed": 488,
     "status": "ok",
     "timestamp": 1620819593543,
     "user": {
      "displayName": "Rafael López González",
      "photoUrl": "",
      "userId": "01160551345597042094"
     },
     "user_tz": -120
    },
    "id": "Hsc8-QX1xVWL"
   },
   "outputs": [],
   "source": [
    "# Import dependence for visualization of images\n",
    "import matplotlib.pyplot as plt"
   ]
  },
  {
   "cell_type": "code",
   "execution_count": 16,
   "metadata": {
    "colab": {
     "base_uri": "https://localhost:8080/",
     "height": 295
    },
    "executionInfo": {
     "elapsed": 147218,
     "status": "ok",
     "timestamp": 1620806340617,
     "user": {
      "displayName": "Rafael López González",
      "photoUrl": "",
      "userId": "01160551345597042094"
     },
     "user_tz": -120
    },
    "id": "cAR15yICV6hU",
    "outputId": "10e7db37-b0c1-4803-ac64-98d56a8ba861"
   },
   "outputs": [
    {
     "data": {
      "image/png": "[encoded data removed]",
      "text/plain": [
       "<Figure size 432x288 with 1 Axes>"
      ]
     },
     "metadata": {
      "needs_background": "light"
     },
     "output_type": "display_data"
    }
   ],
   "source": [
    "# Plot training and validation accuracy\n",
    "plt.plot(history.history['accuracy'])\n",
    "plt.plot(history.history['val_accuracy'])\n",
    "plt.title('Model accuracy')\n",
    "plt.ylabel('Accuracy')\n",
    "plt.xlabel('Epoch')\n",
    "plt.legend(['Train', 'Val'], loc='upper left')\n",
    "# plt.ylim(0, 1)\n",
    "plt.show()"
   ]
  },
  {
   "cell_type": "code",
   "execution_count": 17,
   "metadata": {
    "colab": {
     "base_uri": "https://localhost:8080/",
     "height": 295
    },
    "executionInfo": {
     "elapsed": 147858,
     "status": "ok",
     "timestamp": 1620806341264,
     "user": {
      "displayName": "Rafael López González",
      "photoUrl": "",
      "userId": "01160551345597042094"
     },
     "user_tz": -120
    },
    "id": "-OM3GB9SV86n",
    "outputId": "7a6b1ae2-fbd9-4d86-8bca-604bf76d7e83"
   },
   "outputs": [
    {
     "data": {
      "image/png": "[encoded data removed]",
      "text/plain": [
       "<Figure size 432x288 with 1 Axes>"
      ]
     },
     "metadata": {
      "needs_background": "light"
     },
     "output_type": "display_data"
    }
   ],
   "source": [
    "# Plot training and test loss\n",
    "plt.plot(history.history['loss']) \n",
    "plt.plot(history.history['val_loss']) \n",
    "plt.title('Model loss') \n",
    "plt.ylabel('Loss') \n",
    "plt.xlabel('Epoch') \n",
    "plt.legend(['Train', 'Val'], loc='upper left') \n",
    "plt.show()"
   ]
  },
  {
   "cell_type": "markdown",
   "metadata": {
    "id": "z1huEX1wx5bn"
   },
   "source": [
    "## 2. Batch Normalization"
   ]
  },
  {
   "cell_type": "code",
   "execution_count": 14,
   "metadata": {
    "executionInfo": {
     "elapsed": 491,
     "status": "ok",
     "timestamp": 1620819597638,
     "user": {
      "displayName": "Rafael López González",
      "photoUrl": "",
      "userId": "01160551345597042094"
     },
     "user_tz": -120
    },
    "id": "FEFeuHMNvQxy"
   },
   "outputs": [],
   "source": [
    "from keras.layers import BatchNormalization\n",
    "from keras.optimizers import Adam"
   ]
  },
  {
   "cell_type": "code",
   "execution_count": 19,
   "metadata": {
    "executionInfo": {
     "elapsed": 147845,
     "status": "ok",
     "timestamp": 1620806341265,
     "user": {
      "displayName": "Rafael López González",
      "photoUrl": "",
      "userId": "01160551345597042094"
     },
     "user_tz": -120
    },
    "id": "rZfVtoxky-8m"
   },
   "outputs": [],
   "source": [
    "# Define the model\n",
    "input_layer = Input(shape=(X_train.shape[1],X_train.shape[2], X_train.shape[3]))\n",
    "conv_layer_1 = Conv2D(filters=8, kernel_size=(3, 3), activation='relu')(input_layer)\n",
    "bn_1 = BatchNormalization()(conv_layer_1)#Output of convolucional layer\n",
    "maxpool_layer_1 = MaxPool2D(pool_size=(2, 2))(bn_1)\n",
    "conv_layer_2 = Conv2D(filters=16, kernel_size=(3, 3), activation='relu')(maxpool_layer_1)\n",
    "bn_2 = BatchNormalization()(conv_layer_2)\n",
    "maxpool_layer_2 = MaxPool2D(pool_size=(2, 2))(bn_2)\n",
    "conv_layer_3 = Conv2D(filters=32, kernel_size=(3, 3), activation='relu')(maxpool_layer_2)\n",
    "bn_3 = BatchNormalization()(conv_layer_3)\n",
    "flatten_layer = Flatten()(bn_3)\n",
    "dense_layer = Dense(128, activation='relu')(flatten_layer)\n",
    "dropout = Dropout(rate=0.4)(dense_layer)\n",
    "output_layer = Dense(10, activation='softmax')(dropout)\n",
    "model= Model(inputs=input_layer, outputs=output_layer)"
   ]
  },
  {
   "cell_type": "code",
   "execution_count": 20,
   "metadata": {
    "executionInfo": {
     "elapsed": 147841,
     "status": "ok",
     "timestamp": 1620806341266,
     "user": {
      "displayName": "Rafael López González",
      "photoUrl": "",
      "userId": "01160551345597042094"
     },
     "user_tz": -120
    },
    "id": "jG1aPlHFze4L"
   },
   "outputs": [],
   "source": [
    "# Compile the model\n",
    "model.compile(loss='categorical_crossentropy', optimizer=Adam(),\n",
    "              metrics=['accuracy'])"
   ]
  },
  {
   "cell_type": "code",
   "execution_count": 21,
   "metadata": {
    "colab": {
     "base_uri": "https://localhost:8080/"
    },
    "executionInfo": {
     "elapsed": 189854,
     "status": "ok",
     "timestamp": 1620806383286,
     "user": {
      "displayName": "Rafael López González",
      "photoUrl": "",
      "userId": "01160551345597042094"
     },
     "user_tz": -120
    },
    "id": "UIJo6a5kze4P",
    "outputId": "a3d774f4-574d-4727-f6f3-a2b0b15b781c",
    "scrolled": true
   },
   "outputs": [
    {
     "name": "stdout",
     "output_type": "stream",
     "text": [
      "Epoch 1/20\n",
      "391/391 [==============================] - 6s 13ms/step - loss: 1.9812 - accuracy: 0.3270 - val_loss: 1.6694 - val_accuracy: 0.4066\n",
      "Epoch 2/20\n",
      "391/391 [==============================] - 4s 10ms/step - loss: 1.3704 - accuracy: 0.5086 - val_loss: 1.3411 - val_accuracy: 0.5218\n",
      "Epoch 3/20\n",
      "391/391 [==============================] - 4s 10ms/step - loss: 1.2153 - accuracy: 0.5709 - val_loss: 1.1248 - val_accuracy: 0.5986\n",
      "Epoch 4/20\n",
      "391/391 [==============================] - 4s 10ms/step - loss: 1.1076 - accuracy: 0.6098 - val_loss: 1.1481 - val_accuracy: 0.5974\n",
      "Epoch 5/20\n",
      "391/391 [==============================] - 4s 10ms/step - loss: 1.0355 - accuracy: 0.6360 - val_loss: 0.9970 - val_accuracy: 0.6542\n",
      "Epoch 6/20\n",
      "391/391 [==============================] - 4s 10ms/step - loss: 0.9854 - accuracy: 0.6538 - val_loss: 0.9649 - val_accuracy: 0.6618\n",
      "Epoch 7/20\n",
      "391/391 [==============================] - 4s 10ms/step - loss: 0.9426 - accuracy: 0.6677 - val_loss: 1.0356 - val_accuracy: 0.6400\n",
      "Epoch 8/20\n",
      "391/391 [==============================] - 4s 10ms/step - loss: 0.9024 - accuracy: 0.6856 - val_loss: 0.9739 - val_accuracy: 0.6594\n",
      "Epoch 9/20\n",
      "391/391 [==============================] - 4s 10ms/step - loss: 0.8830 - accuracy: 0.6875 - val_loss: 0.9548 - val_accuracy: 0.6688\n",
      "Epoch 10/20\n",
      "391/391 [==============================] - 4s 10ms/step - loss: 0.8526 - accuracy: 0.6965 - val_loss: 1.0374 - val_accuracy: 0.6382\n",
      "Epoch 11/20\n",
      "391/391 [==============================] - 4s 10ms/step - loss: 0.8383 - accuracy: 0.7046 - val_loss: 0.9246 - val_accuracy: 0.6862\n",
      "Epoch 12/20\n",
      "391/391 [==============================] - 4s 10ms/step - loss: 0.8122 - accuracy: 0.7141 - val_loss: 0.9112 - val_accuracy: 0.6876\n",
      "Epoch 13/20\n",
      "391/391 [==============================] - 4s 10ms/step - loss: 0.7856 - accuracy: 0.7193 - val_loss: 0.9013 - val_accuracy: 0.6932\n",
      "Epoch 14/20\n",
      "391/391 [==============================] - 4s 10ms/step - loss: 0.7675 - accuracy: 0.7266 - val_loss: 0.9853 - val_accuracy: 0.6710\n",
      "Epoch 15/20\n",
      "391/391 [==============================] - 4s 10ms/step - loss: 0.7650 - accuracy: 0.7300 - val_loss: 0.9030 - val_accuracy: 0.6926\n",
      "Epoch 16/20\n",
      "391/391 [==============================] - 4s 11ms/step - loss: 0.7464 - accuracy: 0.7362 - val_loss: 0.9792 - val_accuracy: 0.6662\n",
      "Epoch 17/20\n",
      "391/391 [==============================] - 4s 10ms/step - loss: 0.7295 - accuracy: 0.7414 - val_loss: 0.9996 - val_accuracy: 0.6616\n",
      "Epoch 18/20\n",
      "391/391 [==============================] - 4s 9ms/step - loss: 0.7205 - accuracy: 0.7425 - val_loss: 1.0782 - val_accuracy: 0.6418\n",
      "Epoch 19/20\n",
      "391/391 [==============================] - 4s 9ms/step - loss: 0.6974 - accuracy: 0.7497 - val_loss: 0.9351 - val_accuracy: 0.6946\n",
      "Epoch 20/20\n",
      "391/391 [==============================] - 4s 10ms/step - loss: 0.6939 - accuracy: 0.7488 - val_loss: 0.9143 - val_accuracy: 0.6892\n"
     ]
    }
   ],
   "source": [
    "# Train the model\n",
    "history = model.fit(X_train_fl, y_train_oh, epochs=20, batch_size=128,\n",
    "                    validation_data=(X_val, y_val))"
   ]
  },
  {
   "cell_type": "code",
   "execution_count": 22,
   "metadata": {
    "executionInfo": {
     "elapsed": 189849,
     "status": "ok",
     "timestamp": 1620806383287,
     "user": {
      "displayName": "Rafael López González",
      "photoUrl": "",
      "userId": "01160551345597042094"
     },
     "user_tz": -120
    },
    "id": "efPQki1pzZ9z"
   },
   "outputs": [],
   "source": [
    "# Compile the model with new learning rate\n",
    "model= Model(inputs=input_layer, outputs=output_layer)\n",
    "model.compile(loss='categorical_crossentropy', optimizer=Adam(lr=0.01),\n",
    "              metrics=['accuracy'])"
   ]
  },
  {
   "cell_type": "code",
   "execution_count": 23,
   "metadata": {
    "colab": {
     "base_uri": "https://localhost:8080/"
    },
    "executionInfo": {
     "elapsed": 232887,
     "status": "ok",
     "timestamp": 1620806426332,
     "user": {
      "displayName": "Rafael López González",
      "photoUrl": "",
      "userId": "01160551345597042094"
     },
     "user_tz": -120
    },
    "id": "Oo6f1rlo0qWs",
    "outputId": "933ca179-741d-41bb-87cf-2179eaaedf03",
    "scrolled": true
   },
   "outputs": [
    {
     "name": "stdout",
     "output_type": "stream",
     "text": [
      "Epoch 1/20\n",
      "391/391 [==============================] - 5s 12ms/step - loss: 1.3826 - accuracy: 0.5231 - val_loss: 1.5354 - val_accuracy: 0.5212\n",
      "Epoch 2/20\n",
      "391/391 [==============================] - 4s 10ms/step - loss: 1.0738 - accuracy: 0.6255 - val_loss: 1.9239 - val_accuracy: 0.4394\n",
      "Epoch 3/20\n",
      "391/391 [==============================] - 4s 10ms/step - loss: 1.0041 - accuracy: 0.6507 - val_loss: 1.3609 - val_accuracy: 0.5606\n",
      "Epoch 4/20\n",
      "391/391 [==============================] - 4s 9ms/step - loss: 0.9699 - accuracy: 0.6599 - val_loss: 1.5706 - val_accuracy: 0.5404\n",
      "Epoch 5/20\n",
      "391/391 [==============================] - 4s 9ms/step - loss: 0.9468 - accuracy: 0.6675 - val_loss: 1.2292 - val_accuracy: 0.5868\n",
      "Epoch 6/20\n",
      "391/391 [==============================] - 4s 10ms/step - loss: 0.9015 - accuracy: 0.6881 - val_loss: 1.2448 - val_accuracy: 0.5844\n",
      "Epoch 7/20\n",
      "391/391 [==============================] - 4s 9ms/step - loss: 0.9042 - accuracy: 0.6818 - val_loss: 1.1510 - val_accuracy: 0.6224\n",
      "Epoch 8/20\n",
      "391/391 [==============================] - 4s 9ms/step - loss: 0.8740 - accuracy: 0.6944 - val_loss: 1.0041 - val_accuracy: 0.6552\n",
      "Epoch 9/20\n",
      "391/391 [==============================] - 4s 10ms/step - loss: 0.8601 - accuracy: 0.7018 - val_loss: 1.0288 - val_accuracy: 0.6622\n",
      "Epoch 10/20\n",
      "391/391 [==============================] - 4s 9ms/step - loss: 0.8320 - accuracy: 0.7111 - val_loss: 0.9854 - val_accuracy: 0.6600\n",
      "Epoch 11/20\n",
      "391/391 [==============================] - 4s 10ms/step - loss: 0.8320 - accuracy: 0.7076 - val_loss: 1.1647 - val_accuracy: 0.6434\n",
      "Epoch 12/20\n",
      "391/391 [==============================] - 4s 9ms/step - loss: 0.8233 - accuracy: 0.7121 - val_loss: 0.9450 - val_accuracy: 0.6804\n",
      "Epoch 13/20\n",
      "391/391 [==============================] - 4s 10ms/step - loss: 0.8034 - accuracy: 0.7172 - val_loss: 1.3827 - val_accuracy: 0.5766\n",
      "Epoch 14/20\n",
      "391/391 [==============================] - 4s 10ms/step - loss: 0.7950 - accuracy: 0.7205 - val_loss: 1.1306 - val_accuracy: 0.6374\n",
      "Epoch 15/20\n",
      "391/391 [==============================] - 4s 10ms/step - loss: 0.7761 - accuracy: 0.7256 - val_loss: 1.0009 - val_accuracy: 0.6604\n",
      "Epoch 16/20\n",
      "391/391 [==============================] - 4s 9ms/step - loss: 0.7619 - accuracy: 0.7281 - val_loss: 0.9940 - val_accuracy: 0.6648\n",
      "Epoch 17/20\n",
      "391/391 [==============================] - 4s 10ms/step - loss: 0.7644 - accuracy: 0.7282 - val_loss: 0.9620 - val_accuracy: 0.6676\n",
      "Epoch 18/20\n",
      "391/391 [==============================] - 4s 10ms/step - loss: 0.7459 - accuracy: 0.7356 - val_loss: 1.0002 - val_accuracy: 0.6648\n",
      "Epoch 19/20\n",
      "391/391 [==============================] - 4s 9ms/step - loss: 0.7430 - accuracy: 0.7374 - val_loss: 1.2210 - val_accuracy: 0.6534\n",
      "Epoch 20/20\n",
      "391/391 [==============================] - 4s 9ms/step - loss: 0.7332 - accuracy: 0.7423 - val_loss: 1.0886 - val_accuracy: 0.6352\n"
     ]
    }
   ],
   "source": [
    "# Train the model\n",
    "history = model.fit(X_train_fl, y_train_oh, epochs=20, batch_size=128,\n",
    "                    validation_data=(X_val, y_val))"
   ]
  },
  {
   "cell_type": "markdown",
   "metadata": {
    "id": "-vsfjI7S2eCH"
   },
   "source": [
    "## 3. Data Augmentation"
   ]
  },
  {
   "cell_type": "code",
   "execution_count": 24,
   "metadata": {
    "executionInfo": {
     "elapsed": 711,
     "status": "ok",
     "timestamp": 1620819604371,
     "user": {
      "displayName": "Rafael López González",
      "photoUrl": "",
      "userId": "01160551345597042094"
     },
     "user_tz": -120
    },
    "id": "JGqUrVUa063z"
   },
   "outputs": [],
   "source": [
    "from keras.preprocessing.image import ImageDataGenerator"
   ]
  },
  {
   "cell_type": "code",
   "execution_count": 25,
   "metadata": {
    "executionInfo": {
     "elapsed": 803,
     "status": "ok",
     "timestamp": 1620822925878,
     "user": {
      "displayName": "Rafael López González",
      "photoUrl": "",
      "userId": "01160551345597042094"
     },
     "user_tz": -120
    },
    "id": "yjoPmQc32nmw"
   },
   "outputs": [],
   "source": [
    "# Define data generator\n",
    "train_datagen = ImageDataGenerator(\n",
    "    shear_range = 0.2,\n",
    "    zoom_range = 0.2,\n",
    "    horizontal_flip = True,\n",
    "    rotation_range = 10,\n",
    ")"
   ]
  },
  {
   "cell_type": "code",
   "execution_count": 26,
   "metadata": {
    "executionInfo": {
     "elapsed": 232874,
     "status": "ok",
     "timestamp": 1620806426334,
     "user": {
      "displayName": "Rafael López González",
      "photoUrl": "",
      "userId": "01160551345597042094"
     },
     "user_tz": -120
    },
    "id": "DeXelmgq6IkN"
   },
   "outputs": [],
   "source": [
    "# Function to convert a categorical class to its corresponding string\n",
    "def class_to_string(class_int):\n",
    "    classes = [\"airplane\", \"automobile\", \"bird\", \"cat\", \"deer\", \"dog\", \"frog\",\n",
    "               \"horse\", \"ship\", \"truck\"]\n",
    "    return classes[class_int]"
   ]
  },
  {
   "cell_type": "code",
   "execution_count": 27,
   "metadata": {
    "executionInfo": {
     "elapsed": 232871,
     "status": "ok",
     "timestamp": 1620806426335,
     "user": {
      "displayName": "Rafael López González",
      "photoUrl": "",
      "userId": "01160551345597042094"
     },
     "user_tz": -120
    },
    "id": "VgMWPtwx6fTF"
   },
   "outputs": [],
   "source": [
    "plt.rcParams['figure.figsize'] = (10,10)  # Configure figure size for \n",
    "                                          # appropriate visualization"
   ]
  },
  {
   "cell_type": "code",
   "execution_count": 28,
   "metadata": {
    "colab": {
     "base_uri": "https://localhost:8080/",
     "height": 607
    },
    "executionInfo": {
     "elapsed": 234484,
     "status": "ok",
     "timestamp": 1620806427955,
     "user": {
      "displayName": "Rafael López González",
      "photoUrl": "",
      "userId": "01160551345597042094"
     },
     "user_tz": -120
    },
    "id": "1gp_wWxK3xc5",
    "outputId": "806459df-fa84-4901-84e6-2241be822528"
   },
   "outputs": [
    {
     "data": {
      "image/png": "[encoded data removed]",
      "text/plain": [
       "<Figure size 720x720 with 9 Axes>"
      ]
     },
     "metadata": {
      "needs_background": "light"
     },
     "output_type": "display_data"
    }
   ],
   "source": [
    "# Show generated data\n",
    "iterator = train_datagen.flow(X_train_fl, y_train_oh, batch_size=9)\n",
    "samples, labels = next(iterator)\n",
    "for i in range(9):\n",
    "    plt.subplot(3,3,i+1)\n",
    "    plt.imshow(samples[i], interpolation='none')\n",
    "    class_str = class_to_string(np.argmax(labels[i]))\n",
    "    plt.title(\"Class: \" + class_str)"
   ]
  },
  {
   "cell_type": "code",
   "execution_count": 29,
   "metadata": {
    "executionInfo": {
     "elapsed": 234479,
     "status": "ok",
     "timestamp": 1620806427956,
     "user": {
      "displayName": "Rafael López González",
      "photoUrl": "",
      "userId": "01160551345597042094"
     },
     "user_tz": -120
    },
    "id": "Kj3tqJnv74Yn"
   },
   "outputs": [],
   "source": [
    "# Compile the model with new learning rate\n",
    "model= Model(inputs=input_layer, outputs=output_layer)\n",
    "model.compile(loss='categorical_crossentropy', optimizer=Adam(lr=0.001),\n",
    "              metrics=['accuracy'])"
   ]
  },
  {
   "cell_type": "code",
   "execution_count": 30,
   "metadata": {
    "colab": {
     "base_uri": "https://localhost:8080/"
    },
    "executionInfo": {
     "elapsed": 648343,
     "status": "ok",
     "timestamp": 1620806841826,
     "user": {
      "displayName": "Rafael López González",
      "photoUrl": "",
      "userId": "01160551345597042094"
     },
     "user_tz": -120
    },
    "id": "dW6z6oqi74Yu",
    "outputId": "6a0c8fe3-2e5f-4c48-afc8-e202fced6844",
    "scrolled": true
   },
   "outputs": [
    {
     "name": "stderr",
     "output_type": "stream",
     "text": [
      "c:\\users\\juanl\\appdata\\local\\programs\\python\\python38\\lib\\site-packages\\tensorflow\\python\\keras\\engine\\training.py:1844: UserWarning: `Model.fit_generator` is deprecated and will be removed in a future version. Please use `Model.fit`, which supports generators.\n",
      "  warnings.warn('`Model.fit_generator` is deprecated and '\n"
     ]
    },
    {
     "name": "stdout",
     "output_type": "stream",
     "text": [
      "Epoch 1/20\n",
      "500/500 [==============================] - 21s 39ms/step - loss: 1.0366 - accuracy: 0.6451 - val_loss: 0.9004 - val_accuracy: 0.7036\n",
      "Epoch 2/20\n",
      "500/500 [==============================] - 20s 40ms/step - loss: 0.9665 - accuracy: 0.6681 - val_loss: 0.8736 - val_accuracy: 0.7094\n",
      "Epoch 3/20\n",
      "500/500 [==============================] - 21s 42ms/step - loss: 0.9400 - accuracy: 0.6779 - val_loss: 0.8574 - val_accuracy: 0.7046\n",
      "Epoch 4/20\n",
      "500/500 [==============================] - 20s 39ms/step - loss: 0.9095 - accuracy: 0.6879 - val_loss: 0.8409 - val_accuracy: 0.7128\n",
      "Epoch 5/20\n",
      "500/500 [==============================] - 19s 39ms/step - loss: 0.9121 - accuracy: 0.6865 - val_loss: 0.8510 - val_accuracy: 0.7076\n",
      "Epoch 6/20\n",
      "500/500 [==============================] - 20s 41ms/step - loss: 0.8939 - accuracy: 0.6890 - val_loss: 0.8459 - val_accuracy: 0.7104\n",
      "Epoch 7/20\n",
      "500/500 [==============================] - 20s 40ms/step - loss: 0.8952 - accuracy: 0.6926 - val_loss: 0.8126 - val_accuracy: 0.7176\n",
      "Epoch 8/20\n",
      "500/500 [==============================] - 20s 39ms/step - loss: 0.8899 - accuracy: 0.6906 - val_loss: 0.8667 - val_accuracy: 0.7064\n",
      "Epoch 9/20\n",
      "500/500 [==============================] - 20s 41ms/step - loss: 0.8843 - accuracy: 0.6924 - val_loss: 0.8124 - val_accuracy: 0.7180\n",
      "Epoch 10/20\n",
      "500/500 [==============================] - 22s 44ms/step - loss: 0.8736 - accuracy: 0.6954 - val_loss: 0.8281 - val_accuracy: 0.7104\n",
      "Epoch 11/20\n",
      "500/500 [==============================] - 19s 39ms/step - loss: 0.8651 - accuracy: 0.7008 - val_loss: 0.8421 - val_accuracy: 0.7128\n",
      "Epoch 12/20\n",
      "500/500 [==============================] - 20s 40ms/step - loss: 0.8700 - accuracy: 0.6986 - val_loss: 0.7868 - val_accuracy: 0.7220\n",
      "Epoch 13/20\n",
      "500/500 [==============================] - 20s 39ms/step - loss: 0.8738 - accuracy: 0.6983 - val_loss: 0.8078 - val_accuracy: 0.7206\n",
      "Epoch 14/20\n",
      "500/500 [==============================] - 20s 39ms/step - loss: 0.8622 - accuracy: 0.7017 - val_loss: 0.8171 - val_accuracy: 0.7230\n",
      "Epoch 15/20\n",
      "500/500 [==============================] - 20s 40ms/step - loss: 0.8633 - accuracy: 0.6998 - val_loss: 0.8582 - val_accuracy: 0.7112\n",
      "Epoch 16/20\n",
      "500/500 [==============================] - 20s 40ms/step - loss: 0.8551 - accuracy: 0.7039 - val_loss: 0.7824 - val_accuracy: 0.7280\n",
      "Epoch 17/20\n",
      "500/500 [==============================] - 21s 42ms/step - loss: 0.8534 - accuracy: 0.7053 - val_loss: 0.8095 - val_accuracy: 0.7282\n",
      "Epoch 18/20\n",
      "500/500 [==============================] - 19s 39ms/step - loss: 0.8478 - accuracy: 0.7067 - val_loss: 0.8295 - val_accuracy: 0.7166\n",
      "Epoch 19/20\n",
      "500/500 [==============================] - 19s 39ms/step - loss: 0.8492 - accuracy: 0.7049 - val_loss: 0.8378 - val_accuracy: 0.7176\n",
      "Epoch 20/20\n",
      "500/500 [==============================] - 19s 39ms/step - loss: 0.8542 - accuracy: 0.7031 - val_loss: 0.7932 - val_accuracy: 0.7270\n"
     ]
    }
   ],
   "source": [
    "# Train the model\n",
    "batch_size = 100\n",
    "steps_per_epoch = X_train.shape[0] / batch_size\n",
    "history = model.fit_generator(train_datagen.flow(X_train_fl, y_train_oh, \n",
    "                                                 batch_size=batch_size), \n",
    "                              epochs=20,\n",
    "                              steps_per_epoch=steps_per_epoch, #En un epoch cuantos imagenes pasas\n",
    "                              validation_data=(X_val, y_val))"
   ]
  },
  {
   "cell_type": "code",
   "execution_count": 32,
   "metadata": {
    "colab": {
     "base_uri": "https://localhost:8080/"
    },
    "executionInfo": {
     "elapsed": 2760801,
     "status": "ok",
     "timestamp": 1620808954291,
     "user": {
      "displayName": "Rafael López González",
      "photoUrl": "",
      "userId": "01160551345597042094"
     },
     "user_tz": -120
    },
    "id": "TGTb98saDb6J",
    "outputId": "6101e87d-6250-4b8f-b9f1-22f3f53edd89"
   },
   "outputs": [
    {
     "name": "stdout",
     "output_type": "stream",
     "text": [
      "Epoch 1/100\n",
      "  3/500 [..............................] - ETA: 20s - loss: 0.8548 - accuracy: 0.6933"
     ]
    },
    {
     "name": "stderr",
     "output_type": "stream",
     "text": [
      "/usr/local/lib/python3.7/dist-packages/tensorflow/python/keras/engine/training.py:1844: UserWarning: `Model.fit_generator` is deprecated and will be removed in a future version. Please use `Model.fit`, which supports generators.\n",
      "  warnings.warn('`Model.fit_generator` is deprecated and '\n"
     ]
    },
    {
     "name": "stdout",
     "output_type": "stream",
     "text": [
      "500/500 [==============================] - 21s 42ms/step - loss: 0.8692 - accuracy: 0.6958 - val_loss: 0.8258 - val_accuracy: 0.7176\n",
      "Epoch 2/100\n",
      "500/500 [==============================] - 21s 41ms/step - loss: 0.8750 - accuracy: 0.6970 - val_loss: 0.8469 - val_accuracy: 0.7142\n",
      "Epoch 3/100\n",
      "500/500 [==============================] - 21s 42ms/step - loss: 0.8727 - accuracy: 0.6964 - val_loss: 0.8996 - val_accuracy: 0.7050\n",
      "Epoch 4/100\n",
      "500/500 [==============================] - 20s 41ms/step - loss: 0.8633 - accuracy: 0.6999 - val_loss: 0.8129 - val_accuracy: 0.7200\n",
      "Epoch 5/100\n",
      "500/500 [==============================] - 21s 42ms/step - loss: 0.8607 - accuracy: 0.7003 - val_loss: 0.8292 - val_accuracy: 0.7170\n",
      "Epoch 6/100\n",
      "500/500 [==============================] - 21s 42ms/step - loss: 0.8608 - accuracy: 0.7008 - val_loss: 0.8856 - val_accuracy: 0.7050\n",
      "Epoch 7/100\n",
      "500/500 [==============================] - 21s 41ms/step - loss: 0.8646 - accuracy: 0.6994 - val_loss: 0.8282 - val_accuracy: 0.7176\n",
      "Epoch 8/100\n",
      "500/500 [==============================] - 20s 41ms/step - loss: 0.8639 - accuracy: 0.7010 - val_loss: 0.8169 - val_accuracy: 0.7286\n",
      "Epoch 9/100\n",
      "500/500 [==============================] - 20s 41ms/step - loss: 0.8644 - accuracy: 0.6998 - val_loss: 0.8156 - val_accuracy: 0.7220\n",
      "Epoch 10/100\n",
      "500/500 [==============================] - 21s 41ms/step - loss: 0.8601 - accuracy: 0.7010 - val_loss: 0.8695 - val_accuracy: 0.7094\n",
      "Epoch 11/100\n",
      "500/500 [==============================] - 21s 41ms/step - loss: 0.8539 - accuracy: 0.7042 - val_loss: 0.8146 - val_accuracy: 0.7210\n",
      "Epoch 12/100\n",
      "500/500 [==============================] - 20s 41ms/step - loss: 0.8602 - accuracy: 0.7010 - val_loss: 0.8544 - val_accuracy: 0.7128\n",
      "Epoch 13/100\n",
      "500/500 [==============================] - 20s 41ms/step - loss: 0.8521 - accuracy: 0.7035 - val_loss: 0.7793 - val_accuracy: 0.7340\n",
      "Epoch 14/100\n",
      "500/500 [==============================] - 20s 41ms/step - loss: 0.8516 - accuracy: 0.7030 - val_loss: 0.8080 - val_accuracy: 0.7252\n",
      "Epoch 15/100\n",
      "500/500 [==============================] - 20s 41ms/step - loss: 0.8491 - accuracy: 0.7041 - val_loss: 0.7816 - val_accuracy: 0.7364\n",
      "Epoch 16/100\n",
      "500/500 [==============================] - 21s 41ms/step - loss: 0.8503 - accuracy: 0.7020 - val_loss: 0.8807 - val_accuracy: 0.7056\n",
      "Epoch 17/100\n",
      "500/500 [==============================] - 20s 41ms/step - loss: 0.8507 - accuracy: 0.7062 - val_loss: 0.7995 - val_accuracy: 0.7314\n",
      "Epoch 18/100\n",
      "500/500 [==============================] - 21s 41ms/step - loss: 0.8452 - accuracy: 0.7067 - val_loss: 0.8140 - val_accuracy: 0.7204\n",
      "Epoch 19/100\n",
      "500/500 [==============================] - 20s 41ms/step - loss: 0.8417 - accuracy: 0.7059 - val_loss: 0.8295 - val_accuracy: 0.7156\n",
      "Epoch 20/100\n",
      "500/500 [==============================] - 20s 41ms/step - loss: 0.8400 - accuracy: 0.7082 - val_loss: 0.8054 - val_accuracy: 0.7264\n",
      "Epoch 21/100\n",
      "500/500 [==============================] - 20s 41ms/step - loss: 0.8445 - accuracy: 0.7045 - val_loss: 0.8226 - val_accuracy: 0.7184\n",
      "Epoch 22/100\n",
      "500/500 [==============================] - 20s 41ms/step - loss: 0.8418 - accuracy: 0.7058 - val_loss: 0.8520 - val_accuracy: 0.7158\n",
      "Epoch 23/100\n",
      "500/500 [==============================] - 20s 41ms/step - loss: 0.8365 - accuracy: 0.7078 - val_loss: 0.7900 - val_accuracy: 0.7274\n",
      "Epoch 24/100\n",
      "500/500 [==============================] - 21s 41ms/step - loss: 0.8421 - accuracy: 0.7062 - val_loss: 0.8552 - val_accuracy: 0.7144\n",
      "Epoch 25/100\n",
      "500/500 [==============================] - 21s 41ms/step - loss: 0.8410 - accuracy: 0.7049 - val_loss: 0.8042 - val_accuracy: 0.7226\n",
      "Epoch 26/100\n",
      "500/500 [==============================] - 21s 42ms/step - loss: 0.8385 - accuracy: 0.7078 - val_loss: 0.8837 - val_accuracy: 0.7098\n",
      "Epoch 27/100\n",
      "500/500 [==============================] - 22s 43ms/step - loss: 0.8360 - accuracy: 0.7050 - val_loss: 0.7962 - val_accuracy: 0.7300\n",
      "Epoch 28/100\n",
      "500/500 [==============================] - 21s 42ms/step - loss: 0.8405 - accuracy: 0.7086 - val_loss: 0.9357 - val_accuracy: 0.6996\n",
      "Epoch 29/100\n",
      "500/500 [==============================] - 22s 43ms/step - loss: 0.8332 - accuracy: 0.7061 - val_loss: 0.8300 - val_accuracy: 0.7188\n",
      "Epoch 30/100\n",
      "500/500 [==============================] - 21s 42ms/step - loss: 0.8310 - accuracy: 0.7110 - val_loss: 0.8007 - val_accuracy: 0.7290\n",
      "Epoch 31/100\n",
      "500/500 [==============================] - 21s 42ms/step - loss: 0.8329 - accuracy: 0.7100 - val_loss: 0.8610 - val_accuracy: 0.7102\n",
      "Epoch 32/100\n",
      "500/500 [==============================] - 21s 42ms/step - loss: 0.8384 - accuracy: 0.7083 - val_loss: 0.8012 - val_accuracy: 0.7254\n",
      "Epoch 33/100\n",
      "500/500 [==============================] - 21s 42ms/step - loss: 0.8363 - accuracy: 0.7083 - val_loss: 0.8276 - val_accuracy: 0.7296\n",
      "Epoch 34/100\n",
      "500/500 [==============================] - 21s 42ms/step - loss: 0.8345 - accuracy: 0.7089 - val_loss: 0.8308 - val_accuracy: 0.7192\n",
      "Epoch 35/100\n",
      "500/500 [==============================] - 21s 42ms/step - loss: 0.8357 - accuracy: 0.7104 - val_loss: 0.8344 - val_accuracy: 0.7218\n",
      "Epoch 36/100\n",
      "500/500 [==============================] - 21s 42ms/step - loss: 0.8265 - accuracy: 0.7113 - val_loss: 0.7856 - val_accuracy: 0.7350\n",
      "Epoch 37/100\n",
      "500/500 [==============================] - 21s 41ms/step - loss: 0.8255 - accuracy: 0.7139 - val_loss: 0.8504 - val_accuracy: 0.7144\n",
      "Epoch 38/100\n",
      "500/500 [==============================] - 21s 42ms/step - loss: 0.8263 - accuracy: 0.7124 - val_loss: 0.8145 - val_accuracy: 0.7232\n",
      "Epoch 39/100\n",
      "500/500 [==============================] - 21s 42ms/step - loss: 0.8273 - accuracy: 0.7111 - val_loss: 0.8144 - val_accuracy: 0.7276\n",
      "Epoch 40/100\n",
      "500/500 [==============================] - 21s 42ms/step - loss: 0.8285 - accuracy: 0.7114 - val_loss: 0.8266 - val_accuracy: 0.7148\n",
      "Epoch 41/100\n",
      "500/500 [==============================] - 21s 42ms/step - loss: 0.8235 - accuracy: 0.7120 - val_loss: 0.8014 - val_accuracy: 0.7214\n",
      "Epoch 42/100\n",
      "500/500 [==============================] - 21s 42ms/step - loss: 0.8261 - accuracy: 0.7108 - val_loss: 0.8047 - val_accuracy: 0.7250\n",
      "Epoch 43/100\n",
      "500/500 [==============================] - 21s 42ms/step - loss: 0.8241 - accuracy: 0.7128 - val_loss: 0.7951 - val_accuracy: 0.7294\n",
      "Epoch 44/100\n",
      "500/500 [==============================] - 21s 42ms/step - loss: 0.8244 - accuracy: 0.7119 - val_loss: 0.8564 - val_accuracy: 0.7142\n",
      "Epoch 45/100\n",
      "500/500 [==============================] - 21s 42ms/step - loss: 0.8216 - accuracy: 0.7143 - val_loss: 0.8459 - val_accuracy: 0.7084\n",
      "Epoch 46/100\n",
      "500/500 [==============================] - 21s 42ms/step - loss: 0.8271 - accuracy: 0.7117 - val_loss: 0.7887 - val_accuracy: 0.7310\n",
      "Epoch 47/100\n",
      "500/500 [==============================] - 21s 42ms/step - loss: 0.8185 - accuracy: 0.7146 - val_loss: 0.8171 - val_accuracy: 0.7276\n",
      "Epoch 48/100\n",
      "500/500 [==============================] - 21s 42ms/step - loss: 0.8200 - accuracy: 0.7150 - val_loss: 0.7875 - val_accuracy: 0.7294\n",
      "Epoch 49/100\n",
      "500/500 [==============================] - 21s 42ms/step - loss: 0.8207 - accuracy: 0.7149 - val_loss: 0.7813 - val_accuracy: 0.7328\n",
      "Epoch 50/100\n",
      "500/500 [==============================] - 21s 42ms/step - loss: 0.8143 - accuracy: 0.7155 - val_loss: 0.8266 - val_accuracy: 0.7270\n",
      "Epoch 51/100\n",
      "500/500 [==============================] - 21s 42ms/step - loss: 0.8125 - accuracy: 0.7177 - val_loss: 0.7859 - val_accuracy: 0.7346\n",
      "Epoch 52/100\n",
      "500/500 [==============================] - 21s 42ms/step - loss: 0.8195 - accuracy: 0.7130 - val_loss: 0.7708 - val_accuracy: 0.7330\n",
      "Epoch 53/100\n",
      "500/500 [==============================] - 21s 42ms/step - loss: 0.8203 - accuracy: 0.7145 - val_loss: 0.8145 - val_accuracy: 0.7212\n",
      "Epoch 54/100\n",
      "500/500 [==============================] - 21s 42ms/step - loss: 0.8145 - accuracy: 0.7157 - val_loss: 0.7607 - val_accuracy: 0.7416\n",
      "Epoch 55/100\n",
      "500/500 [==============================] - 21s 42ms/step - loss: 0.8166 - accuracy: 0.7141 - val_loss: 0.7645 - val_accuracy: 0.7384\n",
      "Epoch 56/100\n",
      "500/500 [==============================] - 21s 42ms/step - loss: 0.8154 - accuracy: 0.7163 - val_loss: 0.7974 - val_accuracy: 0.7330\n",
      "Epoch 57/100\n",
      "500/500 [==============================] - 21s 42ms/step - loss: 0.8077 - accuracy: 0.7168 - val_loss: 0.7872 - val_accuracy: 0.7298\n",
      "Epoch 58/100\n",
      "500/500 [==============================] - 21s 42ms/step - loss: 0.8141 - accuracy: 0.7139 - val_loss: 0.7462 - val_accuracy: 0.7438\n",
      "Epoch 59/100\n",
      "500/500 [==============================] - 21s 42ms/step - loss: 0.8167 - accuracy: 0.7153 - val_loss: 0.7890 - val_accuracy: 0.7292\n",
      "Epoch 60/100\n",
      "500/500 [==============================] - 21s 42ms/step - loss: 0.8108 - accuracy: 0.7178 - val_loss: 0.9014 - val_accuracy: 0.7038\n",
      "Epoch 61/100\n",
      "500/500 [==============================] - 21s 43ms/step - loss: 0.8092 - accuracy: 0.7182 - val_loss: 0.7830 - val_accuracy: 0.7314\n",
      "Epoch 62/100\n",
      "500/500 [==============================] - 21s 42ms/step - loss: 0.8057 - accuracy: 0.7178 - val_loss: 0.8165 - val_accuracy: 0.7174\n",
      "Epoch 63/100\n",
      "500/500 [==============================] - 21s 42ms/step - loss: 0.8061 - accuracy: 0.7189 - val_loss: 0.8131 - val_accuracy: 0.7324\n",
      "Epoch 64/100\n",
      "500/500 [==============================] - 21s 42ms/step - loss: 0.8147 - accuracy: 0.7158 - val_loss: 0.7647 - val_accuracy: 0.7404\n",
      "Epoch 65/100\n",
      "500/500 [==============================] - 21s 43ms/step - loss: 0.8094 - accuracy: 0.7186 - val_loss: 0.7854 - val_accuracy: 0.7336\n",
      "Epoch 66/100\n",
      "500/500 [==============================] - 21s 42ms/step - loss: 0.8085 - accuracy: 0.7171 - val_loss: 0.8345 - val_accuracy: 0.7270\n",
      "Epoch 67/100\n",
      "500/500 [==============================] - 21s 42ms/step - loss: 0.8060 - accuracy: 0.7186 - val_loss: 0.7881 - val_accuracy: 0.7272\n",
      "Epoch 68/100\n",
      "500/500 [==============================] - 22s 43ms/step - loss: 0.8076 - accuracy: 0.7170 - val_loss: 0.7762 - val_accuracy: 0.7400\n",
      "Epoch 69/100\n",
      "500/500 [==============================] - 22s 43ms/step - loss: 0.8042 - accuracy: 0.7184 - val_loss: 0.8429 - val_accuracy: 0.7194\n",
      "Epoch 70/100\n",
      "500/500 [==============================] - 21s 43ms/step - loss: 0.8096 - accuracy: 0.7164 - val_loss: 0.8050 - val_accuracy: 0.7298\n",
      "Epoch 71/100\n",
      "500/500 [==============================] - 22s 44ms/step - loss: 0.7987 - accuracy: 0.7173 - val_loss: 0.7480 - val_accuracy: 0.7458\n",
      "Epoch 72/100\n",
      "500/500 [==============================] - 22s 43ms/step - loss: 0.8027 - accuracy: 0.7188 - val_loss: 0.8007 - val_accuracy: 0.7328\n",
      "Epoch 73/100\n",
      "500/500 [==============================] - 22s 43ms/step - loss: 0.8019 - accuracy: 0.7213 - val_loss: 0.8011 - val_accuracy: 0.7284\n",
      "Epoch 74/100\n",
      "500/500 [==============================] - 22s 43ms/step - loss: 0.8001 - accuracy: 0.7190 - val_loss: 0.7939 - val_accuracy: 0.7280\n",
      "Epoch 75/100\n",
      "500/500 [==============================] - 22s 43ms/step - loss: 0.8048 - accuracy: 0.7190 - val_loss: 0.8297 - val_accuracy: 0.7188\n",
      "Epoch 76/100\n",
      "500/500 [==============================] - 22s 43ms/step - loss: 0.8037 - accuracy: 0.7194 - val_loss: 0.8307 - val_accuracy: 0.7172\n",
      "Epoch 77/100\n",
      "500/500 [==============================] - 22s 43ms/step - loss: 0.7986 - accuracy: 0.7234 - val_loss: 0.7973 - val_accuracy: 0.7258\n",
      "Epoch 78/100\n",
      "500/500 [==============================] - 22s 43ms/step - loss: 0.8048 - accuracy: 0.7212 - val_loss: 0.7736 - val_accuracy: 0.7378\n",
      "Epoch 79/100\n",
      "500/500 [==============================] - 22s 44ms/step - loss: 0.8006 - accuracy: 0.7211 - val_loss: 0.8160 - val_accuracy: 0.7226\n",
      "Epoch 80/100\n",
      "500/500 [==============================] - 22s 44ms/step - loss: 0.7980 - accuracy: 0.7200 - val_loss: 0.7840 - val_accuracy: 0.7286\n",
      "Epoch 81/100\n",
      "500/500 [==============================] - 22s 43ms/step - loss: 0.7934 - accuracy: 0.7212 - val_loss: 0.7773 - val_accuracy: 0.7342\n",
      "Epoch 82/100\n",
      "500/500 [==============================] - 22s 43ms/step - loss: 0.7963 - accuracy: 0.7205 - val_loss: 0.7980 - val_accuracy: 0.7334\n",
      "Epoch 83/100\n",
      "500/500 [==============================] - 22s 44ms/step - loss: 0.7957 - accuracy: 0.7209 - val_loss: 0.7746 - val_accuracy: 0.7360\n",
      "Epoch 84/100\n",
      "500/500 [==============================] - 22s 43ms/step - loss: 0.8003 - accuracy: 0.7203 - val_loss: 0.7854 - val_accuracy: 0.7324\n",
      "Epoch 85/100\n",
      "500/500 [==============================] - 22s 44ms/step - loss: 0.7968 - accuracy: 0.7229 - val_loss: 0.7809 - val_accuracy: 0.7368\n",
      "Epoch 86/100\n",
      "500/500 [==============================] - 22s 44ms/step - loss: 0.7954 - accuracy: 0.7216 - val_loss: 0.7942 - val_accuracy: 0.7344\n",
      "Epoch 87/100\n",
      "500/500 [==============================] - 22s 44ms/step - loss: 0.7959 - accuracy: 0.7211 - val_loss: 0.7621 - val_accuracy: 0.7410\n",
      "Epoch 88/100\n",
      "500/500 [==============================] - 22s 44ms/step - loss: 0.7980 - accuracy: 0.7210 - val_loss: 0.8066 - val_accuracy: 0.7268\n",
      "Epoch 89/100\n",
      "500/500 [==============================] - 22s 43ms/step - loss: 0.8006 - accuracy: 0.7224 - val_loss: 0.7783 - val_accuracy: 0.7338\n",
      "Epoch 90/100\n",
      "500/500 [==============================] - 21s 43ms/step - loss: 0.7957 - accuracy: 0.7216 - val_loss: 0.7612 - val_accuracy: 0.7408\n",
      "Epoch 91/100\n",
      "500/500 [==============================] - 22s 44ms/step - loss: 0.7978 - accuracy: 0.7242 - val_loss: 0.8119 - val_accuracy: 0.7266\n",
      "Epoch 92/100\n",
      "500/500 [==============================] - 21s 43ms/step - loss: 0.7921 - accuracy: 0.7229 - val_loss: 0.7510 - val_accuracy: 0.7464\n",
      "Epoch 93/100\n",
      "500/500 [==============================] - 21s 43ms/step - loss: 0.7910 - accuracy: 0.7229 - val_loss: 0.7731 - val_accuracy: 0.7396\n",
      "Epoch 94/100\n",
      "500/500 [==============================] - 21s 43ms/step - loss: 0.7961 - accuracy: 0.7244 - val_loss: 0.8239 - val_accuracy: 0.7180\n",
      "Epoch 95/100\n",
      "500/500 [==============================] - 21s 43ms/step - loss: 0.7975 - accuracy: 0.7210 - val_loss: 0.7963 - val_accuracy: 0.7270\n",
      "Epoch 96/100\n",
      "500/500 [==============================] - 21s 43ms/step - loss: 0.7935 - accuracy: 0.7249 - val_loss: 0.7892 - val_accuracy: 0.7280\n",
      "Epoch 97/100\n",
      "500/500 [==============================] - 22s 43ms/step - loss: 0.7968 - accuracy: 0.7226 - val_loss: 0.7815 - val_accuracy: 0.7328\n",
      "Epoch 98/100\n",
      "500/500 [==============================] - 21s 43ms/step - loss: 0.7912 - accuracy: 0.7223 - val_loss: 0.7794 - val_accuracy: 0.7294\n",
      "Epoch 99/100\n",
      "500/500 [==============================] - 22s 43ms/step - loss: 0.7920 - accuracy: 0.7219 - val_loss: 0.7886 - val_accuracy: 0.7326\n",
      "Epoch 100/100\n",
      "500/500 [==============================] - 21s 43ms/step - loss: 0.7943 - accuracy: 0.7236 - val_loss: 0.7949 - val_accuracy: 0.7310\n"
     ]
    }
   ],
   "source": [
    "# Train the model\n",
    "batch_size = 100\n",
    "steps_per_epoch = X_train.shape[0] / batch_size\n",
    "history = model.fit_generator(train_datagen.flow(X_train_fl, y_train_oh, \n",
    "                                                 batch_size=batch_size), \n",
    "                              epochs=100,\n",
    "                              steps_per_epoch=steps_per_epoch, \n",
    "                              validation_data=(X_val, y_val))"
   ]
  },
  {
   "cell_type": "markdown",
   "metadata": {
    "id": "ZBnVN5aoL_MJ"
   },
   "source": [
    "## 4. Transfer Learning"
   ]
  },
  {
   "cell_type": "code",
   "execution_count": 1,
   "metadata": {
    "executionInfo": {
     "elapsed": 490,
     "status": "ok",
     "timestamp": 1620819610164,
     "user": {
      "displayName": "Rafael López González",
      "photoUrl": "",
      "userId": "01160551345597042094"
     },
     "user_tz": -120
    },
    "id": "VaqBTy80-PfP"
   },
   "outputs": [],
   "source": [
    "# Import dependences for transfer learning\n",
    "from keras.applications import ResNet50\n",
    "from keras.models import Sequential\n",
    "from keras.layers import UpSampling2D\n",
    "from keras.optimizers import RMSprop"
   ]
  },
  {
   "cell_type": "code",
   "execution_count": 15,
   "metadata": {
    "colab": {
     "base_uri": "https://localhost:8080/"
    },
    "executionInfo": {
     "elapsed": 7903,
     "status": "ok",
     "timestamp": 1620819618924,
     "user": {
      "displayName": "Rafael López González",
      "photoUrl": "",
      "userId": "01160551345597042094"
     },
     "user_tz": -120
    },
    "id": "aoz0Dt6SV3QN",
    "outputId": "366c7582-c381-4692-941e-8f2e85fc467c"
   },
   "outputs": [],
   "source": [
    "# Define the model\n",
    "resnet_model = ResNet50(weights='imagenet', include_top=False, \n",
    "                        input_shape=(256, 256, 3))\n",
    "model = Sequential()\n",
    "model.add(UpSampling2D((2,2)))\n",
    "model.add(UpSampling2D((2,2)))\n",
    "model.add(UpSampling2D((2,2)))\n",
    "model.add(resnet_model)\n",
    "model.add(Flatten())\n",
    "model.add(BatchNormalization())\n",
    "model.add(Dense(128, activation='relu'))\n",
    "model.add(Dropout(0.5))\n",
    "model.add(BatchNormalization())\n",
    "model.add(Dense(64, activation='relu'))\n",
    "model.add(Dropout(0.5))\n",
    "model.add(BatchNormalization())\n",
    "model.add(Dense(10, activation='softmax'))"
   ]
  },
  {
   "cell_type": "code",
   "execution_count": 16,
   "metadata": {
    "executionInfo": {
     "elapsed": 611,
     "status": "ok",
     "timestamp": 1620819623022,
     "user": {
      "displayName": "Rafael López González",
      "photoUrl": "",
      "userId": "01160551345597042094"
     },
     "user_tz": -120
    },
    "id": "arWFKw9yZF9k"
   },
   "outputs": [],
   "source": [
    "# Compile the model\n",
    "model.compile(optimizer=RMSprop(lr=2e-5), loss='categorical_crossentropy', \n",
    "              metrics=['acc'])"
   ]
  },
  {
   "cell_type": "code",
   "execution_count": 17,
   "metadata": {
    "colab": {
     "base_uri": "https://localhost:8080/"
    },
    "executionInfo": {
     "elapsed": 3177241,
     "status": "ok",
     "timestamp": 1620822802433,
     "user": {
      "displayName": "Rafael López González",
      "photoUrl": "",
      "userId": "01160551345597042094"
     },
     "user_tz": -120
    },
    "id": "Q4zR1iAiZQbO",
    "outputId": "993c4ad1-46e0-45f1-fcb2-e4e4eb6866fc",
    "scrolled": true
   },
   "outputs": [
    {
     "name": "stdout",
     "output_type": "stream",
     "text": [
      "Epoch 1/5\n"
     ]
    },
    {
     "ename": "ResourceExhaustedError",
     "evalue": " OOM when allocating tensor with shape[50,256,64,64] and type float on /job:localhost/replica:0/task:0/device:GPU:0 by allocator GPU_0_bfc\n\t [[node sequential_1/resnet50/conv2_block1_0_conv/Conv2D (defined at <ipython-input-17-74523cd792f9>:2) ]]\nHint: If you want to see a list of allocated tensors when OOM happens, add report_tensor_allocations_upon_oom to RunOptions for current allocation info.\n [Op:__inference_train_function_21505]\n\nFunction call stack:\ntrain_function\n",
     "output_type": "error",
     "traceback": [
      "\u001b[1;31m---------------------------------------------------------------------------\u001b[0m",
      "\u001b[1;31mResourceExhaustedError\u001b[0m                    Traceback (most recent call last)",
      "\u001b[1;32m<ipython-input-17-74523cd792f9>\u001b[0m in \u001b[0;36m<module>\u001b[1;34m\u001b[0m\n\u001b[0;32m      1\u001b[0m \u001b[1;31m# Train the model\u001b[0m\u001b[1;33m\u001b[0m\u001b[1;33m\u001b[0m\u001b[1;33m\u001b[0m\u001b[0m\n\u001b[1;32m----> 2\u001b[1;33m history = model.fit(X_train_fl, y_train_oh, epochs=5, batch_size=50, \n\u001b[0m\u001b[0;32m      3\u001b[0m                     validation_data=(X_val, y_val))\n",
      "\u001b[1;32mc:\\users\\juanl\\appdata\\local\\programs\\python\\python38\\lib\\site-packages\\tensorflow\\python\\keras\\engine\\training.py\u001b[0m in \u001b[0;36mfit\u001b[1;34m(self, x, y, batch_size, epochs, verbose, callbacks, validation_split, validation_data, shuffle, class_weight, sample_weight, initial_epoch, steps_per_epoch, validation_steps, validation_batch_size, validation_freq, max_queue_size, workers, use_multiprocessing)\u001b[0m\n\u001b[0;32m   1098\u001b[0m                 _r=1):\n\u001b[0;32m   1099\u001b[0m               \u001b[0mcallbacks\u001b[0m\u001b[1;33m.\u001b[0m\u001b[0mon_train_batch_begin\u001b[0m\u001b[1;33m(\u001b[0m\u001b[0mstep\u001b[0m\u001b[1;33m)\u001b[0m\u001b[1;33m\u001b[0m\u001b[1;33m\u001b[0m\u001b[0m\n\u001b[1;32m-> 1100\u001b[1;33m               \u001b[0mtmp_logs\u001b[0m \u001b[1;33m=\u001b[0m \u001b[0mself\u001b[0m\u001b[1;33m.\u001b[0m\u001b[0mtrain_function\u001b[0m\u001b[1;33m(\u001b[0m\u001b[0miterator\u001b[0m\u001b[1;33m)\u001b[0m\u001b[1;33m\u001b[0m\u001b[1;33m\u001b[0m\u001b[0m\n\u001b[0m\u001b[0;32m   1101\u001b[0m               \u001b[1;32mif\u001b[0m \u001b[0mdata_handler\u001b[0m\u001b[1;33m.\u001b[0m\u001b[0mshould_sync\u001b[0m\u001b[1;33m:\u001b[0m\u001b[1;33m\u001b[0m\u001b[1;33m\u001b[0m\u001b[0m\n\u001b[0;32m   1102\u001b[0m                 \u001b[0mcontext\u001b[0m\u001b[1;33m.\u001b[0m\u001b[0masync_wait\u001b[0m\u001b[1;33m(\u001b[0m\u001b[1;33m)\u001b[0m\u001b[1;33m\u001b[0m\u001b[1;33m\u001b[0m\u001b[0m\n",
      "\u001b[1;32mc:\\users\\juanl\\appdata\\local\\programs\\python\\python38\\lib\\site-packages\\tensorflow\\python\\eager\\def_function.py\u001b[0m in \u001b[0;36m__call__\u001b[1;34m(self, *args, **kwds)\u001b[0m\n\u001b[0;32m    826\u001b[0m     \u001b[0mtracing_count\u001b[0m \u001b[1;33m=\u001b[0m \u001b[0mself\u001b[0m\u001b[1;33m.\u001b[0m\u001b[0mexperimental_get_tracing_count\u001b[0m\u001b[1;33m(\u001b[0m\u001b[1;33m)\u001b[0m\u001b[1;33m\u001b[0m\u001b[1;33m\u001b[0m\u001b[0m\n\u001b[0;32m    827\u001b[0m     \u001b[1;32mwith\u001b[0m \u001b[0mtrace\u001b[0m\u001b[1;33m.\u001b[0m\u001b[0mTrace\u001b[0m\u001b[1;33m(\u001b[0m\u001b[0mself\u001b[0m\u001b[1;33m.\u001b[0m\u001b[0m_name\u001b[0m\u001b[1;33m)\u001b[0m \u001b[1;32mas\u001b[0m \u001b[0mtm\u001b[0m\u001b[1;33m:\u001b[0m\u001b[1;33m\u001b[0m\u001b[1;33m\u001b[0m\u001b[0m\n\u001b[1;32m--> 828\u001b[1;33m       \u001b[0mresult\u001b[0m \u001b[1;33m=\u001b[0m \u001b[0mself\u001b[0m\u001b[1;33m.\u001b[0m\u001b[0m_call\u001b[0m\u001b[1;33m(\u001b[0m\u001b[1;33m*\u001b[0m\u001b[0margs\u001b[0m\u001b[1;33m,\u001b[0m \u001b[1;33m**\u001b[0m\u001b[0mkwds\u001b[0m\u001b[1;33m)\u001b[0m\u001b[1;33m\u001b[0m\u001b[1;33m\u001b[0m\u001b[0m\n\u001b[0m\u001b[0;32m    829\u001b[0m       \u001b[0mcompiler\u001b[0m \u001b[1;33m=\u001b[0m \u001b[1;34m\"xla\"\u001b[0m \u001b[1;32mif\u001b[0m \u001b[0mself\u001b[0m\u001b[1;33m.\u001b[0m\u001b[0m_experimental_compile\u001b[0m \u001b[1;32melse\u001b[0m \u001b[1;34m\"nonXla\"\u001b[0m\u001b[1;33m\u001b[0m\u001b[1;33m\u001b[0m\u001b[0m\n\u001b[0;32m    830\u001b[0m       \u001b[0mnew_tracing_count\u001b[0m \u001b[1;33m=\u001b[0m \u001b[0mself\u001b[0m\u001b[1;33m.\u001b[0m\u001b[0mexperimental_get_tracing_count\u001b[0m\u001b[1;33m(\u001b[0m\u001b[1;33m)\u001b[0m\u001b[1;33m\u001b[0m\u001b[1;33m\u001b[0m\u001b[0m\n",
      "\u001b[1;32mc:\\users\\juanl\\appdata\\local\\programs\\python\\python38\\lib\\site-packages\\tensorflow\\python\\eager\\def_function.py\u001b[0m in \u001b[0;36m_call\u001b[1;34m(self, *args, **kwds)\u001b[0m\n\u001b[0;32m    886\u001b[0m         \u001b[1;31m# Lifting succeeded, so variables are initialized and we can run the\u001b[0m\u001b[1;33m\u001b[0m\u001b[1;33m\u001b[0m\u001b[1;33m\u001b[0m\u001b[0m\n\u001b[0;32m    887\u001b[0m         \u001b[1;31m# stateless function.\u001b[0m\u001b[1;33m\u001b[0m\u001b[1;33m\u001b[0m\u001b[1;33m\u001b[0m\u001b[0m\n\u001b[1;32m--> 888\u001b[1;33m         \u001b[1;32mreturn\u001b[0m \u001b[0mself\u001b[0m\u001b[1;33m.\u001b[0m\u001b[0m_stateless_fn\u001b[0m\u001b[1;33m(\u001b[0m\u001b[1;33m*\u001b[0m\u001b[0margs\u001b[0m\u001b[1;33m,\u001b[0m \u001b[1;33m**\u001b[0m\u001b[0mkwds\u001b[0m\u001b[1;33m)\u001b[0m\u001b[1;33m\u001b[0m\u001b[1;33m\u001b[0m\u001b[0m\n\u001b[0m\u001b[0;32m    889\u001b[0m     \u001b[1;32melse\u001b[0m\u001b[1;33m:\u001b[0m\u001b[1;33m\u001b[0m\u001b[1;33m\u001b[0m\u001b[0m\n\u001b[0;32m    890\u001b[0m       \u001b[0m_\u001b[0m\u001b[1;33m,\u001b[0m \u001b[0m_\u001b[0m\u001b[1;33m,\u001b[0m \u001b[0m_\u001b[0m\u001b[1;33m,\u001b[0m \u001b[0mfiltered_flat_args\u001b[0m \u001b[1;33m=\u001b[0m\u001b[0;31m \u001b[0m\u001b[0;31m\\\u001b[0m\u001b[1;33m\u001b[0m\u001b[1;33m\u001b[0m\u001b[0m\n",
      "\u001b[1;32mc:\\users\\juanl\\appdata\\local\\programs\\python\\python38\\lib\\site-packages\\tensorflow\\python\\eager\\function.py\u001b[0m in \u001b[0;36m__call__\u001b[1;34m(self, *args, **kwargs)\u001b[0m\n\u001b[0;32m   2940\u001b[0m       (graph_function,\n\u001b[0;32m   2941\u001b[0m        filtered_flat_args) = self._maybe_define_function(args, kwargs)\n\u001b[1;32m-> 2942\u001b[1;33m     return graph_function._call_flat(\n\u001b[0m\u001b[0;32m   2943\u001b[0m         filtered_flat_args, captured_inputs=graph_function.captured_inputs)  # pylint: disable=protected-access\n\u001b[0;32m   2944\u001b[0m \u001b[1;33m\u001b[0m\u001b[0m\n",
      "\u001b[1;32mc:\\users\\juanl\\appdata\\local\\programs\\python\\python38\\lib\\site-packages\\tensorflow\\python\\eager\\function.py\u001b[0m in \u001b[0;36m_call_flat\u001b[1;34m(self, args, captured_inputs, cancellation_manager)\u001b[0m\n\u001b[0;32m   1916\u001b[0m         and executing_eagerly):\n\u001b[0;32m   1917\u001b[0m       \u001b[1;31m# No tape is watching; skip to running the function.\u001b[0m\u001b[1;33m\u001b[0m\u001b[1;33m\u001b[0m\u001b[1;33m\u001b[0m\u001b[0m\n\u001b[1;32m-> 1918\u001b[1;33m       return self._build_call_outputs(self._inference_function.call(\n\u001b[0m\u001b[0;32m   1919\u001b[0m           ctx, args, cancellation_manager=cancellation_manager))\n\u001b[0;32m   1920\u001b[0m     forward_backward = self._select_forward_and_backward_functions(\n",
      "\u001b[1;32mc:\\users\\juanl\\appdata\\local\\programs\\python\\python38\\lib\\site-packages\\tensorflow\\python\\eager\\function.py\u001b[0m in \u001b[0;36mcall\u001b[1;34m(self, ctx, args, cancellation_manager)\u001b[0m\n\u001b[0;32m    553\u001b[0m       \u001b[1;32mwith\u001b[0m \u001b[0m_InterpolateFunctionError\u001b[0m\u001b[1;33m(\u001b[0m\u001b[0mself\u001b[0m\u001b[1;33m)\u001b[0m\u001b[1;33m:\u001b[0m\u001b[1;33m\u001b[0m\u001b[1;33m\u001b[0m\u001b[0m\n\u001b[0;32m    554\u001b[0m         \u001b[1;32mif\u001b[0m \u001b[0mcancellation_manager\u001b[0m \u001b[1;32mis\u001b[0m \u001b[1;32mNone\u001b[0m\u001b[1;33m:\u001b[0m\u001b[1;33m\u001b[0m\u001b[1;33m\u001b[0m\u001b[0m\n\u001b[1;32m--> 555\u001b[1;33m           outputs = execute.execute(\n\u001b[0m\u001b[0;32m    556\u001b[0m               \u001b[0mstr\u001b[0m\u001b[1;33m(\u001b[0m\u001b[0mself\u001b[0m\u001b[1;33m.\u001b[0m\u001b[0msignature\u001b[0m\u001b[1;33m.\u001b[0m\u001b[0mname\u001b[0m\u001b[1;33m)\u001b[0m\u001b[1;33m,\u001b[0m\u001b[1;33m\u001b[0m\u001b[1;33m\u001b[0m\u001b[0m\n\u001b[0;32m    557\u001b[0m               \u001b[0mnum_outputs\u001b[0m\u001b[1;33m=\u001b[0m\u001b[0mself\u001b[0m\u001b[1;33m.\u001b[0m\u001b[0m_num_outputs\u001b[0m\u001b[1;33m,\u001b[0m\u001b[1;33m\u001b[0m\u001b[1;33m\u001b[0m\u001b[0m\n",
      "\u001b[1;32mc:\\users\\juanl\\appdata\\local\\programs\\python\\python38\\lib\\site-packages\\tensorflow\\python\\eager\\execute.py\u001b[0m in \u001b[0;36mquick_execute\u001b[1;34m(op_name, num_outputs, inputs, attrs, ctx, name)\u001b[0m\n\u001b[0;32m     57\u001b[0m   \u001b[1;32mtry\u001b[0m\u001b[1;33m:\u001b[0m\u001b[1;33m\u001b[0m\u001b[1;33m\u001b[0m\u001b[0m\n\u001b[0;32m     58\u001b[0m     \u001b[0mctx\u001b[0m\u001b[1;33m.\u001b[0m\u001b[0mensure_initialized\u001b[0m\u001b[1;33m(\u001b[0m\u001b[1;33m)\u001b[0m\u001b[1;33m\u001b[0m\u001b[1;33m\u001b[0m\u001b[0m\n\u001b[1;32m---> 59\u001b[1;33m     tensors = pywrap_tfe.TFE_Py_Execute(ctx._handle, device_name, op_name,\n\u001b[0m\u001b[0;32m     60\u001b[0m                                         inputs, attrs, num_outputs)\n\u001b[0;32m     61\u001b[0m   \u001b[1;32mexcept\u001b[0m \u001b[0mcore\u001b[0m\u001b[1;33m.\u001b[0m\u001b[0m_NotOkStatusException\u001b[0m \u001b[1;32mas\u001b[0m \u001b[0me\u001b[0m\u001b[1;33m:\u001b[0m\u001b[1;33m\u001b[0m\u001b[1;33m\u001b[0m\u001b[0m\n",
      "\u001b[1;31mResourceExhaustedError\u001b[0m:  OOM when allocating tensor with shape[50,256,64,64] and type float on /job:localhost/replica:0/task:0/device:GPU:0 by allocator GPU_0_bfc\n\t [[node sequential_1/resnet50/conv2_block1_0_conv/Conv2D (defined at <ipython-input-17-74523cd792f9>:2) ]]\nHint: If you want to see a list of allocated tensors when OOM happens, add report_tensor_allocations_upon_oom to RunOptions for current allocation info.\n [Op:__inference_train_function_21505]\n\nFunction call stack:\ntrain_function\n"
     ]
    }
   ],
   "source": [
    "# Train the model\n",
    "history = model.fit(X_train_fl, y_train_oh, epochs=5, batch_size=50, \n",
    "                    validation_data=(X_val, y_val))"
   ]
  },
  {
   "cell_type": "code",
   "execution_count": 20,
   "metadata": {
    "colab": {
     "base_uri": "https://localhost:8080/"
    },
    "executionInfo": {
     "elapsed": 3671871,
     "status": "ok",
     "timestamp": 1620826603214,
     "user": {
      "displayName": "Rafael López González",
      "photoUrl": "",
      "userId": "01160551345597042094"
     },
     "user_tz": -120
    },
    "id": "zp2NFx0MiXPz",
    "outputId": "bb8fd854-33c0-4a08-9ae7-89662201f46c",
    "scrolled": true
   },
   "outputs": [
    {
     "name": "stderr",
     "output_type": "stream",
     "text": [
      "/usr/local/lib/python3.7/dist-packages/tensorflow/python/keras/engine/training.py:1844: UserWarning: `Model.fit_generator` is deprecated and will be removed in a future version. Please use `Model.fit`, which supports generators.\n",
      "  warnings.warn('`Model.fit_generator` is deprecated and '\n"
     ]
    },
    {
     "name": "stdout",
     "output_type": "stream",
     "text": [
      "Epoch 1/5\n",
      "2500/2500 [==============================] - 742s 293ms/step - loss: 0.5687 - acc: 0.8554 - val_loss: 0.2378 - val_acc: 0.9338\n",
      "Epoch 2/5\n",
      "2500/2500 [==============================] - 731s 292ms/step - loss: 0.4999 - acc: 0.8745 - val_loss: 0.2294 - val_acc: 0.9340\n",
      "Epoch 3/5\n",
      "2500/2500 [==============================] - 732s 293ms/step - loss: 0.4551 - acc: 0.8867 - val_loss: 0.2056 - val_acc: 0.9438\n",
      "Epoch 4/5\n",
      "2500/2500 [==============================] - 733s 293ms/step - loss: 0.4077 - acc: 0.8989 - val_loss: 0.2058 - val_acc: 0.9426\n",
      "Epoch 5/5\n",
      "2500/2500 [==============================] - 733s 293ms/step - loss: 0.3646 - acc: 0.9106 - val_loss: 0.1697 - val_acc: 0.9480\n"
     ]
    }
   ],
   "source": [
    "# Train the model\n",
    "batch_size = 20\n",
    "steps_per_epoch = X_train.shape[0] / batch_size\n",
    "history = model.fit_generator(train_datagen.flow(X_train_fl, y_train_oh, \n",
    "                                                 batch_size=batch_size), \n",
    "                              epochs=5,\n",
    "                              steps_per_epoch=steps_per_epoch, \n",
    "                              validation_data=(X_val, y_val))"
   ]
  },
  {
   "cell_type": "markdown",
   "metadata": {
    "id": "L9_3YAJta7x0"
   },
   "source": [
    "# Exercise 1: Experiment with other pre-trained models to evaluate results"
   ]
  },
  {
   "cell_type": "code",
   "execution_count": null,
   "metadata": {
    "id": "t2ZhdVS-iNOA"
   },
   "outputs": [],
   "source": []
  },
  {
   "cell_type": "markdown",
   "metadata": {
    "id": "-CLwgtnlbKds"
   },
   "source": [
    "# Exercise 2: Use the concepts learnt to train a classifier for CIFAR100 dataset"
   ]
  },
  {
   "cell_type": "code",
   "execution_count": 18,
   "metadata": {
    "id": "2bWDRvYuPGE1"
   },
   "outputs": [],
   "source": [
    "from keras.datasets import cifar100"
   ]
  },
  {
   "cell_type": "code",
   "execution_count": 19,
   "metadata": {},
   "outputs": [
    {
     "name": "stdout",
     "output_type": "stream",
     "text": [
      "Downloading data from https://www.cs.toronto.edu/~kriz/cifar-100-python.tar.gz\n",
      "169009152/169001437 [==============================] - 57s 0us/step\n"
     ]
    }
   ],
   "source": [
    "(X_train, y_train), (X_testval, y_testval) = cifar100.load_data()"
   ]
  },
  {
   "cell_type": "code",
   "execution_count": 20,
   "metadata": {},
   "outputs": [],
   "source": [
    "# Change the range of pixels from [0 255] to [0 1]\n",
    "X_train_fl = X_train.astype('float32')\n",
    "X_testval_fl = X_testval.astype('float32')\n",
    "X_train_fl /= 255\n",
    "X_testval_fl /= 255"
   ]
  },
  {
   "cell_type": "code",
   "execution_count": 21,
   "metadata": {},
   "outputs": [],
   "source": [
    "# One-hot encoding of labels\n",
    "onehot_enc = OneHotEncoder()\n",
    "y_train_oh = onehot_enc.fit_transform(y_train.reshape(X_train.shape[0], 1)).toarray()\n",
    "y_testval_oh = onehot_enc.fit_transform(y_testval.reshape(X_testval.shape[0], 1)).toarray()"
   ]
  },
  {
   "cell_type": "code",
   "execution_count": 22,
   "metadata": {},
   "outputs": [
    {
     "name": "stdout",
     "output_type": "stream",
     "text": [
      "Training one-hot encoded labels shape: (50000, 100)\n",
      "Testing one-hot encoded labels shape: (10000, 100)\n"
     ]
    }
   ],
   "source": [
    "# Show one-hot encoded labels shape\n",
    "print(\"Training one-hot encoded labels shape:\", y_train_oh.shape)\n",
    "print(\"Testing one-hot encoded labels shape:\", y_testval_oh.shape)"
   ]
  },
  {
   "cell_type": "code",
   "execution_count": 23,
   "metadata": {},
   "outputs": [],
   "source": [
    "# Divide testval in test and validation partitions\n",
    "samples_test_nb = int(X_testval.shape[0]/2)\n",
    "X_val = X_testval_fl[:samples_test_nb]\n",
    "y_val = y_testval_oh[:samples_test_nb]\n",
    "X_test = X_testval_fl[samples_test_nb:]\n",
    "y_test = y_testval_oh[samples_test_nb:]"
   ]
  },
  {
   "cell_type": "code",
   "execution_count": 24,
   "metadata": {},
   "outputs": [
    {
     "name": "stdout",
     "output_type": "stream",
     "text": [
      "Validation matrix shape: (5000, 32, 32, 3)\n",
      "Testing matrix shape: (5000, 32, 32, 3)\n"
     ]
    }
   ],
   "source": [
    "# Show shapes of test and validation partitions\n",
    "print(\"Validation matrix shape:\", X_val.shape)\n",
    "print(\"Testing matrix shape:\", X_test.shape)"
   ]
  },
  {
   "cell_type": "code",
   "execution_count": 25,
   "metadata": {},
   "outputs": [],
   "source": [
    "from keras.applications import DenseNet121"
   ]
  },
  {
   "cell_type": "code",
   "execution_count": 29,
   "metadata": {},
   "outputs": [],
   "source": [
    "# Define the model\n",
    "densenet_model = DenseNet121(weights='imagenet', include_top=False, \n",
    "                        input_shape=(256, 256, 3))\n",
    "model = Sequential()\n",
    "model.add(UpSampling2D((2,2)))\n",
    "model.add(UpSampling2D((2,2)))\n",
    "model.add(UpSampling2D((2,2)))\n",
    "model.add(densenet_model)\n",
    "model.add(Flatten())\n",
    "model.add(BatchNormalization())\n",
    "model.add(Dense(128, activation='relu'))\n",
    "model.add(Dropout(0.5))\n",
    "model.add(BatchNormalization())\n",
    "model.add(Dense(64, activation='relu'))\n",
    "model.add(Dropout(0.5))\n",
    "model.add(BatchNormalization())\n",
    "model.add(Dense(100, activation='softmax'))"
   ]
  },
  {
   "cell_type": "code",
   "execution_count": 30,
   "metadata": {},
   "outputs": [],
   "source": [
    "# Compile the model\n",
    "model.compile(optimizer=RMSprop(lr=2e-5), loss='categorical_crossentropy', \n",
    "              metrics=['acc'])"
   ]
  },
  {
   "cell_type": "code",
   "execution_count": 31,
   "metadata": {},
   "outputs": [
    {
     "name": "stdout",
     "output_type": "stream",
     "text": [
      "Epoch 1/5\n"
     ]
    },
    {
     "ename": "ResourceExhaustedError",
     "evalue": " OOM when allocating tensor with shape[3200,130,130] and type float on /job:localhost/replica:0/task:0/device:GPU:0 by allocator GPU_0_bfc\n\t [[node sequential_3/densenet121/zero_padding2d_3/Pad (defined at <ipython-input-31-74523cd792f9>:2) ]]\nHint: If you want to see a list of allocated tensors when OOM happens, add report_tensor_allocations_upon_oom to RunOptions for current allocation info.\n [Op:__inference_train_function_67276]\n\nFunction call stack:\ntrain_function\n",
     "output_type": "error",
     "traceback": [
      "\u001b[1;31m---------------------------------------------------------------------------\u001b[0m",
      "\u001b[1;31mResourceExhaustedError\u001b[0m                    Traceback (most recent call last)",
      "\u001b[1;32m<ipython-input-31-74523cd792f9>\u001b[0m in \u001b[0;36m<module>\u001b[1;34m\u001b[0m\n\u001b[0;32m      1\u001b[0m \u001b[1;31m# Train the model\u001b[0m\u001b[1;33m\u001b[0m\u001b[1;33m\u001b[0m\u001b[1;33m\u001b[0m\u001b[0m\n\u001b[1;32m----> 2\u001b[1;33m history = model.fit(X_train_fl, y_train_oh, epochs=5, batch_size=50, \n\u001b[0m\u001b[0;32m      3\u001b[0m                     validation_data=(X_val, y_val))\n",
      "\u001b[1;32mc:\\users\\juanl\\appdata\\local\\programs\\python\\python38\\lib\\site-packages\\tensorflow\\python\\keras\\engine\\training.py\u001b[0m in \u001b[0;36mfit\u001b[1;34m(self, x, y, batch_size, epochs, verbose, callbacks, validation_split, validation_data, shuffle, class_weight, sample_weight, initial_epoch, steps_per_epoch, validation_steps, validation_batch_size, validation_freq, max_queue_size, workers, use_multiprocessing)\u001b[0m\n\u001b[0;32m   1098\u001b[0m                 _r=1):\n\u001b[0;32m   1099\u001b[0m               \u001b[0mcallbacks\u001b[0m\u001b[1;33m.\u001b[0m\u001b[0mon_train_batch_begin\u001b[0m\u001b[1;33m(\u001b[0m\u001b[0mstep\u001b[0m\u001b[1;33m)\u001b[0m\u001b[1;33m\u001b[0m\u001b[1;33m\u001b[0m\u001b[0m\n\u001b[1;32m-> 1100\u001b[1;33m               \u001b[0mtmp_logs\u001b[0m \u001b[1;33m=\u001b[0m \u001b[0mself\u001b[0m\u001b[1;33m.\u001b[0m\u001b[0mtrain_function\u001b[0m\u001b[1;33m(\u001b[0m\u001b[0miterator\u001b[0m\u001b[1;33m)\u001b[0m\u001b[1;33m\u001b[0m\u001b[1;33m\u001b[0m\u001b[0m\n\u001b[0m\u001b[0;32m   1101\u001b[0m               \u001b[1;32mif\u001b[0m \u001b[0mdata_handler\u001b[0m\u001b[1;33m.\u001b[0m\u001b[0mshould_sync\u001b[0m\u001b[1;33m:\u001b[0m\u001b[1;33m\u001b[0m\u001b[1;33m\u001b[0m\u001b[0m\n\u001b[0;32m   1102\u001b[0m                 \u001b[0mcontext\u001b[0m\u001b[1;33m.\u001b[0m\u001b[0masync_wait\u001b[0m\u001b[1;33m(\u001b[0m\u001b[1;33m)\u001b[0m\u001b[1;33m\u001b[0m\u001b[1;33m\u001b[0m\u001b[0m\n",
      "\u001b[1;32mc:\\users\\juanl\\appdata\\local\\programs\\python\\python38\\lib\\site-packages\\tensorflow\\python\\eager\\def_function.py\u001b[0m in \u001b[0;36m__call__\u001b[1;34m(self, *args, **kwds)\u001b[0m\n\u001b[0;32m    826\u001b[0m     \u001b[0mtracing_count\u001b[0m \u001b[1;33m=\u001b[0m \u001b[0mself\u001b[0m\u001b[1;33m.\u001b[0m\u001b[0mexperimental_get_tracing_count\u001b[0m\u001b[1;33m(\u001b[0m\u001b[1;33m)\u001b[0m\u001b[1;33m\u001b[0m\u001b[1;33m\u001b[0m\u001b[0m\n\u001b[0;32m    827\u001b[0m     \u001b[1;32mwith\u001b[0m \u001b[0mtrace\u001b[0m\u001b[1;33m.\u001b[0m\u001b[0mTrace\u001b[0m\u001b[1;33m(\u001b[0m\u001b[0mself\u001b[0m\u001b[1;33m.\u001b[0m\u001b[0m_name\u001b[0m\u001b[1;33m)\u001b[0m \u001b[1;32mas\u001b[0m \u001b[0mtm\u001b[0m\u001b[1;33m:\u001b[0m\u001b[1;33m\u001b[0m\u001b[1;33m\u001b[0m\u001b[0m\n\u001b[1;32m--> 828\u001b[1;33m       \u001b[0mresult\u001b[0m \u001b[1;33m=\u001b[0m \u001b[0mself\u001b[0m\u001b[1;33m.\u001b[0m\u001b[0m_call\u001b[0m\u001b[1;33m(\u001b[0m\u001b[1;33m*\u001b[0m\u001b[0margs\u001b[0m\u001b[1;33m,\u001b[0m \u001b[1;33m**\u001b[0m\u001b[0mkwds\u001b[0m\u001b[1;33m)\u001b[0m\u001b[1;33m\u001b[0m\u001b[1;33m\u001b[0m\u001b[0m\n\u001b[0m\u001b[0;32m    829\u001b[0m       \u001b[0mcompiler\u001b[0m \u001b[1;33m=\u001b[0m \u001b[1;34m\"xla\"\u001b[0m \u001b[1;32mif\u001b[0m \u001b[0mself\u001b[0m\u001b[1;33m.\u001b[0m\u001b[0m_experimental_compile\u001b[0m \u001b[1;32melse\u001b[0m \u001b[1;34m\"nonXla\"\u001b[0m\u001b[1;33m\u001b[0m\u001b[1;33m\u001b[0m\u001b[0m\n\u001b[0;32m    830\u001b[0m       \u001b[0mnew_tracing_count\u001b[0m \u001b[1;33m=\u001b[0m \u001b[0mself\u001b[0m\u001b[1;33m.\u001b[0m\u001b[0mexperimental_get_tracing_count\u001b[0m\u001b[1;33m(\u001b[0m\u001b[1;33m)\u001b[0m\u001b[1;33m\u001b[0m\u001b[1;33m\u001b[0m\u001b[0m\n",
      "\u001b[1;32mc:\\users\\juanl\\appdata\\local\\programs\\python\\python38\\lib\\site-packages\\tensorflow\\python\\eager\\def_function.py\u001b[0m in \u001b[0;36m_call\u001b[1;34m(self, *args, **kwds)\u001b[0m\n\u001b[0;32m    886\u001b[0m         \u001b[1;31m# Lifting succeeded, so variables are initialized and we can run the\u001b[0m\u001b[1;33m\u001b[0m\u001b[1;33m\u001b[0m\u001b[1;33m\u001b[0m\u001b[0m\n\u001b[0;32m    887\u001b[0m         \u001b[1;31m# stateless function.\u001b[0m\u001b[1;33m\u001b[0m\u001b[1;33m\u001b[0m\u001b[1;33m\u001b[0m\u001b[0m\n\u001b[1;32m--> 888\u001b[1;33m         \u001b[1;32mreturn\u001b[0m \u001b[0mself\u001b[0m\u001b[1;33m.\u001b[0m\u001b[0m_stateless_fn\u001b[0m\u001b[1;33m(\u001b[0m\u001b[1;33m*\u001b[0m\u001b[0margs\u001b[0m\u001b[1;33m,\u001b[0m \u001b[1;33m**\u001b[0m\u001b[0mkwds\u001b[0m\u001b[1;33m)\u001b[0m\u001b[1;33m\u001b[0m\u001b[1;33m\u001b[0m\u001b[0m\n\u001b[0m\u001b[0;32m    889\u001b[0m     \u001b[1;32melse\u001b[0m\u001b[1;33m:\u001b[0m\u001b[1;33m\u001b[0m\u001b[1;33m\u001b[0m\u001b[0m\n\u001b[0;32m    890\u001b[0m       \u001b[0m_\u001b[0m\u001b[1;33m,\u001b[0m \u001b[0m_\u001b[0m\u001b[1;33m,\u001b[0m \u001b[0m_\u001b[0m\u001b[1;33m,\u001b[0m \u001b[0mfiltered_flat_args\u001b[0m \u001b[1;33m=\u001b[0m\u001b[0;31m \u001b[0m\u001b[0;31m\\\u001b[0m\u001b[1;33m\u001b[0m\u001b[1;33m\u001b[0m\u001b[0m\n",
      "\u001b[1;32mc:\\users\\juanl\\appdata\\local\\programs\\python\\python38\\lib\\site-packages\\tensorflow\\python\\eager\\function.py\u001b[0m in \u001b[0;36m__call__\u001b[1;34m(self, *args, **kwargs)\u001b[0m\n\u001b[0;32m   2940\u001b[0m       (graph_function,\n\u001b[0;32m   2941\u001b[0m        filtered_flat_args) = self._maybe_define_function(args, kwargs)\n\u001b[1;32m-> 2942\u001b[1;33m     return graph_function._call_flat(\n\u001b[0m\u001b[0;32m   2943\u001b[0m         filtered_flat_args, captured_inputs=graph_function.captured_inputs)  # pylint: disable=protected-access\n\u001b[0;32m   2944\u001b[0m \u001b[1;33m\u001b[0m\u001b[0m\n",
      "\u001b[1;32mc:\\users\\juanl\\appdata\\local\\programs\\python\\python38\\lib\\site-packages\\tensorflow\\python\\eager\\function.py\u001b[0m in \u001b[0;36m_call_flat\u001b[1;34m(self, args, captured_inputs, cancellation_manager)\u001b[0m\n\u001b[0;32m   1916\u001b[0m         and executing_eagerly):\n\u001b[0;32m   1917\u001b[0m       \u001b[1;31m# No tape is watching; skip to running the function.\u001b[0m\u001b[1;33m\u001b[0m\u001b[1;33m\u001b[0m\u001b[1;33m\u001b[0m\u001b[0m\n\u001b[1;32m-> 1918\u001b[1;33m       return self._build_call_outputs(self._inference_function.call(\n\u001b[0m\u001b[0;32m   1919\u001b[0m           ctx, args, cancellation_manager=cancellation_manager))\n\u001b[0;32m   1920\u001b[0m     forward_backward = self._select_forward_and_backward_functions(\n",
      "\u001b[1;32mc:\\users\\juanl\\appdata\\local\\programs\\python\\python38\\lib\\site-packages\\tensorflow\\python\\eager\\function.py\u001b[0m in \u001b[0;36mcall\u001b[1;34m(self, ctx, args, cancellation_manager)\u001b[0m\n\u001b[0;32m    553\u001b[0m       \u001b[1;32mwith\u001b[0m \u001b[0m_InterpolateFunctionError\u001b[0m\u001b[1;33m(\u001b[0m\u001b[0mself\u001b[0m\u001b[1;33m)\u001b[0m\u001b[1;33m:\u001b[0m\u001b[1;33m\u001b[0m\u001b[1;33m\u001b[0m\u001b[0m\n\u001b[0;32m    554\u001b[0m         \u001b[1;32mif\u001b[0m \u001b[0mcancellation_manager\u001b[0m \u001b[1;32mis\u001b[0m \u001b[1;32mNone\u001b[0m\u001b[1;33m:\u001b[0m\u001b[1;33m\u001b[0m\u001b[1;33m\u001b[0m\u001b[0m\n\u001b[1;32m--> 555\u001b[1;33m           outputs = execute.execute(\n\u001b[0m\u001b[0;32m    556\u001b[0m               \u001b[0mstr\u001b[0m\u001b[1;33m(\u001b[0m\u001b[0mself\u001b[0m\u001b[1;33m.\u001b[0m\u001b[0msignature\u001b[0m\u001b[1;33m.\u001b[0m\u001b[0mname\u001b[0m\u001b[1;33m)\u001b[0m\u001b[1;33m,\u001b[0m\u001b[1;33m\u001b[0m\u001b[1;33m\u001b[0m\u001b[0m\n\u001b[0;32m    557\u001b[0m               \u001b[0mnum_outputs\u001b[0m\u001b[1;33m=\u001b[0m\u001b[0mself\u001b[0m\u001b[1;33m.\u001b[0m\u001b[0m_num_outputs\u001b[0m\u001b[1;33m,\u001b[0m\u001b[1;33m\u001b[0m\u001b[1;33m\u001b[0m\u001b[0m\n",
      "\u001b[1;32mc:\\users\\juanl\\appdata\\local\\programs\\python\\python38\\lib\\site-packages\\tensorflow\\python\\eager\\execute.py\u001b[0m in \u001b[0;36mquick_execute\u001b[1;34m(op_name, num_outputs, inputs, attrs, ctx, name)\u001b[0m\n\u001b[0;32m     57\u001b[0m   \u001b[1;32mtry\u001b[0m\u001b[1;33m:\u001b[0m\u001b[1;33m\u001b[0m\u001b[1;33m\u001b[0m\u001b[0m\n\u001b[0;32m     58\u001b[0m     \u001b[0mctx\u001b[0m\u001b[1;33m.\u001b[0m\u001b[0mensure_initialized\u001b[0m\u001b[1;33m(\u001b[0m\u001b[1;33m)\u001b[0m\u001b[1;33m\u001b[0m\u001b[1;33m\u001b[0m\u001b[0m\n\u001b[1;32m---> 59\u001b[1;33m     tensors = pywrap_tfe.TFE_Py_Execute(ctx._handle, device_name, op_name,\n\u001b[0m\u001b[0;32m     60\u001b[0m                                         inputs, attrs, num_outputs)\n\u001b[0;32m     61\u001b[0m   \u001b[1;32mexcept\u001b[0m \u001b[0mcore\u001b[0m\u001b[1;33m.\u001b[0m\u001b[0m_NotOkStatusException\u001b[0m \u001b[1;32mas\u001b[0m \u001b[0me\u001b[0m\u001b[1;33m:\u001b[0m\u001b[1;33m\u001b[0m\u001b[1;33m\u001b[0m\u001b[0m\n",
      "\u001b[1;31mResourceExhaustedError\u001b[0m:  OOM when allocating tensor with shape[3200,130,130] and type float on /job:localhost/replica:0/task:0/device:GPU:0 by allocator GPU_0_bfc\n\t [[node sequential_3/densenet121/zero_padding2d_3/Pad (defined at <ipython-input-31-74523cd792f9>:2) ]]\nHint: If you want to see a list of allocated tensors when OOM happens, add report_tensor_allocations_upon_oom to RunOptions for current allocation info.\n [Op:__inference_train_function_67276]\n\nFunction call stack:\ntrain_function\n"
     ]
    }
   ],
   "source": [
    "# Train the model\n",
    "history = model.fit(X_train_fl, y_train_oh, epochs=5, batch_size=50, \n",
    "                    validation_data=(X_val, y_val))"
   ]
  },
  {
   "cell_type": "code",
   "execution_count": null,
   "metadata": {},
   "outputs": [],
   "source": []
  }
 ],
 "metadata": {
  "accelerator": "GPU",
  "colab": {
   "authorship_tag": "ABX9TyN0XMQ8O0sOzbioTc3ydwS0",
   "collapsed_sections": [],
   "name": "Workshop 3.ipynb",
   "provenance": []
  },
  "kernelspec": {
   "display_name": "Python 3",
   "language": "python",
   "name": "python3"
  },
  "language_info": {
   "codemirror_mode": {
    "name": "ipython",
    "version": 3
   },
   "file_extension": ".py",
   "mimetype": "text/x-python",
   "name": "python",
   "nbconvert_exporter": "python",
   "pygments_lexer": "ipython3",
   "version": "3.8.8"
  }
 },
 "nbformat": 4,
 "nbformat_minor": 1
}
